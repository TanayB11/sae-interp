{
 "cells": [
  {
   "cell_type": "code",
   "execution_count": 24,
   "metadata": {},
   "outputs": [],
   "source": [
    "import torch\n",
    "from bottleneck_models import Bottleneck_Model, gen_artificial_data, train_bottleneck_model, plot_learned_features\n",
    "from sae import Config, SAE, train_sae"
   ]
  },
  {
   "cell_type": "code",
   "execution_count": 25,
   "metadata": {},
   "outputs": [],
   "source": [
    "cfg = Config()\n",
    "device = cfg.device"
   ]
  },
  {
   "cell_type": "code",
   "execution_count": 26,
   "metadata": {},
   "outputs": [
    {
     "name": "stderr",
     "output_type": "stream",
     "text": [
      "100%|██████████| 10000/10000 [00:31<00:00, 315.56it/s, loss=2.21e-5]\n"
     ]
    },
    {
     "data": {
      "application/vnd.plotly.v1+json": {
       "config": {
        "plotlyServerURL": "https://plot.ly"
       },
       "data": [
        {
         "line": {
          "color": "rgb(230, 172, 255.0)"
         },
         "marker": {
          "color": "rgb(230, 172, 255.0)",
          "size": 10
         },
         "mode": "lines+markers",
         "type": "scatter",
         "x": [
          0,
          -0.8844913244247437
         ],
         "xaxis": "x",
         "y": [
          0,
          -0.7547044157981873
         ],
         "yaxis": "y"
        },
        {
         "line": {
          "color": "rgb(230, 172, 229.5)"
         },
         "marker": {
          "color": "rgb(230, 172, 229.5)",
          "size": 10
         },
         "mode": "lines+markers",
         "type": "scatter",
         "x": [
          0,
          1.161191463470459
         ],
         "xaxis": "x",
         "y": [
          0,
          0.1013263687491417
         ],
         "yaxis": "y"
        },
        {
         "line": {
          "color": "rgb(230, 172, 206.54998779296875)"
         },
         "marker": {
          "color": "rgb(230, 172, 206.54998779296875)",
          "size": 10
         },
         "mode": "lines+markers",
         "type": "scatter",
         "x": [
          0,
          -0.9835659265518188
         ],
         "xaxis": "x",
         "y": [
          0,
          0.6167580485343933
         ],
         "yaxis": "y"
        },
        {
         "line": {
          "color": "rgb(230, 172, 185.8949737548828)"
         },
         "marker": {
          "color": "rgb(230, 172, 185.8949737548828)",
          "size": 10
         },
         "mode": "lines+markers",
         "type": "scatter",
         "x": [
          0,
          0.4493294060230255
         ],
         "xaxis": "x",
         "y": [
          0,
          -1.0630922317504883
         ],
         "yaxis": "y"
        },
        {
         "line": {
          "color": "rgb(230, 172, 167.30548095703125)"
         },
         "marker": {
          "color": "rgb(230, 172, 167.30548095703125)",
          "size": 10
         },
         "mode": "lines+markers",
         "type": "scatter",
         "x": [
          0,
          0.2688254714012146
         ],
         "xaxis": "x",
         "y": [
          0,
          1.123003363609314
         ],
         "yaxis": "y"
        }
       ],
       "layout": {
        "annotations": [
         {
          "font": {
           "size": 16
          },
          "showarrow": false,
          "text": "feat. prob. = 0.010",
          "x": 0.5,
          "xanchor": "center",
          "xref": "paper",
          "y": 1,
          "yanchor": "bottom",
          "yref": "paper"
         }
        ],
        "height": 400,
        "template": {
         "data": {
          "bar": [
           {
            "error_x": {
             "color": "#2a3f5f"
            },
            "error_y": {
             "color": "#2a3f5f"
            },
            "marker": {
             "line": {
              "color": "#E5ECF6",
              "width": 0.5
             },
             "pattern": {
              "fillmode": "overlay",
              "size": 10,
              "solidity": 0.2
             }
            },
            "type": "bar"
           }
          ],
          "barpolar": [
           {
            "marker": {
             "line": {
              "color": "#E5ECF6",
              "width": 0.5
             },
             "pattern": {
              "fillmode": "overlay",
              "size": 10,
              "solidity": 0.2
             }
            },
            "type": "barpolar"
           }
          ],
          "carpet": [
           {
            "aaxis": {
             "endlinecolor": "#2a3f5f",
             "gridcolor": "white",
             "linecolor": "white",
             "minorgridcolor": "white",
             "startlinecolor": "#2a3f5f"
            },
            "baxis": {
             "endlinecolor": "#2a3f5f",
             "gridcolor": "white",
             "linecolor": "white",
             "minorgridcolor": "white",
             "startlinecolor": "#2a3f5f"
            },
            "type": "carpet"
           }
          ],
          "choropleth": [
           {
            "colorbar": {
             "outlinewidth": 0,
             "ticks": ""
            },
            "type": "choropleth"
           }
          ],
          "contour": [
           {
            "colorbar": {
             "outlinewidth": 0,
             "ticks": ""
            },
            "colorscale": [
             [
              0,
              "#0d0887"
             ],
             [
              0.1111111111111111,
              "#46039f"
             ],
             [
              0.2222222222222222,
              "#7201a8"
             ],
             [
              0.3333333333333333,
              "#9c179e"
             ],
             [
              0.4444444444444444,
              "#bd3786"
             ],
             [
              0.5555555555555556,
              "#d8576b"
             ],
             [
              0.6666666666666666,
              "#ed7953"
             ],
             [
              0.7777777777777778,
              "#fb9f3a"
             ],
             [
              0.8888888888888888,
              "#fdca26"
             ],
             [
              1,
              "#f0f921"
             ]
            ],
            "type": "contour"
           }
          ],
          "contourcarpet": [
           {
            "colorbar": {
             "outlinewidth": 0,
             "ticks": ""
            },
            "type": "contourcarpet"
           }
          ],
          "heatmap": [
           {
            "colorbar": {
             "outlinewidth": 0,
             "ticks": ""
            },
            "colorscale": [
             [
              0,
              "#0d0887"
             ],
             [
              0.1111111111111111,
              "#46039f"
             ],
             [
              0.2222222222222222,
              "#7201a8"
             ],
             [
              0.3333333333333333,
              "#9c179e"
             ],
             [
              0.4444444444444444,
              "#bd3786"
             ],
             [
              0.5555555555555556,
              "#d8576b"
             ],
             [
              0.6666666666666666,
              "#ed7953"
             ],
             [
              0.7777777777777778,
              "#fb9f3a"
             ],
             [
              0.8888888888888888,
              "#fdca26"
             ],
             [
              1,
              "#f0f921"
             ]
            ],
            "type": "heatmap"
           }
          ],
          "heatmapgl": [
           {
            "colorbar": {
             "outlinewidth": 0,
             "ticks": ""
            },
            "colorscale": [
             [
              0,
              "#0d0887"
             ],
             [
              0.1111111111111111,
              "#46039f"
             ],
             [
              0.2222222222222222,
              "#7201a8"
             ],
             [
              0.3333333333333333,
              "#9c179e"
             ],
             [
              0.4444444444444444,
              "#bd3786"
             ],
             [
              0.5555555555555556,
              "#d8576b"
             ],
             [
              0.6666666666666666,
              "#ed7953"
             ],
             [
              0.7777777777777778,
              "#fb9f3a"
             ],
             [
              0.8888888888888888,
              "#fdca26"
             ],
             [
              1,
              "#f0f921"
             ]
            ],
            "type": "heatmapgl"
           }
          ],
          "histogram": [
           {
            "marker": {
             "pattern": {
              "fillmode": "overlay",
              "size": 10,
              "solidity": 0.2
             }
            },
            "type": "histogram"
           }
          ],
          "histogram2d": [
           {
            "colorbar": {
             "outlinewidth": 0,
             "ticks": ""
            },
            "colorscale": [
             [
              0,
              "#0d0887"
             ],
             [
              0.1111111111111111,
              "#46039f"
             ],
             [
              0.2222222222222222,
              "#7201a8"
             ],
             [
              0.3333333333333333,
              "#9c179e"
             ],
             [
              0.4444444444444444,
              "#bd3786"
             ],
             [
              0.5555555555555556,
              "#d8576b"
             ],
             [
              0.6666666666666666,
              "#ed7953"
             ],
             [
              0.7777777777777778,
              "#fb9f3a"
             ],
             [
              0.8888888888888888,
              "#fdca26"
             ],
             [
              1,
              "#f0f921"
             ]
            ],
            "type": "histogram2d"
           }
          ],
          "histogram2dcontour": [
           {
            "colorbar": {
             "outlinewidth": 0,
             "ticks": ""
            },
            "colorscale": [
             [
              0,
              "#0d0887"
             ],
             [
              0.1111111111111111,
              "#46039f"
             ],
             [
              0.2222222222222222,
              "#7201a8"
             ],
             [
              0.3333333333333333,
              "#9c179e"
             ],
             [
              0.4444444444444444,
              "#bd3786"
             ],
             [
              0.5555555555555556,
              "#d8576b"
             ],
             [
              0.6666666666666666,
              "#ed7953"
             ],
             [
              0.7777777777777778,
              "#fb9f3a"
             ],
             [
              0.8888888888888888,
              "#fdca26"
             ],
             [
              1,
              "#f0f921"
             ]
            ],
            "type": "histogram2dcontour"
           }
          ],
          "mesh3d": [
           {
            "colorbar": {
             "outlinewidth": 0,
             "ticks": ""
            },
            "type": "mesh3d"
           }
          ],
          "parcoords": [
           {
            "line": {
             "colorbar": {
              "outlinewidth": 0,
              "ticks": ""
             }
            },
            "type": "parcoords"
           }
          ],
          "pie": [
           {
            "automargin": true,
            "type": "pie"
           }
          ],
          "scatter": [
           {
            "fillpattern": {
             "fillmode": "overlay",
             "size": 10,
             "solidity": 0.2
            },
            "type": "scatter"
           }
          ],
          "scatter3d": [
           {
            "line": {
             "colorbar": {
              "outlinewidth": 0,
              "ticks": ""
             }
            },
            "marker": {
             "colorbar": {
              "outlinewidth": 0,
              "ticks": ""
             }
            },
            "type": "scatter3d"
           }
          ],
          "scattercarpet": [
           {
            "marker": {
             "colorbar": {
              "outlinewidth": 0,
              "ticks": ""
             }
            },
            "type": "scattercarpet"
           }
          ],
          "scattergeo": [
           {
            "marker": {
             "colorbar": {
              "outlinewidth": 0,
              "ticks": ""
             }
            },
            "type": "scattergeo"
           }
          ],
          "scattergl": [
           {
            "marker": {
             "colorbar": {
              "outlinewidth": 0,
              "ticks": ""
             }
            },
            "type": "scattergl"
           }
          ],
          "scattermapbox": [
           {
            "marker": {
             "colorbar": {
              "outlinewidth": 0,
              "ticks": ""
             }
            },
            "type": "scattermapbox"
           }
          ],
          "scatterpolar": [
           {
            "marker": {
             "colorbar": {
              "outlinewidth": 0,
              "ticks": ""
             }
            },
            "type": "scatterpolar"
           }
          ],
          "scatterpolargl": [
           {
            "marker": {
             "colorbar": {
              "outlinewidth": 0,
              "ticks": ""
             }
            },
            "type": "scatterpolargl"
           }
          ],
          "scatterternary": [
           {
            "marker": {
             "colorbar": {
              "outlinewidth": 0,
              "ticks": ""
             }
            },
            "type": "scatterternary"
           }
          ],
          "surface": [
           {
            "colorbar": {
             "outlinewidth": 0,
             "ticks": ""
            },
            "colorscale": [
             [
              0,
              "#0d0887"
             ],
             [
              0.1111111111111111,
              "#46039f"
             ],
             [
              0.2222222222222222,
              "#7201a8"
             ],
             [
              0.3333333333333333,
              "#9c179e"
             ],
             [
              0.4444444444444444,
              "#bd3786"
             ],
             [
              0.5555555555555556,
              "#d8576b"
             ],
             [
              0.6666666666666666,
              "#ed7953"
             ],
             [
              0.7777777777777778,
              "#fb9f3a"
             ],
             [
              0.8888888888888888,
              "#fdca26"
             ],
             [
              1,
              "#f0f921"
             ]
            ],
            "type": "surface"
           }
          ],
          "table": [
           {
            "cells": {
             "fill": {
              "color": "#EBF0F8"
             },
             "line": {
              "color": "white"
             }
            },
            "header": {
             "fill": {
              "color": "#C8D4E3"
             },
             "line": {
              "color": "white"
             }
            },
            "type": "table"
           }
          ]
         },
         "layout": {
          "annotationdefaults": {
           "arrowcolor": "#2a3f5f",
           "arrowhead": 0,
           "arrowwidth": 1
          },
          "autotypenumbers": "strict",
          "coloraxis": {
           "colorbar": {
            "outlinewidth": 0,
            "ticks": ""
           }
          },
          "colorscale": {
           "diverging": [
            [
             0,
             "#8e0152"
            ],
            [
             0.1,
             "#c51b7d"
            ],
            [
             0.2,
             "#de77ae"
            ],
            [
             0.3,
             "#f1b6da"
            ],
            [
             0.4,
             "#fde0ef"
            ],
            [
             0.5,
             "#f7f7f7"
            ],
            [
             0.6,
             "#e6f5d0"
            ],
            [
             0.7,
             "#b8e186"
            ],
            [
             0.8,
             "#7fbc41"
            ],
            [
             0.9,
             "#4d9221"
            ],
            [
             1,
             "#276419"
            ]
           ],
           "sequential": [
            [
             0,
             "#0d0887"
            ],
            [
             0.1111111111111111,
             "#46039f"
            ],
            [
             0.2222222222222222,
             "#7201a8"
            ],
            [
             0.3333333333333333,
             "#9c179e"
            ],
            [
             0.4444444444444444,
             "#bd3786"
            ],
            [
             0.5555555555555556,
             "#d8576b"
            ],
            [
             0.6666666666666666,
             "#ed7953"
            ],
            [
             0.7777777777777778,
             "#fb9f3a"
            ],
            [
             0.8888888888888888,
             "#fdca26"
            ],
            [
             1,
             "#f0f921"
            ]
           ],
           "sequentialminus": [
            [
             0,
             "#0d0887"
            ],
            [
             0.1111111111111111,
             "#46039f"
            ],
            [
             0.2222222222222222,
             "#7201a8"
            ],
            [
             0.3333333333333333,
             "#9c179e"
            ],
            [
             0.4444444444444444,
             "#bd3786"
            ],
            [
             0.5555555555555556,
             "#d8576b"
            ],
            [
             0.6666666666666666,
             "#ed7953"
            ],
            [
             0.7777777777777778,
             "#fb9f3a"
            ],
            [
             0.8888888888888888,
             "#fdca26"
            ],
            [
             1,
             "#f0f921"
            ]
           ]
          },
          "colorway": [
           "#636efa",
           "#EF553B",
           "#00cc96",
           "#ab63fa",
           "#FFA15A",
           "#19d3f3",
           "#FF6692",
           "#B6E880",
           "#FF97FF",
           "#FECB52"
          ],
          "font": {
           "color": "#2a3f5f"
          },
          "geo": {
           "bgcolor": "white",
           "lakecolor": "white",
           "landcolor": "#E5ECF6",
           "showlakes": true,
           "showland": true,
           "subunitcolor": "white"
          },
          "hoverlabel": {
           "align": "left"
          },
          "hovermode": "closest",
          "mapbox": {
           "style": "light"
          },
          "paper_bgcolor": "white",
          "plot_bgcolor": "#E5ECF6",
          "polar": {
           "angularaxis": {
            "gridcolor": "white",
            "linecolor": "white",
            "ticks": ""
           },
           "bgcolor": "#E5ECF6",
           "radialaxis": {
            "gridcolor": "white",
            "linecolor": "white",
            "ticks": ""
           }
          },
          "scene": {
           "xaxis": {
            "backgroundcolor": "#E5ECF6",
            "gridcolor": "white",
            "gridwidth": 2,
            "linecolor": "white",
            "showbackground": true,
            "ticks": "",
            "zerolinecolor": "white"
           },
           "yaxis": {
            "backgroundcolor": "#E5ECF6",
            "gridcolor": "white",
            "gridwidth": 2,
            "linecolor": "white",
            "showbackground": true,
            "ticks": "",
            "zerolinecolor": "white"
           },
           "zaxis": {
            "backgroundcolor": "#E5ECF6",
            "gridcolor": "white",
            "gridwidth": 2,
            "linecolor": "white",
            "showbackground": true,
            "ticks": "",
            "zerolinecolor": "white"
           }
          },
          "shapedefaults": {
           "line": {
            "color": "#2a3f5f"
           }
          },
          "ternary": {
           "aaxis": {
            "gridcolor": "white",
            "linecolor": "white",
            "ticks": ""
           },
           "baxis": {
            "gridcolor": "white",
            "linecolor": "white",
            "ticks": ""
           },
           "bgcolor": "#E5ECF6",
           "caxis": {
            "gridcolor": "white",
            "linecolor": "white",
            "ticks": ""
           }
          },
          "title": {
           "x": 0.05
          },
          "xaxis": {
           "automargin": true,
           "gridcolor": "white",
           "linecolor": "white",
           "ticks": "",
           "title": {
            "standoff": 15
           },
           "zerolinecolor": "white",
           "zerolinewidth": 2
          },
          "yaxis": {
           "automargin": true,
           "gridcolor": "white",
           "linecolor": "white",
           "ticks": "",
           "title": {
            "standoff": 15
           },
           "zerolinecolor": "white",
           "zerolinewidth": 2
          }
         }
        },
        "title": {
         "text": "5 features represented in 2D space"
        },
        "width": 400,
        "xaxis": {
         "anchor": "y",
         "domain": [
          0,
          1
         ],
         "range": [
          -1.5,
          1.5
         ]
        },
        "yaxis": {
         "anchor": "x",
         "domain": [
          0,
          1
         ],
         "range": [
          -1.5,
          1.5
         ]
        }
       }
      }
     },
     "metadata": {},
     "output_type": "display_data"
    }
   ],
   "source": [
    "# used to train model. see bottleneck_models.py for explanations/source\n",
    "importances = (0.9 ** torch.arange(cfg.input_dim)).to(device)\n",
    "model = Bottleneck_Model(cfg).to(device)\n",
    "train_bottleneck_model(cfg, model, feature_prob=0.01, importances=importances)\n",
    "\n",
    "# visualize the model's feature representations\n",
    "plot_learned_features(\n",
    "    cfg,\n",
    "    [model.W],\n",
    "    title='5 features represented in 2D space',\n",
    "    feature_probs=[0.01],\n",
    "    importances=importances\n",
    ")"
   ]
  },
  {
   "cell_type": "code",
   "execution_count": 27,
   "metadata": {},
   "outputs": [
    {
     "name": "stderr",
     "output_type": "stream",
     "text": [
      "100%|██████████| 10000/10000 [00:51<00:00, 192.81it/s, loss=0.00823]\n"
     ]
    }
   ],
   "source": [
    "# setup for sae\n",
    "sae = SAE(cfg).to(device)\n",
    "train_sae(cfg, sae, model, feature_prob=0.01)"
   ]
  },
  {
   "cell_type": "code",
   "execution_count": 33,
   "metadata": {},
   "outputs": [
    {
     "data": {
      "application/vnd.plotly.v1+json": {
       "config": {
        "plotlyServerURL": "https://plot.ly"
       },
       "data": [
        {
         "line": {
          "color": "rgb(230, 172, 255.0)"
         },
         "marker": {
          "color": "rgb(230, 172, 255.0)",
          "size": 10
         },
         "mode": "lines+markers",
         "type": "scatter",
         "x": [
          0,
          0
         ],
         "xaxis": "x",
         "y": [
          0,
          0
         ],
         "yaxis": "y"
        },
        {
         "line": {
          "color": "rgb(230, 172, 255.0)"
         },
         "marker": {
          "color": "rgb(230, 172, 255.0)",
          "size": 10
         },
         "mode": "lines+markers",
         "type": "scatter",
         "x": [
          0,
          0
         ],
         "xaxis": "x",
         "y": [
          0,
          0
         ],
         "yaxis": "y"
        },
        {
         "line": {
          "color": "rgb(230, 172, 255.0)"
         },
         "marker": {
          "color": "rgb(230, 172, 255.0)",
          "size": 10
         },
         "mode": "lines+markers",
         "type": "scatter",
         "x": [
          0,
          0
         ],
         "xaxis": "x",
         "y": [
          0,
          0
         ],
         "yaxis": "y"
        },
        {
         "line": {
          "color": "rgb(230, 172, 255.0)"
         },
         "marker": {
          "color": "rgb(230, 172, 255.0)",
          "size": 10
         },
         "mode": "lines+markers",
         "type": "scatter",
         "x": [
          0,
          0
         ],
         "xaxis": "x",
         "y": [
          0,
          0
         ],
         "yaxis": "y"
        },
        {
         "line": {
          "color": "rgb(230, 172, 255.0)"
         },
         "marker": {
          "color": "rgb(230, 172, 255.0)",
          "size": 10
         },
         "mode": "lines+markers",
         "type": "scatter",
         "x": [
          0,
          0
         ],
         "xaxis": "x",
         "y": [
          0,
          0
         ],
         "yaxis": "y"
        },
        {
         "line": {
          "color": "rgb(230, 172, 255.0)"
         },
         "marker": {
          "color": "rgb(230, 172, 255.0)",
          "size": 10
         },
         "mode": "lines+markers",
         "type": "scatter",
         "x": [
          0,
          0
         ],
         "xaxis": "x",
         "y": [
          0,
          0
         ],
         "yaxis": "y"
        },
        {
         "line": {
          "color": "rgb(230, 172, 255.0)"
         },
         "marker": {
          "color": "rgb(230, 172, 255.0)",
          "size": 10
         },
         "mode": "lines+markers",
         "type": "scatter",
         "x": [
          0,
          0
         ],
         "xaxis": "x",
         "y": [
          0,
          0
         ],
         "yaxis": "y"
        },
        {
         "line": {
          "color": "rgb(230, 172, 255.0)"
         },
         "marker": {
          "color": "rgb(230, 172, 255.0)",
          "size": 10
         },
         "mode": "lines+markers",
         "type": "scatter",
         "x": [
          0,
          0
         ],
         "xaxis": "x",
         "y": [
          0,
          0
         ],
         "yaxis": "y"
        },
        {
         "line": {
          "color": "rgb(230, 172, 255.0)"
         },
         "marker": {
          "color": "rgb(230, 172, 255.0)",
          "size": 10
         },
         "mode": "lines+markers",
         "type": "scatter",
         "x": [
          0,
          0
         ],
         "xaxis": "x",
         "y": [
          0,
          0
         ],
         "yaxis": "y"
        },
        {
         "line": {
          "color": "rgb(230, 172, 255.0)"
         },
         "marker": {
          "color": "rgb(230, 172, 255.0)",
          "size": 10
         },
         "mode": "lines+markers",
         "type": "scatter",
         "x": [
          0,
          0
         ],
         "xaxis": "x",
         "y": [
          0,
          0
         ],
         "yaxis": "y"
        },
        {
         "line": {
          "color": "rgb(230, 172, 255.0)"
         },
         "marker": {
          "color": "rgb(230, 172, 255.0)",
          "size": 10
         },
         "mode": "lines+markers",
         "type": "scatter",
         "x": [
          0,
          0
         ],
         "xaxis": "x",
         "y": [
          0,
          0
         ],
         "yaxis": "y"
        },
        {
         "line": {
          "color": "rgb(230, 172, 255.0)"
         },
         "marker": {
          "color": "rgb(230, 172, 255.0)",
          "size": 10
         },
         "mode": "lines+markers",
         "type": "scatter",
         "x": [
          0,
          1.1500757932662964
         ],
         "xaxis": "x",
         "y": [
          0,
          0.10035640746355057
         ],
         "yaxis": "y"
        },
        {
         "line": {
          "color": "rgb(230, 172, 255.0)"
         },
         "marker": {
          "color": "rgb(230, 172, 255.0)",
          "size": 10
         },
         "mode": "lines+markers",
         "type": "scatter",
         "x": [
          0,
          0
         ],
         "xaxis": "x",
         "y": [
          0,
          0
         ],
         "yaxis": "y"
        },
        {
         "line": {
          "color": "rgb(230, 172, 255.0)"
         },
         "marker": {
          "color": "rgb(230, 172, 255.0)",
          "size": 10
         },
         "mode": "lines+markers",
         "type": "scatter",
         "x": [
          0,
          0
         ],
         "xaxis": "x",
         "y": [
          0,
          0
         ],
         "yaxis": "y"
        },
        {
         "line": {
          "color": "rgb(230, 172, 255.0)"
         },
         "marker": {
          "color": "rgb(230, 172, 255.0)",
          "size": 10
         },
         "mode": "lines+markers",
         "type": "scatter",
         "x": [
          0,
          0
         ],
         "xaxis": "x",
         "y": [
          0,
          0
         ],
         "yaxis": "y"
        },
        {
         "line": {
          "color": "rgb(230, 172, 255.0)"
         },
         "marker": {
          "color": "rgb(230, 172, 255.0)",
          "size": 10
         },
         "mode": "lines+markers",
         "type": "scatter",
         "x": [
          0,
          0
         ],
         "xaxis": "x",
         "y": [
          0,
          0
         ],
         "yaxis": "y"
        },
        {
         "line": {
          "color": "rgb(230, 172, 255.0)"
         },
         "marker": {
          "color": "rgb(230, 172, 255.0)",
          "size": 10
         },
         "mode": "lines+markers",
         "type": "scatter",
         "x": [
          0,
          0
         ],
         "xaxis": "x",
         "y": [
          0,
          0
         ],
         "yaxis": "y"
        },
        {
         "line": {
          "color": "rgb(230, 172, 255.0)"
         },
         "marker": {
          "color": "rgb(230, 172, 255.0)",
          "size": 10
         },
         "mode": "lines+markers",
         "type": "scatter",
         "x": [
          0,
          0
         ],
         "xaxis": "x",
         "y": [
          0,
          0
         ],
         "yaxis": "y"
        },
        {
         "line": {
          "color": "rgb(230, 172, 255.0)"
         },
         "marker": {
          "color": "rgb(230, 172, 255.0)",
          "size": 10
         },
         "mode": "lines+markers",
         "type": "scatter",
         "x": [
          0,
          0
         ],
         "xaxis": "x",
         "y": [
          0,
          0
         ],
         "yaxis": "y"
        },
        {
         "line": {
          "color": "rgb(230, 172, 255.0)"
         },
         "marker": {
          "color": "rgb(230, 172, 255.0)",
          "size": 10
         },
         "mode": "lines+markers",
         "type": "scatter",
         "x": [
          0,
          0
         ],
         "xaxis": "x",
         "y": [
          0,
          0
         ],
         "yaxis": "y"
        },
        {
         "line": {
          "color": "rgb(230, 172, 255.0)"
         },
         "marker": {
          "color": "rgb(230, 172, 255.0)",
          "size": 10
         },
         "mode": "lines+markers",
         "type": "scatter",
         "x": [
          0,
          0
         ],
         "xaxis": "x",
         "y": [
          0,
          0
         ],
         "yaxis": "y"
        },
        {
         "line": {
          "color": "rgb(230, 172, 255.0)"
         },
         "marker": {
          "color": "rgb(230, 172, 255.0)",
          "size": 10
         },
         "mode": "lines+markers",
         "type": "scatter",
         "x": [
          0,
          0
         ],
         "xaxis": "x",
         "y": [
          0,
          0
         ],
         "yaxis": "y"
        },
        {
         "line": {
          "color": "rgb(230, 172, 255.0)"
         },
         "marker": {
          "color": "rgb(230, 172, 255.0)",
          "size": 10
         },
         "mode": "lines+markers",
         "type": "scatter",
         "x": [
          0,
          0
         ],
         "xaxis": "x",
         "y": [
          0,
          0
         ],
         "yaxis": "y"
        },
        {
         "line": {
          "color": "rgb(230, 172, 255.0)"
         },
         "marker": {
          "color": "rgb(230, 172, 255.0)",
          "size": 10
         },
         "mode": "lines+markers",
         "type": "scatter",
         "x": [
          0,
          0
         ],
         "xaxis": "x",
         "y": [
          0,
          0
         ],
         "yaxis": "y"
        },
        {
         "line": {
          "color": "rgb(230, 172, 255.0)"
         },
         "marker": {
          "color": "rgb(230, 172, 255.0)",
          "size": 10
         },
         "mode": "lines+markers",
         "type": "scatter",
         "x": [
          0,
          0
         ],
         "xaxis": "x",
         "y": [
          0,
          0
         ],
         "yaxis": "y"
        },
        {
         "line": {
          "color": "rgb(230, 172, 255.0)"
         },
         "marker": {
          "color": "rgb(230, 172, 255.0)",
          "size": 10
         },
         "mode": "lines+markers",
         "type": "scatter",
         "x": [
          0,
          0
         ],
         "xaxis": "x",
         "y": [
          0,
          0
         ],
         "yaxis": "y"
        },
        {
         "line": {
          "color": "rgb(230, 172, 255.0)"
         },
         "marker": {
          "color": "rgb(230, 172, 255.0)",
          "size": 10
         },
         "mode": "lines+markers",
         "type": "scatter",
         "x": [
          0,
          0
         ],
         "xaxis": "x",
         "y": [
          0,
          0
         ],
         "yaxis": "y"
        },
        {
         "line": {
          "color": "rgb(230, 172, 255.0)"
         },
         "marker": {
          "color": "rgb(230, 172, 255.0)",
          "size": 10
         },
         "mode": "lines+markers",
         "type": "scatter",
         "x": [
          0,
          -0.8760244250297546
         ],
         "xaxis": "x",
         "y": [
          0,
          -0.7474799156188965
         ],
         "yaxis": "y"
        },
        {
         "line": {
          "color": "rgb(230, 172, 255.0)"
         },
         "marker": {
          "color": "rgb(230, 172, 255.0)",
          "size": 10
         },
         "mode": "lines+markers",
         "type": "scatter",
         "x": [
          0,
          0
         ],
         "xaxis": "x",
         "y": [
          0,
          0
         ],
         "yaxis": "y"
        },
        {
         "line": {
          "color": "rgb(230, 172, 255.0)"
         },
         "marker": {
          "color": "rgb(230, 172, 255.0)",
          "size": 10
         },
         "mode": "lines+markers",
         "type": "scatter",
         "x": [
          0,
          0
         ],
         "xaxis": "x",
         "y": [
          0,
          0
         ],
         "yaxis": "y"
        },
        {
         "line": {
          "color": "rgb(230, 172, 255.0)"
         },
         "marker": {
          "color": "rgb(230, 172, 255.0)",
          "size": 10
         },
         "mode": "lines+markers",
         "type": "scatter",
         "x": [
          0,
          0
         ],
         "xaxis": "x",
         "y": [
          0,
          0
         ],
         "yaxis": "y"
        },
        {
         "line": {
          "color": "rgb(230, 172, 255.0)"
         },
         "marker": {
          "color": "rgb(230, 172, 255.0)",
          "size": 10
         },
         "mode": "lines+markers",
         "type": "scatter",
         "x": [
          0,
          0
         ],
         "xaxis": "x",
         "y": [
          0,
          0
         ],
         "yaxis": "y"
        },
        {
         "line": {
          "color": "rgb(230, 172, 255.0)"
         },
         "marker": {
          "color": "rgb(230, 172, 255.0)",
          "size": 10
         },
         "mode": "lines+markers",
         "type": "scatter",
         "x": [
          0,
          0
         ],
         "xaxis": "x",
         "y": [
          0,
          0
         ],
         "yaxis": "y"
        },
        {
         "line": {
          "color": "rgb(230, 172, 255.0)"
         },
         "marker": {
          "color": "rgb(230, 172, 255.0)",
          "size": 10
         },
         "mode": "lines+markers",
         "type": "scatter",
         "x": [
          0,
          0
         ],
         "xaxis": "x",
         "y": [
          0,
          0
         ],
         "yaxis": "y"
        },
        {
         "line": {
          "color": "rgb(230, 172, 255.0)"
         },
         "marker": {
          "color": "rgb(230, 172, 255.0)",
          "size": 10
         },
         "mode": "lines+markers",
         "type": "scatter",
         "x": [
          0,
          0
         ],
         "xaxis": "x",
         "y": [
          0,
          0
         ],
         "yaxis": "y"
        },
        {
         "line": {
          "color": "rgb(230, 172, 255.0)"
         },
         "marker": {
          "color": "rgb(230, 172, 255.0)",
          "size": 10
         },
         "mode": "lines+markers",
         "type": "scatter",
         "x": [
          0,
          0
         ],
         "xaxis": "x",
         "y": [
          0,
          0
         ],
         "yaxis": "y"
        },
        {
         "line": {
          "color": "rgb(230, 172, 255.0)"
         },
         "marker": {
          "color": "rgb(230, 172, 255.0)",
          "size": 10
         },
         "mode": "lines+markers",
         "type": "scatter",
         "x": [
          0,
          0
         ],
         "xaxis": "x",
         "y": [
          0,
          0
         ],
         "yaxis": "y"
        },
        {
         "line": {
          "color": "rgb(230, 172, 255.0)"
         },
         "marker": {
          "color": "rgb(230, 172, 255.0)",
          "size": 10
         },
         "mode": "lines+markers",
         "type": "scatter",
         "x": [
          0,
          0
         ],
         "xaxis": "x",
         "y": [
          0,
          0
         ],
         "yaxis": "y"
        },
        {
         "line": {
          "color": "rgb(230, 172, 255.0)"
         },
         "marker": {
          "color": "rgb(230, 172, 255.0)",
          "size": 10
         },
         "mode": "lines+markers",
         "type": "scatter",
         "x": [
          0,
          0
         ],
         "xaxis": "x",
         "y": [
          0,
          0
         ],
         "yaxis": "y"
        },
        {
         "line": {
          "color": "rgb(230, 172, 255.0)"
         },
         "marker": {
          "color": "rgb(230, 172, 255.0)",
          "size": 10
         },
         "mode": "lines+markers",
         "type": "scatter",
         "x": [
          0,
          0
         ],
         "xaxis": "x",
         "y": [
          0,
          0
         ],
         "yaxis": "y"
        },
        {
         "line": {
          "color": "rgb(230, 172, 255.0)"
         },
         "marker": {
          "color": "rgb(230, 172, 255.0)",
          "size": 10
         },
         "mode": "lines+markers",
         "type": "scatter",
         "x": [
          0,
          0
         ],
         "xaxis": "x",
         "y": [
          0,
          0
         ],
         "yaxis": "y"
        },
        {
         "line": {
          "color": "rgb(230, 172, 255.0)"
         },
         "marker": {
          "color": "rgb(230, 172, 255.0)",
          "size": 10
         },
         "mode": "lines+markers",
         "type": "scatter",
         "x": [
          0,
          0
         ],
         "xaxis": "x",
         "y": [
          0,
          0
         ],
         "yaxis": "y"
        },
        {
         "line": {
          "color": "rgb(230, 172, 255.0)"
         },
         "marker": {
          "color": "rgb(230, 172, 255.0)",
          "size": 10
         },
         "mode": "lines+markers",
         "type": "scatter",
         "x": [
          0,
          0.2662521004676819
         ],
         "xaxis": "x",
         "y": [
          0,
          1.1122533082962036
         ],
         "yaxis": "y"
        },
        {
         "line": {
          "color": "rgb(230, 172, 255.0)"
         },
         "marker": {
          "color": "rgb(230, 172, 255.0)",
          "size": 10
         },
         "mode": "lines+markers",
         "type": "scatter",
         "x": [
          0,
          0
         ],
         "xaxis": "x",
         "y": [
          0,
          0
         ],
         "yaxis": "y"
        },
        {
         "line": {
          "color": "rgb(230, 172, 255.0)"
         },
         "marker": {
          "color": "rgb(230, 172, 255.0)",
          "size": 10
         },
         "mode": "lines+markers",
         "type": "scatter",
         "x": [
          0,
          1.1500757932662964
         ],
         "xaxis": "x",
         "y": [
          0,
          0.10035640746355057
         ],
         "yaxis": "y"
        },
        {
         "line": {
          "color": "rgb(230, 172, 255.0)"
         },
         "marker": {
          "color": "rgb(230, 172, 255.0)",
          "size": 10
         },
         "mode": "lines+markers",
         "type": "scatter",
         "x": [
          0,
          0
         ],
         "xaxis": "x",
         "y": [
          0,
          0
         ],
         "yaxis": "y"
        },
        {
         "line": {
          "color": "rgb(230, 172, 255.0)"
         },
         "marker": {
          "color": "rgb(230, 172, 255.0)",
          "size": 10
         },
         "mode": "lines+markers",
         "type": "scatter",
         "x": [
          0,
          0
         ],
         "xaxis": "x",
         "y": [
          0,
          0
         ],
         "yaxis": "y"
        },
        {
         "line": {
          "color": "rgb(230, 172, 255.0)"
         },
         "marker": {
          "color": "rgb(230, 172, 255.0)",
          "size": 10
         },
         "mode": "lines+markers",
         "type": "scatter",
         "x": [
          0,
          0
         ],
         "xaxis": "x",
         "y": [
          0,
          0
         ],
         "yaxis": "y"
        },
        {
         "line": {
          "color": "rgb(230, 172, 255.0)"
         },
         "marker": {
          "color": "rgb(230, 172, 255.0)",
          "size": 10
         },
         "mode": "lines+markers",
         "type": "scatter",
         "x": [
          0,
          0
         ],
         "xaxis": "x",
         "y": [
          0,
          0
         ],
         "yaxis": "y"
        },
        {
         "line": {
          "color": "rgb(230, 172, 255.0)"
         },
         "marker": {
          "color": "rgb(230, 172, 255.0)",
          "size": 10
         },
         "mode": "lines+markers",
         "type": "scatter",
         "x": [
          0,
          0.2662521004676819
         ],
         "xaxis": "x",
         "y": [
          0,
          1.1122533082962036
         ],
         "yaxis": "y"
        },
        {
         "line": {
          "color": "rgb(230, 172, 255.0)"
         },
         "marker": {
          "color": "rgb(230, 172, 255.0)",
          "size": 10
         },
         "mode": "lines+markers",
         "type": "scatter",
         "x": [
          0,
          0
         ],
         "xaxis": "x",
         "y": [
          0,
          0
         ],
         "yaxis": "y"
        },
        {
         "line": {
          "color": "rgb(230, 172, 255.0)"
         },
         "marker": {
          "color": "rgb(230, 172, 255.0)",
          "size": 10
         },
         "mode": "lines+markers",
         "type": "scatter",
         "x": [
          0,
          0
         ],
         "xaxis": "x",
         "y": [
          0,
          0
         ],
         "yaxis": "y"
        },
        {
         "line": {
          "color": "rgb(230, 172, 255.0)"
         },
         "marker": {
          "color": "rgb(230, 172, 255.0)",
          "size": 10
         },
         "mode": "lines+markers",
         "type": "scatter",
         "x": [
          0,
          0
         ],
         "xaxis": "x",
         "y": [
          0,
          0
         ],
         "yaxis": "y"
        },
        {
         "line": {
          "color": "rgb(230, 172, 255.0)"
         },
         "marker": {
          "color": "rgb(230, 172, 255.0)",
          "size": 10
         },
         "mode": "lines+markers",
         "type": "scatter",
         "x": [
          0,
          0
         ],
         "xaxis": "x",
         "y": [
          0,
          0
         ],
         "yaxis": "y"
        },
        {
         "line": {
          "color": "rgb(230, 172, 255.0)"
         },
         "marker": {
          "color": "rgb(230, 172, 255.0)",
          "size": 10
         },
         "mode": "lines+markers",
         "type": "scatter",
         "x": [
          0,
          0
         ],
         "xaxis": "x",
         "y": [
          0,
          0
         ],
         "yaxis": "y"
        },
        {
         "line": {
          "color": "rgb(230, 172, 255.0)"
         },
         "marker": {
          "color": "rgb(230, 172, 255.0)",
          "size": 10
         },
         "mode": "lines+markers",
         "type": "scatter",
         "x": [
          0,
          0
         ],
         "xaxis": "x",
         "y": [
          0,
          0
         ],
         "yaxis": "y"
        },
        {
         "line": {
          "color": "rgb(230, 172, 255.0)"
         },
         "marker": {
          "color": "rgb(230, 172, 255.0)",
          "size": 10
         },
         "mode": "lines+markers",
         "type": "scatter",
         "x": [
          0,
          0
         ],
         "xaxis": "x",
         "y": [
          0,
          0
         ],
         "yaxis": "y"
        },
        {
         "line": {
          "color": "rgb(230, 172, 255.0)"
         },
         "marker": {
          "color": "rgb(230, 172, 255.0)",
          "size": 10
         },
         "mode": "lines+markers",
         "type": "scatter",
         "x": [
          0,
          0
         ],
         "xaxis": "x",
         "y": [
          0,
          0
         ],
         "yaxis": "y"
        },
        {
         "line": {
          "color": "rgb(230, 172, 255.0)"
         },
         "marker": {
          "color": "rgb(230, 172, 255.0)",
          "size": 10
         },
         "mode": "lines+markers",
         "type": "scatter",
         "x": [
          0,
          0
         ],
         "xaxis": "x",
         "y": [
          0,
          0
         ],
         "yaxis": "y"
        },
        {
         "line": {
          "color": "rgb(230, 172, 255.0)"
         },
         "marker": {
          "color": "rgb(230, 172, 255.0)",
          "size": 10
         },
         "mode": "lines+markers",
         "type": "scatter",
         "x": [
          0,
          0
         ],
         "xaxis": "x",
         "y": [
          0,
          0
         ],
         "yaxis": "y"
        },
        {
         "line": {
          "color": "rgb(230, 172, 255.0)"
         },
         "marker": {
          "color": "rgb(230, 172, 255.0)",
          "size": 10
         },
         "mode": "lines+markers",
         "type": "scatter",
         "x": [
          0,
          0
         ],
         "xaxis": "x",
         "y": [
          0,
          0
         ],
         "yaxis": "y"
        },
        {
         "line": {
          "color": "rgb(230, 172, 255.0)"
         },
         "marker": {
          "color": "rgb(230, 172, 255.0)",
          "size": 10
         },
         "mode": "lines+markers",
         "type": "scatter",
         "x": [
          0,
          0
         ],
         "xaxis": "x",
         "y": [
          0,
          0
         ],
         "yaxis": "y"
        },
        {
         "line": {
          "color": "rgb(230, 172, 255.0)"
         },
         "marker": {
          "color": "rgb(230, 172, 255.0)",
          "size": 10
         },
         "mode": "lines+markers",
         "type": "scatter",
         "x": [
          0,
          0
         ],
         "xaxis": "x",
         "y": [
          0,
          0
         ],
         "yaxis": "y"
        },
        {
         "line": {
          "color": "rgb(230, 172, 255.0)"
         },
         "marker": {
          "color": "rgb(230, 172, 255.0)",
          "size": 10
         },
         "mode": "lines+markers",
         "type": "scatter",
         "x": [
          0,
          0
         ],
         "xaxis": "x",
         "y": [
          0,
          0
         ],
         "yaxis": "y"
        },
        {
         "line": {
          "color": "rgb(230, 172, 255.0)"
         },
         "marker": {
          "color": "rgb(230, 172, 255.0)",
          "size": 10
         },
         "mode": "lines+markers",
         "type": "scatter",
         "x": [
          0,
          0
         ],
         "xaxis": "x",
         "y": [
          0,
          0
         ],
         "yaxis": "y"
        },
        {
         "line": {
          "color": "rgb(230, 172, 255.0)"
         },
         "marker": {
          "color": "rgb(230, 172, 255.0)",
          "size": 10
         },
         "mode": "lines+markers",
         "type": "scatter",
         "x": [
          0,
          0
         ],
         "xaxis": "x",
         "y": [
          0,
          0
         ],
         "yaxis": "y"
        },
        {
         "line": {
          "color": "rgb(230, 172, 255.0)"
         },
         "marker": {
          "color": "rgb(230, 172, 255.0)",
          "size": 10
         },
         "mode": "lines+markers",
         "type": "scatter",
         "x": [
          0,
          0
         ],
         "xaxis": "x",
         "y": [
          0,
          0
         ],
         "yaxis": "y"
        },
        {
         "line": {
          "color": "rgb(230, 172, 255.0)"
         },
         "marker": {
          "color": "rgb(230, 172, 255.0)",
          "size": 10
         },
         "mode": "lines+markers",
         "type": "scatter",
         "x": [
          0,
          0
         ],
         "xaxis": "x",
         "y": [
          0,
          0
         ],
         "yaxis": "y"
        },
        {
         "line": {
          "color": "rgb(230, 172, 255.0)"
         },
         "marker": {
          "color": "rgb(230, 172, 255.0)",
          "size": 10
         },
         "mode": "lines+markers",
         "type": "scatter",
         "x": [
          0,
          0
         ],
         "xaxis": "x",
         "y": [
          0,
          0
         ],
         "yaxis": "y"
        },
        {
         "line": {
          "color": "rgb(230, 172, 255.0)"
         },
         "marker": {
          "color": "rgb(230, 172, 255.0)",
          "size": 10
         },
         "mode": "lines+markers",
         "type": "scatter",
         "x": [
          0,
          0
         ],
         "xaxis": "x",
         "y": [
          0,
          0
         ],
         "yaxis": "y"
        },
        {
         "line": {
          "color": "rgb(230, 172, 255.0)"
         },
         "marker": {
          "color": "rgb(230, 172, 255.0)",
          "size": 10
         },
         "mode": "lines+markers",
         "type": "scatter",
         "x": [
          0,
          0
         ],
         "xaxis": "x",
         "y": [
          0,
          0
         ],
         "yaxis": "y"
        },
        {
         "line": {
          "color": "rgb(230, 172, 255.0)"
         },
         "marker": {
          "color": "rgb(230, 172, 255.0)",
          "size": 10
         },
         "mode": "lines+markers",
         "type": "scatter",
         "x": [
          0,
          0
         ],
         "xaxis": "x",
         "y": [
          0,
          0
         ],
         "yaxis": "y"
        },
        {
         "line": {
          "color": "rgb(230, 172, 255.0)"
         },
         "marker": {
          "color": "rgb(230, 172, 255.0)",
          "size": 10
         },
         "mode": "lines+markers",
         "type": "scatter",
         "x": [
          0,
          0
         ],
         "xaxis": "x",
         "y": [
          0,
          0
         ],
         "yaxis": "y"
        },
        {
         "line": {
          "color": "rgb(230, 172, 255.0)"
         },
         "marker": {
          "color": "rgb(230, 172, 255.0)",
          "size": 10
         },
         "mode": "lines+markers",
         "type": "scatter",
         "x": [
          0,
          0
         ],
         "xaxis": "x",
         "y": [
          0,
          0
         ],
         "yaxis": "y"
        },
        {
         "line": {
          "color": "rgb(230, 172, 255.0)"
         },
         "marker": {
          "color": "rgb(230, 172, 255.0)",
          "size": 10
         },
         "mode": "lines+markers",
         "type": "scatter",
         "x": [
          0,
          0
         ],
         "xaxis": "x",
         "y": [
          0,
          0
         ],
         "yaxis": "y"
        },
        {
         "line": {
          "color": "rgb(230, 172, 255.0)"
         },
         "marker": {
          "color": "rgb(230, 172, 255.0)",
          "size": 10
         },
         "mode": "lines+markers",
         "type": "scatter",
         "x": [
          0,
          0
         ],
         "xaxis": "x",
         "y": [
          0,
          0
         ],
         "yaxis": "y"
        },
        {
         "line": {
          "color": "rgb(230, 172, 255.0)"
         },
         "marker": {
          "color": "rgb(230, 172, 255.0)",
          "size": 10
         },
         "mode": "lines+markers",
         "type": "scatter",
         "x": [
          0,
          0
         ],
         "xaxis": "x",
         "y": [
          0,
          0
         ],
         "yaxis": "y"
        },
        {
         "line": {
          "color": "rgb(230, 172, 255.0)"
         },
         "marker": {
          "color": "rgb(230, 172, 255.0)",
          "size": 10
         },
         "mode": "lines+markers",
         "type": "scatter",
         "x": [
          0,
          0
         ],
         "xaxis": "x",
         "y": [
          0,
          0
         ],
         "yaxis": "y"
        },
        {
         "line": {
          "color": "rgb(230, 172, 255.0)"
         },
         "marker": {
          "color": "rgb(230, 172, 255.0)",
          "size": 10
         },
         "mode": "lines+markers",
         "type": "scatter",
         "x": [
          0,
          0
         ],
         "xaxis": "x",
         "y": [
          0,
          0
         ],
         "yaxis": "y"
        },
        {
         "line": {
          "color": "rgb(230, 172, 255.0)"
         },
         "marker": {
          "color": "rgb(230, 172, 255.0)",
          "size": 10
         },
         "mode": "lines+markers",
         "type": "scatter",
         "x": [
          0,
          0
         ],
         "xaxis": "x",
         "y": [
          0,
          0
         ],
         "yaxis": "y"
        },
        {
         "line": {
          "color": "rgb(230, 172, 255.0)"
         },
         "marker": {
          "color": "rgb(230, 172, 255.0)",
          "size": 10
         },
         "mode": "lines+markers",
         "type": "scatter",
         "x": [
          0,
          0
         ],
         "xaxis": "x",
         "y": [
          0,
          0
         ],
         "yaxis": "y"
        },
        {
         "line": {
          "color": "rgb(230, 172, 255.0)"
         },
         "marker": {
          "color": "rgb(230, 172, 255.0)",
          "size": 10
         },
         "mode": "lines+markers",
         "type": "scatter",
         "x": [
          0,
          0
         ],
         "xaxis": "x",
         "y": [
          0,
          0
         ],
         "yaxis": "y"
        },
        {
         "line": {
          "color": "rgb(230, 172, 255.0)"
         },
         "marker": {
          "color": "rgb(230, 172, 255.0)",
          "size": 10
         },
         "mode": "lines+markers",
         "type": "scatter",
         "x": [
          0,
          0
         ],
         "xaxis": "x",
         "y": [
          0,
          0
         ],
         "yaxis": "y"
        },
        {
         "line": {
          "color": "rgb(230, 172, 255.0)"
         },
         "marker": {
          "color": "rgb(230, 172, 255.0)",
          "size": 10
         },
         "mode": "lines+markers",
         "type": "scatter",
         "x": [
          0,
          0
         ],
         "xaxis": "x",
         "y": [
          0,
          0
         ],
         "yaxis": "y"
        },
        {
         "line": {
          "color": "rgb(230, 172, 255.0)"
         },
         "marker": {
          "color": "rgb(230, 172, 255.0)",
          "size": 10
         },
         "mode": "lines+markers",
         "type": "scatter",
         "x": [
          0,
          0
         ],
         "xaxis": "x",
         "y": [
          0,
          0
         ],
         "yaxis": "y"
        },
        {
         "line": {
          "color": "rgb(230, 172, 255.0)"
         },
         "marker": {
          "color": "rgb(230, 172, 255.0)",
          "size": 10
         },
         "mode": "lines+markers",
         "type": "scatter",
         "x": [
          0,
          0
         ],
         "xaxis": "x",
         "y": [
          0,
          0
         ],
         "yaxis": "y"
        },
        {
         "line": {
          "color": "rgb(230, 172, 255.0)"
         },
         "marker": {
          "color": "rgb(230, 172, 255.0)",
          "size": 10
         },
         "mode": "lines+markers",
         "type": "scatter",
         "x": [
          0,
          0.445028156042099
         ],
         "xaxis": "x",
         "y": [
          0,
          -1.0529156923294067
         ],
         "yaxis": "y"
        },
        {
         "line": {
          "color": "rgb(230, 172, 255.0)"
         },
         "marker": {
          "color": "rgb(230, 172, 255.0)",
          "size": 10
         },
         "mode": "lines+markers",
         "type": "scatter",
         "x": [
          0,
          0
         ],
         "xaxis": "x",
         "y": [
          0,
          0
         ],
         "yaxis": "y"
        },
        {
         "line": {
          "color": "rgb(230, 172, 255.0)"
         },
         "marker": {
          "color": "rgb(230, 172, 255.0)",
          "size": 10
         },
         "mode": "lines+markers",
         "type": "scatter",
         "x": [
          0,
          0
         ],
         "xaxis": "x",
         "y": [
          0,
          0
         ],
         "yaxis": "y"
        },
        {
         "line": {
          "color": "rgb(230, 172, 255.0)"
         },
         "marker": {
          "color": "rgb(230, 172, 255.0)",
          "size": 10
         },
         "mode": "lines+markers",
         "type": "scatter",
         "x": [
          0,
          0
         ],
         "xaxis": "x",
         "y": [
          0,
          0
         ],
         "yaxis": "y"
        },
        {
         "line": {
          "color": "rgb(230, 172, 255.0)"
         },
         "marker": {
          "color": "rgb(230, 172, 255.0)",
          "size": 10
         },
         "mode": "lines+markers",
         "type": "scatter",
         "x": [
          0,
          0
         ],
         "xaxis": "x",
         "y": [
          0,
          0
         ],
         "yaxis": "y"
        },
        {
         "line": {
          "color": "rgb(230, 172, 255.0)"
         },
         "marker": {
          "color": "rgb(230, 172, 255.0)",
          "size": 10
         },
         "mode": "lines+markers",
         "type": "scatter",
         "x": [
          0,
          0
         ],
         "xaxis": "x",
         "y": [
          0,
          0
         ],
         "yaxis": "y"
        },
        {
         "line": {
          "color": "rgb(230, 172, 255.0)"
         },
         "marker": {
          "color": "rgb(230, 172, 255.0)",
          "size": 10
         },
         "mode": "lines+markers",
         "type": "scatter",
         "x": [
          0,
          0
         ],
         "xaxis": "x",
         "y": [
          0,
          0
         ],
         "yaxis": "y"
        },
        {
         "line": {
          "color": "rgb(230, 172, 255.0)"
         },
         "marker": {
          "color": "rgb(230, 172, 255.0)",
          "size": 10
         },
         "mode": "lines+markers",
         "type": "scatter",
         "x": [
          0,
          0
         ],
         "xaxis": "x",
         "y": [
          0,
          0
         ],
         "yaxis": "y"
        },
        {
         "line": {
          "color": "rgb(230, 172, 255.0)"
         },
         "marker": {
          "color": "rgb(230, 172, 255.0)",
          "size": 10
         },
         "mode": "lines+markers",
         "type": "scatter",
         "x": [
          0,
          0
         ],
         "xaxis": "x",
         "y": [
          0,
          0
         ],
         "yaxis": "y"
        },
        {
         "line": {
          "color": "rgb(230, 172, 255.0)"
         },
         "marker": {
          "color": "rgb(230, 172, 255.0)",
          "size": 10
         },
         "mode": "lines+markers",
         "type": "scatter",
         "x": [
          0,
          0
         ],
         "xaxis": "x",
         "y": [
          0,
          0
         ],
         "yaxis": "y"
        },
        {
         "line": {
          "color": "rgb(230, 172, 255.0)"
         },
         "marker": {
          "color": "rgb(230, 172, 255.0)",
          "size": 10
         },
         "mode": "lines+markers",
         "type": "scatter",
         "x": [
          0,
          0
         ],
         "xaxis": "x",
         "y": [
          0,
          0
         ],
         "yaxis": "y"
        },
        {
         "line": {
          "color": "rgb(230, 172, 255.0)"
         },
         "marker": {
          "color": "rgb(230, 172, 255.0)",
          "size": 10
         },
         "mode": "lines+markers",
         "type": "scatter",
         "x": [
          0,
          0
         ],
         "xaxis": "x",
         "y": [
          0,
          0
         ],
         "yaxis": "y"
        },
        {
         "line": {
          "color": "rgb(230, 172, 255.0)"
         },
         "marker": {
          "color": "rgb(230, 172, 255.0)",
          "size": 10
         },
         "mode": "lines+markers",
         "type": "scatter",
         "x": [
          0,
          0
         ],
         "xaxis": "x",
         "y": [
          0,
          0
         ],
         "yaxis": "y"
        },
        {
         "line": {
          "color": "rgb(230, 172, 255.0)"
         },
         "marker": {
          "color": "rgb(230, 172, 255.0)",
          "size": 10
         },
         "mode": "lines+markers",
         "type": "scatter",
         "x": [
          0,
          0
         ],
         "xaxis": "x",
         "y": [
          0,
          0
         ],
         "yaxis": "y"
        },
        {
         "line": {
          "color": "rgb(230, 172, 255.0)"
         },
         "marker": {
          "color": "rgb(230, 172, 255.0)",
          "size": 10
         },
         "mode": "lines+markers",
         "type": "scatter",
         "x": [
          0,
          0
         ],
         "xaxis": "x",
         "y": [
          0,
          0
         ],
         "yaxis": "y"
        },
        {
         "line": {
          "color": "rgb(230, 172, 255.0)"
         },
         "marker": {
          "color": "rgb(230, 172, 255.0)",
          "size": 10
         },
         "mode": "lines+markers",
         "type": "scatter",
         "x": [
          0,
          0
         ],
         "xaxis": "x",
         "y": [
          0,
          0
         ],
         "yaxis": "y"
        },
        {
         "line": {
          "color": "rgb(230, 172, 255.0)"
         },
         "marker": {
          "color": "rgb(230, 172, 255.0)",
          "size": 10
         },
         "mode": "lines+markers",
         "type": "scatter",
         "x": [
          0,
          0
         ],
         "xaxis": "x",
         "y": [
          0,
          0
         ],
         "yaxis": "y"
        },
        {
         "line": {
          "color": "rgb(230, 172, 255.0)"
         },
         "marker": {
          "color": "rgb(230, 172, 255.0)",
          "size": 10
         },
         "mode": "lines+markers",
         "type": "scatter",
         "x": [
          0,
          -0.9741505980491638
         ],
         "xaxis": "x",
         "y": [
          0,
          0.6108540296554565
         ],
         "yaxis": "y"
        },
        {
         "line": {
          "color": "rgb(230, 172, 255.0)"
         },
         "marker": {
          "color": "rgb(230, 172, 255.0)",
          "size": 10
         },
         "mode": "lines+markers",
         "type": "scatter",
         "x": [
          0,
          0
         ],
         "xaxis": "x",
         "y": [
          0,
          0
         ],
         "yaxis": "y"
        },
        {
         "line": {
          "color": "rgb(230, 172, 255.0)"
         },
         "marker": {
          "color": "rgb(230, 172, 255.0)",
          "size": 10
         },
         "mode": "lines+markers",
         "type": "scatter",
         "x": [
          0,
          0
         ],
         "xaxis": "x",
         "y": [
          0,
          0
         ],
         "yaxis": "y"
        },
        {
         "line": {
          "color": "rgb(230, 172, 255.0)"
         },
         "marker": {
          "color": "rgb(230, 172, 255.0)",
          "size": 10
         },
         "mode": "lines+markers",
         "type": "scatter",
         "x": [
          0,
          0
         ],
         "xaxis": "x",
         "y": [
          0,
          0
         ],
         "yaxis": "y"
        },
        {
         "line": {
          "color": "rgb(230, 172, 255.0)"
         },
         "marker": {
          "color": "rgb(230, 172, 255.0)",
          "size": 10
         },
         "mode": "lines+markers",
         "type": "scatter",
         "x": [
          0,
          0
         ],
         "xaxis": "x",
         "y": [
          0,
          0
         ],
         "yaxis": "y"
        },
        {
         "line": {
          "color": "rgb(230, 172, 255.0)"
         },
         "marker": {
          "color": "rgb(230, 172, 255.0)",
          "size": 10
         },
         "mode": "lines+markers",
         "type": "scatter",
         "x": [
          0,
          0
         ],
         "xaxis": "x",
         "y": [
          0,
          0
         ],
         "yaxis": "y"
        },
        {
         "line": {
          "color": "rgb(230, 172, 255.0)"
         },
         "marker": {
          "color": "rgb(230, 172, 255.0)",
          "size": 10
         },
         "mode": "lines+markers",
         "type": "scatter",
         "x": [
          0,
          0
         ],
         "xaxis": "x",
         "y": [
          0,
          0
         ],
         "yaxis": "y"
        },
        {
         "line": {
          "color": "rgb(230, 172, 255.0)"
         },
         "marker": {
          "color": "rgb(230, 172, 255.0)",
          "size": 10
         },
         "mode": "lines+markers",
         "type": "scatter",
         "x": [
          0,
          0
         ],
         "xaxis": "x",
         "y": [
          0,
          0
         ],
         "yaxis": "y"
        },
        {
         "line": {
          "color": "rgb(230, 172, 255.0)"
         },
         "marker": {
          "color": "rgb(230, 172, 255.0)",
          "size": 10
         },
         "mode": "lines+markers",
         "type": "scatter",
         "x": [
          0,
          0
         ],
         "xaxis": "x",
         "y": [
          0,
          0
         ],
         "yaxis": "y"
        },
        {
         "line": {
          "color": "rgb(230, 172, 255.0)"
         },
         "marker": {
          "color": "rgb(230, 172, 255.0)",
          "size": 10
         },
         "mode": "lines+markers",
         "type": "scatter",
         "x": [
          0,
          0
         ],
         "xaxis": "x",
         "y": [
          0,
          0
         ],
         "yaxis": "y"
        },
        {
         "line": {
          "color": "rgb(230, 172, 255.0)"
         },
         "marker": {
          "color": "rgb(230, 172, 255.0)",
          "size": 10
         },
         "mode": "lines+markers",
         "type": "scatter",
         "x": [
          0,
          -0.8760244250297546
         ],
         "xaxis": "x",
         "y": [
          0,
          -0.7474799156188965
         ],
         "yaxis": "y"
        },
        {
         "line": {
          "color": "rgb(230, 172, 255.0)"
         },
         "marker": {
          "color": "rgb(230, 172, 255.0)",
          "size": 10
         },
         "mode": "lines+markers",
         "type": "scatter",
         "x": [
          0,
          0
         ],
         "xaxis": "x",
         "y": [
          0,
          0
         ],
         "yaxis": "y"
        },
        {
         "line": {
          "color": "rgb(230, 172, 255.0)"
         },
         "marker": {
          "color": "rgb(230, 172, 255.0)",
          "size": 10
         },
         "mode": "lines+markers",
         "type": "scatter",
         "x": [
          0,
          0
         ],
         "xaxis": "x",
         "y": [
          0,
          0
         ],
         "yaxis": "y"
        },
        {
         "line": {
          "color": "rgb(230, 172, 255.0)"
         },
         "marker": {
          "color": "rgb(230, 172, 255.0)",
          "size": 10
         },
         "mode": "lines+markers",
         "type": "scatter",
         "x": [
          0,
          0
         ],
         "xaxis": "x",
         "y": [
          0,
          0
         ],
         "yaxis": "y"
        },
        {
         "line": {
          "color": "rgb(230, 172, 255.0)"
         },
         "marker": {
          "color": "rgb(230, 172, 255.0)",
          "size": 10
         },
         "mode": "lines+markers",
         "type": "scatter",
         "x": [
          0,
          0
         ],
         "xaxis": "x",
         "y": [
          0,
          0
         ],
         "yaxis": "y"
        },
        {
         "line": {
          "color": "rgb(230, 172, 255.0)"
         },
         "marker": {
          "color": "rgb(230, 172, 255.0)",
          "size": 10
         },
         "mode": "lines+markers",
         "type": "scatter",
         "x": [
          0,
          0
         ],
         "xaxis": "x",
         "y": [
          0,
          0
         ],
         "yaxis": "y"
        },
        {
         "line": {
          "color": "rgb(230, 172, 255.0)"
         },
         "marker": {
          "color": "rgb(230, 172, 255.0)",
          "size": 10
         },
         "mode": "lines+markers",
         "type": "scatter",
         "x": [
          0,
          0
         ],
         "xaxis": "x",
         "y": [
          0,
          0
         ],
         "yaxis": "y"
        },
        {
         "line": {
          "color": "rgb(230, 172, 255.0)"
         },
         "marker": {
          "color": "rgb(230, 172, 255.0)",
          "size": 10
         },
         "mode": "lines+markers",
         "type": "scatter",
         "x": [
          0,
          0
         ],
         "xaxis": "x",
         "y": [
          0,
          0
         ],
         "yaxis": "y"
        },
        {
         "line": {
          "color": "rgb(230, 172, 255.0)"
         },
         "marker": {
          "color": "rgb(230, 172, 255.0)",
          "size": 10
         },
         "mode": "lines+markers",
         "type": "scatter",
         "x": [
          0,
          0
         ],
         "xaxis": "x",
         "y": [
          0,
          0
         ],
         "yaxis": "y"
        },
        {
         "line": {
          "color": "rgb(230, 172, 255.0)"
         },
         "marker": {
          "color": "rgb(230, 172, 255.0)",
          "size": 10
         },
         "mode": "lines+markers",
         "type": "scatter",
         "x": [
          0,
          0
         ],
         "xaxis": "x",
         "y": [
          0,
          0
         ],
         "yaxis": "y"
        },
        {
         "line": {
          "color": "rgb(230, 172, 255.0)"
         },
         "marker": {
          "color": "rgb(230, 172, 255.0)",
          "size": 10
         },
         "mode": "lines+markers",
         "type": "scatter",
         "x": [
          0,
          1.1500757932662964
         ],
         "xaxis": "x",
         "y": [
          0,
          0.10035640746355057
         ],
         "yaxis": "y"
        },
        {
         "line": {
          "color": "rgb(230, 172, 255.0)"
         },
         "marker": {
          "color": "rgb(230, 172, 255.0)",
          "size": 10
         },
         "mode": "lines+markers",
         "type": "scatter",
         "x": [
          0,
          0
         ],
         "xaxis": "x",
         "y": [
          0,
          0
         ],
         "yaxis": "y"
        },
        {
         "line": {
          "color": "rgb(230, 172, 255.0)"
         },
         "marker": {
          "color": "rgb(230, 172, 255.0)",
          "size": 10
         },
         "mode": "lines+markers",
         "type": "scatter",
         "x": [
          0,
          0
         ],
         "xaxis": "x",
         "y": [
          0,
          0
         ],
         "yaxis": "y"
        },
        {
         "line": {
          "color": "rgb(230, 172, 255.0)"
         },
         "marker": {
          "color": "rgb(230, 172, 255.0)",
          "size": 10
         },
         "mode": "lines+markers",
         "type": "scatter",
         "x": [
          0,
          0
         ],
         "xaxis": "x",
         "y": [
          0,
          0
         ],
         "yaxis": "y"
        },
        {
         "line": {
          "color": "rgb(230, 172, 255.0)"
         },
         "marker": {
          "color": "rgb(230, 172, 255.0)",
          "size": 10
         },
         "mode": "lines+markers",
         "type": "scatter",
         "x": [
          0,
          0
         ],
         "xaxis": "x",
         "y": [
          0,
          0
         ],
         "yaxis": "y"
        },
        {
         "line": {
          "color": "rgb(230, 172, 255.0)"
         },
         "marker": {
          "color": "rgb(230, 172, 255.0)",
          "size": 10
         },
         "mode": "lines+markers",
         "type": "scatter",
         "x": [
          0,
          0
         ],
         "xaxis": "x",
         "y": [
          0,
          0
         ],
         "yaxis": "y"
        },
        {
         "line": {
          "color": "rgb(230, 172, 255.0)"
         },
         "marker": {
          "color": "rgb(230, 172, 255.0)",
          "size": 10
         },
         "mode": "lines+markers",
         "type": "scatter",
         "x": [
          0,
          0
         ],
         "xaxis": "x",
         "y": [
          0,
          0
         ],
         "yaxis": "y"
        },
        {
         "line": {
          "color": "rgb(230, 172, 255.0)"
         },
         "marker": {
          "color": "rgb(230, 172, 255.0)",
          "size": 10
         },
         "mode": "lines+markers",
         "type": "scatter",
         "x": [
          0,
          0
         ],
         "xaxis": "x",
         "y": [
          0,
          0
         ],
         "yaxis": "y"
        },
        {
         "line": {
          "color": "rgb(230, 172, 255.0)"
         },
         "marker": {
          "color": "rgb(230, 172, 255.0)",
          "size": 10
         },
         "mode": "lines+markers",
         "type": "scatter",
         "x": [
          0,
          0
         ],
         "xaxis": "x",
         "y": [
          0,
          0
         ],
         "yaxis": "y"
        },
        {
         "line": {
          "color": "rgb(230, 172, 255.0)"
         },
         "marker": {
          "color": "rgb(230, 172, 255.0)",
          "size": 10
         },
         "mode": "lines+markers",
         "type": "scatter",
         "x": [
          0,
          0
         ],
         "xaxis": "x",
         "y": [
          0,
          0
         ],
         "yaxis": "y"
        },
        {
         "line": {
          "color": "rgb(230, 172, 255.0)"
         },
         "marker": {
          "color": "rgb(230, 172, 255.0)",
          "size": 10
         },
         "mode": "lines+markers",
         "type": "scatter",
         "x": [
          0,
          0
         ],
         "xaxis": "x",
         "y": [
          0,
          0
         ],
         "yaxis": "y"
        },
        {
         "line": {
          "color": "rgb(230, 172, 255.0)"
         },
         "marker": {
          "color": "rgb(230, 172, 255.0)",
          "size": 10
         },
         "mode": "lines+markers",
         "type": "scatter",
         "x": [
          0,
          0
         ],
         "xaxis": "x",
         "y": [
          0,
          0
         ],
         "yaxis": "y"
        },
        {
         "line": {
          "color": "rgb(230, 172, 255.0)"
         },
         "marker": {
          "color": "rgb(230, 172, 255.0)",
          "size": 10
         },
         "mode": "lines+markers",
         "type": "scatter",
         "x": [
          0,
          0
         ],
         "xaxis": "x",
         "y": [
          0,
          0
         ],
         "yaxis": "y"
        },
        {
         "line": {
          "color": "rgb(230, 172, 255.0)"
         },
         "marker": {
          "color": "rgb(230, 172, 255.0)",
          "size": 10
         },
         "mode": "lines+markers",
         "type": "scatter",
         "x": [
          0,
          0
         ],
         "xaxis": "x",
         "y": [
          0,
          0
         ],
         "yaxis": "y"
        },
        {
         "line": {
          "color": "rgb(230, 172, 255.0)"
         },
         "marker": {
          "color": "rgb(230, 172, 255.0)",
          "size": 10
         },
         "mode": "lines+markers",
         "type": "scatter",
         "x": [
          0,
          0
         ],
         "xaxis": "x",
         "y": [
          0,
          0
         ],
         "yaxis": "y"
        },
        {
         "line": {
          "color": "rgb(230, 172, 255.0)"
         },
         "marker": {
          "color": "rgb(230, 172, 255.0)",
          "size": 10
         },
         "mode": "lines+markers",
         "type": "scatter",
         "x": [
          0,
          0
         ],
         "xaxis": "x",
         "y": [
          0,
          0
         ],
         "yaxis": "y"
        },
        {
         "line": {
          "color": "rgb(230, 172, 255.0)"
         },
         "marker": {
          "color": "rgb(230, 172, 255.0)",
          "size": 10
         },
         "mode": "lines+markers",
         "type": "scatter",
         "x": [
          0,
          0
         ],
         "xaxis": "x",
         "y": [
          0,
          0
         ],
         "yaxis": "y"
        },
        {
         "line": {
          "color": "rgb(230, 172, 255.0)"
         },
         "marker": {
          "color": "rgb(230, 172, 255.0)",
          "size": 10
         },
         "mode": "lines+markers",
         "type": "scatter",
         "x": [
          0,
          0
         ],
         "xaxis": "x",
         "y": [
          0,
          0
         ],
         "yaxis": "y"
        },
        {
         "line": {
          "color": "rgb(230, 172, 255.0)"
         },
         "marker": {
          "color": "rgb(230, 172, 255.0)",
          "size": 10
         },
         "mode": "lines+markers",
         "type": "scatter",
         "x": [
          0,
          0
         ],
         "xaxis": "x",
         "y": [
          0,
          0
         ],
         "yaxis": "y"
        },
        {
         "line": {
          "color": "rgb(230, 172, 255.0)"
         },
         "marker": {
          "color": "rgb(230, 172, 255.0)",
          "size": 10
         },
         "mode": "lines+markers",
         "type": "scatter",
         "x": [
          0,
          0
         ],
         "xaxis": "x",
         "y": [
          0,
          0
         ],
         "yaxis": "y"
        },
        {
         "line": {
          "color": "rgb(230, 172, 255.0)"
         },
         "marker": {
          "color": "rgb(230, 172, 255.0)",
          "size": 10
         },
         "mode": "lines+markers",
         "type": "scatter",
         "x": [
          0,
          0
         ],
         "xaxis": "x",
         "y": [
          0,
          0
         ],
         "yaxis": "y"
        },
        {
         "line": {
          "color": "rgb(230, 172, 255.0)"
         },
         "marker": {
          "color": "rgb(230, 172, 255.0)",
          "size": 10
         },
         "mode": "lines+markers",
         "type": "scatter",
         "x": [
          0,
          0
         ],
         "xaxis": "x",
         "y": [
          0,
          0
         ],
         "yaxis": "y"
        },
        {
         "line": {
          "color": "rgb(230, 172, 255.0)"
         },
         "marker": {
          "color": "rgb(230, 172, 255.0)",
          "size": 10
         },
         "mode": "lines+markers",
         "type": "scatter",
         "x": [
          0,
          0
         ],
         "xaxis": "x",
         "y": [
          0,
          0
         ],
         "yaxis": "y"
        },
        {
         "line": {
          "color": "rgb(230, 172, 255.0)"
         },
         "marker": {
          "color": "rgb(230, 172, 255.0)",
          "size": 10
         },
         "mode": "lines+markers",
         "type": "scatter",
         "x": [
          0,
          0
         ],
         "xaxis": "x",
         "y": [
          0,
          0
         ],
         "yaxis": "y"
        },
        {
         "line": {
          "color": "rgb(230, 172, 255.0)"
         },
         "marker": {
          "color": "rgb(230, 172, 255.0)",
          "size": 10
         },
         "mode": "lines+markers",
         "type": "scatter",
         "x": [
          0,
          0
         ],
         "xaxis": "x",
         "y": [
          0,
          0
         ],
         "yaxis": "y"
        },
        {
         "line": {
          "color": "rgb(230, 172, 255.0)"
         },
         "marker": {
          "color": "rgb(230, 172, 255.0)",
          "size": 10
         },
         "mode": "lines+markers",
         "type": "scatter",
         "x": [
          0,
          0
         ],
         "xaxis": "x",
         "y": [
          0,
          0
         ],
         "yaxis": "y"
        },
        {
         "line": {
          "color": "rgb(230, 172, 255.0)"
         },
         "marker": {
          "color": "rgb(230, 172, 255.0)",
          "size": 10
         },
         "mode": "lines+markers",
         "type": "scatter",
         "x": [
          0,
          0
         ],
         "xaxis": "x",
         "y": [
          0,
          0
         ],
         "yaxis": "y"
        },
        {
         "line": {
          "color": "rgb(230, 172, 255.0)"
         },
         "marker": {
          "color": "rgb(230, 172, 255.0)",
          "size": 10
         },
         "mode": "lines+markers",
         "type": "scatter",
         "x": [
          0,
          0
         ],
         "xaxis": "x",
         "y": [
          0,
          0
         ],
         "yaxis": "y"
        },
        {
         "line": {
          "color": "rgb(230, 172, 255.0)"
         },
         "marker": {
          "color": "rgb(230, 172, 255.0)",
          "size": 10
         },
         "mode": "lines+markers",
         "type": "scatter",
         "x": [
          0,
          0
         ],
         "xaxis": "x",
         "y": [
          0,
          0
         ],
         "yaxis": "y"
        },
        {
         "line": {
          "color": "rgb(230, 172, 255.0)"
         },
         "marker": {
          "color": "rgb(230, 172, 255.0)",
          "size": 10
         },
         "mode": "lines+markers",
         "type": "scatter",
         "x": [
          0,
          0
         ],
         "xaxis": "x",
         "y": [
          0,
          0
         ],
         "yaxis": "y"
        },
        {
         "line": {
          "color": "rgb(230, 172, 255.0)"
         },
         "marker": {
          "color": "rgb(230, 172, 255.0)",
          "size": 10
         },
         "mode": "lines+markers",
         "type": "scatter",
         "x": [
          0,
          0
         ],
         "xaxis": "x",
         "y": [
          0,
          0
         ],
         "yaxis": "y"
        },
        {
         "line": {
          "color": "rgb(230, 172, 255.0)"
         },
         "marker": {
          "color": "rgb(230, 172, 255.0)",
          "size": 10
         },
         "mode": "lines+markers",
         "type": "scatter",
         "x": [
          0,
          0
         ],
         "xaxis": "x",
         "y": [
          0,
          0
         ],
         "yaxis": "y"
        },
        {
         "line": {
          "color": "rgb(230, 172, 255.0)"
         },
         "marker": {
          "color": "rgb(230, 172, 255.0)",
          "size": 10
         },
         "mode": "lines+markers",
         "type": "scatter",
         "x": [
          0,
          0
         ],
         "xaxis": "x",
         "y": [
          0,
          0
         ],
         "yaxis": "y"
        },
        {
         "line": {
          "color": "rgb(230, 172, 255.0)"
         },
         "marker": {
          "color": "rgb(230, 172, 255.0)",
          "size": 10
         },
         "mode": "lines+markers",
         "type": "scatter",
         "x": [
          0,
          0
         ],
         "xaxis": "x",
         "y": [
          0,
          0
         ],
         "yaxis": "y"
        },
        {
         "line": {
          "color": "rgb(230, 172, 255.0)"
         },
         "marker": {
          "color": "rgb(230, 172, 255.0)",
          "size": 10
         },
         "mode": "lines+markers",
         "type": "scatter",
         "x": [
          0,
          0
         ],
         "xaxis": "x",
         "y": [
          0,
          0
         ],
         "yaxis": "y"
        },
        {
         "line": {
          "color": "rgb(230, 172, 255.0)"
         },
         "marker": {
          "color": "rgb(230, 172, 255.0)",
          "size": 10
         },
         "mode": "lines+markers",
         "type": "scatter",
         "x": [
          0,
          0
         ],
         "xaxis": "x",
         "y": [
          0,
          0
         ],
         "yaxis": "y"
        },
        {
         "line": {
          "color": "rgb(230, 172, 255.0)"
         },
         "marker": {
          "color": "rgb(230, 172, 255.0)",
          "size": 10
         },
         "mode": "lines+markers",
         "type": "scatter",
         "x": [
          0,
          0
         ],
         "xaxis": "x",
         "y": [
          0,
          0
         ],
         "yaxis": "y"
        },
        {
         "line": {
          "color": "rgb(230, 172, 255.0)"
         },
         "marker": {
          "color": "rgb(230, 172, 255.0)",
          "size": 10
         },
         "mode": "lines+markers",
         "type": "scatter",
         "x": [
          0,
          0
         ],
         "xaxis": "x",
         "y": [
          0,
          0
         ],
         "yaxis": "y"
        },
        {
         "line": {
          "color": "rgb(230, 172, 255.0)"
         },
         "marker": {
          "color": "rgb(230, 172, 255.0)",
          "size": 10
         },
         "mode": "lines+markers",
         "type": "scatter",
         "x": [
          0,
          0
         ],
         "xaxis": "x",
         "y": [
          0,
          0
         ],
         "yaxis": "y"
        },
        {
         "line": {
          "color": "rgb(230, 172, 255.0)"
         },
         "marker": {
          "color": "rgb(230, 172, 255.0)",
          "size": 10
         },
         "mode": "lines+markers",
         "type": "scatter",
         "x": [
          0,
          0
         ],
         "xaxis": "x",
         "y": [
          0,
          0
         ],
         "yaxis": "y"
        },
        {
         "line": {
          "color": "rgb(230, 172, 255.0)"
         },
         "marker": {
          "color": "rgb(230, 172, 255.0)",
          "size": 10
         },
         "mode": "lines+markers",
         "type": "scatter",
         "x": [
          0,
          0
         ],
         "xaxis": "x",
         "y": [
          0,
          0
         ],
         "yaxis": "y"
        },
        {
         "line": {
          "color": "rgb(230, 172, 255.0)"
         },
         "marker": {
          "color": "rgb(230, 172, 255.0)",
          "size": 10
         },
         "mode": "lines+markers",
         "type": "scatter",
         "x": [
          0,
          0.2662521004676819
         ],
         "xaxis": "x",
         "y": [
          0,
          1.1122533082962036
         ],
         "yaxis": "y"
        },
        {
         "line": {
          "color": "rgb(230, 172, 255.0)"
         },
         "marker": {
          "color": "rgb(230, 172, 255.0)",
          "size": 10
         },
         "mode": "lines+markers",
         "type": "scatter",
         "x": [
          0,
          0
         ],
         "xaxis": "x",
         "y": [
          0,
          0
         ],
         "yaxis": "y"
        },
        {
         "line": {
          "color": "rgb(230, 172, 255.0)"
         },
         "marker": {
          "color": "rgb(230, 172, 255.0)",
          "size": 10
         },
         "mode": "lines+markers",
         "type": "scatter",
         "x": [
          0,
          0
         ],
         "xaxis": "x",
         "y": [
          0,
          0
         ],
         "yaxis": "y"
        },
        {
         "line": {
          "color": "rgb(230, 172, 255.0)"
         },
         "marker": {
          "color": "rgb(230, 172, 255.0)",
          "size": 10
         },
         "mode": "lines+markers",
         "type": "scatter",
         "x": [
          0,
          0
         ],
         "xaxis": "x",
         "y": [
          0,
          0
         ],
         "yaxis": "y"
        },
        {
         "line": {
          "color": "rgb(230, 172, 255.0)"
         },
         "marker": {
          "color": "rgb(230, 172, 255.0)",
          "size": 10
         },
         "mode": "lines+markers",
         "type": "scatter",
         "x": [
          0,
          0
         ],
         "xaxis": "x",
         "y": [
          0,
          0
         ],
         "yaxis": "y"
        },
        {
         "line": {
          "color": "rgb(230, 172, 255.0)"
         },
         "marker": {
          "color": "rgb(230, 172, 255.0)",
          "size": 10
         },
         "mode": "lines+markers",
         "type": "scatter",
         "x": [
          0,
          0
         ],
         "xaxis": "x",
         "y": [
          0,
          0
         ],
         "yaxis": "y"
        },
        {
         "line": {
          "color": "rgb(230, 172, 255.0)"
         },
         "marker": {
          "color": "rgb(230, 172, 255.0)",
          "size": 10
         },
         "mode": "lines+markers",
         "type": "scatter",
         "x": [
          0,
          0
         ],
         "xaxis": "x",
         "y": [
          0,
          0
         ],
         "yaxis": "y"
        },
        {
         "line": {
          "color": "rgb(230, 172, 255.0)"
         },
         "marker": {
          "color": "rgb(230, 172, 255.0)",
          "size": 10
         },
         "mode": "lines+markers",
         "type": "scatter",
         "x": [
          0,
          0
         ],
         "xaxis": "x",
         "y": [
          0,
          0
         ],
         "yaxis": "y"
        },
        {
         "line": {
          "color": "rgb(230, 172, 255.0)"
         },
         "marker": {
          "color": "rgb(230, 172, 255.0)",
          "size": 10
         },
         "mode": "lines+markers",
         "type": "scatter",
         "x": [
          0,
          0
         ],
         "xaxis": "x",
         "y": [
          0,
          0
         ],
         "yaxis": "y"
        },
        {
         "line": {
          "color": "rgb(230, 172, 255.0)"
         },
         "marker": {
          "color": "rgb(230, 172, 255.0)",
          "size": 10
         },
         "mode": "lines+markers",
         "type": "scatter",
         "x": [
          0,
          0
         ],
         "xaxis": "x",
         "y": [
          0,
          0
         ],
         "yaxis": "y"
        },
        {
         "line": {
          "color": "rgb(230, 172, 255.0)"
         },
         "marker": {
          "color": "rgb(230, 172, 255.0)",
          "size": 10
         },
         "mode": "lines+markers",
         "type": "scatter",
         "x": [
          0,
          0
         ],
         "xaxis": "x",
         "y": [
          0,
          0
         ],
         "yaxis": "y"
        },
        {
         "line": {
          "color": "rgb(230, 172, 255.0)"
         },
         "marker": {
          "color": "rgb(230, 172, 255.0)",
          "size": 10
         },
         "mode": "lines+markers",
         "type": "scatter",
         "x": [
          0,
          0
         ],
         "xaxis": "x",
         "y": [
          0,
          0
         ],
         "yaxis": "y"
        },
        {
         "line": {
          "color": "rgb(230, 172, 255.0)"
         },
         "marker": {
          "color": "rgb(230, 172, 255.0)",
          "size": 10
         },
         "mode": "lines+markers",
         "type": "scatter",
         "x": [
          0,
          0
         ],
         "xaxis": "x",
         "y": [
          0,
          0
         ],
         "yaxis": "y"
        },
        {
         "line": {
          "color": "rgb(230, 172, 255.0)"
         },
         "marker": {
          "color": "rgb(230, 172, 255.0)",
          "size": 10
         },
         "mode": "lines+markers",
         "type": "scatter",
         "x": [
          0,
          0
         ],
         "xaxis": "x",
         "y": [
          0,
          0
         ],
         "yaxis": "y"
        },
        {
         "line": {
          "color": "rgb(230, 172, 255.0)"
         },
         "marker": {
          "color": "rgb(230, 172, 255.0)",
          "size": 10
         },
         "mode": "lines+markers",
         "type": "scatter",
         "x": [
          0,
          0
         ],
         "xaxis": "x",
         "y": [
          0,
          0
         ],
         "yaxis": "y"
        },
        {
         "line": {
          "color": "rgb(230, 172, 255.0)"
         },
         "marker": {
          "color": "rgb(230, 172, 255.0)",
          "size": 10
         },
         "mode": "lines+markers",
         "type": "scatter",
         "x": [
          0,
          0
         ],
         "xaxis": "x",
         "y": [
          0,
          0
         ],
         "yaxis": "y"
        },
        {
         "line": {
          "color": "rgb(230, 172, 255.0)"
         },
         "marker": {
          "color": "rgb(230, 172, 255.0)",
          "size": 10
         },
         "mode": "lines+markers",
         "type": "scatter",
         "x": [
          0,
          0
         ],
         "xaxis": "x",
         "y": [
          0,
          0
         ],
         "yaxis": "y"
        },
        {
         "line": {
          "color": "rgb(230, 172, 255.0)"
         },
         "marker": {
          "color": "rgb(230, 172, 255.0)",
          "size": 10
         },
         "mode": "lines+markers",
         "type": "scatter",
         "x": [
          0,
          0
         ],
         "xaxis": "x",
         "y": [
          0,
          0
         ],
         "yaxis": "y"
        },
        {
         "line": {
          "color": "rgb(230, 172, 255.0)"
         },
         "marker": {
          "color": "rgb(230, 172, 255.0)",
          "size": 10
         },
         "mode": "lines+markers",
         "type": "scatter",
         "x": [
          0,
          0
         ],
         "xaxis": "x",
         "y": [
          0,
          0
         ],
         "yaxis": "y"
        },
        {
         "line": {
          "color": "rgb(230, 172, 255.0)"
         },
         "marker": {
          "color": "rgb(230, 172, 255.0)",
          "size": 10
         },
         "mode": "lines+markers",
         "type": "scatter",
         "x": [
          0,
          0
         ],
         "xaxis": "x",
         "y": [
          0,
          0
         ],
         "yaxis": "y"
        },
        {
         "line": {
          "color": "rgb(230, 172, 255.0)"
         },
         "marker": {
          "color": "rgb(230, 172, 255.0)",
          "size": 10
         },
         "mode": "lines+markers",
         "type": "scatter",
         "x": [
          0,
          0
         ],
         "xaxis": "x",
         "y": [
          0,
          0
         ],
         "yaxis": "y"
        },
        {
         "line": {
          "color": "rgb(230, 172, 255.0)"
         },
         "marker": {
          "color": "rgb(230, 172, 255.0)",
          "size": 10
         },
         "mode": "lines+markers",
         "type": "scatter",
         "x": [
          0,
          0
         ],
         "xaxis": "x",
         "y": [
          0,
          0
         ],
         "yaxis": "y"
        },
        {
         "line": {
          "color": "rgb(230, 172, 255.0)"
         },
         "marker": {
          "color": "rgb(230, 172, 255.0)",
          "size": 10
         },
         "mode": "lines+markers",
         "type": "scatter",
         "x": [
          0,
          0
         ],
         "xaxis": "x",
         "y": [
          0,
          0
         ],
         "yaxis": "y"
        },
        {
         "line": {
          "color": "rgb(230, 172, 255.0)"
         },
         "marker": {
          "color": "rgb(230, 172, 255.0)",
          "size": 10
         },
         "mode": "lines+markers",
         "type": "scatter",
         "x": [
          0,
          0
         ],
         "xaxis": "x",
         "y": [
          0,
          0
         ],
         "yaxis": "y"
        },
        {
         "line": {
          "color": "rgb(230, 172, 255.0)"
         },
         "marker": {
          "color": "rgb(230, 172, 255.0)",
          "size": 10
         },
         "mode": "lines+markers",
         "type": "scatter",
         "x": [
          0,
          0
         ],
         "xaxis": "x",
         "y": [
          0,
          0
         ],
         "yaxis": "y"
        },
        {
         "line": {
          "color": "rgb(230, 172, 255.0)"
         },
         "marker": {
          "color": "rgb(230, 172, 255.0)",
          "size": 10
         },
         "mode": "lines+markers",
         "type": "scatter",
         "x": [
          0,
          0
         ],
         "xaxis": "x",
         "y": [
          0,
          0
         ],
         "yaxis": "y"
        },
        {
         "line": {
          "color": "rgb(230, 172, 255.0)"
         },
         "marker": {
          "color": "rgb(230, 172, 255.0)",
          "size": 10
         },
         "mode": "lines+markers",
         "type": "scatter",
         "x": [
          0,
          0
         ],
         "xaxis": "x",
         "y": [
          0,
          0
         ],
         "yaxis": "y"
        },
        {
         "line": {
          "color": "rgb(230, 172, 255.0)"
         },
         "marker": {
          "color": "rgb(230, 172, 255.0)",
          "size": 10
         },
         "mode": "lines+markers",
         "type": "scatter",
         "x": [
          0,
          0
         ],
         "xaxis": "x",
         "y": [
          0,
          0
         ],
         "yaxis": "y"
        },
        {
         "line": {
          "color": "rgb(230, 172, 255.0)"
         },
         "marker": {
          "color": "rgb(230, 172, 255.0)",
          "size": 10
         },
         "mode": "lines+markers",
         "type": "scatter",
         "x": [
          0,
          0
         ],
         "xaxis": "x",
         "y": [
          0,
          0
         ],
         "yaxis": "y"
        },
        {
         "line": {
          "color": "rgb(230, 172, 255.0)"
         },
         "marker": {
          "color": "rgb(230, 172, 255.0)",
          "size": 10
         },
         "mode": "lines+markers",
         "type": "scatter",
         "x": [
          0,
          0
         ],
         "xaxis": "x",
         "y": [
          0,
          0
         ],
         "yaxis": "y"
        },
        {
         "line": {
          "color": "rgb(230, 172, 255.0)"
         },
         "marker": {
          "color": "rgb(230, 172, 255.0)",
          "size": 10
         },
         "mode": "lines+markers",
         "type": "scatter",
         "x": [
          0,
          0
         ],
         "xaxis": "x",
         "y": [
          0,
          0
         ],
         "yaxis": "y"
        },
        {
         "line": {
          "color": "rgb(230, 172, 255.0)"
         },
         "marker": {
          "color": "rgb(230, 172, 255.0)",
          "size": 10
         },
         "mode": "lines+markers",
         "type": "scatter",
         "x": [
          0,
          0
         ],
         "xaxis": "x",
         "y": [
          0,
          0
         ],
         "yaxis": "y"
        },
        {
         "line": {
          "color": "rgb(230, 172, 255.0)"
         },
         "marker": {
          "color": "rgb(230, 172, 255.0)",
          "size": 10
         },
         "mode": "lines+markers",
         "type": "scatter",
         "x": [
          0,
          0
         ],
         "xaxis": "x",
         "y": [
          0,
          0
         ],
         "yaxis": "y"
        },
        {
         "line": {
          "color": "rgb(230, 172, 255.0)"
         },
         "marker": {
          "color": "rgb(230, 172, 255.0)",
          "size": 10
         },
         "mode": "lines+markers",
         "type": "scatter",
         "x": [
          0,
          0
         ],
         "xaxis": "x",
         "y": [
          0,
          0
         ],
         "yaxis": "y"
        },
        {
         "line": {
          "color": "rgb(230, 172, 255.0)"
         },
         "marker": {
          "color": "rgb(230, 172, 255.0)",
          "size": 10
         },
         "mode": "lines+markers",
         "type": "scatter",
         "x": [
          0,
          0
         ],
         "xaxis": "x",
         "y": [
          0,
          0
         ],
         "yaxis": "y"
        },
        {
         "line": {
          "color": "rgb(230, 172, 255.0)"
         },
         "marker": {
          "color": "rgb(230, 172, 255.0)",
          "size": 10
         },
         "mode": "lines+markers",
         "type": "scatter",
         "x": [
          0,
          0
         ],
         "xaxis": "x",
         "y": [
          0,
          0
         ],
         "yaxis": "y"
        },
        {
         "line": {
          "color": "rgb(230, 172, 255.0)"
         },
         "marker": {
          "color": "rgb(230, 172, 255.0)",
          "size": 10
         },
         "mode": "lines+markers",
         "type": "scatter",
         "x": [
          0,
          0
         ],
         "xaxis": "x",
         "y": [
          0,
          0
         ],
         "yaxis": "y"
        },
        {
         "line": {
          "color": "rgb(230, 172, 255.0)"
         },
         "marker": {
          "color": "rgb(230, 172, 255.0)",
          "size": 10
         },
         "mode": "lines+markers",
         "type": "scatter",
         "x": [
          0,
          0
         ],
         "xaxis": "x",
         "y": [
          0,
          0
         ],
         "yaxis": "y"
        },
        {
         "line": {
          "color": "rgb(230, 172, 255.0)"
         },
         "marker": {
          "color": "rgb(230, 172, 255.0)",
          "size": 10
         },
         "mode": "lines+markers",
         "type": "scatter",
         "x": [
          0,
          0
         ],
         "xaxis": "x",
         "y": [
          0,
          0
         ],
         "yaxis": "y"
        },
        {
         "line": {
          "color": "rgb(230, 172, 255.0)"
         },
         "marker": {
          "color": "rgb(230, 172, 255.0)",
          "size": 10
         },
         "mode": "lines+markers",
         "type": "scatter",
         "x": [
          0,
          0
         ],
         "xaxis": "x",
         "y": [
          0,
          0
         ],
         "yaxis": "y"
        },
        {
         "line": {
          "color": "rgb(230, 172, 255.0)"
         },
         "marker": {
          "color": "rgb(230, 172, 255.0)",
          "size": 10
         },
         "mode": "lines+markers",
         "type": "scatter",
         "x": [
          0,
          0
         ],
         "xaxis": "x",
         "y": [
          0,
          0
         ],
         "yaxis": "y"
        },
        {
         "line": {
          "color": "rgb(230, 172, 255.0)"
         },
         "marker": {
          "color": "rgb(230, 172, 255.0)",
          "size": 10
         },
         "mode": "lines+markers",
         "type": "scatter",
         "x": [
          0,
          0
         ],
         "xaxis": "x",
         "y": [
          0,
          0
         ],
         "yaxis": "y"
        },
        {
         "line": {
          "color": "rgb(230, 172, 255.0)"
         },
         "marker": {
          "color": "rgb(230, 172, 255.0)",
          "size": 10
         },
         "mode": "lines+markers",
         "type": "scatter",
         "x": [
          0,
          0
         ],
         "xaxis": "x",
         "y": [
          0,
          0
         ],
         "yaxis": "y"
        },
        {
         "line": {
          "color": "rgb(230, 172, 255.0)"
         },
         "marker": {
          "color": "rgb(230, 172, 255.0)",
          "size": 10
         },
         "mode": "lines+markers",
         "type": "scatter",
         "x": [
          0,
          0
         ],
         "xaxis": "x",
         "y": [
          0,
          0
         ],
         "yaxis": "y"
        },
        {
         "line": {
          "color": "rgb(230, 172, 255.0)"
         },
         "marker": {
          "color": "rgb(230, 172, 255.0)",
          "size": 10
         },
         "mode": "lines+markers",
         "type": "scatter",
         "x": [
          0,
          0
         ],
         "xaxis": "x",
         "y": [
          0,
          0
         ],
         "yaxis": "y"
        },
        {
         "line": {
          "color": "rgb(230, 172, 255.0)"
         },
         "marker": {
          "color": "rgb(230, 172, 255.0)",
          "size": 10
         },
         "mode": "lines+markers",
         "type": "scatter",
         "x": [
          0,
          0
         ],
         "xaxis": "x",
         "y": [
          0,
          0
         ],
         "yaxis": "y"
        },
        {
         "line": {
          "color": "rgb(230, 172, 255.0)"
         },
         "marker": {
          "color": "rgb(230, 172, 255.0)",
          "size": 10
         },
         "mode": "lines+markers",
         "type": "scatter",
         "x": [
          0,
          0
         ],
         "xaxis": "x",
         "y": [
          0,
          0
         ],
         "yaxis": "y"
        },
        {
         "line": {
          "color": "rgb(230, 172, 255.0)"
         },
         "marker": {
          "color": "rgb(230, 172, 255.0)",
          "size": 10
         },
         "mode": "lines+markers",
         "type": "scatter",
         "x": [
          0,
          0
         ],
         "xaxis": "x",
         "y": [
          0,
          0
         ],
         "yaxis": "y"
        },
        {
         "line": {
          "color": "rgb(230, 172, 255.0)"
         },
         "marker": {
          "color": "rgb(230, 172, 255.0)",
          "size": 10
         },
         "mode": "lines+markers",
         "type": "scatter",
         "x": [
          0,
          0
         ],
         "xaxis": "x",
         "y": [
          0,
          0
         ],
         "yaxis": "y"
        },
        {
         "line": {
          "color": "rgb(230, 172, 255.0)"
         },
         "marker": {
          "color": "rgb(230, 172, 255.0)",
          "size": 10
         },
         "mode": "lines+markers",
         "type": "scatter",
         "x": [
          0,
          0
         ],
         "xaxis": "x",
         "y": [
          0,
          0
         ],
         "yaxis": "y"
        },
        {
         "line": {
          "color": "rgb(230, 172, 255.0)"
         },
         "marker": {
          "color": "rgb(230, 172, 255.0)",
          "size": 10
         },
         "mode": "lines+markers",
         "type": "scatter",
         "x": [
          0,
          0
         ],
         "xaxis": "x",
         "y": [
          0,
          0
         ],
         "yaxis": "y"
        },
        {
         "line": {
          "color": "rgb(230, 172, 255.0)"
         },
         "marker": {
          "color": "rgb(230, 172, 255.0)",
          "size": 10
         },
         "mode": "lines+markers",
         "type": "scatter",
         "x": [
          0,
          0
         ],
         "xaxis": "x",
         "y": [
          0,
          0
         ],
         "yaxis": "y"
        },
        {
         "line": {
          "color": "rgb(230, 172, 255.0)"
         },
         "marker": {
          "color": "rgb(230, 172, 255.0)",
          "size": 10
         },
         "mode": "lines+markers",
         "type": "scatter",
         "x": [
          0,
          0
         ],
         "xaxis": "x",
         "y": [
          0,
          0
         ],
         "yaxis": "y"
        },
        {
         "line": {
          "color": "rgb(230, 172, 255.0)"
         },
         "marker": {
          "color": "rgb(230, 172, 255.0)",
          "size": 10
         },
         "mode": "lines+markers",
         "type": "scatter",
         "x": [
          0,
          0
         ],
         "xaxis": "x",
         "y": [
          0,
          0
         ],
         "yaxis": "y"
        },
        {
         "line": {
          "color": "rgb(230, 172, 255.0)"
         },
         "marker": {
          "color": "rgb(230, 172, 255.0)",
          "size": 10
         },
         "mode": "lines+markers",
         "type": "scatter",
         "x": [
          0,
          0
         ],
         "xaxis": "x",
         "y": [
          0,
          0
         ],
         "yaxis": "y"
        },
        {
         "line": {
          "color": "rgb(230, 172, 255.0)"
         },
         "marker": {
          "color": "rgb(230, 172, 255.0)",
          "size": 10
         },
         "mode": "lines+markers",
         "type": "scatter",
         "x": [
          0,
          0
         ],
         "xaxis": "x",
         "y": [
          0,
          0
         ],
         "yaxis": "y"
        },
        {
         "line": {
          "color": "rgb(230, 172, 255.0)"
         },
         "marker": {
          "color": "rgb(230, 172, 255.0)",
          "size": 10
         },
         "mode": "lines+markers",
         "type": "scatter",
         "x": [
          0,
          0
         ],
         "xaxis": "x",
         "y": [
          0,
          0
         ],
         "yaxis": "y"
        },
        {
         "line": {
          "color": "rgb(230, 172, 255.0)"
         },
         "marker": {
          "color": "rgb(230, 172, 255.0)",
          "size": 10
         },
         "mode": "lines+markers",
         "type": "scatter",
         "x": [
          0,
          0
         ],
         "xaxis": "x",
         "y": [
          0,
          0
         ],
         "yaxis": "y"
        },
        {
         "line": {
          "color": "rgb(230, 172, 255.0)"
         },
         "marker": {
          "color": "rgb(230, 172, 255.0)",
          "size": 10
         },
         "mode": "lines+markers",
         "type": "scatter",
         "x": [
          0,
          0.2662521004676819
         ],
         "xaxis": "x",
         "y": [
          0,
          1.1122533082962036
         ],
         "yaxis": "y"
        },
        {
         "line": {
          "color": "rgb(230, 172, 255.0)"
         },
         "marker": {
          "color": "rgb(230, 172, 255.0)",
          "size": 10
         },
         "mode": "lines+markers",
         "type": "scatter",
         "x": [
          0,
          0
         ],
         "xaxis": "x",
         "y": [
          0,
          0
         ],
         "yaxis": "y"
        },
        {
         "line": {
          "color": "rgb(230, 172, 255.0)"
         },
         "marker": {
          "color": "rgb(230, 172, 255.0)",
          "size": 10
         },
         "mode": "lines+markers",
         "type": "scatter",
         "x": [
          0,
          0
         ],
         "xaxis": "x",
         "y": [
          0,
          0
         ],
         "yaxis": "y"
        },
        {
         "line": {
          "color": "rgb(230, 172, 255.0)"
         },
         "marker": {
          "color": "rgb(230, 172, 255.0)",
          "size": 10
         },
         "mode": "lines+markers",
         "type": "scatter",
         "x": [
          0,
          0
         ],
         "xaxis": "x",
         "y": [
          0,
          0
         ],
         "yaxis": "y"
        },
        {
         "line": {
          "color": "rgb(230, 172, 255.0)"
         },
         "marker": {
          "color": "rgb(230, 172, 255.0)",
          "size": 10
         },
         "mode": "lines+markers",
         "type": "scatter",
         "x": [
          0,
          0
         ],
         "xaxis": "x",
         "y": [
          0,
          0
         ],
         "yaxis": "y"
        },
        {
         "line": {
          "color": "rgb(230, 172, 255.0)"
         },
         "marker": {
          "color": "rgb(230, 172, 255.0)",
          "size": 10
         },
         "mode": "lines+markers",
         "type": "scatter",
         "x": [
          0,
          0
         ],
         "xaxis": "x",
         "y": [
          0,
          0
         ],
         "yaxis": "y"
        },
        {
         "line": {
          "color": "rgb(230, 172, 255.0)"
         },
         "marker": {
          "color": "rgb(230, 172, 255.0)",
          "size": 10
         },
         "mode": "lines+markers",
         "type": "scatter",
         "x": [
          0,
          0
         ],
         "xaxis": "x",
         "y": [
          0,
          0
         ],
         "yaxis": "y"
        },
        {
         "line": {
          "color": "rgb(230, 172, 255.0)"
         },
         "marker": {
          "color": "rgb(230, 172, 255.0)",
          "size": 10
         },
         "mode": "lines+markers",
         "type": "scatter",
         "x": [
          0,
          0
         ],
         "xaxis": "x",
         "y": [
          0,
          0
         ],
         "yaxis": "y"
        },
        {
         "line": {
          "color": "rgb(230, 172, 255.0)"
         },
         "marker": {
          "color": "rgb(230, 172, 255.0)",
          "size": 10
         },
         "mode": "lines+markers",
         "type": "scatter",
         "x": [
          0,
          0
         ],
         "xaxis": "x",
         "y": [
          0,
          0
         ],
         "yaxis": "y"
        },
        {
         "line": {
          "color": "rgb(230, 172, 255.0)"
         },
         "marker": {
          "color": "rgb(230, 172, 255.0)",
          "size": 10
         },
         "mode": "lines+markers",
         "type": "scatter",
         "x": [
          0,
          0
         ],
         "xaxis": "x",
         "y": [
          0,
          0
         ],
         "yaxis": "y"
        },
        {
         "line": {
          "color": "rgb(230, 172, 255.0)"
         },
         "marker": {
          "color": "rgb(230, 172, 255.0)",
          "size": 10
         },
         "mode": "lines+markers",
         "type": "scatter",
         "x": [
          0,
          0
         ],
         "xaxis": "x",
         "y": [
          0,
          0
         ],
         "yaxis": "y"
        },
        {
         "line": {
          "color": "rgb(230, 172, 255.0)"
         },
         "marker": {
          "color": "rgb(230, 172, 255.0)",
          "size": 10
         },
         "mode": "lines+markers",
         "type": "scatter",
         "x": [
          0,
          0
         ],
         "xaxis": "x",
         "y": [
          0,
          0
         ],
         "yaxis": "y"
        },
        {
         "line": {
          "color": "rgb(230, 172, 255.0)"
         },
         "marker": {
          "color": "rgb(230, 172, 255.0)",
          "size": 10
         },
         "mode": "lines+markers",
         "type": "scatter",
         "x": [
          0,
          0
         ],
         "xaxis": "x",
         "y": [
          0,
          0
         ],
         "yaxis": "y"
        },
        {
         "line": {
          "color": "rgb(230, 172, 255.0)"
         },
         "marker": {
          "color": "rgb(230, 172, 255.0)",
          "size": 10
         },
         "mode": "lines+markers",
         "type": "scatter",
         "x": [
          0,
          0
         ],
         "xaxis": "x",
         "y": [
          0,
          0
         ],
         "yaxis": "y"
        },
        {
         "line": {
          "color": "rgb(230, 172, 255.0)"
         },
         "marker": {
          "color": "rgb(230, 172, 255.0)",
          "size": 10
         },
         "mode": "lines+markers",
         "type": "scatter",
         "x": [
          0,
          0
         ],
         "xaxis": "x",
         "y": [
          0,
          0
         ],
         "yaxis": "y"
        },
        {
         "line": {
          "color": "rgb(230, 172, 255.0)"
         },
         "marker": {
          "color": "rgb(230, 172, 255.0)",
          "size": 10
         },
         "mode": "lines+markers",
         "type": "scatter",
         "x": [
          0,
          0
         ],
         "xaxis": "x",
         "y": [
          0,
          0
         ],
         "yaxis": "y"
        },
        {
         "line": {
          "color": "rgb(230, 172, 255.0)"
         },
         "marker": {
          "color": "rgb(230, 172, 255.0)",
          "size": 10
         },
         "mode": "lines+markers",
         "type": "scatter",
         "x": [
          0,
          0
         ],
         "xaxis": "x",
         "y": [
          0,
          0
         ],
         "yaxis": "y"
        },
        {
         "line": {
          "color": "rgb(230, 172, 255.0)"
         },
         "marker": {
          "color": "rgb(230, 172, 255.0)",
          "size": 10
         },
         "mode": "lines+markers",
         "type": "scatter",
         "x": [
          0,
          0
         ],
         "xaxis": "x",
         "y": [
          0,
          0
         ],
         "yaxis": "y"
        },
        {
         "line": {
          "color": "rgb(230, 172, 255.0)"
         },
         "marker": {
          "color": "rgb(230, 172, 255.0)",
          "size": 10
         },
         "mode": "lines+markers",
         "type": "scatter",
         "x": [
          0,
          0
         ],
         "xaxis": "x",
         "y": [
          0,
          0
         ],
         "yaxis": "y"
        },
        {
         "line": {
          "color": "rgb(230, 172, 255.0)"
         },
         "marker": {
          "color": "rgb(230, 172, 255.0)",
          "size": 10
         },
         "mode": "lines+markers",
         "type": "scatter",
         "x": [
          0,
          0
         ],
         "xaxis": "x",
         "y": [
          0,
          0
         ],
         "yaxis": "y"
        },
        {
         "line": {
          "color": "rgb(230, 172, 255.0)"
         },
         "marker": {
          "color": "rgb(230, 172, 255.0)",
          "size": 10
         },
         "mode": "lines+markers",
         "type": "scatter",
         "x": [
          0,
          0
         ],
         "xaxis": "x",
         "y": [
          0,
          0
         ],
         "yaxis": "y"
        },
        {
         "line": {
          "color": "rgb(230, 172, 255.0)"
         },
         "marker": {
          "color": "rgb(230, 172, 255.0)",
          "size": 10
         },
         "mode": "lines+markers",
         "type": "scatter",
         "x": [
          0,
          0
         ],
         "xaxis": "x",
         "y": [
          0,
          0
         ],
         "yaxis": "y"
        },
        {
         "line": {
          "color": "rgb(230, 172, 255.0)"
         },
         "marker": {
          "color": "rgb(230, 172, 255.0)",
          "size": 10
         },
         "mode": "lines+markers",
         "type": "scatter",
         "x": [
          0,
          0
         ],
         "xaxis": "x",
         "y": [
          0,
          0
         ],
         "yaxis": "y"
        },
        {
         "line": {
          "color": "rgb(230, 172, 255.0)"
         },
         "marker": {
          "color": "rgb(230, 172, 255.0)",
          "size": 10
         },
         "mode": "lines+markers",
         "type": "scatter",
         "x": [
          0,
          0
         ],
         "xaxis": "x",
         "y": [
          0,
          0
         ],
         "yaxis": "y"
        },
        {
         "line": {
          "color": "rgb(230, 172, 255.0)"
         },
         "marker": {
          "color": "rgb(230, 172, 255.0)",
          "size": 10
         },
         "mode": "lines+markers",
         "type": "scatter",
         "x": [
          0,
          0
         ],
         "xaxis": "x",
         "y": [
          0,
          0
         ],
         "yaxis": "y"
        },
        {
         "line": {
          "color": "rgb(230, 172, 255.0)"
         },
         "marker": {
          "color": "rgb(230, 172, 255.0)",
          "size": 10
         },
         "mode": "lines+markers",
         "type": "scatter",
         "x": [
          0,
          0
         ],
         "xaxis": "x",
         "y": [
          0,
          0
         ],
         "yaxis": "y"
        },
        {
         "line": {
          "color": "rgb(230, 172, 255.0)"
         },
         "marker": {
          "color": "rgb(230, 172, 255.0)",
          "size": 10
         },
         "mode": "lines+markers",
         "type": "scatter",
         "x": [
          0,
          0
         ],
         "xaxis": "x",
         "y": [
          0,
          0
         ],
         "yaxis": "y"
        },
        {
         "line": {
          "color": "rgb(230, 172, 255.0)"
         },
         "marker": {
          "color": "rgb(230, 172, 255.0)",
          "size": 10
         },
         "mode": "lines+markers",
         "type": "scatter",
         "x": [
          0,
          0
         ],
         "xaxis": "x",
         "y": [
          0,
          0
         ],
         "yaxis": "y"
        },
        {
         "line": {
          "color": "rgb(230, 172, 255.0)"
         },
         "marker": {
          "color": "rgb(230, 172, 255.0)",
          "size": 10
         },
         "mode": "lines+markers",
         "type": "scatter",
         "x": [
          0,
          0
         ],
         "xaxis": "x",
         "y": [
          0,
          0
         ],
         "yaxis": "y"
        },
        {
         "line": {
          "color": "rgb(230, 172, 255.0)"
         },
         "marker": {
          "color": "rgb(230, 172, 255.0)",
          "size": 10
         },
         "mode": "lines+markers",
         "type": "scatter",
         "x": [
          0,
          0
         ],
         "xaxis": "x",
         "y": [
          0,
          0
         ],
         "yaxis": "y"
        },
        {
         "line": {
          "color": "rgb(230, 172, 255.0)"
         },
         "marker": {
          "color": "rgb(230, 172, 255.0)",
          "size": 10
         },
         "mode": "lines+markers",
         "type": "scatter",
         "x": [
          0,
          0
         ],
         "xaxis": "x",
         "y": [
          0,
          0
         ],
         "yaxis": "y"
        },
        {
         "line": {
          "color": "rgb(230, 172, 255.0)"
         },
         "marker": {
          "color": "rgb(230, 172, 255.0)",
          "size": 10
         },
         "mode": "lines+markers",
         "type": "scatter",
         "x": [
          0,
          0
         ],
         "xaxis": "x",
         "y": [
          0,
          0
         ],
         "yaxis": "y"
        },
        {
         "line": {
          "color": "rgb(230, 172, 255.0)"
         },
         "marker": {
          "color": "rgb(230, 172, 255.0)",
          "size": 10
         },
         "mode": "lines+markers",
         "type": "scatter",
         "x": [
          0,
          0
         ],
         "xaxis": "x",
         "y": [
          0,
          0
         ],
         "yaxis": "y"
        },
        {
         "line": {
          "color": "rgb(230, 172, 255.0)"
         },
         "marker": {
          "color": "rgb(230, 172, 255.0)",
          "size": 10
         },
         "mode": "lines+markers",
         "type": "scatter",
         "x": [
          0,
          0
         ],
         "xaxis": "x",
         "y": [
          0,
          0
         ],
         "yaxis": "y"
        },
        {
         "line": {
          "color": "rgb(230, 172, 255.0)"
         },
         "marker": {
          "color": "rgb(230, 172, 255.0)",
          "size": 10
         },
         "mode": "lines+markers",
         "type": "scatter",
         "x": [
          0,
          0
         ],
         "xaxis": "x",
         "y": [
          0,
          0
         ],
         "yaxis": "y"
        },
        {
         "line": {
          "color": "rgb(230, 172, 255.0)"
         },
         "marker": {
          "color": "rgb(230, 172, 255.0)",
          "size": 10
         },
         "mode": "lines+markers",
         "type": "scatter",
         "x": [
          0,
          0
         ],
         "xaxis": "x",
         "y": [
          0,
          0
         ],
         "yaxis": "y"
        },
        {
         "line": {
          "color": "rgb(230, 172, 255.0)"
         },
         "marker": {
          "color": "rgb(230, 172, 255.0)",
          "size": 10
         },
         "mode": "lines+markers",
         "type": "scatter",
         "x": [
          0,
          0
         ],
         "xaxis": "x",
         "y": [
          0,
          0
         ],
         "yaxis": "y"
        },
        {
         "line": {
          "color": "rgb(230, 172, 255.0)"
         },
         "marker": {
          "color": "rgb(230, 172, 255.0)",
          "size": 10
         },
         "mode": "lines+markers",
         "type": "scatter",
         "x": [
          0,
          0
         ],
         "xaxis": "x",
         "y": [
          0,
          0
         ],
         "yaxis": "y"
        },
        {
         "line": {
          "color": "rgb(230, 172, 255.0)"
         },
         "marker": {
          "color": "rgb(230, 172, 255.0)",
          "size": 10
         },
         "mode": "lines+markers",
         "type": "scatter",
         "x": [
          0,
          0
         ],
         "xaxis": "x",
         "y": [
          0,
          0
         ],
         "yaxis": "y"
        },
        {
         "line": {
          "color": "rgb(230, 172, 255.0)"
         },
         "marker": {
          "color": "rgb(230, 172, 255.0)",
          "size": 10
         },
         "mode": "lines+markers",
         "type": "scatter",
         "x": [
          0,
          0
         ],
         "xaxis": "x",
         "y": [
          0,
          0
         ],
         "yaxis": "y"
        },
        {
         "line": {
          "color": "rgb(230, 172, 255.0)"
         },
         "marker": {
          "color": "rgb(230, 172, 255.0)",
          "size": 10
         },
         "mode": "lines+markers",
         "type": "scatter",
         "x": [
          0,
          0
         ],
         "xaxis": "x",
         "y": [
          0,
          0
         ],
         "yaxis": "y"
        },
        {
         "line": {
          "color": "rgb(230, 172, 255.0)"
         },
         "marker": {
          "color": "rgb(230, 172, 255.0)",
          "size": 10
         },
         "mode": "lines+markers",
         "type": "scatter",
         "x": [
          0,
          0
         ],
         "xaxis": "x",
         "y": [
          0,
          0
         ],
         "yaxis": "y"
        },
        {
         "line": {
          "color": "rgb(230, 172, 255.0)"
         },
         "marker": {
          "color": "rgb(230, 172, 255.0)",
          "size": 10
         },
         "mode": "lines+markers",
         "type": "scatter",
         "x": [
          0,
          0
         ],
         "xaxis": "x",
         "y": [
          0,
          0
         ],
         "yaxis": "y"
        },
        {
         "line": {
          "color": "rgb(230, 172, 255.0)"
         },
         "marker": {
          "color": "rgb(230, 172, 255.0)",
          "size": 10
         },
         "mode": "lines+markers",
         "type": "scatter",
         "x": [
          0,
          0
         ],
         "xaxis": "x",
         "y": [
          0,
          0
         ],
         "yaxis": "y"
        },
        {
         "line": {
          "color": "rgb(230, 172, 255.0)"
         },
         "marker": {
          "color": "rgb(230, 172, 255.0)",
          "size": 10
         },
         "mode": "lines+markers",
         "type": "scatter",
         "x": [
          0,
          0
         ],
         "xaxis": "x",
         "y": [
          0,
          0
         ],
         "yaxis": "y"
        },
        {
         "line": {
          "color": "rgb(230, 172, 255.0)"
         },
         "marker": {
          "color": "rgb(230, 172, 255.0)",
          "size": 10
         },
         "mode": "lines+markers",
         "type": "scatter",
         "x": [
          0,
          0
         ],
         "xaxis": "x",
         "y": [
          0,
          0
         ],
         "yaxis": "y"
        },
        {
         "line": {
          "color": "rgb(230, 172, 255.0)"
         },
         "marker": {
          "color": "rgb(230, 172, 255.0)",
          "size": 10
         },
         "mode": "lines+markers",
         "type": "scatter",
         "x": [
          0,
          0
         ],
         "xaxis": "x",
         "y": [
          0,
          0
         ],
         "yaxis": "y"
        },
        {
         "line": {
          "color": "rgb(230, 172, 255.0)"
         },
         "marker": {
          "color": "rgb(230, 172, 255.0)",
          "size": 10
         },
         "mode": "lines+markers",
         "type": "scatter",
         "x": [
          0,
          0
         ],
         "xaxis": "x",
         "y": [
          0,
          0
         ],
         "yaxis": "y"
        },
        {
         "line": {
          "color": "rgb(230, 172, 255.0)"
         },
         "marker": {
          "color": "rgb(230, 172, 255.0)",
          "size": 10
         },
         "mode": "lines+markers",
         "type": "scatter",
         "x": [
          0,
          0
         ],
         "xaxis": "x",
         "y": [
          0,
          0
         ],
         "yaxis": "y"
        },
        {
         "line": {
          "color": "rgb(230, 172, 255.0)"
         },
         "marker": {
          "color": "rgb(230, 172, 255.0)",
          "size": 10
         },
         "mode": "lines+markers",
         "type": "scatter",
         "x": [
          0,
          0
         ],
         "xaxis": "x",
         "y": [
          0,
          0
         ],
         "yaxis": "y"
        },
        {
         "line": {
          "color": "rgb(230, 172, 255.0)"
         },
         "marker": {
          "color": "rgb(230, 172, 255.0)",
          "size": 10
         },
         "mode": "lines+markers",
         "type": "scatter",
         "x": [
          0,
          0
         ],
         "xaxis": "x",
         "y": [
          0,
          0
         ],
         "yaxis": "y"
        },
        {
         "line": {
          "color": "rgb(230, 172, 255.0)"
         },
         "marker": {
          "color": "rgb(230, 172, 255.0)",
          "size": 10
         },
         "mode": "lines+markers",
         "type": "scatter",
         "x": [
          0,
          0
         ],
         "xaxis": "x",
         "y": [
          0,
          0
         ],
         "yaxis": "y"
        },
        {
         "line": {
          "color": "rgb(230, 172, 255.0)"
         },
         "marker": {
          "color": "rgb(230, 172, 255.0)",
          "size": 10
         },
         "mode": "lines+markers",
         "type": "scatter",
         "x": [
          0,
          0
         ],
         "xaxis": "x",
         "y": [
          0,
          0
         ],
         "yaxis": "y"
        },
        {
         "line": {
          "color": "rgb(230, 172, 255.0)"
         },
         "marker": {
          "color": "rgb(230, 172, 255.0)",
          "size": 10
         },
         "mode": "lines+markers",
         "type": "scatter",
         "x": [
          0,
          0
         ],
         "xaxis": "x",
         "y": [
          0,
          0
         ],
         "yaxis": "y"
        },
        {
         "line": {
          "color": "rgb(230, 172, 255.0)"
         },
         "marker": {
          "color": "rgb(230, 172, 255.0)",
          "size": 10
         },
         "mode": "lines+markers",
         "type": "scatter",
         "x": [
          0,
          0
         ],
         "xaxis": "x",
         "y": [
          0,
          0
         ],
         "yaxis": "y"
        },
        {
         "line": {
          "color": "rgb(230, 172, 255.0)"
         },
         "marker": {
          "color": "rgb(230, 172, 255.0)",
          "size": 10
         },
         "mode": "lines+markers",
         "type": "scatter",
         "x": [
          0,
          0
         ],
         "xaxis": "x",
         "y": [
          0,
          0
         ],
         "yaxis": "y"
        },
        {
         "line": {
          "color": "rgb(230, 172, 255.0)"
         },
         "marker": {
          "color": "rgb(230, 172, 255.0)",
          "size": 10
         },
         "mode": "lines+markers",
         "type": "scatter",
         "x": [
          0,
          0
         ],
         "xaxis": "x",
         "y": [
          0,
          0
         ],
         "yaxis": "y"
        },
        {
         "line": {
          "color": "rgb(230, 172, 255.0)"
         },
         "marker": {
          "color": "rgb(230, 172, 255.0)",
          "size": 10
         },
         "mode": "lines+markers",
         "type": "scatter",
         "x": [
          0,
          0
         ],
         "xaxis": "x",
         "y": [
          0,
          0
         ],
         "yaxis": "y"
        },
        {
         "line": {
          "color": "rgb(230, 172, 255.0)"
         },
         "marker": {
          "color": "rgb(230, 172, 255.0)",
          "size": 10
         },
         "mode": "lines+markers",
         "type": "scatter",
         "x": [
          0,
          0
         ],
         "xaxis": "x",
         "y": [
          0,
          0
         ],
         "yaxis": "y"
        },
        {
         "line": {
          "color": "rgb(230, 172, 255.0)"
         },
         "marker": {
          "color": "rgb(230, 172, 255.0)",
          "size": 10
         },
         "mode": "lines+markers",
         "type": "scatter",
         "x": [
          0,
          0
         ],
         "xaxis": "x",
         "y": [
          0,
          0
         ],
         "yaxis": "y"
        },
        {
         "line": {
          "color": "rgb(230, 172, 255.0)"
         },
         "marker": {
          "color": "rgb(230, 172, 255.0)",
          "size": 10
         },
         "mode": "lines+markers",
         "type": "scatter",
         "x": [
          0,
          0
         ],
         "xaxis": "x",
         "y": [
          0,
          0
         ],
         "yaxis": "y"
        },
        {
         "line": {
          "color": "rgb(230, 172, 255.0)"
         },
         "marker": {
          "color": "rgb(230, 172, 255.0)",
          "size": 10
         },
         "mode": "lines+markers",
         "type": "scatter",
         "x": [
          0,
          0
         ],
         "xaxis": "x",
         "y": [
          0,
          0
         ],
         "yaxis": "y"
        },
        {
         "line": {
          "color": "rgb(230, 172, 255.0)"
         },
         "marker": {
          "color": "rgb(230, 172, 255.0)",
          "size": 10
         },
         "mode": "lines+markers",
         "type": "scatter",
         "x": [
          0,
          0
         ],
         "xaxis": "x",
         "y": [
          0,
          0
         ],
         "yaxis": "y"
        },
        {
         "line": {
          "color": "rgb(230, 172, 255.0)"
         },
         "marker": {
          "color": "rgb(230, 172, 255.0)",
          "size": 10
         },
         "mode": "lines+markers",
         "type": "scatter",
         "x": [
          0,
          0
         ],
         "xaxis": "x",
         "y": [
          0,
          0
         ],
         "yaxis": "y"
        },
        {
         "line": {
          "color": "rgb(230, 172, 255.0)"
         },
         "marker": {
          "color": "rgb(230, 172, 255.0)",
          "size": 10
         },
         "mode": "lines+markers",
         "type": "scatter",
         "x": [
          0,
          0
         ],
         "xaxis": "x",
         "y": [
          0,
          0
         ],
         "yaxis": "y"
        },
        {
         "line": {
          "color": "rgb(230, 172, 255.0)"
         },
         "marker": {
          "color": "rgb(230, 172, 255.0)",
          "size": 10
         },
         "mode": "lines+markers",
         "type": "scatter",
         "x": [
          0,
          0
         ],
         "xaxis": "x",
         "y": [
          0,
          0
         ],
         "yaxis": "y"
        },
        {
         "line": {
          "color": "rgb(230, 172, 255.0)"
         },
         "marker": {
          "color": "rgb(230, 172, 255.0)",
          "size": 10
         },
         "mode": "lines+markers",
         "type": "scatter",
         "x": [
          0,
          0
         ],
         "xaxis": "x",
         "y": [
          0,
          0
         ],
         "yaxis": "y"
        },
        {
         "line": {
          "color": "rgb(230, 172, 255.0)"
         },
         "marker": {
          "color": "rgb(230, 172, 255.0)",
          "size": 10
         },
         "mode": "lines+markers",
         "type": "scatter",
         "x": [
          0,
          0
         ],
         "xaxis": "x",
         "y": [
          0,
          0
         ],
         "yaxis": "y"
        },
        {
         "line": {
          "color": "rgb(230, 172, 255.0)"
         },
         "marker": {
          "color": "rgb(230, 172, 255.0)",
          "size": 10
         },
         "mode": "lines+markers",
         "type": "scatter",
         "x": [
          0,
          0
         ],
         "xaxis": "x",
         "y": [
          0,
          0
         ],
         "yaxis": "y"
        },
        {
         "line": {
          "color": "rgb(230, 172, 255.0)"
         },
         "marker": {
          "color": "rgb(230, 172, 255.0)",
          "size": 10
         },
         "mode": "lines+markers",
         "type": "scatter",
         "x": [
          0,
          0
         ],
         "xaxis": "x",
         "y": [
          0,
          0
         ],
         "yaxis": "y"
        },
        {
         "line": {
          "color": "rgb(230, 172, 255.0)"
         },
         "marker": {
          "color": "rgb(230, 172, 255.0)",
          "size": 10
         },
         "mode": "lines+markers",
         "type": "scatter",
         "x": [
          0,
          0
         ],
         "xaxis": "x",
         "y": [
          0,
          0
         ],
         "yaxis": "y"
        },
        {
         "line": {
          "color": "rgb(230, 172, 255.0)"
         },
         "marker": {
          "color": "rgb(230, 172, 255.0)",
          "size": 10
         },
         "mode": "lines+markers",
         "type": "scatter",
         "x": [
          0,
          0
         ],
         "xaxis": "x",
         "y": [
          0,
          0
         ],
         "yaxis": "y"
        },
        {
         "line": {
          "color": "rgb(230, 172, 255.0)"
         },
         "marker": {
          "color": "rgb(230, 172, 255.0)",
          "size": 10
         },
         "mode": "lines+markers",
         "type": "scatter",
         "x": [
          0,
          0
         ],
         "xaxis": "x",
         "y": [
          0,
          0
         ],
         "yaxis": "y"
        },
        {
         "line": {
          "color": "rgb(230, 172, 255.0)"
         },
         "marker": {
          "color": "rgb(230, 172, 255.0)",
          "size": 10
         },
         "mode": "lines+markers",
         "type": "scatter",
         "x": [
          0,
          0.2662521004676819
         ],
         "xaxis": "x",
         "y": [
          0,
          1.1122533082962036
         ],
         "yaxis": "y"
        },
        {
         "line": {
          "color": "rgb(230, 172, 255.0)"
         },
         "marker": {
          "color": "rgb(230, 172, 255.0)",
          "size": 10
         },
         "mode": "lines+markers",
         "type": "scatter",
         "x": [
          0,
          0
         ],
         "xaxis": "x",
         "y": [
          0,
          0
         ],
         "yaxis": "y"
        },
        {
         "line": {
          "color": "rgb(230, 172, 255.0)"
         },
         "marker": {
          "color": "rgb(230, 172, 255.0)",
          "size": 10
         },
         "mode": "lines+markers",
         "type": "scatter",
         "x": [
          0,
          -0.9741505980491638
         ],
         "xaxis": "x",
         "y": [
          0,
          0.6108540296554565
         ],
         "yaxis": "y"
        },
        {
         "line": {
          "color": "rgb(230, 172, 255.0)"
         },
         "marker": {
          "color": "rgb(230, 172, 255.0)",
          "size": 10
         },
         "mode": "lines+markers",
         "type": "scatter",
         "x": [
          0,
          0
         ],
         "xaxis": "x",
         "y": [
          0,
          0
         ],
         "yaxis": "y"
        },
        {
         "line": {
          "color": "rgb(230, 172, 255.0)"
         },
         "marker": {
          "color": "rgb(230, 172, 255.0)",
          "size": 10
         },
         "mode": "lines+markers",
         "type": "scatter",
         "x": [
          0,
          0
         ],
         "xaxis": "x",
         "y": [
          0,
          0
         ],
         "yaxis": "y"
        },
        {
         "line": {
          "color": "rgb(230, 172, 255.0)"
         },
         "marker": {
          "color": "rgb(230, 172, 255.0)",
          "size": 10
         },
         "mode": "lines+markers",
         "type": "scatter",
         "x": [
          0,
          0
         ],
         "xaxis": "x",
         "y": [
          0,
          0
         ],
         "yaxis": "y"
        },
        {
         "line": {
          "color": "rgb(230, 172, 255.0)"
         },
         "marker": {
          "color": "rgb(230, 172, 255.0)",
          "size": 10
         },
         "mode": "lines+markers",
         "type": "scatter",
         "x": [
          0,
          1.1500757932662964
         ],
         "xaxis": "x",
         "y": [
          0,
          0.10035640746355057
         ],
         "yaxis": "y"
        },
        {
         "line": {
          "color": "rgb(230, 172, 255.0)"
         },
         "marker": {
          "color": "rgb(230, 172, 255.0)",
          "size": 10
         },
         "mode": "lines+markers",
         "type": "scatter",
         "x": [
          0,
          0
         ],
         "xaxis": "x",
         "y": [
          0,
          0
         ],
         "yaxis": "y"
        },
        {
         "line": {
          "color": "rgb(230, 172, 255.0)"
         },
         "marker": {
          "color": "rgb(230, 172, 255.0)",
          "size": 10
         },
         "mode": "lines+markers",
         "type": "scatter",
         "x": [
          0,
          0
         ],
         "xaxis": "x",
         "y": [
          0,
          0
         ],
         "yaxis": "y"
        },
        {
         "line": {
          "color": "rgb(230, 172, 255.0)"
         },
         "marker": {
          "color": "rgb(230, 172, 255.0)",
          "size": 10
         },
         "mode": "lines+markers",
         "type": "scatter",
         "x": [
          0,
          0
         ],
         "xaxis": "x",
         "y": [
          0,
          0
         ],
         "yaxis": "y"
        },
        {
         "line": {
          "color": "rgb(230, 172, 255.0)"
         },
         "marker": {
          "color": "rgb(230, 172, 255.0)",
          "size": 10
         },
         "mode": "lines+markers",
         "type": "scatter",
         "x": [
          0,
          0
         ],
         "xaxis": "x",
         "y": [
          0,
          0
         ],
         "yaxis": "y"
        },
        {
         "line": {
          "color": "rgb(230, 172, 255.0)"
         },
         "marker": {
          "color": "rgb(230, 172, 255.0)",
          "size": 10
         },
         "mode": "lines+markers",
         "type": "scatter",
         "x": [
          0,
          0
         ],
         "xaxis": "x",
         "y": [
          0,
          0
         ],
         "yaxis": "y"
        },
        {
         "line": {
          "color": "rgb(230, 172, 255.0)"
         },
         "marker": {
          "color": "rgb(230, 172, 255.0)",
          "size": 10
         },
         "mode": "lines+markers",
         "type": "scatter",
         "x": [
          0,
          -0.9741505980491638
         ],
         "xaxis": "x",
         "y": [
          0,
          0.6108540296554565
         ],
         "yaxis": "y"
        },
        {
         "line": {
          "color": "rgb(230, 172, 255.0)"
         },
         "marker": {
          "color": "rgb(230, 172, 255.0)",
          "size": 10
         },
         "mode": "lines+markers",
         "type": "scatter",
         "x": [
          0,
          0
         ],
         "xaxis": "x",
         "y": [
          0,
          0
         ],
         "yaxis": "y"
        },
        {
         "line": {
          "color": "rgb(230, 172, 255.0)"
         },
         "marker": {
          "color": "rgb(230, 172, 255.0)",
          "size": 10
         },
         "mode": "lines+markers",
         "type": "scatter",
         "x": [
          0,
          0
         ],
         "xaxis": "x",
         "y": [
          0,
          0
         ],
         "yaxis": "y"
        },
        {
         "line": {
          "color": "rgb(230, 172, 255.0)"
         },
         "marker": {
          "color": "rgb(230, 172, 255.0)",
          "size": 10
         },
         "mode": "lines+markers",
         "type": "scatter",
         "x": [
          0,
          0
         ],
         "xaxis": "x",
         "y": [
          0,
          0
         ],
         "yaxis": "y"
        },
        {
         "line": {
          "color": "rgb(230, 172, 255.0)"
         },
         "marker": {
          "color": "rgb(230, 172, 255.0)",
          "size": 10
         },
         "mode": "lines+markers",
         "type": "scatter",
         "x": [
          0,
          0
         ],
         "xaxis": "x",
         "y": [
          0,
          0
         ],
         "yaxis": "y"
        },
        {
         "line": {
          "color": "rgb(230, 172, 255.0)"
         },
         "marker": {
          "color": "rgb(230, 172, 255.0)",
          "size": 10
         },
         "mode": "lines+markers",
         "type": "scatter",
         "x": [
          0,
          0
         ],
         "xaxis": "x",
         "y": [
          0,
          0
         ],
         "yaxis": "y"
        },
        {
         "line": {
          "color": "rgb(230, 172, 255.0)"
         },
         "marker": {
          "color": "rgb(230, 172, 255.0)",
          "size": 10
         },
         "mode": "lines+markers",
         "type": "scatter",
         "x": [
          0,
          0
         ],
         "xaxis": "x",
         "y": [
          0,
          0
         ],
         "yaxis": "y"
        },
        {
         "line": {
          "color": "rgb(230, 172, 255.0)"
         },
         "marker": {
          "color": "rgb(230, 172, 255.0)",
          "size": 10
         },
         "mode": "lines+markers",
         "type": "scatter",
         "x": [
          0,
          0
         ],
         "xaxis": "x",
         "y": [
          0,
          0
         ],
         "yaxis": "y"
        },
        {
         "line": {
          "color": "rgb(230, 172, 255.0)"
         },
         "marker": {
          "color": "rgb(230, 172, 255.0)",
          "size": 10
         },
         "mode": "lines+markers",
         "type": "scatter",
         "x": [
          0,
          0
         ],
         "xaxis": "x",
         "y": [
          0,
          0
         ],
         "yaxis": "y"
        },
        {
         "line": {
          "color": "rgb(230, 172, 255.0)"
         },
         "marker": {
          "color": "rgb(230, 172, 255.0)",
          "size": 10
         },
         "mode": "lines+markers",
         "type": "scatter",
         "x": [
          0,
          0
         ],
         "xaxis": "x",
         "y": [
          0,
          0
         ],
         "yaxis": "y"
        },
        {
         "line": {
          "color": "rgb(230, 172, 255.0)"
         },
         "marker": {
          "color": "rgb(230, 172, 255.0)",
          "size": 10
         },
         "mode": "lines+markers",
         "type": "scatter",
         "x": [
          0,
          0
         ],
         "xaxis": "x",
         "y": [
          0,
          0
         ],
         "yaxis": "y"
        },
        {
         "line": {
          "color": "rgb(230, 172, 255.0)"
         },
         "marker": {
          "color": "rgb(230, 172, 255.0)",
          "size": 10
         },
         "mode": "lines+markers",
         "type": "scatter",
         "x": [
          0,
          0
         ],
         "xaxis": "x",
         "y": [
          0,
          0
         ],
         "yaxis": "y"
        },
        {
         "line": {
          "color": "rgb(230, 172, 255.0)"
         },
         "marker": {
          "color": "rgb(230, 172, 255.0)",
          "size": 10
         },
         "mode": "lines+markers",
         "type": "scatter",
         "x": [
          0,
          0
         ],
         "xaxis": "x",
         "y": [
          0,
          0
         ],
         "yaxis": "y"
        },
        {
         "line": {
          "color": "rgb(230, 172, 255.0)"
         },
         "marker": {
          "color": "rgb(230, 172, 255.0)",
          "size": 10
         },
         "mode": "lines+markers",
         "type": "scatter",
         "x": [
          0,
          0
         ],
         "xaxis": "x",
         "y": [
          0,
          0
         ],
         "yaxis": "y"
        },
        {
         "line": {
          "color": "rgb(230, 172, 255.0)"
         },
         "marker": {
          "color": "rgb(230, 172, 255.0)",
          "size": 10
         },
         "mode": "lines+markers",
         "type": "scatter",
         "x": [
          0,
          0
         ],
         "xaxis": "x",
         "y": [
          0,
          0
         ],
         "yaxis": "y"
        },
        {
         "line": {
          "color": "rgb(230, 172, 255.0)"
         },
         "marker": {
          "color": "rgb(230, 172, 255.0)",
          "size": 10
         },
         "mode": "lines+markers",
         "type": "scatter",
         "x": [
          0,
          0
         ],
         "xaxis": "x",
         "y": [
          0,
          0
         ],
         "yaxis": "y"
        },
        {
         "line": {
          "color": "rgb(230, 172, 255.0)"
         },
         "marker": {
          "color": "rgb(230, 172, 255.0)",
          "size": 10
         },
         "mode": "lines+markers",
         "type": "scatter",
         "x": [
          0,
          0
         ],
         "xaxis": "x",
         "y": [
          0,
          0
         ],
         "yaxis": "y"
        },
        {
         "line": {
          "color": "rgb(230, 172, 255.0)"
         },
         "marker": {
          "color": "rgb(230, 172, 255.0)",
          "size": 10
         },
         "mode": "lines+markers",
         "type": "scatter",
         "x": [
          0,
          0
         ],
         "xaxis": "x",
         "y": [
          0,
          0
         ],
         "yaxis": "y"
        },
        {
         "line": {
          "color": "rgb(230, 172, 255.0)"
         },
         "marker": {
          "color": "rgb(230, 172, 255.0)",
          "size": 10
         },
         "mode": "lines+markers",
         "type": "scatter",
         "x": [
          0,
          0
         ],
         "xaxis": "x",
         "y": [
          0,
          0
         ],
         "yaxis": "y"
        },
        {
         "line": {
          "color": "rgb(230, 172, 255.0)"
         },
         "marker": {
          "color": "rgb(230, 172, 255.0)",
          "size": 10
         },
         "mode": "lines+markers",
         "type": "scatter",
         "x": [
          0,
          0
         ],
         "xaxis": "x",
         "y": [
          0,
          0
         ],
         "yaxis": "y"
        },
        {
         "line": {
          "color": "rgb(230, 172, 255.0)"
         },
         "marker": {
          "color": "rgb(230, 172, 255.0)",
          "size": 10
         },
         "mode": "lines+markers",
         "type": "scatter",
         "x": [
          0,
          0
         ],
         "xaxis": "x",
         "y": [
          0,
          0
         ],
         "yaxis": "y"
        },
        {
         "line": {
          "color": "rgb(230, 172, 255.0)"
         },
         "marker": {
          "color": "rgb(230, 172, 255.0)",
          "size": 10
         },
         "mode": "lines+markers",
         "type": "scatter",
         "x": [
          0,
          0
         ],
         "xaxis": "x",
         "y": [
          0,
          0
         ],
         "yaxis": "y"
        },
        {
         "line": {
          "color": "rgb(230, 172, 255.0)"
         },
         "marker": {
          "color": "rgb(230, 172, 255.0)",
          "size": 10
         },
         "mode": "lines+markers",
         "type": "scatter",
         "x": [
          0,
          0
         ],
         "xaxis": "x",
         "y": [
          0,
          0
         ],
         "yaxis": "y"
        },
        {
         "line": {
          "color": "rgb(230, 172, 255.0)"
         },
         "marker": {
          "color": "rgb(230, 172, 255.0)",
          "size": 10
         },
         "mode": "lines+markers",
         "type": "scatter",
         "x": [
          0,
          0
         ],
         "xaxis": "x",
         "y": [
          0,
          0
         ],
         "yaxis": "y"
        },
        {
         "line": {
          "color": "rgb(230, 172, 255.0)"
         },
         "marker": {
          "color": "rgb(230, 172, 255.0)",
          "size": 10
         },
         "mode": "lines+markers",
         "type": "scatter",
         "x": [
          0,
          0
         ],
         "xaxis": "x",
         "y": [
          0,
          0
         ],
         "yaxis": "y"
        },
        {
         "line": {
          "color": "rgb(230, 172, 255.0)"
         },
         "marker": {
          "color": "rgb(230, 172, 255.0)",
          "size": 10
         },
         "mode": "lines+markers",
         "type": "scatter",
         "x": [
          0,
          0
         ],
         "xaxis": "x",
         "y": [
          0,
          0
         ],
         "yaxis": "y"
        },
        {
         "line": {
          "color": "rgb(230, 172, 255.0)"
         },
         "marker": {
          "color": "rgb(230, 172, 255.0)",
          "size": 10
         },
         "mode": "lines+markers",
         "type": "scatter",
         "x": [
          0,
          0
         ],
         "xaxis": "x",
         "y": [
          0,
          0
         ],
         "yaxis": "y"
        },
        {
         "line": {
          "color": "rgb(230, 172, 255.0)"
         },
         "marker": {
          "color": "rgb(230, 172, 255.0)",
          "size": 10
         },
         "mode": "lines+markers",
         "type": "scatter",
         "x": [
          0,
          0
         ],
         "xaxis": "x",
         "y": [
          0,
          0
         ],
         "yaxis": "y"
        },
        {
         "line": {
          "color": "rgb(230, 172, 255.0)"
         },
         "marker": {
          "color": "rgb(230, 172, 255.0)",
          "size": 10
         },
         "mode": "lines+markers",
         "type": "scatter",
         "x": [
          0,
          1.1500757932662964
         ],
         "xaxis": "x",
         "y": [
          0,
          0.10035640746355057
         ],
         "yaxis": "y"
        },
        {
         "line": {
          "color": "rgb(230, 172, 255.0)"
         },
         "marker": {
          "color": "rgb(230, 172, 255.0)",
          "size": 10
         },
         "mode": "lines+markers",
         "type": "scatter",
         "x": [
          0,
          0
         ],
         "xaxis": "x",
         "y": [
          0,
          0
         ],
         "yaxis": "y"
        },
        {
         "line": {
          "color": "rgb(230, 172, 255.0)"
         },
         "marker": {
          "color": "rgb(230, 172, 255.0)",
          "size": 10
         },
         "mode": "lines+markers",
         "type": "scatter",
         "x": [
          0,
          0
         ],
         "xaxis": "x",
         "y": [
          0,
          0
         ],
         "yaxis": "y"
        },
        {
         "line": {
          "color": "rgb(230, 172, 255.0)"
         },
         "marker": {
          "color": "rgb(230, 172, 255.0)",
          "size": 10
         },
         "mode": "lines+markers",
         "type": "scatter",
         "x": [
          0,
          0
         ],
         "xaxis": "x",
         "y": [
          0,
          0
         ],
         "yaxis": "y"
        },
        {
         "line": {
          "color": "rgb(230, 172, 255.0)"
         },
         "marker": {
          "color": "rgb(230, 172, 255.0)",
          "size": 10
         },
         "mode": "lines+markers",
         "type": "scatter",
         "x": [
          0,
          0
         ],
         "xaxis": "x",
         "y": [
          0,
          0
         ],
         "yaxis": "y"
        },
        {
         "line": {
          "color": "rgb(230, 172, 255.0)"
         },
         "marker": {
          "color": "rgb(230, 172, 255.0)",
          "size": 10
         },
         "mode": "lines+markers",
         "type": "scatter",
         "x": [
          0,
          0
         ],
         "xaxis": "x",
         "y": [
          0,
          0
         ],
         "yaxis": "y"
        },
        {
         "line": {
          "color": "rgb(230, 172, 255.0)"
         },
         "marker": {
          "color": "rgb(230, 172, 255.0)",
          "size": 10
         },
         "mode": "lines+markers",
         "type": "scatter",
         "x": [
          0,
          0
         ],
         "xaxis": "x",
         "y": [
          0,
          0
         ],
         "yaxis": "y"
        },
        {
         "line": {
          "color": "rgb(230, 172, 255.0)"
         },
         "marker": {
          "color": "rgb(230, 172, 255.0)",
          "size": 10
         },
         "mode": "lines+markers",
         "type": "scatter",
         "x": [
          0,
          0
         ],
         "xaxis": "x",
         "y": [
          0,
          0
         ],
         "yaxis": "y"
        },
        {
         "line": {
          "color": "rgb(230, 172, 255.0)"
         },
         "marker": {
          "color": "rgb(230, 172, 255.0)",
          "size": 10
         },
         "mode": "lines+markers",
         "type": "scatter",
         "x": [
          0,
          0
         ],
         "xaxis": "x",
         "y": [
          0,
          0
         ],
         "yaxis": "y"
        },
        {
         "line": {
          "color": "rgb(230, 172, 255.0)"
         },
         "marker": {
          "color": "rgb(230, 172, 255.0)",
          "size": 10
         },
         "mode": "lines+markers",
         "type": "scatter",
         "x": [
          0,
          0
         ],
         "xaxis": "x",
         "y": [
          0,
          0
         ],
         "yaxis": "y"
        },
        {
         "line": {
          "color": "rgb(230, 172, 255.0)"
         },
         "marker": {
          "color": "rgb(230, 172, 255.0)",
          "size": 10
         },
         "mode": "lines+markers",
         "type": "scatter",
         "x": [
          0,
          0
         ],
         "xaxis": "x",
         "y": [
          0,
          0
         ],
         "yaxis": "y"
        },
        {
         "line": {
          "color": "rgb(230, 172, 255.0)"
         },
         "marker": {
          "color": "rgb(230, 172, 255.0)",
          "size": 10
         },
         "mode": "lines+markers",
         "type": "scatter",
         "x": [
          0,
          0
         ],
         "xaxis": "x",
         "y": [
          0,
          0
         ],
         "yaxis": "y"
        },
        {
         "line": {
          "color": "rgb(230, 172, 255.0)"
         },
         "marker": {
          "color": "rgb(230, 172, 255.0)",
          "size": 10
         },
         "mode": "lines+markers",
         "type": "scatter",
         "x": [
          0,
          0
         ],
         "xaxis": "x",
         "y": [
          0,
          0
         ],
         "yaxis": "y"
        },
        {
         "line": {
          "color": "rgb(230, 172, 255.0)"
         },
         "marker": {
          "color": "rgb(230, 172, 255.0)",
          "size": 10
         },
         "mode": "lines+markers",
         "type": "scatter",
         "x": [
          0,
          0
         ],
         "xaxis": "x",
         "y": [
          0,
          0
         ],
         "yaxis": "y"
        },
        {
         "line": {
          "color": "rgb(230, 172, 255.0)"
         },
         "marker": {
          "color": "rgb(230, 172, 255.0)",
          "size": 10
         },
         "mode": "lines+markers",
         "type": "scatter",
         "x": [
          0,
          0
         ],
         "xaxis": "x",
         "y": [
          0,
          0
         ],
         "yaxis": "y"
        },
        {
         "line": {
          "color": "rgb(230, 172, 255.0)"
         },
         "marker": {
          "color": "rgb(230, 172, 255.0)",
          "size": 10
         },
         "mode": "lines+markers",
         "type": "scatter",
         "x": [
          0,
          0
         ],
         "xaxis": "x",
         "y": [
          0,
          0
         ],
         "yaxis": "y"
        },
        {
         "line": {
          "color": "rgb(230, 172, 255.0)"
         },
         "marker": {
          "color": "rgb(230, 172, 255.0)",
          "size": 10
         },
         "mode": "lines+markers",
         "type": "scatter",
         "x": [
          0,
          0
         ],
         "xaxis": "x",
         "y": [
          0,
          0
         ],
         "yaxis": "y"
        },
        {
         "line": {
          "color": "rgb(230, 172, 255.0)"
         },
         "marker": {
          "color": "rgb(230, 172, 255.0)",
          "size": 10
         },
         "mode": "lines+markers",
         "type": "scatter",
         "x": [
          0,
          0.2662521004676819
         ],
         "xaxis": "x",
         "y": [
          0,
          1.1122533082962036
         ],
         "yaxis": "y"
        },
        {
         "line": {
          "color": "rgb(230, 172, 255.0)"
         },
         "marker": {
          "color": "rgb(230, 172, 255.0)",
          "size": 10
         },
         "mode": "lines+markers",
         "type": "scatter",
         "x": [
          0,
          0
         ],
         "xaxis": "x",
         "y": [
          0,
          0
         ],
         "yaxis": "y"
        },
        {
         "line": {
          "color": "rgb(230, 172, 255.0)"
         },
         "marker": {
          "color": "rgb(230, 172, 255.0)",
          "size": 10
         },
         "mode": "lines+markers",
         "type": "scatter",
         "x": [
          0,
          -0.8760244250297546
         ],
         "xaxis": "x",
         "y": [
          0,
          -0.7474799156188965
         ],
         "yaxis": "y"
        },
        {
         "line": {
          "color": "rgb(230, 172, 255.0)"
         },
         "marker": {
          "color": "rgb(230, 172, 255.0)",
          "size": 10
         },
         "mode": "lines+markers",
         "type": "scatter",
         "x": [
          0,
          0
         ],
         "xaxis": "x",
         "y": [
          0,
          0
         ],
         "yaxis": "y"
        },
        {
         "line": {
          "color": "rgb(230, 172, 255.0)"
         },
         "marker": {
          "color": "rgb(230, 172, 255.0)",
          "size": 10
         },
         "mode": "lines+markers",
         "type": "scatter",
         "x": [
          0,
          0
         ],
         "xaxis": "x",
         "y": [
          0,
          0
         ],
         "yaxis": "y"
        },
        {
         "line": {
          "color": "rgb(230, 172, 255.0)"
         },
         "marker": {
          "color": "rgb(230, 172, 255.0)",
          "size": 10
         },
         "mode": "lines+markers",
         "type": "scatter",
         "x": [
          0,
          0
         ],
         "xaxis": "x",
         "y": [
          0,
          0
         ],
         "yaxis": "y"
        },
        {
         "line": {
          "color": "rgb(230, 172, 255.0)"
         },
         "marker": {
          "color": "rgb(230, 172, 255.0)",
          "size": 10
         },
         "mode": "lines+markers",
         "type": "scatter",
         "x": [
          0,
          0.2662521004676819
         ],
         "xaxis": "x",
         "y": [
          0,
          1.1122533082962036
         ],
         "yaxis": "y"
        },
        {
         "line": {
          "color": "rgb(230, 172, 255.0)"
         },
         "marker": {
          "color": "rgb(230, 172, 255.0)",
          "size": 10
         },
         "mode": "lines+markers",
         "type": "scatter",
         "x": [
          0,
          0
         ],
         "xaxis": "x",
         "y": [
          0,
          0
         ],
         "yaxis": "y"
        },
        {
         "line": {
          "color": "rgb(230, 172, 255.0)"
         },
         "marker": {
          "color": "rgb(230, 172, 255.0)",
          "size": 10
         },
         "mode": "lines+markers",
         "type": "scatter",
         "x": [
          0,
          0
         ],
         "xaxis": "x",
         "y": [
          0,
          0
         ],
         "yaxis": "y"
        },
        {
         "line": {
          "color": "rgb(230, 172, 255.0)"
         },
         "marker": {
          "color": "rgb(230, 172, 255.0)",
          "size": 10
         },
         "mode": "lines+markers",
         "type": "scatter",
         "x": [
          0,
          0
         ],
         "xaxis": "x",
         "y": [
          0,
          0
         ],
         "yaxis": "y"
        },
        {
         "line": {
          "color": "rgb(230, 172, 255.0)"
         },
         "marker": {
          "color": "rgb(230, 172, 255.0)",
          "size": 10
         },
         "mode": "lines+markers",
         "type": "scatter",
         "x": [
          0,
          0.2662521004676819
         ],
         "xaxis": "x",
         "y": [
          0,
          1.1122533082962036
         ],
         "yaxis": "y"
        },
        {
         "line": {
          "color": "rgb(230, 172, 255.0)"
         },
         "marker": {
          "color": "rgb(230, 172, 255.0)",
          "size": 10
         },
         "mode": "lines+markers",
         "type": "scatter",
         "x": [
          0,
          0
         ],
         "xaxis": "x",
         "y": [
          0,
          0
         ],
         "yaxis": "y"
        },
        {
         "line": {
          "color": "rgb(230, 172, 255.0)"
         },
         "marker": {
          "color": "rgb(230, 172, 255.0)",
          "size": 10
         },
         "mode": "lines+markers",
         "type": "scatter",
         "x": [
          0,
          0
         ],
         "xaxis": "x",
         "y": [
          0,
          0
         ],
         "yaxis": "y"
        },
        {
         "line": {
          "color": "rgb(230, 172, 255.0)"
         },
         "marker": {
          "color": "rgb(230, 172, 255.0)",
          "size": 10
         },
         "mode": "lines+markers",
         "type": "scatter",
         "x": [
          0,
          0.2662521004676819
         ],
         "xaxis": "x",
         "y": [
          0,
          1.1122533082962036
         ],
         "yaxis": "y"
        },
        {
         "line": {
          "color": "rgb(230, 172, 255.0)"
         },
         "marker": {
          "color": "rgb(230, 172, 255.0)",
          "size": 10
         },
         "mode": "lines+markers",
         "type": "scatter",
         "x": [
          0,
          0
         ],
         "xaxis": "x",
         "y": [
          0,
          0
         ],
         "yaxis": "y"
        },
        {
         "line": {
          "color": "rgb(230, 172, 255.0)"
         },
         "marker": {
          "color": "rgb(230, 172, 255.0)",
          "size": 10
         },
         "mode": "lines+markers",
         "type": "scatter",
         "x": [
          0,
          0
         ],
         "xaxis": "x",
         "y": [
          0,
          0
         ],
         "yaxis": "y"
        },
        {
         "line": {
          "color": "rgb(230, 172, 255.0)"
         },
         "marker": {
          "color": "rgb(230, 172, 255.0)",
          "size": 10
         },
         "mode": "lines+markers",
         "type": "scatter",
         "x": [
          0,
          0
         ],
         "xaxis": "x",
         "y": [
          0,
          0
         ],
         "yaxis": "y"
        },
        {
         "line": {
          "color": "rgb(230, 172, 255.0)"
         },
         "marker": {
          "color": "rgb(230, 172, 255.0)",
          "size": 10
         },
         "mode": "lines+markers",
         "type": "scatter",
         "x": [
          0,
          0
         ],
         "xaxis": "x",
         "y": [
          0,
          0
         ],
         "yaxis": "y"
        },
        {
         "line": {
          "color": "rgb(230, 172, 255.0)"
         },
         "marker": {
          "color": "rgb(230, 172, 255.0)",
          "size": 10
         },
         "mode": "lines+markers",
         "type": "scatter",
         "x": [
          0,
          0
         ],
         "xaxis": "x",
         "y": [
          0,
          0
         ],
         "yaxis": "y"
        },
        {
         "line": {
          "color": "rgb(230, 172, 255.0)"
         },
         "marker": {
          "color": "rgb(230, 172, 255.0)",
          "size": 10
         },
         "mode": "lines+markers",
         "type": "scatter",
         "x": [
          0,
          0
         ],
         "xaxis": "x",
         "y": [
          0,
          0
         ],
         "yaxis": "y"
        },
        {
         "line": {
          "color": "rgb(230, 172, 255.0)"
         },
         "marker": {
          "color": "rgb(230, 172, 255.0)",
          "size": 10
         },
         "mode": "lines+markers",
         "type": "scatter",
         "x": [
          0,
          0
         ],
         "xaxis": "x",
         "y": [
          0,
          0
         ],
         "yaxis": "y"
        },
        {
         "line": {
          "color": "rgb(230, 172, 255.0)"
         },
         "marker": {
          "color": "rgb(230, 172, 255.0)",
          "size": 10
         },
         "mode": "lines+markers",
         "type": "scatter",
         "x": [
          0,
          0
         ],
         "xaxis": "x",
         "y": [
          0,
          0
         ],
         "yaxis": "y"
        },
        {
         "line": {
          "color": "rgb(230, 172, 255.0)"
         },
         "marker": {
          "color": "rgb(230, 172, 255.0)",
          "size": 10
         },
         "mode": "lines+markers",
         "type": "scatter",
         "x": [
          0,
          0
         ],
         "xaxis": "x",
         "y": [
          0,
          0
         ],
         "yaxis": "y"
        },
        {
         "line": {
          "color": "rgb(230, 172, 255.0)"
         },
         "marker": {
          "color": "rgb(230, 172, 255.0)",
          "size": 10
         },
         "mode": "lines+markers",
         "type": "scatter",
         "x": [
          0,
          0
         ],
         "xaxis": "x",
         "y": [
          0,
          0
         ],
         "yaxis": "y"
        },
        {
         "line": {
          "color": "rgb(230, 172, 255.0)"
         },
         "marker": {
          "color": "rgb(230, 172, 255.0)",
          "size": 10
         },
         "mode": "lines+markers",
         "type": "scatter",
         "x": [
          0,
          0
         ],
         "xaxis": "x",
         "y": [
          0,
          0
         ],
         "yaxis": "y"
        },
        {
         "line": {
          "color": "rgb(230, 172, 255.0)"
         },
         "marker": {
          "color": "rgb(230, 172, 255.0)",
          "size": 10
         },
         "mode": "lines+markers",
         "type": "scatter",
         "x": [
          0,
          1.1500757932662964
         ],
         "xaxis": "x",
         "y": [
          0,
          0.10035640746355057
         ],
         "yaxis": "y"
        },
        {
         "line": {
          "color": "rgb(230, 172, 255.0)"
         },
         "marker": {
          "color": "rgb(230, 172, 255.0)",
          "size": 10
         },
         "mode": "lines+markers",
         "type": "scatter",
         "x": [
          0,
          0
         ],
         "xaxis": "x",
         "y": [
          0,
          0
         ],
         "yaxis": "y"
        },
        {
         "line": {
          "color": "rgb(230, 172, 255.0)"
         },
         "marker": {
          "color": "rgb(230, 172, 255.0)",
          "size": 10
         },
         "mode": "lines+markers",
         "type": "scatter",
         "x": [
          0,
          0
         ],
         "xaxis": "x",
         "y": [
          0,
          0
         ],
         "yaxis": "y"
        },
        {
         "line": {
          "color": "rgb(230, 172, 255.0)"
         },
         "marker": {
          "color": "rgb(230, 172, 255.0)",
          "size": 10
         },
         "mode": "lines+markers",
         "type": "scatter",
         "x": [
          0,
          0
         ],
         "xaxis": "x",
         "y": [
          0,
          0
         ],
         "yaxis": "y"
        },
        {
         "line": {
          "color": "rgb(230, 172, 255.0)"
         },
         "marker": {
          "color": "rgb(230, 172, 255.0)",
          "size": 10
         },
         "mode": "lines+markers",
         "type": "scatter",
         "x": [
          0,
          0
         ],
         "xaxis": "x",
         "y": [
          0,
          0
         ],
         "yaxis": "y"
        },
        {
         "line": {
          "color": "rgb(230, 172, 255.0)"
         },
         "marker": {
          "color": "rgb(230, 172, 255.0)",
          "size": 10
         },
         "mode": "lines+markers",
         "type": "scatter",
         "x": [
          0,
          0
         ],
         "xaxis": "x",
         "y": [
          0,
          0
         ],
         "yaxis": "y"
        },
        {
         "line": {
          "color": "rgb(230, 172, 255.0)"
         },
         "marker": {
          "color": "rgb(230, 172, 255.0)",
          "size": 10
         },
         "mode": "lines+markers",
         "type": "scatter",
         "x": [
          0,
          0
         ],
         "xaxis": "x",
         "y": [
          0,
          0
         ],
         "yaxis": "y"
        },
        {
         "line": {
          "color": "rgb(230, 172, 255.0)"
         },
         "marker": {
          "color": "rgb(230, 172, 255.0)",
          "size": 10
         },
         "mode": "lines+markers",
         "type": "scatter",
         "x": [
          0,
          0
         ],
         "xaxis": "x",
         "y": [
          0,
          0
         ],
         "yaxis": "y"
        },
        {
         "line": {
          "color": "rgb(230, 172, 255.0)"
         },
         "marker": {
          "color": "rgb(230, 172, 255.0)",
          "size": 10
         },
         "mode": "lines+markers",
         "type": "scatter",
         "x": [
          0,
          0
         ],
         "xaxis": "x",
         "y": [
          0,
          0
         ],
         "yaxis": "y"
        },
        {
         "line": {
          "color": "rgb(230, 172, 255.0)"
         },
         "marker": {
          "color": "rgb(230, 172, 255.0)",
          "size": 10
         },
         "mode": "lines+markers",
         "type": "scatter",
         "x": [
          0,
          0
         ],
         "xaxis": "x",
         "y": [
          0,
          0
         ],
         "yaxis": "y"
        },
        {
         "line": {
          "color": "rgb(230, 172, 255.0)"
         },
         "marker": {
          "color": "rgb(230, 172, 255.0)",
          "size": 10
         },
         "mode": "lines+markers",
         "type": "scatter",
         "x": [
          0,
          0
         ],
         "xaxis": "x",
         "y": [
          0,
          0
         ],
         "yaxis": "y"
        },
        {
         "line": {
          "color": "rgb(230, 172, 255.0)"
         },
         "marker": {
          "color": "rgb(230, 172, 255.0)",
          "size": 10
         },
         "mode": "lines+markers",
         "type": "scatter",
         "x": [
          0,
          1.1500757932662964
         ],
         "xaxis": "x",
         "y": [
          0,
          0.10035640746355057
         ],
         "yaxis": "y"
        },
        {
         "line": {
          "color": "rgb(230, 172, 255.0)"
         },
         "marker": {
          "color": "rgb(230, 172, 255.0)",
          "size": 10
         },
         "mode": "lines+markers",
         "type": "scatter",
         "x": [
          0,
          0
         ],
         "xaxis": "x",
         "y": [
          0,
          0
         ],
         "yaxis": "y"
        },
        {
         "line": {
          "color": "rgb(230, 172, 255.0)"
         },
         "marker": {
          "color": "rgb(230, 172, 255.0)",
          "size": 10
         },
         "mode": "lines+markers",
         "type": "scatter",
         "x": [
          0,
          0
         ],
         "xaxis": "x",
         "y": [
          0,
          0
         ],
         "yaxis": "y"
        },
        {
         "line": {
          "color": "rgb(230, 172, 255.0)"
         },
         "marker": {
          "color": "rgb(230, 172, 255.0)",
          "size": 10
         },
         "mode": "lines+markers",
         "type": "scatter",
         "x": [
          0,
          -0.8760244250297546
         ],
         "xaxis": "x",
         "y": [
          0,
          -0.7474799156188965
         ],
         "yaxis": "y"
        },
        {
         "line": {
          "color": "rgb(230, 172, 255.0)"
         },
         "marker": {
          "color": "rgb(230, 172, 255.0)",
          "size": 10
         },
         "mode": "lines+markers",
         "type": "scatter",
         "x": [
          0,
          0
         ],
         "xaxis": "x",
         "y": [
          0,
          0
         ],
         "yaxis": "y"
        },
        {
         "line": {
          "color": "rgb(230, 172, 255.0)"
         },
         "marker": {
          "color": "rgb(230, 172, 255.0)",
          "size": 10
         },
         "mode": "lines+markers",
         "type": "scatter",
         "x": [
          0,
          -0.9741505980491638
         ],
         "xaxis": "x",
         "y": [
          0,
          0.6108540296554565
         ],
         "yaxis": "y"
        },
        {
         "line": {
          "color": "rgb(230, 172, 255.0)"
         },
         "marker": {
          "color": "rgb(230, 172, 255.0)",
          "size": 10
         },
         "mode": "lines+markers",
         "type": "scatter",
         "x": [
          0,
          0
         ],
         "xaxis": "x",
         "y": [
          0,
          0
         ],
         "yaxis": "y"
        },
        {
         "line": {
          "color": "rgb(230, 172, 255.0)"
         },
         "marker": {
          "color": "rgb(230, 172, 255.0)",
          "size": 10
         },
         "mode": "lines+markers",
         "type": "scatter",
         "x": [
          0,
          0
         ],
         "xaxis": "x",
         "y": [
          0,
          0
         ],
         "yaxis": "y"
        },
        {
         "line": {
          "color": "rgb(230, 172, 255.0)"
         },
         "marker": {
          "color": "rgb(230, 172, 255.0)",
          "size": 10
         },
         "mode": "lines+markers",
         "type": "scatter",
         "x": [
          0,
          0
         ],
         "xaxis": "x",
         "y": [
          0,
          0
         ],
         "yaxis": "y"
        },
        {
         "line": {
          "color": "rgb(230, 172, 255.0)"
         },
         "marker": {
          "color": "rgb(230, 172, 255.0)",
          "size": 10
         },
         "mode": "lines+markers",
         "type": "scatter",
         "x": [
          0,
          0
         ],
         "xaxis": "x",
         "y": [
          0,
          0
         ],
         "yaxis": "y"
        },
        {
         "line": {
          "color": "rgb(230, 172, 255.0)"
         },
         "marker": {
          "color": "rgb(230, 172, 255.0)",
          "size": 10
         },
         "mode": "lines+markers",
         "type": "scatter",
         "x": [
          0,
          0
         ],
         "xaxis": "x",
         "y": [
          0,
          0
         ],
         "yaxis": "y"
        },
        {
         "line": {
          "color": "rgb(230, 172, 255.0)"
         },
         "marker": {
          "color": "rgb(230, 172, 255.0)",
          "size": 10
         },
         "mode": "lines+markers",
         "type": "scatter",
         "x": [
          0,
          0
         ],
         "xaxis": "x",
         "y": [
          0,
          0
         ],
         "yaxis": "y"
        },
        {
         "line": {
          "color": "rgb(230, 172, 255.0)"
         },
         "marker": {
          "color": "rgb(230, 172, 255.0)",
          "size": 10
         },
         "mode": "lines+markers",
         "type": "scatter",
         "x": [
          0,
          0
         ],
         "xaxis": "x",
         "y": [
          0,
          0
         ],
         "yaxis": "y"
        },
        {
         "line": {
          "color": "rgb(230, 172, 255.0)"
         },
         "marker": {
          "color": "rgb(230, 172, 255.0)",
          "size": 10
         },
         "mode": "lines+markers",
         "type": "scatter",
         "x": [
          0,
          0
         ],
         "xaxis": "x",
         "y": [
          0,
          0
         ],
         "yaxis": "y"
        },
        {
         "line": {
          "color": "rgb(230, 172, 255.0)"
         },
         "marker": {
          "color": "rgb(230, 172, 255.0)",
          "size": 10
         },
         "mode": "lines+markers",
         "type": "scatter",
         "x": [
          0,
          0
         ],
         "xaxis": "x",
         "y": [
          0,
          0
         ],
         "yaxis": "y"
        },
        {
         "line": {
          "color": "rgb(230, 172, 255.0)"
         },
         "marker": {
          "color": "rgb(230, 172, 255.0)",
          "size": 10
         },
         "mode": "lines+markers",
         "type": "scatter",
         "x": [
          0,
          0
         ],
         "xaxis": "x",
         "y": [
          0,
          0
         ],
         "yaxis": "y"
        },
        {
         "line": {
          "color": "rgb(230, 172, 255.0)"
         },
         "marker": {
          "color": "rgb(230, 172, 255.0)",
          "size": 10
         },
         "mode": "lines+markers",
         "type": "scatter",
         "x": [
          0,
          0
         ],
         "xaxis": "x",
         "y": [
          0,
          0
         ],
         "yaxis": "y"
        },
        {
         "line": {
          "color": "rgb(230, 172, 255.0)"
         },
         "marker": {
          "color": "rgb(230, 172, 255.0)",
          "size": 10
         },
         "mode": "lines+markers",
         "type": "scatter",
         "x": [
          0,
          0
         ],
         "xaxis": "x",
         "y": [
          0,
          0
         ],
         "yaxis": "y"
        },
        {
         "line": {
          "color": "rgb(230, 172, 255.0)"
         },
         "marker": {
          "color": "rgb(230, 172, 255.0)",
          "size": 10
         },
         "mode": "lines+markers",
         "type": "scatter",
         "x": [
          0,
          0
         ],
         "xaxis": "x",
         "y": [
          0,
          0
         ],
         "yaxis": "y"
        },
        {
         "line": {
          "color": "rgb(230, 172, 255.0)"
         },
         "marker": {
          "color": "rgb(230, 172, 255.0)",
          "size": 10
         },
         "mode": "lines+markers",
         "type": "scatter",
         "x": [
          0,
          0
         ],
         "xaxis": "x",
         "y": [
          0,
          0
         ],
         "yaxis": "y"
        },
        {
         "line": {
          "color": "rgb(230, 172, 255.0)"
         },
         "marker": {
          "color": "rgb(230, 172, 255.0)",
          "size": 10
         },
         "mode": "lines+markers",
         "type": "scatter",
         "x": [
          0,
          0
         ],
         "xaxis": "x",
         "y": [
          0,
          0
         ],
         "yaxis": "y"
        },
        {
         "line": {
          "color": "rgb(230, 172, 255.0)"
         },
         "marker": {
          "color": "rgb(230, 172, 255.0)",
          "size": 10
         },
         "mode": "lines+markers",
         "type": "scatter",
         "x": [
          0,
          0
         ],
         "xaxis": "x",
         "y": [
          0,
          0
         ],
         "yaxis": "y"
        },
        {
         "line": {
          "color": "rgb(230, 172, 255.0)"
         },
         "marker": {
          "color": "rgb(230, 172, 255.0)",
          "size": 10
         },
         "mode": "lines+markers",
         "type": "scatter",
         "x": [
          0,
          0
         ],
         "xaxis": "x",
         "y": [
          0,
          0
         ],
         "yaxis": "y"
        },
        {
         "line": {
          "color": "rgb(230, 172, 255.0)"
         },
         "marker": {
          "color": "rgb(230, 172, 255.0)",
          "size": 10
         },
         "mode": "lines+markers",
         "type": "scatter",
         "x": [
          0,
          0
         ],
         "xaxis": "x",
         "y": [
          0,
          0
         ],
         "yaxis": "y"
        },
        {
         "line": {
          "color": "rgb(230, 172, 255.0)"
         },
         "marker": {
          "color": "rgb(230, 172, 255.0)",
          "size": 10
         },
         "mode": "lines+markers",
         "type": "scatter",
         "x": [
          0,
          0
         ],
         "xaxis": "x",
         "y": [
          0,
          0
         ],
         "yaxis": "y"
        },
        {
         "line": {
          "color": "rgb(230, 172, 255.0)"
         },
         "marker": {
          "color": "rgb(230, 172, 255.0)",
          "size": 10
         },
         "mode": "lines+markers",
         "type": "scatter",
         "x": [
          0,
          0
         ],
         "xaxis": "x",
         "y": [
          0,
          0
         ],
         "yaxis": "y"
        },
        {
         "line": {
          "color": "rgb(230, 172, 255.0)"
         },
         "marker": {
          "color": "rgb(230, 172, 255.0)",
          "size": 10
         },
         "mode": "lines+markers",
         "type": "scatter",
         "x": [
          0,
          0
         ],
         "xaxis": "x",
         "y": [
          0,
          0
         ],
         "yaxis": "y"
        },
        {
         "line": {
          "color": "rgb(230, 172, 255.0)"
         },
         "marker": {
          "color": "rgb(230, 172, 255.0)",
          "size": 10
         },
         "mode": "lines+markers",
         "type": "scatter",
         "x": [
          0,
          0
         ],
         "xaxis": "x",
         "y": [
          0,
          0
         ],
         "yaxis": "y"
        },
        {
         "line": {
          "color": "rgb(230, 172, 255.0)"
         },
         "marker": {
          "color": "rgb(230, 172, 255.0)",
          "size": 10
         },
         "mode": "lines+markers",
         "type": "scatter",
         "x": [
          0,
          0
         ],
         "xaxis": "x",
         "y": [
          0,
          0
         ],
         "yaxis": "y"
        },
        {
         "line": {
          "color": "rgb(230, 172, 255.0)"
         },
         "marker": {
          "color": "rgb(230, 172, 255.0)",
          "size": 10
         },
         "mode": "lines+markers",
         "type": "scatter",
         "x": [
          0,
          0
         ],
         "xaxis": "x",
         "y": [
          0,
          0
         ],
         "yaxis": "y"
        },
        {
         "line": {
          "color": "rgb(230, 172, 255.0)"
         },
         "marker": {
          "color": "rgb(230, 172, 255.0)",
          "size": 10
         },
         "mode": "lines+markers",
         "type": "scatter",
         "x": [
          0,
          0
         ],
         "xaxis": "x",
         "y": [
          0,
          0
         ],
         "yaxis": "y"
        },
        {
         "line": {
          "color": "rgb(230, 172, 255.0)"
         },
         "marker": {
          "color": "rgb(230, 172, 255.0)",
          "size": 10
         },
         "mode": "lines+markers",
         "type": "scatter",
         "x": [
          0,
          0
         ],
         "xaxis": "x",
         "y": [
          0,
          0
         ],
         "yaxis": "y"
        },
        {
         "line": {
          "color": "rgb(230, 172, 255.0)"
         },
         "marker": {
          "color": "rgb(230, 172, 255.0)",
          "size": 10
         },
         "mode": "lines+markers",
         "type": "scatter",
         "x": [
          0,
          0
         ],
         "xaxis": "x",
         "y": [
          0,
          0
         ],
         "yaxis": "y"
        },
        {
         "line": {
          "color": "rgb(230, 172, 255.0)"
         },
         "marker": {
          "color": "rgb(230, 172, 255.0)",
          "size": 10
         },
         "mode": "lines+markers",
         "type": "scatter",
         "x": [
          0,
          1.1500757932662964
         ],
         "xaxis": "x",
         "y": [
          0,
          0.10035640746355057
         ],
         "yaxis": "y"
        },
        {
         "line": {
          "color": "rgb(230, 172, 255.0)"
         },
         "marker": {
          "color": "rgb(230, 172, 255.0)",
          "size": 10
         },
         "mode": "lines+markers",
         "type": "scatter",
         "x": [
          0,
          0
         ],
         "xaxis": "x",
         "y": [
          0,
          0
         ],
         "yaxis": "y"
        },
        {
         "line": {
          "color": "rgb(230, 172, 255.0)"
         },
         "marker": {
          "color": "rgb(230, 172, 255.0)",
          "size": 10
         },
         "mode": "lines+markers",
         "type": "scatter",
         "x": [
          0,
          0
         ],
         "xaxis": "x",
         "y": [
          0,
          0
         ],
         "yaxis": "y"
        },
        {
         "line": {
          "color": "rgb(230, 172, 255.0)"
         },
         "marker": {
          "color": "rgb(230, 172, 255.0)",
          "size": 10
         },
         "mode": "lines+markers",
         "type": "scatter",
         "x": [
          0,
          0
         ],
         "xaxis": "x",
         "y": [
          0,
          0
         ],
         "yaxis": "y"
        },
        {
         "line": {
          "color": "rgb(230, 172, 255.0)"
         },
         "marker": {
          "color": "rgb(230, 172, 255.0)",
          "size": 10
         },
         "mode": "lines+markers",
         "type": "scatter",
         "x": [
          0,
          0
         ],
         "xaxis": "x",
         "y": [
          0,
          0
         ],
         "yaxis": "y"
        },
        {
         "line": {
          "color": "rgb(230, 172, 255.0)"
         },
         "marker": {
          "color": "rgb(230, 172, 255.0)",
          "size": 10
         },
         "mode": "lines+markers",
         "type": "scatter",
         "x": [
          0,
          0
         ],
         "xaxis": "x",
         "y": [
          0,
          0
         ],
         "yaxis": "y"
        },
        {
         "line": {
          "color": "rgb(230, 172, 255.0)"
         },
         "marker": {
          "color": "rgb(230, 172, 255.0)",
          "size": 10
         },
         "mode": "lines+markers",
         "type": "scatter",
         "x": [
          0,
          0
         ],
         "xaxis": "x",
         "y": [
          0,
          0
         ],
         "yaxis": "y"
        },
        {
         "line": {
          "color": "rgb(230, 172, 255.0)"
         },
         "marker": {
          "color": "rgb(230, 172, 255.0)",
          "size": 10
         },
         "mode": "lines+markers",
         "type": "scatter",
         "x": [
          0,
          0
         ],
         "xaxis": "x",
         "y": [
          0,
          0
         ],
         "yaxis": "y"
        },
        {
         "line": {
          "color": "rgb(230, 172, 255.0)"
         },
         "marker": {
          "color": "rgb(230, 172, 255.0)",
          "size": 10
         },
         "mode": "lines+markers",
         "type": "scatter",
         "x": [
          0,
          0
         ],
         "xaxis": "x",
         "y": [
          0,
          0
         ],
         "yaxis": "y"
        },
        {
         "line": {
          "color": "rgb(230, 172, 255.0)"
         },
         "marker": {
          "color": "rgb(230, 172, 255.0)",
          "size": 10
         },
         "mode": "lines+markers",
         "type": "scatter",
         "x": [
          0,
          0
         ],
         "xaxis": "x",
         "y": [
          0,
          0
         ],
         "yaxis": "y"
        },
        {
         "line": {
          "color": "rgb(230, 172, 255.0)"
         },
         "marker": {
          "color": "rgb(230, 172, 255.0)",
          "size": 10
         },
         "mode": "lines+markers",
         "type": "scatter",
         "x": [
          0,
          0
         ],
         "xaxis": "x",
         "y": [
          0,
          0
         ],
         "yaxis": "y"
        },
        {
         "line": {
          "color": "rgb(230, 172, 255.0)"
         },
         "marker": {
          "color": "rgb(230, 172, 255.0)",
          "size": 10
         },
         "mode": "lines+markers",
         "type": "scatter",
         "x": [
          0,
          0
         ],
         "xaxis": "x",
         "y": [
          0,
          0
         ],
         "yaxis": "y"
        },
        {
         "line": {
          "color": "rgb(230, 172, 255.0)"
         },
         "marker": {
          "color": "rgb(230, 172, 255.0)",
          "size": 10
         },
         "mode": "lines+markers",
         "type": "scatter",
         "x": [
          0,
          0
         ],
         "xaxis": "x",
         "y": [
          0,
          0
         ],
         "yaxis": "y"
        },
        {
         "line": {
          "color": "rgb(230, 172, 255.0)"
         },
         "marker": {
          "color": "rgb(230, 172, 255.0)",
          "size": 10
         },
         "mode": "lines+markers",
         "type": "scatter",
         "x": [
          0,
          0
         ],
         "xaxis": "x",
         "y": [
          0,
          0
         ],
         "yaxis": "y"
        },
        {
         "line": {
          "color": "rgb(230, 172, 255.0)"
         },
         "marker": {
          "color": "rgb(230, 172, 255.0)",
          "size": 10
         },
         "mode": "lines+markers",
         "type": "scatter",
         "x": [
          0,
          0
         ],
         "xaxis": "x",
         "y": [
          0,
          0
         ],
         "yaxis": "y"
        },
        {
         "line": {
          "color": "rgb(230, 172, 255.0)"
         },
         "marker": {
          "color": "rgb(230, 172, 255.0)",
          "size": 10
         },
         "mode": "lines+markers",
         "type": "scatter",
         "x": [
          0,
          0
         ],
         "xaxis": "x",
         "y": [
          0,
          0
         ],
         "yaxis": "y"
        },
        {
         "line": {
          "color": "rgb(230, 172, 255.0)"
         },
         "marker": {
          "color": "rgb(230, 172, 255.0)",
          "size": 10
         },
         "mode": "lines+markers",
         "type": "scatter",
         "x": [
          0,
          0
         ],
         "xaxis": "x",
         "y": [
          0,
          0
         ],
         "yaxis": "y"
        },
        {
         "line": {
          "color": "rgb(230, 172, 255.0)"
         },
         "marker": {
          "color": "rgb(230, 172, 255.0)",
          "size": 10
         },
         "mode": "lines+markers",
         "type": "scatter",
         "x": [
          0,
          0
         ],
         "xaxis": "x",
         "y": [
          0,
          0
         ],
         "yaxis": "y"
        },
        {
         "line": {
          "color": "rgb(230, 172, 255.0)"
         },
         "marker": {
          "color": "rgb(230, 172, 255.0)",
          "size": 10
         },
         "mode": "lines+markers",
         "type": "scatter",
         "x": [
          0,
          0
         ],
         "xaxis": "x",
         "y": [
          0,
          0
         ],
         "yaxis": "y"
        },
        {
         "line": {
          "color": "rgb(230, 172, 255.0)"
         },
         "marker": {
          "color": "rgb(230, 172, 255.0)",
          "size": 10
         },
         "mode": "lines+markers",
         "type": "scatter",
         "x": [
          0,
          0
         ],
         "xaxis": "x",
         "y": [
          0,
          0
         ],
         "yaxis": "y"
        },
        {
         "line": {
          "color": "rgb(230, 172, 255.0)"
         },
         "marker": {
          "color": "rgb(230, 172, 255.0)",
          "size": 10
         },
         "mode": "lines+markers",
         "type": "scatter",
         "x": [
          0,
          0
         ],
         "xaxis": "x",
         "y": [
          0,
          0
         ],
         "yaxis": "y"
        },
        {
         "line": {
          "color": "rgb(230, 172, 255.0)"
         },
         "marker": {
          "color": "rgb(230, 172, 255.0)",
          "size": 10
         },
         "mode": "lines+markers",
         "type": "scatter",
         "x": [
          0,
          0
         ],
         "xaxis": "x",
         "y": [
          0,
          0
         ],
         "yaxis": "y"
        },
        {
         "line": {
          "color": "rgb(230, 172, 255.0)"
         },
         "marker": {
          "color": "rgb(230, 172, 255.0)",
          "size": 10
         },
         "mode": "lines+markers",
         "type": "scatter",
         "x": [
          0,
          0
         ],
         "xaxis": "x",
         "y": [
          0,
          0
         ],
         "yaxis": "y"
        },
        {
         "line": {
          "color": "rgb(230, 172, 255.0)"
         },
         "marker": {
          "color": "rgb(230, 172, 255.0)",
          "size": 10
         },
         "mode": "lines+markers",
         "type": "scatter",
         "x": [
          0,
          0
         ],
         "xaxis": "x",
         "y": [
          0,
          0
         ],
         "yaxis": "y"
        },
        {
         "line": {
          "color": "rgb(230, 172, 255.0)"
         },
         "marker": {
          "color": "rgb(230, 172, 255.0)",
          "size": 10
         },
         "mode": "lines+markers",
         "type": "scatter",
         "x": [
          0,
          0
         ],
         "xaxis": "x",
         "y": [
          0,
          0
         ],
         "yaxis": "y"
        },
        {
         "line": {
          "color": "rgb(230, 172, 255.0)"
         },
         "marker": {
          "color": "rgb(230, 172, 255.0)",
          "size": 10
         },
         "mode": "lines+markers",
         "type": "scatter",
         "x": [
          0,
          0
         ],
         "xaxis": "x",
         "y": [
          0,
          0
         ],
         "yaxis": "y"
        },
        {
         "line": {
          "color": "rgb(230, 172, 255.0)"
         },
         "marker": {
          "color": "rgb(230, 172, 255.0)",
          "size": 10
         },
         "mode": "lines+markers",
         "type": "scatter",
         "x": [
          0,
          -0.9741505980491638
         ],
         "xaxis": "x",
         "y": [
          0,
          0.6108540296554565
         ],
         "yaxis": "y"
        },
        {
         "line": {
          "color": "rgb(230, 172, 255.0)"
         },
         "marker": {
          "color": "rgb(230, 172, 255.0)",
          "size": 10
         },
         "mode": "lines+markers",
         "type": "scatter",
         "x": [
          0,
          0
         ],
         "xaxis": "x",
         "y": [
          0,
          0
         ],
         "yaxis": "y"
        },
        {
         "line": {
          "color": "rgb(230, 172, 255.0)"
         },
         "marker": {
          "color": "rgb(230, 172, 255.0)",
          "size": 10
         },
         "mode": "lines+markers",
         "type": "scatter",
         "x": [
          0,
          0
         ],
         "xaxis": "x",
         "y": [
          0,
          0
         ],
         "yaxis": "y"
        },
        {
         "line": {
          "color": "rgb(230, 172, 255.0)"
         },
         "marker": {
          "color": "rgb(230, 172, 255.0)",
          "size": 10
         },
         "mode": "lines+markers",
         "type": "scatter",
         "x": [
          0,
          0
         ],
         "xaxis": "x",
         "y": [
          0,
          0
         ],
         "yaxis": "y"
        },
        {
         "line": {
          "color": "rgb(230, 172, 255.0)"
         },
         "marker": {
          "color": "rgb(230, 172, 255.0)",
          "size": 10
         },
         "mode": "lines+markers",
         "type": "scatter",
         "x": [
          0,
          0
         ],
         "xaxis": "x",
         "y": [
          0,
          0
         ],
         "yaxis": "y"
        },
        {
         "line": {
          "color": "rgb(230, 172, 255.0)"
         },
         "marker": {
          "color": "rgb(230, 172, 255.0)",
          "size": 10
         },
         "mode": "lines+markers",
         "type": "scatter",
         "x": [
          0,
          0
         ],
         "xaxis": "x",
         "y": [
          0,
          0
         ],
         "yaxis": "y"
        },
        {
         "line": {
          "color": "rgb(230, 172, 255.0)"
         },
         "marker": {
          "color": "rgb(230, 172, 255.0)",
          "size": 10
         },
         "mode": "lines+markers",
         "type": "scatter",
         "x": [
          0,
          0
         ],
         "xaxis": "x",
         "y": [
          0,
          0
         ],
         "yaxis": "y"
        },
        {
         "line": {
          "color": "rgb(230, 172, 255.0)"
         },
         "marker": {
          "color": "rgb(230, 172, 255.0)",
          "size": 10
         },
         "mode": "lines+markers",
         "type": "scatter",
         "x": [
          0,
          0
         ],
         "xaxis": "x",
         "y": [
          0,
          0
         ],
         "yaxis": "y"
        },
        {
         "line": {
          "color": "rgb(230, 172, 255.0)"
         },
         "marker": {
          "color": "rgb(230, 172, 255.0)",
          "size": 10
         },
         "mode": "lines+markers",
         "type": "scatter",
         "x": [
          0,
          0
         ],
         "xaxis": "x",
         "y": [
          0,
          0
         ],
         "yaxis": "y"
        },
        {
         "line": {
          "color": "rgb(230, 172, 255.0)"
         },
         "marker": {
          "color": "rgb(230, 172, 255.0)",
          "size": 10
         },
         "mode": "lines+markers",
         "type": "scatter",
         "x": [
          0,
          0
         ],
         "xaxis": "x",
         "y": [
          0,
          0
         ],
         "yaxis": "y"
        },
        {
         "line": {
          "color": "rgb(230, 172, 255.0)"
         },
         "marker": {
          "color": "rgb(230, 172, 255.0)",
          "size": 10
         },
         "mode": "lines+markers",
         "type": "scatter",
         "x": [
          0,
          0
         ],
         "xaxis": "x",
         "y": [
          0,
          0
         ],
         "yaxis": "y"
        },
        {
         "line": {
          "color": "rgb(230, 172, 255.0)"
         },
         "marker": {
          "color": "rgb(230, 172, 255.0)",
          "size": 10
         },
         "mode": "lines+markers",
         "type": "scatter",
         "x": [
          0,
          0
         ],
         "xaxis": "x",
         "y": [
          0,
          0
         ],
         "yaxis": "y"
        },
        {
         "line": {
          "color": "rgb(230, 172, 255.0)"
         },
         "marker": {
          "color": "rgb(230, 172, 255.0)",
          "size": 10
         },
         "mode": "lines+markers",
         "type": "scatter",
         "x": [
          0,
          0.2662521004676819
         ],
         "xaxis": "x",
         "y": [
          0,
          1.1122533082962036
         ],
         "yaxis": "y"
        },
        {
         "line": {
          "color": "rgb(230, 172, 255.0)"
         },
         "marker": {
          "color": "rgb(230, 172, 255.0)",
          "size": 10
         },
         "mode": "lines+markers",
         "type": "scatter",
         "x": [
          0,
          0
         ],
         "xaxis": "x",
         "y": [
          0,
          0
         ],
         "yaxis": "y"
        },
        {
         "line": {
          "color": "rgb(230, 172, 255.0)"
         },
         "marker": {
          "color": "rgb(230, 172, 255.0)",
          "size": 10
         },
         "mode": "lines+markers",
         "type": "scatter",
         "x": [
          0,
          0
         ],
         "xaxis": "x",
         "y": [
          0,
          0
         ],
         "yaxis": "y"
        },
        {
         "line": {
          "color": "rgb(230, 172, 255.0)"
         },
         "marker": {
          "color": "rgb(230, 172, 255.0)",
          "size": 10
         },
         "mode": "lines+markers",
         "type": "scatter",
         "x": [
          0,
          0
         ],
         "xaxis": "x",
         "y": [
          0,
          0
         ],
         "yaxis": "y"
        },
        {
         "line": {
          "color": "rgb(230, 172, 255.0)"
         },
         "marker": {
          "color": "rgb(230, 172, 255.0)",
          "size": 10
         },
         "mode": "lines+markers",
         "type": "scatter",
         "x": [
          0,
          0
         ],
         "xaxis": "x",
         "y": [
          0,
          0
         ],
         "yaxis": "y"
        },
        {
         "line": {
          "color": "rgb(230, 172, 255.0)"
         },
         "marker": {
          "color": "rgb(230, 172, 255.0)",
          "size": 10
         },
         "mode": "lines+markers",
         "type": "scatter",
         "x": [
          0,
          0
         ],
         "xaxis": "x",
         "y": [
          0,
          0
         ],
         "yaxis": "y"
        },
        {
         "line": {
          "color": "rgb(230, 172, 255.0)"
         },
         "marker": {
          "color": "rgb(230, 172, 255.0)",
          "size": 10
         },
         "mode": "lines+markers",
         "type": "scatter",
         "x": [
          0,
          0
         ],
         "xaxis": "x",
         "y": [
          0,
          0
         ],
         "yaxis": "y"
        },
        {
         "line": {
          "color": "rgb(230, 172, 255.0)"
         },
         "marker": {
          "color": "rgb(230, 172, 255.0)",
          "size": 10
         },
         "mode": "lines+markers",
         "type": "scatter",
         "x": [
          0,
          0
         ],
         "xaxis": "x",
         "y": [
          0,
          0
         ],
         "yaxis": "y"
        },
        {
         "line": {
          "color": "rgb(230, 172, 255.0)"
         },
         "marker": {
          "color": "rgb(230, 172, 255.0)",
          "size": 10
         },
         "mode": "lines+markers",
         "type": "scatter",
         "x": [
          0,
          0
         ],
         "xaxis": "x",
         "y": [
          0,
          0
         ],
         "yaxis": "y"
        },
        {
         "line": {
          "color": "rgb(230, 172, 255.0)"
         },
         "marker": {
          "color": "rgb(230, 172, 255.0)",
          "size": 10
         },
         "mode": "lines+markers",
         "type": "scatter",
         "x": [
          0,
          0
         ],
         "xaxis": "x",
         "y": [
          0,
          0
         ],
         "yaxis": "y"
        },
        {
         "line": {
          "color": "rgb(230, 172, 255.0)"
         },
         "marker": {
          "color": "rgb(230, 172, 255.0)",
          "size": 10
         },
         "mode": "lines+markers",
         "type": "scatter",
         "x": [
          0,
          0
         ],
         "xaxis": "x",
         "y": [
          0,
          0
         ],
         "yaxis": "y"
        },
        {
         "line": {
          "color": "rgb(230, 172, 255.0)"
         },
         "marker": {
          "color": "rgb(230, 172, 255.0)",
          "size": 10
         },
         "mode": "lines+markers",
         "type": "scatter",
         "x": [
          0,
          0
         ],
         "xaxis": "x",
         "y": [
          0,
          0
         ],
         "yaxis": "y"
        },
        {
         "line": {
          "color": "rgb(230, 172, 255.0)"
         },
         "marker": {
          "color": "rgb(230, 172, 255.0)",
          "size": 10
         },
         "mode": "lines+markers",
         "type": "scatter",
         "x": [
          0,
          0
         ],
         "xaxis": "x",
         "y": [
          0,
          0
         ],
         "yaxis": "y"
        },
        {
         "line": {
          "color": "rgb(230, 172, 255.0)"
         },
         "marker": {
          "color": "rgb(230, 172, 255.0)",
          "size": 10
         },
         "mode": "lines+markers",
         "type": "scatter",
         "x": [
          0,
          0
         ],
         "xaxis": "x",
         "y": [
          0,
          0
         ],
         "yaxis": "y"
        },
        {
         "line": {
          "color": "rgb(230, 172, 255.0)"
         },
         "marker": {
          "color": "rgb(230, 172, 255.0)",
          "size": 10
         },
         "mode": "lines+markers",
         "type": "scatter",
         "x": [
          0,
          0
         ],
         "xaxis": "x",
         "y": [
          0,
          0
         ],
         "yaxis": "y"
        },
        {
         "line": {
          "color": "rgb(230, 172, 255.0)"
         },
         "marker": {
          "color": "rgb(230, 172, 255.0)",
          "size": 10
         },
         "mode": "lines+markers",
         "type": "scatter",
         "x": [
          0,
          0
         ],
         "xaxis": "x",
         "y": [
          0,
          0
         ],
         "yaxis": "y"
        },
        {
         "line": {
          "color": "rgb(230, 172, 255.0)"
         },
         "marker": {
          "color": "rgb(230, 172, 255.0)",
          "size": 10
         },
         "mode": "lines+markers",
         "type": "scatter",
         "x": [
          0,
          0
         ],
         "xaxis": "x",
         "y": [
          0,
          0
         ],
         "yaxis": "y"
        },
        {
         "line": {
          "color": "rgb(230, 172, 255.0)"
         },
         "marker": {
          "color": "rgb(230, 172, 255.0)",
          "size": 10
         },
         "mode": "lines+markers",
         "type": "scatter",
         "x": [
          0,
          0
         ],
         "xaxis": "x",
         "y": [
          0,
          0
         ],
         "yaxis": "y"
        },
        {
         "line": {
          "color": "rgb(230, 172, 255.0)"
         },
         "marker": {
          "color": "rgb(230, 172, 255.0)",
          "size": 10
         },
         "mode": "lines+markers",
         "type": "scatter",
         "x": [
          0,
          -0.8760244250297546
         ],
         "xaxis": "x",
         "y": [
          0,
          -0.7474799156188965
         ],
         "yaxis": "y"
        },
        {
         "line": {
          "color": "rgb(230, 172, 255.0)"
         },
         "marker": {
          "color": "rgb(230, 172, 255.0)",
          "size": 10
         },
         "mode": "lines+markers",
         "type": "scatter",
         "x": [
          0,
          0
         ],
         "xaxis": "x",
         "y": [
          0,
          0
         ],
         "yaxis": "y"
        },
        {
         "line": {
          "color": "rgb(230, 172, 255.0)"
         },
         "marker": {
          "color": "rgb(230, 172, 255.0)",
          "size": 10
         },
         "mode": "lines+markers",
         "type": "scatter",
         "x": [
          0,
          0
         ],
         "xaxis": "x",
         "y": [
          0,
          0
         ],
         "yaxis": "y"
        },
        {
         "line": {
          "color": "rgb(230, 172, 255.0)"
         },
         "marker": {
          "color": "rgb(230, 172, 255.0)",
          "size": 10
         },
         "mode": "lines+markers",
         "type": "scatter",
         "x": [
          0,
          0
         ],
         "xaxis": "x",
         "y": [
          0,
          0
         ],
         "yaxis": "y"
        },
        {
         "line": {
          "color": "rgb(230, 172, 255.0)"
         },
         "marker": {
          "color": "rgb(230, 172, 255.0)",
          "size": 10
         },
         "mode": "lines+markers",
         "type": "scatter",
         "x": [
          0,
          0
         ],
         "xaxis": "x",
         "y": [
          0,
          0
         ],
         "yaxis": "y"
        },
        {
         "line": {
          "color": "rgb(230, 172, 255.0)"
         },
         "marker": {
          "color": "rgb(230, 172, 255.0)",
          "size": 10
         },
         "mode": "lines+markers",
         "type": "scatter",
         "x": [
          0,
          0
         ],
         "xaxis": "x",
         "y": [
          0,
          0
         ],
         "yaxis": "y"
        },
        {
         "line": {
          "color": "rgb(230, 172, 255.0)"
         },
         "marker": {
          "color": "rgb(230, 172, 255.0)",
          "size": 10
         },
         "mode": "lines+markers",
         "type": "scatter",
         "x": [
          0,
          0
         ],
         "xaxis": "x",
         "y": [
          0,
          0
         ],
         "yaxis": "y"
        },
        {
         "line": {
          "color": "rgb(230, 172, 255.0)"
         },
         "marker": {
          "color": "rgb(230, 172, 255.0)",
          "size": 10
         },
         "mode": "lines+markers",
         "type": "scatter",
         "x": [
          0,
          0
         ],
         "xaxis": "x",
         "y": [
          0,
          0
         ],
         "yaxis": "y"
        },
        {
         "line": {
          "color": "rgb(230, 172, 255.0)"
         },
         "marker": {
          "color": "rgb(230, 172, 255.0)",
          "size": 10
         },
         "mode": "lines+markers",
         "type": "scatter",
         "x": [
          0,
          0
         ],
         "xaxis": "x",
         "y": [
          0,
          0
         ],
         "yaxis": "y"
        },
        {
         "line": {
          "color": "rgb(230, 172, 255.0)"
         },
         "marker": {
          "color": "rgb(230, 172, 255.0)",
          "size": 10
         },
         "mode": "lines+markers",
         "type": "scatter",
         "x": [
          0,
          0
         ],
         "xaxis": "x",
         "y": [
          0,
          0
         ],
         "yaxis": "y"
        },
        {
         "line": {
          "color": "rgb(230, 172, 255.0)"
         },
         "marker": {
          "color": "rgb(230, 172, 255.0)",
          "size": 10
         },
         "mode": "lines+markers",
         "type": "scatter",
         "x": [
          0,
          0
         ],
         "xaxis": "x",
         "y": [
          0,
          0
         ],
         "yaxis": "y"
        },
        {
         "line": {
          "color": "rgb(230, 172, 255.0)"
         },
         "marker": {
          "color": "rgb(230, 172, 255.0)",
          "size": 10
         },
         "mode": "lines+markers",
         "type": "scatter",
         "x": [
          0,
          0
         ],
         "xaxis": "x",
         "y": [
          0,
          0
         ],
         "yaxis": "y"
        },
        {
         "line": {
          "color": "rgb(230, 172, 255.0)"
         },
         "marker": {
          "color": "rgb(230, 172, 255.0)",
          "size": 10
         },
         "mode": "lines+markers",
         "type": "scatter",
         "x": [
          0,
          0
         ],
         "xaxis": "x",
         "y": [
          0,
          0
         ],
         "yaxis": "y"
        },
        {
         "line": {
          "color": "rgb(230, 172, 255.0)"
         },
         "marker": {
          "color": "rgb(230, 172, 255.0)",
          "size": 10
         },
         "mode": "lines+markers",
         "type": "scatter",
         "x": [
          0,
          0
         ],
         "xaxis": "x",
         "y": [
          0,
          0
         ],
         "yaxis": "y"
        },
        {
         "line": {
          "color": "rgb(230, 172, 255.0)"
         },
         "marker": {
          "color": "rgb(230, 172, 255.0)",
          "size": 10
         },
         "mode": "lines+markers",
         "type": "scatter",
         "x": [
          0,
          0
         ],
         "xaxis": "x",
         "y": [
          0,
          0
         ],
         "yaxis": "y"
        },
        {
         "line": {
          "color": "rgb(230, 172, 255.0)"
         },
         "marker": {
          "color": "rgb(230, 172, 255.0)",
          "size": 10
         },
         "mode": "lines+markers",
         "type": "scatter",
         "x": [
          0,
          0
         ],
         "xaxis": "x",
         "y": [
          0,
          0
         ],
         "yaxis": "y"
        },
        {
         "line": {
          "color": "rgb(230, 172, 255.0)"
         },
         "marker": {
          "color": "rgb(230, 172, 255.0)",
          "size": 10
         },
         "mode": "lines+markers",
         "type": "scatter",
         "x": [
          0,
          0
         ],
         "xaxis": "x",
         "y": [
          0,
          0
         ],
         "yaxis": "y"
        },
        {
         "line": {
          "color": "rgb(230, 172, 255.0)"
         },
         "marker": {
          "color": "rgb(230, 172, 255.0)",
          "size": 10
         },
         "mode": "lines+markers",
         "type": "scatter",
         "x": [
          0,
          0
         ],
         "xaxis": "x",
         "y": [
          0,
          0
         ],
         "yaxis": "y"
        },
        {
         "line": {
          "color": "rgb(230, 172, 255.0)"
         },
         "marker": {
          "color": "rgb(230, 172, 255.0)",
          "size": 10
         },
         "mode": "lines+markers",
         "type": "scatter",
         "x": [
          0,
          0
         ],
         "xaxis": "x",
         "y": [
          0,
          0
         ],
         "yaxis": "y"
        },
        {
         "line": {
          "color": "rgb(230, 172, 255.0)"
         },
         "marker": {
          "color": "rgb(230, 172, 255.0)",
          "size": 10
         },
         "mode": "lines+markers",
         "type": "scatter",
         "x": [
          0,
          -0.9741505980491638
         ],
         "xaxis": "x",
         "y": [
          0,
          0.6108540296554565
         ],
         "yaxis": "y"
        },
        {
         "line": {
          "color": "rgb(230, 172, 255.0)"
         },
         "marker": {
          "color": "rgb(230, 172, 255.0)",
          "size": 10
         },
         "mode": "lines+markers",
         "type": "scatter",
         "x": [
          0,
          0
         ],
         "xaxis": "x",
         "y": [
          0,
          0
         ],
         "yaxis": "y"
        },
        {
         "line": {
          "color": "rgb(230, 172, 255.0)"
         },
         "marker": {
          "color": "rgb(230, 172, 255.0)",
          "size": 10
         },
         "mode": "lines+markers",
         "type": "scatter",
         "x": [
          0,
          0
         ],
         "xaxis": "x",
         "y": [
          0,
          0
         ],
         "yaxis": "y"
        },
        {
         "line": {
          "color": "rgb(230, 172, 255.0)"
         },
         "marker": {
          "color": "rgb(230, 172, 255.0)",
          "size": 10
         },
         "mode": "lines+markers",
         "type": "scatter",
         "x": [
          0,
          0
         ],
         "xaxis": "x",
         "y": [
          0,
          0
         ],
         "yaxis": "y"
        },
        {
         "line": {
          "color": "rgb(230, 172, 255.0)"
         },
         "marker": {
          "color": "rgb(230, 172, 255.0)",
          "size": 10
         },
         "mode": "lines+markers",
         "type": "scatter",
         "x": [
          0,
          0
         ],
         "xaxis": "x",
         "y": [
          0,
          0
         ],
         "yaxis": "y"
        },
        {
         "line": {
          "color": "rgb(230, 172, 255.0)"
         },
         "marker": {
          "color": "rgb(230, 172, 255.0)",
          "size": 10
         },
         "mode": "lines+markers",
         "type": "scatter",
         "x": [
          0,
          0
         ],
         "xaxis": "x",
         "y": [
          0,
          0
         ],
         "yaxis": "y"
        },
        {
         "line": {
          "color": "rgb(230, 172, 255.0)"
         },
         "marker": {
          "color": "rgb(230, 172, 255.0)",
          "size": 10
         },
         "mode": "lines+markers",
         "type": "scatter",
         "x": [
          0,
          0
         ],
         "xaxis": "x",
         "y": [
          0,
          0
         ],
         "yaxis": "y"
        },
        {
         "line": {
          "color": "rgb(230, 172, 255.0)"
         },
         "marker": {
          "color": "rgb(230, 172, 255.0)",
          "size": 10
         },
         "mode": "lines+markers",
         "type": "scatter",
         "x": [
          0,
          0
         ],
         "xaxis": "x",
         "y": [
          0,
          0
         ],
         "yaxis": "y"
        },
        {
         "line": {
          "color": "rgb(230, 172, 255.0)"
         },
         "marker": {
          "color": "rgb(230, 172, 255.0)",
          "size": 10
         },
         "mode": "lines+markers",
         "type": "scatter",
         "x": [
          0,
          0
         ],
         "xaxis": "x",
         "y": [
          0,
          0
         ],
         "yaxis": "y"
        },
        {
         "line": {
          "color": "rgb(230, 172, 255.0)"
         },
         "marker": {
          "color": "rgb(230, 172, 255.0)",
          "size": 10
         },
         "mode": "lines+markers",
         "type": "scatter",
         "x": [
          0,
          0
         ],
         "xaxis": "x",
         "y": [
          0,
          0
         ],
         "yaxis": "y"
        },
        {
         "line": {
          "color": "rgb(230, 172, 255.0)"
         },
         "marker": {
          "color": "rgb(230, 172, 255.0)",
          "size": 10
         },
         "mode": "lines+markers",
         "type": "scatter",
         "x": [
          0,
          0
         ],
         "xaxis": "x",
         "y": [
          0,
          0
         ],
         "yaxis": "y"
        },
        {
         "line": {
          "color": "rgb(230, 172, 255.0)"
         },
         "marker": {
          "color": "rgb(230, 172, 255.0)",
          "size": 10
         },
         "mode": "lines+markers",
         "type": "scatter",
         "x": [
          0,
          0
         ],
         "xaxis": "x",
         "y": [
          0,
          0
         ],
         "yaxis": "y"
        },
        {
         "line": {
          "color": "rgb(230, 172, 255.0)"
         },
         "marker": {
          "color": "rgb(230, 172, 255.0)",
          "size": 10
         },
         "mode": "lines+markers",
         "type": "scatter",
         "x": [
          0,
          0
         ],
         "xaxis": "x",
         "y": [
          0,
          0
         ],
         "yaxis": "y"
        },
        {
         "line": {
          "color": "rgb(230, 172, 255.0)"
         },
         "marker": {
          "color": "rgb(230, 172, 255.0)",
          "size": 10
         },
         "mode": "lines+markers",
         "type": "scatter",
         "x": [
          0,
          0
         ],
         "xaxis": "x",
         "y": [
          0,
          0
         ],
         "yaxis": "y"
        },
        {
         "line": {
          "color": "rgb(230, 172, 255.0)"
         },
         "marker": {
          "color": "rgb(230, 172, 255.0)",
          "size": 10
         },
         "mode": "lines+markers",
         "type": "scatter",
         "x": [
          0,
          0
         ],
         "xaxis": "x",
         "y": [
          0,
          0
         ],
         "yaxis": "y"
        },
        {
         "line": {
          "color": "rgb(230, 172, 255.0)"
         },
         "marker": {
          "color": "rgb(230, 172, 255.0)",
          "size": 10
         },
         "mode": "lines+markers",
         "type": "scatter",
         "x": [
          0,
          0
         ],
         "xaxis": "x",
         "y": [
          0,
          0
         ],
         "yaxis": "y"
        },
        {
         "line": {
          "color": "rgb(230, 172, 255.0)"
         },
         "marker": {
          "color": "rgb(230, 172, 255.0)",
          "size": 10
         },
         "mode": "lines+markers",
         "type": "scatter",
         "x": [
          0,
          0
         ],
         "xaxis": "x",
         "y": [
          0,
          0
         ],
         "yaxis": "y"
        },
        {
         "line": {
          "color": "rgb(230, 172, 255.0)"
         },
         "marker": {
          "color": "rgb(230, 172, 255.0)",
          "size": 10
         },
         "mode": "lines+markers",
         "type": "scatter",
         "x": [
          0,
          0
         ],
         "xaxis": "x",
         "y": [
          0,
          0
         ],
         "yaxis": "y"
        },
        {
         "line": {
          "color": "rgb(230, 172, 255.0)"
         },
         "marker": {
          "color": "rgb(230, 172, 255.0)",
          "size": 10
         },
         "mode": "lines+markers",
         "type": "scatter",
         "x": [
          0,
          0
         ],
         "xaxis": "x",
         "y": [
          0,
          0
         ],
         "yaxis": "y"
        },
        {
         "line": {
          "color": "rgb(230, 172, 255.0)"
         },
         "marker": {
          "color": "rgb(230, 172, 255.0)",
          "size": 10
         },
         "mode": "lines+markers",
         "type": "scatter",
         "x": [
          0,
          0
         ],
         "xaxis": "x",
         "y": [
          0,
          0
         ],
         "yaxis": "y"
        },
        {
         "line": {
          "color": "rgb(230, 172, 255.0)"
         },
         "marker": {
          "color": "rgb(230, 172, 255.0)",
          "size": 10
         },
         "mode": "lines+markers",
         "type": "scatter",
         "x": [
          0,
          0
         ],
         "xaxis": "x",
         "y": [
          0,
          0
         ],
         "yaxis": "y"
        },
        {
         "line": {
          "color": "rgb(230, 172, 255.0)"
         },
         "marker": {
          "color": "rgb(230, 172, 255.0)",
          "size": 10
         },
         "mode": "lines+markers",
         "type": "scatter",
         "x": [
          0,
          0
         ],
         "xaxis": "x",
         "y": [
          0,
          0
         ],
         "yaxis": "y"
        },
        {
         "line": {
          "color": "rgb(230, 172, 255.0)"
         },
         "marker": {
          "color": "rgb(230, 172, 255.0)",
          "size": 10
         },
         "mode": "lines+markers",
         "type": "scatter",
         "x": [
          0,
          0
         ],
         "xaxis": "x",
         "y": [
          0,
          0
         ],
         "yaxis": "y"
        },
        {
         "line": {
          "color": "rgb(230, 172, 255.0)"
         },
         "marker": {
          "color": "rgb(230, 172, 255.0)",
          "size": 10
         },
         "mode": "lines+markers",
         "type": "scatter",
         "x": [
          0,
          0
         ],
         "xaxis": "x",
         "y": [
          0,
          0
         ],
         "yaxis": "y"
        },
        {
         "line": {
          "color": "rgb(230, 172, 255.0)"
         },
         "marker": {
          "color": "rgb(230, 172, 255.0)",
          "size": 10
         },
         "mode": "lines+markers",
         "type": "scatter",
         "x": [
          0,
          0
         ],
         "xaxis": "x",
         "y": [
          0,
          0
         ],
         "yaxis": "y"
        },
        {
         "line": {
          "color": "rgb(230, 172, 255.0)"
         },
         "marker": {
          "color": "rgb(230, 172, 255.0)",
          "size": 10
         },
         "mode": "lines+markers",
         "type": "scatter",
         "x": [
          0,
          0
         ],
         "xaxis": "x",
         "y": [
          0,
          0
         ],
         "yaxis": "y"
        },
        {
         "line": {
          "color": "rgb(230, 172, 255.0)"
         },
         "marker": {
          "color": "rgb(230, 172, 255.0)",
          "size": 10
         },
         "mode": "lines+markers",
         "type": "scatter",
         "x": [
          0,
          0
         ],
         "xaxis": "x",
         "y": [
          0,
          0
         ],
         "yaxis": "y"
        },
        {
         "line": {
          "color": "rgb(230, 172, 255.0)"
         },
         "marker": {
          "color": "rgb(230, 172, 255.0)",
          "size": 10
         },
         "mode": "lines+markers",
         "type": "scatter",
         "x": [
          0,
          0
         ],
         "xaxis": "x",
         "y": [
          0,
          0
         ],
         "yaxis": "y"
        },
        {
         "line": {
          "color": "rgb(230, 172, 255.0)"
         },
         "marker": {
          "color": "rgb(230, 172, 255.0)",
          "size": 10
         },
         "mode": "lines+markers",
         "type": "scatter",
         "x": [
          0,
          0
         ],
         "xaxis": "x",
         "y": [
          0,
          0
         ],
         "yaxis": "y"
        },
        {
         "line": {
          "color": "rgb(230, 172, 255.0)"
         },
         "marker": {
          "color": "rgb(230, 172, 255.0)",
          "size": 10
         },
         "mode": "lines+markers",
         "type": "scatter",
         "x": [
          0,
          0
         ],
         "xaxis": "x",
         "y": [
          0,
          0
         ],
         "yaxis": "y"
        },
        {
         "line": {
          "color": "rgb(230, 172, 255.0)"
         },
         "marker": {
          "color": "rgb(230, 172, 255.0)",
          "size": 10
         },
         "mode": "lines+markers",
         "type": "scatter",
         "x": [
          0,
          0
         ],
         "xaxis": "x",
         "y": [
          0,
          0
         ],
         "yaxis": "y"
        },
        {
         "line": {
          "color": "rgb(230, 172, 255.0)"
         },
         "marker": {
          "color": "rgb(230, 172, 255.0)",
          "size": 10
         },
         "mode": "lines+markers",
         "type": "scatter",
         "x": [
          0,
          0
         ],
         "xaxis": "x",
         "y": [
          0,
          0
         ],
         "yaxis": "y"
        },
        {
         "line": {
          "color": "rgb(230, 172, 255.0)"
         },
         "marker": {
          "color": "rgb(230, 172, 255.0)",
          "size": 10
         },
         "mode": "lines+markers",
         "type": "scatter",
         "x": [
          0,
          0
         ],
         "xaxis": "x",
         "y": [
          0,
          0
         ],
         "yaxis": "y"
        },
        {
         "line": {
          "color": "rgb(230, 172, 255.0)"
         },
         "marker": {
          "color": "rgb(230, 172, 255.0)",
          "size": 10
         },
         "mode": "lines+markers",
         "type": "scatter",
         "x": [
          0,
          -0.8760244250297546
         ],
         "xaxis": "x",
         "y": [
          0,
          -0.7474799156188965
         ],
         "yaxis": "y"
        },
        {
         "line": {
          "color": "rgb(230, 172, 255.0)"
         },
         "marker": {
          "color": "rgb(230, 172, 255.0)",
          "size": 10
         },
         "mode": "lines+markers",
         "type": "scatter",
         "x": [
          0,
          0
         ],
         "xaxis": "x",
         "y": [
          0,
          0
         ],
         "yaxis": "y"
        },
        {
         "line": {
          "color": "rgb(230, 172, 255.0)"
         },
         "marker": {
          "color": "rgb(230, 172, 255.0)",
          "size": 10
         },
         "mode": "lines+markers",
         "type": "scatter",
         "x": [
          0,
          0
         ],
         "xaxis": "x",
         "y": [
          0,
          0
         ],
         "yaxis": "y"
        },
        {
         "line": {
          "color": "rgb(230, 172, 255.0)"
         },
         "marker": {
          "color": "rgb(230, 172, 255.0)",
          "size": 10
         },
         "mode": "lines+markers",
         "type": "scatter",
         "x": [
          0,
          0
         ],
         "xaxis": "x",
         "y": [
          0,
          0
         ],
         "yaxis": "y"
        },
        {
         "line": {
          "color": "rgb(230, 172, 255.0)"
         },
         "marker": {
          "color": "rgb(230, 172, 255.0)",
          "size": 10
         },
         "mode": "lines+markers",
         "type": "scatter",
         "x": [
          0,
          0
         ],
         "xaxis": "x",
         "y": [
          0,
          0
         ],
         "yaxis": "y"
        },
        {
         "line": {
          "color": "rgb(230, 172, 255.0)"
         },
         "marker": {
          "color": "rgb(230, 172, 255.0)",
          "size": 10
         },
         "mode": "lines+markers",
         "type": "scatter",
         "x": [
          0,
          0
         ],
         "xaxis": "x",
         "y": [
          0,
          0
         ],
         "yaxis": "y"
        },
        {
         "line": {
          "color": "rgb(230, 172, 255.0)"
         },
         "marker": {
          "color": "rgb(230, 172, 255.0)",
          "size": 10
         },
         "mode": "lines+markers",
         "type": "scatter",
         "x": [
          0,
          0
         ],
         "xaxis": "x",
         "y": [
          0,
          0
         ],
         "yaxis": "y"
        },
        {
         "line": {
          "color": "rgb(230, 172, 255.0)"
         },
         "marker": {
          "color": "rgb(230, 172, 255.0)",
          "size": 10
         },
         "mode": "lines+markers",
         "type": "scatter",
         "x": [
          0,
          0
         ],
         "xaxis": "x",
         "y": [
          0,
          0
         ],
         "yaxis": "y"
        },
        {
         "line": {
          "color": "rgb(230, 172, 255.0)"
         },
         "marker": {
          "color": "rgb(230, 172, 255.0)",
          "size": 10
         },
         "mode": "lines+markers",
         "type": "scatter",
         "x": [
          0,
          0
         ],
         "xaxis": "x",
         "y": [
          0,
          0
         ],
         "yaxis": "y"
        },
        {
         "line": {
          "color": "rgb(230, 172, 255.0)"
         },
         "marker": {
          "color": "rgb(230, 172, 255.0)",
          "size": 10
         },
         "mode": "lines+markers",
         "type": "scatter",
         "x": [
          0,
          0
         ],
         "xaxis": "x",
         "y": [
          0,
          0
         ],
         "yaxis": "y"
        },
        {
         "line": {
          "color": "rgb(230, 172, 255.0)"
         },
         "marker": {
          "color": "rgb(230, 172, 255.0)",
          "size": 10
         },
         "mode": "lines+markers",
         "type": "scatter",
         "x": [
          0,
          0
         ],
         "xaxis": "x",
         "y": [
          0,
          0
         ],
         "yaxis": "y"
        },
        {
         "line": {
          "color": "rgb(230, 172, 255.0)"
         },
         "marker": {
          "color": "rgb(230, 172, 255.0)",
          "size": 10
         },
         "mode": "lines+markers",
         "type": "scatter",
         "x": [
          0,
          0
         ],
         "xaxis": "x",
         "y": [
          0,
          0
         ],
         "yaxis": "y"
        },
        {
         "line": {
          "color": "rgb(230, 172, 255.0)"
         },
         "marker": {
          "color": "rgb(230, 172, 255.0)",
          "size": 10
         },
         "mode": "lines+markers",
         "type": "scatter",
         "x": [
          0,
          0
         ],
         "xaxis": "x",
         "y": [
          0,
          0
         ],
         "yaxis": "y"
        },
        {
         "line": {
          "color": "rgb(230, 172, 255.0)"
         },
         "marker": {
          "color": "rgb(230, 172, 255.0)",
          "size": 10
         },
         "mode": "lines+markers",
         "type": "scatter",
         "x": [
          0,
          0
         ],
         "xaxis": "x",
         "y": [
          0,
          0
         ],
         "yaxis": "y"
        },
        {
         "line": {
          "color": "rgb(230, 172, 255.0)"
         },
         "marker": {
          "color": "rgb(230, 172, 255.0)",
          "size": 10
         },
         "mode": "lines+markers",
         "type": "scatter",
         "x": [
          0,
          0
         ],
         "xaxis": "x",
         "y": [
          0,
          0
         ],
         "yaxis": "y"
        },
        {
         "line": {
          "color": "rgb(230, 172, 255.0)"
         },
         "marker": {
          "color": "rgb(230, 172, 255.0)",
          "size": 10
         },
         "mode": "lines+markers",
         "type": "scatter",
         "x": [
          0,
          0
         ],
         "xaxis": "x",
         "y": [
          0,
          0
         ],
         "yaxis": "y"
        },
        {
         "line": {
          "color": "rgb(230, 172, 255.0)"
         },
         "marker": {
          "color": "rgb(230, 172, 255.0)",
          "size": 10
         },
         "mode": "lines+markers",
         "type": "scatter",
         "x": [
          0,
          0
         ],
         "xaxis": "x",
         "y": [
          0,
          0
         ],
         "yaxis": "y"
        },
        {
         "line": {
          "color": "rgb(230, 172, 255.0)"
         },
         "marker": {
          "color": "rgb(230, 172, 255.0)",
          "size": 10
         },
         "mode": "lines+markers",
         "type": "scatter",
         "x": [
          0,
          0
         ],
         "xaxis": "x",
         "y": [
          0,
          0
         ],
         "yaxis": "y"
        },
        {
         "line": {
          "color": "rgb(230, 172, 255.0)"
         },
         "marker": {
          "color": "rgb(230, 172, 255.0)",
          "size": 10
         },
         "mode": "lines+markers",
         "type": "scatter",
         "x": [
          0,
          0
         ],
         "xaxis": "x",
         "y": [
          0,
          0
         ],
         "yaxis": "y"
        },
        {
         "line": {
          "color": "rgb(230, 172, 255.0)"
         },
         "marker": {
          "color": "rgb(230, 172, 255.0)",
          "size": 10
         },
         "mode": "lines+markers",
         "type": "scatter",
         "x": [
          0,
          0
         ],
         "xaxis": "x",
         "y": [
          0,
          0
         ],
         "yaxis": "y"
        },
        {
         "line": {
          "color": "rgb(230, 172, 255.0)"
         },
         "marker": {
          "color": "rgb(230, 172, 255.0)",
          "size": 10
         },
         "mode": "lines+markers",
         "type": "scatter",
         "x": [
          0,
          0
         ],
         "xaxis": "x",
         "y": [
          0,
          0
         ],
         "yaxis": "y"
        },
        {
         "line": {
          "color": "rgb(230, 172, 255.0)"
         },
         "marker": {
          "color": "rgb(230, 172, 255.0)",
          "size": 10
         },
         "mode": "lines+markers",
         "type": "scatter",
         "x": [
          0,
          0
         ],
         "xaxis": "x",
         "y": [
          0,
          0
         ],
         "yaxis": "y"
        },
        {
         "line": {
          "color": "rgb(230, 172, 255.0)"
         },
         "marker": {
          "color": "rgb(230, 172, 255.0)",
          "size": 10
         },
         "mode": "lines+markers",
         "type": "scatter",
         "x": [
          0,
          0
         ],
         "xaxis": "x",
         "y": [
          0,
          0
         ],
         "yaxis": "y"
        },
        {
         "line": {
          "color": "rgb(230, 172, 255.0)"
         },
         "marker": {
          "color": "rgb(230, 172, 255.0)",
          "size": 10
         },
         "mode": "lines+markers",
         "type": "scatter",
         "x": [
          0,
          0
         ],
         "xaxis": "x",
         "y": [
          0,
          0
         ],
         "yaxis": "y"
        },
        {
         "line": {
          "color": "rgb(230, 172, 255.0)"
         },
         "marker": {
          "color": "rgb(230, 172, 255.0)",
          "size": 10
         },
         "mode": "lines+markers",
         "type": "scatter",
         "x": [
          0,
          0
         ],
         "xaxis": "x",
         "y": [
          0,
          0
         ],
         "yaxis": "y"
        },
        {
         "line": {
          "color": "rgb(230, 172, 255.0)"
         },
         "marker": {
          "color": "rgb(230, 172, 255.0)",
          "size": 10
         },
         "mode": "lines+markers",
         "type": "scatter",
         "x": [
          0,
          0
         ],
         "xaxis": "x",
         "y": [
          0,
          0
         ],
         "yaxis": "y"
        },
        {
         "line": {
          "color": "rgb(230, 172, 255.0)"
         },
         "marker": {
          "color": "rgb(230, 172, 255.0)",
          "size": 10
         },
         "mode": "lines+markers",
         "type": "scatter",
         "x": [
          0,
          0
         ],
         "xaxis": "x",
         "y": [
          0,
          0
         ],
         "yaxis": "y"
        },
        {
         "line": {
          "color": "rgb(230, 172, 255.0)"
         },
         "marker": {
          "color": "rgb(230, 172, 255.0)",
          "size": 10
         },
         "mode": "lines+markers",
         "type": "scatter",
         "x": [
          0,
          0
         ],
         "xaxis": "x",
         "y": [
          0,
          0
         ],
         "yaxis": "y"
        },
        {
         "line": {
          "color": "rgb(230, 172, 255.0)"
         },
         "marker": {
          "color": "rgb(230, 172, 255.0)",
          "size": 10
         },
         "mode": "lines+markers",
         "type": "scatter",
         "x": [
          0,
          0
         ],
         "xaxis": "x",
         "y": [
          0,
          0
         ],
         "yaxis": "y"
        },
        {
         "line": {
          "color": "rgb(230, 172, 255.0)"
         },
         "marker": {
          "color": "rgb(230, 172, 255.0)",
          "size": 10
         },
         "mode": "lines+markers",
         "type": "scatter",
         "x": [
          0,
          0
         ],
         "xaxis": "x",
         "y": [
          0,
          0
         ],
         "yaxis": "y"
        },
        {
         "line": {
          "color": "rgb(230, 172, 255.0)"
         },
         "marker": {
          "color": "rgb(230, 172, 255.0)",
          "size": 10
         },
         "mode": "lines+markers",
         "type": "scatter",
         "x": [
          0,
          0
         ],
         "xaxis": "x",
         "y": [
          0,
          0
         ],
         "yaxis": "y"
        },
        {
         "line": {
          "color": "rgb(230, 172, 255.0)"
         },
         "marker": {
          "color": "rgb(230, 172, 255.0)",
          "size": 10
         },
         "mode": "lines+markers",
         "type": "scatter",
         "x": [
          0,
          0
         ],
         "xaxis": "x",
         "y": [
          0,
          0
         ],
         "yaxis": "y"
        },
        {
         "line": {
          "color": "rgb(230, 172, 255.0)"
         },
         "marker": {
          "color": "rgb(230, 172, 255.0)",
          "size": 10
         },
         "mode": "lines+markers",
         "type": "scatter",
         "x": [
          0,
          0
         ],
         "xaxis": "x",
         "y": [
          0,
          0
         ],
         "yaxis": "y"
        },
        {
         "line": {
          "color": "rgb(230, 172, 255.0)"
         },
         "marker": {
          "color": "rgb(230, 172, 255.0)",
          "size": 10
         },
         "mode": "lines+markers",
         "type": "scatter",
         "x": [
          0,
          1.1500757932662964
         ],
         "xaxis": "x",
         "y": [
          0,
          0.10035640746355057
         ],
         "yaxis": "y"
        },
        {
         "line": {
          "color": "rgb(230, 172, 255.0)"
         },
         "marker": {
          "color": "rgb(230, 172, 255.0)",
          "size": 10
         },
         "mode": "lines+markers",
         "type": "scatter",
         "x": [
          0,
          0
         ],
         "xaxis": "x",
         "y": [
          0,
          0
         ],
         "yaxis": "y"
        },
        {
         "line": {
          "color": "rgb(230, 172, 255.0)"
         },
         "marker": {
          "color": "rgb(230, 172, 255.0)",
          "size": 10
         },
         "mode": "lines+markers",
         "type": "scatter",
         "x": [
          0,
          0
         ],
         "xaxis": "x",
         "y": [
          0,
          0
         ],
         "yaxis": "y"
        },
        {
         "line": {
          "color": "rgb(230, 172, 255.0)"
         },
         "marker": {
          "color": "rgb(230, 172, 255.0)",
          "size": 10
         },
         "mode": "lines+markers",
         "type": "scatter",
         "x": [
          0,
          0
         ],
         "xaxis": "x",
         "y": [
          0,
          0
         ],
         "yaxis": "y"
        },
        {
         "line": {
          "color": "rgb(230, 172, 255.0)"
         },
         "marker": {
          "color": "rgb(230, 172, 255.0)",
          "size": 10
         },
         "mode": "lines+markers",
         "type": "scatter",
         "x": [
          0,
          0
         ],
         "xaxis": "x",
         "y": [
          0,
          0
         ],
         "yaxis": "y"
        },
        {
         "line": {
          "color": "rgb(230, 172, 255.0)"
         },
         "marker": {
          "color": "rgb(230, 172, 255.0)",
          "size": 10
         },
         "mode": "lines+markers",
         "type": "scatter",
         "x": [
          0,
          0
         ],
         "xaxis": "x",
         "y": [
          0,
          0
         ],
         "yaxis": "y"
        },
        {
         "line": {
          "color": "rgb(230, 172, 255.0)"
         },
         "marker": {
          "color": "rgb(230, 172, 255.0)",
          "size": 10
         },
         "mode": "lines+markers",
         "type": "scatter",
         "x": [
          0,
          0
         ],
         "xaxis": "x",
         "y": [
          0,
          0
         ],
         "yaxis": "y"
        },
        {
         "line": {
          "color": "rgb(230, 172, 255.0)"
         },
         "marker": {
          "color": "rgb(230, 172, 255.0)",
          "size": 10
         },
         "mode": "lines+markers",
         "type": "scatter",
         "x": [
          0,
          0
         ],
         "xaxis": "x",
         "y": [
          0,
          0
         ],
         "yaxis": "y"
        },
        {
         "line": {
          "color": "rgb(230, 172, 255.0)"
         },
         "marker": {
          "color": "rgb(230, 172, 255.0)",
          "size": 10
         },
         "mode": "lines+markers",
         "type": "scatter",
         "x": [
          0,
          0
         ],
         "xaxis": "x",
         "y": [
          0,
          0
         ],
         "yaxis": "y"
        },
        {
         "line": {
          "color": "rgb(230, 172, 255.0)"
         },
         "marker": {
          "color": "rgb(230, 172, 255.0)",
          "size": 10
         },
         "mode": "lines+markers",
         "type": "scatter",
         "x": [
          0,
          0
         ],
         "xaxis": "x",
         "y": [
          0,
          0
         ],
         "yaxis": "y"
        },
        {
         "line": {
          "color": "rgb(230, 172, 255.0)"
         },
         "marker": {
          "color": "rgb(230, 172, 255.0)",
          "size": 10
         },
         "mode": "lines+markers",
         "type": "scatter",
         "x": [
          0,
          0
         ],
         "xaxis": "x",
         "y": [
          0,
          0
         ],
         "yaxis": "y"
        },
        {
         "line": {
          "color": "rgb(230, 172, 255.0)"
         },
         "marker": {
          "color": "rgb(230, 172, 255.0)",
          "size": 10
         },
         "mode": "lines+markers",
         "type": "scatter",
         "x": [
          0,
          0
         ],
         "xaxis": "x",
         "y": [
          0,
          0
         ],
         "yaxis": "y"
        },
        {
         "line": {
          "color": "rgb(230, 172, 255.0)"
         },
         "marker": {
          "color": "rgb(230, 172, 255.0)",
          "size": 10
         },
         "mode": "lines+markers",
         "type": "scatter",
         "x": [
          0,
          0
         ],
         "xaxis": "x",
         "y": [
          0,
          0
         ],
         "yaxis": "y"
        },
        {
         "line": {
          "color": "rgb(230, 172, 255.0)"
         },
         "marker": {
          "color": "rgb(230, 172, 255.0)",
          "size": 10
         },
         "mode": "lines+markers",
         "type": "scatter",
         "x": [
          0,
          0
         ],
         "xaxis": "x",
         "y": [
          0,
          0
         ],
         "yaxis": "y"
        },
        {
         "line": {
          "color": "rgb(230, 172, 255.0)"
         },
         "marker": {
          "color": "rgb(230, 172, 255.0)",
          "size": 10
         },
         "mode": "lines+markers",
         "type": "scatter",
         "x": [
          0,
          0
         ],
         "xaxis": "x",
         "y": [
          0,
          0
         ],
         "yaxis": "y"
        },
        {
         "line": {
          "color": "rgb(230, 172, 255.0)"
         },
         "marker": {
          "color": "rgb(230, 172, 255.0)",
          "size": 10
         },
         "mode": "lines+markers",
         "type": "scatter",
         "x": [
          0,
          0
         ],
         "xaxis": "x",
         "y": [
          0,
          0
         ],
         "yaxis": "y"
        },
        {
         "line": {
          "color": "rgb(230, 172, 255.0)"
         },
         "marker": {
          "color": "rgb(230, 172, 255.0)",
          "size": 10
         },
         "mode": "lines+markers",
         "type": "scatter",
         "x": [
          0,
          0
         ],
         "xaxis": "x",
         "y": [
          0,
          0
         ],
         "yaxis": "y"
        },
        {
         "line": {
          "color": "rgb(230, 172, 255.0)"
         },
         "marker": {
          "color": "rgb(230, 172, 255.0)",
          "size": 10
         },
         "mode": "lines+markers",
         "type": "scatter",
         "x": [
          0,
          0
         ],
         "xaxis": "x",
         "y": [
          0,
          0
         ],
         "yaxis": "y"
        },
        {
         "line": {
          "color": "rgb(230, 172, 255.0)"
         },
         "marker": {
          "color": "rgb(230, 172, 255.0)",
          "size": 10
         },
         "mode": "lines+markers",
         "type": "scatter",
         "x": [
          0,
          0
         ],
         "xaxis": "x",
         "y": [
          0,
          0
         ],
         "yaxis": "y"
        },
        {
         "line": {
          "color": "rgb(230, 172, 255.0)"
         },
         "marker": {
          "color": "rgb(230, 172, 255.0)",
          "size": 10
         },
         "mode": "lines+markers",
         "type": "scatter",
         "x": [
          0,
          0
         ],
         "xaxis": "x",
         "y": [
          0,
          0
         ],
         "yaxis": "y"
        },
        {
         "line": {
          "color": "rgb(230, 172, 255.0)"
         },
         "marker": {
          "color": "rgb(230, 172, 255.0)",
          "size": 10
         },
         "mode": "lines+markers",
         "type": "scatter",
         "x": [
          0,
          0
         ],
         "xaxis": "x",
         "y": [
          0,
          0
         ],
         "yaxis": "y"
        },
        {
         "line": {
          "color": "rgb(230, 172, 255.0)"
         },
         "marker": {
          "color": "rgb(230, 172, 255.0)",
          "size": 10
         },
         "mode": "lines+markers",
         "type": "scatter",
         "x": [
          0,
          0
         ],
         "xaxis": "x",
         "y": [
          0,
          0
         ],
         "yaxis": "y"
        },
        {
         "line": {
          "color": "rgb(230, 172, 255.0)"
         },
         "marker": {
          "color": "rgb(230, 172, 255.0)",
          "size": 10
         },
         "mode": "lines+markers",
         "type": "scatter",
         "x": [
          0,
          0
         ],
         "xaxis": "x",
         "y": [
          0,
          0
         ],
         "yaxis": "y"
        },
        {
         "line": {
          "color": "rgb(230, 172, 255.0)"
         },
         "marker": {
          "color": "rgb(230, 172, 255.0)",
          "size": 10
         },
         "mode": "lines+markers",
         "type": "scatter",
         "x": [
          0,
          0
         ],
         "xaxis": "x",
         "y": [
          0,
          0
         ],
         "yaxis": "y"
        },
        {
         "line": {
          "color": "rgb(230, 172, 255.0)"
         },
         "marker": {
          "color": "rgb(230, 172, 255.0)",
          "size": 10
         },
         "mode": "lines+markers",
         "type": "scatter",
         "x": [
          0,
          0
         ],
         "xaxis": "x",
         "y": [
          0,
          0
         ],
         "yaxis": "y"
        },
        {
         "line": {
          "color": "rgb(230, 172, 255.0)"
         },
         "marker": {
          "color": "rgb(230, 172, 255.0)",
          "size": 10
         },
         "mode": "lines+markers",
         "type": "scatter",
         "x": [
          0,
          0
         ],
         "xaxis": "x",
         "y": [
          0,
          0
         ],
         "yaxis": "y"
        },
        {
         "line": {
          "color": "rgb(230, 172, 255.0)"
         },
         "marker": {
          "color": "rgb(230, 172, 255.0)",
          "size": 10
         },
         "mode": "lines+markers",
         "type": "scatter",
         "x": [
          0,
          0
         ],
         "xaxis": "x",
         "y": [
          0,
          0
         ],
         "yaxis": "y"
        },
        {
         "line": {
          "color": "rgb(230, 172, 255.0)"
         },
         "marker": {
          "color": "rgb(230, 172, 255.0)",
          "size": 10
         },
         "mode": "lines+markers",
         "type": "scatter",
         "x": [
          0,
          0
         ],
         "xaxis": "x",
         "y": [
          0,
          0
         ],
         "yaxis": "y"
        },
        {
         "line": {
          "color": "rgb(230, 172, 255.0)"
         },
         "marker": {
          "color": "rgb(230, 172, 255.0)",
          "size": 10
         },
         "mode": "lines+markers",
         "type": "scatter",
         "x": [
          0,
          0
         ],
         "xaxis": "x",
         "y": [
          0,
          0
         ],
         "yaxis": "y"
        },
        {
         "line": {
          "color": "rgb(230, 172, 255.0)"
         },
         "marker": {
          "color": "rgb(230, 172, 255.0)",
          "size": 10
         },
         "mode": "lines+markers",
         "type": "scatter",
         "x": [
          0,
          0
         ],
         "xaxis": "x",
         "y": [
          0,
          0
         ],
         "yaxis": "y"
        },
        {
         "line": {
          "color": "rgb(230, 172, 255.0)"
         },
         "marker": {
          "color": "rgb(230, 172, 255.0)",
          "size": 10
         },
         "mode": "lines+markers",
         "type": "scatter",
         "x": [
          0,
          0
         ],
         "xaxis": "x",
         "y": [
          0,
          0
         ],
         "yaxis": "y"
        },
        {
         "line": {
          "color": "rgb(230, 172, 255.0)"
         },
         "marker": {
          "color": "rgb(230, 172, 255.0)",
          "size": 10
         },
         "mode": "lines+markers",
         "type": "scatter",
         "x": [
          0,
          0
         ],
         "xaxis": "x",
         "y": [
          0,
          0
         ],
         "yaxis": "y"
        },
        {
         "line": {
          "color": "rgb(230, 172, 255.0)"
         },
         "marker": {
          "color": "rgb(230, 172, 255.0)",
          "size": 10
         },
         "mode": "lines+markers",
         "type": "scatter",
         "x": [
          0,
          0
         ],
         "xaxis": "x",
         "y": [
          0,
          0
         ],
         "yaxis": "y"
        },
        {
         "line": {
          "color": "rgb(230, 172, 255.0)"
         },
         "marker": {
          "color": "rgb(230, 172, 255.0)",
          "size": 10
         },
         "mode": "lines+markers",
         "type": "scatter",
         "x": [
          0,
          0
         ],
         "xaxis": "x",
         "y": [
          0,
          0
         ],
         "yaxis": "y"
        },
        {
         "line": {
          "color": "rgb(230, 172, 255.0)"
         },
         "marker": {
          "color": "rgb(230, 172, 255.0)",
          "size": 10
         },
         "mode": "lines+markers",
         "type": "scatter",
         "x": [
          0,
          0
         ],
         "xaxis": "x",
         "y": [
          0,
          0
         ],
         "yaxis": "y"
        },
        {
         "line": {
          "color": "rgb(230, 172, 255.0)"
         },
         "marker": {
          "color": "rgb(230, 172, 255.0)",
          "size": 10
         },
         "mode": "lines+markers",
         "type": "scatter",
         "x": [
          0,
          0
         ],
         "xaxis": "x",
         "y": [
          0,
          0
         ],
         "yaxis": "y"
        },
        {
         "line": {
          "color": "rgb(230, 172, 255.0)"
         },
         "marker": {
          "color": "rgb(230, 172, 255.0)",
          "size": 10
         },
         "mode": "lines+markers",
         "type": "scatter",
         "x": [
          0,
          0
         ],
         "xaxis": "x",
         "y": [
          0,
          0
         ],
         "yaxis": "y"
        },
        {
         "line": {
          "color": "rgb(230, 172, 255.0)"
         },
         "marker": {
          "color": "rgb(230, 172, 255.0)",
          "size": 10
         },
         "mode": "lines+markers",
         "type": "scatter",
         "x": [
          0,
          0
         ],
         "xaxis": "x",
         "y": [
          0,
          0
         ],
         "yaxis": "y"
        },
        {
         "line": {
          "color": "rgb(230, 172, 255.0)"
         },
         "marker": {
          "color": "rgb(230, 172, 255.0)",
          "size": 10
         },
         "mode": "lines+markers",
         "type": "scatter",
         "x": [
          0,
          0
         ],
         "xaxis": "x",
         "y": [
          0,
          0
         ],
         "yaxis": "y"
        },
        {
         "line": {
          "color": "rgb(230, 172, 255.0)"
         },
         "marker": {
          "color": "rgb(230, 172, 255.0)",
          "size": 10
         },
         "mode": "lines+markers",
         "type": "scatter",
         "x": [
          0,
          0
         ],
         "xaxis": "x",
         "y": [
          0,
          0
         ],
         "yaxis": "y"
        },
        {
         "line": {
          "color": "rgb(230, 172, 255.0)"
         },
         "marker": {
          "color": "rgb(230, 172, 255.0)",
          "size": 10
         },
         "mode": "lines+markers",
         "type": "scatter",
         "x": [
          0,
          0
         ],
         "xaxis": "x",
         "y": [
          0,
          0
         ],
         "yaxis": "y"
        },
        {
         "line": {
          "color": "rgb(230, 172, 255.0)"
         },
         "marker": {
          "color": "rgb(230, 172, 255.0)",
          "size": 10
         },
         "mode": "lines+markers",
         "type": "scatter",
         "x": [
          0,
          0
         ],
         "xaxis": "x",
         "y": [
          0,
          0
         ],
         "yaxis": "y"
        },
        {
         "line": {
          "color": "rgb(230, 172, 255.0)"
         },
         "marker": {
          "color": "rgb(230, 172, 255.0)",
          "size": 10
         },
         "mode": "lines+markers",
         "type": "scatter",
         "x": [
          0,
          0
         ],
         "xaxis": "x",
         "y": [
          0,
          0
         ],
         "yaxis": "y"
        },
        {
         "line": {
          "color": "rgb(230, 172, 255.0)"
         },
         "marker": {
          "color": "rgb(230, 172, 255.0)",
          "size": 10
         },
         "mode": "lines+markers",
         "type": "scatter",
         "x": [
          0,
          0
         ],
         "xaxis": "x",
         "y": [
          0,
          0
         ],
         "yaxis": "y"
        },
        {
         "line": {
          "color": "rgb(230, 172, 255.0)"
         },
         "marker": {
          "color": "rgb(230, 172, 255.0)",
          "size": 10
         },
         "mode": "lines+markers",
         "type": "scatter",
         "x": [
          0,
          0
         ],
         "xaxis": "x",
         "y": [
          0,
          0
         ],
         "yaxis": "y"
        },
        {
         "line": {
          "color": "rgb(230, 172, 255.0)"
         },
         "marker": {
          "color": "rgb(230, 172, 255.0)",
          "size": 10
         },
         "mode": "lines+markers",
         "type": "scatter",
         "x": [
          0,
          0
         ],
         "xaxis": "x",
         "y": [
          0,
          0
         ],
         "yaxis": "y"
        },
        {
         "line": {
          "color": "rgb(230, 172, 255.0)"
         },
         "marker": {
          "color": "rgb(230, 172, 255.0)",
          "size": 10
         },
         "mode": "lines+markers",
         "type": "scatter",
         "x": [
          0,
          0
         ],
         "xaxis": "x",
         "y": [
          0,
          0
         ],
         "yaxis": "y"
        },
        {
         "line": {
          "color": "rgb(230, 172, 255.0)"
         },
         "marker": {
          "color": "rgb(230, 172, 255.0)",
          "size": 10
         },
         "mode": "lines+markers",
         "type": "scatter",
         "x": [
          0,
          0
         ],
         "xaxis": "x",
         "y": [
          0,
          0
         ],
         "yaxis": "y"
        },
        {
         "line": {
          "color": "rgb(230, 172, 255.0)"
         },
         "marker": {
          "color": "rgb(230, 172, 255.0)",
          "size": 10
         },
         "mode": "lines+markers",
         "type": "scatter",
         "x": [
          0,
          0
         ],
         "xaxis": "x",
         "y": [
          0,
          0
         ],
         "yaxis": "y"
        },
        {
         "line": {
          "color": "rgb(230, 172, 255.0)"
         },
         "marker": {
          "color": "rgb(230, 172, 255.0)",
          "size": 10
         },
         "mode": "lines+markers",
         "type": "scatter",
         "x": [
          0,
          0
         ],
         "xaxis": "x",
         "y": [
          0,
          0
         ],
         "yaxis": "y"
        },
        {
         "line": {
          "color": "rgb(230, 172, 255.0)"
         },
         "marker": {
          "color": "rgb(230, 172, 255.0)",
          "size": 10
         },
         "mode": "lines+markers",
         "type": "scatter",
         "x": [
          0,
          0
         ],
         "xaxis": "x",
         "y": [
          0,
          0
         ],
         "yaxis": "y"
        },
        {
         "line": {
          "color": "rgb(230, 172, 255.0)"
         },
         "marker": {
          "color": "rgb(230, 172, 255.0)",
          "size": 10
         },
         "mode": "lines+markers",
         "type": "scatter",
         "x": [
          0,
          0
         ],
         "xaxis": "x",
         "y": [
          0,
          0
         ],
         "yaxis": "y"
        },
        {
         "line": {
          "color": "rgb(230, 172, 255.0)"
         },
         "marker": {
          "color": "rgb(230, 172, 255.0)",
          "size": 10
         },
         "mode": "lines+markers",
         "type": "scatter",
         "x": [
          0,
          0
         ],
         "xaxis": "x",
         "y": [
          0,
          0
         ],
         "yaxis": "y"
        },
        {
         "line": {
          "color": "rgb(230, 172, 255.0)"
         },
         "marker": {
          "color": "rgb(230, 172, 255.0)",
          "size": 10
         },
         "mode": "lines+markers",
         "type": "scatter",
         "x": [
          0,
          0
         ],
         "xaxis": "x",
         "y": [
          0,
          0
         ],
         "yaxis": "y"
        },
        {
         "line": {
          "color": "rgb(230, 172, 255.0)"
         },
         "marker": {
          "color": "rgb(230, 172, 255.0)",
          "size": 10
         },
         "mode": "lines+markers",
         "type": "scatter",
         "x": [
          0,
          0
         ],
         "xaxis": "x",
         "y": [
          0,
          0
         ],
         "yaxis": "y"
        },
        {
         "line": {
          "color": "rgb(230, 172, 255.0)"
         },
         "marker": {
          "color": "rgb(230, 172, 255.0)",
          "size": 10
         },
         "mode": "lines+markers",
         "type": "scatter",
         "x": [
          0,
          0
         ],
         "xaxis": "x",
         "y": [
          0,
          0
         ],
         "yaxis": "y"
        },
        {
         "line": {
          "color": "rgb(230, 172, 255.0)"
         },
         "marker": {
          "color": "rgb(230, 172, 255.0)",
          "size": 10
         },
         "mode": "lines+markers",
         "type": "scatter",
         "x": [
          0,
          0
         ],
         "xaxis": "x",
         "y": [
          0,
          0
         ],
         "yaxis": "y"
        },
        {
         "line": {
          "color": "rgb(230, 172, 255.0)"
         },
         "marker": {
          "color": "rgb(230, 172, 255.0)",
          "size": 10
         },
         "mode": "lines+markers",
         "type": "scatter",
         "x": [
          0,
          0
         ],
         "xaxis": "x",
         "y": [
          0,
          0
         ],
         "yaxis": "y"
        },
        {
         "line": {
          "color": "rgb(230, 172, 255.0)"
         },
         "marker": {
          "color": "rgb(230, 172, 255.0)",
          "size": 10
         },
         "mode": "lines+markers",
         "type": "scatter",
         "x": [
          0,
          0
         ],
         "xaxis": "x",
         "y": [
          0,
          0
         ],
         "yaxis": "y"
        },
        {
         "line": {
          "color": "rgb(230, 172, 255.0)"
         },
         "marker": {
          "color": "rgb(230, 172, 255.0)",
          "size": 10
         },
         "mode": "lines+markers",
         "type": "scatter",
         "x": [
          0,
          0
         ],
         "xaxis": "x",
         "y": [
          0,
          0
         ],
         "yaxis": "y"
        },
        {
         "line": {
          "color": "rgb(230, 172, 255.0)"
         },
         "marker": {
          "color": "rgb(230, 172, 255.0)",
          "size": 10
         },
         "mode": "lines+markers",
         "type": "scatter",
         "x": [
          0,
          0
         ],
         "xaxis": "x",
         "y": [
          0,
          0
         ],
         "yaxis": "y"
        },
        {
         "line": {
          "color": "rgb(230, 172, 255.0)"
         },
         "marker": {
          "color": "rgb(230, 172, 255.0)",
          "size": 10
         },
         "mode": "lines+markers",
         "type": "scatter",
         "x": [
          0,
          0
         ],
         "xaxis": "x",
         "y": [
          0,
          0
         ],
         "yaxis": "y"
        },
        {
         "line": {
          "color": "rgb(230, 172, 255.0)"
         },
         "marker": {
          "color": "rgb(230, 172, 255.0)",
          "size": 10
         },
         "mode": "lines+markers",
         "type": "scatter",
         "x": [
          0,
          0
         ],
         "xaxis": "x",
         "y": [
          0,
          0
         ],
         "yaxis": "y"
        },
        {
         "line": {
          "color": "rgb(230, 172, 255.0)"
         },
         "marker": {
          "color": "rgb(230, 172, 255.0)",
          "size": 10
         },
         "mode": "lines+markers",
         "type": "scatter",
         "x": [
          0,
          0
         ],
         "xaxis": "x",
         "y": [
          0,
          0
         ],
         "yaxis": "y"
        },
        {
         "line": {
          "color": "rgb(230, 172, 255.0)"
         },
         "marker": {
          "color": "rgb(230, 172, 255.0)",
          "size": 10
         },
         "mode": "lines+markers",
         "type": "scatter",
         "x": [
          0,
          0
         ],
         "xaxis": "x",
         "y": [
          0,
          0
         ],
         "yaxis": "y"
        },
        {
         "line": {
          "color": "rgb(230, 172, 255.0)"
         },
         "marker": {
          "color": "rgb(230, 172, 255.0)",
          "size": 10
         },
         "mode": "lines+markers",
         "type": "scatter",
         "x": [
          0,
          0
         ],
         "xaxis": "x",
         "y": [
          0,
          0
         ],
         "yaxis": "y"
        },
        {
         "line": {
          "color": "rgb(230, 172, 255.0)"
         },
         "marker": {
          "color": "rgb(230, 172, 255.0)",
          "size": 10
         },
         "mode": "lines+markers",
         "type": "scatter",
         "x": [
          0,
          0
         ],
         "xaxis": "x",
         "y": [
          0,
          0
         ],
         "yaxis": "y"
        },
        {
         "line": {
          "color": "rgb(230, 172, 255.0)"
         },
         "marker": {
          "color": "rgb(230, 172, 255.0)",
          "size": 10
         },
         "mode": "lines+markers",
         "type": "scatter",
         "x": [
          0,
          0
         ],
         "xaxis": "x",
         "y": [
          0,
          0
         ],
         "yaxis": "y"
        },
        {
         "line": {
          "color": "rgb(230, 172, 255.0)"
         },
         "marker": {
          "color": "rgb(230, 172, 255.0)",
          "size": 10
         },
         "mode": "lines+markers",
         "type": "scatter",
         "x": [
          0,
          0
         ],
         "xaxis": "x",
         "y": [
          0,
          0
         ],
         "yaxis": "y"
        },
        {
         "line": {
          "color": "rgb(230, 172, 255.0)"
         },
         "marker": {
          "color": "rgb(230, 172, 255.0)",
          "size": 10
         },
         "mode": "lines+markers",
         "type": "scatter",
         "x": [
          0,
          0
         ],
         "xaxis": "x",
         "y": [
          0,
          0
         ],
         "yaxis": "y"
        },
        {
         "line": {
          "color": "rgb(230, 172, 255.0)"
         },
         "marker": {
          "color": "rgb(230, 172, 255.0)",
          "size": 10
         },
         "mode": "lines+markers",
         "type": "scatter",
         "x": [
          0,
          0
         ],
         "xaxis": "x",
         "y": [
          0,
          0
         ],
         "yaxis": "y"
        },
        {
         "line": {
          "color": "rgb(230, 172, 255.0)"
         },
         "marker": {
          "color": "rgb(230, 172, 255.0)",
          "size": 10
         },
         "mode": "lines+markers",
         "type": "scatter",
         "x": [
          0,
          0
         ],
         "xaxis": "x",
         "y": [
          0,
          0
         ],
         "yaxis": "y"
        },
        {
         "line": {
          "color": "rgb(230, 172, 255.0)"
         },
         "marker": {
          "color": "rgb(230, 172, 255.0)",
          "size": 10
         },
         "mode": "lines+markers",
         "type": "scatter",
         "x": [
          0,
          0
         ],
         "xaxis": "x",
         "y": [
          0,
          0
         ],
         "yaxis": "y"
        },
        {
         "line": {
          "color": "rgb(230, 172, 255.0)"
         },
         "marker": {
          "color": "rgb(230, 172, 255.0)",
          "size": 10
         },
         "mode": "lines+markers",
         "type": "scatter",
         "x": [
          0,
          0
         ],
         "xaxis": "x",
         "y": [
          0,
          0
         ],
         "yaxis": "y"
        },
        {
         "line": {
          "color": "rgb(230, 172, 255.0)"
         },
         "marker": {
          "color": "rgb(230, 172, 255.0)",
          "size": 10
         },
         "mode": "lines+markers",
         "type": "scatter",
         "x": [
          0,
          0.445028156042099
         ],
         "xaxis": "x",
         "y": [
          0,
          -1.0529156923294067
         ],
         "yaxis": "y"
        },
        {
         "line": {
          "color": "rgb(230, 172, 255.0)"
         },
         "marker": {
          "color": "rgb(230, 172, 255.0)",
          "size": 10
         },
         "mode": "lines+markers",
         "type": "scatter",
         "x": [
          0,
          0
         ],
         "xaxis": "x",
         "y": [
          0,
          0
         ],
         "yaxis": "y"
        },
        {
         "line": {
          "color": "rgb(230, 172, 255.0)"
         },
         "marker": {
          "color": "rgb(230, 172, 255.0)",
          "size": 10
         },
         "mode": "lines+markers",
         "type": "scatter",
         "x": [
          0,
          0
         ],
         "xaxis": "x",
         "y": [
          0,
          0
         ],
         "yaxis": "y"
        },
        {
         "line": {
          "color": "rgb(230, 172, 255.0)"
         },
         "marker": {
          "color": "rgb(230, 172, 255.0)",
          "size": 10
         },
         "mode": "lines+markers",
         "type": "scatter",
         "x": [
          0,
          0
         ],
         "xaxis": "x",
         "y": [
          0,
          0
         ],
         "yaxis": "y"
        },
        {
         "line": {
          "color": "rgb(230, 172, 255.0)"
         },
         "marker": {
          "color": "rgb(230, 172, 255.0)",
          "size": 10
         },
         "mode": "lines+markers",
         "type": "scatter",
         "x": [
          0,
          0
         ],
         "xaxis": "x",
         "y": [
          0,
          0
         ],
         "yaxis": "y"
        },
        {
         "line": {
          "color": "rgb(230, 172, 255.0)"
         },
         "marker": {
          "color": "rgb(230, 172, 255.0)",
          "size": 10
         },
         "mode": "lines+markers",
         "type": "scatter",
         "x": [
          0,
          0
         ],
         "xaxis": "x",
         "y": [
          0,
          0
         ],
         "yaxis": "y"
        },
        {
         "line": {
          "color": "rgb(230, 172, 255.0)"
         },
         "marker": {
          "color": "rgb(230, 172, 255.0)",
          "size": 10
         },
         "mode": "lines+markers",
         "type": "scatter",
         "x": [
          0,
          0
         ],
         "xaxis": "x",
         "y": [
          0,
          0
         ],
         "yaxis": "y"
        },
        {
         "line": {
          "color": "rgb(230, 172, 255.0)"
         },
         "marker": {
          "color": "rgb(230, 172, 255.0)",
          "size": 10
         },
         "mode": "lines+markers",
         "type": "scatter",
         "x": [
          0,
          0
         ],
         "xaxis": "x",
         "y": [
          0,
          0
         ],
         "yaxis": "y"
        },
        {
         "line": {
          "color": "rgb(230, 172, 255.0)"
         },
         "marker": {
          "color": "rgb(230, 172, 255.0)",
          "size": 10
         },
         "mode": "lines+markers",
         "type": "scatter",
         "x": [
          0,
          0
         ],
         "xaxis": "x",
         "y": [
          0,
          0
         ],
         "yaxis": "y"
        },
        {
         "line": {
          "color": "rgb(230, 172, 255.0)"
         },
         "marker": {
          "color": "rgb(230, 172, 255.0)",
          "size": 10
         },
         "mode": "lines+markers",
         "type": "scatter",
         "x": [
          0,
          0
         ],
         "xaxis": "x",
         "y": [
          0,
          0
         ],
         "yaxis": "y"
        },
        {
         "line": {
          "color": "rgb(230, 172, 255.0)"
         },
         "marker": {
          "color": "rgb(230, 172, 255.0)",
          "size": 10
         },
         "mode": "lines+markers",
         "type": "scatter",
         "x": [
          0,
          0
         ],
         "xaxis": "x",
         "y": [
          0,
          0
         ],
         "yaxis": "y"
        },
        {
         "line": {
          "color": "rgb(230, 172, 255.0)"
         },
         "marker": {
          "color": "rgb(230, 172, 255.0)",
          "size": 10
         },
         "mode": "lines+markers",
         "type": "scatter",
         "x": [
          0,
          0
         ],
         "xaxis": "x",
         "y": [
          0,
          0
         ],
         "yaxis": "y"
        },
        {
         "line": {
          "color": "rgb(230, 172, 255.0)"
         },
         "marker": {
          "color": "rgb(230, 172, 255.0)",
          "size": 10
         },
         "mode": "lines+markers",
         "type": "scatter",
         "x": [
          0,
          0
         ],
         "xaxis": "x",
         "y": [
          0,
          0
         ],
         "yaxis": "y"
        },
        {
         "line": {
          "color": "rgb(230, 172, 255.0)"
         },
         "marker": {
          "color": "rgb(230, 172, 255.0)",
          "size": 10
         },
         "mode": "lines+markers",
         "type": "scatter",
         "x": [
          0,
          0
         ],
         "xaxis": "x",
         "y": [
          0,
          0
         ],
         "yaxis": "y"
        },
        {
         "line": {
          "color": "rgb(230, 172, 255.0)"
         },
         "marker": {
          "color": "rgb(230, 172, 255.0)",
          "size": 10
         },
         "mode": "lines+markers",
         "type": "scatter",
         "x": [
          0,
          0
         ],
         "xaxis": "x",
         "y": [
          0,
          0
         ],
         "yaxis": "y"
        },
        {
         "line": {
          "color": "rgb(230, 172, 255.0)"
         },
         "marker": {
          "color": "rgb(230, 172, 255.0)",
          "size": 10
         },
         "mode": "lines+markers",
         "type": "scatter",
         "x": [
          0,
          0
         ],
         "xaxis": "x",
         "y": [
          0,
          0
         ],
         "yaxis": "y"
        },
        {
         "line": {
          "color": "rgb(230, 172, 255.0)"
         },
         "marker": {
          "color": "rgb(230, 172, 255.0)",
          "size": 10
         },
         "mode": "lines+markers",
         "type": "scatter",
         "x": [
          0,
          0
         ],
         "xaxis": "x",
         "y": [
          0,
          0
         ],
         "yaxis": "y"
        },
        {
         "line": {
          "color": "rgb(230, 172, 255.0)"
         },
         "marker": {
          "color": "rgb(230, 172, 255.0)",
          "size": 10
         },
         "mode": "lines+markers",
         "type": "scatter",
         "x": [
          0,
          0
         ],
         "xaxis": "x",
         "y": [
          0,
          0
         ],
         "yaxis": "y"
        },
        {
         "line": {
          "color": "rgb(230, 172, 255.0)"
         },
         "marker": {
          "color": "rgb(230, 172, 255.0)",
          "size": 10
         },
         "mode": "lines+markers",
         "type": "scatter",
         "x": [
          0,
          0
         ],
         "xaxis": "x",
         "y": [
          0,
          0
         ],
         "yaxis": "y"
        },
        {
         "line": {
          "color": "rgb(230, 172, 255.0)"
         },
         "marker": {
          "color": "rgb(230, 172, 255.0)",
          "size": 10
         },
         "mode": "lines+markers",
         "type": "scatter",
         "x": [
          0,
          0
         ],
         "xaxis": "x",
         "y": [
          0,
          0
         ],
         "yaxis": "y"
        },
        {
         "line": {
          "color": "rgb(230, 172, 255.0)"
         },
         "marker": {
          "color": "rgb(230, 172, 255.0)",
          "size": 10
         },
         "mode": "lines+markers",
         "type": "scatter",
         "x": [
          0,
          0
         ],
         "xaxis": "x",
         "y": [
          0,
          0
         ],
         "yaxis": "y"
        },
        {
         "line": {
          "color": "rgb(230, 172, 255.0)"
         },
         "marker": {
          "color": "rgb(230, 172, 255.0)",
          "size": 10
         },
         "mode": "lines+markers",
         "type": "scatter",
         "x": [
          0,
          0
         ],
         "xaxis": "x",
         "y": [
          0,
          0
         ],
         "yaxis": "y"
        },
        {
         "line": {
          "color": "rgb(230, 172, 255.0)"
         },
         "marker": {
          "color": "rgb(230, 172, 255.0)",
          "size": 10
         },
         "mode": "lines+markers",
         "type": "scatter",
         "x": [
          0,
          0
         ],
         "xaxis": "x",
         "y": [
          0,
          0
         ],
         "yaxis": "y"
        },
        {
         "line": {
          "color": "rgb(230, 172, 255.0)"
         },
         "marker": {
          "color": "rgb(230, 172, 255.0)",
          "size": 10
         },
         "mode": "lines+markers",
         "type": "scatter",
         "x": [
          0,
          0
         ],
         "xaxis": "x",
         "y": [
          0,
          0
         ],
         "yaxis": "y"
        },
        {
         "line": {
          "color": "rgb(230, 172, 255.0)"
         },
         "marker": {
          "color": "rgb(230, 172, 255.0)",
          "size": 10
         },
         "mode": "lines+markers",
         "type": "scatter",
         "x": [
          0,
          0
         ],
         "xaxis": "x",
         "y": [
          0,
          0
         ],
         "yaxis": "y"
        },
        {
         "line": {
          "color": "rgb(230, 172, 255.0)"
         },
         "marker": {
          "color": "rgb(230, 172, 255.0)",
          "size": 10
         },
         "mode": "lines+markers",
         "type": "scatter",
         "x": [
          0,
          0
         ],
         "xaxis": "x",
         "y": [
          0,
          0
         ],
         "yaxis": "y"
        },
        {
         "line": {
          "color": "rgb(230, 172, 255.0)"
         },
         "marker": {
          "color": "rgb(230, 172, 255.0)",
          "size": 10
         },
         "mode": "lines+markers",
         "type": "scatter",
         "x": [
          0,
          0
         ],
         "xaxis": "x",
         "y": [
          0,
          0
         ],
         "yaxis": "y"
        },
        {
         "line": {
          "color": "rgb(230, 172, 255.0)"
         },
         "marker": {
          "color": "rgb(230, 172, 255.0)",
          "size": 10
         },
         "mode": "lines+markers",
         "type": "scatter",
         "x": [
          0,
          0
         ],
         "xaxis": "x",
         "y": [
          0,
          0
         ],
         "yaxis": "y"
        },
        {
         "line": {
          "color": "rgb(230, 172, 255.0)"
         },
         "marker": {
          "color": "rgb(230, 172, 255.0)",
          "size": 10
         },
         "mode": "lines+markers",
         "type": "scatter",
         "x": [
          0,
          0
         ],
         "xaxis": "x",
         "y": [
          0,
          0
         ],
         "yaxis": "y"
        },
        {
         "line": {
          "color": "rgb(230, 172, 255.0)"
         },
         "marker": {
          "color": "rgb(230, 172, 255.0)",
          "size": 10
         },
         "mode": "lines+markers",
         "type": "scatter",
         "x": [
          0,
          0
         ],
         "xaxis": "x",
         "y": [
          0,
          0
         ],
         "yaxis": "y"
        },
        {
         "line": {
          "color": "rgb(230, 172, 255.0)"
         },
         "marker": {
          "color": "rgb(230, 172, 255.0)",
          "size": 10
         },
         "mode": "lines+markers",
         "type": "scatter",
         "x": [
          0,
          0
         ],
         "xaxis": "x",
         "y": [
          0,
          0
         ],
         "yaxis": "y"
        },
        {
         "line": {
          "color": "rgb(230, 172, 255.0)"
         },
         "marker": {
          "color": "rgb(230, 172, 255.0)",
          "size": 10
         },
         "mode": "lines+markers",
         "type": "scatter",
         "x": [
          0,
          0
         ],
         "xaxis": "x",
         "y": [
          0,
          0
         ],
         "yaxis": "y"
        },
        {
         "line": {
          "color": "rgb(230, 172, 255.0)"
         },
         "marker": {
          "color": "rgb(230, 172, 255.0)",
          "size": 10
         },
         "mode": "lines+markers",
         "type": "scatter",
         "x": [
          0,
          0
         ],
         "xaxis": "x",
         "y": [
          0,
          0
         ],
         "yaxis": "y"
        },
        {
         "line": {
          "color": "rgb(230, 172, 255.0)"
         },
         "marker": {
          "color": "rgb(230, 172, 255.0)",
          "size": 10
         },
         "mode": "lines+markers",
         "type": "scatter",
         "x": [
          0,
          0
         ],
         "xaxis": "x",
         "y": [
          0,
          0
         ],
         "yaxis": "y"
        },
        {
         "line": {
          "color": "rgb(230, 172, 255.0)"
         },
         "marker": {
          "color": "rgb(230, 172, 255.0)",
          "size": 10
         },
         "mode": "lines+markers",
         "type": "scatter",
         "x": [
          0,
          0
         ],
         "xaxis": "x",
         "y": [
          0,
          0
         ],
         "yaxis": "y"
        },
        {
         "line": {
          "color": "rgb(230, 172, 255.0)"
         },
         "marker": {
          "color": "rgb(230, 172, 255.0)",
          "size": 10
         },
         "mode": "lines+markers",
         "type": "scatter",
         "x": [
          0,
          0
         ],
         "xaxis": "x",
         "y": [
          0,
          0
         ],
         "yaxis": "y"
        },
        {
         "line": {
          "color": "rgb(230, 172, 255.0)"
         },
         "marker": {
          "color": "rgb(230, 172, 255.0)",
          "size": 10
         },
         "mode": "lines+markers",
         "type": "scatter",
         "x": [
          0,
          0
         ],
         "xaxis": "x",
         "y": [
          0,
          0
         ],
         "yaxis": "y"
        },
        {
         "line": {
          "color": "rgb(230, 172, 255.0)"
         },
         "marker": {
          "color": "rgb(230, 172, 255.0)",
          "size": 10
         },
         "mode": "lines+markers",
         "type": "scatter",
         "x": [
          0,
          -0.8760244250297546
         ],
         "xaxis": "x",
         "y": [
          0,
          -0.7474799156188965
         ],
         "yaxis": "y"
        },
        {
         "line": {
          "color": "rgb(230, 172, 255.0)"
         },
         "marker": {
          "color": "rgb(230, 172, 255.0)",
          "size": 10
         },
         "mode": "lines+markers",
         "type": "scatter",
         "x": [
          0,
          0
         ],
         "xaxis": "x",
         "y": [
          0,
          0
         ],
         "yaxis": "y"
        },
        {
         "line": {
          "color": "rgb(230, 172, 255.0)"
         },
         "marker": {
          "color": "rgb(230, 172, 255.0)",
          "size": 10
         },
         "mode": "lines+markers",
         "type": "scatter",
         "x": [
          0,
          0
         ],
         "xaxis": "x",
         "y": [
          0,
          0
         ],
         "yaxis": "y"
        },
        {
         "line": {
          "color": "rgb(230, 172, 255.0)"
         },
         "marker": {
          "color": "rgb(230, 172, 255.0)",
          "size": 10
         },
         "mode": "lines+markers",
         "type": "scatter",
         "x": [
          0,
          0
         ],
         "xaxis": "x",
         "y": [
          0,
          0
         ],
         "yaxis": "y"
        },
        {
         "line": {
          "color": "rgb(230, 172, 255.0)"
         },
         "marker": {
          "color": "rgb(230, 172, 255.0)",
          "size": 10
         },
         "mode": "lines+markers",
         "type": "scatter",
         "x": [
          0,
          0
         ],
         "xaxis": "x",
         "y": [
          0,
          0
         ],
         "yaxis": "y"
        },
        {
         "line": {
          "color": "rgb(230, 172, 255.0)"
         },
         "marker": {
          "color": "rgb(230, 172, 255.0)",
          "size": 10
         },
         "mode": "lines+markers",
         "type": "scatter",
         "x": [
          0,
          0
         ],
         "xaxis": "x",
         "y": [
          0,
          0
         ],
         "yaxis": "y"
        },
        {
         "line": {
          "color": "rgb(230, 172, 255.0)"
         },
         "marker": {
          "color": "rgb(230, 172, 255.0)",
          "size": 10
         },
         "mode": "lines+markers",
         "type": "scatter",
         "x": [
          0,
          0
         ],
         "xaxis": "x",
         "y": [
          0,
          0
         ],
         "yaxis": "y"
        },
        {
         "line": {
          "color": "rgb(230, 172, 255.0)"
         },
         "marker": {
          "color": "rgb(230, 172, 255.0)",
          "size": 10
         },
         "mode": "lines+markers",
         "type": "scatter",
         "x": [
          0,
          0
         ],
         "xaxis": "x",
         "y": [
          0,
          0
         ],
         "yaxis": "y"
        },
        {
         "line": {
          "color": "rgb(230, 172, 255.0)"
         },
         "marker": {
          "color": "rgb(230, 172, 255.0)",
          "size": 10
         },
         "mode": "lines+markers",
         "type": "scatter",
         "x": [
          0,
          0
         ],
         "xaxis": "x",
         "y": [
          0,
          0
         ],
         "yaxis": "y"
        },
        {
         "line": {
          "color": "rgb(230, 172, 255.0)"
         },
         "marker": {
          "color": "rgb(230, 172, 255.0)",
          "size": 10
         },
         "mode": "lines+markers",
         "type": "scatter",
         "x": [
          0,
          0
         ],
         "xaxis": "x",
         "y": [
          0,
          0
         ],
         "yaxis": "y"
        },
        {
         "line": {
          "color": "rgb(230, 172, 255.0)"
         },
         "marker": {
          "color": "rgb(230, 172, 255.0)",
          "size": 10
         },
         "mode": "lines+markers",
         "type": "scatter",
         "x": [
          0,
          0
         ],
         "xaxis": "x",
         "y": [
          0,
          0
         ],
         "yaxis": "y"
        },
        {
         "line": {
          "color": "rgb(230, 172, 255.0)"
         },
         "marker": {
          "color": "rgb(230, 172, 255.0)",
          "size": 10
         },
         "mode": "lines+markers",
         "type": "scatter",
         "x": [
          0,
          0
         ],
         "xaxis": "x",
         "y": [
          0,
          0
         ],
         "yaxis": "y"
        },
        {
         "line": {
          "color": "rgb(230, 172, 255.0)"
         },
         "marker": {
          "color": "rgb(230, 172, 255.0)",
          "size": 10
         },
         "mode": "lines+markers",
         "type": "scatter",
         "x": [
          0,
          0
         ],
         "xaxis": "x",
         "y": [
          0,
          0
         ],
         "yaxis": "y"
        },
        {
         "line": {
          "color": "rgb(230, 172, 255.0)"
         },
         "marker": {
          "color": "rgb(230, 172, 255.0)",
          "size": 10
         },
         "mode": "lines+markers",
         "type": "scatter",
         "x": [
          0,
          0
         ],
         "xaxis": "x",
         "y": [
          0,
          0
         ],
         "yaxis": "y"
        },
        {
         "line": {
          "color": "rgb(230, 172, 255.0)"
         },
         "marker": {
          "color": "rgb(230, 172, 255.0)",
          "size": 10
         },
         "mode": "lines+markers",
         "type": "scatter",
         "x": [
          0,
          0
         ],
         "xaxis": "x",
         "y": [
          0,
          0
         ],
         "yaxis": "y"
        },
        {
         "line": {
          "color": "rgb(230, 172, 255.0)"
         },
         "marker": {
          "color": "rgb(230, 172, 255.0)",
          "size": 10
         },
         "mode": "lines+markers",
         "type": "scatter",
         "x": [
          0,
          0
         ],
         "xaxis": "x",
         "y": [
          0,
          0
         ],
         "yaxis": "y"
        },
        {
         "line": {
          "color": "rgb(230, 172, 255.0)"
         },
         "marker": {
          "color": "rgb(230, 172, 255.0)",
          "size": 10
         },
         "mode": "lines+markers",
         "type": "scatter",
         "x": [
          0,
          0
         ],
         "xaxis": "x",
         "y": [
          0,
          0
         ],
         "yaxis": "y"
        },
        {
         "line": {
          "color": "rgb(230, 172, 255.0)"
         },
         "marker": {
          "color": "rgb(230, 172, 255.0)",
          "size": 10
         },
         "mode": "lines+markers",
         "type": "scatter",
         "x": [
          0,
          0
         ],
         "xaxis": "x",
         "y": [
          0,
          0
         ],
         "yaxis": "y"
        },
        {
         "line": {
          "color": "rgb(230, 172, 255.0)"
         },
         "marker": {
          "color": "rgb(230, 172, 255.0)",
          "size": 10
         },
         "mode": "lines+markers",
         "type": "scatter",
         "x": [
          0,
          0
         ],
         "xaxis": "x",
         "y": [
          0,
          0
         ],
         "yaxis": "y"
        },
        {
         "line": {
          "color": "rgb(230, 172, 255.0)"
         },
         "marker": {
          "color": "rgb(230, 172, 255.0)",
          "size": 10
         },
         "mode": "lines+markers",
         "type": "scatter",
         "x": [
          0,
          0
         ],
         "xaxis": "x",
         "y": [
          0,
          0
         ],
         "yaxis": "y"
        },
        {
         "line": {
          "color": "rgb(230, 172, 255.0)"
         },
         "marker": {
          "color": "rgb(230, 172, 255.0)",
          "size": 10
         },
         "mode": "lines+markers",
         "type": "scatter",
         "x": [
          0,
          0
         ],
         "xaxis": "x",
         "y": [
          0,
          0
         ],
         "yaxis": "y"
        },
        {
         "line": {
          "color": "rgb(230, 172, 255.0)"
         },
         "marker": {
          "color": "rgb(230, 172, 255.0)",
          "size": 10
         },
         "mode": "lines+markers",
         "type": "scatter",
         "x": [
          0,
          0
         ],
         "xaxis": "x",
         "y": [
          0,
          0
         ],
         "yaxis": "y"
        },
        {
         "line": {
          "color": "rgb(230, 172, 255.0)"
         },
         "marker": {
          "color": "rgb(230, 172, 255.0)",
          "size": 10
         },
         "mode": "lines+markers",
         "type": "scatter",
         "x": [
          0,
          0
         ],
         "xaxis": "x",
         "y": [
          0,
          0
         ],
         "yaxis": "y"
        },
        {
         "line": {
          "color": "rgb(230, 172, 255.0)"
         },
         "marker": {
          "color": "rgb(230, 172, 255.0)",
          "size": 10
         },
         "mode": "lines+markers",
         "type": "scatter",
         "x": [
          0,
          0
         ],
         "xaxis": "x",
         "y": [
          0,
          0
         ],
         "yaxis": "y"
        },
        {
         "line": {
          "color": "rgb(230, 172, 255.0)"
         },
         "marker": {
          "color": "rgb(230, 172, 255.0)",
          "size": 10
         },
         "mode": "lines+markers",
         "type": "scatter",
         "x": [
          0,
          0
         ],
         "xaxis": "x",
         "y": [
          0,
          0
         ],
         "yaxis": "y"
        },
        {
         "line": {
          "color": "rgb(230, 172, 255.0)"
         },
         "marker": {
          "color": "rgb(230, 172, 255.0)",
          "size": 10
         },
         "mode": "lines+markers",
         "type": "scatter",
         "x": [
          0,
          0
         ],
         "xaxis": "x",
         "y": [
          0,
          0
         ],
         "yaxis": "y"
        },
        {
         "line": {
          "color": "rgb(230, 172, 255.0)"
         },
         "marker": {
          "color": "rgb(230, 172, 255.0)",
          "size": 10
         },
         "mode": "lines+markers",
         "type": "scatter",
         "x": [
          0,
          0
         ],
         "xaxis": "x",
         "y": [
          0,
          0
         ],
         "yaxis": "y"
        },
        {
         "line": {
          "color": "rgb(230, 172, 255.0)"
         },
         "marker": {
          "color": "rgb(230, 172, 255.0)",
          "size": 10
         },
         "mode": "lines+markers",
         "type": "scatter",
         "x": [
          0,
          0
         ],
         "xaxis": "x",
         "y": [
          0,
          0
         ],
         "yaxis": "y"
        },
        {
         "line": {
          "color": "rgb(230, 172, 255.0)"
         },
         "marker": {
          "color": "rgb(230, 172, 255.0)",
          "size": 10
         },
         "mode": "lines+markers",
         "type": "scatter",
         "x": [
          0,
          0
         ],
         "xaxis": "x",
         "y": [
          0,
          0
         ],
         "yaxis": "y"
        },
        {
         "line": {
          "color": "rgb(230, 172, 255.0)"
         },
         "marker": {
          "color": "rgb(230, 172, 255.0)",
          "size": 10
         },
         "mode": "lines+markers",
         "type": "scatter",
         "x": [
          0,
          0
         ],
         "xaxis": "x",
         "y": [
          0,
          0
         ],
         "yaxis": "y"
        },
        {
         "line": {
          "color": "rgb(230, 172, 255.0)"
         },
         "marker": {
          "color": "rgb(230, 172, 255.0)",
          "size": 10
         },
         "mode": "lines+markers",
         "type": "scatter",
         "x": [
          0,
          0
         ],
         "xaxis": "x",
         "y": [
          0,
          0
         ],
         "yaxis": "y"
        },
        {
         "line": {
          "color": "rgb(230, 172, 255.0)"
         },
         "marker": {
          "color": "rgb(230, 172, 255.0)",
          "size": 10
         },
         "mode": "lines+markers",
         "type": "scatter",
         "x": [
          0,
          0
         ],
         "xaxis": "x",
         "y": [
          0,
          0
         ],
         "yaxis": "y"
        },
        {
         "line": {
          "color": "rgb(230, 172, 255.0)"
         },
         "marker": {
          "color": "rgb(230, 172, 255.0)",
          "size": 10
         },
         "mode": "lines+markers",
         "type": "scatter",
         "x": [
          0,
          0
         ],
         "xaxis": "x",
         "y": [
          0,
          0
         ],
         "yaxis": "y"
        },
        {
         "line": {
          "color": "rgb(230, 172, 255.0)"
         },
         "marker": {
          "color": "rgb(230, 172, 255.0)",
          "size": 10
         },
         "mode": "lines+markers",
         "type": "scatter",
         "x": [
          0,
          0
         ],
         "xaxis": "x",
         "y": [
          0,
          0
         ],
         "yaxis": "y"
        },
        {
         "line": {
          "color": "rgb(230, 172, 255.0)"
         },
         "marker": {
          "color": "rgb(230, 172, 255.0)",
          "size": 10
         },
         "mode": "lines+markers",
         "type": "scatter",
         "x": [
          0,
          0
         ],
         "xaxis": "x",
         "y": [
          0,
          0
         ],
         "yaxis": "y"
        },
        {
         "line": {
          "color": "rgb(230, 172, 255.0)"
         },
         "marker": {
          "color": "rgb(230, 172, 255.0)",
          "size": 10
         },
         "mode": "lines+markers",
         "type": "scatter",
         "x": [
          0,
          0
         ],
         "xaxis": "x",
         "y": [
          0,
          0
         ],
         "yaxis": "y"
        },
        {
         "line": {
          "color": "rgb(230, 172, 255.0)"
         },
         "marker": {
          "color": "rgb(230, 172, 255.0)",
          "size": 10
         },
         "mode": "lines+markers",
         "type": "scatter",
         "x": [
          0,
          0
         ],
         "xaxis": "x",
         "y": [
          0,
          0
         ],
         "yaxis": "y"
        },
        {
         "line": {
          "color": "rgb(230, 172, 255.0)"
         },
         "marker": {
          "color": "rgb(230, 172, 255.0)",
          "size": 10
         },
         "mode": "lines+markers",
         "type": "scatter",
         "x": [
          0,
          0
         ],
         "xaxis": "x",
         "y": [
          0,
          0
         ],
         "yaxis": "y"
        },
        {
         "line": {
          "color": "rgb(230, 172, 255.0)"
         },
         "marker": {
          "color": "rgb(230, 172, 255.0)",
          "size": 10
         },
         "mode": "lines+markers",
         "type": "scatter",
         "x": [
          0,
          0
         ],
         "xaxis": "x",
         "y": [
          0,
          0
         ],
         "yaxis": "y"
        },
        {
         "line": {
          "color": "rgb(230, 172, 255.0)"
         },
         "marker": {
          "color": "rgb(230, 172, 255.0)",
          "size": 10
         },
         "mode": "lines+markers",
         "type": "scatter",
         "x": [
          0,
          0
         ],
         "xaxis": "x",
         "y": [
          0,
          0
         ],
         "yaxis": "y"
        },
        {
         "line": {
          "color": "rgb(230, 172, 255.0)"
         },
         "marker": {
          "color": "rgb(230, 172, 255.0)",
          "size": 10
         },
         "mode": "lines+markers",
         "type": "scatter",
         "x": [
          0,
          0
         ],
         "xaxis": "x",
         "y": [
          0,
          0
         ],
         "yaxis": "y"
        },
        {
         "line": {
          "color": "rgb(230, 172, 255.0)"
         },
         "marker": {
          "color": "rgb(230, 172, 255.0)",
          "size": 10
         },
         "mode": "lines+markers",
         "type": "scatter",
         "x": [
          0,
          0
         ],
         "xaxis": "x",
         "y": [
          0,
          0
         ],
         "yaxis": "y"
        },
        {
         "line": {
          "color": "rgb(230, 172, 255.0)"
         },
         "marker": {
          "color": "rgb(230, 172, 255.0)",
          "size": 10
         },
         "mode": "lines+markers",
         "type": "scatter",
         "x": [
          0,
          0
         ],
         "xaxis": "x",
         "y": [
          0,
          0
         ],
         "yaxis": "y"
        },
        {
         "line": {
          "color": "rgb(230, 172, 255.0)"
         },
         "marker": {
          "color": "rgb(230, 172, 255.0)",
          "size": 10
         },
         "mode": "lines+markers",
         "type": "scatter",
         "x": [
          0,
          0
         ],
         "xaxis": "x",
         "y": [
          0,
          0
         ],
         "yaxis": "y"
        },
        {
         "line": {
          "color": "rgb(230, 172, 255.0)"
         },
         "marker": {
          "color": "rgb(230, 172, 255.0)",
          "size": 10
         },
         "mode": "lines+markers",
         "type": "scatter",
         "x": [
          0,
          0
         ],
         "xaxis": "x",
         "y": [
          0,
          0
         ],
         "yaxis": "y"
        },
        {
         "line": {
          "color": "rgb(230, 172, 255.0)"
         },
         "marker": {
          "color": "rgb(230, 172, 255.0)",
          "size": 10
         },
         "mode": "lines+markers",
         "type": "scatter",
         "x": [
          0,
          0
         ],
         "xaxis": "x",
         "y": [
          0,
          0
         ],
         "yaxis": "y"
        },
        {
         "line": {
          "color": "rgb(230, 172, 255.0)"
         },
         "marker": {
          "color": "rgb(230, 172, 255.0)",
          "size": 10
         },
         "mode": "lines+markers",
         "type": "scatter",
         "x": [
          0,
          0
         ],
         "xaxis": "x",
         "y": [
          0,
          0
         ],
         "yaxis": "y"
        },
        {
         "line": {
          "color": "rgb(230, 172, 255.0)"
         },
         "marker": {
          "color": "rgb(230, 172, 255.0)",
          "size": 10
         },
         "mode": "lines+markers",
         "type": "scatter",
         "x": [
          0,
          0
         ],
         "xaxis": "x",
         "y": [
          0,
          0
         ],
         "yaxis": "y"
        },
        {
         "line": {
          "color": "rgb(230, 172, 255.0)"
         },
         "marker": {
          "color": "rgb(230, 172, 255.0)",
          "size": 10
         },
         "mode": "lines+markers",
         "type": "scatter",
         "x": [
          0,
          0
         ],
         "xaxis": "x",
         "y": [
          0,
          0
         ],
         "yaxis": "y"
        },
        {
         "line": {
          "color": "rgb(230, 172, 255.0)"
         },
         "marker": {
          "color": "rgb(230, 172, 255.0)",
          "size": 10
         },
         "mode": "lines+markers",
         "type": "scatter",
         "x": [
          0,
          0
         ],
         "xaxis": "x",
         "y": [
          0,
          0
         ],
         "yaxis": "y"
        },
        {
         "line": {
          "color": "rgb(230, 172, 255.0)"
         },
         "marker": {
          "color": "rgb(230, 172, 255.0)",
          "size": 10
         },
         "mode": "lines+markers",
         "type": "scatter",
         "x": [
          0,
          0
         ],
         "xaxis": "x",
         "y": [
          0,
          0
         ],
         "yaxis": "y"
        },
        {
         "line": {
          "color": "rgb(230, 172, 255.0)"
         },
         "marker": {
          "color": "rgb(230, 172, 255.0)",
          "size": 10
         },
         "mode": "lines+markers",
         "type": "scatter",
         "x": [
          0,
          0
         ],
         "xaxis": "x",
         "y": [
          0,
          0
         ],
         "yaxis": "y"
        },
        {
         "line": {
          "color": "rgb(230, 172, 255.0)"
         },
         "marker": {
          "color": "rgb(230, 172, 255.0)",
          "size": 10
         },
         "mode": "lines+markers",
         "type": "scatter",
         "x": [
          0,
          0
         ],
         "xaxis": "x",
         "y": [
          0,
          0
         ],
         "yaxis": "y"
        },
        {
         "line": {
          "color": "rgb(230, 172, 255.0)"
         },
         "marker": {
          "color": "rgb(230, 172, 255.0)",
          "size": 10
         },
         "mode": "lines+markers",
         "type": "scatter",
         "x": [
          0,
          0
         ],
         "xaxis": "x",
         "y": [
          0,
          0
         ],
         "yaxis": "y"
        },
        {
         "line": {
          "color": "rgb(230, 172, 255.0)"
         },
         "marker": {
          "color": "rgb(230, 172, 255.0)",
          "size": 10
         },
         "mode": "lines+markers",
         "type": "scatter",
         "x": [
          0,
          0
         ],
         "xaxis": "x",
         "y": [
          0,
          0
         ],
         "yaxis": "y"
        },
        {
         "line": {
          "color": "rgb(230, 172, 255.0)"
         },
         "marker": {
          "color": "rgb(230, 172, 255.0)",
          "size": 10
         },
         "mode": "lines+markers",
         "type": "scatter",
         "x": [
          0,
          1.1500757932662964
         ],
         "xaxis": "x",
         "y": [
          0,
          0.10035640746355057
         ],
         "yaxis": "y"
        },
        {
         "line": {
          "color": "rgb(230, 172, 255.0)"
         },
         "marker": {
          "color": "rgb(230, 172, 255.0)",
          "size": 10
         },
         "mode": "lines+markers",
         "type": "scatter",
         "x": [
          0,
          0
         ],
         "xaxis": "x",
         "y": [
          0,
          0
         ],
         "yaxis": "y"
        },
        {
         "line": {
          "color": "rgb(230, 172, 255.0)"
         },
         "marker": {
          "color": "rgb(230, 172, 255.0)",
          "size": 10
         },
         "mode": "lines+markers",
         "type": "scatter",
         "x": [
          0,
          0
         ],
         "xaxis": "x",
         "y": [
          0,
          0
         ],
         "yaxis": "y"
        },
        {
         "line": {
          "color": "rgb(230, 172, 255.0)"
         },
         "marker": {
          "color": "rgb(230, 172, 255.0)",
          "size": 10
         },
         "mode": "lines+markers",
         "type": "scatter",
         "x": [
          0,
          0
         ],
         "xaxis": "x",
         "y": [
          0,
          0
         ],
         "yaxis": "y"
        },
        {
         "line": {
          "color": "rgb(230, 172, 255.0)"
         },
         "marker": {
          "color": "rgb(230, 172, 255.0)",
          "size": 10
         },
         "mode": "lines+markers",
         "type": "scatter",
         "x": [
          0,
          0
         ],
         "xaxis": "x",
         "y": [
          0,
          0
         ],
         "yaxis": "y"
        },
        {
         "line": {
          "color": "rgb(230, 172, 255.0)"
         },
         "marker": {
          "color": "rgb(230, 172, 255.0)",
          "size": 10
         },
         "mode": "lines+markers",
         "type": "scatter",
         "x": [
          0,
          0
         ],
         "xaxis": "x",
         "y": [
          0,
          0
         ],
         "yaxis": "y"
        },
        {
         "line": {
          "color": "rgb(230, 172, 255.0)"
         },
         "marker": {
          "color": "rgb(230, 172, 255.0)",
          "size": 10
         },
         "mode": "lines+markers",
         "type": "scatter",
         "x": [
          0,
          0
         ],
         "xaxis": "x",
         "y": [
          0,
          0
         ],
         "yaxis": "y"
        },
        {
         "line": {
          "color": "rgb(230, 172, 255.0)"
         },
         "marker": {
          "color": "rgb(230, 172, 255.0)",
          "size": 10
         },
         "mode": "lines+markers",
         "type": "scatter",
         "x": [
          0,
          0
         ],
         "xaxis": "x",
         "y": [
          0,
          0
         ],
         "yaxis": "y"
        },
        {
         "line": {
          "color": "rgb(230, 172, 255.0)"
         },
         "marker": {
          "color": "rgb(230, 172, 255.0)",
          "size": 10
         },
         "mode": "lines+markers",
         "type": "scatter",
         "x": [
          0,
          0
         ],
         "xaxis": "x",
         "y": [
          0,
          0
         ],
         "yaxis": "y"
        },
        {
         "line": {
          "color": "rgb(230, 172, 255.0)"
         },
         "marker": {
          "color": "rgb(230, 172, 255.0)",
          "size": 10
         },
         "mode": "lines+markers",
         "type": "scatter",
         "x": [
          0,
          0
         ],
         "xaxis": "x",
         "y": [
          0,
          0
         ],
         "yaxis": "y"
        },
        {
         "line": {
          "color": "rgb(230, 172, 255.0)"
         },
         "marker": {
          "color": "rgb(230, 172, 255.0)",
          "size": 10
         },
         "mode": "lines+markers",
         "type": "scatter",
         "x": [
          0,
          0
         ],
         "xaxis": "x",
         "y": [
          0,
          0
         ],
         "yaxis": "y"
        },
        {
         "line": {
          "color": "rgb(230, 172, 255.0)"
         },
         "marker": {
          "color": "rgb(230, 172, 255.0)",
          "size": 10
         },
         "mode": "lines+markers",
         "type": "scatter",
         "x": [
          0,
          0
         ],
         "xaxis": "x",
         "y": [
          0,
          0
         ],
         "yaxis": "y"
        },
        {
         "line": {
          "color": "rgb(230, 172, 255.0)"
         },
         "marker": {
          "color": "rgb(230, 172, 255.0)",
          "size": 10
         },
         "mode": "lines+markers",
         "type": "scatter",
         "x": [
          0,
          0
         ],
         "xaxis": "x",
         "y": [
          0,
          0
         ],
         "yaxis": "y"
        },
        {
         "line": {
          "color": "rgb(230, 172, 255.0)"
         },
         "marker": {
          "color": "rgb(230, 172, 255.0)",
          "size": 10
         },
         "mode": "lines+markers",
         "type": "scatter",
         "x": [
          0,
          0
         ],
         "xaxis": "x",
         "y": [
          0,
          0
         ],
         "yaxis": "y"
        },
        {
         "line": {
          "color": "rgb(230, 172, 255.0)"
         },
         "marker": {
          "color": "rgb(230, 172, 255.0)",
          "size": 10
         },
         "mode": "lines+markers",
         "type": "scatter",
         "x": [
          0,
          0
         ],
         "xaxis": "x",
         "y": [
          0,
          0
         ],
         "yaxis": "y"
        },
        {
         "line": {
          "color": "rgb(230, 172, 255.0)"
         },
         "marker": {
          "color": "rgb(230, 172, 255.0)",
          "size": 10
         },
         "mode": "lines+markers",
         "type": "scatter",
         "x": [
          0,
          0
         ],
         "xaxis": "x",
         "y": [
          0,
          0
         ],
         "yaxis": "y"
        },
        {
         "line": {
          "color": "rgb(230, 172, 255.0)"
         },
         "marker": {
          "color": "rgb(230, 172, 255.0)",
          "size": 10
         },
         "mode": "lines+markers",
         "type": "scatter",
         "x": [
          0,
          0
         ],
         "xaxis": "x",
         "y": [
          0,
          0
         ],
         "yaxis": "y"
        },
        {
         "line": {
          "color": "rgb(230, 172, 255.0)"
         },
         "marker": {
          "color": "rgb(230, 172, 255.0)",
          "size": 10
         },
         "mode": "lines+markers",
         "type": "scatter",
         "x": [
          0,
          0
         ],
         "xaxis": "x",
         "y": [
          0,
          0
         ],
         "yaxis": "y"
        },
        {
         "line": {
          "color": "rgb(230, 172, 255.0)"
         },
         "marker": {
          "color": "rgb(230, 172, 255.0)",
          "size": 10
         },
         "mode": "lines+markers",
         "type": "scatter",
         "x": [
          0,
          0
         ],
         "xaxis": "x",
         "y": [
          0,
          0
         ],
         "yaxis": "y"
        },
        {
         "line": {
          "color": "rgb(230, 172, 255.0)"
         },
         "marker": {
          "color": "rgb(230, 172, 255.0)",
          "size": 10
         },
         "mode": "lines+markers",
         "type": "scatter",
         "x": [
          0,
          0
         ],
         "xaxis": "x",
         "y": [
          0,
          0
         ],
         "yaxis": "y"
        },
        {
         "line": {
          "color": "rgb(230, 172, 255.0)"
         },
         "marker": {
          "color": "rgb(230, 172, 255.0)",
          "size": 10
         },
         "mode": "lines+markers",
         "type": "scatter",
         "x": [
          0,
          0
         ],
         "xaxis": "x",
         "y": [
          0,
          0
         ],
         "yaxis": "y"
        },
        {
         "line": {
          "color": "rgb(230, 172, 255.0)"
         },
         "marker": {
          "color": "rgb(230, 172, 255.0)",
          "size": 10
         },
         "mode": "lines+markers",
         "type": "scatter",
         "x": [
          0,
          0
         ],
         "xaxis": "x",
         "y": [
          0,
          0
         ],
         "yaxis": "y"
        },
        {
         "line": {
          "color": "rgb(230, 172, 255.0)"
         },
         "marker": {
          "color": "rgb(230, 172, 255.0)",
          "size": 10
         },
         "mode": "lines+markers",
         "type": "scatter",
         "x": [
          0,
          0
         ],
         "xaxis": "x",
         "y": [
          0,
          0
         ],
         "yaxis": "y"
        },
        {
         "line": {
          "color": "rgb(230, 172, 255.0)"
         },
         "marker": {
          "color": "rgb(230, 172, 255.0)",
          "size": 10
         },
         "mode": "lines+markers",
         "type": "scatter",
         "x": [
          0,
          0
         ],
         "xaxis": "x",
         "y": [
          0,
          0
         ],
         "yaxis": "y"
        },
        {
         "line": {
          "color": "rgb(230, 172, 255.0)"
         },
         "marker": {
          "color": "rgb(230, 172, 255.0)",
          "size": 10
         },
         "mode": "lines+markers",
         "type": "scatter",
         "x": [
          0,
          0
         ],
         "xaxis": "x",
         "y": [
          0,
          0
         ],
         "yaxis": "y"
        },
        {
         "line": {
          "color": "rgb(230, 172, 255.0)"
         },
         "marker": {
          "color": "rgb(230, 172, 255.0)",
          "size": 10
         },
         "mode": "lines+markers",
         "type": "scatter",
         "x": [
          0,
          0
         ],
         "xaxis": "x",
         "y": [
          0,
          0
         ],
         "yaxis": "y"
        },
        {
         "line": {
          "color": "rgb(230, 172, 255.0)"
         },
         "marker": {
          "color": "rgb(230, 172, 255.0)",
          "size": 10
         },
         "mode": "lines+markers",
         "type": "scatter",
         "x": [
          0,
          0
         ],
         "xaxis": "x",
         "y": [
          0,
          0
         ],
         "yaxis": "y"
        },
        {
         "line": {
          "color": "rgb(230, 172, 255.0)"
         },
         "marker": {
          "color": "rgb(230, 172, 255.0)",
          "size": 10
         },
         "mode": "lines+markers",
         "type": "scatter",
         "x": [
          0,
          0
         ],
         "xaxis": "x",
         "y": [
          0,
          0
         ],
         "yaxis": "y"
        },
        {
         "line": {
          "color": "rgb(230, 172, 255.0)"
         },
         "marker": {
          "color": "rgb(230, 172, 255.0)",
          "size": 10
         },
         "mode": "lines+markers",
         "type": "scatter",
         "x": [
          0,
          0
         ],
         "xaxis": "x",
         "y": [
          0,
          0
         ],
         "yaxis": "y"
        },
        {
         "line": {
          "color": "rgb(230, 172, 255.0)"
         },
         "marker": {
          "color": "rgb(230, 172, 255.0)",
          "size": 10
         },
         "mode": "lines+markers",
         "type": "scatter",
         "x": [
          0,
          0
         ],
         "xaxis": "x",
         "y": [
          0,
          0
         ],
         "yaxis": "y"
        },
        {
         "line": {
          "color": "rgb(230, 172, 255.0)"
         },
         "marker": {
          "color": "rgb(230, 172, 255.0)",
          "size": 10
         },
         "mode": "lines+markers",
         "type": "scatter",
         "x": [
          0,
          0
         ],
         "xaxis": "x",
         "y": [
          0,
          0
         ],
         "yaxis": "y"
        },
        {
         "line": {
          "color": "rgb(230, 172, 255.0)"
         },
         "marker": {
          "color": "rgb(230, 172, 255.0)",
          "size": 10
         },
         "mode": "lines+markers",
         "type": "scatter",
         "x": [
          0,
          0
         ],
         "xaxis": "x",
         "y": [
          0,
          0
         ],
         "yaxis": "y"
        },
        {
         "line": {
          "color": "rgb(230, 172, 255.0)"
         },
         "marker": {
          "color": "rgb(230, 172, 255.0)",
          "size": 10
         },
         "mode": "lines+markers",
         "type": "scatter",
         "x": [
          0,
          0
         ],
         "xaxis": "x",
         "y": [
          0,
          0
         ],
         "yaxis": "y"
        },
        {
         "line": {
          "color": "rgb(230, 172, 255.0)"
         },
         "marker": {
          "color": "rgb(230, 172, 255.0)",
          "size": 10
         },
         "mode": "lines+markers",
         "type": "scatter",
         "x": [
          0,
          0
         ],
         "xaxis": "x",
         "y": [
          0,
          0
         ],
         "yaxis": "y"
        },
        {
         "line": {
          "color": "rgb(230, 172, 255.0)"
         },
         "marker": {
          "color": "rgb(230, 172, 255.0)",
          "size": 10
         },
         "mode": "lines+markers",
         "type": "scatter",
         "x": [
          0,
          0
         ],
         "xaxis": "x",
         "y": [
          0,
          0
         ],
         "yaxis": "y"
        },
        {
         "line": {
          "color": "rgb(230, 172, 255.0)"
         },
         "marker": {
          "color": "rgb(230, 172, 255.0)",
          "size": 10
         },
         "mode": "lines+markers",
         "type": "scatter",
         "x": [
          0,
          0
         ],
         "xaxis": "x",
         "y": [
          0,
          0
         ],
         "yaxis": "y"
        },
        {
         "line": {
          "color": "rgb(230, 172, 255.0)"
         },
         "marker": {
          "color": "rgb(230, 172, 255.0)",
          "size": 10
         },
         "mode": "lines+markers",
         "type": "scatter",
         "x": [
          0,
          0
         ],
         "xaxis": "x",
         "y": [
          0,
          0
         ],
         "yaxis": "y"
        },
        {
         "line": {
          "color": "rgb(230, 172, 255.0)"
         },
         "marker": {
          "color": "rgb(230, 172, 255.0)",
          "size": 10
         },
         "mode": "lines+markers",
         "type": "scatter",
         "x": [
          0,
          0
         ],
         "xaxis": "x",
         "y": [
          0,
          0
         ],
         "yaxis": "y"
        },
        {
         "line": {
          "color": "rgb(230, 172, 255.0)"
         },
         "marker": {
          "color": "rgb(230, 172, 255.0)",
          "size": 10
         },
         "mode": "lines+markers",
         "type": "scatter",
         "x": [
          0,
          0
         ],
         "xaxis": "x",
         "y": [
          0,
          0
         ],
         "yaxis": "y"
        },
        {
         "line": {
          "color": "rgb(230, 172, 255.0)"
         },
         "marker": {
          "color": "rgb(230, 172, 255.0)",
          "size": 10
         },
         "mode": "lines+markers",
         "type": "scatter",
         "x": [
          0,
          0
         ],
         "xaxis": "x",
         "y": [
          0,
          0
         ],
         "yaxis": "y"
        },
        {
         "line": {
          "color": "rgb(230, 172, 255.0)"
         },
         "marker": {
          "color": "rgb(230, 172, 255.0)",
          "size": 10
         },
         "mode": "lines+markers",
         "type": "scatter",
         "x": [
          0,
          0
         ],
         "xaxis": "x",
         "y": [
          0,
          0
         ],
         "yaxis": "y"
        },
        {
         "line": {
          "color": "rgb(230, 172, 255.0)"
         },
         "marker": {
          "color": "rgb(230, 172, 255.0)",
          "size": 10
         },
         "mode": "lines+markers",
         "type": "scatter",
         "x": [
          0,
          0
         ],
         "xaxis": "x",
         "y": [
          0,
          0
         ],
         "yaxis": "y"
        },
        {
         "line": {
          "color": "rgb(230, 172, 255.0)"
         },
         "marker": {
          "color": "rgb(230, 172, 255.0)",
          "size": 10
         },
         "mode": "lines+markers",
         "type": "scatter",
         "x": [
          0,
          0.445028156042099
         ],
         "xaxis": "x",
         "y": [
          0,
          -1.0529156923294067
         ],
         "yaxis": "y"
        },
        {
         "line": {
          "color": "rgb(230, 172, 255.0)"
         },
         "marker": {
          "color": "rgb(230, 172, 255.0)",
          "size": 10
         },
         "mode": "lines+markers",
         "type": "scatter",
         "x": [
          0,
          0
         ],
         "xaxis": "x",
         "y": [
          0,
          0
         ],
         "yaxis": "y"
        },
        {
         "line": {
          "color": "rgb(230, 172, 255.0)"
         },
         "marker": {
          "color": "rgb(230, 172, 255.0)",
          "size": 10
         },
         "mode": "lines+markers",
         "type": "scatter",
         "x": [
          0,
          0
         ],
         "xaxis": "x",
         "y": [
          0,
          0
         ],
         "yaxis": "y"
        },
        {
         "line": {
          "color": "rgb(230, 172, 255.0)"
         },
         "marker": {
          "color": "rgb(230, 172, 255.0)",
          "size": 10
         },
         "mode": "lines+markers",
         "type": "scatter",
         "x": [
          0,
          0
         ],
         "xaxis": "x",
         "y": [
          0,
          0
         ],
         "yaxis": "y"
        },
        {
         "line": {
          "color": "rgb(230, 172, 255.0)"
         },
         "marker": {
          "color": "rgb(230, 172, 255.0)",
          "size": 10
         },
         "mode": "lines+markers",
         "type": "scatter",
         "x": [
          0,
          0
         ],
         "xaxis": "x",
         "y": [
          0,
          0
         ],
         "yaxis": "y"
        },
        {
         "line": {
          "color": "rgb(230, 172, 255.0)"
         },
         "marker": {
          "color": "rgb(230, 172, 255.0)",
          "size": 10
         },
         "mode": "lines+markers",
         "type": "scatter",
         "x": [
          0,
          0
         ],
         "xaxis": "x",
         "y": [
          0,
          0
         ],
         "yaxis": "y"
        },
        {
         "line": {
          "color": "rgb(230, 172, 255.0)"
         },
         "marker": {
          "color": "rgb(230, 172, 255.0)",
          "size": 10
         },
         "mode": "lines+markers",
         "type": "scatter",
         "x": [
          0,
          0
         ],
         "xaxis": "x",
         "y": [
          0,
          0
         ],
         "yaxis": "y"
        },
        {
         "line": {
          "color": "rgb(230, 172, 255.0)"
         },
         "marker": {
          "color": "rgb(230, 172, 255.0)",
          "size": 10
         },
         "mode": "lines+markers",
         "type": "scatter",
         "x": [
          0,
          0
         ],
         "xaxis": "x",
         "y": [
          0,
          0
         ],
         "yaxis": "y"
        },
        {
         "line": {
          "color": "rgb(230, 172, 255.0)"
         },
         "marker": {
          "color": "rgb(230, 172, 255.0)",
          "size": 10
         },
         "mode": "lines+markers",
         "type": "scatter",
         "x": [
          0,
          0
         ],
         "xaxis": "x",
         "y": [
          0,
          0
         ],
         "yaxis": "y"
        },
        {
         "line": {
          "color": "rgb(230, 172, 255.0)"
         },
         "marker": {
          "color": "rgb(230, 172, 255.0)",
          "size": 10
         },
         "mode": "lines+markers",
         "type": "scatter",
         "x": [
          0,
          0
         ],
         "xaxis": "x",
         "y": [
          0,
          0
         ],
         "yaxis": "y"
        },
        {
         "line": {
          "color": "rgb(230, 172, 255.0)"
         },
         "marker": {
          "color": "rgb(230, 172, 255.0)",
          "size": 10
         },
         "mode": "lines+markers",
         "type": "scatter",
         "x": [
          0,
          0
         ],
         "xaxis": "x",
         "y": [
          0,
          0
         ],
         "yaxis": "y"
        },
        {
         "line": {
          "color": "rgb(230, 172, 255.0)"
         },
         "marker": {
          "color": "rgb(230, 172, 255.0)",
          "size": 10
         },
         "mode": "lines+markers",
         "type": "scatter",
         "x": [
          0,
          0
         ],
         "xaxis": "x",
         "y": [
          0,
          0
         ],
         "yaxis": "y"
        },
        {
         "line": {
          "color": "rgb(230, 172, 255.0)"
         },
         "marker": {
          "color": "rgb(230, 172, 255.0)",
          "size": 10
         },
         "mode": "lines+markers",
         "type": "scatter",
         "x": [
          0,
          0
         ],
         "xaxis": "x",
         "y": [
          0,
          0
         ],
         "yaxis": "y"
        },
        {
         "line": {
          "color": "rgb(230, 172, 255.0)"
         },
         "marker": {
          "color": "rgb(230, 172, 255.0)",
          "size": 10
         },
         "mode": "lines+markers",
         "type": "scatter",
         "x": [
          0,
          0
         ],
         "xaxis": "x",
         "y": [
          0,
          0
         ],
         "yaxis": "y"
        },
        {
         "line": {
          "color": "rgb(230, 172, 255.0)"
         },
         "marker": {
          "color": "rgb(230, 172, 255.0)",
          "size": 10
         },
         "mode": "lines+markers",
         "type": "scatter",
         "x": [
          0,
          0
         ],
         "xaxis": "x",
         "y": [
          0,
          0
         ],
         "yaxis": "y"
        },
        {
         "line": {
          "color": "rgb(230, 172, 255.0)"
         },
         "marker": {
          "color": "rgb(230, 172, 255.0)",
          "size": 10
         },
         "mode": "lines+markers",
         "type": "scatter",
         "x": [
          0,
          0
         ],
         "xaxis": "x",
         "y": [
          0,
          0
         ],
         "yaxis": "y"
        },
        {
         "line": {
          "color": "rgb(230, 172, 255.0)"
         },
         "marker": {
          "color": "rgb(230, 172, 255.0)",
          "size": 10
         },
         "mode": "lines+markers",
         "type": "scatter",
         "x": [
          0,
          0
         ],
         "xaxis": "x",
         "y": [
          0,
          0
         ],
         "yaxis": "y"
        },
        {
         "line": {
          "color": "rgb(230, 172, 255.0)"
         },
         "marker": {
          "color": "rgb(230, 172, 255.0)",
          "size": 10
         },
         "mode": "lines+markers",
         "type": "scatter",
         "x": [
          0,
          0
         ],
         "xaxis": "x",
         "y": [
          0,
          0
         ],
         "yaxis": "y"
        },
        {
         "line": {
          "color": "rgb(230, 172, 255.0)"
         },
         "marker": {
          "color": "rgb(230, 172, 255.0)",
          "size": 10
         },
         "mode": "lines+markers",
         "type": "scatter",
         "x": [
          0,
          0
         ],
         "xaxis": "x",
         "y": [
          0,
          0
         ],
         "yaxis": "y"
        },
        {
         "line": {
          "color": "rgb(230, 172, 255.0)"
         },
         "marker": {
          "color": "rgb(230, 172, 255.0)",
          "size": 10
         },
         "mode": "lines+markers",
         "type": "scatter",
         "x": [
          0,
          0
         ],
         "xaxis": "x",
         "y": [
          0,
          0
         ],
         "yaxis": "y"
        },
        {
         "line": {
          "color": "rgb(230, 172, 255.0)"
         },
         "marker": {
          "color": "rgb(230, 172, 255.0)",
          "size": 10
         },
         "mode": "lines+markers",
         "type": "scatter",
         "x": [
          0,
          0
         ],
         "xaxis": "x",
         "y": [
          0,
          0
         ],
         "yaxis": "y"
        },
        {
         "line": {
          "color": "rgb(230, 172, 255.0)"
         },
         "marker": {
          "color": "rgb(230, 172, 255.0)",
          "size": 10
         },
         "mode": "lines+markers",
         "type": "scatter",
         "x": [
          0,
          -0.8760244250297546
         ],
         "xaxis": "x",
         "y": [
          0,
          -0.7474799156188965
         ],
         "yaxis": "y"
        },
        {
         "line": {
          "color": "rgb(230, 172, 255.0)"
         },
         "marker": {
          "color": "rgb(230, 172, 255.0)",
          "size": 10
         },
         "mode": "lines+markers",
         "type": "scatter",
         "x": [
          0,
          0
         ],
         "xaxis": "x",
         "y": [
          0,
          0
         ],
         "yaxis": "y"
        },
        {
         "line": {
          "color": "rgb(230, 172, 255.0)"
         },
         "marker": {
          "color": "rgb(230, 172, 255.0)",
          "size": 10
         },
         "mode": "lines+markers",
         "type": "scatter",
         "x": [
          0,
          0
         ],
         "xaxis": "x",
         "y": [
          0,
          0
         ],
         "yaxis": "y"
        },
        {
         "line": {
          "color": "rgb(230, 172, 255.0)"
         },
         "marker": {
          "color": "rgb(230, 172, 255.0)",
          "size": 10
         },
         "mode": "lines+markers",
         "type": "scatter",
         "x": [
          0,
          0
         ],
         "xaxis": "x",
         "y": [
          0,
          0
         ],
         "yaxis": "y"
        },
        {
         "line": {
          "color": "rgb(230, 172, 255.0)"
         },
         "marker": {
          "color": "rgb(230, 172, 255.0)",
          "size": 10
         },
         "mode": "lines+markers",
         "type": "scatter",
         "x": [
          0,
          0
         ],
         "xaxis": "x",
         "y": [
          0,
          0
         ],
         "yaxis": "y"
        },
        {
         "line": {
          "color": "rgb(230, 172, 255.0)"
         },
         "marker": {
          "color": "rgb(230, 172, 255.0)",
          "size": 10
         },
         "mode": "lines+markers",
         "type": "scatter",
         "x": [
          0,
          0
         ],
         "xaxis": "x",
         "y": [
          0,
          0
         ],
         "yaxis": "y"
        },
        {
         "line": {
          "color": "rgb(230, 172, 255.0)"
         },
         "marker": {
          "color": "rgb(230, 172, 255.0)",
          "size": 10
         },
         "mode": "lines+markers",
         "type": "scatter",
         "x": [
          0,
          0
         ],
         "xaxis": "x",
         "y": [
          0,
          0
         ],
         "yaxis": "y"
        },
        {
         "line": {
          "color": "rgb(230, 172, 255.0)"
         },
         "marker": {
          "color": "rgb(230, 172, 255.0)",
          "size": 10
         },
         "mode": "lines+markers",
         "type": "scatter",
         "x": [
          0,
          0
         ],
         "xaxis": "x",
         "y": [
          0,
          0
         ],
         "yaxis": "y"
        },
        {
         "line": {
          "color": "rgb(230, 172, 255.0)"
         },
         "marker": {
          "color": "rgb(230, 172, 255.0)",
          "size": 10
         },
         "mode": "lines+markers",
         "type": "scatter",
         "x": [
          0,
          0
         ],
         "xaxis": "x",
         "y": [
          0,
          0
         ],
         "yaxis": "y"
        },
        {
         "line": {
          "color": "rgb(230, 172, 255.0)"
         },
         "marker": {
          "color": "rgb(230, 172, 255.0)",
          "size": 10
         },
         "mode": "lines+markers",
         "type": "scatter",
         "x": [
          0,
          0
         ],
         "xaxis": "x",
         "y": [
          0,
          0
         ],
         "yaxis": "y"
        },
        {
         "line": {
          "color": "rgb(230, 172, 255.0)"
         },
         "marker": {
          "color": "rgb(230, 172, 255.0)",
          "size": 10
         },
         "mode": "lines+markers",
         "type": "scatter",
         "x": [
          0,
          0
         ],
         "xaxis": "x",
         "y": [
          0,
          0
         ],
         "yaxis": "y"
        },
        {
         "line": {
          "color": "rgb(230, 172, 255.0)"
         },
         "marker": {
          "color": "rgb(230, 172, 255.0)",
          "size": 10
         },
         "mode": "lines+markers",
         "type": "scatter",
         "x": [
          0,
          0
         ],
         "xaxis": "x",
         "y": [
          0,
          0
         ],
         "yaxis": "y"
        },
        {
         "line": {
          "color": "rgb(230, 172, 255.0)"
         },
         "marker": {
          "color": "rgb(230, 172, 255.0)",
          "size": 10
         },
         "mode": "lines+markers",
         "type": "scatter",
         "x": [
          0,
          0
         ],
         "xaxis": "x",
         "y": [
          0,
          0
         ],
         "yaxis": "y"
        },
        {
         "line": {
          "color": "rgb(230, 172, 255.0)"
         },
         "marker": {
          "color": "rgb(230, 172, 255.0)",
          "size": 10
         },
         "mode": "lines+markers",
         "type": "scatter",
         "x": [
          0,
          0
         ],
         "xaxis": "x",
         "y": [
          0,
          0
         ],
         "yaxis": "y"
        },
        {
         "line": {
          "color": "rgb(230, 172, 255.0)"
         },
         "marker": {
          "color": "rgb(230, 172, 255.0)",
          "size": 10
         },
         "mode": "lines+markers",
         "type": "scatter",
         "x": [
          0,
          0
         ],
         "xaxis": "x",
         "y": [
          0,
          0
         ],
         "yaxis": "y"
        },
        {
         "line": {
          "color": "rgb(230, 172, 255.0)"
         },
         "marker": {
          "color": "rgb(230, 172, 255.0)",
          "size": 10
         },
         "mode": "lines+markers",
         "type": "scatter",
         "x": [
          0,
          0
         ],
         "xaxis": "x",
         "y": [
          0,
          0
         ],
         "yaxis": "y"
        },
        {
         "line": {
          "color": "rgb(230, 172, 255.0)"
         },
         "marker": {
          "color": "rgb(230, 172, 255.0)",
          "size": 10
         },
         "mode": "lines+markers",
         "type": "scatter",
         "x": [
          0,
          0
         ],
         "xaxis": "x",
         "y": [
          0,
          0
         ],
         "yaxis": "y"
        },
        {
         "line": {
          "color": "rgb(230, 172, 255.0)"
         },
         "marker": {
          "color": "rgb(230, 172, 255.0)",
          "size": 10
         },
         "mode": "lines+markers",
         "type": "scatter",
         "x": [
          0,
          0
         ],
         "xaxis": "x",
         "y": [
          0,
          0
         ],
         "yaxis": "y"
        },
        {
         "line": {
          "color": "rgb(230, 172, 255.0)"
         },
         "marker": {
          "color": "rgb(230, 172, 255.0)",
          "size": 10
         },
         "mode": "lines+markers",
         "type": "scatter",
         "x": [
          0,
          0.2662521004676819
         ],
         "xaxis": "x",
         "y": [
          0,
          1.1122533082962036
         ],
         "yaxis": "y"
        },
        {
         "line": {
          "color": "rgb(230, 172, 255.0)"
         },
         "marker": {
          "color": "rgb(230, 172, 255.0)",
          "size": 10
         },
         "mode": "lines+markers",
         "type": "scatter",
         "x": [
          0,
          0
         ],
         "xaxis": "x",
         "y": [
          0,
          0
         ],
         "yaxis": "y"
        },
        {
         "line": {
          "color": "rgb(230, 172, 255.0)"
         },
         "marker": {
          "color": "rgb(230, 172, 255.0)",
          "size": 10
         },
         "mode": "lines+markers",
         "type": "scatter",
         "x": [
          0,
          0
         ],
         "xaxis": "x",
         "y": [
          0,
          0
         ],
         "yaxis": "y"
        },
        {
         "line": {
          "color": "rgb(230, 172, 255.0)"
         },
         "marker": {
          "color": "rgb(230, 172, 255.0)",
          "size": 10
         },
         "mode": "lines+markers",
         "type": "scatter",
         "x": [
          0,
          0
         ],
         "xaxis": "x",
         "y": [
          0,
          0
         ],
         "yaxis": "y"
        },
        {
         "line": {
          "color": "rgb(230, 172, 255.0)"
         },
         "marker": {
          "color": "rgb(230, 172, 255.0)",
          "size": 10
         },
         "mode": "lines+markers",
         "type": "scatter",
         "x": [
          0,
          0
         ],
         "xaxis": "x",
         "y": [
          0,
          0
         ],
         "yaxis": "y"
        },
        {
         "line": {
          "color": "rgb(230, 172, 255.0)"
         },
         "marker": {
          "color": "rgb(230, 172, 255.0)",
          "size": 10
         },
         "mode": "lines+markers",
         "type": "scatter",
         "x": [
          0,
          0
         ],
         "xaxis": "x",
         "y": [
          0,
          0
         ],
         "yaxis": "y"
        },
        {
         "line": {
          "color": "rgb(230, 172, 255.0)"
         },
         "marker": {
          "color": "rgb(230, 172, 255.0)",
          "size": 10
         },
         "mode": "lines+markers",
         "type": "scatter",
         "x": [
          0,
          0
         ],
         "xaxis": "x",
         "y": [
          0,
          0
         ],
         "yaxis": "y"
        },
        {
         "line": {
          "color": "rgb(230, 172, 255.0)"
         },
         "marker": {
          "color": "rgb(230, 172, 255.0)",
          "size": 10
         },
         "mode": "lines+markers",
         "type": "scatter",
         "x": [
          0,
          0
         ],
         "xaxis": "x",
         "y": [
          0,
          0
         ],
         "yaxis": "y"
        },
        {
         "line": {
          "color": "rgb(230, 172, 255.0)"
         },
         "marker": {
          "color": "rgb(230, 172, 255.0)",
          "size": 10
         },
         "mode": "lines+markers",
         "type": "scatter",
         "x": [
          0,
          0
         ],
         "xaxis": "x",
         "y": [
          0,
          0
         ],
         "yaxis": "y"
        },
        {
         "line": {
          "color": "rgb(230, 172, 255.0)"
         },
         "marker": {
          "color": "rgb(230, 172, 255.0)",
          "size": 10
         },
         "mode": "lines+markers",
         "type": "scatter",
         "x": [
          0,
          0
         ],
         "xaxis": "x",
         "y": [
          0,
          0
         ],
         "yaxis": "y"
        },
        {
         "line": {
          "color": "rgb(230, 172, 255.0)"
         },
         "marker": {
          "color": "rgb(230, 172, 255.0)",
          "size": 10
         },
         "mode": "lines+markers",
         "type": "scatter",
         "x": [
          0,
          0
         ],
         "xaxis": "x",
         "y": [
          0,
          0
         ],
         "yaxis": "y"
        },
        {
         "line": {
          "color": "rgb(230, 172, 255.0)"
         },
         "marker": {
          "color": "rgb(230, 172, 255.0)",
          "size": 10
         },
         "mode": "lines+markers",
         "type": "scatter",
         "x": [
          0,
          0
         ],
         "xaxis": "x",
         "y": [
          0,
          0
         ],
         "yaxis": "y"
        },
        {
         "line": {
          "color": "rgb(230, 172, 255.0)"
         },
         "marker": {
          "color": "rgb(230, 172, 255.0)",
          "size": 10
         },
         "mode": "lines+markers",
         "type": "scatter",
         "x": [
          0,
          1.1500757932662964
         ],
         "xaxis": "x",
         "y": [
          0,
          0.10035640746355057
         ],
         "yaxis": "y"
        },
        {
         "line": {
          "color": "rgb(230, 172, 255.0)"
         },
         "marker": {
          "color": "rgb(230, 172, 255.0)",
          "size": 10
         },
         "mode": "lines+markers",
         "type": "scatter",
         "x": [
          0,
          0
         ],
         "xaxis": "x",
         "y": [
          0,
          0
         ],
         "yaxis": "y"
        },
        {
         "line": {
          "color": "rgb(230, 172, 255.0)"
         },
         "marker": {
          "color": "rgb(230, 172, 255.0)",
          "size": 10
         },
         "mode": "lines+markers",
         "type": "scatter",
         "x": [
          0,
          0
         ],
         "xaxis": "x",
         "y": [
          0,
          0
         ],
         "yaxis": "y"
        },
        {
         "line": {
          "color": "rgb(230, 172, 255.0)"
         },
         "marker": {
          "color": "rgb(230, 172, 255.0)",
          "size": 10
         },
         "mode": "lines+markers",
         "type": "scatter",
         "x": [
          0,
          0
         ],
         "xaxis": "x",
         "y": [
          0,
          0
         ],
         "yaxis": "y"
        },
        {
         "line": {
          "color": "rgb(230, 172, 255.0)"
         },
         "marker": {
          "color": "rgb(230, 172, 255.0)",
          "size": 10
         },
         "mode": "lines+markers",
         "type": "scatter",
         "x": [
          0,
          0
         ],
         "xaxis": "x",
         "y": [
          0,
          0
         ],
         "yaxis": "y"
        },
        {
         "line": {
          "color": "rgb(230, 172, 255.0)"
         },
         "marker": {
          "color": "rgb(230, 172, 255.0)",
          "size": 10
         },
         "mode": "lines+markers",
         "type": "scatter",
         "x": [
          0,
          0
         ],
         "xaxis": "x",
         "y": [
          0,
          0
         ],
         "yaxis": "y"
        },
        {
         "line": {
          "color": "rgb(230, 172, 255.0)"
         },
         "marker": {
          "color": "rgb(230, 172, 255.0)",
          "size": 10
         },
         "mode": "lines+markers",
         "type": "scatter",
         "x": [
          0,
          0
         ],
         "xaxis": "x",
         "y": [
          0,
          0
         ],
         "yaxis": "y"
        },
        {
         "line": {
          "color": "rgb(230, 172, 255.0)"
         },
         "marker": {
          "color": "rgb(230, 172, 255.0)",
          "size": 10
         },
         "mode": "lines+markers",
         "type": "scatter",
         "x": [
          0,
          0
         ],
         "xaxis": "x",
         "y": [
          0,
          0
         ],
         "yaxis": "y"
        },
        {
         "line": {
          "color": "rgb(230, 172, 255.0)"
         },
         "marker": {
          "color": "rgb(230, 172, 255.0)",
          "size": 10
         },
         "mode": "lines+markers",
         "type": "scatter",
         "x": [
          0,
          0
         ],
         "xaxis": "x",
         "y": [
          0,
          0
         ],
         "yaxis": "y"
        },
        {
         "line": {
          "color": "rgb(230, 172, 255.0)"
         },
         "marker": {
          "color": "rgb(230, 172, 255.0)",
          "size": 10
         },
         "mode": "lines+markers",
         "type": "scatter",
         "x": [
          0,
          0
         ],
         "xaxis": "x",
         "y": [
          0,
          0
         ],
         "yaxis": "y"
        },
        {
         "line": {
          "color": "rgb(230, 172, 255.0)"
         },
         "marker": {
          "color": "rgb(230, 172, 255.0)",
          "size": 10
         },
         "mode": "lines+markers",
         "type": "scatter",
         "x": [
          0,
          0
         ],
         "xaxis": "x",
         "y": [
          0,
          0
         ],
         "yaxis": "y"
        },
        {
         "line": {
          "color": "rgb(230, 172, 255.0)"
         },
         "marker": {
          "color": "rgb(230, 172, 255.0)",
          "size": 10
         },
         "mode": "lines+markers",
         "type": "scatter",
         "x": [
          0,
          0
         ],
         "xaxis": "x",
         "y": [
          0,
          0
         ],
         "yaxis": "y"
        },
        {
         "line": {
          "color": "rgb(230, 172, 255.0)"
         },
         "marker": {
          "color": "rgb(230, 172, 255.0)",
          "size": 10
         },
         "mode": "lines+markers",
         "type": "scatter",
         "x": [
          0,
          0
         ],
         "xaxis": "x",
         "y": [
          0,
          0
         ],
         "yaxis": "y"
        },
        {
         "line": {
          "color": "rgb(230, 172, 255.0)"
         },
         "marker": {
          "color": "rgb(230, 172, 255.0)",
          "size": 10
         },
         "mode": "lines+markers",
         "type": "scatter",
         "x": [
          0,
          0
         ],
         "xaxis": "x",
         "y": [
          0,
          0
         ],
         "yaxis": "y"
        },
        {
         "line": {
          "color": "rgb(230, 172, 255.0)"
         },
         "marker": {
          "color": "rgb(230, 172, 255.0)",
          "size": 10
         },
         "mode": "lines+markers",
         "type": "scatter",
         "x": [
          0,
          0
         ],
         "xaxis": "x",
         "y": [
          0,
          0
         ],
         "yaxis": "y"
        },
        {
         "line": {
          "color": "rgb(230, 172, 255.0)"
         },
         "marker": {
          "color": "rgb(230, 172, 255.0)",
          "size": 10
         },
         "mode": "lines+markers",
         "type": "scatter",
         "x": [
          0,
          0
         ],
         "xaxis": "x",
         "y": [
          0,
          0
         ],
         "yaxis": "y"
        },
        {
         "line": {
          "color": "rgb(230, 172, 255.0)"
         },
         "marker": {
          "color": "rgb(230, 172, 255.0)",
          "size": 10
         },
         "mode": "lines+markers",
         "type": "scatter",
         "x": [
          0,
          0
         ],
         "xaxis": "x",
         "y": [
          0,
          0
         ],
         "yaxis": "y"
        },
        {
         "line": {
          "color": "rgb(230, 172, 255.0)"
         },
         "marker": {
          "color": "rgb(230, 172, 255.0)",
          "size": 10
         },
         "mode": "lines+markers",
         "type": "scatter",
         "x": [
          0,
          0
         ],
         "xaxis": "x",
         "y": [
          0,
          0
         ],
         "yaxis": "y"
        },
        {
         "line": {
          "color": "rgb(230, 172, 255.0)"
         },
         "marker": {
          "color": "rgb(230, 172, 255.0)",
          "size": 10
         },
         "mode": "lines+markers",
         "type": "scatter",
         "x": [
          0,
          0
         ],
         "xaxis": "x",
         "y": [
          0,
          0
         ],
         "yaxis": "y"
        },
        {
         "line": {
          "color": "rgb(230, 172, 255.0)"
         },
         "marker": {
          "color": "rgb(230, 172, 255.0)",
          "size": 10
         },
         "mode": "lines+markers",
         "type": "scatter",
         "x": [
          0,
          0
         ],
         "xaxis": "x",
         "y": [
          0,
          0
         ],
         "yaxis": "y"
        },
        {
         "line": {
          "color": "rgb(230, 172, 255.0)"
         },
         "marker": {
          "color": "rgb(230, 172, 255.0)",
          "size": 10
         },
         "mode": "lines+markers",
         "type": "scatter",
         "x": [
          0,
          0
         ],
         "xaxis": "x",
         "y": [
          0,
          0
         ],
         "yaxis": "y"
        },
        {
         "line": {
          "color": "rgb(230, 172, 255.0)"
         },
         "marker": {
          "color": "rgb(230, 172, 255.0)",
          "size": 10
         },
         "mode": "lines+markers",
         "type": "scatter",
         "x": [
          0,
          0
         ],
         "xaxis": "x",
         "y": [
          0,
          0
         ],
         "yaxis": "y"
        },
        {
         "line": {
          "color": "rgb(230, 172, 255.0)"
         },
         "marker": {
          "color": "rgb(230, 172, 255.0)",
          "size": 10
         },
         "mode": "lines+markers",
         "type": "scatter",
         "x": [
          0,
          0
         ],
         "xaxis": "x",
         "y": [
          0,
          0
         ],
         "yaxis": "y"
        },
        {
         "line": {
          "color": "rgb(230, 172, 255.0)"
         },
         "marker": {
          "color": "rgb(230, 172, 255.0)",
          "size": 10
         },
         "mode": "lines+markers",
         "type": "scatter",
         "x": [
          0,
          0
         ],
         "xaxis": "x",
         "y": [
          0,
          0
         ],
         "yaxis": "y"
        },
        {
         "line": {
          "color": "rgb(230, 172, 255.0)"
         },
         "marker": {
          "color": "rgb(230, 172, 255.0)",
          "size": 10
         },
         "mode": "lines+markers",
         "type": "scatter",
         "x": [
          0,
          0
         ],
         "xaxis": "x",
         "y": [
          0,
          0
         ],
         "yaxis": "y"
        },
        {
         "line": {
          "color": "rgb(230, 172, 255.0)"
         },
         "marker": {
          "color": "rgb(230, 172, 255.0)",
          "size": 10
         },
         "mode": "lines+markers",
         "type": "scatter",
         "x": [
          0,
          -0.9741505980491638
         ],
         "xaxis": "x",
         "y": [
          0,
          0.6108540296554565
         ],
         "yaxis": "y"
        },
        {
         "line": {
          "color": "rgb(230, 172, 255.0)"
         },
         "marker": {
          "color": "rgb(230, 172, 255.0)",
          "size": 10
         },
         "mode": "lines+markers",
         "type": "scatter",
         "x": [
          0,
          0
         ],
         "xaxis": "x",
         "y": [
          0,
          0
         ],
         "yaxis": "y"
        },
        {
         "line": {
          "color": "rgb(230, 172, 255.0)"
         },
         "marker": {
          "color": "rgb(230, 172, 255.0)",
          "size": 10
         },
         "mode": "lines+markers",
         "type": "scatter",
         "x": [
          0,
          0
         ],
         "xaxis": "x",
         "y": [
          0,
          0
         ],
         "yaxis": "y"
        },
        {
         "line": {
          "color": "rgb(230, 172, 255.0)"
         },
         "marker": {
          "color": "rgb(230, 172, 255.0)",
          "size": 10
         },
         "mode": "lines+markers",
         "type": "scatter",
         "x": [
          0,
          0
         ],
         "xaxis": "x",
         "y": [
          0,
          0
         ],
         "yaxis": "y"
        },
        {
         "line": {
          "color": "rgb(230, 172, 255.0)"
         },
         "marker": {
          "color": "rgb(230, 172, 255.0)",
          "size": 10
         },
         "mode": "lines+markers",
         "type": "scatter",
         "x": [
          0,
          0
         ],
         "xaxis": "x",
         "y": [
          0,
          0
         ],
         "yaxis": "y"
        },
        {
         "line": {
          "color": "rgb(230, 172, 255.0)"
         },
         "marker": {
          "color": "rgb(230, 172, 255.0)",
          "size": 10
         },
         "mode": "lines+markers",
         "type": "scatter",
         "x": [
          0,
          0
         ],
         "xaxis": "x",
         "y": [
          0,
          0
         ],
         "yaxis": "y"
        },
        {
         "line": {
          "color": "rgb(230, 172, 255.0)"
         },
         "marker": {
          "color": "rgb(230, 172, 255.0)",
          "size": 10
         },
         "mode": "lines+markers",
         "type": "scatter",
         "x": [
          0,
          -0.9741505980491638
         ],
         "xaxis": "x",
         "y": [
          0,
          0.6108540296554565
         ],
         "yaxis": "y"
        },
        {
         "line": {
          "color": "rgb(230, 172, 255.0)"
         },
         "marker": {
          "color": "rgb(230, 172, 255.0)",
          "size": 10
         },
         "mode": "lines+markers",
         "type": "scatter",
         "x": [
          0,
          0
         ],
         "xaxis": "x",
         "y": [
          0,
          0
         ],
         "yaxis": "y"
        },
        {
         "line": {
          "color": "rgb(230, 172, 255.0)"
         },
         "marker": {
          "color": "rgb(230, 172, 255.0)",
          "size": 10
         },
         "mode": "lines+markers",
         "type": "scatter",
         "x": [
          0,
          0
         ],
         "xaxis": "x",
         "y": [
          0,
          0
         ],
         "yaxis": "y"
        },
        {
         "line": {
          "color": "rgb(230, 172, 255.0)"
         },
         "marker": {
          "color": "rgb(230, 172, 255.0)",
          "size": 10
         },
         "mode": "lines+markers",
         "type": "scatter",
         "x": [
          0,
          0
         ],
         "xaxis": "x",
         "y": [
          0,
          0
         ],
         "yaxis": "y"
        },
        {
         "line": {
          "color": "rgb(230, 172, 255.0)"
         },
         "marker": {
          "color": "rgb(230, 172, 255.0)",
          "size": 10
         },
         "mode": "lines+markers",
         "type": "scatter",
         "x": [
          0,
          0
         ],
         "xaxis": "x",
         "y": [
          0,
          0
         ],
         "yaxis": "y"
        },
        {
         "line": {
          "color": "rgb(230, 172, 255.0)"
         },
         "marker": {
          "color": "rgb(230, 172, 255.0)",
          "size": 10
         },
         "mode": "lines+markers",
         "type": "scatter",
         "x": [
          0,
          0
         ],
         "xaxis": "x",
         "y": [
          0,
          0
         ],
         "yaxis": "y"
        },
        {
         "line": {
          "color": "rgb(230, 172, 255.0)"
         },
         "marker": {
          "color": "rgb(230, 172, 255.0)",
          "size": 10
         },
         "mode": "lines+markers",
         "type": "scatter",
         "x": [
          0,
          0
         ],
         "xaxis": "x",
         "y": [
          0,
          0
         ],
         "yaxis": "y"
        },
        {
         "line": {
          "color": "rgb(230, 172, 255.0)"
         },
         "marker": {
          "color": "rgb(230, 172, 255.0)",
          "size": 10
         },
         "mode": "lines+markers",
         "type": "scatter",
         "x": [
          0,
          0
         ],
         "xaxis": "x",
         "y": [
          0,
          0
         ],
         "yaxis": "y"
        },
        {
         "line": {
          "color": "rgb(230, 172, 255.0)"
         },
         "marker": {
          "color": "rgb(230, 172, 255.0)",
          "size": 10
         },
         "mode": "lines+markers",
         "type": "scatter",
         "x": [
          0,
          0
         ],
         "xaxis": "x",
         "y": [
          0,
          0
         ],
         "yaxis": "y"
        },
        {
         "line": {
          "color": "rgb(230, 172, 255.0)"
         },
         "marker": {
          "color": "rgb(230, 172, 255.0)",
          "size": 10
         },
         "mode": "lines+markers",
         "type": "scatter",
         "x": [
          0,
          0
         ],
         "xaxis": "x",
         "y": [
          0,
          0
         ],
         "yaxis": "y"
        },
        {
         "line": {
          "color": "rgb(230, 172, 255.0)"
         },
         "marker": {
          "color": "rgb(230, 172, 255.0)",
          "size": 10
         },
         "mode": "lines+markers",
         "type": "scatter",
         "x": [
          0,
          0
         ],
         "xaxis": "x",
         "y": [
          0,
          0
         ],
         "yaxis": "y"
        },
        {
         "line": {
          "color": "rgb(230, 172, 255.0)"
         },
         "marker": {
          "color": "rgb(230, 172, 255.0)",
          "size": 10
         },
         "mode": "lines+markers",
         "type": "scatter",
         "x": [
          0,
          0
         ],
         "xaxis": "x",
         "y": [
          0,
          0
         ],
         "yaxis": "y"
        },
        {
         "line": {
          "color": "rgb(230, 172, 255.0)"
         },
         "marker": {
          "color": "rgb(230, 172, 255.0)",
          "size": 10
         },
         "mode": "lines+markers",
         "type": "scatter",
         "x": [
          0,
          0
         ],
         "xaxis": "x",
         "y": [
          0,
          0
         ],
         "yaxis": "y"
        },
        {
         "line": {
          "color": "rgb(230, 172, 255.0)"
         },
         "marker": {
          "color": "rgb(230, 172, 255.0)",
          "size": 10
         },
         "mode": "lines+markers",
         "type": "scatter",
         "x": [
          0,
          0
         ],
         "xaxis": "x",
         "y": [
          0,
          0
         ],
         "yaxis": "y"
        },
        {
         "line": {
          "color": "rgb(230, 172, 255.0)"
         },
         "marker": {
          "color": "rgb(230, 172, 255.0)",
          "size": 10
         },
         "mode": "lines+markers",
         "type": "scatter",
         "x": [
          0,
          0
         ],
         "xaxis": "x",
         "y": [
          0,
          0
         ],
         "yaxis": "y"
        },
        {
         "line": {
          "color": "rgb(230, 172, 255.0)"
         },
         "marker": {
          "color": "rgb(230, 172, 255.0)",
          "size": 10
         },
         "mode": "lines+markers",
         "type": "scatter",
         "x": [
          0,
          0
         ],
         "xaxis": "x",
         "y": [
          0,
          0
         ],
         "yaxis": "y"
        },
        {
         "line": {
          "color": "rgb(230, 172, 255.0)"
         },
         "marker": {
          "color": "rgb(230, 172, 255.0)",
          "size": 10
         },
         "mode": "lines+markers",
         "type": "scatter",
         "x": [
          0,
          0
         ],
         "xaxis": "x",
         "y": [
          0,
          0
         ],
         "yaxis": "y"
        },
        {
         "line": {
          "color": "rgb(230, 172, 255.0)"
         },
         "marker": {
          "color": "rgb(230, 172, 255.0)",
          "size": 10
         },
         "mode": "lines+markers",
         "type": "scatter",
         "x": [
          0,
          0
         ],
         "xaxis": "x",
         "y": [
          0,
          0
         ],
         "yaxis": "y"
        },
        {
         "line": {
          "color": "rgb(230, 172, 255.0)"
         },
         "marker": {
          "color": "rgb(230, 172, 255.0)",
          "size": 10
         },
         "mode": "lines+markers",
         "type": "scatter",
         "x": [
          0,
          0
         ],
         "xaxis": "x",
         "y": [
          0,
          0
         ],
         "yaxis": "y"
        },
        {
         "line": {
          "color": "rgb(230, 172, 255.0)"
         },
         "marker": {
          "color": "rgb(230, 172, 255.0)",
          "size": 10
         },
         "mode": "lines+markers",
         "type": "scatter",
         "x": [
          0,
          0
         ],
         "xaxis": "x",
         "y": [
          0,
          0
         ],
         "yaxis": "y"
        },
        {
         "line": {
          "color": "rgb(230, 172, 255.0)"
         },
         "marker": {
          "color": "rgb(230, 172, 255.0)",
          "size": 10
         },
         "mode": "lines+markers",
         "type": "scatter",
         "x": [
          0,
          0
         ],
         "xaxis": "x",
         "y": [
          0,
          0
         ],
         "yaxis": "y"
        },
        {
         "line": {
          "color": "rgb(230, 172, 255.0)"
         },
         "marker": {
          "color": "rgb(230, 172, 255.0)",
          "size": 10
         },
         "mode": "lines+markers",
         "type": "scatter",
         "x": [
          0,
          0
         ],
         "xaxis": "x",
         "y": [
          0,
          0
         ],
         "yaxis": "y"
        },
        {
         "line": {
          "color": "rgb(230, 172, 255.0)"
         },
         "marker": {
          "color": "rgb(230, 172, 255.0)",
          "size": 10
         },
         "mode": "lines+markers",
         "type": "scatter",
         "x": [
          0,
          0
         ],
         "xaxis": "x",
         "y": [
          0,
          0
         ],
         "yaxis": "y"
        },
        {
         "line": {
          "color": "rgb(230, 172, 255.0)"
         },
         "marker": {
          "color": "rgb(230, 172, 255.0)",
          "size": 10
         },
         "mode": "lines+markers",
         "type": "scatter",
         "x": [
          0,
          0
         ],
         "xaxis": "x",
         "y": [
          0,
          0
         ],
         "yaxis": "y"
        },
        {
         "line": {
          "color": "rgb(230, 172, 255.0)"
         },
         "marker": {
          "color": "rgb(230, 172, 255.0)",
          "size": 10
         },
         "mode": "lines+markers",
         "type": "scatter",
         "x": [
          0,
          0
         ],
         "xaxis": "x",
         "y": [
          0,
          0
         ],
         "yaxis": "y"
        },
        {
         "line": {
          "color": "rgb(230, 172, 255.0)"
         },
         "marker": {
          "color": "rgb(230, 172, 255.0)",
          "size": 10
         },
         "mode": "lines+markers",
         "type": "scatter",
         "x": [
          0,
          0
         ],
         "xaxis": "x",
         "y": [
          0,
          0
         ],
         "yaxis": "y"
        },
        {
         "line": {
          "color": "rgb(230, 172, 255.0)"
         },
         "marker": {
          "color": "rgb(230, 172, 255.0)",
          "size": 10
         },
         "mode": "lines+markers",
         "type": "scatter",
         "x": [
          0,
          0
         ],
         "xaxis": "x",
         "y": [
          0,
          0
         ],
         "yaxis": "y"
        },
        {
         "line": {
          "color": "rgb(230, 172, 255.0)"
         },
         "marker": {
          "color": "rgb(230, 172, 255.0)",
          "size": 10
         },
         "mode": "lines+markers",
         "type": "scatter",
         "x": [
          0,
          0
         ],
         "xaxis": "x",
         "y": [
          0,
          0
         ],
         "yaxis": "y"
        },
        {
         "line": {
          "color": "rgb(230, 172, 255.0)"
         },
         "marker": {
          "color": "rgb(230, 172, 255.0)",
          "size": 10
         },
         "mode": "lines+markers",
         "type": "scatter",
         "x": [
          0,
          0
         ],
         "xaxis": "x",
         "y": [
          0,
          0
         ],
         "yaxis": "y"
        },
        {
         "line": {
          "color": "rgb(230, 172, 255.0)"
         },
         "marker": {
          "color": "rgb(230, 172, 255.0)",
          "size": 10
         },
         "mode": "lines+markers",
         "type": "scatter",
         "x": [
          0,
          0
         ],
         "xaxis": "x",
         "y": [
          0,
          0
         ],
         "yaxis": "y"
        },
        {
         "line": {
          "color": "rgb(230, 172, 255.0)"
         },
         "marker": {
          "color": "rgb(230, 172, 255.0)",
          "size": 10
         },
         "mode": "lines+markers",
         "type": "scatter",
         "x": [
          0,
          0
         ],
         "xaxis": "x",
         "y": [
          0,
          0
         ],
         "yaxis": "y"
        },
        {
         "line": {
          "color": "rgb(230, 172, 255.0)"
         },
         "marker": {
          "color": "rgb(230, 172, 255.0)",
          "size": 10
         },
         "mode": "lines+markers",
         "type": "scatter",
         "x": [
          0,
          0
         ],
         "xaxis": "x",
         "y": [
          0,
          0
         ],
         "yaxis": "y"
        },
        {
         "line": {
          "color": "rgb(230, 172, 255.0)"
         },
         "marker": {
          "color": "rgb(230, 172, 255.0)",
          "size": 10
         },
         "mode": "lines+markers",
         "type": "scatter",
         "x": [
          0,
          0
         ],
         "xaxis": "x",
         "y": [
          0,
          0
         ],
         "yaxis": "y"
        },
        {
         "line": {
          "color": "rgb(230, 172, 255.0)"
         },
         "marker": {
          "color": "rgb(230, 172, 255.0)",
          "size": 10
         },
         "mode": "lines+markers",
         "type": "scatter",
         "x": [
          0,
          0
         ],
         "xaxis": "x",
         "y": [
          0,
          0
         ],
         "yaxis": "y"
        },
        {
         "line": {
          "color": "rgb(230, 172, 255.0)"
         },
         "marker": {
          "color": "rgb(230, 172, 255.0)",
          "size": 10
         },
         "mode": "lines+markers",
         "type": "scatter",
         "x": [
          0,
          0
         ],
         "xaxis": "x",
         "y": [
          0,
          0
         ],
         "yaxis": "y"
        },
        {
         "line": {
          "color": "rgb(230, 172, 255.0)"
         },
         "marker": {
          "color": "rgb(230, 172, 255.0)",
          "size": 10
         },
         "mode": "lines+markers",
         "type": "scatter",
         "x": [
          0,
          0
         ],
         "xaxis": "x",
         "y": [
          0,
          0
         ],
         "yaxis": "y"
        },
        {
         "line": {
          "color": "rgb(230, 172, 255.0)"
         },
         "marker": {
          "color": "rgb(230, 172, 255.0)",
          "size": 10
         },
         "mode": "lines+markers",
         "type": "scatter",
         "x": [
          0,
          0
         ],
         "xaxis": "x",
         "y": [
          0,
          0
         ],
         "yaxis": "y"
        },
        {
         "line": {
          "color": "rgb(230, 172, 255.0)"
         },
         "marker": {
          "color": "rgb(230, 172, 255.0)",
          "size": 10
         },
         "mode": "lines+markers",
         "type": "scatter",
         "x": [
          0,
          0
         ],
         "xaxis": "x",
         "y": [
          0,
          0
         ],
         "yaxis": "y"
        },
        {
         "line": {
          "color": "rgb(230, 172, 255.0)"
         },
         "marker": {
          "color": "rgb(230, 172, 255.0)",
          "size": 10
         },
         "mode": "lines+markers",
         "type": "scatter",
         "x": [
          0,
          1.1500757932662964
         ],
         "xaxis": "x",
         "y": [
          0,
          0.10035640746355057
         ],
         "yaxis": "y"
        },
        {
         "line": {
          "color": "rgb(230, 172, 255.0)"
         },
         "marker": {
          "color": "rgb(230, 172, 255.0)",
          "size": 10
         },
         "mode": "lines+markers",
         "type": "scatter",
         "x": [
          0,
          0
         ],
         "xaxis": "x",
         "y": [
          0,
          0
         ],
         "yaxis": "y"
        },
        {
         "line": {
          "color": "rgb(230, 172, 255.0)"
         },
         "marker": {
          "color": "rgb(230, 172, 255.0)",
          "size": 10
         },
         "mode": "lines+markers",
         "type": "scatter",
         "x": [
          0,
          0
         ],
         "xaxis": "x",
         "y": [
          0,
          0
         ],
         "yaxis": "y"
        },
        {
         "line": {
          "color": "rgb(230, 172, 255.0)"
         },
         "marker": {
          "color": "rgb(230, 172, 255.0)",
          "size": 10
         },
         "mode": "lines+markers",
         "type": "scatter",
         "x": [
          0,
          0
         ],
         "xaxis": "x",
         "y": [
          0,
          0
         ],
         "yaxis": "y"
        },
        {
         "line": {
          "color": "rgb(230, 172, 255.0)"
         },
         "marker": {
          "color": "rgb(230, 172, 255.0)",
          "size": 10
         },
         "mode": "lines+markers",
         "type": "scatter",
         "x": [
          0,
          -0.8760244250297546
         ],
         "xaxis": "x",
         "y": [
          0,
          -0.7474799156188965
         ],
         "yaxis": "y"
        },
        {
         "line": {
          "color": "rgb(230, 172, 255.0)"
         },
         "marker": {
          "color": "rgb(230, 172, 255.0)",
          "size": 10
         },
         "mode": "lines+markers",
         "type": "scatter",
         "x": [
          0,
          0
         ],
         "xaxis": "x",
         "y": [
          0,
          0
         ],
         "yaxis": "y"
        },
        {
         "line": {
          "color": "rgb(230, 172, 255.0)"
         },
         "marker": {
          "color": "rgb(230, 172, 255.0)",
          "size": 10
         },
         "mode": "lines+markers",
         "type": "scatter",
         "x": [
          0,
          0
         ],
         "xaxis": "x",
         "y": [
          0,
          0
         ],
         "yaxis": "y"
        },
        {
         "line": {
          "color": "rgb(230, 172, 255.0)"
         },
         "marker": {
          "color": "rgb(230, 172, 255.0)",
          "size": 10
         },
         "mode": "lines+markers",
         "type": "scatter",
         "x": [
          0,
          0.2662521004676819
         ],
         "xaxis": "x",
         "y": [
          0,
          1.1122533082962036
         ],
         "yaxis": "y"
        },
        {
         "line": {
          "color": "rgb(230, 172, 255.0)"
         },
         "marker": {
          "color": "rgb(230, 172, 255.0)",
          "size": 10
         },
         "mode": "lines+markers",
         "type": "scatter",
         "x": [
          0,
          0
         ],
         "xaxis": "x",
         "y": [
          0,
          0
         ],
         "yaxis": "y"
        },
        {
         "line": {
          "color": "rgb(230, 172, 255.0)"
         },
         "marker": {
          "color": "rgb(230, 172, 255.0)",
          "size": 10
         },
         "mode": "lines+markers",
         "type": "scatter",
         "x": [
          0,
          0
         ],
         "xaxis": "x",
         "y": [
          0,
          0
         ],
         "yaxis": "y"
        },
        {
         "line": {
          "color": "rgb(230, 172, 255.0)"
         },
         "marker": {
          "color": "rgb(230, 172, 255.0)",
          "size": 10
         },
         "mode": "lines+markers",
         "type": "scatter",
         "x": [
          0,
          0
         ],
         "xaxis": "x",
         "y": [
          0,
          0
         ],
         "yaxis": "y"
        },
        {
         "line": {
          "color": "rgb(230, 172, 255.0)"
         },
         "marker": {
          "color": "rgb(230, 172, 255.0)",
          "size": 10
         },
         "mode": "lines+markers",
         "type": "scatter",
         "x": [
          0,
          0
         ],
         "xaxis": "x",
         "y": [
          0,
          0
         ],
         "yaxis": "y"
        },
        {
         "line": {
          "color": "rgb(230, 172, 255.0)"
         },
         "marker": {
          "color": "rgb(230, 172, 255.0)",
          "size": 10
         },
         "mode": "lines+markers",
         "type": "scatter",
         "x": [
          0,
          0
         ],
         "xaxis": "x",
         "y": [
          0,
          0
         ],
         "yaxis": "y"
        },
        {
         "line": {
          "color": "rgb(230, 172, 255.0)"
         },
         "marker": {
          "color": "rgb(230, 172, 255.0)",
          "size": 10
         },
         "mode": "lines+markers",
         "type": "scatter",
         "x": [
          0,
          1.1500757932662964
         ],
         "xaxis": "x",
         "y": [
          0,
          0.10035640746355057
         ],
         "yaxis": "y"
        },
        {
         "line": {
          "color": "rgb(230, 172, 255.0)"
         },
         "marker": {
          "color": "rgb(230, 172, 255.0)",
          "size": 10
         },
         "mode": "lines+markers",
         "type": "scatter",
         "x": [
          0,
          0
         ],
         "xaxis": "x",
         "y": [
          0,
          0
         ],
         "yaxis": "y"
        },
        {
         "line": {
          "color": "rgb(230, 172, 255.0)"
         },
         "marker": {
          "color": "rgb(230, 172, 255.0)",
          "size": 10
         },
         "mode": "lines+markers",
         "type": "scatter",
         "x": [
          0,
          0
         ],
         "xaxis": "x",
         "y": [
          0,
          0
         ],
         "yaxis": "y"
        },
        {
         "line": {
          "color": "rgb(230, 172, 255.0)"
         },
         "marker": {
          "color": "rgb(230, 172, 255.0)",
          "size": 10
         },
         "mode": "lines+markers",
         "type": "scatter",
         "x": [
          0,
          0
         ],
         "xaxis": "x",
         "y": [
          0,
          0
         ],
         "yaxis": "y"
        },
        {
         "line": {
          "color": "rgb(230, 172, 255.0)"
         },
         "marker": {
          "color": "rgb(230, 172, 255.0)",
          "size": 10
         },
         "mode": "lines+markers",
         "type": "scatter",
         "x": [
          0,
          0
         ],
         "xaxis": "x",
         "y": [
          0,
          0
         ],
         "yaxis": "y"
        },
        {
         "line": {
          "color": "rgb(230, 172, 255.0)"
         },
         "marker": {
          "color": "rgb(230, 172, 255.0)",
          "size": 10
         },
         "mode": "lines+markers",
         "type": "scatter",
         "x": [
          0,
          0
         ],
         "xaxis": "x",
         "y": [
          0,
          0
         ],
         "yaxis": "y"
        },
        {
         "line": {
          "color": "rgb(230, 172, 255.0)"
         },
         "marker": {
          "color": "rgb(230, 172, 255.0)",
          "size": 10
         },
         "mode": "lines+markers",
         "type": "scatter",
         "x": [
          0,
          0
         ],
         "xaxis": "x",
         "y": [
          0,
          0
         ],
         "yaxis": "y"
        },
        {
         "line": {
          "color": "rgb(230, 172, 255.0)"
         },
         "marker": {
          "color": "rgb(230, 172, 255.0)",
          "size": 10
         },
         "mode": "lines+markers",
         "type": "scatter",
         "x": [
          0,
          0
         ],
         "xaxis": "x",
         "y": [
          0,
          0
         ],
         "yaxis": "y"
        },
        {
         "line": {
          "color": "rgb(230, 172, 255.0)"
         },
         "marker": {
          "color": "rgb(230, 172, 255.0)",
          "size": 10
         },
         "mode": "lines+markers",
         "type": "scatter",
         "x": [
          0,
          0
         ],
         "xaxis": "x",
         "y": [
          0,
          0
         ],
         "yaxis": "y"
        },
        {
         "line": {
          "color": "rgb(230, 172, 255.0)"
         },
         "marker": {
          "color": "rgb(230, 172, 255.0)",
          "size": 10
         },
         "mode": "lines+markers",
         "type": "scatter",
         "x": [
          0,
          0
         ],
         "xaxis": "x",
         "y": [
          0,
          0
         ],
         "yaxis": "y"
        },
        {
         "line": {
          "color": "rgb(230, 172, 255.0)"
         },
         "marker": {
          "color": "rgb(230, 172, 255.0)",
          "size": 10
         },
         "mode": "lines+markers",
         "type": "scatter",
         "x": [
          0,
          0
         ],
         "xaxis": "x",
         "y": [
          0,
          0
         ],
         "yaxis": "y"
        },
        {
         "line": {
          "color": "rgb(230, 172, 255.0)"
         },
         "marker": {
          "color": "rgb(230, 172, 255.0)",
          "size": 10
         },
         "mode": "lines+markers",
         "type": "scatter",
         "x": [
          0,
          0
         ],
         "xaxis": "x",
         "y": [
          0,
          0
         ],
         "yaxis": "y"
        },
        {
         "line": {
          "color": "rgb(230, 172, 255.0)"
         },
         "marker": {
          "color": "rgb(230, 172, 255.0)",
          "size": 10
         },
         "mode": "lines+markers",
         "type": "scatter",
         "x": [
          0,
          -0.9741505980491638
         ],
         "xaxis": "x",
         "y": [
          0,
          0.6108540296554565
         ],
         "yaxis": "y"
        },
        {
         "line": {
          "color": "rgb(230, 172, 255.0)"
         },
         "marker": {
          "color": "rgb(230, 172, 255.0)",
          "size": 10
         },
         "mode": "lines+markers",
         "type": "scatter",
         "x": [
          0,
          0
         ],
         "xaxis": "x",
         "y": [
          0,
          0
         ],
         "yaxis": "y"
        },
        {
         "line": {
          "color": "rgb(230, 172, 255.0)"
         },
         "marker": {
          "color": "rgb(230, 172, 255.0)",
          "size": 10
         },
         "mode": "lines+markers",
         "type": "scatter",
         "x": [
          0,
          0
         ],
         "xaxis": "x",
         "y": [
          0,
          0
         ],
         "yaxis": "y"
        },
        {
         "line": {
          "color": "rgb(230, 172, 255.0)"
         },
         "marker": {
          "color": "rgb(230, 172, 255.0)",
          "size": 10
         },
         "mode": "lines+markers",
         "type": "scatter",
         "x": [
          0,
          0
         ],
         "xaxis": "x",
         "y": [
          0,
          0
         ],
         "yaxis": "y"
        },
        {
         "line": {
          "color": "rgb(230, 172, 255.0)"
         },
         "marker": {
          "color": "rgb(230, 172, 255.0)",
          "size": 10
         },
         "mode": "lines+markers",
         "type": "scatter",
         "x": [
          0,
          0
         ],
         "xaxis": "x",
         "y": [
          0,
          0
         ],
         "yaxis": "y"
        },
        {
         "line": {
          "color": "rgb(230, 172, 255.0)"
         },
         "marker": {
          "color": "rgb(230, 172, 255.0)",
          "size": 10
         },
         "mode": "lines+markers",
         "type": "scatter",
         "x": [
          0,
          0
         ],
         "xaxis": "x",
         "y": [
          0,
          0
         ],
         "yaxis": "y"
        },
        {
         "line": {
          "color": "rgb(230, 172, 255.0)"
         },
         "marker": {
          "color": "rgb(230, 172, 255.0)",
          "size": 10
         },
         "mode": "lines+markers",
         "type": "scatter",
         "x": [
          0,
          0
         ],
         "xaxis": "x",
         "y": [
          0,
          0
         ],
         "yaxis": "y"
        },
        {
         "line": {
          "color": "rgb(230, 172, 255.0)"
         },
         "marker": {
          "color": "rgb(230, 172, 255.0)",
          "size": 10
         },
         "mode": "lines+markers",
         "type": "scatter",
         "x": [
          0,
          0
         ],
         "xaxis": "x",
         "y": [
          0,
          0
         ],
         "yaxis": "y"
        },
        {
         "line": {
          "color": "rgb(230, 172, 255.0)"
         },
         "marker": {
          "color": "rgb(230, 172, 255.0)",
          "size": 10
         },
         "mode": "lines+markers",
         "type": "scatter",
         "x": [
          0,
          0
         ],
         "xaxis": "x",
         "y": [
          0,
          0
         ],
         "yaxis": "y"
        },
        {
         "line": {
          "color": "rgb(230, 172, 255.0)"
         },
         "marker": {
          "color": "rgb(230, 172, 255.0)",
          "size": 10
         },
         "mode": "lines+markers",
         "type": "scatter",
         "x": [
          0,
          0
         ],
         "xaxis": "x",
         "y": [
          0,
          0
         ],
         "yaxis": "y"
        },
        {
         "line": {
          "color": "rgb(230, 172, 255.0)"
         },
         "marker": {
          "color": "rgb(230, 172, 255.0)",
          "size": 10
         },
         "mode": "lines+markers",
         "type": "scatter",
         "x": [
          0,
          0
         ],
         "xaxis": "x",
         "y": [
          0,
          0
         ],
         "yaxis": "y"
        },
        {
         "line": {
          "color": "rgb(230, 172, 255.0)"
         },
         "marker": {
          "color": "rgb(230, 172, 255.0)",
          "size": 10
         },
         "mode": "lines+markers",
         "type": "scatter",
         "x": [
          0,
          0
         ],
         "xaxis": "x",
         "y": [
          0,
          0
         ],
         "yaxis": "y"
        },
        {
         "line": {
          "color": "rgb(230, 172, 255.0)"
         },
         "marker": {
          "color": "rgb(230, 172, 255.0)",
          "size": 10
         },
         "mode": "lines+markers",
         "type": "scatter",
         "x": [
          0,
          0
         ],
         "xaxis": "x",
         "y": [
          0,
          0
         ],
         "yaxis": "y"
        },
        {
         "line": {
          "color": "rgb(230, 172, 255.0)"
         },
         "marker": {
          "color": "rgb(230, 172, 255.0)",
          "size": 10
         },
         "mode": "lines+markers",
         "type": "scatter",
         "x": [
          0,
          0
         ],
         "xaxis": "x",
         "y": [
          0,
          0
         ],
         "yaxis": "y"
        },
        {
         "line": {
          "color": "rgb(230, 172, 255.0)"
         },
         "marker": {
          "color": "rgb(230, 172, 255.0)",
          "size": 10
         },
         "mode": "lines+markers",
         "type": "scatter",
         "x": [
          0,
          0
         ],
         "xaxis": "x",
         "y": [
          0,
          0
         ],
         "yaxis": "y"
        },
        {
         "line": {
          "color": "rgb(230, 172, 255.0)"
         },
         "marker": {
          "color": "rgb(230, 172, 255.0)",
          "size": 10
         },
         "mode": "lines+markers",
         "type": "scatter",
         "x": [
          0,
          0
         ],
         "xaxis": "x",
         "y": [
          0,
          0
         ],
         "yaxis": "y"
        },
        {
         "line": {
          "color": "rgb(230, 172, 255.0)"
         },
         "marker": {
          "color": "rgb(230, 172, 255.0)",
          "size": 10
         },
         "mode": "lines+markers",
         "type": "scatter",
         "x": [
          0,
          0
         ],
         "xaxis": "x",
         "y": [
          0,
          0
         ],
         "yaxis": "y"
        },
        {
         "line": {
          "color": "rgb(230, 172, 255.0)"
         },
         "marker": {
          "color": "rgb(230, 172, 255.0)",
          "size": 10
         },
         "mode": "lines+markers",
         "type": "scatter",
         "x": [
          0,
          0
         ],
         "xaxis": "x",
         "y": [
          0,
          0
         ],
         "yaxis": "y"
        },
        {
         "line": {
          "color": "rgb(230, 172, 255.0)"
         },
         "marker": {
          "color": "rgb(230, 172, 255.0)",
          "size": 10
         },
         "mode": "lines+markers",
         "type": "scatter",
         "x": [
          0,
          0
         ],
         "xaxis": "x",
         "y": [
          0,
          0
         ],
         "yaxis": "y"
        },
        {
         "line": {
          "color": "rgb(230, 172, 255.0)"
         },
         "marker": {
          "color": "rgb(230, 172, 255.0)",
          "size": 10
         },
         "mode": "lines+markers",
         "type": "scatter",
         "x": [
          0,
          0
         ],
         "xaxis": "x",
         "y": [
          0,
          0
         ],
         "yaxis": "y"
        },
        {
         "line": {
          "color": "rgb(230, 172, 255.0)"
         },
         "marker": {
          "color": "rgb(230, 172, 255.0)",
          "size": 10
         },
         "mode": "lines+markers",
         "type": "scatter",
         "x": [
          0,
          -0.8760244250297546
         ],
         "xaxis": "x",
         "y": [
          0,
          -0.7474799156188965
         ],
         "yaxis": "y"
        },
        {
         "line": {
          "color": "rgb(230, 172, 255.0)"
         },
         "marker": {
          "color": "rgb(230, 172, 255.0)",
          "size": 10
         },
         "mode": "lines+markers",
         "type": "scatter",
         "x": [
          0,
          0
         ],
         "xaxis": "x",
         "y": [
          0,
          0
         ],
         "yaxis": "y"
        },
        {
         "line": {
          "color": "rgb(230, 172, 255.0)"
         },
         "marker": {
          "color": "rgb(230, 172, 255.0)",
          "size": 10
         },
         "mode": "lines+markers",
         "type": "scatter",
         "x": [
          0,
          -0.8760244250297546
         ],
         "xaxis": "x",
         "y": [
          0,
          -0.7474799156188965
         ],
         "yaxis": "y"
        },
        {
         "line": {
          "color": "rgb(230, 172, 255.0)"
         },
         "marker": {
          "color": "rgb(230, 172, 255.0)",
          "size": 10
         },
         "mode": "lines+markers",
         "type": "scatter",
         "x": [
          0,
          0
         ],
         "xaxis": "x",
         "y": [
          0,
          0
         ],
         "yaxis": "y"
        },
        {
         "line": {
          "color": "rgb(230, 172, 255.0)"
         },
         "marker": {
          "color": "rgb(230, 172, 255.0)",
          "size": 10
         },
         "mode": "lines+markers",
         "type": "scatter",
         "x": [
          0,
          -0.8760244250297546
         ],
         "xaxis": "x",
         "y": [
          0,
          -0.7474799156188965
         ],
         "yaxis": "y"
        },
        {
         "line": {
          "color": "rgb(230, 172, 255.0)"
         },
         "marker": {
          "color": "rgb(230, 172, 255.0)",
          "size": 10
         },
         "mode": "lines+markers",
         "type": "scatter",
         "x": [
          0,
          0
         ],
         "xaxis": "x",
         "y": [
          0,
          0
         ],
         "yaxis": "y"
        },
        {
         "line": {
          "color": "rgb(230, 172, 255.0)"
         },
         "marker": {
          "color": "rgb(230, 172, 255.0)",
          "size": 10
         },
         "mode": "lines+markers",
         "type": "scatter",
         "x": [
          0,
          0
         ],
         "xaxis": "x",
         "y": [
          0,
          0
         ],
         "yaxis": "y"
        },
        {
         "line": {
          "color": "rgb(230, 172, 255.0)"
         },
         "marker": {
          "color": "rgb(230, 172, 255.0)",
          "size": 10
         },
         "mode": "lines+markers",
         "type": "scatter",
         "x": [
          0,
          0
         ],
         "xaxis": "x",
         "y": [
          0,
          0
         ],
         "yaxis": "y"
        },
        {
         "line": {
          "color": "rgb(230, 172, 255.0)"
         },
         "marker": {
          "color": "rgb(230, 172, 255.0)",
          "size": 10
         },
         "mode": "lines+markers",
         "type": "scatter",
         "x": [
          0,
          0
         ],
         "xaxis": "x",
         "y": [
          0,
          0
         ],
         "yaxis": "y"
        },
        {
         "line": {
          "color": "rgb(230, 172, 255.0)"
         },
         "marker": {
          "color": "rgb(230, 172, 255.0)",
          "size": 10
         },
         "mode": "lines+markers",
         "type": "scatter",
         "x": [
          0,
          0
         ],
         "xaxis": "x",
         "y": [
          0,
          0
         ],
         "yaxis": "y"
        },
        {
         "line": {
          "color": "rgb(230, 172, 255.0)"
         },
         "marker": {
          "color": "rgb(230, 172, 255.0)",
          "size": 10
         },
         "mode": "lines+markers",
         "type": "scatter",
         "x": [
          0,
          0
         ],
         "xaxis": "x",
         "y": [
          0,
          0
         ],
         "yaxis": "y"
        },
        {
         "line": {
          "color": "rgb(230, 172, 255.0)"
         },
         "marker": {
          "color": "rgb(230, 172, 255.0)",
          "size": 10
         },
         "mode": "lines+markers",
         "type": "scatter",
         "x": [
          0,
          0
         ],
         "xaxis": "x",
         "y": [
          0,
          0
         ],
         "yaxis": "y"
        },
        {
         "line": {
          "color": "rgb(230, 172, 255.0)"
         },
         "marker": {
          "color": "rgb(230, 172, 255.0)",
          "size": 10
         },
         "mode": "lines+markers",
         "type": "scatter",
         "x": [
          0,
          0
         ],
         "xaxis": "x",
         "y": [
          0,
          0
         ],
         "yaxis": "y"
        },
        {
         "line": {
          "color": "rgb(230, 172, 255.0)"
         },
         "marker": {
          "color": "rgb(230, 172, 255.0)",
          "size": 10
         },
         "mode": "lines+markers",
         "type": "scatter",
         "x": [
          0,
          0
         ],
         "xaxis": "x",
         "y": [
          0,
          0
         ],
         "yaxis": "y"
        },
        {
         "line": {
          "color": "rgb(230, 172, 255.0)"
         },
         "marker": {
          "color": "rgb(230, 172, 255.0)",
          "size": 10
         },
         "mode": "lines+markers",
         "type": "scatter",
         "x": [
          0,
          0
         ],
         "xaxis": "x",
         "y": [
          0,
          0
         ],
         "yaxis": "y"
        },
        {
         "line": {
          "color": "rgb(230, 172, 255.0)"
         },
         "marker": {
          "color": "rgb(230, 172, 255.0)",
          "size": 10
         },
         "mode": "lines+markers",
         "type": "scatter",
         "x": [
          0,
          0
         ],
         "xaxis": "x",
         "y": [
          0,
          0
         ],
         "yaxis": "y"
        },
        {
         "line": {
          "color": "rgb(230, 172, 255.0)"
         },
         "marker": {
          "color": "rgb(230, 172, 255.0)",
          "size": 10
         },
         "mode": "lines+markers",
         "type": "scatter",
         "x": [
          0,
          0
         ],
         "xaxis": "x",
         "y": [
          0,
          0
         ],
         "yaxis": "y"
        },
        {
         "line": {
          "color": "rgb(230, 172, 255.0)"
         },
         "marker": {
          "color": "rgb(230, 172, 255.0)",
          "size": 10
         },
         "mode": "lines+markers",
         "type": "scatter",
         "x": [
          0,
          0
         ],
         "xaxis": "x",
         "y": [
          0,
          0
         ],
         "yaxis": "y"
        },
        {
         "line": {
          "color": "rgb(230, 172, 255.0)"
         },
         "marker": {
          "color": "rgb(230, 172, 255.0)",
          "size": 10
         },
         "mode": "lines+markers",
         "type": "scatter",
         "x": [
          0,
          0
         ],
         "xaxis": "x",
         "y": [
          0,
          0
         ],
         "yaxis": "y"
        },
        {
         "line": {
          "color": "rgb(230, 172, 255.0)"
         },
         "marker": {
          "color": "rgb(230, 172, 255.0)",
          "size": 10
         },
         "mode": "lines+markers",
         "type": "scatter",
         "x": [
          0,
          -0.9741505980491638
         ],
         "xaxis": "x",
         "y": [
          0,
          0.6108540296554565
         ],
         "yaxis": "y"
        },
        {
         "line": {
          "color": "rgb(230, 172, 255.0)"
         },
         "marker": {
          "color": "rgb(230, 172, 255.0)",
          "size": 10
         },
         "mode": "lines+markers",
         "type": "scatter",
         "x": [
          0,
          0
         ],
         "xaxis": "x",
         "y": [
          0,
          0
         ],
         "yaxis": "y"
        },
        {
         "line": {
          "color": "rgb(230, 172, 255.0)"
         },
         "marker": {
          "color": "rgb(230, 172, 255.0)",
          "size": 10
         },
         "mode": "lines+markers",
         "type": "scatter",
         "x": [
          0,
          0
         ],
         "xaxis": "x",
         "y": [
          0,
          0
         ],
         "yaxis": "y"
        },
        {
         "line": {
          "color": "rgb(230, 172, 255.0)"
         },
         "marker": {
          "color": "rgb(230, 172, 255.0)",
          "size": 10
         },
         "mode": "lines+markers",
         "type": "scatter",
         "x": [
          0,
          0
         ],
         "xaxis": "x",
         "y": [
          0,
          0
         ],
         "yaxis": "y"
        },
        {
         "line": {
          "color": "rgb(230, 172, 255.0)"
         },
         "marker": {
          "color": "rgb(230, 172, 255.0)",
          "size": 10
         },
         "mode": "lines+markers",
         "type": "scatter",
         "x": [
          0,
          0
         ],
         "xaxis": "x",
         "y": [
          0,
          0
         ],
         "yaxis": "y"
        },
        {
         "line": {
          "color": "rgb(230, 172, 255.0)"
         },
         "marker": {
          "color": "rgb(230, 172, 255.0)",
          "size": 10
         },
         "mode": "lines+markers",
         "type": "scatter",
         "x": [
          0,
          0
         ],
         "xaxis": "x",
         "y": [
          0,
          0
         ],
         "yaxis": "y"
        },
        {
         "line": {
          "color": "rgb(230, 172, 255.0)"
         },
         "marker": {
          "color": "rgb(230, 172, 255.0)",
          "size": 10
         },
         "mode": "lines+markers",
         "type": "scatter",
         "x": [
          0,
          0
         ],
         "xaxis": "x",
         "y": [
          0,
          0
         ],
         "yaxis": "y"
        },
        {
         "line": {
          "color": "rgb(230, 172, 255.0)"
         },
         "marker": {
          "color": "rgb(230, 172, 255.0)",
          "size": 10
         },
         "mode": "lines+markers",
         "type": "scatter",
         "x": [
          0,
          0
         ],
         "xaxis": "x",
         "y": [
          0,
          0
         ],
         "yaxis": "y"
        },
        {
         "line": {
          "color": "rgb(230, 172, 255.0)"
         },
         "marker": {
          "color": "rgb(230, 172, 255.0)",
          "size": 10
         },
         "mode": "lines+markers",
         "type": "scatter",
         "x": [
          0,
          0
         ],
         "xaxis": "x",
         "y": [
          0,
          0
         ],
         "yaxis": "y"
        },
        {
         "line": {
          "color": "rgb(230, 172, 255.0)"
         },
         "marker": {
          "color": "rgb(230, 172, 255.0)",
          "size": 10
         },
         "mode": "lines+markers",
         "type": "scatter",
         "x": [
          0,
          0
         ],
         "xaxis": "x",
         "y": [
          0,
          0
         ],
         "yaxis": "y"
        },
        {
         "line": {
          "color": "rgb(230, 172, 255.0)"
         },
         "marker": {
          "color": "rgb(230, 172, 255.0)",
          "size": 10
         },
         "mode": "lines+markers",
         "type": "scatter",
         "x": [
          0,
          0
         ],
         "xaxis": "x",
         "y": [
          0,
          0
         ],
         "yaxis": "y"
        },
        {
         "line": {
          "color": "rgb(230, 172, 255.0)"
         },
         "marker": {
          "color": "rgb(230, 172, 255.0)",
          "size": 10
         },
         "mode": "lines+markers",
         "type": "scatter",
         "x": [
          0,
          0
         ],
         "xaxis": "x",
         "y": [
          0,
          0
         ],
         "yaxis": "y"
        },
        {
         "line": {
          "color": "rgb(230, 172, 255.0)"
         },
         "marker": {
          "color": "rgb(230, 172, 255.0)",
          "size": 10
         },
         "mode": "lines+markers",
         "type": "scatter",
         "x": [
          0,
          0
         ],
         "xaxis": "x",
         "y": [
          0,
          0
         ],
         "yaxis": "y"
        },
        {
         "line": {
          "color": "rgb(230, 172, 255.0)"
         },
         "marker": {
          "color": "rgb(230, 172, 255.0)",
          "size": 10
         },
         "mode": "lines+markers",
         "type": "scatter",
         "x": [
          0,
          0
         ],
         "xaxis": "x",
         "y": [
          0,
          0
         ],
         "yaxis": "y"
        },
        {
         "line": {
          "color": "rgb(230, 172, 255.0)"
         },
         "marker": {
          "color": "rgb(230, 172, 255.0)",
          "size": 10
         },
         "mode": "lines+markers",
         "type": "scatter",
         "x": [
          0,
          0
         ],
         "xaxis": "x",
         "y": [
          0,
          0
         ],
         "yaxis": "y"
        },
        {
         "line": {
          "color": "rgb(230, 172, 255.0)"
         },
         "marker": {
          "color": "rgb(230, 172, 255.0)",
          "size": 10
         },
         "mode": "lines+markers",
         "type": "scatter",
         "x": [
          0,
          0
         ],
         "xaxis": "x",
         "y": [
          0,
          0
         ],
         "yaxis": "y"
        },
        {
         "line": {
          "color": "rgb(230, 172, 255.0)"
         },
         "marker": {
          "color": "rgb(230, 172, 255.0)",
          "size": 10
         },
         "mode": "lines+markers",
         "type": "scatter",
         "x": [
          0,
          0
         ],
         "xaxis": "x",
         "y": [
          0,
          0
         ],
         "yaxis": "y"
        },
        {
         "line": {
          "color": "rgb(230, 172, 255.0)"
         },
         "marker": {
          "color": "rgb(230, 172, 255.0)",
          "size": 10
         },
         "mode": "lines+markers",
         "type": "scatter",
         "x": [
          0,
          0
         ],
         "xaxis": "x",
         "y": [
          0,
          0
         ],
         "yaxis": "y"
        },
        {
         "line": {
          "color": "rgb(230, 172, 255.0)"
         },
         "marker": {
          "color": "rgb(230, 172, 255.0)",
          "size": 10
         },
         "mode": "lines+markers",
         "type": "scatter",
         "x": [
          0,
          0
         ],
         "xaxis": "x",
         "y": [
          0,
          0
         ],
         "yaxis": "y"
        },
        {
         "line": {
          "color": "rgb(230, 172, 255.0)"
         },
         "marker": {
          "color": "rgb(230, 172, 255.0)",
          "size": 10
         },
         "mode": "lines+markers",
         "type": "scatter",
         "x": [
          0,
          0
         ],
         "xaxis": "x",
         "y": [
          0,
          0
         ],
         "yaxis": "y"
        },
        {
         "line": {
          "color": "rgb(230, 172, 255.0)"
         },
         "marker": {
          "color": "rgb(230, 172, 255.0)",
          "size": 10
         },
         "mode": "lines+markers",
         "type": "scatter",
         "x": [
          0,
          0
         ],
         "xaxis": "x",
         "y": [
          0,
          0
         ],
         "yaxis": "y"
        },
        {
         "line": {
          "color": "rgb(230, 172, 255.0)"
         },
         "marker": {
          "color": "rgb(230, 172, 255.0)",
          "size": 10
         },
         "mode": "lines+markers",
         "type": "scatter",
         "x": [
          0,
          0
         ],
         "xaxis": "x",
         "y": [
          0,
          0
         ],
         "yaxis": "y"
        },
        {
         "line": {
          "color": "rgb(230, 172, 255.0)"
         },
         "marker": {
          "color": "rgb(230, 172, 255.0)",
          "size": 10
         },
         "mode": "lines+markers",
         "type": "scatter",
         "x": [
          0,
          0
         ],
         "xaxis": "x",
         "y": [
          0,
          0
         ],
         "yaxis": "y"
        },
        {
         "line": {
          "color": "rgb(230, 172, 255.0)"
         },
         "marker": {
          "color": "rgb(230, 172, 255.0)",
          "size": 10
         },
         "mode": "lines+markers",
         "type": "scatter",
         "x": [
          0,
          0
         ],
         "xaxis": "x",
         "y": [
          0,
          0
         ],
         "yaxis": "y"
        },
        {
         "line": {
          "color": "rgb(230, 172, 255.0)"
         },
         "marker": {
          "color": "rgb(230, 172, 255.0)",
          "size": 10
         },
         "mode": "lines+markers",
         "type": "scatter",
         "x": [
          0,
          0
         ],
         "xaxis": "x",
         "y": [
          0,
          0
         ],
         "yaxis": "y"
        },
        {
         "line": {
          "color": "rgb(230, 172, 255.0)"
         },
         "marker": {
          "color": "rgb(230, 172, 255.0)",
          "size": 10
         },
         "mode": "lines+markers",
         "type": "scatter",
         "x": [
          0,
          0
         ],
         "xaxis": "x",
         "y": [
          0,
          0
         ],
         "yaxis": "y"
        },
        {
         "line": {
          "color": "rgb(230, 172, 255.0)"
         },
         "marker": {
          "color": "rgb(230, 172, 255.0)",
          "size": 10
         },
         "mode": "lines+markers",
         "type": "scatter",
         "x": [
          0,
          0
         ],
         "xaxis": "x",
         "y": [
          0,
          0
         ],
         "yaxis": "y"
        },
        {
         "line": {
          "color": "rgb(230, 172, 255.0)"
         },
         "marker": {
          "color": "rgb(230, 172, 255.0)",
          "size": 10
         },
         "mode": "lines+markers",
         "type": "scatter",
         "x": [
          0,
          0
         ],
         "xaxis": "x",
         "y": [
          0,
          0
         ],
         "yaxis": "y"
        },
        {
         "line": {
          "color": "rgb(230, 172, 255.0)"
         },
         "marker": {
          "color": "rgb(230, 172, 255.0)",
          "size": 10
         },
         "mode": "lines+markers",
         "type": "scatter",
         "x": [
          0,
          0
         ],
         "xaxis": "x",
         "y": [
          0,
          0
         ],
         "yaxis": "y"
        },
        {
         "line": {
          "color": "rgb(230, 172, 255.0)"
         },
         "marker": {
          "color": "rgb(230, 172, 255.0)",
          "size": 10
         },
         "mode": "lines+markers",
         "type": "scatter",
         "x": [
          0,
          0
         ],
         "xaxis": "x",
         "y": [
          0,
          0
         ],
         "yaxis": "y"
        },
        {
         "line": {
          "color": "rgb(230, 172, 255.0)"
         },
         "marker": {
          "color": "rgb(230, 172, 255.0)",
          "size": 10
         },
         "mode": "lines+markers",
         "type": "scatter",
         "x": [
          0,
          0
         ],
         "xaxis": "x",
         "y": [
          0,
          0
         ],
         "yaxis": "y"
        },
        {
         "line": {
          "color": "rgb(230, 172, 255.0)"
         },
         "marker": {
          "color": "rgb(230, 172, 255.0)",
          "size": 10
         },
         "mode": "lines+markers",
         "type": "scatter",
         "x": [
          0,
          0
         ],
         "xaxis": "x",
         "y": [
          0,
          0
         ],
         "yaxis": "y"
        },
        {
         "line": {
          "color": "rgb(230, 172, 255.0)"
         },
         "marker": {
          "color": "rgb(230, 172, 255.0)",
          "size": 10
         },
         "mode": "lines+markers",
         "type": "scatter",
         "x": [
          0,
          0
         ],
         "xaxis": "x",
         "y": [
          0,
          0
         ],
         "yaxis": "y"
        },
        {
         "line": {
          "color": "rgb(230, 172, 255.0)"
         },
         "marker": {
          "color": "rgb(230, 172, 255.0)",
          "size": 10
         },
         "mode": "lines+markers",
         "type": "scatter",
         "x": [
          0,
          0
         ],
         "xaxis": "x",
         "y": [
          0,
          0
         ],
         "yaxis": "y"
        },
        {
         "line": {
          "color": "rgb(230, 172, 255.0)"
         },
         "marker": {
          "color": "rgb(230, 172, 255.0)",
          "size": 10
         },
         "mode": "lines+markers",
         "type": "scatter",
         "x": [
          0,
          0
         ],
         "xaxis": "x",
         "y": [
          0,
          0
         ],
         "yaxis": "y"
        },
        {
         "line": {
          "color": "rgb(230, 172, 255.0)"
         },
         "marker": {
          "color": "rgb(230, 172, 255.0)",
          "size": 10
         },
         "mode": "lines+markers",
         "type": "scatter",
         "x": [
          0,
          0
         ],
         "xaxis": "x",
         "y": [
          0,
          0
         ],
         "yaxis": "y"
        },
        {
         "line": {
          "color": "rgb(230, 172, 255.0)"
         },
         "marker": {
          "color": "rgb(230, 172, 255.0)",
          "size": 10
         },
         "mode": "lines+markers",
         "type": "scatter",
         "x": [
          0,
          0
         ],
         "xaxis": "x",
         "y": [
          0,
          0
         ],
         "yaxis": "y"
        },
        {
         "line": {
          "color": "rgb(230, 172, 255.0)"
         },
         "marker": {
          "color": "rgb(230, 172, 255.0)",
          "size": 10
         },
         "mode": "lines+markers",
         "type": "scatter",
         "x": [
          0,
          0
         ],
         "xaxis": "x",
         "y": [
          0,
          0
         ],
         "yaxis": "y"
        },
        {
         "line": {
          "color": "rgb(230, 172, 255.0)"
         },
         "marker": {
          "color": "rgb(230, 172, 255.0)",
          "size": 10
         },
         "mode": "lines+markers",
         "type": "scatter",
         "x": [
          0,
          0
         ],
         "xaxis": "x",
         "y": [
          0,
          0
         ],
         "yaxis": "y"
        },
        {
         "line": {
          "color": "rgb(230, 172, 255.0)"
         },
         "marker": {
          "color": "rgb(230, 172, 255.0)",
          "size": 10
         },
         "mode": "lines+markers",
         "type": "scatter",
         "x": [
          0,
          0
         ],
         "xaxis": "x",
         "y": [
          0,
          0
         ],
         "yaxis": "y"
        },
        {
         "line": {
          "color": "rgb(230, 172, 255.0)"
         },
         "marker": {
          "color": "rgb(230, 172, 255.0)",
          "size": 10
         },
         "mode": "lines+markers",
         "type": "scatter",
         "x": [
          0,
          0
         ],
         "xaxis": "x",
         "y": [
          0,
          0
         ],
         "yaxis": "y"
        },
        {
         "line": {
          "color": "rgb(230, 172, 255.0)"
         },
         "marker": {
          "color": "rgb(230, 172, 255.0)",
          "size": 10
         },
         "mode": "lines+markers",
         "type": "scatter",
         "x": [
          0,
          0
         ],
         "xaxis": "x",
         "y": [
          0,
          0
         ],
         "yaxis": "y"
        },
        {
         "line": {
          "color": "rgb(230, 172, 255.0)"
         },
         "marker": {
          "color": "rgb(230, 172, 255.0)",
          "size": 10
         },
         "mode": "lines+markers",
         "type": "scatter",
         "x": [
          0,
          0
         ],
         "xaxis": "x",
         "y": [
          0,
          0
         ],
         "yaxis": "y"
        },
        {
         "line": {
          "color": "rgb(230, 172, 255.0)"
         },
         "marker": {
          "color": "rgb(230, 172, 255.0)",
          "size": 10
         },
         "mode": "lines+markers",
         "type": "scatter",
         "x": [
          0,
          0
         ],
         "xaxis": "x",
         "y": [
          0,
          0
         ],
         "yaxis": "y"
        },
        {
         "line": {
          "color": "rgb(230, 172, 255.0)"
         },
         "marker": {
          "color": "rgb(230, 172, 255.0)",
          "size": 10
         },
         "mode": "lines+markers",
         "type": "scatter",
         "x": [
          0,
          0
         ],
         "xaxis": "x",
         "y": [
          0,
          0
         ],
         "yaxis": "y"
        },
        {
         "line": {
          "color": "rgb(230, 172, 255.0)"
         },
         "marker": {
          "color": "rgb(230, 172, 255.0)",
          "size": 10
         },
         "mode": "lines+markers",
         "type": "scatter",
         "x": [
          0,
          0
         ],
         "xaxis": "x",
         "y": [
          0,
          0
         ],
         "yaxis": "y"
        },
        {
         "line": {
          "color": "rgb(230, 172, 255.0)"
         },
         "marker": {
          "color": "rgb(230, 172, 255.0)",
          "size": 10
         },
         "mode": "lines+markers",
         "type": "scatter",
         "x": [
          0,
          0
         ],
         "xaxis": "x",
         "y": [
          0,
          0
         ],
         "yaxis": "y"
        },
        {
         "line": {
          "color": "rgb(230, 172, 255.0)"
         },
         "marker": {
          "color": "rgb(230, 172, 255.0)",
          "size": 10
         },
         "mode": "lines+markers",
         "type": "scatter",
         "x": [
          0,
          0
         ],
         "xaxis": "x",
         "y": [
          0,
          0
         ],
         "yaxis": "y"
        },
        {
         "line": {
          "color": "rgb(230, 172, 255.0)"
         },
         "marker": {
          "color": "rgb(230, 172, 255.0)",
          "size": 10
         },
         "mode": "lines+markers",
         "type": "scatter",
         "x": [
          0,
          0
         ],
         "xaxis": "x",
         "y": [
          0,
          0
         ],
         "yaxis": "y"
        },
        {
         "line": {
          "color": "rgb(230, 172, 255.0)"
         },
         "marker": {
          "color": "rgb(230, 172, 255.0)",
          "size": 10
         },
         "mode": "lines+markers",
         "type": "scatter",
         "x": [
          0,
          0
         ],
         "xaxis": "x",
         "y": [
          0,
          0
         ],
         "yaxis": "y"
        },
        {
         "line": {
          "color": "rgb(230, 172, 255.0)"
         },
         "marker": {
          "color": "rgb(230, 172, 255.0)",
          "size": 10
         },
         "mode": "lines+markers",
         "type": "scatter",
         "x": [
          0,
          0
         ],
         "xaxis": "x",
         "y": [
          0,
          0
         ],
         "yaxis": "y"
        },
        {
         "line": {
          "color": "rgb(230, 172, 255.0)"
         },
         "marker": {
          "color": "rgb(230, 172, 255.0)",
          "size": 10
         },
         "mode": "lines+markers",
         "type": "scatter",
         "x": [
          0,
          0
         ],
         "xaxis": "x",
         "y": [
          0,
          0
         ],
         "yaxis": "y"
        },
        {
         "line": {
          "color": "rgb(230, 172, 255.0)"
         },
         "marker": {
          "color": "rgb(230, 172, 255.0)",
          "size": 10
         },
         "mode": "lines+markers",
         "type": "scatter",
         "x": [
          0,
          0
         ],
         "xaxis": "x",
         "y": [
          0,
          0
         ],
         "yaxis": "y"
        },
        {
         "line": {
          "color": "rgb(230, 172, 255.0)"
         },
         "marker": {
          "color": "rgb(230, 172, 255.0)",
          "size": 10
         },
         "mode": "lines+markers",
         "type": "scatter",
         "x": [
          0,
          0
         ],
         "xaxis": "x",
         "y": [
          0,
          0
         ],
         "yaxis": "y"
        },
        {
         "line": {
          "color": "rgb(230, 172, 255.0)"
         },
         "marker": {
          "color": "rgb(230, 172, 255.0)",
          "size": 10
         },
         "mode": "lines+markers",
         "type": "scatter",
         "x": [
          0,
          0
         ],
         "xaxis": "x",
         "y": [
          0,
          0
         ],
         "yaxis": "y"
        },
        {
         "line": {
          "color": "rgb(230, 172, 255.0)"
         },
         "marker": {
          "color": "rgb(230, 172, 255.0)",
          "size": 10
         },
         "mode": "lines+markers",
         "type": "scatter",
         "x": [
          0,
          0
         ],
         "xaxis": "x",
         "y": [
          0,
          0
         ],
         "yaxis": "y"
        },
        {
         "line": {
          "color": "rgb(230, 172, 255.0)"
         },
         "marker": {
          "color": "rgb(230, 172, 255.0)",
          "size": 10
         },
         "mode": "lines+markers",
         "type": "scatter",
         "x": [
          0,
          0
         ],
         "xaxis": "x",
         "y": [
          0,
          0
         ],
         "yaxis": "y"
        },
        {
         "line": {
          "color": "rgb(230, 172, 255.0)"
         },
         "marker": {
          "color": "rgb(230, 172, 255.0)",
          "size": 10
         },
         "mode": "lines+markers",
         "type": "scatter",
         "x": [
          0,
          0
         ],
         "xaxis": "x",
         "y": [
          0,
          0
         ],
         "yaxis": "y"
        },
        {
         "line": {
          "color": "rgb(230, 172, 255.0)"
         },
         "marker": {
          "color": "rgb(230, 172, 255.0)",
          "size": 10
         },
         "mode": "lines+markers",
         "type": "scatter",
         "x": [
          0,
          0
         ],
         "xaxis": "x",
         "y": [
          0,
          0
         ],
         "yaxis": "y"
        },
        {
         "line": {
          "color": "rgb(230, 172, 255.0)"
         },
         "marker": {
          "color": "rgb(230, 172, 255.0)",
          "size": 10
         },
         "mode": "lines+markers",
         "type": "scatter",
         "x": [
          0,
          0
         ],
         "xaxis": "x",
         "y": [
          0,
          0
         ],
         "yaxis": "y"
        },
        {
         "line": {
          "color": "rgb(230, 172, 255.0)"
         },
         "marker": {
          "color": "rgb(230, 172, 255.0)",
          "size": 10
         },
         "mode": "lines+markers",
         "type": "scatter",
         "x": [
          0,
          0
         ],
         "xaxis": "x",
         "y": [
          0,
          0
         ],
         "yaxis": "y"
        },
        {
         "line": {
          "color": "rgb(230, 172, 255.0)"
         },
         "marker": {
          "color": "rgb(230, 172, 255.0)",
          "size": 10
         },
         "mode": "lines+markers",
         "type": "scatter",
         "x": [
          0,
          0
         ],
         "xaxis": "x",
         "y": [
          0,
          0
         ],
         "yaxis": "y"
        },
        {
         "line": {
          "color": "rgb(230, 172, 255.0)"
         },
         "marker": {
          "color": "rgb(230, 172, 255.0)",
          "size": 10
         },
         "mode": "lines+markers",
         "type": "scatter",
         "x": [
          0,
          0.2662521004676819
         ],
         "xaxis": "x",
         "y": [
          0,
          1.1122533082962036
         ],
         "yaxis": "y"
        },
        {
         "line": {
          "color": "rgb(230, 172, 255.0)"
         },
         "marker": {
          "color": "rgb(230, 172, 255.0)",
          "size": 10
         },
         "mode": "lines+markers",
         "type": "scatter",
         "x": [
          0,
          0
         ],
         "xaxis": "x",
         "y": [
          0,
          0
         ],
         "yaxis": "y"
        },
        {
         "line": {
          "color": "rgb(230, 172, 255.0)"
         },
         "marker": {
          "color": "rgb(230, 172, 255.0)",
          "size": 10
         },
         "mode": "lines+markers",
         "type": "scatter",
         "x": [
          0,
          0
         ],
         "xaxis": "x",
         "y": [
          0,
          0
         ],
         "yaxis": "y"
        },
        {
         "line": {
          "color": "rgb(230, 172, 255.0)"
         },
         "marker": {
          "color": "rgb(230, 172, 255.0)",
          "size": 10
         },
         "mode": "lines+markers",
         "type": "scatter",
         "x": [
          0,
          0
         ],
         "xaxis": "x",
         "y": [
          0,
          0
         ],
         "yaxis": "y"
        },
        {
         "line": {
          "color": "rgb(230, 172, 255.0)"
         },
         "marker": {
          "color": "rgb(230, 172, 255.0)",
          "size": 10
         },
         "mode": "lines+markers",
         "type": "scatter",
         "x": [
          0,
          0
         ],
         "xaxis": "x",
         "y": [
          0,
          0
         ],
         "yaxis": "y"
        },
        {
         "line": {
          "color": "rgb(230, 172, 255.0)"
         },
         "marker": {
          "color": "rgb(230, 172, 255.0)",
          "size": 10
         },
         "mode": "lines+markers",
         "type": "scatter",
         "x": [
          0,
          0
         ],
         "xaxis": "x",
         "y": [
          0,
          0
         ],
         "yaxis": "y"
        },
        {
         "line": {
          "color": "rgb(230, 172, 255.0)"
         },
         "marker": {
          "color": "rgb(230, 172, 255.0)",
          "size": 10
         },
         "mode": "lines+markers",
         "type": "scatter",
         "x": [
          0,
          0
         ],
         "xaxis": "x",
         "y": [
          0,
          0
         ],
         "yaxis": "y"
        },
        {
         "line": {
          "color": "rgb(230, 172, 255.0)"
         },
         "marker": {
          "color": "rgb(230, 172, 255.0)",
          "size": 10
         },
         "mode": "lines+markers",
         "type": "scatter",
         "x": [
          0,
          0
         ],
         "xaxis": "x",
         "y": [
          0,
          0
         ],
         "yaxis": "y"
        }
       ],
       "layout": {
        "height": 400,
        "template": {
         "data": {
          "bar": [
           {
            "error_x": {
             "color": "#2a3f5f"
            },
            "error_y": {
             "color": "#2a3f5f"
            },
            "marker": {
             "line": {
              "color": "#E5ECF6",
              "width": 0.5
             },
             "pattern": {
              "fillmode": "overlay",
              "size": 10,
              "solidity": 0.2
             }
            },
            "type": "bar"
           }
          ],
          "barpolar": [
           {
            "marker": {
             "line": {
              "color": "#E5ECF6",
              "width": 0.5
             },
             "pattern": {
              "fillmode": "overlay",
              "size": 10,
              "solidity": 0.2
             }
            },
            "type": "barpolar"
           }
          ],
          "carpet": [
           {
            "aaxis": {
             "endlinecolor": "#2a3f5f",
             "gridcolor": "white",
             "linecolor": "white",
             "minorgridcolor": "white",
             "startlinecolor": "#2a3f5f"
            },
            "baxis": {
             "endlinecolor": "#2a3f5f",
             "gridcolor": "white",
             "linecolor": "white",
             "minorgridcolor": "white",
             "startlinecolor": "#2a3f5f"
            },
            "type": "carpet"
           }
          ],
          "choropleth": [
           {
            "colorbar": {
             "outlinewidth": 0,
             "ticks": ""
            },
            "type": "choropleth"
           }
          ],
          "contour": [
           {
            "colorbar": {
             "outlinewidth": 0,
             "ticks": ""
            },
            "colorscale": [
             [
              0,
              "#0d0887"
             ],
             [
              0.1111111111111111,
              "#46039f"
             ],
             [
              0.2222222222222222,
              "#7201a8"
             ],
             [
              0.3333333333333333,
              "#9c179e"
             ],
             [
              0.4444444444444444,
              "#bd3786"
             ],
             [
              0.5555555555555556,
              "#d8576b"
             ],
             [
              0.6666666666666666,
              "#ed7953"
             ],
             [
              0.7777777777777778,
              "#fb9f3a"
             ],
             [
              0.8888888888888888,
              "#fdca26"
             ],
             [
              1,
              "#f0f921"
             ]
            ],
            "type": "contour"
           }
          ],
          "contourcarpet": [
           {
            "colorbar": {
             "outlinewidth": 0,
             "ticks": ""
            },
            "type": "contourcarpet"
           }
          ],
          "heatmap": [
           {
            "colorbar": {
             "outlinewidth": 0,
             "ticks": ""
            },
            "colorscale": [
             [
              0,
              "#0d0887"
             ],
             [
              0.1111111111111111,
              "#46039f"
             ],
             [
              0.2222222222222222,
              "#7201a8"
             ],
             [
              0.3333333333333333,
              "#9c179e"
             ],
             [
              0.4444444444444444,
              "#bd3786"
             ],
             [
              0.5555555555555556,
              "#d8576b"
             ],
             [
              0.6666666666666666,
              "#ed7953"
             ],
             [
              0.7777777777777778,
              "#fb9f3a"
             ],
             [
              0.8888888888888888,
              "#fdca26"
             ],
             [
              1,
              "#f0f921"
             ]
            ],
            "type": "heatmap"
           }
          ],
          "heatmapgl": [
           {
            "colorbar": {
             "outlinewidth": 0,
             "ticks": ""
            },
            "colorscale": [
             [
              0,
              "#0d0887"
             ],
             [
              0.1111111111111111,
              "#46039f"
             ],
             [
              0.2222222222222222,
              "#7201a8"
             ],
             [
              0.3333333333333333,
              "#9c179e"
             ],
             [
              0.4444444444444444,
              "#bd3786"
             ],
             [
              0.5555555555555556,
              "#d8576b"
             ],
             [
              0.6666666666666666,
              "#ed7953"
             ],
             [
              0.7777777777777778,
              "#fb9f3a"
             ],
             [
              0.8888888888888888,
              "#fdca26"
             ],
             [
              1,
              "#f0f921"
             ]
            ],
            "type": "heatmapgl"
           }
          ],
          "histogram": [
           {
            "marker": {
             "pattern": {
              "fillmode": "overlay",
              "size": 10,
              "solidity": 0.2
             }
            },
            "type": "histogram"
           }
          ],
          "histogram2d": [
           {
            "colorbar": {
             "outlinewidth": 0,
             "ticks": ""
            },
            "colorscale": [
             [
              0,
              "#0d0887"
             ],
             [
              0.1111111111111111,
              "#46039f"
             ],
             [
              0.2222222222222222,
              "#7201a8"
             ],
             [
              0.3333333333333333,
              "#9c179e"
             ],
             [
              0.4444444444444444,
              "#bd3786"
             ],
             [
              0.5555555555555556,
              "#d8576b"
             ],
             [
              0.6666666666666666,
              "#ed7953"
             ],
             [
              0.7777777777777778,
              "#fb9f3a"
             ],
             [
              0.8888888888888888,
              "#fdca26"
             ],
             [
              1,
              "#f0f921"
             ]
            ],
            "type": "histogram2d"
           }
          ],
          "histogram2dcontour": [
           {
            "colorbar": {
             "outlinewidth": 0,
             "ticks": ""
            },
            "colorscale": [
             [
              0,
              "#0d0887"
             ],
             [
              0.1111111111111111,
              "#46039f"
             ],
             [
              0.2222222222222222,
              "#7201a8"
             ],
             [
              0.3333333333333333,
              "#9c179e"
             ],
             [
              0.4444444444444444,
              "#bd3786"
             ],
             [
              0.5555555555555556,
              "#d8576b"
             ],
             [
              0.6666666666666666,
              "#ed7953"
             ],
             [
              0.7777777777777778,
              "#fb9f3a"
             ],
             [
              0.8888888888888888,
              "#fdca26"
             ],
             [
              1,
              "#f0f921"
             ]
            ],
            "type": "histogram2dcontour"
           }
          ],
          "mesh3d": [
           {
            "colorbar": {
             "outlinewidth": 0,
             "ticks": ""
            },
            "type": "mesh3d"
           }
          ],
          "parcoords": [
           {
            "line": {
             "colorbar": {
              "outlinewidth": 0,
              "ticks": ""
             }
            },
            "type": "parcoords"
           }
          ],
          "pie": [
           {
            "automargin": true,
            "type": "pie"
           }
          ],
          "scatter": [
           {
            "fillpattern": {
             "fillmode": "overlay",
             "size": 10,
             "solidity": 0.2
            },
            "type": "scatter"
           }
          ],
          "scatter3d": [
           {
            "line": {
             "colorbar": {
              "outlinewidth": 0,
              "ticks": ""
             }
            },
            "marker": {
             "colorbar": {
              "outlinewidth": 0,
              "ticks": ""
             }
            },
            "type": "scatter3d"
           }
          ],
          "scattercarpet": [
           {
            "marker": {
             "colorbar": {
              "outlinewidth": 0,
              "ticks": ""
             }
            },
            "type": "scattercarpet"
           }
          ],
          "scattergeo": [
           {
            "marker": {
             "colorbar": {
              "outlinewidth": 0,
              "ticks": ""
             }
            },
            "type": "scattergeo"
           }
          ],
          "scattergl": [
           {
            "marker": {
             "colorbar": {
              "outlinewidth": 0,
              "ticks": ""
             }
            },
            "type": "scattergl"
           }
          ],
          "scattermapbox": [
           {
            "marker": {
             "colorbar": {
              "outlinewidth": 0,
              "ticks": ""
             }
            },
            "type": "scattermapbox"
           }
          ],
          "scatterpolar": [
           {
            "marker": {
             "colorbar": {
              "outlinewidth": 0,
              "ticks": ""
             }
            },
            "type": "scatterpolar"
           }
          ],
          "scatterpolargl": [
           {
            "marker": {
             "colorbar": {
              "outlinewidth": 0,
              "ticks": ""
             }
            },
            "type": "scatterpolargl"
           }
          ],
          "scatterternary": [
           {
            "marker": {
             "colorbar": {
              "outlinewidth": 0,
              "ticks": ""
             }
            },
            "type": "scatterternary"
           }
          ],
          "surface": [
           {
            "colorbar": {
             "outlinewidth": 0,
             "ticks": ""
            },
            "colorscale": [
             [
              0,
              "#0d0887"
             ],
             [
              0.1111111111111111,
              "#46039f"
             ],
             [
              0.2222222222222222,
              "#7201a8"
             ],
             [
              0.3333333333333333,
              "#9c179e"
             ],
             [
              0.4444444444444444,
              "#bd3786"
             ],
             [
              0.5555555555555556,
              "#d8576b"
             ],
             [
              0.6666666666666666,
              "#ed7953"
             ],
             [
              0.7777777777777778,
              "#fb9f3a"
             ],
             [
              0.8888888888888888,
              "#fdca26"
             ],
             [
              1,
              "#f0f921"
             ]
            ],
            "type": "surface"
           }
          ],
          "table": [
           {
            "cells": {
             "fill": {
              "color": "#EBF0F8"
             },
             "line": {
              "color": "white"
             }
            },
            "header": {
             "fill": {
              "color": "#C8D4E3"
             },
             "line": {
              "color": "white"
             }
            },
            "type": "table"
           }
          ]
         },
         "layout": {
          "annotationdefaults": {
           "arrowcolor": "#2a3f5f",
           "arrowhead": 0,
           "arrowwidth": 1
          },
          "autotypenumbers": "strict",
          "coloraxis": {
           "colorbar": {
            "outlinewidth": 0,
            "ticks": ""
           }
          },
          "colorscale": {
           "diverging": [
            [
             0,
             "#8e0152"
            ],
            [
             0.1,
             "#c51b7d"
            ],
            [
             0.2,
             "#de77ae"
            ],
            [
             0.3,
             "#f1b6da"
            ],
            [
             0.4,
             "#fde0ef"
            ],
            [
             0.5,
             "#f7f7f7"
            ],
            [
             0.6,
             "#e6f5d0"
            ],
            [
             0.7,
             "#b8e186"
            ],
            [
             0.8,
             "#7fbc41"
            ],
            [
             0.9,
             "#4d9221"
            ],
            [
             1,
             "#276419"
            ]
           ],
           "sequential": [
            [
             0,
             "#0d0887"
            ],
            [
             0.1111111111111111,
             "#46039f"
            ],
            [
             0.2222222222222222,
             "#7201a8"
            ],
            [
             0.3333333333333333,
             "#9c179e"
            ],
            [
             0.4444444444444444,
             "#bd3786"
            ],
            [
             0.5555555555555556,
             "#d8576b"
            ],
            [
             0.6666666666666666,
             "#ed7953"
            ],
            [
             0.7777777777777778,
             "#fb9f3a"
            ],
            [
             0.8888888888888888,
             "#fdca26"
            ],
            [
             1,
             "#f0f921"
            ]
           ],
           "sequentialminus": [
            [
             0,
             "#0d0887"
            ],
            [
             0.1111111111111111,
             "#46039f"
            ],
            [
             0.2222222222222222,
             "#7201a8"
            ],
            [
             0.3333333333333333,
             "#9c179e"
            ],
            [
             0.4444444444444444,
             "#bd3786"
            ],
            [
             0.5555555555555556,
             "#d8576b"
            ],
            [
             0.6666666666666666,
             "#ed7953"
            ],
            [
             0.7777777777777778,
             "#fb9f3a"
            ],
            [
             0.8888888888888888,
             "#fdca26"
            ],
            [
             1,
             "#f0f921"
            ]
           ]
          },
          "colorway": [
           "#636efa",
           "#EF553B",
           "#00cc96",
           "#ab63fa",
           "#FFA15A",
           "#19d3f3",
           "#FF6692",
           "#B6E880",
           "#FF97FF",
           "#FECB52"
          ],
          "font": {
           "color": "#2a3f5f"
          },
          "geo": {
           "bgcolor": "white",
           "lakecolor": "white",
           "landcolor": "#E5ECF6",
           "showlakes": true,
           "showland": true,
           "subunitcolor": "white"
          },
          "hoverlabel": {
           "align": "left"
          },
          "hovermode": "closest",
          "mapbox": {
           "style": "light"
          },
          "paper_bgcolor": "white",
          "plot_bgcolor": "#E5ECF6",
          "polar": {
           "angularaxis": {
            "gridcolor": "white",
            "linecolor": "white",
            "ticks": ""
           },
           "bgcolor": "#E5ECF6",
           "radialaxis": {
            "gridcolor": "white",
            "linecolor": "white",
            "ticks": ""
           }
          },
          "scene": {
           "xaxis": {
            "backgroundcolor": "#E5ECF6",
            "gridcolor": "white",
            "gridwidth": 2,
            "linecolor": "white",
            "showbackground": true,
            "ticks": "",
            "zerolinecolor": "white"
           },
           "yaxis": {
            "backgroundcolor": "#E5ECF6",
            "gridcolor": "white",
            "gridwidth": 2,
            "linecolor": "white",
            "showbackground": true,
            "ticks": "",
            "zerolinecolor": "white"
           },
           "zaxis": {
            "backgroundcolor": "#E5ECF6",
            "gridcolor": "white",
            "gridwidth": 2,
            "linecolor": "white",
            "showbackground": true,
            "ticks": "",
            "zerolinecolor": "white"
           }
          },
          "shapedefaults": {
           "line": {
            "color": "#2a3f5f"
           }
          },
          "ternary": {
           "aaxis": {
            "gridcolor": "white",
            "linecolor": "white",
            "ticks": ""
           },
           "baxis": {
            "gridcolor": "white",
            "linecolor": "white",
            "ticks": ""
           },
           "bgcolor": "#E5ECF6",
           "caxis": {
            "gridcolor": "white",
            "linecolor": "white",
            "ticks": ""
           }
          },
          "title": {
           "x": 0.05
          },
          "xaxis": {
           "automargin": true,
           "gridcolor": "white",
           "linecolor": "white",
           "ticks": "",
           "title": {
            "standoff": 15
           },
           "zerolinecolor": "white",
           "zerolinewidth": 2
          },
          "yaxis": {
           "automargin": true,
           "gridcolor": "white",
           "linecolor": "white",
           "ticks": "",
           "title": {
            "standoff": 15
           },
           "zerolinecolor": "white",
           "zerolinewidth": 2
          }
         }
        },
        "title": {
         "text": "Model hidden state on some random data"
        },
        "width": 400,
        "xaxis": {
         "anchor": "y",
         "domain": [
          0,
          1
         ],
         "range": [
          -1.5,
          1.5
         ]
        },
        "yaxis": {
         "anchor": "x",
         "domain": [
          0,
          1
         ],
         "range": [
          -1.5,
          1.5
         ]
        }
       }
      }
     },
     "metadata": {},
     "output_type": "display_data"
    }
   ],
   "source": [
    "# visualize the bottleneck model's hidden state w/ some input data\n",
    "data = gen_artificial_data(cfg, feature_prob=0.01) # [batch_size, hidden_dim]\n",
    "model_embeddings = data @ model.W\n",
    "\n",
    "plot_learned_features(\n",
    "    cfg,\n",
    "    [model_embeddings],\n",
    "    'Model hidden state on some random data'\n",
    ")"
   ]
  },
  {
   "cell_type": "code",
   "execution_count": 31,
   "metadata": {},
   "outputs": [
    {
     "data": {
      "application/vnd.plotly.v1+json": {
       "config": {
        "plotlyServerURL": "https://plot.ly"
       },
       "data": [
        {
         "line": {
          "color": "rgb(230, 172, 255.0)"
         },
         "marker": {
          "color": "rgb(230, 172, 255.0)",
          "size": 10
         },
         "mode": "lines+markers",
         "type": "scatter",
         "x": [
          0,
          0.0000658018616377376
         ],
         "xaxis": "x",
         "y": [
          0,
          0.00006491809472208843
         ],
         "yaxis": "y"
        },
        {
         "line": {
          "color": "rgb(230, 172, 255.0)"
         },
         "marker": {
          "color": "rgb(230, 172, 255.0)",
          "size": 10
         },
         "mode": "lines+markers",
         "type": "scatter",
         "x": [
          0,
          0.0000658018616377376
         ],
         "xaxis": "x",
         "y": [
          0,
          0.00006491809472208843
         ],
         "yaxis": "y"
        },
        {
         "line": {
          "color": "rgb(230, 172, 255.0)"
         },
         "marker": {
          "color": "rgb(230, 172, 255.0)",
          "size": 10
         },
         "mode": "lines+markers",
         "type": "scatter",
         "x": [
          0,
          0.0000658018616377376
         ],
         "xaxis": "x",
         "y": [
          0,
          0.00006491809472208843
         ],
         "yaxis": "y"
        },
        {
         "line": {
          "color": "rgb(230, 172, 255.0)"
         },
         "marker": {
          "color": "rgb(230, 172, 255.0)",
          "size": 10
         },
         "mode": "lines+markers",
         "type": "scatter",
         "x": [
          0,
          0.0000658018616377376
         ],
         "xaxis": "x",
         "y": [
          0,
          0.00006491809472208843
         ],
         "yaxis": "y"
        },
        {
         "line": {
          "color": "rgb(230, 172, 255.0)"
         },
         "marker": {
          "color": "rgb(230, 172, 255.0)",
          "size": 10
         },
         "mode": "lines+markers",
         "type": "scatter",
         "x": [
          0,
          0.0000658018616377376
         ],
         "xaxis": "x",
         "y": [
          0,
          0.00006491809472208843
         ],
         "yaxis": "y"
        },
        {
         "line": {
          "color": "rgb(230, 172, 255.0)"
         },
         "marker": {
          "color": "rgb(230, 172, 255.0)",
          "size": 10
         },
         "mode": "lines+markers",
         "type": "scatter",
         "x": [
          0,
          0.0000658018616377376
         ],
         "xaxis": "x",
         "y": [
          0,
          0.00006491809472208843
         ],
         "yaxis": "y"
        },
        {
         "line": {
          "color": "rgb(230, 172, 255.0)"
         },
         "marker": {
          "color": "rgb(230, 172, 255.0)",
          "size": 10
         },
         "mode": "lines+markers",
         "type": "scatter",
         "x": [
          0,
          0.0000658018616377376
         ],
         "xaxis": "x",
         "y": [
          0,
          0.00006491809472208843
         ],
         "yaxis": "y"
        },
        {
         "line": {
          "color": "rgb(230, 172, 255.0)"
         },
         "marker": {
          "color": "rgb(230, 172, 255.0)",
          "size": 10
         },
         "mode": "lines+markers",
         "type": "scatter",
         "x": [
          0,
          0.0000658018616377376
         ],
         "xaxis": "x",
         "y": [
          0,
          0.00006491809472208843
         ],
         "yaxis": "y"
        },
        {
         "line": {
          "color": "rgb(230, 172, 255.0)"
         },
         "marker": {
          "color": "rgb(230, 172, 255.0)",
          "size": 10
         },
         "mode": "lines+markers",
         "type": "scatter",
         "x": [
          0,
          0.0000658018616377376
         ],
         "xaxis": "x",
         "y": [
          0,
          0.00006491809472208843
         ],
         "yaxis": "y"
        },
        {
         "line": {
          "color": "rgb(230, 172, 255.0)"
         },
         "marker": {
          "color": "rgb(230, 172, 255.0)",
          "size": 10
         },
         "mode": "lines+markers",
         "type": "scatter",
         "x": [
          0,
          0.0000658018616377376
         ],
         "xaxis": "x",
         "y": [
          0,
          0.00006491809472208843
         ],
         "yaxis": "y"
        },
        {
         "line": {
          "color": "rgb(230, 172, 255.0)"
         },
         "marker": {
          "color": "rgb(230, 172, 255.0)",
          "size": 10
         },
         "mode": "lines+markers",
         "type": "scatter",
         "x": [
          0,
          0.0000658018616377376
         ],
         "xaxis": "x",
         "y": [
          0,
          0.00006491809472208843
         ],
         "yaxis": "y"
        },
        {
         "line": {
          "color": "rgb(230, 172, 255.0)"
         },
         "marker": {
          "color": "rgb(230, 172, 255.0)",
          "size": 10
         },
         "mode": "lines+markers",
         "type": "scatter",
         "x": [
          0,
          0.0000658018616377376
         ],
         "xaxis": "x",
         "y": [
          0,
          0.00006491809472208843
         ],
         "yaxis": "y"
        },
        {
         "line": {
          "color": "rgb(230, 172, 255.0)"
         },
         "marker": {
          "color": "rgb(230, 172, 255.0)",
          "size": 10
         },
         "mode": "lines+markers",
         "type": "scatter",
         "x": [
          0,
          0.0000658018616377376
         ],
         "xaxis": "x",
         "y": [
          0,
          0.00006491809472208843
         ],
         "yaxis": "y"
        },
        {
         "line": {
          "color": "rgb(230, 172, 255.0)"
         },
         "marker": {
          "color": "rgb(230, 172, 255.0)",
          "size": 10
         },
         "mode": "lines+markers",
         "type": "scatter",
         "x": [
          0,
          0.0000658018616377376
         ],
         "xaxis": "x",
         "y": [
          0,
          0.00006491809472208843
         ],
         "yaxis": "y"
        },
        {
         "line": {
          "color": "rgb(230, 172, 255.0)"
         },
         "marker": {
          "color": "rgb(230, 172, 255.0)",
          "size": 10
         },
         "mode": "lines+markers",
         "type": "scatter",
         "x": [
          0,
          0.0000658018616377376
         ],
         "xaxis": "x",
         "y": [
          0,
          0.00006491809472208843
         ],
         "yaxis": "y"
        },
        {
         "line": {
          "color": "rgb(230, 172, 255.0)"
         },
         "marker": {
          "color": "rgb(230, 172, 255.0)",
          "size": 10
         },
         "mode": "lines+markers",
         "type": "scatter",
         "x": [
          0,
          0.0000658018616377376
         ],
         "xaxis": "x",
         "y": [
          0,
          0.00006491809472208843
         ],
         "yaxis": "y"
        },
        {
         "line": {
          "color": "rgb(230, 172, 255.0)"
         },
         "marker": {
          "color": "rgb(230, 172, 255.0)",
          "size": 10
         },
         "mode": "lines+markers",
         "type": "scatter",
         "x": [
          0,
          0.0000658018616377376
         ],
         "xaxis": "x",
         "y": [
          0,
          0.00006491809472208843
         ],
         "yaxis": "y"
        },
        {
         "line": {
          "color": "rgb(230, 172, 255.0)"
         },
         "marker": {
          "color": "rgb(230, 172, 255.0)",
          "size": 10
         },
         "mode": "lines+markers",
         "type": "scatter",
         "x": [
          0,
          0.0000658018616377376
         ],
         "xaxis": "x",
         "y": [
          0,
          0.00006491809472208843
         ],
         "yaxis": "y"
        },
        {
         "line": {
          "color": "rgb(230, 172, 255.0)"
         },
         "marker": {
          "color": "rgb(230, 172, 255.0)",
          "size": 10
         },
         "mode": "lines+markers",
         "type": "scatter",
         "x": [
          0,
          0.0000658018616377376
         ],
         "xaxis": "x",
         "y": [
          0,
          0.00006491809472208843
         ],
         "yaxis": "y"
        },
        {
         "line": {
          "color": "rgb(230, 172, 255.0)"
         },
         "marker": {
          "color": "rgb(230, 172, 255.0)",
          "size": 10
         },
         "mode": "lines+markers",
         "type": "scatter",
         "x": [
          0,
          0.0000658018616377376
         ],
         "xaxis": "x",
         "y": [
          0,
          0.00006491809472208843
         ],
         "yaxis": "y"
        },
        {
         "line": {
          "color": "rgb(230, 172, 255.0)"
         },
         "marker": {
          "color": "rgb(230, 172, 255.0)",
          "size": 10
         },
         "mode": "lines+markers",
         "type": "scatter",
         "x": [
          0,
          0.0000658018616377376
         ],
         "xaxis": "x",
         "y": [
          0,
          0.00006491809472208843
         ],
         "yaxis": "y"
        },
        {
         "line": {
          "color": "rgb(230, 172, 255.0)"
         },
         "marker": {
          "color": "rgb(230, 172, 255.0)",
          "size": 10
         },
         "mode": "lines+markers",
         "type": "scatter",
         "x": [
          0,
          0.0000658018616377376
         ],
         "xaxis": "x",
         "y": [
          0,
          0.00006491809472208843
         ],
         "yaxis": "y"
        },
        {
         "line": {
          "color": "rgb(230, 172, 255.0)"
         },
         "marker": {
          "color": "rgb(230, 172, 255.0)",
          "size": 10
         },
         "mode": "lines+markers",
         "type": "scatter",
         "x": [
          0,
          0.0000658018616377376
         ],
         "xaxis": "x",
         "y": [
          0,
          0.00006491809472208843
         ],
         "yaxis": "y"
        },
        {
         "line": {
          "color": "rgb(230, 172, 255.0)"
         },
         "marker": {
          "color": "rgb(230, 172, 255.0)",
          "size": 10
         },
         "mode": "lines+markers",
         "type": "scatter",
         "x": [
          0,
          0.0000658018616377376
         ],
         "xaxis": "x",
         "y": [
          0,
          0.00006491809472208843
         ],
         "yaxis": "y"
        },
        {
         "line": {
          "color": "rgb(230, 172, 255.0)"
         },
         "marker": {
          "color": "rgb(230, 172, 255.0)",
          "size": 10
         },
         "mode": "lines+markers",
         "type": "scatter",
         "x": [
          0,
          0.0000658018616377376
         ],
         "xaxis": "x",
         "y": [
          0,
          0.00006491809472208843
         ],
         "yaxis": "y"
        },
        {
         "line": {
          "color": "rgb(230, 172, 255.0)"
         },
         "marker": {
          "color": "rgb(230, 172, 255.0)",
          "size": 10
         },
         "mode": "lines+markers",
         "type": "scatter",
         "x": [
          0,
          0.0000658018616377376
         ],
         "xaxis": "x",
         "y": [
          0,
          0.00006491809472208843
         ],
         "yaxis": "y"
        },
        {
         "line": {
          "color": "rgb(230, 172, 255.0)"
         },
         "marker": {
          "color": "rgb(230, 172, 255.0)",
          "size": 10
         },
         "mode": "lines+markers",
         "type": "scatter",
         "x": [
          0,
          0.0000658018616377376
         ],
         "xaxis": "x",
         "y": [
          0,
          0.00006491809472208843
         ],
         "yaxis": "y"
        },
        {
         "line": {
          "color": "rgb(230, 172, 255.0)"
         },
         "marker": {
          "color": "rgb(230, 172, 255.0)",
          "size": 10
         },
         "mode": "lines+markers",
         "type": "scatter",
         "x": [
          0,
          0.0000658018616377376
         ],
         "xaxis": "x",
         "y": [
          0,
          0.00006491809472208843
         ],
         "yaxis": "y"
        },
        {
         "line": {
          "color": "rgb(230, 172, 255.0)"
         },
         "marker": {
          "color": "rgb(230, 172, 255.0)",
          "size": 10
         },
         "mode": "lines+markers",
         "type": "scatter",
         "x": [
          0,
          0.0000658018616377376
         ],
         "xaxis": "x",
         "y": [
          0,
          0.00006491809472208843
         ],
         "yaxis": "y"
        },
        {
         "line": {
          "color": "rgb(230, 172, 255.0)"
         },
         "marker": {
          "color": "rgb(230, 172, 255.0)",
          "size": 10
         },
         "mode": "lines+markers",
         "type": "scatter",
         "x": [
          0,
          0.0000658018616377376
         ],
         "xaxis": "x",
         "y": [
          0,
          0.00006491809472208843
         ],
         "yaxis": "y"
        },
        {
         "line": {
          "color": "rgb(230, 172, 255.0)"
         },
         "marker": {
          "color": "rgb(230, 172, 255.0)",
          "size": 10
         },
         "mode": "lines+markers",
         "type": "scatter",
         "x": [
          0,
          0.0000658018616377376
         ],
         "xaxis": "x",
         "y": [
          0,
          0.00006491809472208843
         ],
         "yaxis": "y"
        },
        {
         "line": {
          "color": "rgb(230, 172, 255.0)"
         },
         "marker": {
          "color": "rgb(230, 172, 255.0)",
          "size": 10
         },
         "mode": "lines+markers",
         "type": "scatter",
         "x": [
          0,
          0.0000658018616377376
         ],
         "xaxis": "x",
         "y": [
          0,
          0.00006491809472208843
         ],
         "yaxis": "y"
        },
        {
         "line": {
          "color": "rgb(230, 172, 255.0)"
         },
         "marker": {
          "color": "rgb(230, 172, 255.0)",
          "size": 10
         },
         "mode": "lines+markers",
         "type": "scatter",
         "x": [
          0,
          0.0000658018616377376
         ],
         "xaxis": "x",
         "y": [
          0,
          0.00006491809472208843
         ],
         "yaxis": "y"
        },
        {
         "line": {
          "color": "rgb(230, 172, 255.0)"
         },
         "marker": {
          "color": "rgb(230, 172, 255.0)",
          "size": 10
         },
         "mode": "lines+markers",
         "type": "scatter",
         "x": [
          0,
          0.0000658018616377376
         ],
         "xaxis": "x",
         "y": [
          0,
          0.00006491809472208843
         ],
         "yaxis": "y"
        },
        {
         "line": {
          "color": "rgb(230, 172, 255.0)"
         },
         "marker": {
          "color": "rgb(230, 172, 255.0)",
          "size": 10
         },
         "mode": "lines+markers",
         "type": "scatter",
         "x": [
          0,
          0.0000658018616377376
         ],
         "xaxis": "x",
         "y": [
          0,
          0.00006491809472208843
         ],
         "yaxis": "y"
        },
        {
         "line": {
          "color": "rgb(230, 172, 255.0)"
         },
         "marker": {
          "color": "rgb(230, 172, 255.0)",
          "size": 10
         },
         "mode": "lines+markers",
         "type": "scatter",
         "x": [
          0,
          0.0000658018616377376
         ],
         "xaxis": "x",
         "y": [
          0,
          0.00006491809472208843
         ],
         "yaxis": "y"
        },
        {
         "line": {
          "color": "rgb(230, 172, 255.0)"
         },
         "marker": {
          "color": "rgb(230, 172, 255.0)",
          "size": 10
         },
         "mode": "lines+markers",
         "type": "scatter",
         "x": [
          0,
          0.0000658018616377376
         ],
         "xaxis": "x",
         "y": [
          0,
          0.00006491809472208843
         ],
         "yaxis": "y"
        },
        {
         "line": {
          "color": "rgb(230, 172, 255.0)"
         },
         "marker": {
          "color": "rgb(230, 172, 255.0)",
          "size": 10
         },
         "mode": "lines+markers",
         "type": "scatter",
         "x": [
          0,
          0.0000658018616377376
         ],
         "xaxis": "x",
         "y": [
          0,
          0.00006491809472208843
         ],
         "yaxis": "y"
        },
        {
         "line": {
          "color": "rgb(230, 172, 255.0)"
         },
         "marker": {
          "color": "rgb(230, 172, 255.0)",
          "size": 10
         },
         "mode": "lines+markers",
         "type": "scatter",
         "x": [
          0,
          0.0000658018616377376
         ],
         "xaxis": "x",
         "y": [
          0,
          0.00006491809472208843
         ],
         "yaxis": "y"
        },
        {
         "line": {
          "color": "rgb(230, 172, 255.0)"
         },
         "marker": {
          "color": "rgb(230, 172, 255.0)",
          "size": 10
         },
         "mode": "lines+markers",
         "type": "scatter",
         "x": [
          0,
          0.0000658018616377376
         ],
         "xaxis": "x",
         "y": [
          0,
          0.00006491809472208843
         ],
         "yaxis": "y"
        },
        {
         "line": {
          "color": "rgb(230, 172, 255.0)"
         },
         "marker": {
          "color": "rgb(230, 172, 255.0)",
          "size": 10
         },
         "mode": "lines+markers",
         "type": "scatter",
         "x": [
          0,
          0.0000658018616377376
         ],
         "xaxis": "x",
         "y": [
          0,
          0.00006491809472208843
         ],
         "yaxis": "y"
        },
        {
         "line": {
          "color": "rgb(230, 172, 255.0)"
         },
         "marker": {
          "color": "rgb(230, 172, 255.0)",
          "size": 10
         },
         "mode": "lines+markers",
         "type": "scatter",
         "x": [
          0,
          0.0000658018616377376
         ],
         "xaxis": "x",
         "y": [
          0,
          0.00006491809472208843
         ],
         "yaxis": "y"
        },
        {
         "line": {
          "color": "rgb(230, 172, 255.0)"
         },
         "marker": {
          "color": "rgb(230, 172, 255.0)",
          "size": 10
         },
         "mode": "lines+markers",
         "type": "scatter",
         "x": [
          0,
          0.0000658018616377376
         ],
         "xaxis": "x",
         "y": [
          0,
          0.00006491809472208843
         ],
         "yaxis": "y"
        },
        {
         "line": {
          "color": "rgb(230, 172, 255.0)"
         },
         "marker": {
          "color": "rgb(230, 172, 255.0)",
          "size": 10
         },
         "mode": "lines+markers",
         "type": "scatter",
         "x": [
          0,
          0.0000658018616377376
         ],
         "xaxis": "x",
         "y": [
          0,
          0.00006491809472208843
         ],
         "yaxis": "y"
        },
        {
         "line": {
          "color": "rgb(230, 172, 255.0)"
         },
         "marker": {
          "color": "rgb(230, 172, 255.0)",
          "size": 10
         },
         "mode": "lines+markers",
         "type": "scatter",
         "x": [
          0,
          0.0000658018616377376
         ],
         "xaxis": "x",
         "y": [
          0,
          0.00006491809472208843
         ],
         "yaxis": "y"
        },
        {
         "line": {
          "color": "rgb(230, 172, 255.0)"
         },
         "marker": {
          "color": "rgb(230, 172, 255.0)",
          "size": 10
         },
         "mode": "lines+markers",
         "type": "scatter",
         "x": [
          0,
          0.0000658018616377376
         ],
         "xaxis": "x",
         "y": [
          0,
          0.00006491809472208843
         ],
         "yaxis": "y"
        },
        {
         "line": {
          "color": "rgb(230, 172, 255.0)"
         },
         "marker": {
          "color": "rgb(230, 172, 255.0)",
          "size": 10
         },
         "mode": "lines+markers",
         "type": "scatter",
         "x": [
          0,
          0.0000658018616377376
         ],
         "xaxis": "x",
         "y": [
          0,
          0.00006491809472208843
         ],
         "yaxis": "y"
        },
        {
         "line": {
          "color": "rgb(230, 172, 255.0)"
         },
         "marker": {
          "color": "rgb(230, 172, 255.0)",
          "size": 10
         },
         "mode": "lines+markers",
         "type": "scatter",
         "x": [
          0,
          0.0000658018616377376
         ],
         "xaxis": "x",
         "y": [
          0,
          0.00006491809472208843
         ],
         "yaxis": "y"
        },
        {
         "line": {
          "color": "rgb(230, 172, 255.0)"
         },
         "marker": {
          "color": "rgb(230, 172, 255.0)",
          "size": 10
         },
         "mode": "lines+markers",
         "type": "scatter",
         "x": [
          0,
          0.0000658018616377376
         ],
         "xaxis": "x",
         "y": [
          0,
          0.00006491809472208843
         ],
         "yaxis": "y"
        },
        {
         "line": {
          "color": "rgb(230, 172, 255.0)"
         },
         "marker": {
          "color": "rgb(230, 172, 255.0)",
          "size": 10
         },
         "mode": "lines+markers",
         "type": "scatter",
         "x": [
          0,
          0.0000658018616377376
         ],
         "xaxis": "x",
         "y": [
          0,
          0.00006491809472208843
         ],
         "yaxis": "y"
        },
        {
         "line": {
          "color": "rgb(230, 172, 255.0)"
         },
         "marker": {
          "color": "rgb(230, 172, 255.0)",
          "size": 10
         },
         "mode": "lines+markers",
         "type": "scatter",
         "x": [
          0,
          0.0000658018616377376
         ],
         "xaxis": "x",
         "y": [
          0,
          0.00006491809472208843
         ],
         "yaxis": "y"
        },
        {
         "line": {
          "color": "rgb(230, 172, 255.0)"
         },
         "marker": {
          "color": "rgb(230, 172, 255.0)",
          "size": 10
         },
         "mode": "lines+markers",
         "type": "scatter",
         "x": [
          0,
          0.0000658018616377376
         ],
         "xaxis": "x",
         "y": [
          0,
          0.00006491809472208843
         ],
         "yaxis": "y"
        },
        {
         "line": {
          "color": "rgb(230, 172, 255.0)"
         },
         "marker": {
          "color": "rgb(230, 172, 255.0)",
          "size": 10
         },
         "mode": "lines+markers",
         "type": "scatter",
         "x": [
          0,
          0.0000658018616377376
         ],
         "xaxis": "x",
         "y": [
          0,
          0.00006491809472208843
         ],
         "yaxis": "y"
        },
        {
         "line": {
          "color": "rgb(230, 172, 255.0)"
         },
         "marker": {
          "color": "rgb(230, 172, 255.0)",
          "size": 10
         },
         "mode": "lines+markers",
         "type": "scatter",
         "x": [
          0,
          0.0000658018616377376
         ],
         "xaxis": "x",
         "y": [
          0,
          0.00006491809472208843
         ],
         "yaxis": "y"
        },
        {
         "line": {
          "color": "rgb(230, 172, 255.0)"
         },
         "marker": {
          "color": "rgb(230, 172, 255.0)",
          "size": 10
         },
         "mode": "lines+markers",
         "type": "scatter",
         "x": [
          0,
          0.0000658018616377376
         ],
         "xaxis": "x",
         "y": [
          0,
          0.00006491809472208843
         ],
         "yaxis": "y"
        },
        {
         "line": {
          "color": "rgb(230, 172, 255.0)"
         },
         "marker": {
          "color": "rgb(230, 172, 255.0)",
          "size": 10
         },
         "mode": "lines+markers",
         "type": "scatter",
         "x": [
          0,
          0.0000658018616377376
         ],
         "xaxis": "x",
         "y": [
          0,
          0.00006491809472208843
         ],
         "yaxis": "y"
        },
        {
         "line": {
          "color": "rgb(230, 172, 255.0)"
         },
         "marker": {
          "color": "rgb(230, 172, 255.0)",
          "size": 10
         },
         "mode": "lines+markers",
         "type": "scatter",
         "x": [
          0,
          0.0000658018616377376
         ],
         "xaxis": "x",
         "y": [
          0,
          0.00006491809472208843
         ],
         "yaxis": "y"
        },
        {
         "line": {
          "color": "rgb(230, 172, 255.0)"
         },
         "marker": {
          "color": "rgb(230, 172, 255.0)",
          "size": 10
         },
         "mode": "lines+markers",
         "type": "scatter",
         "x": [
          0,
          0.0000658018616377376
         ],
         "xaxis": "x",
         "y": [
          0,
          0.00006491809472208843
         ],
         "yaxis": "y"
        },
        {
         "line": {
          "color": "rgb(230, 172, 255.0)"
         },
         "marker": {
          "color": "rgb(230, 172, 255.0)",
          "size": 10
         },
         "mode": "lines+markers",
         "type": "scatter",
         "x": [
          0,
          0.0000658018616377376
         ],
         "xaxis": "x",
         "y": [
          0,
          0.00006491809472208843
         ],
         "yaxis": "y"
        },
        {
         "line": {
          "color": "rgb(230, 172, 255.0)"
         },
         "marker": {
          "color": "rgb(230, 172, 255.0)",
          "size": 10
         },
         "mode": "lines+markers",
         "type": "scatter",
         "x": [
          0,
          0.0000658018616377376
         ],
         "xaxis": "x",
         "y": [
          0,
          0.00006491809472208843
         ],
         "yaxis": "y"
        },
        {
         "line": {
          "color": "rgb(230, 172, 255.0)"
         },
         "marker": {
          "color": "rgb(230, 172, 255.0)",
          "size": 10
         },
         "mode": "lines+markers",
         "type": "scatter",
         "x": [
          0,
          0.0000658018616377376
         ],
         "xaxis": "x",
         "y": [
          0,
          0.00006491809472208843
         ],
         "yaxis": "y"
        },
        {
         "line": {
          "color": "rgb(230, 172, 255.0)"
         },
         "marker": {
          "color": "rgb(230, 172, 255.0)",
          "size": 10
         },
         "mode": "lines+markers",
         "type": "scatter",
         "x": [
          0,
          0.0000658018616377376
         ],
         "xaxis": "x",
         "y": [
          0,
          0.00006491809472208843
         ],
         "yaxis": "y"
        },
        {
         "line": {
          "color": "rgb(230, 172, 255.0)"
         },
         "marker": {
          "color": "rgb(230, 172, 255.0)",
          "size": 10
         },
         "mode": "lines+markers",
         "type": "scatter",
         "x": [
          0,
          0.0000658018616377376
         ],
         "xaxis": "x",
         "y": [
          0,
          0.00006491809472208843
         ],
         "yaxis": "y"
        },
        {
         "line": {
          "color": "rgb(230, 172, 255.0)"
         },
         "marker": {
          "color": "rgb(230, 172, 255.0)",
          "size": 10
         },
         "mode": "lines+markers",
         "type": "scatter",
         "x": [
          0,
          0.0000658018616377376
         ],
         "xaxis": "x",
         "y": [
          0,
          0.00006491809472208843
         ],
         "yaxis": "y"
        },
        {
         "line": {
          "color": "rgb(230, 172, 255.0)"
         },
         "marker": {
          "color": "rgb(230, 172, 255.0)",
          "size": 10
         },
         "mode": "lines+markers",
         "type": "scatter",
         "x": [
          0,
          0.0000658018616377376
         ],
         "xaxis": "x",
         "y": [
          0,
          0.00006491809472208843
         ],
         "yaxis": "y"
        },
        {
         "line": {
          "color": "rgb(230, 172, 255.0)"
         },
         "marker": {
          "color": "rgb(230, 172, 255.0)",
          "size": 10
         },
         "mode": "lines+markers",
         "type": "scatter",
         "x": [
          0,
          0.0000658018616377376
         ],
         "xaxis": "x",
         "y": [
          0,
          0.00006491809472208843
         ],
         "yaxis": "y"
        },
        {
         "line": {
          "color": "rgb(230, 172, 255.0)"
         },
         "marker": {
          "color": "rgb(230, 172, 255.0)",
          "size": 10
         },
         "mode": "lines+markers",
         "type": "scatter",
         "x": [
          0,
          0.0000658018616377376
         ],
         "xaxis": "x",
         "y": [
          0,
          0.00006491809472208843
         ],
         "yaxis": "y"
        },
        {
         "line": {
          "color": "rgb(230, 172, 255.0)"
         },
         "marker": {
          "color": "rgb(230, 172, 255.0)",
          "size": 10
         },
         "mode": "lines+markers",
         "type": "scatter",
         "x": [
          0,
          0.0000658018616377376
         ],
         "xaxis": "x",
         "y": [
          0,
          0.00006491809472208843
         ],
         "yaxis": "y"
        },
        {
         "line": {
          "color": "rgb(230, 172, 255.0)"
         },
         "marker": {
          "color": "rgb(230, 172, 255.0)",
          "size": 10
         },
         "mode": "lines+markers",
         "type": "scatter",
         "x": [
          0,
          0.0000658018616377376
         ],
         "xaxis": "x",
         "y": [
          0,
          0.00006491809472208843
         ],
         "yaxis": "y"
        },
        {
         "line": {
          "color": "rgb(230, 172, 255.0)"
         },
         "marker": {
          "color": "rgb(230, 172, 255.0)",
          "size": 10
         },
         "mode": "lines+markers",
         "type": "scatter",
         "x": [
          0,
          0.0000658018616377376
         ],
         "xaxis": "x",
         "y": [
          0,
          0.00006491809472208843
         ],
         "yaxis": "y"
        },
        {
         "line": {
          "color": "rgb(230, 172, 255.0)"
         },
         "marker": {
          "color": "rgb(230, 172, 255.0)",
          "size": 10
         },
         "mode": "lines+markers",
         "type": "scatter",
         "x": [
          0,
          0.0000658018616377376
         ],
         "xaxis": "x",
         "y": [
          0,
          0.00006491809472208843
         ],
         "yaxis": "y"
        },
        {
         "line": {
          "color": "rgb(230, 172, 255.0)"
         },
         "marker": {
          "color": "rgb(230, 172, 255.0)",
          "size": 10
         },
         "mode": "lines+markers",
         "type": "scatter",
         "x": [
          0,
          0.0000658018616377376
         ],
         "xaxis": "x",
         "y": [
          0,
          0.00006491809472208843
         ],
         "yaxis": "y"
        },
        {
         "line": {
          "color": "rgb(230, 172, 255.0)"
         },
         "marker": {
          "color": "rgb(230, 172, 255.0)",
          "size": 10
         },
         "mode": "lines+markers",
         "type": "scatter",
         "x": [
          0,
          0.0000658018616377376
         ],
         "xaxis": "x",
         "y": [
          0,
          0.00006491809472208843
         ],
         "yaxis": "y"
        },
        {
         "line": {
          "color": "rgb(230, 172, 255.0)"
         },
         "marker": {
          "color": "rgb(230, 172, 255.0)",
          "size": 10
         },
         "mode": "lines+markers",
         "type": "scatter",
         "x": [
          0,
          0.0000658018616377376
         ],
         "xaxis": "x",
         "y": [
          0,
          0.00006491809472208843
         ],
         "yaxis": "y"
        },
        {
         "line": {
          "color": "rgb(230, 172, 255.0)"
         },
         "marker": {
          "color": "rgb(230, 172, 255.0)",
          "size": 10
         },
         "mode": "lines+markers",
         "type": "scatter",
         "x": [
          0,
          0.0000658018616377376
         ],
         "xaxis": "x",
         "y": [
          0,
          0.00006491809472208843
         ],
         "yaxis": "y"
        },
        {
         "line": {
          "color": "rgb(230, 172, 255.0)"
         },
         "marker": {
          "color": "rgb(230, 172, 255.0)",
          "size": 10
         },
         "mode": "lines+markers",
         "type": "scatter",
         "x": [
          0,
          0.0000658018616377376
         ],
         "xaxis": "x",
         "y": [
          0,
          0.00006491809472208843
         ],
         "yaxis": "y"
        },
        {
         "line": {
          "color": "rgb(230, 172, 255.0)"
         },
         "marker": {
          "color": "rgb(230, 172, 255.0)",
          "size": 10
         },
         "mode": "lines+markers",
         "type": "scatter",
         "x": [
          0,
          0.0000658018616377376
         ],
         "xaxis": "x",
         "y": [
          0,
          0.00006491809472208843
         ],
         "yaxis": "y"
        },
        {
         "line": {
          "color": "rgb(230, 172, 255.0)"
         },
         "marker": {
          "color": "rgb(230, 172, 255.0)",
          "size": 10
         },
         "mode": "lines+markers",
         "type": "scatter",
         "x": [
          0,
          0.0000658018616377376
         ],
         "xaxis": "x",
         "y": [
          0,
          0.00006491809472208843
         ],
         "yaxis": "y"
        },
        {
         "line": {
          "color": "rgb(230, 172, 255.0)"
         },
         "marker": {
          "color": "rgb(230, 172, 255.0)",
          "size": 10
         },
         "mode": "lines+markers",
         "type": "scatter",
         "x": [
          0,
          0.0000658018616377376
         ],
         "xaxis": "x",
         "y": [
          0,
          0.00006491809472208843
         ],
         "yaxis": "y"
        },
        {
         "line": {
          "color": "rgb(230, 172, 255.0)"
         },
         "marker": {
          "color": "rgb(230, 172, 255.0)",
          "size": 10
         },
         "mode": "lines+markers",
         "type": "scatter",
         "x": [
          0,
          0.0000658018616377376
         ],
         "xaxis": "x",
         "y": [
          0,
          0.00006491809472208843
         ],
         "yaxis": "y"
        },
        {
         "line": {
          "color": "rgb(230, 172, 255.0)"
         },
         "marker": {
          "color": "rgb(230, 172, 255.0)",
          "size": 10
         },
         "mode": "lines+markers",
         "type": "scatter",
         "x": [
          0,
          0.0000658018616377376
         ],
         "xaxis": "x",
         "y": [
          0,
          0.00006491809472208843
         ],
         "yaxis": "y"
        },
        {
         "line": {
          "color": "rgb(230, 172, 255.0)"
         },
         "marker": {
          "color": "rgb(230, 172, 255.0)",
          "size": 10
         },
         "mode": "lines+markers",
         "type": "scatter",
         "x": [
          0,
          0.0000658018616377376
         ],
         "xaxis": "x",
         "y": [
          0,
          0.00006491809472208843
         ],
         "yaxis": "y"
        },
        {
         "line": {
          "color": "rgb(230, 172, 255.0)"
         },
         "marker": {
          "color": "rgb(230, 172, 255.0)",
          "size": 10
         },
         "mode": "lines+markers",
         "type": "scatter",
         "x": [
          0,
          0.0000658018616377376
         ],
         "xaxis": "x",
         "y": [
          0,
          0.00006491809472208843
         ],
         "yaxis": "y"
        },
        {
         "line": {
          "color": "rgb(230, 172, 255.0)"
         },
         "marker": {
          "color": "rgb(230, 172, 255.0)",
          "size": 10
         },
         "mode": "lines+markers",
         "type": "scatter",
         "x": [
          0,
          0.0000658018616377376
         ],
         "xaxis": "x",
         "y": [
          0,
          0.00006491809472208843
         ],
         "yaxis": "y"
        },
        {
         "line": {
          "color": "rgb(230, 172, 255.0)"
         },
         "marker": {
          "color": "rgb(230, 172, 255.0)",
          "size": 10
         },
         "mode": "lines+markers",
         "type": "scatter",
         "x": [
          0,
          0.0000658018616377376
         ],
         "xaxis": "x",
         "y": [
          0,
          0.00006491809472208843
         ],
         "yaxis": "y"
        },
        {
         "line": {
          "color": "rgb(230, 172, 255.0)"
         },
         "marker": {
          "color": "rgb(230, 172, 255.0)",
          "size": 10
         },
         "mode": "lines+markers",
         "type": "scatter",
         "x": [
          0,
          0.0000658018616377376
         ],
         "xaxis": "x",
         "y": [
          0,
          0.00006491809472208843
         ],
         "yaxis": "y"
        },
        {
         "line": {
          "color": "rgb(230, 172, 255.0)"
         },
         "marker": {
          "color": "rgb(230, 172, 255.0)",
          "size": 10
         },
         "mode": "lines+markers",
         "type": "scatter",
         "x": [
          0,
          0.0000658018616377376
         ],
         "xaxis": "x",
         "y": [
          0,
          0.00006491809472208843
         ],
         "yaxis": "y"
        },
        {
         "line": {
          "color": "rgb(230, 172, 255.0)"
         },
         "marker": {
          "color": "rgb(230, 172, 255.0)",
          "size": 10
         },
         "mode": "lines+markers",
         "type": "scatter",
         "x": [
          0,
          0.0000658018616377376
         ],
         "xaxis": "x",
         "y": [
          0,
          0.00006491809472208843
         ],
         "yaxis": "y"
        },
        {
         "line": {
          "color": "rgb(230, 172, 255.0)"
         },
         "marker": {
          "color": "rgb(230, 172, 255.0)",
          "size": 10
         },
         "mode": "lines+markers",
         "type": "scatter",
         "x": [
          0,
          0.0000658018616377376
         ],
         "xaxis": "x",
         "y": [
          0,
          0.00006491809472208843
         ],
         "yaxis": "y"
        },
        {
         "line": {
          "color": "rgb(230, 172, 255.0)"
         },
         "marker": {
          "color": "rgb(230, 172, 255.0)",
          "size": 10
         },
         "mode": "lines+markers",
         "type": "scatter",
         "x": [
          0,
          0.0000658018616377376
         ],
         "xaxis": "x",
         "y": [
          0,
          0.00006491809472208843
         ],
         "yaxis": "y"
        },
        {
         "line": {
          "color": "rgb(230, 172, 255.0)"
         },
         "marker": {
          "color": "rgb(230, 172, 255.0)",
          "size": 10
         },
         "mode": "lines+markers",
         "type": "scatter",
         "x": [
          0,
          0.0000658018616377376
         ],
         "xaxis": "x",
         "y": [
          0,
          0.00006491809472208843
         ],
         "yaxis": "y"
        },
        {
         "line": {
          "color": "rgb(230, 172, 255.0)"
         },
         "marker": {
          "color": "rgb(230, 172, 255.0)",
          "size": 10
         },
         "mode": "lines+markers",
         "type": "scatter",
         "x": [
          0,
          0.0000658018616377376
         ],
         "xaxis": "x",
         "y": [
          0,
          0.00006491809472208843
         ],
         "yaxis": "y"
        },
        {
         "line": {
          "color": "rgb(230, 172, 255.0)"
         },
         "marker": {
          "color": "rgb(230, 172, 255.0)",
          "size": 10
         },
         "mode": "lines+markers",
         "type": "scatter",
         "x": [
          0,
          0.0000658018616377376
         ],
         "xaxis": "x",
         "y": [
          0,
          0.00006491809472208843
         ],
         "yaxis": "y"
        },
        {
         "line": {
          "color": "rgb(230, 172, 255.0)"
         },
         "marker": {
          "color": "rgb(230, 172, 255.0)",
          "size": 10
         },
         "mode": "lines+markers",
         "type": "scatter",
         "x": [
          0,
          0.0000658018616377376
         ],
         "xaxis": "x",
         "y": [
          0,
          0.00006491809472208843
         ],
         "yaxis": "y"
        },
        {
         "line": {
          "color": "rgb(230, 172, 255.0)"
         },
         "marker": {
          "color": "rgb(230, 172, 255.0)",
          "size": 10
         },
         "mode": "lines+markers",
         "type": "scatter",
         "x": [
          0,
          0.0000658018616377376
         ],
         "xaxis": "x",
         "y": [
          0,
          0.00006491809472208843
         ],
         "yaxis": "y"
        },
        {
         "line": {
          "color": "rgb(230, 172, 255.0)"
         },
         "marker": {
          "color": "rgb(230, 172, 255.0)",
          "size": 10
         },
         "mode": "lines+markers",
         "type": "scatter",
         "x": [
          0,
          0.0000658018616377376
         ],
         "xaxis": "x",
         "y": [
          0,
          0.00006491809472208843
         ],
         "yaxis": "y"
        },
        {
         "line": {
          "color": "rgb(230, 172, 255.0)"
         },
         "marker": {
          "color": "rgb(230, 172, 255.0)",
          "size": 10
         },
         "mode": "lines+markers",
         "type": "scatter",
         "x": [
          0,
          0.0000658018616377376
         ],
         "xaxis": "x",
         "y": [
          0,
          0.00006491809472208843
         ],
         "yaxis": "y"
        },
        {
         "line": {
          "color": "rgb(230, 172, 255.0)"
         },
         "marker": {
          "color": "rgb(230, 172, 255.0)",
          "size": 10
         },
         "mode": "lines+markers",
         "type": "scatter",
         "x": [
          0,
          0.0000658018616377376
         ],
         "xaxis": "x",
         "y": [
          0,
          0.00006491809472208843
         ],
         "yaxis": "y"
        },
        {
         "line": {
          "color": "rgb(230, 172, 255.0)"
         },
         "marker": {
          "color": "rgb(230, 172, 255.0)",
          "size": 10
         },
         "mode": "lines+markers",
         "type": "scatter",
         "x": [
          0,
          0.0000658018616377376
         ],
         "xaxis": "x",
         "y": [
          0,
          0.00006491809472208843
         ],
         "yaxis": "y"
        },
        {
         "line": {
          "color": "rgb(230, 172, 255.0)"
         },
         "marker": {
          "color": "rgb(230, 172, 255.0)",
          "size": 10
         },
         "mode": "lines+markers",
         "type": "scatter",
         "x": [
          0,
          0.0000658018616377376
         ],
         "xaxis": "x",
         "y": [
          0,
          0.00006491809472208843
         ],
         "yaxis": "y"
        },
        {
         "line": {
          "color": "rgb(230, 172, 255.0)"
         },
         "marker": {
          "color": "rgb(230, 172, 255.0)",
          "size": 10
         },
         "mode": "lines+markers",
         "type": "scatter",
         "x": [
          0,
          0.0000658018616377376
         ],
         "xaxis": "x",
         "y": [
          0,
          0.00006491809472208843
         ],
         "yaxis": "y"
        },
        {
         "line": {
          "color": "rgb(230, 172, 255.0)"
         },
         "marker": {
          "color": "rgb(230, 172, 255.0)",
          "size": 10
         },
         "mode": "lines+markers",
         "type": "scatter",
         "x": [
          0,
          0.0000658018616377376
         ],
         "xaxis": "x",
         "y": [
          0,
          0.00006491809472208843
         ],
         "yaxis": "y"
        },
        {
         "line": {
          "color": "rgb(230, 172, 255.0)"
         },
         "marker": {
          "color": "rgb(230, 172, 255.0)",
          "size": 10
         },
         "mode": "lines+markers",
         "type": "scatter",
         "x": [
          0,
          0.0000658018616377376
         ],
         "xaxis": "x",
         "y": [
          0,
          0.00006491809472208843
         ],
         "yaxis": "y"
        },
        {
         "line": {
          "color": "rgb(230, 172, 255.0)"
         },
         "marker": {
          "color": "rgb(230, 172, 255.0)",
          "size": 10
         },
         "mode": "lines+markers",
         "type": "scatter",
         "x": [
          0,
          0.0000658018616377376
         ],
         "xaxis": "x",
         "y": [
          0,
          0.00006491809472208843
         ],
         "yaxis": "y"
        },
        {
         "line": {
          "color": "rgb(230, 172, 255.0)"
         },
         "marker": {
          "color": "rgb(230, 172, 255.0)",
          "size": 10
         },
         "mode": "lines+markers",
         "type": "scatter",
         "x": [
          0,
          0.0000658018616377376
         ],
         "xaxis": "x",
         "y": [
          0,
          0.00006491809472208843
         ],
         "yaxis": "y"
        },
        {
         "line": {
          "color": "rgb(230, 172, 255.0)"
         },
         "marker": {
          "color": "rgb(230, 172, 255.0)",
          "size": 10
         },
         "mode": "lines+markers",
         "type": "scatter",
         "x": [
          0,
          0.0000658018616377376
         ],
         "xaxis": "x",
         "y": [
          0,
          0.00006491809472208843
         ],
         "yaxis": "y"
        },
        {
         "line": {
          "color": "rgb(230, 172, 255.0)"
         },
         "marker": {
          "color": "rgb(230, 172, 255.0)",
          "size": 10
         },
         "mode": "lines+markers",
         "type": "scatter",
         "x": [
          0,
          0.0000658018616377376
         ],
         "xaxis": "x",
         "y": [
          0,
          0.00006491809472208843
         ],
         "yaxis": "y"
        },
        {
         "line": {
          "color": "rgb(230, 172, 255.0)"
         },
         "marker": {
          "color": "rgb(230, 172, 255.0)",
          "size": 10
         },
         "mode": "lines+markers",
         "type": "scatter",
         "x": [
          0,
          0.0000658018616377376
         ],
         "xaxis": "x",
         "y": [
          0,
          0.00006491809472208843
         ],
         "yaxis": "y"
        },
        {
         "line": {
          "color": "rgb(230, 172, 255.0)"
         },
         "marker": {
          "color": "rgb(230, 172, 255.0)",
          "size": 10
         },
         "mode": "lines+markers",
         "type": "scatter",
         "x": [
          0,
          0.0000658018616377376
         ],
         "xaxis": "x",
         "y": [
          0,
          0.00006491809472208843
         ],
         "yaxis": "y"
        },
        {
         "line": {
          "color": "rgb(230, 172, 255.0)"
         },
         "marker": {
          "color": "rgb(230, 172, 255.0)",
          "size": 10
         },
         "mode": "lines+markers",
         "type": "scatter",
         "x": [
          0,
          0.0000658018616377376
         ],
         "xaxis": "x",
         "y": [
          0,
          0.00006491809472208843
         ],
         "yaxis": "y"
        },
        {
         "line": {
          "color": "rgb(230, 172, 255.0)"
         },
         "marker": {
          "color": "rgb(230, 172, 255.0)",
          "size": 10
         },
         "mode": "lines+markers",
         "type": "scatter",
         "x": [
          0,
          0.0000658018616377376
         ],
         "xaxis": "x",
         "y": [
          0,
          0.00006491809472208843
         ],
         "yaxis": "y"
        },
        {
         "line": {
          "color": "rgb(230, 172, 255.0)"
         },
         "marker": {
          "color": "rgb(230, 172, 255.0)",
          "size": 10
         },
         "mode": "lines+markers",
         "type": "scatter",
         "x": [
          0,
          0.0000658018616377376
         ],
         "xaxis": "x",
         "y": [
          0,
          0.00006491809472208843
         ],
         "yaxis": "y"
        },
        {
         "line": {
          "color": "rgb(230, 172, 255.0)"
         },
         "marker": {
          "color": "rgb(230, 172, 255.0)",
          "size": 10
         },
         "mode": "lines+markers",
         "type": "scatter",
         "x": [
          0,
          0.0000658018616377376
         ],
         "xaxis": "x",
         "y": [
          0,
          0.00006491809472208843
         ],
         "yaxis": "y"
        },
        {
         "line": {
          "color": "rgb(230, 172, 255.0)"
         },
         "marker": {
          "color": "rgb(230, 172, 255.0)",
          "size": 10
         },
         "mode": "lines+markers",
         "type": "scatter",
         "x": [
          0,
          0.0000658018616377376
         ],
         "xaxis": "x",
         "y": [
          0,
          0.00006491809472208843
         ],
         "yaxis": "y"
        },
        {
         "line": {
          "color": "rgb(230, 172, 255.0)"
         },
         "marker": {
          "color": "rgb(230, 172, 255.0)",
          "size": 10
         },
         "mode": "lines+markers",
         "type": "scatter",
         "x": [
          0,
          0.0000658018616377376
         ],
         "xaxis": "x",
         "y": [
          0,
          0.00006491809472208843
         ],
         "yaxis": "y"
        },
        {
         "line": {
          "color": "rgb(230, 172, 255.0)"
         },
         "marker": {
          "color": "rgb(230, 172, 255.0)",
          "size": 10
         },
         "mode": "lines+markers",
         "type": "scatter",
         "x": [
          0,
          0.0000658018616377376
         ],
         "xaxis": "x",
         "y": [
          0,
          0.00006491809472208843
         ],
         "yaxis": "y"
        },
        {
         "line": {
          "color": "rgb(230, 172, 255.0)"
         },
         "marker": {
          "color": "rgb(230, 172, 255.0)",
          "size": 10
         },
         "mode": "lines+markers",
         "type": "scatter",
         "x": [
          0,
          0.0000658018616377376
         ],
         "xaxis": "x",
         "y": [
          0,
          0.00006491809472208843
         ],
         "yaxis": "y"
        },
        {
         "line": {
          "color": "rgb(230, 172, 255.0)"
         },
         "marker": {
          "color": "rgb(230, 172, 255.0)",
          "size": 10
         },
         "mode": "lines+markers",
         "type": "scatter",
         "x": [
          0,
          0.0000658018616377376
         ],
         "xaxis": "x",
         "y": [
          0,
          0.00006491809472208843
         ],
         "yaxis": "y"
        },
        {
         "line": {
          "color": "rgb(230, 172, 255.0)"
         },
         "marker": {
          "color": "rgb(230, 172, 255.0)",
          "size": 10
         },
         "mode": "lines+markers",
         "type": "scatter",
         "x": [
          0,
          0.0000658018616377376
         ],
         "xaxis": "x",
         "y": [
          0,
          0.00006491809472208843
         ],
         "yaxis": "y"
        },
        {
         "line": {
          "color": "rgb(230, 172, 255.0)"
         },
         "marker": {
          "color": "rgb(230, 172, 255.0)",
          "size": 10
         },
         "mode": "lines+markers",
         "type": "scatter",
         "x": [
          0,
          0.0000658018616377376
         ],
         "xaxis": "x",
         "y": [
          0,
          0.00006491809472208843
         ],
         "yaxis": "y"
        },
        {
         "line": {
          "color": "rgb(230, 172, 255.0)"
         },
         "marker": {
          "color": "rgb(230, 172, 255.0)",
          "size": 10
         },
         "mode": "lines+markers",
         "type": "scatter",
         "x": [
          0,
          0.0000658018616377376
         ],
         "xaxis": "x",
         "y": [
          0,
          0.00006491809472208843
         ],
         "yaxis": "y"
        },
        {
         "line": {
          "color": "rgb(230, 172, 255.0)"
         },
         "marker": {
          "color": "rgb(230, 172, 255.0)",
          "size": 10
         },
         "mode": "lines+markers",
         "type": "scatter",
         "x": [
          0,
          0.0000658018616377376
         ],
         "xaxis": "x",
         "y": [
          0,
          0.00006491809472208843
         ],
         "yaxis": "y"
        },
        {
         "line": {
          "color": "rgb(230, 172, 255.0)"
         },
         "marker": {
          "color": "rgb(230, 172, 255.0)",
          "size": 10
         },
         "mode": "lines+markers",
         "type": "scatter",
         "x": [
          0,
          0.0000658018616377376
         ],
         "xaxis": "x",
         "y": [
          0,
          0.00006491809472208843
         ],
         "yaxis": "y"
        },
        {
         "line": {
          "color": "rgb(230, 172, 255.0)"
         },
         "marker": {
          "color": "rgb(230, 172, 255.0)",
          "size": 10
         },
         "mode": "lines+markers",
         "type": "scatter",
         "x": [
          0,
          0.0000658018616377376
         ],
         "xaxis": "x",
         "y": [
          0,
          0.00006491809472208843
         ],
         "yaxis": "y"
        },
        {
         "line": {
          "color": "rgb(230, 172, 255.0)"
         },
         "marker": {
          "color": "rgb(230, 172, 255.0)",
          "size": 10
         },
         "mode": "lines+markers",
         "type": "scatter",
         "x": [
          0,
          0.0000658018616377376
         ],
         "xaxis": "x",
         "y": [
          0,
          0.00006491809472208843
         ],
         "yaxis": "y"
        },
        {
         "line": {
          "color": "rgb(230, 172, 255.0)"
         },
         "marker": {
          "color": "rgb(230, 172, 255.0)",
          "size": 10
         },
         "mode": "lines+markers",
         "type": "scatter",
         "x": [
          0,
          0.0000658018616377376
         ],
         "xaxis": "x",
         "y": [
          0,
          0.00006491809472208843
         ],
         "yaxis": "y"
        },
        {
         "line": {
          "color": "rgb(230, 172, 255.0)"
         },
         "marker": {
          "color": "rgb(230, 172, 255.0)",
          "size": 10
         },
         "mode": "lines+markers",
         "type": "scatter",
         "x": [
          0,
          0.0000658018616377376
         ],
         "xaxis": "x",
         "y": [
          0,
          0.00006491809472208843
         ],
         "yaxis": "y"
        },
        {
         "line": {
          "color": "rgb(230, 172, 255.0)"
         },
         "marker": {
          "color": "rgb(230, 172, 255.0)",
          "size": 10
         },
         "mode": "lines+markers",
         "type": "scatter",
         "x": [
          0,
          0.0000658018616377376
         ],
         "xaxis": "x",
         "y": [
          0,
          0.00006491809472208843
         ],
         "yaxis": "y"
        },
        {
         "line": {
          "color": "rgb(230, 172, 255.0)"
         },
         "marker": {
          "color": "rgb(230, 172, 255.0)",
          "size": 10
         },
         "mode": "lines+markers",
         "type": "scatter",
         "x": [
          0,
          0.0000658018616377376
         ],
         "xaxis": "x",
         "y": [
          0,
          0.00006491809472208843
         ],
         "yaxis": "y"
        },
        {
         "line": {
          "color": "rgb(230, 172, 255.0)"
         },
         "marker": {
          "color": "rgb(230, 172, 255.0)",
          "size": 10
         },
         "mode": "lines+markers",
         "type": "scatter",
         "x": [
          0,
          0.0000658018616377376
         ],
         "xaxis": "x",
         "y": [
          0,
          0.00006491809472208843
         ],
         "yaxis": "y"
        },
        {
         "line": {
          "color": "rgb(230, 172, 255.0)"
         },
         "marker": {
          "color": "rgb(230, 172, 255.0)",
          "size": 10
         },
         "mode": "lines+markers",
         "type": "scatter",
         "x": [
          0,
          0.0000658018616377376
         ],
         "xaxis": "x",
         "y": [
          0,
          0.00006491809472208843
         ],
         "yaxis": "y"
        },
        {
         "line": {
          "color": "rgb(230, 172, 255.0)"
         },
         "marker": {
          "color": "rgb(230, 172, 255.0)",
          "size": 10
         },
         "mode": "lines+markers",
         "type": "scatter",
         "x": [
          0,
          0.0000658018616377376
         ],
         "xaxis": "x",
         "y": [
          0,
          0.00006491809472208843
         ],
         "yaxis": "y"
        },
        {
         "line": {
          "color": "rgb(230, 172, 255.0)"
         },
         "marker": {
          "color": "rgb(230, 172, 255.0)",
          "size": 10
         },
         "mode": "lines+markers",
         "type": "scatter",
         "x": [
          0,
          0.0000658018616377376
         ],
         "xaxis": "x",
         "y": [
          0,
          0.00006491809472208843
         ],
         "yaxis": "y"
        },
        {
         "line": {
          "color": "rgb(230, 172, 255.0)"
         },
         "marker": {
          "color": "rgb(230, 172, 255.0)",
          "size": 10
         },
         "mode": "lines+markers",
         "type": "scatter",
         "x": [
          0,
          0.0000658018616377376
         ],
         "xaxis": "x",
         "y": [
          0,
          0.00006491809472208843
         ],
         "yaxis": "y"
        },
        {
         "line": {
          "color": "rgb(230, 172, 255.0)"
         },
         "marker": {
          "color": "rgb(230, 172, 255.0)",
          "size": 10
         },
         "mode": "lines+markers",
         "type": "scatter",
         "x": [
          0,
          0.0000658018616377376
         ],
         "xaxis": "x",
         "y": [
          0,
          0.00006491809472208843
         ],
         "yaxis": "y"
        },
        {
         "line": {
          "color": "rgb(230, 172, 255.0)"
         },
         "marker": {
          "color": "rgb(230, 172, 255.0)",
          "size": 10
         },
         "mode": "lines+markers",
         "type": "scatter",
         "x": [
          0,
          0.0000658018616377376
         ],
         "xaxis": "x",
         "y": [
          0,
          0.00006491809472208843
         ],
         "yaxis": "y"
        },
        {
         "line": {
          "color": "rgb(230, 172, 255.0)"
         },
         "marker": {
          "color": "rgb(230, 172, 255.0)",
          "size": 10
         },
         "mode": "lines+markers",
         "type": "scatter",
         "x": [
          0,
          0.0000658018616377376
         ],
         "xaxis": "x",
         "y": [
          0,
          0.00006491809472208843
         ],
         "yaxis": "y"
        },
        {
         "line": {
          "color": "rgb(230, 172, 255.0)"
         },
         "marker": {
          "color": "rgb(230, 172, 255.0)",
          "size": 10
         },
         "mode": "lines+markers",
         "type": "scatter",
         "x": [
          0,
          0.0000658018616377376
         ],
         "xaxis": "x",
         "y": [
          0,
          0.00006491809472208843
         ],
         "yaxis": "y"
        },
        {
         "line": {
          "color": "rgb(230, 172, 255.0)"
         },
         "marker": {
          "color": "rgb(230, 172, 255.0)",
          "size": 10
         },
         "mode": "lines+markers",
         "type": "scatter",
         "x": [
          0,
          0.0000658018616377376
         ],
         "xaxis": "x",
         "y": [
          0,
          0.00006491809472208843
         ],
         "yaxis": "y"
        },
        {
         "line": {
          "color": "rgb(230, 172, 255.0)"
         },
         "marker": {
          "color": "rgb(230, 172, 255.0)",
          "size": 10
         },
         "mode": "lines+markers",
         "type": "scatter",
         "x": [
          0,
          0.0000658018616377376
         ],
         "xaxis": "x",
         "y": [
          0,
          0.00006491809472208843
         ],
         "yaxis": "y"
        },
        {
         "line": {
          "color": "rgb(230, 172, 255.0)"
         },
         "marker": {
          "color": "rgb(230, 172, 255.0)",
          "size": 10
         },
         "mode": "lines+markers",
         "type": "scatter",
         "x": [
          0,
          0.0000658018616377376
         ],
         "xaxis": "x",
         "y": [
          0,
          0.00006491809472208843
         ],
         "yaxis": "y"
        },
        {
         "line": {
          "color": "rgb(230, 172, 255.0)"
         },
         "marker": {
          "color": "rgb(230, 172, 255.0)",
          "size": 10
         },
         "mode": "lines+markers",
         "type": "scatter",
         "x": [
          0,
          0.0000658018616377376
         ],
         "xaxis": "x",
         "y": [
          0,
          0.00006491809472208843
         ],
         "yaxis": "y"
        },
        {
         "line": {
          "color": "rgb(230, 172, 255.0)"
         },
         "marker": {
          "color": "rgb(230, 172, 255.0)",
          "size": 10
         },
         "mode": "lines+markers",
         "type": "scatter",
         "x": [
          0,
          0.0000658018616377376
         ],
         "xaxis": "x",
         "y": [
          0,
          0.00006491809472208843
         ],
         "yaxis": "y"
        },
        {
         "line": {
          "color": "rgb(230, 172, 255.0)"
         },
         "marker": {
          "color": "rgb(230, 172, 255.0)",
          "size": 10
         },
         "mode": "lines+markers",
         "type": "scatter",
         "x": [
          0,
          0.0000658018616377376
         ],
         "xaxis": "x",
         "y": [
          0,
          0.00006491809472208843
         ],
         "yaxis": "y"
        },
        {
         "line": {
          "color": "rgb(230, 172, 255.0)"
         },
         "marker": {
          "color": "rgb(230, 172, 255.0)",
          "size": 10
         },
         "mode": "lines+markers",
         "type": "scatter",
         "x": [
          0,
          0.0000658018616377376
         ],
         "xaxis": "x",
         "y": [
          0,
          0.00006491809472208843
         ],
         "yaxis": "y"
        },
        {
         "line": {
          "color": "rgb(230, 172, 255.0)"
         },
         "marker": {
          "color": "rgb(230, 172, 255.0)",
          "size": 10
         },
         "mode": "lines+markers",
         "type": "scatter",
         "x": [
          0,
          0.0000658018616377376
         ],
         "xaxis": "x",
         "y": [
          0,
          0.00006491809472208843
         ],
         "yaxis": "y"
        },
        {
         "line": {
          "color": "rgb(230, 172, 255.0)"
         },
         "marker": {
          "color": "rgb(230, 172, 255.0)",
          "size": 10
         },
         "mode": "lines+markers",
         "type": "scatter",
         "x": [
          0,
          0.0000658018616377376
         ],
         "xaxis": "x",
         "y": [
          0,
          0.00006491809472208843
         ],
         "yaxis": "y"
        },
        {
         "line": {
          "color": "rgb(230, 172, 255.0)"
         },
         "marker": {
          "color": "rgb(230, 172, 255.0)",
          "size": 10
         },
         "mode": "lines+markers",
         "type": "scatter",
         "x": [
          0,
          0.0000658018616377376
         ],
         "xaxis": "x",
         "y": [
          0,
          0.00006491809472208843
         ],
         "yaxis": "y"
        },
        {
         "line": {
          "color": "rgb(230, 172, 255.0)"
         },
         "marker": {
          "color": "rgb(230, 172, 255.0)",
          "size": 10
         },
         "mode": "lines+markers",
         "type": "scatter",
         "x": [
          0,
          0.0000658018616377376
         ],
         "xaxis": "x",
         "y": [
          0,
          0.00006491809472208843
         ],
         "yaxis": "y"
        },
        {
         "line": {
          "color": "rgb(230, 172, 255.0)"
         },
         "marker": {
          "color": "rgb(230, 172, 255.0)",
          "size": 10
         },
         "mode": "lines+markers",
         "type": "scatter",
         "x": [
          0,
          0.0000658018616377376
         ],
         "xaxis": "x",
         "y": [
          0,
          0.00006491809472208843
         ],
         "yaxis": "y"
        },
        {
         "line": {
          "color": "rgb(230, 172, 255.0)"
         },
         "marker": {
          "color": "rgb(230, 172, 255.0)",
          "size": 10
         },
         "mode": "lines+markers",
         "type": "scatter",
         "x": [
          0,
          0.0000658018616377376
         ],
         "xaxis": "x",
         "y": [
          0,
          0.00006491809472208843
         ],
         "yaxis": "y"
        },
        {
         "line": {
          "color": "rgb(230, 172, 255.0)"
         },
         "marker": {
          "color": "rgb(230, 172, 255.0)",
          "size": 10
         },
         "mode": "lines+markers",
         "type": "scatter",
         "x": [
          0,
          0.0000658018616377376
         ],
         "xaxis": "x",
         "y": [
          0,
          0.00006491809472208843
         ],
         "yaxis": "y"
        },
        {
         "line": {
          "color": "rgb(230, 172, 255.0)"
         },
         "marker": {
          "color": "rgb(230, 172, 255.0)",
          "size": 10
         },
         "mode": "lines+markers",
         "type": "scatter",
         "x": [
          0,
          0.0000658018616377376
         ],
         "xaxis": "x",
         "y": [
          0,
          0.00006491809472208843
         ],
         "yaxis": "y"
        },
        {
         "line": {
          "color": "rgb(230, 172, 255.0)"
         },
         "marker": {
          "color": "rgb(230, 172, 255.0)",
          "size": 10
         },
         "mode": "lines+markers",
         "type": "scatter",
         "x": [
          0,
          0.0000658018616377376
         ],
         "xaxis": "x",
         "y": [
          0,
          0.00006491809472208843
         ],
         "yaxis": "y"
        },
        {
         "line": {
          "color": "rgb(230, 172, 255.0)"
         },
         "marker": {
          "color": "rgb(230, 172, 255.0)",
          "size": 10
         },
         "mode": "lines+markers",
         "type": "scatter",
         "x": [
          0,
          0.0000658018616377376
         ],
         "xaxis": "x",
         "y": [
          0,
          0.00006491809472208843
         ],
         "yaxis": "y"
        },
        {
         "line": {
          "color": "rgb(230, 172, 255.0)"
         },
         "marker": {
          "color": "rgb(230, 172, 255.0)",
          "size": 10
         },
         "mode": "lines+markers",
         "type": "scatter",
         "x": [
          0,
          0.0000658018616377376
         ],
         "xaxis": "x",
         "y": [
          0,
          0.00006491809472208843
         ],
         "yaxis": "y"
        },
        {
         "line": {
          "color": "rgb(230, 172, 255.0)"
         },
         "marker": {
          "color": "rgb(230, 172, 255.0)",
          "size": 10
         },
         "mode": "lines+markers",
         "type": "scatter",
         "x": [
          0,
          0.0000658018616377376
         ],
         "xaxis": "x",
         "y": [
          0,
          0.00006491809472208843
         ],
         "yaxis": "y"
        },
        {
         "line": {
          "color": "rgb(230, 172, 255.0)"
         },
         "marker": {
          "color": "rgb(230, 172, 255.0)",
          "size": 10
         },
         "mode": "lines+markers",
         "type": "scatter",
         "x": [
          0,
          0.0000658018616377376
         ],
         "xaxis": "x",
         "y": [
          0,
          0.00006491809472208843
         ],
         "yaxis": "y"
        },
        {
         "line": {
          "color": "rgb(230, 172, 255.0)"
         },
         "marker": {
          "color": "rgb(230, 172, 255.0)",
          "size": 10
         },
         "mode": "lines+markers",
         "type": "scatter",
         "x": [
          0,
          0.0000658018616377376
         ],
         "xaxis": "x",
         "y": [
          0,
          0.00006491809472208843
         ],
         "yaxis": "y"
        },
        {
         "line": {
          "color": "rgb(230, 172, 255.0)"
         },
         "marker": {
          "color": "rgb(230, 172, 255.0)",
          "size": 10
         },
         "mode": "lines+markers",
         "type": "scatter",
         "x": [
          0,
          0.0000658018616377376
         ],
         "xaxis": "x",
         "y": [
          0,
          0.00006491809472208843
         ],
         "yaxis": "y"
        },
        {
         "line": {
          "color": "rgb(230, 172, 255.0)"
         },
         "marker": {
          "color": "rgb(230, 172, 255.0)",
          "size": 10
         },
         "mode": "lines+markers",
         "type": "scatter",
         "x": [
          0,
          0.0000658018616377376
         ],
         "xaxis": "x",
         "y": [
          0,
          0.00006491809472208843
         ],
         "yaxis": "y"
        },
        {
         "line": {
          "color": "rgb(230, 172, 255.0)"
         },
         "marker": {
          "color": "rgb(230, 172, 255.0)",
          "size": 10
         },
         "mode": "lines+markers",
         "type": "scatter",
         "x": [
          0,
          0.0000658018616377376
         ],
         "xaxis": "x",
         "y": [
          0,
          0.00006491809472208843
         ],
         "yaxis": "y"
        },
        {
         "line": {
          "color": "rgb(230, 172, 255.0)"
         },
         "marker": {
          "color": "rgb(230, 172, 255.0)",
          "size": 10
         },
         "mode": "lines+markers",
         "type": "scatter",
         "x": [
          0,
          0.0000658018616377376
         ],
         "xaxis": "x",
         "y": [
          0,
          0.00006491809472208843
         ],
         "yaxis": "y"
        },
        {
         "line": {
          "color": "rgb(230, 172, 255.0)"
         },
         "marker": {
          "color": "rgb(230, 172, 255.0)",
          "size": 10
         },
         "mode": "lines+markers",
         "type": "scatter",
         "x": [
          0,
          0.0000658018616377376
         ],
         "xaxis": "x",
         "y": [
          0,
          0.00006491809472208843
         ],
         "yaxis": "y"
        },
        {
         "line": {
          "color": "rgb(230, 172, 255.0)"
         },
         "marker": {
          "color": "rgb(230, 172, 255.0)",
          "size": 10
         },
         "mode": "lines+markers",
         "type": "scatter",
         "x": [
          0,
          0.0000658018616377376
         ],
         "xaxis": "x",
         "y": [
          0,
          0.00006491809472208843
         ],
         "yaxis": "y"
        },
        {
         "line": {
          "color": "rgb(230, 172, 255.0)"
         },
         "marker": {
          "color": "rgb(230, 172, 255.0)",
          "size": 10
         },
         "mode": "lines+markers",
         "type": "scatter",
         "x": [
          0,
          0.0000658018616377376
         ],
         "xaxis": "x",
         "y": [
          0,
          0.00006491809472208843
         ],
         "yaxis": "y"
        },
        {
         "line": {
          "color": "rgb(230, 172, 255.0)"
         },
         "marker": {
          "color": "rgb(230, 172, 255.0)",
          "size": 10
         },
         "mode": "lines+markers",
         "type": "scatter",
         "x": [
          0,
          0.0000658018616377376
         ],
         "xaxis": "x",
         "y": [
          0,
          0.00006491809472208843
         ],
         "yaxis": "y"
        },
        {
         "line": {
          "color": "rgb(230, 172, 255.0)"
         },
         "marker": {
          "color": "rgb(230, 172, 255.0)",
          "size": 10
         },
         "mode": "lines+markers",
         "type": "scatter",
         "x": [
          0,
          0.0000658018616377376
         ],
         "xaxis": "x",
         "y": [
          0,
          0.00006491809472208843
         ],
         "yaxis": "y"
        },
        {
         "line": {
          "color": "rgb(230, 172, 255.0)"
         },
         "marker": {
          "color": "rgb(230, 172, 255.0)",
          "size": 10
         },
         "mode": "lines+markers",
         "type": "scatter",
         "x": [
          0,
          0.0000658018616377376
         ],
         "xaxis": "x",
         "y": [
          0,
          0.00006491809472208843
         ],
         "yaxis": "y"
        },
        {
         "line": {
          "color": "rgb(230, 172, 255.0)"
         },
         "marker": {
          "color": "rgb(230, 172, 255.0)",
          "size": 10
         },
         "mode": "lines+markers",
         "type": "scatter",
         "x": [
          0,
          0.0000658018616377376
         ],
         "xaxis": "x",
         "y": [
          0,
          0.00006491809472208843
         ],
         "yaxis": "y"
        },
        {
         "line": {
          "color": "rgb(230, 172, 255.0)"
         },
         "marker": {
          "color": "rgb(230, 172, 255.0)",
          "size": 10
         },
         "mode": "lines+markers",
         "type": "scatter",
         "x": [
          0,
          0.0000658018616377376
         ],
         "xaxis": "x",
         "y": [
          0,
          0.00006491809472208843
         ],
         "yaxis": "y"
        },
        {
         "line": {
          "color": "rgb(230, 172, 255.0)"
         },
         "marker": {
          "color": "rgb(230, 172, 255.0)",
          "size": 10
         },
         "mode": "lines+markers",
         "type": "scatter",
         "x": [
          0,
          0.0000658018616377376
         ],
         "xaxis": "x",
         "y": [
          0,
          0.00006491809472208843
         ],
         "yaxis": "y"
        },
        {
         "line": {
          "color": "rgb(230, 172, 255.0)"
         },
         "marker": {
          "color": "rgb(230, 172, 255.0)",
          "size": 10
         },
         "mode": "lines+markers",
         "type": "scatter",
         "x": [
          0,
          0.0000658018616377376
         ],
         "xaxis": "x",
         "y": [
          0,
          0.00006491809472208843
         ],
         "yaxis": "y"
        },
        {
         "line": {
          "color": "rgb(230, 172, 255.0)"
         },
         "marker": {
          "color": "rgb(230, 172, 255.0)",
          "size": 10
         },
         "mode": "lines+markers",
         "type": "scatter",
         "x": [
          0,
          0.0000658018616377376
         ],
         "xaxis": "x",
         "y": [
          0,
          0.00006491809472208843
         ],
         "yaxis": "y"
        },
        {
         "line": {
          "color": "rgb(230, 172, 255.0)"
         },
         "marker": {
          "color": "rgb(230, 172, 255.0)",
          "size": 10
         },
         "mode": "lines+markers",
         "type": "scatter",
         "x": [
          0,
          0.0000658018616377376
         ],
         "xaxis": "x",
         "y": [
          0,
          0.00006491809472208843
         ],
         "yaxis": "y"
        },
        {
         "line": {
          "color": "rgb(230, 172, 255.0)"
         },
         "marker": {
          "color": "rgb(230, 172, 255.0)",
          "size": 10
         },
         "mode": "lines+markers",
         "type": "scatter",
         "x": [
          0,
          0.0000658018616377376
         ],
         "xaxis": "x",
         "y": [
          0,
          0.00006491809472208843
         ],
         "yaxis": "y"
        },
        {
         "line": {
          "color": "rgb(230, 172, 255.0)"
         },
         "marker": {
          "color": "rgb(230, 172, 255.0)",
          "size": 10
         },
         "mode": "lines+markers",
         "type": "scatter",
         "x": [
          0,
          0.0000658018616377376
         ],
         "xaxis": "x",
         "y": [
          0,
          0.00006491809472208843
         ],
         "yaxis": "y"
        },
        {
         "line": {
          "color": "rgb(230, 172, 255.0)"
         },
         "marker": {
          "color": "rgb(230, 172, 255.0)",
          "size": 10
         },
         "mode": "lines+markers",
         "type": "scatter",
         "x": [
          0,
          0.0000658018616377376
         ],
         "xaxis": "x",
         "y": [
          0,
          0.00006491809472208843
         ],
         "yaxis": "y"
        },
        {
         "line": {
          "color": "rgb(230, 172, 255.0)"
         },
         "marker": {
          "color": "rgb(230, 172, 255.0)",
          "size": 10
         },
         "mode": "lines+markers",
         "type": "scatter",
         "x": [
          0,
          0.0000658018616377376
         ],
         "xaxis": "x",
         "y": [
          0,
          0.00006491809472208843
         ],
         "yaxis": "y"
        },
        {
         "line": {
          "color": "rgb(230, 172, 255.0)"
         },
         "marker": {
          "color": "rgb(230, 172, 255.0)",
          "size": 10
         },
         "mode": "lines+markers",
         "type": "scatter",
         "x": [
          0,
          0.0000658018616377376
         ],
         "xaxis": "x",
         "y": [
          0,
          0.00006491809472208843
         ],
         "yaxis": "y"
        },
        {
         "line": {
          "color": "rgb(230, 172, 255.0)"
         },
         "marker": {
          "color": "rgb(230, 172, 255.0)",
          "size": 10
         },
         "mode": "lines+markers",
         "type": "scatter",
         "x": [
          0,
          0.0000658018616377376
         ],
         "xaxis": "x",
         "y": [
          0,
          0.00006491809472208843
         ],
         "yaxis": "y"
        },
        {
         "line": {
          "color": "rgb(230, 172, 255.0)"
         },
         "marker": {
          "color": "rgb(230, 172, 255.0)",
          "size": 10
         },
         "mode": "lines+markers",
         "type": "scatter",
         "x": [
          0,
          0.0000658018616377376
         ],
         "xaxis": "x",
         "y": [
          0,
          0.00006491809472208843
         ],
         "yaxis": "y"
        },
        {
         "line": {
          "color": "rgb(230, 172, 255.0)"
         },
         "marker": {
          "color": "rgb(230, 172, 255.0)",
          "size": 10
         },
         "mode": "lines+markers",
         "type": "scatter",
         "x": [
          0,
          0.0000658018616377376
         ],
         "xaxis": "x",
         "y": [
          0,
          0.00006491809472208843
         ],
         "yaxis": "y"
        },
        {
         "line": {
          "color": "rgb(230, 172, 255.0)"
         },
         "marker": {
          "color": "rgb(230, 172, 255.0)",
          "size": 10
         },
         "mode": "lines+markers",
         "type": "scatter",
         "x": [
          0,
          0.0000658018616377376
         ],
         "xaxis": "x",
         "y": [
          0,
          0.00006491809472208843
         ],
         "yaxis": "y"
        },
        {
         "line": {
          "color": "rgb(230, 172, 255.0)"
         },
         "marker": {
          "color": "rgb(230, 172, 255.0)",
          "size": 10
         },
         "mode": "lines+markers",
         "type": "scatter",
         "x": [
          0,
          0.0000658018616377376
         ],
         "xaxis": "x",
         "y": [
          0,
          0.00006491809472208843
         ],
         "yaxis": "y"
        },
        {
         "line": {
          "color": "rgb(230, 172, 255.0)"
         },
         "marker": {
          "color": "rgb(230, 172, 255.0)",
          "size": 10
         },
         "mode": "lines+markers",
         "type": "scatter",
         "x": [
          0,
          0.0000658018616377376
         ],
         "xaxis": "x",
         "y": [
          0,
          0.00006491809472208843
         ],
         "yaxis": "y"
        },
        {
         "line": {
          "color": "rgb(230, 172, 255.0)"
         },
         "marker": {
          "color": "rgb(230, 172, 255.0)",
          "size": 10
         },
         "mode": "lines+markers",
         "type": "scatter",
         "x": [
          0,
          0.0000658018616377376
         ],
         "xaxis": "x",
         "y": [
          0,
          0.00006491809472208843
         ],
         "yaxis": "y"
        },
        {
         "line": {
          "color": "rgb(230, 172, 255.0)"
         },
         "marker": {
          "color": "rgb(230, 172, 255.0)",
          "size": 10
         },
         "mode": "lines+markers",
         "type": "scatter",
         "x": [
          0,
          0.0000658018616377376
         ],
         "xaxis": "x",
         "y": [
          0,
          0.00006491809472208843
         ],
         "yaxis": "y"
        },
        {
         "line": {
          "color": "rgb(230, 172, 255.0)"
         },
         "marker": {
          "color": "rgb(230, 172, 255.0)",
          "size": 10
         },
         "mode": "lines+markers",
         "type": "scatter",
         "x": [
          0,
          0.0000658018616377376
         ],
         "xaxis": "x",
         "y": [
          0,
          0.00006491809472208843
         ],
         "yaxis": "y"
        },
        {
         "line": {
          "color": "rgb(230, 172, 255.0)"
         },
         "marker": {
          "color": "rgb(230, 172, 255.0)",
          "size": 10
         },
         "mode": "lines+markers",
         "type": "scatter",
         "x": [
          0,
          0.0000658018616377376
         ],
         "xaxis": "x",
         "y": [
          0,
          0.00006491809472208843
         ],
         "yaxis": "y"
        },
        {
         "line": {
          "color": "rgb(230, 172, 255.0)"
         },
         "marker": {
          "color": "rgb(230, 172, 255.0)",
          "size": 10
         },
         "mode": "lines+markers",
         "type": "scatter",
         "x": [
          0,
          0.0000658018616377376
         ],
         "xaxis": "x",
         "y": [
          0,
          0.00006491809472208843
         ],
         "yaxis": "y"
        },
        {
         "line": {
          "color": "rgb(230, 172, 255.0)"
         },
         "marker": {
          "color": "rgb(230, 172, 255.0)",
          "size": 10
         },
         "mode": "lines+markers",
         "type": "scatter",
         "x": [
          0,
          0.0000658018616377376
         ],
         "xaxis": "x",
         "y": [
          0,
          0.00006491809472208843
         ],
         "yaxis": "y"
        },
        {
         "line": {
          "color": "rgb(230, 172, 255.0)"
         },
         "marker": {
          "color": "rgb(230, 172, 255.0)",
          "size": 10
         },
         "mode": "lines+markers",
         "type": "scatter",
         "x": [
          0,
          0.0000658018616377376
         ],
         "xaxis": "x",
         "y": [
          0,
          0.00006491809472208843
         ],
         "yaxis": "y"
        },
        {
         "line": {
          "color": "rgb(230, 172, 255.0)"
         },
         "marker": {
          "color": "rgb(230, 172, 255.0)",
          "size": 10
         },
         "mode": "lines+markers",
         "type": "scatter",
         "x": [
          0,
          0.0000658018616377376
         ],
         "xaxis": "x",
         "y": [
          0,
          0.00006491809472208843
         ],
         "yaxis": "y"
        },
        {
         "line": {
          "color": "rgb(230, 172, 255.0)"
         },
         "marker": {
          "color": "rgb(230, 172, 255.0)",
          "size": 10
         },
         "mode": "lines+markers",
         "type": "scatter",
         "x": [
          0,
          0.0000658018616377376
         ],
         "xaxis": "x",
         "y": [
          0,
          0.00006491809472208843
         ],
         "yaxis": "y"
        },
        {
         "line": {
          "color": "rgb(230, 172, 255.0)"
         },
         "marker": {
          "color": "rgb(230, 172, 255.0)",
          "size": 10
         },
         "mode": "lines+markers",
         "type": "scatter",
         "x": [
          0,
          0.0000658018616377376
         ],
         "xaxis": "x",
         "y": [
          0,
          0.00006491809472208843
         ],
         "yaxis": "y"
        },
        {
         "line": {
          "color": "rgb(230, 172, 255.0)"
         },
         "marker": {
          "color": "rgb(230, 172, 255.0)",
          "size": 10
         },
         "mode": "lines+markers",
         "type": "scatter",
         "x": [
          0,
          0.0000658018616377376
         ],
         "xaxis": "x",
         "y": [
          0,
          0.00006491809472208843
         ],
         "yaxis": "y"
        },
        {
         "line": {
          "color": "rgb(230, 172, 255.0)"
         },
         "marker": {
          "color": "rgb(230, 172, 255.0)",
          "size": 10
         },
         "mode": "lines+markers",
         "type": "scatter",
         "x": [
          0,
          0.0000658018616377376
         ],
         "xaxis": "x",
         "y": [
          0,
          0.00006491809472208843
         ],
         "yaxis": "y"
        },
        {
         "line": {
          "color": "rgb(230, 172, 255.0)"
         },
         "marker": {
          "color": "rgb(230, 172, 255.0)",
          "size": 10
         },
         "mode": "lines+markers",
         "type": "scatter",
         "x": [
          0,
          0.0000658018616377376
         ],
         "xaxis": "x",
         "y": [
          0,
          0.00006491809472208843
         ],
         "yaxis": "y"
        },
        {
         "line": {
          "color": "rgb(230, 172, 255.0)"
         },
         "marker": {
          "color": "rgb(230, 172, 255.0)",
          "size": 10
         },
         "mode": "lines+markers",
         "type": "scatter",
         "x": [
          0,
          0.0000658018616377376
         ],
         "xaxis": "x",
         "y": [
          0,
          0.00006491809472208843
         ],
         "yaxis": "y"
        },
        {
         "line": {
          "color": "rgb(230, 172, 255.0)"
         },
         "marker": {
          "color": "rgb(230, 172, 255.0)",
          "size": 10
         },
         "mode": "lines+markers",
         "type": "scatter",
         "x": [
          0,
          0.0000658018616377376
         ],
         "xaxis": "x",
         "y": [
          0,
          0.00006491809472208843
         ],
         "yaxis": "y"
        },
        {
         "line": {
          "color": "rgb(230, 172, 255.0)"
         },
         "marker": {
          "color": "rgb(230, 172, 255.0)",
          "size": 10
         },
         "mode": "lines+markers",
         "type": "scatter",
         "x": [
          0,
          0.0000658018616377376
         ],
         "xaxis": "x",
         "y": [
          0,
          0.00006491809472208843
         ],
         "yaxis": "y"
        },
        {
         "line": {
          "color": "rgb(230, 172, 255.0)"
         },
         "marker": {
          "color": "rgb(230, 172, 255.0)",
          "size": 10
         },
         "mode": "lines+markers",
         "type": "scatter",
         "x": [
          0,
          0.0000658018616377376
         ],
         "xaxis": "x",
         "y": [
          0,
          0.00006491809472208843
         ],
         "yaxis": "y"
        },
        {
         "line": {
          "color": "rgb(230, 172, 255.0)"
         },
         "marker": {
          "color": "rgb(230, 172, 255.0)",
          "size": 10
         },
         "mode": "lines+markers",
         "type": "scatter",
         "x": [
          0,
          0.0000658018616377376
         ],
         "xaxis": "x",
         "y": [
          0,
          0.00006491809472208843
         ],
         "yaxis": "y"
        },
        {
         "line": {
          "color": "rgb(230, 172, 255.0)"
         },
         "marker": {
          "color": "rgb(230, 172, 255.0)",
          "size": 10
         },
         "mode": "lines+markers",
         "type": "scatter",
         "x": [
          0,
          0.0000658018616377376
         ],
         "xaxis": "x",
         "y": [
          0,
          0.00006491809472208843
         ],
         "yaxis": "y"
        },
        {
         "line": {
          "color": "rgb(230, 172, 255.0)"
         },
         "marker": {
          "color": "rgb(230, 172, 255.0)",
          "size": 10
         },
         "mode": "lines+markers",
         "type": "scatter",
         "x": [
          0,
          0.0000658018616377376
         ],
         "xaxis": "x",
         "y": [
          0,
          0.00006491809472208843
         ],
         "yaxis": "y"
        },
        {
         "line": {
          "color": "rgb(230, 172, 255.0)"
         },
         "marker": {
          "color": "rgb(230, 172, 255.0)",
          "size": 10
         },
         "mode": "lines+markers",
         "type": "scatter",
         "x": [
          0,
          0.0000658018616377376
         ],
         "xaxis": "x",
         "y": [
          0,
          0.00006491809472208843
         ],
         "yaxis": "y"
        },
        {
         "line": {
          "color": "rgb(230, 172, 255.0)"
         },
         "marker": {
          "color": "rgb(230, 172, 255.0)",
          "size": 10
         },
         "mode": "lines+markers",
         "type": "scatter",
         "x": [
          0,
          0.0000658018616377376
         ],
         "xaxis": "x",
         "y": [
          0,
          0.00006491809472208843
         ],
         "yaxis": "y"
        },
        {
         "line": {
          "color": "rgb(230, 172, 255.0)"
         },
         "marker": {
          "color": "rgb(230, 172, 255.0)",
          "size": 10
         },
         "mode": "lines+markers",
         "type": "scatter",
         "x": [
          0,
          0.0000658018616377376
         ],
         "xaxis": "x",
         "y": [
          0,
          0.00006491809472208843
         ],
         "yaxis": "y"
        },
        {
         "line": {
          "color": "rgb(230, 172, 255.0)"
         },
         "marker": {
          "color": "rgb(230, 172, 255.0)",
          "size": 10
         },
         "mode": "lines+markers",
         "type": "scatter",
         "x": [
          0,
          0.0000658018616377376
         ],
         "xaxis": "x",
         "y": [
          0,
          0.00006491809472208843
         ],
         "yaxis": "y"
        },
        {
         "line": {
          "color": "rgb(230, 172, 255.0)"
         },
         "marker": {
          "color": "rgb(230, 172, 255.0)",
          "size": 10
         },
         "mode": "lines+markers",
         "type": "scatter",
         "x": [
          0,
          0.0000658018616377376
         ],
         "xaxis": "x",
         "y": [
          0,
          0.00006491809472208843
         ],
         "yaxis": "y"
        },
        {
         "line": {
          "color": "rgb(230, 172, 255.0)"
         },
         "marker": {
          "color": "rgb(230, 172, 255.0)",
          "size": 10
         },
         "mode": "lines+markers",
         "type": "scatter",
         "x": [
          0,
          0.0000658018616377376
         ],
         "xaxis": "x",
         "y": [
          0,
          0.00006491809472208843
         ],
         "yaxis": "y"
        },
        {
         "line": {
          "color": "rgb(230, 172, 255.0)"
         },
         "marker": {
          "color": "rgb(230, 172, 255.0)",
          "size": 10
         },
         "mode": "lines+markers",
         "type": "scatter",
         "x": [
          0,
          0.0000658018616377376
         ],
         "xaxis": "x",
         "y": [
          0,
          0.00006491809472208843
         ],
         "yaxis": "y"
        },
        {
         "line": {
          "color": "rgb(230, 172, 255.0)"
         },
         "marker": {
          "color": "rgb(230, 172, 255.0)",
          "size": 10
         },
         "mode": "lines+markers",
         "type": "scatter",
         "x": [
          0,
          0.0000658018616377376
         ],
         "xaxis": "x",
         "y": [
          0,
          0.00006491809472208843
         ],
         "yaxis": "y"
        },
        {
         "line": {
          "color": "rgb(230, 172, 255.0)"
         },
         "marker": {
          "color": "rgb(230, 172, 255.0)",
          "size": 10
         },
         "mode": "lines+markers",
         "type": "scatter",
         "x": [
          0,
          0.0000658018616377376
         ],
         "xaxis": "x",
         "y": [
          0,
          0.00006491809472208843
         ],
         "yaxis": "y"
        },
        {
         "line": {
          "color": "rgb(230, 172, 255.0)"
         },
         "marker": {
          "color": "rgb(230, 172, 255.0)",
          "size": 10
         },
         "mode": "lines+markers",
         "type": "scatter",
         "x": [
          0,
          0.0000658018616377376
         ],
         "xaxis": "x",
         "y": [
          0,
          0.00006491809472208843
         ],
         "yaxis": "y"
        },
        {
         "line": {
          "color": "rgb(230, 172, 255.0)"
         },
         "marker": {
          "color": "rgb(230, 172, 255.0)",
          "size": 10
         },
         "mode": "lines+markers",
         "type": "scatter",
         "x": [
          0,
          0.0000658018616377376
         ],
         "xaxis": "x",
         "y": [
          0,
          0.00006491809472208843
         ],
         "yaxis": "y"
        },
        {
         "line": {
          "color": "rgb(230, 172, 255.0)"
         },
         "marker": {
          "color": "rgb(230, 172, 255.0)",
          "size": 10
         },
         "mode": "lines+markers",
         "type": "scatter",
         "x": [
          0,
          0.0000658018616377376
         ],
         "xaxis": "x",
         "y": [
          0,
          0.00006491809472208843
         ],
         "yaxis": "y"
        },
        {
         "line": {
          "color": "rgb(230, 172, 255.0)"
         },
         "marker": {
          "color": "rgb(230, 172, 255.0)",
          "size": 10
         },
         "mode": "lines+markers",
         "type": "scatter",
         "x": [
          0,
          0.0000658018616377376
         ],
         "xaxis": "x",
         "y": [
          0,
          0.00006491809472208843
         ],
         "yaxis": "y"
        },
        {
         "line": {
          "color": "rgb(230, 172, 255.0)"
         },
         "marker": {
          "color": "rgb(230, 172, 255.0)",
          "size": 10
         },
         "mode": "lines+markers",
         "type": "scatter",
         "x": [
          0,
          0.0000658018616377376
         ],
         "xaxis": "x",
         "y": [
          0,
          0.00006491809472208843
         ],
         "yaxis": "y"
        },
        {
         "line": {
          "color": "rgb(230, 172, 255.0)"
         },
         "marker": {
          "color": "rgb(230, 172, 255.0)",
          "size": 10
         },
         "mode": "lines+markers",
         "type": "scatter",
         "x": [
          0,
          0.0000658018616377376
         ],
         "xaxis": "x",
         "y": [
          0,
          0.00006491809472208843
         ],
         "yaxis": "y"
        },
        {
         "line": {
          "color": "rgb(230, 172, 255.0)"
         },
         "marker": {
          "color": "rgb(230, 172, 255.0)",
          "size": 10
         },
         "mode": "lines+markers",
         "type": "scatter",
         "x": [
          0,
          0.0000658018616377376
         ],
         "xaxis": "x",
         "y": [
          0,
          0.00006491809472208843
         ],
         "yaxis": "y"
        },
        {
         "line": {
          "color": "rgb(230, 172, 255.0)"
         },
         "marker": {
          "color": "rgb(230, 172, 255.0)",
          "size": 10
         },
         "mode": "lines+markers",
         "type": "scatter",
         "x": [
          0,
          0.0000658018616377376
         ],
         "xaxis": "x",
         "y": [
          0,
          0.00006491809472208843
         ],
         "yaxis": "y"
        },
        {
         "line": {
          "color": "rgb(230, 172, 255.0)"
         },
         "marker": {
          "color": "rgb(230, 172, 255.0)",
          "size": 10
         },
         "mode": "lines+markers",
         "type": "scatter",
         "x": [
          0,
          0.0000658018616377376
         ],
         "xaxis": "x",
         "y": [
          0,
          0.00006491809472208843
         ],
         "yaxis": "y"
        },
        {
         "line": {
          "color": "rgb(230, 172, 255.0)"
         },
         "marker": {
          "color": "rgb(230, 172, 255.0)",
          "size": 10
         },
         "mode": "lines+markers",
         "type": "scatter",
         "x": [
          0,
          0.0000658018616377376
         ],
         "xaxis": "x",
         "y": [
          0,
          0.00006491809472208843
         ],
         "yaxis": "y"
        },
        {
         "line": {
          "color": "rgb(230, 172, 255.0)"
         },
         "marker": {
          "color": "rgb(230, 172, 255.0)",
          "size": 10
         },
         "mode": "lines+markers",
         "type": "scatter",
         "x": [
          0,
          0.0000658018616377376
         ],
         "xaxis": "x",
         "y": [
          0,
          0.00006491809472208843
         ],
         "yaxis": "y"
        },
        {
         "line": {
          "color": "rgb(230, 172, 255.0)"
         },
         "marker": {
          "color": "rgb(230, 172, 255.0)",
          "size": 10
         },
         "mode": "lines+markers",
         "type": "scatter",
         "x": [
          0,
          0.0000658018616377376
         ],
         "xaxis": "x",
         "y": [
          0,
          0.00006491809472208843
         ],
         "yaxis": "y"
        },
        {
         "line": {
          "color": "rgb(230, 172, 255.0)"
         },
         "marker": {
          "color": "rgb(230, 172, 255.0)",
          "size": 10
         },
         "mode": "lines+markers",
         "type": "scatter",
         "x": [
          0,
          0.0000658018616377376
         ],
         "xaxis": "x",
         "y": [
          0,
          0.00006491809472208843
         ],
         "yaxis": "y"
        },
        {
         "line": {
          "color": "rgb(230, 172, 255.0)"
         },
         "marker": {
          "color": "rgb(230, 172, 255.0)",
          "size": 10
         },
         "mode": "lines+markers",
         "type": "scatter",
         "x": [
          0,
          0.0000658018616377376
         ],
         "xaxis": "x",
         "y": [
          0,
          0.00006491809472208843
         ],
         "yaxis": "y"
        },
        {
         "line": {
          "color": "rgb(230, 172, 255.0)"
         },
         "marker": {
          "color": "rgb(230, 172, 255.0)",
          "size": 10
         },
         "mode": "lines+markers",
         "type": "scatter",
         "x": [
          0,
          0.0000658018616377376
         ],
         "xaxis": "x",
         "y": [
          0,
          0.00006491809472208843
         ],
         "yaxis": "y"
        },
        {
         "line": {
          "color": "rgb(230, 172, 255.0)"
         },
         "marker": {
          "color": "rgb(230, 172, 255.0)",
          "size": 10
         },
         "mode": "lines+markers",
         "type": "scatter",
         "x": [
          0,
          0.0000658018616377376
         ],
         "xaxis": "x",
         "y": [
          0,
          0.00006491809472208843
         ],
         "yaxis": "y"
        },
        {
         "line": {
          "color": "rgb(230, 172, 255.0)"
         },
         "marker": {
          "color": "rgb(230, 172, 255.0)",
          "size": 10
         },
         "mode": "lines+markers",
         "type": "scatter",
         "x": [
          0,
          0.0000658018616377376
         ],
         "xaxis": "x",
         "y": [
          0,
          0.00006491809472208843
         ],
         "yaxis": "y"
        },
        {
         "line": {
          "color": "rgb(230, 172, 255.0)"
         },
         "marker": {
          "color": "rgb(230, 172, 255.0)",
          "size": 10
         },
         "mode": "lines+markers",
         "type": "scatter",
         "x": [
          0,
          0.0000658018616377376
         ],
         "xaxis": "x",
         "y": [
          0,
          0.00006491809472208843
         ],
         "yaxis": "y"
        },
        {
         "line": {
          "color": "rgb(230, 172, 255.0)"
         },
         "marker": {
          "color": "rgb(230, 172, 255.0)",
          "size": 10
         },
         "mode": "lines+markers",
         "type": "scatter",
         "x": [
          0,
          0.0000658018616377376
         ],
         "xaxis": "x",
         "y": [
          0,
          0.00006491809472208843
         ],
         "yaxis": "y"
        },
        {
         "line": {
          "color": "rgb(230, 172, 255.0)"
         },
         "marker": {
          "color": "rgb(230, 172, 255.0)",
          "size": 10
         },
         "mode": "lines+markers",
         "type": "scatter",
         "x": [
          0,
          0.0000658018616377376
         ],
         "xaxis": "x",
         "y": [
          0,
          0.00006491809472208843
         ],
         "yaxis": "y"
        },
        {
         "line": {
          "color": "rgb(230, 172, 255.0)"
         },
         "marker": {
          "color": "rgb(230, 172, 255.0)",
          "size": 10
         },
         "mode": "lines+markers",
         "type": "scatter",
         "x": [
          0,
          0.0000658018616377376
         ],
         "xaxis": "x",
         "y": [
          0,
          0.00006491809472208843
         ],
         "yaxis": "y"
        },
        {
         "line": {
          "color": "rgb(230, 172, 255.0)"
         },
         "marker": {
          "color": "rgb(230, 172, 255.0)",
          "size": 10
         },
         "mode": "lines+markers",
         "type": "scatter",
         "x": [
          0,
          0.0000658018616377376
         ],
         "xaxis": "x",
         "y": [
          0,
          0.00006491809472208843
         ],
         "yaxis": "y"
        },
        {
         "line": {
          "color": "rgb(230, 172, 255.0)"
         },
         "marker": {
          "color": "rgb(230, 172, 255.0)",
          "size": 10
         },
         "mode": "lines+markers",
         "type": "scatter",
         "x": [
          0,
          0.0000658018616377376
         ],
         "xaxis": "x",
         "y": [
          0,
          0.00006491809472208843
         ],
         "yaxis": "y"
        },
        {
         "line": {
          "color": "rgb(230, 172, 255.0)"
         },
         "marker": {
          "color": "rgb(230, 172, 255.0)",
          "size": 10
         },
         "mode": "lines+markers",
         "type": "scatter",
         "x": [
          0,
          0.0000658018616377376
         ],
         "xaxis": "x",
         "y": [
          0,
          0.00006491809472208843
         ],
         "yaxis": "y"
        },
        {
         "line": {
          "color": "rgb(230, 172, 255.0)"
         },
         "marker": {
          "color": "rgb(230, 172, 255.0)",
          "size": 10
         },
         "mode": "lines+markers",
         "type": "scatter",
         "x": [
          0,
          0.0000658018616377376
         ],
         "xaxis": "x",
         "y": [
          0,
          0.00006491809472208843
         ],
         "yaxis": "y"
        },
        {
         "line": {
          "color": "rgb(230, 172, 255.0)"
         },
         "marker": {
          "color": "rgb(230, 172, 255.0)",
          "size": 10
         },
         "mode": "lines+markers",
         "type": "scatter",
         "x": [
          0,
          0.0000658018616377376
         ],
         "xaxis": "x",
         "y": [
          0,
          0.00006491809472208843
         ],
         "yaxis": "y"
        },
        {
         "line": {
          "color": "rgb(230, 172, 255.0)"
         },
         "marker": {
          "color": "rgb(230, 172, 255.0)",
          "size": 10
         },
         "mode": "lines+markers",
         "type": "scatter",
         "x": [
          0,
          0.0000658018616377376
         ],
         "xaxis": "x",
         "y": [
          0,
          0.00006491809472208843
         ],
         "yaxis": "y"
        },
        {
         "line": {
          "color": "rgb(230, 172, 255.0)"
         },
         "marker": {
          "color": "rgb(230, 172, 255.0)",
          "size": 10
         },
         "mode": "lines+markers",
         "type": "scatter",
         "x": [
          0,
          0.0000658018616377376
         ],
         "xaxis": "x",
         "y": [
          0,
          0.00006491809472208843
         ],
         "yaxis": "y"
        },
        {
         "line": {
          "color": "rgb(230, 172, 255.0)"
         },
         "marker": {
          "color": "rgb(230, 172, 255.0)",
          "size": 10
         },
         "mode": "lines+markers",
         "type": "scatter",
         "x": [
          0,
          0.0000658018616377376
         ],
         "xaxis": "x",
         "y": [
          0,
          0.00006491809472208843
         ],
         "yaxis": "y"
        },
        {
         "line": {
          "color": "rgb(230, 172, 255.0)"
         },
         "marker": {
          "color": "rgb(230, 172, 255.0)",
          "size": 10
         },
         "mode": "lines+markers",
         "type": "scatter",
         "x": [
          0,
          0.0000658018616377376
         ],
         "xaxis": "x",
         "y": [
          0,
          0.00006491809472208843
         ],
         "yaxis": "y"
        },
        {
         "line": {
          "color": "rgb(230, 172, 255.0)"
         },
         "marker": {
          "color": "rgb(230, 172, 255.0)",
          "size": 10
         },
         "mode": "lines+markers",
         "type": "scatter",
         "x": [
          0,
          0.0000658018616377376
         ],
         "xaxis": "x",
         "y": [
          0,
          0.00006491809472208843
         ],
         "yaxis": "y"
        },
        {
         "line": {
          "color": "rgb(230, 172, 255.0)"
         },
         "marker": {
          "color": "rgb(230, 172, 255.0)",
          "size": 10
         },
         "mode": "lines+markers",
         "type": "scatter",
         "x": [
          0,
          0.0000658018616377376
         ],
         "xaxis": "x",
         "y": [
          0,
          0.00006491809472208843
         ],
         "yaxis": "y"
        },
        {
         "line": {
          "color": "rgb(230, 172, 255.0)"
         },
         "marker": {
          "color": "rgb(230, 172, 255.0)",
          "size": 10
         },
         "mode": "lines+markers",
         "type": "scatter",
         "x": [
          0,
          0.0000658018616377376
         ],
         "xaxis": "x",
         "y": [
          0,
          0.00006491809472208843
         ],
         "yaxis": "y"
        },
        {
         "line": {
          "color": "rgb(230, 172, 255.0)"
         },
         "marker": {
          "color": "rgb(230, 172, 255.0)",
          "size": 10
         },
         "mode": "lines+markers",
         "type": "scatter",
         "x": [
          0,
          0.0000658018616377376
         ],
         "xaxis": "x",
         "y": [
          0,
          0.00006491809472208843
         ],
         "yaxis": "y"
        },
        {
         "line": {
          "color": "rgb(230, 172, 255.0)"
         },
         "marker": {
          "color": "rgb(230, 172, 255.0)",
          "size": 10
         },
         "mode": "lines+markers",
         "type": "scatter",
         "x": [
          0,
          0.0000658018616377376
         ],
         "xaxis": "x",
         "y": [
          0,
          0.00006491809472208843
         ],
         "yaxis": "y"
        },
        {
         "line": {
          "color": "rgb(230, 172, 255.0)"
         },
         "marker": {
          "color": "rgb(230, 172, 255.0)",
          "size": 10
         },
         "mode": "lines+markers",
         "type": "scatter",
         "x": [
          0,
          0.0000658018616377376
         ],
         "xaxis": "x",
         "y": [
          0,
          0.00006491809472208843
         ],
         "yaxis": "y"
        },
        {
         "line": {
          "color": "rgb(230, 172, 255.0)"
         },
         "marker": {
          "color": "rgb(230, 172, 255.0)",
          "size": 10
         },
         "mode": "lines+markers",
         "type": "scatter",
         "x": [
          0,
          0.0000658018616377376
         ],
         "xaxis": "x",
         "y": [
          0,
          0.00006491809472208843
         ],
         "yaxis": "y"
        },
        {
         "line": {
          "color": "rgb(230, 172, 255.0)"
         },
         "marker": {
          "color": "rgb(230, 172, 255.0)",
          "size": 10
         },
         "mode": "lines+markers",
         "type": "scatter",
         "x": [
          0,
          0.0000658018616377376
         ],
         "xaxis": "x",
         "y": [
          0,
          0.00006491809472208843
         ],
         "yaxis": "y"
        },
        {
         "line": {
          "color": "rgb(230, 172, 255.0)"
         },
         "marker": {
          "color": "rgb(230, 172, 255.0)",
          "size": 10
         },
         "mode": "lines+markers",
         "type": "scatter",
         "x": [
          0,
          0.0000658018616377376
         ],
         "xaxis": "x",
         "y": [
          0,
          0.00006491809472208843
         ],
         "yaxis": "y"
        },
        {
         "line": {
          "color": "rgb(230, 172, 255.0)"
         },
         "marker": {
          "color": "rgb(230, 172, 255.0)",
          "size": 10
         },
         "mode": "lines+markers",
         "type": "scatter",
         "x": [
          0,
          0.0000658018616377376
         ],
         "xaxis": "x",
         "y": [
          0,
          0.00006491809472208843
         ],
         "yaxis": "y"
        },
        {
         "line": {
          "color": "rgb(230, 172, 255.0)"
         },
         "marker": {
          "color": "rgb(230, 172, 255.0)",
          "size": 10
         },
         "mode": "lines+markers",
         "type": "scatter",
         "x": [
          0,
          0.0000658018616377376
         ],
         "xaxis": "x",
         "y": [
          0,
          0.00006491809472208843
         ],
         "yaxis": "y"
        },
        {
         "line": {
          "color": "rgb(230, 172, 255.0)"
         },
         "marker": {
          "color": "rgb(230, 172, 255.0)",
          "size": 10
         },
         "mode": "lines+markers",
         "type": "scatter",
         "x": [
          0,
          0.0000658018616377376
         ],
         "xaxis": "x",
         "y": [
          0,
          0.00006491809472208843
         ],
         "yaxis": "y"
        },
        {
         "line": {
          "color": "rgb(230, 172, 255.0)"
         },
         "marker": {
          "color": "rgb(230, 172, 255.0)",
          "size": 10
         },
         "mode": "lines+markers",
         "type": "scatter",
         "x": [
          0,
          0.0000658018616377376
         ],
         "xaxis": "x",
         "y": [
          0,
          0.00006491809472208843
         ],
         "yaxis": "y"
        },
        {
         "line": {
          "color": "rgb(230, 172, 255.0)"
         },
         "marker": {
          "color": "rgb(230, 172, 255.0)",
          "size": 10
         },
         "mode": "lines+markers",
         "type": "scatter",
         "x": [
          0,
          0.0000658018616377376
         ],
         "xaxis": "x",
         "y": [
          0,
          0.00006491809472208843
         ],
         "yaxis": "y"
        },
        {
         "line": {
          "color": "rgb(230, 172, 255.0)"
         },
         "marker": {
          "color": "rgb(230, 172, 255.0)",
          "size": 10
         },
         "mode": "lines+markers",
         "type": "scatter",
         "x": [
          0,
          0.0000658018616377376
         ],
         "xaxis": "x",
         "y": [
          0,
          0.00006491809472208843
         ],
         "yaxis": "y"
        },
        {
         "line": {
          "color": "rgb(230, 172, 255.0)"
         },
         "marker": {
          "color": "rgb(230, 172, 255.0)",
          "size": 10
         },
         "mode": "lines+markers",
         "type": "scatter",
         "x": [
          0,
          0.0000658018616377376
         ],
         "xaxis": "x",
         "y": [
          0,
          0.00006491809472208843
         ],
         "yaxis": "y"
        },
        {
         "line": {
          "color": "rgb(230, 172, 255.0)"
         },
         "marker": {
          "color": "rgb(230, 172, 255.0)",
          "size": 10
         },
         "mode": "lines+markers",
         "type": "scatter",
         "x": [
          0,
          0.0000658018616377376
         ],
         "xaxis": "x",
         "y": [
          0,
          0.00006491809472208843
         ],
         "yaxis": "y"
        },
        {
         "line": {
          "color": "rgb(230, 172, 255.0)"
         },
         "marker": {
          "color": "rgb(230, 172, 255.0)",
          "size": 10
         },
         "mode": "lines+markers",
         "type": "scatter",
         "x": [
          0,
          0.0000658018616377376
         ],
         "xaxis": "x",
         "y": [
          0,
          0.00006491809472208843
         ],
         "yaxis": "y"
        },
        {
         "line": {
          "color": "rgb(230, 172, 255.0)"
         },
         "marker": {
          "color": "rgb(230, 172, 255.0)",
          "size": 10
         },
         "mode": "lines+markers",
         "type": "scatter",
         "x": [
          0,
          0.0000658018616377376
         ],
         "xaxis": "x",
         "y": [
          0,
          0.00006491809472208843
         ],
         "yaxis": "y"
        },
        {
         "line": {
          "color": "rgb(230, 172, 255.0)"
         },
         "marker": {
          "color": "rgb(230, 172, 255.0)",
          "size": 10
         },
         "mode": "lines+markers",
         "type": "scatter",
         "x": [
          0,
          0.0000658018616377376
         ],
         "xaxis": "x",
         "y": [
          0,
          0.00006491809472208843
         ],
         "yaxis": "y"
        },
        {
         "line": {
          "color": "rgb(230, 172, 255.0)"
         },
         "marker": {
          "color": "rgb(230, 172, 255.0)",
          "size": 10
         },
         "mode": "lines+markers",
         "type": "scatter",
         "x": [
          0,
          0.0000658018616377376
         ],
         "xaxis": "x",
         "y": [
          0,
          0.00006491809472208843
         ],
         "yaxis": "y"
        },
        {
         "line": {
          "color": "rgb(230, 172, 255.0)"
         },
         "marker": {
          "color": "rgb(230, 172, 255.0)",
          "size": 10
         },
         "mode": "lines+markers",
         "type": "scatter",
         "x": [
          0,
          0.0000658018616377376
         ],
         "xaxis": "x",
         "y": [
          0,
          0.00006491809472208843
         ],
         "yaxis": "y"
        },
        {
         "line": {
          "color": "rgb(230, 172, 255.0)"
         },
         "marker": {
          "color": "rgb(230, 172, 255.0)",
          "size": 10
         },
         "mode": "lines+markers",
         "type": "scatter",
         "x": [
          0,
          0.0000658018616377376
         ],
         "xaxis": "x",
         "y": [
          0,
          0.00006491809472208843
         ],
         "yaxis": "y"
        },
        {
         "line": {
          "color": "rgb(230, 172, 255.0)"
         },
         "marker": {
          "color": "rgb(230, 172, 255.0)",
          "size": 10
         },
         "mode": "lines+markers",
         "type": "scatter",
         "x": [
          0,
          0.0000658018616377376
         ],
         "xaxis": "x",
         "y": [
          0,
          0.00006491809472208843
         ],
         "yaxis": "y"
        },
        {
         "line": {
          "color": "rgb(230, 172, 255.0)"
         },
         "marker": {
          "color": "rgb(230, 172, 255.0)",
          "size": 10
         },
         "mode": "lines+markers",
         "type": "scatter",
         "x": [
          0,
          0.0000658018616377376
         ],
         "xaxis": "x",
         "y": [
          0,
          0.00006491809472208843
         ],
         "yaxis": "y"
        },
        {
         "line": {
          "color": "rgb(230, 172, 255.0)"
         },
         "marker": {
          "color": "rgb(230, 172, 255.0)",
          "size": 10
         },
         "mode": "lines+markers",
         "type": "scatter",
         "x": [
          0,
          0.0000658018616377376
         ],
         "xaxis": "x",
         "y": [
          0,
          0.00006491809472208843
         ],
         "yaxis": "y"
        },
        {
         "line": {
          "color": "rgb(230, 172, 255.0)"
         },
         "marker": {
          "color": "rgb(230, 172, 255.0)",
          "size": 10
         },
         "mode": "lines+markers",
         "type": "scatter",
         "x": [
          0,
          0.0000658018616377376
         ],
         "xaxis": "x",
         "y": [
          0,
          0.00006491809472208843
         ],
         "yaxis": "y"
        },
        {
         "line": {
          "color": "rgb(230, 172, 255.0)"
         },
         "marker": {
          "color": "rgb(230, 172, 255.0)",
          "size": 10
         },
         "mode": "lines+markers",
         "type": "scatter",
         "x": [
          0,
          0.0000658018616377376
         ],
         "xaxis": "x",
         "y": [
          0,
          0.00006491809472208843
         ],
         "yaxis": "y"
        },
        {
         "line": {
          "color": "rgb(230, 172, 255.0)"
         },
         "marker": {
          "color": "rgb(230, 172, 255.0)",
          "size": 10
         },
         "mode": "lines+markers",
         "type": "scatter",
         "x": [
          0,
          0.0000658018616377376
         ],
         "xaxis": "x",
         "y": [
          0,
          0.00006491809472208843
         ],
         "yaxis": "y"
        },
        {
         "line": {
          "color": "rgb(230, 172, 255.0)"
         },
         "marker": {
          "color": "rgb(230, 172, 255.0)",
          "size": 10
         },
         "mode": "lines+markers",
         "type": "scatter",
         "x": [
          0,
          0.0000658018616377376
         ],
         "xaxis": "x",
         "y": [
          0,
          0.00006491809472208843
         ],
         "yaxis": "y"
        },
        {
         "line": {
          "color": "rgb(230, 172, 255.0)"
         },
         "marker": {
          "color": "rgb(230, 172, 255.0)",
          "size": 10
         },
         "mode": "lines+markers",
         "type": "scatter",
         "x": [
          0,
          0.0000658018616377376
         ],
         "xaxis": "x",
         "y": [
          0,
          0.00006491809472208843
         ],
         "yaxis": "y"
        },
        {
         "line": {
          "color": "rgb(230, 172, 255.0)"
         },
         "marker": {
          "color": "rgb(230, 172, 255.0)",
          "size": 10
         },
         "mode": "lines+markers",
         "type": "scatter",
         "x": [
          0,
          0.0000658018616377376
         ],
         "xaxis": "x",
         "y": [
          0,
          0.00006491809472208843
         ],
         "yaxis": "y"
        },
        {
         "line": {
          "color": "rgb(230, 172, 255.0)"
         },
         "marker": {
          "color": "rgb(230, 172, 255.0)",
          "size": 10
         },
         "mode": "lines+markers",
         "type": "scatter",
         "x": [
          0,
          0.0000658018616377376
         ],
         "xaxis": "x",
         "y": [
          0,
          0.00006491809472208843
         ],
         "yaxis": "y"
        },
        {
         "line": {
          "color": "rgb(230, 172, 255.0)"
         },
         "marker": {
          "color": "rgb(230, 172, 255.0)",
          "size": 10
         },
         "mode": "lines+markers",
         "type": "scatter",
         "x": [
          0,
          0.0000658018616377376
         ],
         "xaxis": "x",
         "y": [
          0,
          0.00006491809472208843
         ],
         "yaxis": "y"
        },
        {
         "line": {
          "color": "rgb(230, 172, 255.0)"
         },
         "marker": {
          "color": "rgb(230, 172, 255.0)",
          "size": 10
         },
         "mode": "lines+markers",
         "type": "scatter",
         "x": [
          0,
          0.0000658018616377376
         ],
         "xaxis": "x",
         "y": [
          0,
          0.00006491809472208843
         ],
         "yaxis": "y"
        },
        {
         "line": {
          "color": "rgb(230, 172, 255.0)"
         },
         "marker": {
          "color": "rgb(230, 172, 255.0)",
          "size": 10
         },
         "mode": "lines+markers",
         "type": "scatter",
         "x": [
          0,
          0.0000658018616377376
         ],
         "xaxis": "x",
         "y": [
          0,
          0.00006491809472208843
         ],
         "yaxis": "y"
        },
        {
         "line": {
          "color": "rgb(230, 172, 255.0)"
         },
         "marker": {
          "color": "rgb(230, 172, 255.0)",
          "size": 10
         },
         "mode": "lines+markers",
         "type": "scatter",
         "x": [
          0,
          0.0000658018616377376
         ],
         "xaxis": "x",
         "y": [
          0,
          0.00006491809472208843
         ],
         "yaxis": "y"
        },
        {
         "line": {
          "color": "rgb(230, 172, 255.0)"
         },
         "marker": {
          "color": "rgb(230, 172, 255.0)",
          "size": 10
         },
         "mode": "lines+markers",
         "type": "scatter",
         "x": [
          0,
          0.0000658018616377376
         ],
         "xaxis": "x",
         "y": [
          0,
          0.00006491809472208843
         ],
         "yaxis": "y"
        },
        {
         "line": {
          "color": "rgb(230, 172, 255.0)"
         },
         "marker": {
          "color": "rgb(230, 172, 255.0)",
          "size": 10
         },
         "mode": "lines+markers",
         "type": "scatter",
         "x": [
          0,
          0.0000658018616377376
         ],
         "xaxis": "x",
         "y": [
          0,
          0.00006491809472208843
         ],
         "yaxis": "y"
        },
        {
         "line": {
          "color": "rgb(230, 172, 255.0)"
         },
         "marker": {
          "color": "rgb(230, 172, 255.0)",
          "size": 10
         },
         "mode": "lines+markers",
         "type": "scatter",
         "x": [
          0,
          0.0000658018616377376
         ],
         "xaxis": "x",
         "y": [
          0,
          0.00006491809472208843
         ],
         "yaxis": "y"
        },
        {
         "line": {
          "color": "rgb(230, 172, 255.0)"
         },
         "marker": {
          "color": "rgb(230, 172, 255.0)",
          "size": 10
         },
         "mode": "lines+markers",
         "type": "scatter",
         "x": [
          0,
          0.0000658018616377376
         ],
         "xaxis": "x",
         "y": [
          0,
          0.00006491809472208843
         ],
         "yaxis": "y"
        },
        {
         "line": {
          "color": "rgb(230, 172, 255.0)"
         },
         "marker": {
          "color": "rgb(230, 172, 255.0)",
          "size": 10
         },
         "mode": "lines+markers",
         "type": "scatter",
         "x": [
          0,
          0.0000658018616377376
         ],
         "xaxis": "x",
         "y": [
          0,
          0.00006491809472208843
         ],
         "yaxis": "y"
        },
        {
         "line": {
          "color": "rgb(230, 172, 255.0)"
         },
         "marker": {
          "color": "rgb(230, 172, 255.0)",
          "size": 10
         },
         "mode": "lines+markers",
         "type": "scatter",
         "x": [
          0,
          0.0000658018616377376
         ],
         "xaxis": "x",
         "y": [
          0,
          0.00006491809472208843
         ],
         "yaxis": "y"
        },
        {
         "line": {
          "color": "rgb(230, 172, 255.0)"
         },
         "marker": {
          "color": "rgb(230, 172, 255.0)",
          "size": 10
         },
         "mode": "lines+markers",
         "type": "scatter",
         "x": [
          0,
          0.0000658018616377376
         ],
         "xaxis": "x",
         "y": [
          0,
          0.00006491809472208843
         ],
         "yaxis": "y"
        },
        {
         "line": {
          "color": "rgb(230, 172, 255.0)"
         },
         "marker": {
          "color": "rgb(230, 172, 255.0)",
          "size": 10
         },
         "mode": "lines+markers",
         "type": "scatter",
         "x": [
          0,
          0.0000658018616377376
         ],
         "xaxis": "x",
         "y": [
          0,
          0.00006491809472208843
         ],
         "yaxis": "y"
        },
        {
         "line": {
          "color": "rgb(230, 172, 255.0)"
         },
         "marker": {
          "color": "rgb(230, 172, 255.0)",
          "size": 10
         },
         "mode": "lines+markers",
         "type": "scatter",
         "x": [
          0,
          0.0000658018616377376
         ],
         "xaxis": "x",
         "y": [
          0,
          0.00006491809472208843
         ],
         "yaxis": "y"
        },
        {
         "line": {
          "color": "rgb(230, 172, 255.0)"
         },
         "marker": {
          "color": "rgb(230, 172, 255.0)",
          "size": 10
         },
         "mode": "lines+markers",
         "type": "scatter",
         "x": [
          0,
          0.0000658018616377376
         ],
         "xaxis": "x",
         "y": [
          0,
          0.00006491809472208843
         ],
         "yaxis": "y"
        },
        {
         "line": {
          "color": "rgb(230, 172, 255.0)"
         },
         "marker": {
          "color": "rgb(230, 172, 255.0)",
          "size": 10
         },
         "mode": "lines+markers",
         "type": "scatter",
         "x": [
          0,
          0.0000658018616377376
         ],
         "xaxis": "x",
         "y": [
          0,
          0.00006491809472208843
         ],
         "yaxis": "y"
        },
        {
         "line": {
          "color": "rgb(230, 172, 255.0)"
         },
         "marker": {
          "color": "rgb(230, 172, 255.0)",
          "size": 10
         },
         "mode": "lines+markers",
         "type": "scatter",
         "x": [
          0,
          0.0000658018616377376
         ],
         "xaxis": "x",
         "y": [
          0,
          0.00006491809472208843
         ],
         "yaxis": "y"
        },
        {
         "line": {
          "color": "rgb(230, 172, 255.0)"
         },
         "marker": {
          "color": "rgb(230, 172, 255.0)",
          "size": 10
         },
         "mode": "lines+markers",
         "type": "scatter",
         "x": [
          0,
          0.0000658018616377376
         ],
         "xaxis": "x",
         "y": [
          0,
          0.00006491809472208843
         ],
         "yaxis": "y"
        },
        {
         "line": {
          "color": "rgb(230, 172, 255.0)"
         },
         "marker": {
          "color": "rgb(230, 172, 255.0)",
          "size": 10
         },
         "mode": "lines+markers",
         "type": "scatter",
         "x": [
          0,
          0.0000658018616377376
         ],
         "xaxis": "x",
         "y": [
          0,
          0.00006491809472208843
         ],
         "yaxis": "y"
        },
        {
         "line": {
          "color": "rgb(230, 172, 255.0)"
         },
         "marker": {
          "color": "rgb(230, 172, 255.0)",
          "size": 10
         },
         "mode": "lines+markers",
         "type": "scatter",
         "x": [
          0,
          0.0000658018616377376
         ],
         "xaxis": "x",
         "y": [
          0,
          0.00006491809472208843
         ],
         "yaxis": "y"
        },
        {
         "line": {
          "color": "rgb(230, 172, 255.0)"
         },
         "marker": {
          "color": "rgb(230, 172, 255.0)",
          "size": 10
         },
         "mode": "lines+markers",
         "type": "scatter",
         "x": [
          0,
          0.0000658018616377376
         ],
         "xaxis": "x",
         "y": [
          0,
          0.00006491809472208843
         ],
         "yaxis": "y"
        },
        {
         "line": {
          "color": "rgb(230, 172, 255.0)"
         },
         "marker": {
          "color": "rgb(230, 172, 255.0)",
          "size": 10
         },
         "mode": "lines+markers",
         "type": "scatter",
         "x": [
          0,
          0.0000658018616377376
         ],
         "xaxis": "x",
         "y": [
          0,
          0.00006491809472208843
         ],
         "yaxis": "y"
        },
        {
         "line": {
          "color": "rgb(230, 172, 255.0)"
         },
         "marker": {
          "color": "rgb(230, 172, 255.0)",
          "size": 10
         },
         "mode": "lines+markers",
         "type": "scatter",
         "x": [
          0,
          0.0000658018616377376
         ],
         "xaxis": "x",
         "y": [
          0,
          0.00006491809472208843
         ],
         "yaxis": "y"
        },
        {
         "line": {
          "color": "rgb(230, 172, 255.0)"
         },
         "marker": {
          "color": "rgb(230, 172, 255.0)",
          "size": 10
         },
         "mode": "lines+markers",
         "type": "scatter",
         "x": [
          0,
          0.0000658018616377376
         ],
         "xaxis": "x",
         "y": [
          0,
          0.00006491809472208843
         ],
         "yaxis": "y"
        },
        {
         "line": {
          "color": "rgb(230, 172, 255.0)"
         },
         "marker": {
          "color": "rgb(230, 172, 255.0)",
          "size": 10
         },
         "mode": "lines+markers",
         "type": "scatter",
         "x": [
          0,
          0.0000658018616377376
         ],
         "xaxis": "x",
         "y": [
          0,
          0.00006491809472208843
         ],
         "yaxis": "y"
        },
        {
         "line": {
          "color": "rgb(230, 172, 255.0)"
         },
         "marker": {
          "color": "rgb(230, 172, 255.0)",
          "size": 10
         },
         "mode": "lines+markers",
         "type": "scatter",
         "x": [
          0,
          0.0000658018616377376
         ],
         "xaxis": "x",
         "y": [
          0,
          0.00006491809472208843
         ],
         "yaxis": "y"
        },
        {
         "line": {
          "color": "rgb(230, 172, 255.0)"
         },
         "marker": {
          "color": "rgb(230, 172, 255.0)",
          "size": 10
         },
         "mode": "lines+markers",
         "type": "scatter",
         "x": [
          0,
          0.0000658018616377376
         ],
         "xaxis": "x",
         "y": [
          0,
          0.00006491809472208843
         ],
         "yaxis": "y"
        },
        {
         "line": {
          "color": "rgb(230, 172, 255.0)"
         },
         "marker": {
          "color": "rgb(230, 172, 255.0)",
          "size": 10
         },
         "mode": "lines+markers",
         "type": "scatter",
         "x": [
          0,
          0.0000658018616377376
         ],
         "xaxis": "x",
         "y": [
          0,
          0.00006491809472208843
         ],
         "yaxis": "y"
        },
        {
         "line": {
          "color": "rgb(230, 172, 255.0)"
         },
         "marker": {
          "color": "rgb(230, 172, 255.0)",
          "size": 10
         },
         "mode": "lines+markers",
         "type": "scatter",
         "x": [
          0,
          0.0000658018616377376
         ],
         "xaxis": "x",
         "y": [
          0,
          0.00006491809472208843
         ],
         "yaxis": "y"
        },
        {
         "line": {
          "color": "rgb(230, 172, 255.0)"
         },
         "marker": {
          "color": "rgb(230, 172, 255.0)",
          "size": 10
         },
         "mode": "lines+markers",
         "type": "scatter",
         "x": [
          0,
          0.0000658018616377376
         ],
         "xaxis": "x",
         "y": [
          0,
          0.00006491809472208843
         ],
         "yaxis": "y"
        },
        {
         "line": {
          "color": "rgb(230, 172, 255.0)"
         },
         "marker": {
          "color": "rgb(230, 172, 255.0)",
          "size": 10
         },
         "mode": "lines+markers",
         "type": "scatter",
         "x": [
          0,
          0.0000658018616377376
         ],
         "xaxis": "x",
         "y": [
          0,
          0.00006491809472208843
         ],
         "yaxis": "y"
        },
        {
         "line": {
          "color": "rgb(230, 172, 255.0)"
         },
         "marker": {
          "color": "rgb(230, 172, 255.0)",
          "size": 10
         },
         "mode": "lines+markers",
         "type": "scatter",
         "x": [
          0,
          0.0000658018616377376
         ],
         "xaxis": "x",
         "y": [
          0,
          0.00006491809472208843
         ],
         "yaxis": "y"
        },
        {
         "line": {
          "color": "rgb(230, 172, 255.0)"
         },
         "marker": {
          "color": "rgb(230, 172, 255.0)",
          "size": 10
         },
         "mode": "lines+markers",
         "type": "scatter",
         "x": [
          0,
          0.0000658018616377376
         ],
         "xaxis": "x",
         "y": [
          0,
          0.00006491809472208843
         ],
         "yaxis": "y"
        },
        {
         "line": {
          "color": "rgb(230, 172, 255.0)"
         },
         "marker": {
          "color": "rgb(230, 172, 255.0)",
          "size": 10
         },
         "mode": "lines+markers",
         "type": "scatter",
         "x": [
          0,
          0.0000658018616377376
         ],
         "xaxis": "x",
         "y": [
          0,
          0.00006491809472208843
         ],
         "yaxis": "y"
        },
        {
         "line": {
          "color": "rgb(230, 172, 255.0)"
         },
         "marker": {
          "color": "rgb(230, 172, 255.0)",
          "size": 10
         },
         "mode": "lines+markers",
         "type": "scatter",
         "x": [
          0,
          0.0000658018616377376
         ],
         "xaxis": "x",
         "y": [
          0,
          0.00006491809472208843
         ],
         "yaxis": "y"
        },
        {
         "line": {
          "color": "rgb(230, 172, 255.0)"
         },
         "marker": {
          "color": "rgb(230, 172, 255.0)",
          "size": 10
         },
         "mode": "lines+markers",
         "type": "scatter",
         "x": [
          0,
          0.0000658018616377376
         ],
         "xaxis": "x",
         "y": [
          0,
          0.00006491809472208843
         ],
         "yaxis": "y"
        },
        {
         "line": {
          "color": "rgb(230, 172, 255.0)"
         },
         "marker": {
          "color": "rgb(230, 172, 255.0)",
          "size": 10
         },
         "mode": "lines+markers",
         "type": "scatter",
         "x": [
          0,
          0.0000658018616377376
         ],
         "xaxis": "x",
         "y": [
          0,
          0.00006491809472208843
         ],
         "yaxis": "y"
        },
        {
         "line": {
          "color": "rgb(230, 172, 255.0)"
         },
         "marker": {
          "color": "rgb(230, 172, 255.0)",
          "size": 10
         },
         "mode": "lines+markers",
         "type": "scatter",
         "x": [
          0,
          0.0000658018616377376
         ],
         "xaxis": "x",
         "y": [
          0,
          0.00006491809472208843
         ],
         "yaxis": "y"
        },
        {
         "line": {
          "color": "rgb(230, 172, 255.0)"
         },
         "marker": {
          "color": "rgb(230, 172, 255.0)",
          "size": 10
         },
         "mode": "lines+markers",
         "type": "scatter",
         "x": [
          0,
          0.0000658018616377376
         ],
         "xaxis": "x",
         "y": [
          0,
          0.00006491809472208843
         ],
         "yaxis": "y"
        },
        {
         "line": {
          "color": "rgb(230, 172, 255.0)"
         },
         "marker": {
          "color": "rgb(230, 172, 255.0)",
          "size": 10
         },
         "mode": "lines+markers",
         "type": "scatter",
         "x": [
          0,
          0.0000658018616377376
         ],
         "xaxis": "x",
         "y": [
          0,
          0.00006491809472208843
         ],
         "yaxis": "y"
        },
        {
         "line": {
          "color": "rgb(230, 172, 255.0)"
         },
         "marker": {
          "color": "rgb(230, 172, 255.0)",
          "size": 10
         },
         "mode": "lines+markers",
         "type": "scatter",
         "x": [
          0,
          0.0000658018616377376
         ],
         "xaxis": "x",
         "y": [
          0,
          0.00006491809472208843
         ],
         "yaxis": "y"
        },
        {
         "line": {
          "color": "rgb(230, 172, 255.0)"
         },
         "marker": {
          "color": "rgb(230, 172, 255.0)",
          "size": 10
         },
         "mode": "lines+markers",
         "type": "scatter",
         "x": [
          0,
          0.0000658018616377376
         ],
         "xaxis": "x",
         "y": [
          0,
          0.00006491809472208843
         ],
         "yaxis": "y"
        },
        {
         "line": {
          "color": "rgb(230, 172, 255.0)"
         },
         "marker": {
          "color": "rgb(230, 172, 255.0)",
          "size": 10
         },
         "mode": "lines+markers",
         "type": "scatter",
         "x": [
          0,
          0.0000658018616377376
         ],
         "xaxis": "x",
         "y": [
          0,
          0.00006491809472208843
         ],
         "yaxis": "y"
        },
        {
         "line": {
          "color": "rgb(230, 172, 255.0)"
         },
         "marker": {
          "color": "rgb(230, 172, 255.0)",
          "size": 10
         },
         "mode": "lines+markers",
         "type": "scatter",
         "x": [
          0,
          0.0000658018616377376
         ],
         "xaxis": "x",
         "y": [
          0,
          0.00006491809472208843
         ],
         "yaxis": "y"
        },
        {
         "line": {
          "color": "rgb(230, 172, 255.0)"
         },
         "marker": {
          "color": "rgb(230, 172, 255.0)",
          "size": 10
         },
         "mode": "lines+markers",
         "type": "scatter",
         "x": [
          0,
          0.0000658018616377376
         ],
         "xaxis": "x",
         "y": [
          0,
          0.00006491809472208843
         ],
         "yaxis": "y"
        },
        {
         "line": {
          "color": "rgb(230, 172, 255.0)"
         },
         "marker": {
          "color": "rgb(230, 172, 255.0)",
          "size": 10
         },
         "mode": "lines+markers",
         "type": "scatter",
         "x": [
          0,
          0.0000658018616377376
         ],
         "xaxis": "x",
         "y": [
          0,
          0.00006491809472208843
         ],
         "yaxis": "y"
        },
        {
         "line": {
          "color": "rgb(230, 172, 255.0)"
         },
         "marker": {
          "color": "rgb(230, 172, 255.0)",
          "size": 10
         },
         "mode": "lines+markers",
         "type": "scatter",
         "x": [
          0,
          0.0000658018616377376
         ],
         "xaxis": "x",
         "y": [
          0,
          0.00006491809472208843
         ],
         "yaxis": "y"
        },
        {
         "line": {
          "color": "rgb(230, 172, 255.0)"
         },
         "marker": {
          "color": "rgb(230, 172, 255.0)",
          "size": 10
         },
         "mode": "lines+markers",
         "type": "scatter",
         "x": [
          0,
          0.0000658018616377376
         ],
         "xaxis": "x",
         "y": [
          0,
          0.00006491809472208843
         ],
         "yaxis": "y"
        },
        {
         "line": {
          "color": "rgb(230, 172, 255.0)"
         },
         "marker": {
          "color": "rgb(230, 172, 255.0)",
          "size": 10
         },
         "mode": "lines+markers",
         "type": "scatter",
         "x": [
          0,
          0.0000658018616377376
         ],
         "xaxis": "x",
         "y": [
          0,
          0.00006491809472208843
         ],
         "yaxis": "y"
        },
        {
         "line": {
          "color": "rgb(230, 172, 255.0)"
         },
         "marker": {
          "color": "rgb(230, 172, 255.0)",
          "size": 10
         },
         "mode": "lines+markers",
         "type": "scatter",
         "x": [
          0,
          0.0000658018616377376
         ],
         "xaxis": "x",
         "y": [
          0,
          0.00006491809472208843
         ],
         "yaxis": "y"
        },
        {
         "line": {
          "color": "rgb(230, 172, 255.0)"
         },
         "marker": {
          "color": "rgb(230, 172, 255.0)",
          "size": 10
         },
         "mode": "lines+markers",
         "type": "scatter",
         "x": [
          0,
          0.0000658018616377376
         ],
         "xaxis": "x",
         "y": [
          0,
          0.00006491809472208843
         ],
         "yaxis": "y"
        },
        {
         "line": {
          "color": "rgb(230, 172, 255.0)"
         },
         "marker": {
          "color": "rgb(230, 172, 255.0)",
          "size": 10
         },
         "mode": "lines+markers",
         "type": "scatter",
         "x": [
          0,
          0.0000658018616377376
         ],
         "xaxis": "x",
         "y": [
          0,
          0.00006491809472208843
         ],
         "yaxis": "y"
        },
        {
         "line": {
          "color": "rgb(230, 172, 255.0)"
         },
         "marker": {
          "color": "rgb(230, 172, 255.0)",
          "size": 10
         },
         "mode": "lines+markers",
         "type": "scatter",
         "x": [
          0,
          0.0000658018616377376
         ],
         "xaxis": "x",
         "y": [
          0,
          0.00006491809472208843
         ],
         "yaxis": "y"
        },
        {
         "line": {
          "color": "rgb(230, 172, 255.0)"
         },
         "marker": {
          "color": "rgb(230, 172, 255.0)",
          "size": 10
         },
         "mode": "lines+markers",
         "type": "scatter",
         "x": [
          0,
          0.0000658018616377376
         ],
         "xaxis": "x",
         "y": [
          0,
          0.00006491809472208843
         ],
         "yaxis": "y"
        },
        {
         "line": {
          "color": "rgb(230, 172, 255.0)"
         },
         "marker": {
          "color": "rgb(230, 172, 255.0)",
          "size": 10
         },
         "mode": "lines+markers",
         "type": "scatter",
         "x": [
          0,
          0.0000658018616377376
         ],
         "xaxis": "x",
         "y": [
          0,
          0.00006491809472208843
         ],
         "yaxis": "y"
        },
        {
         "line": {
          "color": "rgb(230, 172, 255.0)"
         },
         "marker": {
          "color": "rgb(230, 172, 255.0)",
          "size": 10
         },
         "mode": "lines+markers",
         "type": "scatter",
         "x": [
          0,
          0.0000658018616377376
         ],
         "xaxis": "x",
         "y": [
          0,
          0.00006491809472208843
         ],
         "yaxis": "y"
        },
        {
         "line": {
          "color": "rgb(230, 172, 255.0)"
         },
         "marker": {
          "color": "rgb(230, 172, 255.0)",
          "size": 10
         },
         "mode": "lines+markers",
         "type": "scatter",
         "x": [
          0,
          0.0000658018616377376
         ],
         "xaxis": "x",
         "y": [
          0,
          0.00006491809472208843
         ],
         "yaxis": "y"
        },
        {
         "line": {
          "color": "rgb(230, 172, 255.0)"
         },
         "marker": {
          "color": "rgb(230, 172, 255.0)",
          "size": 10
         },
         "mode": "lines+markers",
         "type": "scatter",
         "x": [
          0,
          0.0000658018616377376
         ],
         "xaxis": "x",
         "y": [
          0,
          0.00006491809472208843
         ],
         "yaxis": "y"
        },
        {
         "line": {
          "color": "rgb(230, 172, 255.0)"
         },
         "marker": {
          "color": "rgb(230, 172, 255.0)",
          "size": 10
         },
         "mode": "lines+markers",
         "type": "scatter",
         "x": [
          0,
          0.0000658018616377376
         ],
         "xaxis": "x",
         "y": [
          0,
          0.00006491809472208843
         ],
         "yaxis": "y"
        },
        {
         "line": {
          "color": "rgb(230, 172, 255.0)"
         },
         "marker": {
          "color": "rgb(230, 172, 255.0)",
          "size": 10
         },
         "mode": "lines+markers",
         "type": "scatter",
         "x": [
          0,
          0.0000658018616377376
         ],
         "xaxis": "x",
         "y": [
          0,
          0.00006491809472208843
         ],
         "yaxis": "y"
        },
        {
         "line": {
          "color": "rgb(230, 172, 255.0)"
         },
         "marker": {
          "color": "rgb(230, 172, 255.0)",
          "size": 10
         },
         "mode": "lines+markers",
         "type": "scatter",
         "x": [
          0,
          0.0000658018616377376
         ],
         "xaxis": "x",
         "y": [
          0,
          0.00006491809472208843
         ],
         "yaxis": "y"
        },
        {
         "line": {
          "color": "rgb(230, 172, 255.0)"
         },
         "marker": {
          "color": "rgb(230, 172, 255.0)",
          "size": 10
         },
         "mode": "lines+markers",
         "type": "scatter",
         "x": [
          0,
          0.0000658018616377376
         ],
         "xaxis": "x",
         "y": [
          0,
          0.00006491809472208843
         ],
         "yaxis": "y"
        },
        {
         "line": {
          "color": "rgb(230, 172, 255.0)"
         },
         "marker": {
          "color": "rgb(230, 172, 255.0)",
          "size": 10
         },
         "mode": "lines+markers",
         "type": "scatter",
         "x": [
          0,
          0.0000658018616377376
         ],
         "xaxis": "x",
         "y": [
          0,
          0.00006491809472208843
         ],
         "yaxis": "y"
        },
        {
         "line": {
          "color": "rgb(230, 172, 255.0)"
         },
         "marker": {
          "color": "rgb(230, 172, 255.0)",
          "size": 10
         },
         "mode": "lines+markers",
         "type": "scatter",
         "x": [
          0,
          0.0000658018616377376
         ],
         "xaxis": "x",
         "y": [
          0,
          0.00006491809472208843
         ],
         "yaxis": "y"
        },
        {
         "line": {
          "color": "rgb(230, 172, 255.0)"
         },
         "marker": {
          "color": "rgb(230, 172, 255.0)",
          "size": 10
         },
         "mode": "lines+markers",
         "type": "scatter",
         "x": [
          0,
          0.0000658018616377376
         ],
         "xaxis": "x",
         "y": [
          0,
          0.00006491809472208843
         ],
         "yaxis": "y"
        },
        {
         "line": {
          "color": "rgb(230, 172, 255.0)"
         },
         "marker": {
          "color": "rgb(230, 172, 255.0)",
          "size": 10
         },
         "mode": "lines+markers",
         "type": "scatter",
         "x": [
          0,
          0.0000658018616377376
         ],
         "xaxis": "x",
         "y": [
          0,
          0.00006491809472208843
         ],
         "yaxis": "y"
        },
        {
         "line": {
          "color": "rgb(230, 172, 255.0)"
         },
         "marker": {
          "color": "rgb(230, 172, 255.0)",
          "size": 10
         },
         "mode": "lines+markers",
         "type": "scatter",
         "x": [
          0,
          0.0000658018616377376
         ],
         "xaxis": "x",
         "y": [
          0,
          0.00006491809472208843
         ],
         "yaxis": "y"
        },
        {
         "line": {
          "color": "rgb(230, 172, 255.0)"
         },
         "marker": {
          "color": "rgb(230, 172, 255.0)",
          "size": 10
         },
         "mode": "lines+markers",
         "type": "scatter",
         "x": [
          0,
          0.0000658018616377376
         ],
         "xaxis": "x",
         "y": [
          0,
          0.00006491809472208843
         ],
         "yaxis": "y"
        },
        {
         "line": {
          "color": "rgb(230, 172, 255.0)"
         },
         "marker": {
          "color": "rgb(230, 172, 255.0)",
          "size": 10
         },
         "mode": "lines+markers",
         "type": "scatter",
         "x": [
          0,
          0.0000658018616377376
         ],
         "xaxis": "x",
         "y": [
          0,
          0.00006491809472208843
         ],
         "yaxis": "y"
        },
        {
         "line": {
          "color": "rgb(230, 172, 255.0)"
         },
         "marker": {
          "color": "rgb(230, 172, 255.0)",
          "size": 10
         },
         "mode": "lines+markers",
         "type": "scatter",
         "x": [
          0,
          0.0000658018616377376
         ],
         "xaxis": "x",
         "y": [
          0,
          0.00006491809472208843
         ],
         "yaxis": "y"
        },
        {
         "line": {
          "color": "rgb(230, 172, 255.0)"
         },
         "marker": {
          "color": "rgb(230, 172, 255.0)",
          "size": 10
         },
         "mode": "lines+markers",
         "type": "scatter",
         "x": [
          0,
          0.0000658018616377376
         ],
         "xaxis": "x",
         "y": [
          0,
          0.00006491809472208843
         ],
         "yaxis": "y"
        },
        {
         "line": {
          "color": "rgb(230, 172, 255.0)"
         },
         "marker": {
          "color": "rgb(230, 172, 255.0)",
          "size": 10
         },
         "mode": "lines+markers",
         "type": "scatter",
         "x": [
          0,
          0.0000658018616377376
         ],
         "xaxis": "x",
         "y": [
          0,
          0.00006491809472208843
         ],
         "yaxis": "y"
        },
        {
         "line": {
          "color": "rgb(230, 172, 255.0)"
         },
         "marker": {
          "color": "rgb(230, 172, 255.0)",
          "size": 10
         },
         "mode": "lines+markers",
         "type": "scatter",
         "x": [
          0,
          0.0000658018616377376
         ],
         "xaxis": "x",
         "y": [
          0,
          0.00006491809472208843
         ],
         "yaxis": "y"
        },
        {
         "line": {
          "color": "rgb(230, 172, 255.0)"
         },
         "marker": {
          "color": "rgb(230, 172, 255.0)",
          "size": 10
         },
         "mode": "lines+markers",
         "type": "scatter",
         "x": [
          0,
          0.0000658018616377376
         ],
         "xaxis": "x",
         "y": [
          0,
          0.00006491809472208843
         ],
         "yaxis": "y"
        },
        {
         "line": {
          "color": "rgb(230, 172, 255.0)"
         },
         "marker": {
          "color": "rgb(230, 172, 255.0)",
          "size": 10
         },
         "mode": "lines+markers",
         "type": "scatter",
         "x": [
          0,
          0.0000658018616377376
         ],
         "xaxis": "x",
         "y": [
          0,
          0.00006491809472208843
         ],
         "yaxis": "y"
        },
        {
         "line": {
          "color": "rgb(230, 172, 255.0)"
         },
         "marker": {
          "color": "rgb(230, 172, 255.0)",
          "size": 10
         },
         "mode": "lines+markers",
         "type": "scatter",
         "x": [
          0,
          0.0000658018616377376
         ],
         "xaxis": "x",
         "y": [
          0,
          0.00006491809472208843
         ],
         "yaxis": "y"
        },
        {
         "line": {
          "color": "rgb(230, 172, 255.0)"
         },
         "marker": {
          "color": "rgb(230, 172, 255.0)",
          "size": 10
         },
         "mode": "lines+markers",
         "type": "scatter",
         "x": [
          0,
          0.0000658018616377376
         ],
         "xaxis": "x",
         "y": [
          0,
          0.00006491809472208843
         ],
         "yaxis": "y"
        },
        {
         "line": {
          "color": "rgb(230, 172, 255.0)"
         },
         "marker": {
          "color": "rgb(230, 172, 255.0)",
          "size": 10
         },
         "mode": "lines+markers",
         "type": "scatter",
         "x": [
          0,
          0.0000658018616377376
         ],
         "xaxis": "x",
         "y": [
          0,
          0.00006491809472208843
         ],
         "yaxis": "y"
        },
        {
         "line": {
          "color": "rgb(230, 172, 255.0)"
         },
         "marker": {
          "color": "rgb(230, 172, 255.0)",
          "size": 10
         },
         "mode": "lines+markers",
         "type": "scatter",
         "x": [
          0,
          0.0000658018616377376
         ],
         "xaxis": "x",
         "y": [
          0,
          0.00006491809472208843
         ],
         "yaxis": "y"
        },
        {
         "line": {
          "color": "rgb(230, 172, 255.0)"
         },
         "marker": {
          "color": "rgb(230, 172, 255.0)",
          "size": 10
         },
         "mode": "lines+markers",
         "type": "scatter",
         "x": [
          0,
          0.0000658018616377376
         ],
         "xaxis": "x",
         "y": [
          0,
          0.00006491809472208843
         ],
         "yaxis": "y"
        },
        {
         "line": {
          "color": "rgb(230, 172, 255.0)"
         },
         "marker": {
          "color": "rgb(230, 172, 255.0)",
          "size": 10
         },
         "mode": "lines+markers",
         "type": "scatter",
         "x": [
          0,
          0.0000658018616377376
         ],
         "xaxis": "x",
         "y": [
          0,
          0.00006491809472208843
         ],
         "yaxis": "y"
        },
        {
         "line": {
          "color": "rgb(230, 172, 255.0)"
         },
         "marker": {
          "color": "rgb(230, 172, 255.0)",
          "size": 10
         },
         "mode": "lines+markers",
         "type": "scatter",
         "x": [
          0,
          0.0000658018616377376
         ],
         "xaxis": "x",
         "y": [
          0,
          0.00006491809472208843
         ],
         "yaxis": "y"
        },
        {
         "line": {
          "color": "rgb(230, 172, 255.0)"
         },
         "marker": {
          "color": "rgb(230, 172, 255.0)",
          "size": 10
         },
         "mode": "lines+markers",
         "type": "scatter",
         "x": [
          0,
          0.0000658018616377376
         ],
         "xaxis": "x",
         "y": [
          0,
          0.00006491809472208843
         ],
         "yaxis": "y"
        },
        {
         "line": {
          "color": "rgb(230, 172, 255.0)"
         },
         "marker": {
          "color": "rgb(230, 172, 255.0)",
          "size": 10
         },
         "mode": "lines+markers",
         "type": "scatter",
         "x": [
          0,
          0.0000658018616377376
         ],
         "xaxis": "x",
         "y": [
          0,
          0.00006491809472208843
         ],
         "yaxis": "y"
        },
        {
         "line": {
          "color": "rgb(230, 172, 255.0)"
         },
         "marker": {
          "color": "rgb(230, 172, 255.0)",
          "size": 10
         },
         "mode": "lines+markers",
         "type": "scatter",
         "x": [
          0,
          0.0000658018616377376
         ],
         "xaxis": "x",
         "y": [
          0,
          0.00006491809472208843
         ],
         "yaxis": "y"
        },
        {
         "line": {
          "color": "rgb(230, 172, 255.0)"
         },
         "marker": {
          "color": "rgb(230, 172, 255.0)",
          "size": 10
         },
         "mode": "lines+markers",
         "type": "scatter",
         "x": [
          0,
          0.0000658018616377376
         ],
         "xaxis": "x",
         "y": [
          0,
          0.00006491809472208843
         ],
         "yaxis": "y"
        },
        {
         "line": {
          "color": "rgb(230, 172, 255.0)"
         },
         "marker": {
          "color": "rgb(230, 172, 255.0)",
          "size": 10
         },
         "mode": "lines+markers",
         "type": "scatter",
         "x": [
          0,
          0.0000658018616377376
         ],
         "xaxis": "x",
         "y": [
          0,
          0.00006491809472208843
         ],
         "yaxis": "y"
        },
        {
         "line": {
          "color": "rgb(230, 172, 255.0)"
         },
         "marker": {
          "color": "rgb(230, 172, 255.0)",
          "size": 10
         },
         "mode": "lines+markers",
         "type": "scatter",
         "x": [
          0,
          0.0000658018616377376
         ],
         "xaxis": "x",
         "y": [
          0,
          0.00006491809472208843
         ],
         "yaxis": "y"
        },
        {
         "line": {
          "color": "rgb(230, 172, 255.0)"
         },
         "marker": {
          "color": "rgb(230, 172, 255.0)",
          "size": 10
         },
         "mode": "lines+markers",
         "type": "scatter",
         "x": [
          0,
          0.0000658018616377376
         ],
         "xaxis": "x",
         "y": [
          0,
          0.00006491809472208843
         ],
         "yaxis": "y"
        },
        {
         "line": {
          "color": "rgb(230, 172, 255.0)"
         },
         "marker": {
          "color": "rgb(230, 172, 255.0)",
          "size": 10
         },
         "mode": "lines+markers",
         "type": "scatter",
         "x": [
          0,
          0.0000658018616377376
         ],
         "xaxis": "x",
         "y": [
          0,
          0.00006491809472208843
         ],
         "yaxis": "y"
        },
        {
         "line": {
          "color": "rgb(230, 172, 255.0)"
         },
         "marker": {
          "color": "rgb(230, 172, 255.0)",
          "size": 10
         },
         "mode": "lines+markers",
         "type": "scatter",
         "x": [
          0,
          0.0000658018616377376
         ],
         "xaxis": "x",
         "y": [
          0,
          0.00006491809472208843
         ],
         "yaxis": "y"
        },
        {
         "line": {
          "color": "rgb(230, 172, 255.0)"
         },
         "marker": {
          "color": "rgb(230, 172, 255.0)",
          "size": 10
         },
         "mode": "lines+markers",
         "type": "scatter",
         "x": [
          0,
          0.0000658018616377376
         ],
         "xaxis": "x",
         "y": [
          0,
          0.00006491809472208843
         ],
         "yaxis": "y"
        },
        {
         "line": {
          "color": "rgb(230, 172, 255.0)"
         },
         "marker": {
          "color": "rgb(230, 172, 255.0)",
          "size": 10
         },
         "mode": "lines+markers",
         "type": "scatter",
         "x": [
          0,
          0.0000658018616377376
         ],
         "xaxis": "x",
         "y": [
          0,
          0.00006491809472208843
         ],
         "yaxis": "y"
        },
        {
         "line": {
          "color": "rgb(230, 172, 255.0)"
         },
         "marker": {
          "color": "rgb(230, 172, 255.0)",
          "size": 10
         },
         "mode": "lines+markers",
         "type": "scatter",
         "x": [
          0,
          0.0000658018616377376
         ],
         "xaxis": "x",
         "y": [
          0,
          0.00006491809472208843
         ],
         "yaxis": "y"
        },
        {
         "line": {
          "color": "rgb(230, 172, 255.0)"
         },
         "marker": {
          "color": "rgb(230, 172, 255.0)",
          "size": 10
         },
         "mode": "lines+markers",
         "type": "scatter",
         "x": [
          0,
          0.0000658018616377376
         ],
         "xaxis": "x",
         "y": [
          0,
          0.00006491809472208843
         ],
         "yaxis": "y"
        },
        {
         "line": {
          "color": "rgb(230, 172, 255.0)"
         },
         "marker": {
          "color": "rgb(230, 172, 255.0)",
          "size": 10
         },
         "mode": "lines+markers",
         "type": "scatter",
         "x": [
          0,
          0.0000658018616377376
         ],
         "xaxis": "x",
         "y": [
          0,
          0.00006491809472208843
         ],
         "yaxis": "y"
        },
        {
         "line": {
          "color": "rgb(230, 172, 255.0)"
         },
         "marker": {
          "color": "rgb(230, 172, 255.0)",
          "size": 10
         },
         "mode": "lines+markers",
         "type": "scatter",
         "x": [
          0,
          0.0000658018616377376
         ],
         "xaxis": "x",
         "y": [
          0,
          0.00006491809472208843
         ],
         "yaxis": "y"
        },
        {
         "line": {
          "color": "rgb(230, 172, 255.0)"
         },
         "marker": {
          "color": "rgb(230, 172, 255.0)",
          "size": 10
         },
         "mode": "lines+markers",
         "type": "scatter",
         "x": [
          0,
          0.0000658018616377376
         ],
         "xaxis": "x",
         "y": [
          0,
          0.00006491809472208843
         ],
         "yaxis": "y"
        },
        {
         "line": {
          "color": "rgb(230, 172, 255.0)"
         },
         "marker": {
          "color": "rgb(230, 172, 255.0)",
          "size": 10
         },
         "mode": "lines+markers",
         "type": "scatter",
         "x": [
          0,
          0.0000658018616377376
         ],
         "xaxis": "x",
         "y": [
          0,
          0.00006491809472208843
         ],
         "yaxis": "y"
        },
        {
         "line": {
          "color": "rgb(230, 172, 255.0)"
         },
         "marker": {
          "color": "rgb(230, 172, 255.0)",
          "size": 10
         },
         "mode": "lines+markers",
         "type": "scatter",
         "x": [
          0,
          0.0000658018616377376
         ],
         "xaxis": "x",
         "y": [
          0,
          0.00006491809472208843
         ],
         "yaxis": "y"
        },
        {
         "line": {
          "color": "rgb(230, 172, 255.0)"
         },
         "marker": {
          "color": "rgb(230, 172, 255.0)",
          "size": 10
         },
         "mode": "lines+markers",
         "type": "scatter",
         "x": [
          0,
          0.0000658018616377376
         ],
         "xaxis": "x",
         "y": [
          0,
          0.00006491809472208843
         ],
         "yaxis": "y"
        },
        {
         "line": {
          "color": "rgb(230, 172, 255.0)"
         },
         "marker": {
          "color": "rgb(230, 172, 255.0)",
          "size": 10
         },
         "mode": "lines+markers",
         "type": "scatter",
         "x": [
          0,
          0.0000658018616377376
         ],
         "xaxis": "x",
         "y": [
          0,
          0.00006491809472208843
         ],
         "yaxis": "y"
        },
        {
         "line": {
          "color": "rgb(230, 172, 255.0)"
         },
         "marker": {
          "color": "rgb(230, 172, 255.0)",
          "size": 10
         },
         "mode": "lines+markers",
         "type": "scatter",
         "x": [
          0,
          0.0000658018616377376
         ],
         "xaxis": "x",
         "y": [
          0,
          0.00006491809472208843
         ],
         "yaxis": "y"
        },
        {
         "line": {
          "color": "rgb(230, 172, 255.0)"
         },
         "marker": {
          "color": "rgb(230, 172, 255.0)",
          "size": 10
         },
         "mode": "lines+markers",
         "type": "scatter",
         "x": [
          0,
          0.0000658018616377376
         ],
         "xaxis": "x",
         "y": [
          0,
          0.00006491809472208843
         ],
         "yaxis": "y"
        },
        {
         "line": {
          "color": "rgb(230, 172, 255.0)"
         },
         "marker": {
          "color": "rgb(230, 172, 255.0)",
          "size": 10
         },
         "mode": "lines+markers",
         "type": "scatter",
         "x": [
          0,
          0.0000658018616377376
         ],
         "xaxis": "x",
         "y": [
          0,
          0.00006491809472208843
         ],
         "yaxis": "y"
        },
        {
         "line": {
          "color": "rgb(230, 172, 255.0)"
         },
         "marker": {
          "color": "rgb(230, 172, 255.0)",
          "size": 10
         },
         "mode": "lines+markers",
         "type": "scatter",
         "x": [
          0,
          0.0000658018616377376
         ],
         "xaxis": "x",
         "y": [
          0,
          0.00006491809472208843
         ],
         "yaxis": "y"
        },
        {
         "line": {
          "color": "rgb(230, 172, 255.0)"
         },
         "marker": {
          "color": "rgb(230, 172, 255.0)",
          "size": 10
         },
         "mode": "lines+markers",
         "type": "scatter",
         "x": [
          0,
          0.0000658018616377376
         ],
         "xaxis": "x",
         "y": [
          0,
          0.00006491809472208843
         ],
         "yaxis": "y"
        },
        {
         "line": {
          "color": "rgb(230, 172, 255.0)"
         },
         "marker": {
          "color": "rgb(230, 172, 255.0)",
          "size": 10
         },
         "mode": "lines+markers",
         "type": "scatter",
         "x": [
          0,
          0.0000658018616377376
         ],
         "xaxis": "x",
         "y": [
          0,
          0.00006491809472208843
         ],
         "yaxis": "y"
        },
        {
         "line": {
          "color": "rgb(230, 172, 255.0)"
         },
         "marker": {
          "color": "rgb(230, 172, 255.0)",
          "size": 10
         },
         "mode": "lines+markers",
         "type": "scatter",
         "x": [
          0,
          0.0000658018616377376
         ],
         "xaxis": "x",
         "y": [
          0,
          0.00006491809472208843
         ],
         "yaxis": "y"
        },
        {
         "line": {
          "color": "rgb(230, 172, 255.0)"
         },
         "marker": {
          "color": "rgb(230, 172, 255.0)",
          "size": 10
         },
         "mode": "lines+markers",
         "type": "scatter",
         "x": [
          0,
          0.0000658018616377376
         ],
         "xaxis": "x",
         "y": [
          0,
          0.00006491809472208843
         ],
         "yaxis": "y"
        },
        {
         "line": {
          "color": "rgb(230, 172, 255.0)"
         },
         "marker": {
          "color": "rgb(230, 172, 255.0)",
          "size": 10
         },
         "mode": "lines+markers",
         "type": "scatter",
         "x": [
          0,
          0.0000658018616377376
         ],
         "xaxis": "x",
         "y": [
          0,
          0.00006491809472208843
         ],
         "yaxis": "y"
        },
        {
         "line": {
          "color": "rgb(230, 172, 255.0)"
         },
         "marker": {
          "color": "rgb(230, 172, 255.0)",
          "size": 10
         },
         "mode": "lines+markers",
         "type": "scatter",
         "x": [
          0,
          0.0000658018616377376
         ],
         "xaxis": "x",
         "y": [
          0,
          0.00006491809472208843
         ],
         "yaxis": "y"
        },
        {
         "line": {
          "color": "rgb(230, 172, 255.0)"
         },
         "marker": {
          "color": "rgb(230, 172, 255.0)",
          "size": 10
         },
         "mode": "lines+markers",
         "type": "scatter",
         "x": [
          0,
          0.0000658018616377376
         ],
         "xaxis": "x",
         "y": [
          0,
          0.00006491809472208843
         ],
         "yaxis": "y"
        },
        {
         "line": {
          "color": "rgb(230, 172, 255.0)"
         },
         "marker": {
          "color": "rgb(230, 172, 255.0)",
          "size": 10
         },
         "mode": "lines+markers",
         "type": "scatter",
         "x": [
          0,
          0.0000658018616377376
         ],
         "xaxis": "x",
         "y": [
          0,
          0.00006491809472208843
         ],
         "yaxis": "y"
        },
        {
         "line": {
          "color": "rgb(230, 172, 255.0)"
         },
         "marker": {
          "color": "rgb(230, 172, 255.0)",
          "size": 10
         },
         "mode": "lines+markers",
         "type": "scatter",
         "x": [
          0,
          0.0000658018616377376
         ],
         "xaxis": "x",
         "y": [
          0,
          0.00006491809472208843
         ],
         "yaxis": "y"
        },
        {
         "line": {
          "color": "rgb(230, 172, 255.0)"
         },
         "marker": {
          "color": "rgb(230, 172, 255.0)",
          "size": 10
         },
         "mode": "lines+markers",
         "type": "scatter",
         "x": [
          0,
          0.0000658018616377376
         ],
         "xaxis": "x",
         "y": [
          0,
          0.00006491809472208843
         ],
         "yaxis": "y"
        },
        {
         "line": {
          "color": "rgb(230, 172, 255.0)"
         },
         "marker": {
          "color": "rgb(230, 172, 255.0)",
          "size": 10
         },
         "mode": "lines+markers",
         "type": "scatter",
         "x": [
          0,
          0.0000658018616377376
         ],
         "xaxis": "x",
         "y": [
          0,
          0.00006491809472208843
         ],
         "yaxis": "y"
        },
        {
         "line": {
          "color": "rgb(230, 172, 255.0)"
         },
         "marker": {
          "color": "rgb(230, 172, 255.0)",
          "size": 10
         },
         "mode": "lines+markers",
         "type": "scatter",
         "x": [
          0,
          0.0000658018616377376
         ],
         "xaxis": "x",
         "y": [
          0,
          0.00006491809472208843
         ],
         "yaxis": "y"
        },
        {
         "line": {
          "color": "rgb(230, 172, 255.0)"
         },
         "marker": {
          "color": "rgb(230, 172, 255.0)",
          "size": 10
         },
         "mode": "lines+markers",
         "type": "scatter",
         "x": [
          0,
          0.0000658018616377376
         ],
         "xaxis": "x",
         "y": [
          0,
          0.00006491809472208843
         ],
         "yaxis": "y"
        },
        {
         "line": {
          "color": "rgb(230, 172, 255.0)"
         },
         "marker": {
          "color": "rgb(230, 172, 255.0)",
          "size": 10
         },
         "mode": "lines+markers",
         "type": "scatter",
         "x": [
          0,
          0.0000658018616377376
         ],
         "xaxis": "x",
         "y": [
          0,
          0.00006491809472208843
         ],
         "yaxis": "y"
        },
        {
         "line": {
          "color": "rgb(230, 172, 255.0)"
         },
         "marker": {
          "color": "rgb(230, 172, 255.0)",
          "size": 10
         },
         "mode": "lines+markers",
         "type": "scatter",
         "x": [
          0,
          0.0000658018616377376
         ],
         "xaxis": "x",
         "y": [
          0,
          0.00006491809472208843
         ],
         "yaxis": "y"
        },
        {
         "line": {
          "color": "rgb(230, 172, 255.0)"
         },
         "marker": {
          "color": "rgb(230, 172, 255.0)",
          "size": 10
         },
         "mode": "lines+markers",
         "type": "scatter",
         "x": [
          0,
          0.0000658018616377376
         ],
         "xaxis": "x",
         "y": [
          0,
          0.00006491809472208843
         ],
         "yaxis": "y"
        },
        {
         "line": {
          "color": "rgb(230, 172, 255.0)"
         },
         "marker": {
          "color": "rgb(230, 172, 255.0)",
          "size": 10
         },
         "mode": "lines+markers",
         "type": "scatter",
         "x": [
          0,
          0.0000658018616377376
         ],
         "xaxis": "x",
         "y": [
          0,
          0.00006491809472208843
         ],
         "yaxis": "y"
        },
        {
         "line": {
          "color": "rgb(230, 172, 255.0)"
         },
         "marker": {
          "color": "rgb(230, 172, 255.0)",
          "size": 10
         },
         "mode": "lines+markers",
         "type": "scatter",
         "x": [
          0,
          0.0000658018616377376
         ],
         "xaxis": "x",
         "y": [
          0,
          0.00006491809472208843
         ],
         "yaxis": "y"
        },
        {
         "line": {
          "color": "rgb(230, 172, 255.0)"
         },
         "marker": {
          "color": "rgb(230, 172, 255.0)",
          "size": 10
         },
         "mode": "lines+markers",
         "type": "scatter",
         "x": [
          0,
          0.0000658018616377376
         ],
         "xaxis": "x",
         "y": [
          0,
          0.00006491809472208843
         ],
         "yaxis": "y"
        },
        {
         "line": {
          "color": "rgb(230, 172, 255.0)"
         },
         "marker": {
          "color": "rgb(230, 172, 255.0)",
          "size": 10
         },
         "mode": "lines+markers",
         "type": "scatter",
         "x": [
          0,
          0.0000658018616377376
         ],
         "xaxis": "x",
         "y": [
          0,
          0.00006491809472208843
         ],
         "yaxis": "y"
        },
        {
         "line": {
          "color": "rgb(230, 172, 255.0)"
         },
         "marker": {
          "color": "rgb(230, 172, 255.0)",
          "size": 10
         },
         "mode": "lines+markers",
         "type": "scatter",
         "x": [
          0,
          0.0000658018616377376
         ],
         "xaxis": "x",
         "y": [
          0,
          0.00006491809472208843
         ],
         "yaxis": "y"
        },
        {
         "line": {
          "color": "rgb(230, 172, 255.0)"
         },
         "marker": {
          "color": "rgb(230, 172, 255.0)",
          "size": 10
         },
         "mode": "lines+markers",
         "type": "scatter",
         "x": [
          0,
          0.0000658018616377376
         ],
         "xaxis": "x",
         "y": [
          0,
          0.00006491809472208843
         ],
         "yaxis": "y"
        },
        {
         "line": {
          "color": "rgb(230, 172, 255.0)"
         },
         "marker": {
          "color": "rgb(230, 172, 255.0)",
          "size": 10
         },
         "mode": "lines+markers",
         "type": "scatter",
         "x": [
          0,
          0.0000658018616377376
         ],
         "xaxis": "x",
         "y": [
          0,
          0.00006491809472208843
         ],
         "yaxis": "y"
        },
        {
         "line": {
          "color": "rgb(230, 172, 255.0)"
         },
         "marker": {
          "color": "rgb(230, 172, 255.0)",
          "size": 10
         },
         "mode": "lines+markers",
         "type": "scatter",
         "x": [
          0,
          0.0000658018616377376
         ],
         "xaxis": "x",
         "y": [
          0,
          0.00006491809472208843
         ],
         "yaxis": "y"
        },
        {
         "line": {
          "color": "rgb(230, 172, 255.0)"
         },
         "marker": {
          "color": "rgb(230, 172, 255.0)",
          "size": 10
         },
         "mode": "lines+markers",
         "type": "scatter",
         "x": [
          0,
          0.0000658018616377376
         ],
         "xaxis": "x",
         "y": [
          0,
          0.00006491809472208843
         ],
         "yaxis": "y"
        },
        {
         "line": {
          "color": "rgb(230, 172, 255.0)"
         },
         "marker": {
          "color": "rgb(230, 172, 255.0)",
          "size": 10
         },
         "mode": "lines+markers",
         "type": "scatter",
         "x": [
          0,
          0.0000658018616377376
         ],
         "xaxis": "x",
         "y": [
          0,
          0.00006491809472208843
         ],
         "yaxis": "y"
        },
        {
         "line": {
          "color": "rgb(230, 172, 255.0)"
         },
         "marker": {
          "color": "rgb(230, 172, 255.0)",
          "size": 10
         },
         "mode": "lines+markers",
         "type": "scatter",
         "x": [
          0,
          0.0000658018616377376
         ],
         "xaxis": "x",
         "y": [
          0,
          0.00006491809472208843
         ],
         "yaxis": "y"
        },
        {
         "line": {
          "color": "rgb(230, 172, 255.0)"
         },
         "marker": {
          "color": "rgb(230, 172, 255.0)",
          "size": 10
         },
         "mode": "lines+markers",
         "type": "scatter",
         "x": [
          0,
          0.0000658018616377376
         ],
         "xaxis": "x",
         "y": [
          0,
          0.00006491809472208843
         ],
         "yaxis": "y"
        },
        {
         "line": {
          "color": "rgb(230, 172, 255.0)"
         },
         "marker": {
          "color": "rgb(230, 172, 255.0)",
          "size": 10
         },
         "mode": "lines+markers",
         "type": "scatter",
         "x": [
          0,
          0.0000658018616377376
         ],
         "xaxis": "x",
         "y": [
          0,
          0.00006491809472208843
         ],
         "yaxis": "y"
        },
        {
         "line": {
          "color": "rgb(230, 172, 255.0)"
         },
         "marker": {
          "color": "rgb(230, 172, 255.0)",
          "size": 10
         },
         "mode": "lines+markers",
         "type": "scatter",
         "x": [
          0,
          0.0000658018616377376
         ],
         "xaxis": "x",
         "y": [
          0,
          0.00006491809472208843
         ],
         "yaxis": "y"
        },
        {
         "line": {
          "color": "rgb(230, 172, 255.0)"
         },
         "marker": {
          "color": "rgb(230, 172, 255.0)",
          "size": 10
         },
         "mode": "lines+markers",
         "type": "scatter",
         "x": [
          0,
          0.0000658018616377376
         ],
         "xaxis": "x",
         "y": [
          0,
          0.00006491809472208843
         ],
         "yaxis": "y"
        },
        {
         "line": {
          "color": "rgb(230, 172, 255.0)"
         },
         "marker": {
          "color": "rgb(230, 172, 255.0)",
          "size": 10
         },
         "mode": "lines+markers",
         "type": "scatter",
         "x": [
          0,
          0.0000658018616377376
         ],
         "xaxis": "x",
         "y": [
          0,
          0.00006491809472208843
         ],
         "yaxis": "y"
        },
        {
         "line": {
          "color": "rgb(230, 172, 255.0)"
         },
         "marker": {
          "color": "rgb(230, 172, 255.0)",
          "size": 10
         },
         "mode": "lines+markers",
         "type": "scatter",
         "x": [
          0,
          0.0000658018616377376
         ],
         "xaxis": "x",
         "y": [
          0,
          0.00006491809472208843
         ],
         "yaxis": "y"
        },
        {
         "line": {
          "color": "rgb(230, 172, 255.0)"
         },
         "marker": {
          "color": "rgb(230, 172, 255.0)",
          "size": 10
         },
         "mode": "lines+markers",
         "type": "scatter",
         "x": [
          0,
          0.0000658018616377376
         ],
         "xaxis": "x",
         "y": [
          0,
          0.00006491809472208843
         ],
         "yaxis": "y"
        },
        {
         "line": {
          "color": "rgb(230, 172, 255.0)"
         },
         "marker": {
          "color": "rgb(230, 172, 255.0)",
          "size": 10
         },
         "mode": "lines+markers",
         "type": "scatter",
         "x": [
          0,
          0.0000658018616377376
         ],
         "xaxis": "x",
         "y": [
          0,
          0.00006491809472208843
         ],
         "yaxis": "y"
        },
        {
         "line": {
          "color": "rgb(230, 172, 255.0)"
         },
         "marker": {
          "color": "rgb(230, 172, 255.0)",
          "size": 10
         },
         "mode": "lines+markers",
         "type": "scatter",
         "x": [
          0,
          0.0000658018616377376
         ],
         "xaxis": "x",
         "y": [
          0,
          0.00006491809472208843
         ],
         "yaxis": "y"
        },
        {
         "line": {
          "color": "rgb(230, 172, 255.0)"
         },
         "marker": {
          "color": "rgb(230, 172, 255.0)",
          "size": 10
         },
         "mode": "lines+markers",
         "type": "scatter",
         "x": [
          0,
          0.0000658018616377376
         ],
         "xaxis": "x",
         "y": [
          0,
          0.00006491809472208843
         ],
         "yaxis": "y"
        },
        {
         "line": {
          "color": "rgb(230, 172, 255.0)"
         },
         "marker": {
          "color": "rgb(230, 172, 255.0)",
          "size": 10
         },
         "mode": "lines+markers",
         "type": "scatter",
         "x": [
          0,
          0.0000658018616377376
         ],
         "xaxis": "x",
         "y": [
          0,
          0.00006491809472208843
         ],
         "yaxis": "y"
        },
        {
         "line": {
          "color": "rgb(230, 172, 255.0)"
         },
         "marker": {
          "color": "rgb(230, 172, 255.0)",
          "size": 10
         },
         "mode": "lines+markers",
         "type": "scatter",
         "x": [
          0,
          0.0000658018616377376
         ],
         "xaxis": "x",
         "y": [
          0,
          0.00006491809472208843
         ],
         "yaxis": "y"
        },
        {
         "line": {
          "color": "rgb(230, 172, 255.0)"
         },
         "marker": {
          "color": "rgb(230, 172, 255.0)",
          "size": 10
         },
         "mode": "lines+markers",
         "type": "scatter",
         "x": [
          0,
          0.0000658018616377376
         ],
         "xaxis": "x",
         "y": [
          0,
          0.00006491809472208843
         ],
         "yaxis": "y"
        },
        {
         "line": {
          "color": "rgb(230, 172, 255.0)"
         },
         "marker": {
          "color": "rgb(230, 172, 255.0)",
          "size": 10
         },
         "mode": "lines+markers",
         "type": "scatter",
         "x": [
          0,
          0.0000658018616377376
         ],
         "xaxis": "x",
         "y": [
          0,
          0.00006491809472208843
         ],
         "yaxis": "y"
        },
        {
         "line": {
          "color": "rgb(230, 172, 255.0)"
         },
         "marker": {
          "color": "rgb(230, 172, 255.0)",
          "size": 10
         },
         "mode": "lines+markers",
         "type": "scatter",
         "x": [
          0,
          0.0000658018616377376
         ],
         "xaxis": "x",
         "y": [
          0,
          0.00006491809472208843
         ],
         "yaxis": "y"
        },
        {
         "line": {
          "color": "rgb(230, 172, 255.0)"
         },
         "marker": {
          "color": "rgb(230, 172, 255.0)",
          "size": 10
         },
         "mode": "lines+markers",
         "type": "scatter",
         "x": [
          0,
          0.0000658018616377376
         ],
         "xaxis": "x",
         "y": [
          0,
          0.00006491809472208843
         ],
         "yaxis": "y"
        },
        {
         "line": {
          "color": "rgb(230, 172, 255.0)"
         },
         "marker": {
          "color": "rgb(230, 172, 255.0)",
          "size": 10
         },
         "mode": "lines+markers",
         "type": "scatter",
         "x": [
          0,
          0.0000658018616377376
         ],
         "xaxis": "x",
         "y": [
          0,
          0.00006491809472208843
         ],
         "yaxis": "y"
        },
        {
         "line": {
          "color": "rgb(230, 172, 255.0)"
         },
         "marker": {
          "color": "rgb(230, 172, 255.0)",
          "size": 10
         },
         "mode": "lines+markers",
         "type": "scatter",
         "x": [
          0,
          0.0000658018616377376
         ],
         "xaxis": "x",
         "y": [
          0,
          0.00006491809472208843
         ],
         "yaxis": "y"
        },
        {
         "line": {
          "color": "rgb(230, 172, 255.0)"
         },
         "marker": {
          "color": "rgb(230, 172, 255.0)",
          "size": 10
         },
         "mode": "lines+markers",
         "type": "scatter",
         "x": [
          0,
          0.0000658018616377376
         ],
         "xaxis": "x",
         "y": [
          0,
          0.00006491809472208843
         ],
         "yaxis": "y"
        },
        {
         "line": {
          "color": "rgb(230, 172, 255.0)"
         },
         "marker": {
          "color": "rgb(230, 172, 255.0)",
          "size": 10
         },
         "mode": "lines+markers",
         "type": "scatter",
         "x": [
          0,
          0.0000658018616377376
         ],
         "xaxis": "x",
         "y": [
          0,
          0.00006491809472208843
         ],
         "yaxis": "y"
        },
        {
         "line": {
          "color": "rgb(230, 172, 255.0)"
         },
         "marker": {
          "color": "rgb(230, 172, 255.0)",
          "size": 10
         },
         "mode": "lines+markers",
         "type": "scatter",
         "x": [
          0,
          0.0000658018616377376
         ],
         "xaxis": "x",
         "y": [
          0,
          0.00006491809472208843
         ],
         "yaxis": "y"
        },
        {
         "line": {
          "color": "rgb(230, 172, 255.0)"
         },
         "marker": {
          "color": "rgb(230, 172, 255.0)",
          "size": 10
         },
         "mode": "lines+markers",
         "type": "scatter",
         "x": [
          0,
          0.0000658018616377376
         ],
         "xaxis": "x",
         "y": [
          0,
          0.00006491809472208843
         ],
         "yaxis": "y"
        },
        {
         "line": {
          "color": "rgb(230, 172, 255.0)"
         },
         "marker": {
          "color": "rgb(230, 172, 255.0)",
          "size": 10
         },
         "mode": "lines+markers",
         "type": "scatter",
         "x": [
          0,
          0.0000658018616377376
         ],
         "xaxis": "x",
         "y": [
          0,
          0.00006491809472208843
         ],
         "yaxis": "y"
        },
        {
         "line": {
          "color": "rgb(230, 172, 255.0)"
         },
         "marker": {
          "color": "rgb(230, 172, 255.0)",
          "size": 10
         },
         "mode": "lines+markers",
         "type": "scatter",
         "x": [
          0,
          0.0000658018616377376
         ],
         "xaxis": "x",
         "y": [
          0,
          0.00006491809472208843
         ],
         "yaxis": "y"
        },
        {
         "line": {
          "color": "rgb(230, 172, 255.0)"
         },
         "marker": {
          "color": "rgb(230, 172, 255.0)",
          "size": 10
         },
         "mode": "lines+markers",
         "type": "scatter",
         "x": [
          0,
          0.0000658018616377376
         ],
         "xaxis": "x",
         "y": [
          0,
          0.00006491809472208843
         ],
         "yaxis": "y"
        },
        {
         "line": {
          "color": "rgb(230, 172, 255.0)"
         },
         "marker": {
          "color": "rgb(230, 172, 255.0)",
          "size": 10
         },
         "mode": "lines+markers",
         "type": "scatter",
         "x": [
          0,
          0.0000658018616377376
         ],
         "xaxis": "x",
         "y": [
          0,
          0.00006491809472208843
         ],
         "yaxis": "y"
        },
        {
         "line": {
          "color": "rgb(230, 172, 255.0)"
         },
         "marker": {
          "color": "rgb(230, 172, 255.0)",
          "size": 10
         },
         "mode": "lines+markers",
         "type": "scatter",
         "x": [
          0,
          0.0000658018616377376
         ],
         "xaxis": "x",
         "y": [
          0,
          0.00006491809472208843
         ],
         "yaxis": "y"
        },
        {
         "line": {
          "color": "rgb(230, 172, 255.0)"
         },
         "marker": {
          "color": "rgb(230, 172, 255.0)",
          "size": 10
         },
         "mode": "lines+markers",
         "type": "scatter",
         "x": [
          0,
          0.0000658018616377376
         ],
         "xaxis": "x",
         "y": [
          0,
          0.00006491809472208843
         ],
         "yaxis": "y"
        },
        {
         "line": {
          "color": "rgb(230, 172, 255.0)"
         },
         "marker": {
          "color": "rgb(230, 172, 255.0)",
          "size": 10
         },
         "mode": "lines+markers",
         "type": "scatter",
         "x": [
          0,
          0.0000658018616377376
         ],
         "xaxis": "x",
         "y": [
          0,
          0.00006491809472208843
         ],
         "yaxis": "y"
        },
        {
         "line": {
          "color": "rgb(230, 172, 255.0)"
         },
         "marker": {
          "color": "rgb(230, 172, 255.0)",
          "size": 10
         },
         "mode": "lines+markers",
         "type": "scatter",
         "x": [
          0,
          0.0000658018616377376
         ],
         "xaxis": "x",
         "y": [
          0,
          0.00006491809472208843
         ],
         "yaxis": "y"
        },
        {
         "line": {
          "color": "rgb(230, 172, 255.0)"
         },
         "marker": {
          "color": "rgb(230, 172, 255.0)",
          "size": 10
         },
         "mode": "lines+markers",
         "type": "scatter",
         "x": [
          0,
          0.0000658018616377376
         ],
         "xaxis": "x",
         "y": [
          0,
          0.00006491809472208843
         ],
         "yaxis": "y"
        },
        {
         "line": {
          "color": "rgb(230, 172, 255.0)"
         },
         "marker": {
          "color": "rgb(230, 172, 255.0)",
          "size": 10
         },
         "mode": "lines+markers",
         "type": "scatter",
         "x": [
          0,
          0.0000658018616377376
         ],
         "xaxis": "x",
         "y": [
          0,
          0.00006491809472208843
         ],
         "yaxis": "y"
        },
        {
         "line": {
          "color": "rgb(230, 172, 255.0)"
         },
         "marker": {
          "color": "rgb(230, 172, 255.0)",
          "size": 10
         },
         "mode": "lines+markers",
         "type": "scatter",
         "x": [
          0,
          0.0000658018616377376
         ],
         "xaxis": "x",
         "y": [
          0,
          0.00006491809472208843
         ],
         "yaxis": "y"
        },
        {
         "line": {
          "color": "rgb(230, 172, 255.0)"
         },
         "marker": {
          "color": "rgb(230, 172, 255.0)",
          "size": 10
         },
         "mode": "lines+markers",
         "type": "scatter",
         "x": [
          0,
          0.0000658018616377376
         ],
         "xaxis": "x",
         "y": [
          0,
          0.00006491809472208843
         ],
         "yaxis": "y"
        },
        {
         "line": {
          "color": "rgb(230, 172, 255.0)"
         },
         "marker": {
          "color": "rgb(230, 172, 255.0)",
          "size": 10
         },
         "mode": "lines+markers",
         "type": "scatter",
         "x": [
          0,
          0.0000658018616377376
         ],
         "xaxis": "x",
         "y": [
          0,
          0.00006491809472208843
         ],
         "yaxis": "y"
        },
        {
         "line": {
          "color": "rgb(230, 172, 255.0)"
         },
         "marker": {
          "color": "rgb(230, 172, 255.0)",
          "size": 10
         },
         "mode": "lines+markers",
         "type": "scatter",
         "x": [
          0,
          0.0000658018616377376
         ],
         "xaxis": "x",
         "y": [
          0,
          0.00006491809472208843
         ],
         "yaxis": "y"
        },
        {
         "line": {
          "color": "rgb(230, 172, 255.0)"
         },
         "marker": {
          "color": "rgb(230, 172, 255.0)",
          "size": 10
         },
         "mode": "lines+markers",
         "type": "scatter",
         "x": [
          0,
          0.0000658018616377376
         ],
         "xaxis": "x",
         "y": [
          0,
          0.00006491809472208843
         ],
         "yaxis": "y"
        },
        {
         "line": {
          "color": "rgb(230, 172, 255.0)"
         },
         "marker": {
          "color": "rgb(230, 172, 255.0)",
          "size": 10
         },
         "mode": "lines+markers",
         "type": "scatter",
         "x": [
          0,
          0.0000658018616377376
         ],
         "xaxis": "x",
         "y": [
          0,
          0.00006491809472208843
         ],
         "yaxis": "y"
        },
        {
         "line": {
          "color": "rgb(230, 172, 255.0)"
         },
         "marker": {
          "color": "rgb(230, 172, 255.0)",
          "size": 10
         },
         "mode": "lines+markers",
         "type": "scatter",
         "x": [
          0,
          0.0000658018616377376
         ],
         "xaxis": "x",
         "y": [
          0,
          0.00006491809472208843
         ],
         "yaxis": "y"
        },
        {
         "line": {
          "color": "rgb(230, 172, 255.0)"
         },
         "marker": {
          "color": "rgb(230, 172, 255.0)",
          "size": 10
         },
         "mode": "lines+markers",
         "type": "scatter",
         "x": [
          0,
          0.0000658018616377376
         ],
         "xaxis": "x",
         "y": [
          0,
          0.00006491809472208843
         ],
         "yaxis": "y"
        },
        {
         "line": {
          "color": "rgb(230, 172, 255.0)"
         },
         "marker": {
          "color": "rgb(230, 172, 255.0)",
          "size": 10
         },
         "mode": "lines+markers",
         "type": "scatter",
         "x": [
          0,
          0.0000658018616377376
         ],
         "xaxis": "x",
         "y": [
          0,
          0.00006491809472208843
         ],
         "yaxis": "y"
        },
        {
         "line": {
          "color": "rgb(230, 172, 255.0)"
         },
         "marker": {
          "color": "rgb(230, 172, 255.0)",
          "size": 10
         },
         "mode": "lines+markers",
         "type": "scatter",
         "x": [
          0,
          0.0000658018616377376
         ],
         "xaxis": "x",
         "y": [
          0,
          0.00006491809472208843
         ],
         "yaxis": "y"
        },
        {
         "line": {
          "color": "rgb(230, 172, 255.0)"
         },
         "marker": {
          "color": "rgb(230, 172, 255.0)",
          "size": 10
         },
         "mode": "lines+markers",
         "type": "scatter",
         "x": [
          0,
          0.0000658018616377376
         ],
         "xaxis": "x",
         "y": [
          0,
          0.00006491809472208843
         ],
         "yaxis": "y"
        },
        {
         "line": {
          "color": "rgb(230, 172, 255.0)"
         },
         "marker": {
          "color": "rgb(230, 172, 255.0)",
          "size": 10
         },
         "mode": "lines+markers",
         "type": "scatter",
         "x": [
          0,
          0.0000658018616377376
         ],
         "xaxis": "x",
         "y": [
          0,
          0.00006491809472208843
         ],
         "yaxis": "y"
        },
        {
         "line": {
          "color": "rgb(230, 172, 255.0)"
         },
         "marker": {
          "color": "rgb(230, 172, 255.0)",
          "size": 10
         },
         "mode": "lines+markers",
         "type": "scatter",
         "x": [
          0,
          0.0000658018616377376
         ],
         "xaxis": "x",
         "y": [
          0,
          0.00006491809472208843
         ],
         "yaxis": "y"
        },
        {
         "line": {
          "color": "rgb(230, 172, 255.0)"
         },
         "marker": {
          "color": "rgb(230, 172, 255.0)",
          "size": 10
         },
         "mode": "lines+markers",
         "type": "scatter",
         "x": [
          0,
          0.0000658018616377376
         ],
         "xaxis": "x",
         "y": [
          0,
          0.00006491809472208843
         ],
         "yaxis": "y"
        },
        {
         "line": {
          "color": "rgb(230, 172, 255.0)"
         },
         "marker": {
          "color": "rgb(230, 172, 255.0)",
          "size": 10
         },
         "mode": "lines+markers",
         "type": "scatter",
         "x": [
          0,
          0.0000658018616377376
         ],
         "xaxis": "x",
         "y": [
          0,
          0.00006491809472208843
         ],
         "yaxis": "y"
        },
        {
         "line": {
          "color": "rgb(230, 172, 255.0)"
         },
         "marker": {
          "color": "rgb(230, 172, 255.0)",
          "size": 10
         },
         "mode": "lines+markers",
         "type": "scatter",
         "x": [
          0,
          0.0000658018616377376
         ],
         "xaxis": "x",
         "y": [
          0,
          0.00006491809472208843
         ],
         "yaxis": "y"
        },
        {
         "line": {
          "color": "rgb(230, 172, 255.0)"
         },
         "marker": {
          "color": "rgb(230, 172, 255.0)",
          "size": 10
         },
         "mode": "lines+markers",
         "type": "scatter",
         "x": [
          0,
          0.0000658018616377376
         ],
         "xaxis": "x",
         "y": [
          0,
          0.00006491809472208843
         ],
         "yaxis": "y"
        },
        {
         "line": {
          "color": "rgb(230, 172, 255.0)"
         },
         "marker": {
          "color": "rgb(230, 172, 255.0)",
          "size": 10
         },
         "mode": "lines+markers",
         "type": "scatter",
         "x": [
          0,
          0.0000658018616377376
         ],
         "xaxis": "x",
         "y": [
          0,
          0.00006491809472208843
         ],
         "yaxis": "y"
        },
        {
         "line": {
          "color": "rgb(230, 172, 255.0)"
         },
         "marker": {
          "color": "rgb(230, 172, 255.0)",
          "size": 10
         },
         "mode": "lines+markers",
         "type": "scatter",
         "x": [
          0,
          0.0000658018616377376
         ],
         "xaxis": "x",
         "y": [
          0,
          0.00006491809472208843
         ],
         "yaxis": "y"
        },
        {
         "line": {
          "color": "rgb(230, 172, 255.0)"
         },
         "marker": {
          "color": "rgb(230, 172, 255.0)",
          "size": 10
         },
         "mode": "lines+markers",
         "type": "scatter",
         "x": [
          0,
          0.0000658018616377376
         ],
         "xaxis": "x",
         "y": [
          0,
          0.00006491809472208843
         ],
         "yaxis": "y"
        },
        {
         "line": {
          "color": "rgb(230, 172, 255.0)"
         },
         "marker": {
          "color": "rgb(230, 172, 255.0)",
          "size": 10
         },
         "mode": "lines+markers",
         "type": "scatter",
         "x": [
          0,
          0.0000658018616377376
         ],
         "xaxis": "x",
         "y": [
          0,
          0.00006491809472208843
         ],
         "yaxis": "y"
        },
        {
         "line": {
          "color": "rgb(230, 172, 255.0)"
         },
         "marker": {
          "color": "rgb(230, 172, 255.0)",
          "size": 10
         },
         "mode": "lines+markers",
         "type": "scatter",
         "x": [
          0,
          0.0000658018616377376
         ],
         "xaxis": "x",
         "y": [
          0,
          0.00006491809472208843
         ],
         "yaxis": "y"
        },
        {
         "line": {
          "color": "rgb(230, 172, 255.0)"
         },
         "marker": {
          "color": "rgb(230, 172, 255.0)",
          "size": 10
         },
         "mode": "lines+markers",
         "type": "scatter",
         "x": [
          0,
          0.0000658018616377376
         ],
         "xaxis": "x",
         "y": [
          0,
          0.00006491809472208843
         ],
         "yaxis": "y"
        },
        {
         "line": {
          "color": "rgb(230, 172, 255.0)"
         },
         "marker": {
          "color": "rgb(230, 172, 255.0)",
          "size": 10
         },
         "mode": "lines+markers",
         "type": "scatter",
         "x": [
          0,
          0.0000658018616377376
         ],
         "xaxis": "x",
         "y": [
          0,
          0.00006491809472208843
         ],
         "yaxis": "y"
        },
        {
         "line": {
          "color": "rgb(230, 172, 255.0)"
         },
         "marker": {
          "color": "rgb(230, 172, 255.0)",
          "size": 10
         },
         "mode": "lines+markers",
         "type": "scatter",
         "x": [
          0,
          0.0000658018616377376
         ],
         "xaxis": "x",
         "y": [
          0,
          0.00006491809472208843
         ],
         "yaxis": "y"
        },
        {
         "line": {
          "color": "rgb(230, 172, 255.0)"
         },
         "marker": {
          "color": "rgb(230, 172, 255.0)",
          "size": 10
         },
         "mode": "lines+markers",
         "type": "scatter",
         "x": [
          0,
          0.0000658018616377376
         ],
         "xaxis": "x",
         "y": [
          0,
          0.00006491809472208843
         ],
         "yaxis": "y"
        },
        {
         "line": {
          "color": "rgb(230, 172, 255.0)"
         },
         "marker": {
          "color": "rgb(230, 172, 255.0)",
          "size": 10
         },
         "mode": "lines+markers",
         "type": "scatter",
         "x": [
          0,
          0.0000658018616377376
         ],
         "xaxis": "x",
         "y": [
          0,
          0.00006491809472208843
         ],
         "yaxis": "y"
        },
        {
         "line": {
          "color": "rgb(230, 172, 255.0)"
         },
         "marker": {
          "color": "rgb(230, 172, 255.0)",
          "size": 10
         },
         "mode": "lines+markers",
         "type": "scatter",
         "x": [
          0,
          0.0000658018616377376
         ],
         "xaxis": "x",
         "y": [
          0,
          0.00006491809472208843
         ],
         "yaxis": "y"
        },
        {
         "line": {
          "color": "rgb(230, 172, 255.0)"
         },
         "marker": {
          "color": "rgb(230, 172, 255.0)",
          "size": 10
         },
         "mode": "lines+markers",
         "type": "scatter",
         "x": [
          0,
          0.0000658018616377376
         ],
         "xaxis": "x",
         "y": [
          0,
          0.00006491809472208843
         ],
         "yaxis": "y"
        },
        {
         "line": {
          "color": "rgb(230, 172, 255.0)"
         },
         "marker": {
          "color": "rgb(230, 172, 255.0)",
          "size": 10
         },
         "mode": "lines+markers",
         "type": "scatter",
         "x": [
          0,
          0.0000658018616377376
         ],
         "xaxis": "x",
         "y": [
          0,
          0.00006491809472208843
         ],
         "yaxis": "y"
        },
        {
         "line": {
          "color": "rgb(230, 172, 255.0)"
         },
         "marker": {
          "color": "rgb(230, 172, 255.0)",
          "size": 10
         },
         "mode": "lines+markers",
         "type": "scatter",
         "x": [
          0,
          0.0000658018616377376
         ],
         "xaxis": "x",
         "y": [
          0,
          0.00006491809472208843
         ],
         "yaxis": "y"
        },
        {
         "line": {
          "color": "rgb(230, 172, 255.0)"
         },
         "marker": {
          "color": "rgb(230, 172, 255.0)",
          "size": 10
         },
         "mode": "lines+markers",
         "type": "scatter",
         "x": [
          0,
          0.0000658018616377376
         ],
         "xaxis": "x",
         "y": [
          0,
          0.00006491809472208843
         ],
         "yaxis": "y"
        },
        {
         "line": {
          "color": "rgb(230, 172, 255.0)"
         },
         "marker": {
          "color": "rgb(230, 172, 255.0)",
          "size": 10
         },
         "mode": "lines+markers",
         "type": "scatter",
         "x": [
          0,
          0.0000658018616377376
         ],
         "xaxis": "x",
         "y": [
          0,
          0.00006491809472208843
         ],
         "yaxis": "y"
        },
        {
         "line": {
          "color": "rgb(230, 172, 255.0)"
         },
         "marker": {
          "color": "rgb(230, 172, 255.0)",
          "size": 10
         },
         "mode": "lines+markers",
         "type": "scatter",
         "x": [
          0,
          0.0000658018616377376
         ],
         "xaxis": "x",
         "y": [
          0,
          0.00006491809472208843
         ],
         "yaxis": "y"
        },
        {
         "line": {
          "color": "rgb(230, 172, 255.0)"
         },
         "marker": {
          "color": "rgb(230, 172, 255.0)",
          "size": 10
         },
         "mode": "lines+markers",
         "type": "scatter",
         "x": [
          0,
          0.0000658018616377376
         ],
         "xaxis": "x",
         "y": [
          0,
          0.00006491809472208843
         ],
         "yaxis": "y"
        },
        {
         "line": {
          "color": "rgb(230, 172, 255.0)"
         },
         "marker": {
          "color": "rgb(230, 172, 255.0)",
          "size": 10
         },
         "mode": "lines+markers",
         "type": "scatter",
         "x": [
          0,
          0.0000658018616377376
         ],
         "xaxis": "x",
         "y": [
          0,
          0.00006491809472208843
         ],
         "yaxis": "y"
        },
        {
         "line": {
          "color": "rgb(230, 172, 255.0)"
         },
         "marker": {
          "color": "rgb(230, 172, 255.0)",
          "size": 10
         },
         "mode": "lines+markers",
         "type": "scatter",
         "x": [
          0,
          0.0000658018616377376
         ],
         "xaxis": "x",
         "y": [
          0,
          0.00006491809472208843
         ],
         "yaxis": "y"
        },
        {
         "line": {
          "color": "rgb(230, 172, 255.0)"
         },
         "marker": {
          "color": "rgb(230, 172, 255.0)",
          "size": 10
         },
         "mode": "lines+markers",
         "type": "scatter",
         "x": [
          0,
          0.0000658018616377376
         ],
         "xaxis": "x",
         "y": [
          0,
          0.00006491809472208843
         ],
         "yaxis": "y"
        },
        {
         "line": {
          "color": "rgb(230, 172, 255.0)"
         },
         "marker": {
          "color": "rgb(230, 172, 255.0)",
          "size": 10
         },
         "mode": "lines+markers",
         "type": "scatter",
         "x": [
          0,
          0.0000658018616377376
         ],
         "xaxis": "x",
         "y": [
          0,
          0.00006491809472208843
         ],
         "yaxis": "y"
        },
        {
         "line": {
          "color": "rgb(230, 172, 255.0)"
         },
         "marker": {
          "color": "rgb(230, 172, 255.0)",
          "size": 10
         },
         "mode": "lines+markers",
         "type": "scatter",
         "x": [
          0,
          0.0000658018616377376
         ],
         "xaxis": "x",
         "y": [
          0,
          0.00006491809472208843
         ],
         "yaxis": "y"
        },
        {
         "line": {
          "color": "rgb(230, 172, 255.0)"
         },
         "marker": {
          "color": "rgb(230, 172, 255.0)",
          "size": 10
         },
         "mode": "lines+markers",
         "type": "scatter",
         "x": [
          0,
          0.0000658018616377376
         ],
         "xaxis": "x",
         "y": [
          0,
          0.00006491809472208843
         ],
         "yaxis": "y"
        },
        {
         "line": {
          "color": "rgb(230, 172, 255.0)"
         },
         "marker": {
          "color": "rgb(230, 172, 255.0)",
          "size": 10
         },
         "mode": "lines+markers",
         "type": "scatter",
         "x": [
          0,
          0.0000658018616377376
         ],
         "xaxis": "x",
         "y": [
          0,
          0.00006491809472208843
         ],
         "yaxis": "y"
        },
        {
         "line": {
          "color": "rgb(230, 172, 255.0)"
         },
         "marker": {
          "color": "rgb(230, 172, 255.0)",
          "size": 10
         },
         "mode": "lines+markers",
         "type": "scatter",
         "x": [
          0,
          0.0000658018616377376
         ],
         "xaxis": "x",
         "y": [
          0,
          0.00006491809472208843
         ],
         "yaxis": "y"
        },
        {
         "line": {
          "color": "rgb(230, 172, 255.0)"
         },
         "marker": {
          "color": "rgb(230, 172, 255.0)",
          "size": 10
         },
         "mode": "lines+markers",
         "type": "scatter",
         "x": [
          0,
          0.0000658018616377376
         ],
         "xaxis": "x",
         "y": [
          0,
          0.00006491809472208843
         ],
         "yaxis": "y"
        },
        {
         "line": {
          "color": "rgb(230, 172, 255.0)"
         },
         "marker": {
          "color": "rgb(230, 172, 255.0)",
          "size": 10
         },
         "mode": "lines+markers",
         "type": "scatter",
         "x": [
          0,
          0.0000658018616377376
         ],
         "xaxis": "x",
         "y": [
          0,
          0.00006491809472208843
         ],
         "yaxis": "y"
        },
        {
         "line": {
          "color": "rgb(230, 172, 255.0)"
         },
         "marker": {
          "color": "rgb(230, 172, 255.0)",
          "size": 10
         },
         "mode": "lines+markers",
         "type": "scatter",
         "x": [
          0,
          0.0000658018616377376
         ],
         "xaxis": "x",
         "y": [
          0,
          0.00006491809472208843
         ],
         "yaxis": "y"
        },
        {
         "line": {
          "color": "rgb(230, 172, 255.0)"
         },
         "marker": {
          "color": "rgb(230, 172, 255.0)",
          "size": 10
         },
         "mode": "lines+markers",
         "type": "scatter",
         "x": [
          0,
          0.0000658018616377376
         ],
         "xaxis": "x",
         "y": [
          0,
          0.00006491809472208843
         ],
         "yaxis": "y"
        },
        {
         "line": {
          "color": "rgb(230, 172, 255.0)"
         },
         "marker": {
          "color": "rgb(230, 172, 255.0)",
          "size": 10
         },
         "mode": "lines+markers",
         "type": "scatter",
         "x": [
          0,
          0.0000658018616377376
         ],
         "xaxis": "x",
         "y": [
          0,
          0.00006491809472208843
         ],
         "yaxis": "y"
        },
        {
         "line": {
          "color": "rgb(230, 172, 255.0)"
         },
         "marker": {
          "color": "rgb(230, 172, 255.0)",
          "size": 10
         },
         "mode": "lines+markers",
         "type": "scatter",
         "x": [
          0,
          0.0000658018616377376
         ],
         "xaxis": "x",
         "y": [
          0,
          0.00006491809472208843
         ],
         "yaxis": "y"
        },
        {
         "line": {
          "color": "rgb(230, 172, 255.0)"
         },
         "marker": {
          "color": "rgb(230, 172, 255.0)",
          "size": 10
         },
         "mode": "lines+markers",
         "type": "scatter",
         "x": [
          0,
          0.0000658018616377376
         ],
         "xaxis": "x",
         "y": [
          0,
          0.00006491809472208843
         ],
         "yaxis": "y"
        },
        {
         "line": {
          "color": "rgb(230, 172, 255.0)"
         },
         "marker": {
          "color": "rgb(230, 172, 255.0)",
          "size": 10
         },
         "mode": "lines+markers",
         "type": "scatter",
         "x": [
          0,
          0.0000658018616377376
         ],
         "xaxis": "x",
         "y": [
          0,
          0.00006491809472208843
         ],
         "yaxis": "y"
        },
        {
         "line": {
          "color": "rgb(230, 172, 255.0)"
         },
         "marker": {
          "color": "rgb(230, 172, 255.0)",
          "size": 10
         },
         "mode": "lines+markers",
         "type": "scatter",
         "x": [
          0,
          0.0000658018616377376
         ],
         "xaxis": "x",
         "y": [
          0,
          0.00006491809472208843
         ],
         "yaxis": "y"
        },
        {
         "line": {
          "color": "rgb(230, 172, 255.0)"
         },
         "marker": {
          "color": "rgb(230, 172, 255.0)",
          "size": 10
         },
         "mode": "lines+markers",
         "type": "scatter",
         "x": [
          0,
          0.0000658018616377376
         ],
         "xaxis": "x",
         "y": [
          0,
          0.00006491809472208843
         ],
         "yaxis": "y"
        },
        {
         "line": {
          "color": "rgb(230, 172, 255.0)"
         },
         "marker": {
          "color": "rgb(230, 172, 255.0)",
          "size": 10
         },
         "mode": "lines+markers",
         "type": "scatter",
         "x": [
          0,
          0.0000658018616377376
         ],
         "xaxis": "x",
         "y": [
          0,
          0.00006491809472208843
         ],
         "yaxis": "y"
        },
        {
         "line": {
          "color": "rgb(230, 172, 255.0)"
         },
         "marker": {
          "color": "rgb(230, 172, 255.0)",
          "size": 10
         },
         "mode": "lines+markers",
         "type": "scatter",
         "x": [
          0,
          0.0000658018616377376
         ],
         "xaxis": "x",
         "y": [
          0,
          0.00006491809472208843
         ],
         "yaxis": "y"
        },
        {
         "line": {
          "color": "rgb(230, 172, 255.0)"
         },
         "marker": {
          "color": "rgb(230, 172, 255.0)",
          "size": 10
         },
         "mode": "lines+markers",
         "type": "scatter",
         "x": [
          0,
          0.0000658018616377376
         ],
         "xaxis": "x",
         "y": [
          0,
          0.00006491809472208843
         ],
         "yaxis": "y"
        },
        {
         "line": {
          "color": "rgb(230, 172, 255.0)"
         },
         "marker": {
          "color": "rgb(230, 172, 255.0)",
          "size": 10
         },
         "mode": "lines+markers",
         "type": "scatter",
         "x": [
          0,
          0.0000658018616377376
         ],
         "xaxis": "x",
         "y": [
          0,
          0.00006491809472208843
         ],
         "yaxis": "y"
        },
        {
         "line": {
          "color": "rgb(230, 172, 255.0)"
         },
         "marker": {
          "color": "rgb(230, 172, 255.0)",
          "size": 10
         },
         "mode": "lines+markers",
         "type": "scatter",
         "x": [
          0,
          0.0000658018616377376
         ],
         "xaxis": "x",
         "y": [
          0,
          0.00006491809472208843
         ],
         "yaxis": "y"
        },
        {
         "line": {
          "color": "rgb(230, 172, 255.0)"
         },
         "marker": {
          "color": "rgb(230, 172, 255.0)",
          "size": 10
         },
         "mode": "lines+markers",
         "type": "scatter",
         "x": [
          0,
          0.0000658018616377376
         ],
         "xaxis": "x",
         "y": [
          0,
          0.00006491809472208843
         ],
         "yaxis": "y"
        },
        {
         "line": {
          "color": "rgb(230, 172, 255.0)"
         },
         "marker": {
          "color": "rgb(230, 172, 255.0)",
          "size": 10
         },
         "mode": "lines+markers",
         "type": "scatter",
         "x": [
          0,
          0.0000658018616377376
         ],
         "xaxis": "x",
         "y": [
          0,
          0.00006491809472208843
         ],
         "yaxis": "y"
        },
        {
         "line": {
          "color": "rgb(230, 172, 255.0)"
         },
         "marker": {
          "color": "rgb(230, 172, 255.0)",
          "size": 10
         },
         "mode": "lines+markers",
         "type": "scatter",
         "x": [
          0,
          0.0000658018616377376
         ],
         "xaxis": "x",
         "y": [
          0,
          0.00006491809472208843
         ],
         "yaxis": "y"
        },
        {
         "line": {
          "color": "rgb(230, 172, 255.0)"
         },
         "marker": {
          "color": "rgb(230, 172, 255.0)",
          "size": 10
         },
         "mode": "lines+markers",
         "type": "scatter",
         "x": [
          0,
          0.0000658018616377376
         ],
         "xaxis": "x",
         "y": [
          0,
          0.00006491809472208843
         ],
         "yaxis": "y"
        },
        {
         "line": {
          "color": "rgb(230, 172, 255.0)"
         },
         "marker": {
          "color": "rgb(230, 172, 255.0)",
          "size": 10
         },
         "mode": "lines+markers",
         "type": "scatter",
         "x": [
          0,
          0.0000658018616377376
         ],
         "xaxis": "x",
         "y": [
          0,
          0.00006491809472208843
         ],
         "yaxis": "y"
        },
        {
         "line": {
          "color": "rgb(230, 172, 255.0)"
         },
         "marker": {
          "color": "rgb(230, 172, 255.0)",
          "size": 10
         },
         "mode": "lines+markers",
         "type": "scatter",
         "x": [
          0,
          0.0000658018616377376
         ],
         "xaxis": "x",
         "y": [
          0,
          0.00006491809472208843
         ],
         "yaxis": "y"
        },
        {
         "line": {
          "color": "rgb(230, 172, 255.0)"
         },
         "marker": {
          "color": "rgb(230, 172, 255.0)",
          "size": 10
         },
         "mode": "lines+markers",
         "type": "scatter",
         "x": [
          0,
          0.0000658018616377376
         ],
         "xaxis": "x",
         "y": [
          0,
          0.00006491809472208843
         ],
         "yaxis": "y"
        },
        {
         "line": {
          "color": "rgb(230, 172, 255.0)"
         },
         "marker": {
          "color": "rgb(230, 172, 255.0)",
          "size": 10
         },
         "mode": "lines+markers",
         "type": "scatter",
         "x": [
          0,
          0.0000658018616377376
         ],
         "xaxis": "x",
         "y": [
          0,
          0.00006491809472208843
         ],
         "yaxis": "y"
        },
        {
         "line": {
          "color": "rgb(230, 172, 255.0)"
         },
         "marker": {
          "color": "rgb(230, 172, 255.0)",
          "size": 10
         },
         "mode": "lines+markers",
         "type": "scatter",
         "x": [
          0,
          0.0000658018616377376
         ],
         "xaxis": "x",
         "y": [
          0,
          0.00006491809472208843
         ],
         "yaxis": "y"
        },
        {
         "line": {
          "color": "rgb(230, 172, 255.0)"
         },
         "marker": {
          "color": "rgb(230, 172, 255.0)",
          "size": 10
         },
         "mode": "lines+markers",
         "type": "scatter",
         "x": [
          0,
          0.0000658018616377376
         ],
         "xaxis": "x",
         "y": [
          0,
          0.00006491809472208843
         ],
         "yaxis": "y"
        },
        {
         "line": {
          "color": "rgb(230, 172, 255.0)"
         },
         "marker": {
          "color": "rgb(230, 172, 255.0)",
          "size": 10
         },
         "mode": "lines+markers",
         "type": "scatter",
         "x": [
          0,
          0.0000658018616377376
         ],
         "xaxis": "x",
         "y": [
          0,
          0.00006491809472208843
         ],
         "yaxis": "y"
        },
        {
         "line": {
          "color": "rgb(230, 172, 255.0)"
         },
         "marker": {
          "color": "rgb(230, 172, 255.0)",
          "size": 10
         },
         "mode": "lines+markers",
         "type": "scatter",
         "x": [
          0,
          0.0000658018616377376
         ],
         "xaxis": "x",
         "y": [
          0,
          0.00006491809472208843
         ],
         "yaxis": "y"
        },
        {
         "line": {
          "color": "rgb(230, 172, 255.0)"
         },
         "marker": {
          "color": "rgb(230, 172, 255.0)",
          "size": 10
         },
         "mode": "lines+markers",
         "type": "scatter",
         "x": [
          0,
          0.0000658018616377376
         ],
         "xaxis": "x",
         "y": [
          0,
          0.00006491809472208843
         ],
         "yaxis": "y"
        },
        {
         "line": {
          "color": "rgb(230, 172, 255.0)"
         },
         "marker": {
          "color": "rgb(230, 172, 255.0)",
          "size": 10
         },
         "mode": "lines+markers",
         "type": "scatter",
         "x": [
          0,
          0.0000658018616377376
         ],
         "xaxis": "x",
         "y": [
          0,
          0.00006491809472208843
         ],
         "yaxis": "y"
        },
        {
         "line": {
          "color": "rgb(230, 172, 255.0)"
         },
         "marker": {
          "color": "rgb(230, 172, 255.0)",
          "size": 10
         },
         "mode": "lines+markers",
         "type": "scatter",
         "x": [
          0,
          0.0000658018616377376
         ],
         "xaxis": "x",
         "y": [
          0,
          0.00006491809472208843
         ],
         "yaxis": "y"
        },
        {
         "line": {
          "color": "rgb(230, 172, 255.0)"
         },
         "marker": {
          "color": "rgb(230, 172, 255.0)",
          "size": 10
         },
         "mode": "lines+markers",
         "type": "scatter",
         "x": [
          0,
          0.0000658018616377376
         ],
         "xaxis": "x",
         "y": [
          0,
          0.00006491809472208843
         ],
         "yaxis": "y"
        },
        {
         "line": {
          "color": "rgb(230, 172, 255.0)"
         },
         "marker": {
          "color": "rgb(230, 172, 255.0)",
          "size": 10
         },
         "mode": "lines+markers",
         "type": "scatter",
         "x": [
          0,
          0.0000658018616377376
         ],
         "xaxis": "x",
         "y": [
          0,
          0.00006491809472208843
         ],
         "yaxis": "y"
        },
        {
         "line": {
          "color": "rgb(230, 172, 255.0)"
         },
         "marker": {
          "color": "rgb(230, 172, 255.0)",
          "size": 10
         },
         "mode": "lines+markers",
         "type": "scatter",
         "x": [
          0,
          0.0000658018616377376
         ],
         "xaxis": "x",
         "y": [
          0,
          0.00006491809472208843
         ],
         "yaxis": "y"
        },
        {
         "line": {
          "color": "rgb(230, 172, 255.0)"
         },
         "marker": {
          "color": "rgb(230, 172, 255.0)",
          "size": 10
         },
         "mode": "lines+markers",
         "type": "scatter",
         "x": [
          0,
          0.0000658018616377376
         ],
         "xaxis": "x",
         "y": [
          0,
          0.00006491809472208843
         ],
         "yaxis": "y"
        },
        {
         "line": {
          "color": "rgb(230, 172, 255.0)"
         },
         "marker": {
          "color": "rgb(230, 172, 255.0)",
          "size": 10
         },
         "mode": "lines+markers",
         "type": "scatter",
         "x": [
          0,
          0.0000658018616377376
         ],
         "xaxis": "x",
         "y": [
          0,
          0.00006491809472208843
         ],
         "yaxis": "y"
        },
        {
         "line": {
          "color": "rgb(230, 172, 255.0)"
         },
         "marker": {
          "color": "rgb(230, 172, 255.0)",
          "size": 10
         },
         "mode": "lines+markers",
         "type": "scatter",
         "x": [
          0,
          0.0000658018616377376
         ],
         "xaxis": "x",
         "y": [
          0,
          0.00006491809472208843
         ],
         "yaxis": "y"
        },
        {
         "line": {
          "color": "rgb(230, 172, 255.0)"
         },
         "marker": {
          "color": "rgb(230, 172, 255.0)",
          "size": 10
         },
         "mode": "lines+markers",
         "type": "scatter",
         "x": [
          0,
          0.0000658018616377376
         ],
         "xaxis": "x",
         "y": [
          0,
          0.00006491809472208843
         ],
         "yaxis": "y"
        },
        {
         "line": {
          "color": "rgb(230, 172, 255.0)"
         },
         "marker": {
          "color": "rgb(230, 172, 255.0)",
          "size": 10
         },
         "mode": "lines+markers",
         "type": "scatter",
         "x": [
          0,
          0.0000658018616377376
         ],
         "xaxis": "x",
         "y": [
          0,
          0.00006491809472208843
         ],
         "yaxis": "y"
        },
        {
         "line": {
          "color": "rgb(230, 172, 255.0)"
         },
         "marker": {
          "color": "rgb(230, 172, 255.0)",
          "size": 10
         },
         "mode": "lines+markers",
         "type": "scatter",
         "x": [
          0,
          0.0000658018616377376
         ],
         "xaxis": "x",
         "y": [
          0,
          0.00006491809472208843
         ],
         "yaxis": "y"
        },
        {
         "line": {
          "color": "rgb(230, 172, 255.0)"
         },
         "marker": {
          "color": "rgb(230, 172, 255.0)",
          "size": 10
         },
         "mode": "lines+markers",
         "type": "scatter",
         "x": [
          0,
          0.0000658018616377376
         ],
         "xaxis": "x",
         "y": [
          0,
          0.00006491809472208843
         ],
         "yaxis": "y"
        },
        {
         "line": {
          "color": "rgb(230, 172, 255.0)"
         },
         "marker": {
          "color": "rgb(230, 172, 255.0)",
          "size": 10
         },
         "mode": "lines+markers",
         "type": "scatter",
         "x": [
          0,
          0.0000658018616377376
         ],
         "xaxis": "x",
         "y": [
          0,
          0.00006491809472208843
         ],
         "yaxis": "y"
        },
        {
         "line": {
          "color": "rgb(230, 172, 255.0)"
         },
         "marker": {
          "color": "rgb(230, 172, 255.0)",
          "size": 10
         },
         "mode": "lines+markers",
         "type": "scatter",
         "x": [
          0,
          0.0000658018616377376
         ],
         "xaxis": "x",
         "y": [
          0,
          0.00006491809472208843
         ],
         "yaxis": "y"
        },
        {
         "line": {
          "color": "rgb(230, 172, 255.0)"
         },
         "marker": {
          "color": "rgb(230, 172, 255.0)",
          "size": 10
         },
         "mode": "lines+markers",
         "type": "scatter",
         "x": [
          0,
          0.0000658018616377376
         ],
         "xaxis": "x",
         "y": [
          0,
          0.00006491809472208843
         ],
         "yaxis": "y"
        },
        {
         "line": {
          "color": "rgb(230, 172, 255.0)"
         },
         "marker": {
          "color": "rgb(230, 172, 255.0)",
          "size": 10
         },
         "mode": "lines+markers",
         "type": "scatter",
         "x": [
          0,
          0.0000658018616377376
         ],
         "xaxis": "x",
         "y": [
          0,
          0.00006491809472208843
         ],
         "yaxis": "y"
        },
        {
         "line": {
          "color": "rgb(230, 172, 255.0)"
         },
         "marker": {
          "color": "rgb(230, 172, 255.0)",
          "size": 10
         },
         "mode": "lines+markers",
         "type": "scatter",
         "x": [
          0,
          0.0000658018616377376
         ],
         "xaxis": "x",
         "y": [
          0,
          0.00006491809472208843
         ],
         "yaxis": "y"
        },
        {
         "line": {
          "color": "rgb(230, 172, 255.0)"
         },
         "marker": {
          "color": "rgb(230, 172, 255.0)",
          "size": 10
         },
         "mode": "lines+markers",
         "type": "scatter",
         "x": [
          0,
          0.0000658018616377376
         ],
         "xaxis": "x",
         "y": [
          0,
          0.00006491809472208843
         ],
         "yaxis": "y"
        },
        {
         "line": {
          "color": "rgb(230, 172, 255.0)"
         },
         "marker": {
          "color": "rgb(230, 172, 255.0)",
          "size": 10
         },
         "mode": "lines+markers",
         "type": "scatter",
         "x": [
          0,
          0.0000658018616377376
         ],
         "xaxis": "x",
         "y": [
          0,
          0.00006491809472208843
         ],
         "yaxis": "y"
        },
        {
         "line": {
          "color": "rgb(230, 172, 255.0)"
         },
         "marker": {
          "color": "rgb(230, 172, 255.0)",
          "size": 10
         },
         "mode": "lines+markers",
         "type": "scatter",
         "x": [
          0,
          0.0000658018616377376
         ],
         "xaxis": "x",
         "y": [
          0,
          0.00006491809472208843
         ],
         "yaxis": "y"
        },
        {
         "line": {
          "color": "rgb(230, 172, 255.0)"
         },
         "marker": {
          "color": "rgb(230, 172, 255.0)",
          "size": 10
         },
         "mode": "lines+markers",
         "type": "scatter",
         "x": [
          0,
          0.0000658018616377376
         ],
         "xaxis": "x",
         "y": [
          0,
          0.00006491809472208843
         ],
         "yaxis": "y"
        },
        {
         "line": {
          "color": "rgb(230, 172, 255.0)"
         },
         "marker": {
          "color": "rgb(230, 172, 255.0)",
          "size": 10
         },
         "mode": "lines+markers",
         "type": "scatter",
         "x": [
          0,
          0.0000658018616377376
         ],
         "xaxis": "x",
         "y": [
          0,
          0.00006491809472208843
         ],
         "yaxis": "y"
        },
        {
         "line": {
          "color": "rgb(230, 172, 255.0)"
         },
         "marker": {
          "color": "rgb(230, 172, 255.0)",
          "size": 10
         },
         "mode": "lines+markers",
         "type": "scatter",
         "x": [
          0,
          0.0000658018616377376
         ],
         "xaxis": "x",
         "y": [
          0,
          0.00006491809472208843
         ],
         "yaxis": "y"
        },
        {
         "line": {
          "color": "rgb(230, 172, 255.0)"
         },
         "marker": {
          "color": "rgb(230, 172, 255.0)",
          "size": 10
         },
         "mode": "lines+markers",
         "type": "scatter",
         "x": [
          0,
          0.0000658018616377376
         ],
         "xaxis": "x",
         "y": [
          0,
          0.00006491809472208843
         ],
         "yaxis": "y"
        },
        {
         "line": {
          "color": "rgb(230, 172, 255.0)"
         },
         "marker": {
          "color": "rgb(230, 172, 255.0)",
          "size": 10
         },
         "mode": "lines+markers",
         "type": "scatter",
         "x": [
          0,
          0.0000658018616377376
         ],
         "xaxis": "x",
         "y": [
          0,
          0.00006491809472208843
         ],
         "yaxis": "y"
        },
        {
         "line": {
          "color": "rgb(230, 172, 255.0)"
         },
         "marker": {
          "color": "rgb(230, 172, 255.0)",
          "size": 10
         },
         "mode": "lines+markers",
         "type": "scatter",
         "x": [
          0,
          0.0000658018616377376
         ],
         "xaxis": "x",
         "y": [
          0,
          0.00006491809472208843
         ],
         "yaxis": "y"
        },
        {
         "line": {
          "color": "rgb(230, 172, 255.0)"
         },
         "marker": {
          "color": "rgb(230, 172, 255.0)",
          "size": 10
         },
         "mode": "lines+markers",
         "type": "scatter",
         "x": [
          0,
          0.0000658018616377376
         ],
         "xaxis": "x",
         "y": [
          0,
          0.00006491809472208843
         ],
         "yaxis": "y"
        },
        {
         "line": {
          "color": "rgb(230, 172, 255.0)"
         },
         "marker": {
          "color": "rgb(230, 172, 255.0)",
          "size": 10
         },
         "mode": "lines+markers",
         "type": "scatter",
         "x": [
          0,
          0.0000658018616377376
         ],
         "xaxis": "x",
         "y": [
          0,
          0.00006491809472208843
         ],
         "yaxis": "y"
        },
        {
         "line": {
          "color": "rgb(230, 172, 255.0)"
         },
         "marker": {
          "color": "rgb(230, 172, 255.0)",
          "size": 10
         },
         "mode": "lines+markers",
         "type": "scatter",
         "x": [
          0,
          0.0000658018616377376
         ],
         "xaxis": "x",
         "y": [
          0,
          0.00006491809472208843
         ],
         "yaxis": "y"
        },
        {
         "line": {
          "color": "rgb(230, 172, 255.0)"
         },
         "marker": {
          "color": "rgb(230, 172, 255.0)",
          "size": 10
         },
         "mode": "lines+markers",
         "type": "scatter",
         "x": [
          0,
          0.0000658018616377376
         ],
         "xaxis": "x",
         "y": [
          0,
          0.00006491809472208843
         ],
         "yaxis": "y"
        },
        {
         "line": {
          "color": "rgb(230, 172, 255.0)"
         },
         "marker": {
          "color": "rgb(230, 172, 255.0)",
          "size": 10
         },
         "mode": "lines+markers",
         "type": "scatter",
         "x": [
          0,
          0.0000658018616377376
         ],
         "xaxis": "x",
         "y": [
          0,
          0.00006491809472208843
         ],
         "yaxis": "y"
        },
        {
         "line": {
          "color": "rgb(230, 172, 255.0)"
         },
         "marker": {
          "color": "rgb(230, 172, 255.0)",
          "size": 10
         },
         "mode": "lines+markers",
         "type": "scatter",
         "x": [
          0,
          0.0000658018616377376
         ],
         "xaxis": "x",
         "y": [
          0,
          0.00006491809472208843
         ],
         "yaxis": "y"
        },
        {
         "line": {
          "color": "rgb(230, 172, 255.0)"
         },
         "marker": {
          "color": "rgb(230, 172, 255.0)",
          "size": 10
         },
         "mode": "lines+markers",
         "type": "scatter",
         "x": [
          0,
          0.0000658018616377376
         ],
         "xaxis": "x",
         "y": [
          0,
          0.00006491809472208843
         ],
         "yaxis": "y"
        },
        {
         "line": {
          "color": "rgb(230, 172, 255.0)"
         },
         "marker": {
          "color": "rgb(230, 172, 255.0)",
          "size": 10
         },
         "mode": "lines+markers",
         "type": "scatter",
         "x": [
          0,
          0.0000658018616377376
         ],
         "xaxis": "x",
         "y": [
          0,
          0.00006491809472208843
         ],
         "yaxis": "y"
        },
        {
         "line": {
          "color": "rgb(230, 172, 255.0)"
         },
         "marker": {
          "color": "rgb(230, 172, 255.0)",
          "size": 10
         },
         "mode": "lines+markers",
         "type": "scatter",
         "x": [
          0,
          0.0000658018616377376
         ],
         "xaxis": "x",
         "y": [
          0,
          0.00006491809472208843
         ],
         "yaxis": "y"
        },
        {
         "line": {
          "color": "rgb(230, 172, 255.0)"
         },
         "marker": {
          "color": "rgb(230, 172, 255.0)",
          "size": 10
         },
         "mode": "lines+markers",
         "type": "scatter",
         "x": [
          0,
          0.0000658018616377376
         ],
         "xaxis": "x",
         "y": [
          0,
          0.00006491809472208843
         ],
         "yaxis": "y"
        },
        {
         "line": {
          "color": "rgb(230, 172, 255.0)"
         },
         "marker": {
          "color": "rgb(230, 172, 255.0)",
          "size": 10
         },
         "mode": "lines+markers",
         "type": "scatter",
         "x": [
          0,
          0.0000658018616377376
         ],
         "xaxis": "x",
         "y": [
          0,
          0.00006491809472208843
         ],
         "yaxis": "y"
        },
        {
         "line": {
          "color": "rgb(230, 172, 255.0)"
         },
         "marker": {
          "color": "rgb(230, 172, 255.0)",
          "size": 10
         },
         "mode": "lines+markers",
         "type": "scatter",
         "x": [
          0,
          0.0000658018616377376
         ],
         "xaxis": "x",
         "y": [
          0,
          0.00006491809472208843
         ],
         "yaxis": "y"
        },
        {
         "line": {
          "color": "rgb(230, 172, 255.0)"
         },
         "marker": {
          "color": "rgb(230, 172, 255.0)",
          "size": 10
         },
         "mode": "lines+markers",
         "type": "scatter",
         "x": [
          0,
          0.0000658018616377376
         ],
         "xaxis": "x",
         "y": [
          0,
          0.00006491809472208843
         ],
         "yaxis": "y"
        },
        {
         "line": {
          "color": "rgb(230, 172, 255.0)"
         },
         "marker": {
          "color": "rgb(230, 172, 255.0)",
          "size": 10
         },
         "mode": "lines+markers",
         "type": "scatter",
         "x": [
          0,
          0.0000658018616377376
         ],
         "xaxis": "x",
         "y": [
          0,
          0.00006491809472208843
         ],
         "yaxis": "y"
        },
        {
         "line": {
          "color": "rgb(230, 172, 255.0)"
         },
         "marker": {
          "color": "rgb(230, 172, 255.0)",
          "size": 10
         },
         "mode": "lines+markers",
         "type": "scatter",
         "x": [
          0,
          0.0000658018616377376
         ],
         "xaxis": "x",
         "y": [
          0,
          0.00006491809472208843
         ],
         "yaxis": "y"
        },
        {
         "line": {
          "color": "rgb(230, 172, 255.0)"
         },
         "marker": {
          "color": "rgb(230, 172, 255.0)",
          "size": 10
         },
         "mode": "lines+markers",
         "type": "scatter",
         "x": [
          0,
          0.0000658018616377376
         ],
         "xaxis": "x",
         "y": [
          0,
          0.00006491809472208843
         ],
         "yaxis": "y"
        },
        {
         "line": {
          "color": "rgb(230, 172, 255.0)"
         },
         "marker": {
          "color": "rgb(230, 172, 255.0)",
          "size": 10
         },
         "mode": "lines+markers",
         "type": "scatter",
         "x": [
          0,
          0.0000658018616377376
         ],
         "xaxis": "x",
         "y": [
          0,
          0.00006491809472208843
         ],
         "yaxis": "y"
        },
        {
         "line": {
          "color": "rgb(230, 172, 255.0)"
         },
         "marker": {
          "color": "rgb(230, 172, 255.0)",
          "size": 10
         },
         "mode": "lines+markers",
         "type": "scatter",
         "x": [
          0,
          0.0000658018616377376
         ],
         "xaxis": "x",
         "y": [
          0,
          0.00006491809472208843
         ],
         "yaxis": "y"
        },
        {
         "line": {
          "color": "rgb(230, 172, 255.0)"
         },
         "marker": {
          "color": "rgb(230, 172, 255.0)",
          "size": 10
         },
         "mode": "lines+markers",
         "type": "scatter",
         "x": [
          0,
          0.0000658018616377376
         ],
         "xaxis": "x",
         "y": [
          0,
          0.00006491809472208843
         ],
         "yaxis": "y"
        },
        {
         "line": {
          "color": "rgb(230, 172, 255.0)"
         },
         "marker": {
          "color": "rgb(230, 172, 255.0)",
          "size": 10
         },
         "mode": "lines+markers",
         "type": "scatter",
         "x": [
          0,
          0.0000658018616377376
         ],
         "xaxis": "x",
         "y": [
          0,
          0.00006491809472208843
         ],
         "yaxis": "y"
        },
        {
         "line": {
          "color": "rgb(230, 172, 255.0)"
         },
         "marker": {
          "color": "rgb(230, 172, 255.0)",
          "size": 10
         },
         "mode": "lines+markers",
         "type": "scatter",
         "x": [
          0,
          0.0000658018616377376
         ],
         "xaxis": "x",
         "y": [
          0,
          0.00006491809472208843
         ],
         "yaxis": "y"
        },
        {
         "line": {
          "color": "rgb(230, 172, 255.0)"
         },
         "marker": {
          "color": "rgb(230, 172, 255.0)",
          "size": 10
         },
         "mode": "lines+markers",
         "type": "scatter",
         "x": [
          0,
          0.0000658018616377376
         ],
         "xaxis": "x",
         "y": [
          0,
          0.00006491809472208843
         ],
         "yaxis": "y"
        },
        {
         "line": {
          "color": "rgb(230, 172, 255.0)"
         },
         "marker": {
          "color": "rgb(230, 172, 255.0)",
          "size": 10
         },
         "mode": "lines+markers",
         "type": "scatter",
         "x": [
          0,
          0.0000658018616377376
         ],
         "xaxis": "x",
         "y": [
          0,
          0.00006491809472208843
         ],
         "yaxis": "y"
        },
        {
         "line": {
          "color": "rgb(230, 172, 255.0)"
         },
         "marker": {
          "color": "rgb(230, 172, 255.0)",
          "size": 10
         },
         "mode": "lines+markers",
         "type": "scatter",
         "x": [
          0,
          0.0000658018616377376
         ],
         "xaxis": "x",
         "y": [
          0,
          0.00006491809472208843
         ],
         "yaxis": "y"
        },
        {
         "line": {
          "color": "rgb(230, 172, 255.0)"
         },
         "marker": {
          "color": "rgb(230, 172, 255.0)",
          "size": 10
         },
         "mode": "lines+markers",
         "type": "scatter",
         "x": [
          0,
          0.0000658018616377376
         ],
         "xaxis": "x",
         "y": [
          0,
          0.00006491809472208843
         ],
         "yaxis": "y"
        },
        {
         "line": {
          "color": "rgb(230, 172, 255.0)"
         },
         "marker": {
          "color": "rgb(230, 172, 255.0)",
          "size": 10
         },
         "mode": "lines+markers",
         "type": "scatter",
         "x": [
          0,
          0.0000658018616377376
         ],
         "xaxis": "x",
         "y": [
          0,
          0.00006491809472208843
         ],
         "yaxis": "y"
        },
        {
         "line": {
          "color": "rgb(230, 172, 255.0)"
         },
         "marker": {
          "color": "rgb(230, 172, 255.0)",
          "size": 10
         },
         "mode": "lines+markers",
         "type": "scatter",
         "x": [
          0,
          0.0000658018616377376
         ],
         "xaxis": "x",
         "y": [
          0,
          0.00006491809472208843
         ],
         "yaxis": "y"
        },
        {
         "line": {
          "color": "rgb(230, 172, 255.0)"
         },
         "marker": {
          "color": "rgb(230, 172, 255.0)",
          "size": 10
         },
         "mode": "lines+markers",
         "type": "scatter",
         "x": [
          0,
          0.0000658018616377376
         ],
         "xaxis": "x",
         "y": [
          0,
          0.00006491809472208843
         ],
         "yaxis": "y"
        },
        {
         "line": {
          "color": "rgb(230, 172, 255.0)"
         },
         "marker": {
          "color": "rgb(230, 172, 255.0)",
          "size": 10
         },
         "mode": "lines+markers",
         "type": "scatter",
         "x": [
          0,
          0.0000658018616377376
         ],
         "xaxis": "x",
         "y": [
          0,
          0.00006491809472208843
         ],
         "yaxis": "y"
        },
        {
         "line": {
          "color": "rgb(230, 172, 255.0)"
         },
         "marker": {
          "color": "rgb(230, 172, 255.0)",
          "size": 10
         },
         "mode": "lines+markers",
         "type": "scatter",
         "x": [
          0,
          0.0000658018616377376
         ],
         "xaxis": "x",
         "y": [
          0,
          0.00006491809472208843
         ],
         "yaxis": "y"
        },
        {
         "line": {
          "color": "rgb(230, 172, 255.0)"
         },
         "marker": {
          "color": "rgb(230, 172, 255.0)",
          "size": 10
         },
         "mode": "lines+markers",
         "type": "scatter",
         "x": [
          0,
          0.0000658018616377376
         ],
         "xaxis": "x",
         "y": [
          0,
          0.00006491809472208843
         ],
         "yaxis": "y"
        },
        {
         "line": {
          "color": "rgb(230, 172, 255.0)"
         },
         "marker": {
          "color": "rgb(230, 172, 255.0)",
          "size": 10
         },
         "mode": "lines+markers",
         "type": "scatter",
         "x": [
          0,
          0.0000658018616377376
         ],
         "xaxis": "x",
         "y": [
          0,
          0.00006491809472208843
         ],
         "yaxis": "y"
        },
        {
         "line": {
          "color": "rgb(230, 172, 255.0)"
         },
         "marker": {
          "color": "rgb(230, 172, 255.0)",
          "size": 10
         },
         "mode": "lines+markers",
         "type": "scatter",
         "x": [
          0,
          0.0000658018616377376
         ],
         "xaxis": "x",
         "y": [
          0,
          0.00006491809472208843
         ],
         "yaxis": "y"
        },
        {
         "line": {
          "color": "rgb(230, 172, 255.0)"
         },
         "marker": {
          "color": "rgb(230, 172, 255.0)",
          "size": 10
         },
         "mode": "lines+markers",
         "type": "scatter",
         "x": [
          0,
          0.0000658018616377376
         ],
         "xaxis": "x",
         "y": [
          0,
          0.00006491809472208843
         ],
         "yaxis": "y"
        },
        {
         "line": {
          "color": "rgb(230, 172, 255.0)"
         },
         "marker": {
          "color": "rgb(230, 172, 255.0)",
          "size": 10
         },
         "mode": "lines+markers",
         "type": "scatter",
         "x": [
          0,
          0.0000658018616377376
         ],
         "xaxis": "x",
         "y": [
          0,
          0.00006491809472208843
         ],
         "yaxis": "y"
        },
        {
         "line": {
          "color": "rgb(230, 172, 255.0)"
         },
         "marker": {
          "color": "rgb(230, 172, 255.0)",
          "size": 10
         },
         "mode": "lines+markers",
         "type": "scatter",
         "x": [
          0,
          0.0000658018616377376
         ],
         "xaxis": "x",
         "y": [
          0,
          0.00006491809472208843
         ],
         "yaxis": "y"
        },
        {
         "line": {
          "color": "rgb(230, 172, 255.0)"
         },
         "marker": {
          "color": "rgb(230, 172, 255.0)",
          "size": 10
         },
         "mode": "lines+markers",
         "type": "scatter",
         "x": [
          0,
          0.0000658018616377376
         ],
         "xaxis": "x",
         "y": [
          0,
          0.00006491809472208843
         ],
         "yaxis": "y"
        },
        {
         "line": {
          "color": "rgb(230, 172, 255.0)"
         },
         "marker": {
          "color": "rgb(230, 172, 255.0)",
          "size": 10
         },
         "mode": "lines+markers",
         "type": "scatter",
         "x": [
          0,
          0.0000658018616377376
         ],
         "xaxis": "x",
         "y": [
          0,
          0.00006491809472208843
         ],
         "yaxis": "y"
        },
        {
         "line": {
          "color": "rgb(230, 172, 255.0)"
         },
         "marker": {
          "color": "rgb(230, 172, 255.0)",
          "size": 10
         },
         "mode": "lines+markers",
         "type": "scatter",
         "x": [
          0,
          0.0000658018616377376
         ],
         "xaxis": "x",
         "y": [
          0,
          0.00006491809472208843
         ],
         "yaxis": "y"
        },
        {
         "line": {
          "color": "rgb(230, 172, 255.0)"
         },
         "marker": {
          "color": "rgb(230, 172, 255.0)",
          "size": 10
         },
         "mode": "lines+markers",
         "type": "scatter",
         "x": [
          0,
          0.0000658018616377376
         ],
         "xaxis": "x",
         "y": [
          0,
          0.00006491809472208843
         ],
         "yaxis": "y"
        },
        {
         "line": {
          "color": "rgb(230, 172, 255.0)"
         },
         "marker": {
          "color": "rgb(230, 172, 255.0)",
          "size": 10
         },
         "mode": "lines+markers",
         "type": "scatter",
         "x": [
          0,
          0.0000658018616377376
         ],
         "xaxis": "x",
         "y": [
          0,
          0.00006491809472208843
         ],
         "yaxis": "y"
        },
        {
         "line": {
          "color": "rgb(230, 172, 255.0)"
         },
         "marker": {
          "color": "rgb(230, 172, 255.0)",
          "size": 10
         },
         "mode": "lines+markers",
         "type": "scatter",
         "x": [
          0,
          0.0000658018616377376
         ],
         "xaxis": "x",
         "y": [
          0,
          0.00006491809472208843
         ],
         "yaxis": "y"
        },
        {
         "line": {
          "color": "rgb(230, 172, 255.0)"
         },
         "marker": {
          "color": "rgb(230, 172, 255.0)",
          "size": 10
         },
         "mode": "lines+markers",
         "type": "scatter",
         "x": [
          0,
          0.0000658018616377376
         ],
         "xaxis": "x",
         "y": [
          0,
          0.00006491809472208843
         ],
         "yaxis": "y"
        },
        {
         "line": {
          "color": "rgb(230, 172, 255.0)"
         },
         "marker": {
          "color": "rgb(230, 172, 255.0)",
          "size": 10
         },
         "mode": "lines+markers",
         "type": "scatter",
         "x": [
          0,
          0.0000658018616377376
         ],
         "xaxis": "x",
         "y": [
          0,
          0.00006491809472208843
         ],
         "yaxis": "y"
        },
        {
         "line": {
          "color": "rgb(230, 172, 255.0)"
         },
         "marker": {
          "color": "rgb(230, 172, 255.0)",
          "size": 10
         },
         "mode": "lines+markers",
         "type": "scatter",
         "x": [
          0,
          0.0000658018616377376
         ],
         "xaxis": "x",
         "y": [
          0,
          0.00006491809472208843
         ],
         "yaxis": "y"
        },
        {
         "line": {
          "color": "rgb(230, 172, 255.0)"
         },
         "marker": {
          "color": "rgb(230, 172, 255.0)",
          "size": 10
         },
         "mode": "lines+markers",
         "type": "scatter",
         "x": [
          0,
          0.0000658018616377376
         ],
         "xaxis": "x",
         "y": [
          0,
          0.00006491809472208843
         ],
         "yaxis": "y"
        },
        {
         "line": {
          "color": "rgb(230, 172, 255.0)"
         },
         "marker": {
          "color": "rgb(230, 172, 255.0)",
          "size": 10
         },
         "mode": "lines+markers",
         "type": "scatter",
         "x": [
          0,
          0.0000658018616377376
         ],
         "xaxis": "x",
         "y": [
          0,
          0.00006491809472208843
         ],
         "yaxis": "y"
        },
        {
         "line": {
          "color": "rgb(230, 172, 255.0)"
         },
         "marker": {
          "color": "rgb(230, 172, 255.0)",
          "size": 10
         },
         "mode": "lines+markers",
         "type": "scatter",
         "x": [
          0,
          0.0000658018616377376
         ],
         "xaxis": "x",
         "y": [
          0,
          0.00006491809472208843
         ],
         "yaxis": "y"
        },
        {
         "line": {
          "color": "rgb(230, 172, 255.0)"
         },
         "marker": {
          "color": "rgb(230, 172, 255.0)",
          "size": 10
         },
         "mode": "lines+markers",
         "type": "scatter",
         "x": [
          0,
          0.0000658018616377376
         ],
         "xaxis": "x",
         "y": [
          0,
          0.00006491809472208843
         ],
         "yaxis": "y"
        },
        {
         "line": {
          "color": "rgb(230, 172, 255.0)"
         },
         "marker": {
          "color": "rgb(230, 172, 255.0)",
          "size": 10
         },
         "mode": "lines+markers",
         "type": "scatter",
         "x": [
          0,
          0.0000658018616377376
         ],
         "xaxis": "x",
         "y": [
          0,
          0.00006491809472208843
         ],
         "yaxis": "y"
        },
        {
         "line": {
          "color": "rgb(230, 172, 255.0)"
         },
         "marker": {
          "color": "rgb(230, 172, 255.0)",
          "size": 10
         },
         "mode": "lines+markers",
         "type": "scatter",
         "x": [
          0,
          0.0000658018616377376
         ],
         "xaxis": "x",
         "y": [
          0,
          0.00006491809472208843
         ],
         "yaxis": "y"
        },
        {
         "line": {
          "color": "rgb(230, 172, 255.0)"
         },
         "marker": {
          "color": "rgb(230, 172, 255.0)",
          "size": 10
         },
         "mode": "lines+markers",
         "type": "scatter",
         "x": [
          0,
          0.0000658018616377376
         ],
         "xaxis": "x",
         "y": [
          0,
          0.00006491809472208843
         ],
         "yaxis": "y"
        },
        {
         "line": {
          "color": "rgb(230, 172, 255.0)"
         },
         "marker": {
          "color": "rgb(230, 172, 255.0)",
          "size": 10
         },
         "mode": "lines+markers",
         "type": "scatter",
         "x": [
          0,
          0.0000658018616377376
         ],
         "xaxis": "x",
         "y": [
          0,
          0.00006491809472208843
         ],
         "yaxis": "y"
        },
        {
         "line": {
          "color": "rgb(230, 172, 255.0)"
         },
         "marker": {
          "color": "rgb(230, 172, 255.0)",
          "size": 10
         },
         "mode": "lines+markers",
         "type": "scatter",
         "x": [
          0,
          0.0000658018616377376
         ],
         "xaxis": "x",
         "y": [
          0,
          0.00006491809472208843
         ],
         "yaxis": "y"
        },
        {
         "line": {
          "color": "rgb(230, 172, 255.0)"
         },
         "marker": {
          "color": "rgb(230, 172, 255.0)",
          "size": 10
         },
         "mode": "lines+markers",
         "type": "scatter",
         "x": [
          0,
          0.0000658018616377376
         ],
         "xaxis": "x",
         "y": [
          0,
          0.00006491809472208843
         ],
         "yaxis": "y"
        },
        {
         "line": {
          "color": "rgb(230, 172, 255.0)"
         },
         "marker": {
          "color": "rgb(230, 172, 255.0)",
          "size": 10
         },
         "mode": "lines+markers",
         "type": "scatter",
         "x": [
          0,
          0.0000658018616377376
         ],
         "xaxis": "x",
         "y": [
          0,
          0.00006491809472208843
         ],
         "yaxis": "y"
        },
        {
         "line": {
          "color": "rgb(230, 172, 255.0)"
         },
         "marker": {
          "color": "rgb(230, 172, 255.0)",
          "size": 10
         },
         "mode": "lines+markers",
         "type": "scatter",
         "x": [
          0,
          0.0000658018616377376
         ],
         "xaxis": "x",
         "y": [
          0,
          0.00006491809472208843
         ],
         "yaxis": "y"
        },
        {
         "line": {
          "color": "rgb(230, 172, 255.0)"
         },
         "marker": {
          "color": "rgb(230, 172, 255.0)",
          "size": 10
         },
         "mode": "lines+markers",
         "type": "scatter",
         "x": [
          0,
          0.0000658018616377376
         ],
         "xaxis": "x",
         "y": [
          0,
          0.00006491809472208843
         ],
         "yaxis": "y"
        },
        {
         "line": {
          "color": "rgb(230, 172, 255.0)"
         },
         "marker": {
          "color": "rgb(230, 172, 255.0)",
          "size": 10
         },
         "mode": "lines+markers",
         "type": "scatter",
         "x": [
          0,
          0.0000658018616377376
         ],
         "xaxis": "x",
         "y": [
          0,
          0.00006491809472208843
         ],
         "yaxis": "y"
        },
        {
         "line": {
          "color": "rgb(230, 172, 255.0)"
         },
         "marker": {
          "color": "rgb(230, 172, 255.0)",
          "size": 10
         },
         "mode": "lines+markers",
         "type": "scatter",
         "x": [
          0,
          0.0000658018616377376
         ],
         "xaxis": "x",
         "y": [
          0,
          0.00006491809472208843
         ],
         "yaxis": "y"
        },
        {
         "line": {
          "color": "rgb(230, 172, 255.0)"
         },
         "marker": {
          "color": "rgb(230, 172, 255.0)",
          "size": 10
         },
         "mode": "lines+markers",
         "type": "scatter",
         "x": [
          0,
          0.0000658018616377376
         ],
         "xaxis": "x",
         "y": [
          0,
          0.00006491809472208843
         ],
         "yaxis": "y"
        },
        {
         "line": {
          "color": "rgb(230, 172, 255.0)"
         },
         "marker": {
          "color": "rgb(230, 172, 255.0)",
          "size": 10
         },
         "mode": "lines+markers",
         "type": "scatter",
         "x": [
          0,
          0.0000658018616377376
         ],
         "xaxis": "x",
         "y": [
          0,
          0.00006491809472208843
         ],
         "yaxis": "y"
        },
        {
         "line": {
          "color": "rgb(230, 172, 255.0)"
         },
         "marker": {
          "color": "rgb(230, 172, 255.0)",
          "size": 10
         },
         "mode": "lines+markers",
         "type": "scatter",
         "x": [
          0,
          0.0000658018616377376
         ],
         "xaxis": "x",
         "y": [
          0,
          0.00006491809472208843
         ],
         "yaxis": "y"
        },
        {
         "line": {
          "color": "rgb(230, 172, 255.0)"
         },
         "marker": {
          "color": "rgb(230, 172, 255.0)",
          "size": 10
         },
         "mode": "lines+markers",
         "type": "scatter",
         "x": [
          0,
          0.0000658018616377376
         ],
         "xaxis": "x",
         "y": [
          0,
          0.00006491809472208843
         ],
         "yaxis": "y"
        },
        {
         "line": {
          "color": "rgb(230, 172, 255.0)"
         },
         "marker": {
          "color": "rgb(230, 172, 255.0)",
          "size": 10
         },
         "mode": "lines+markers",
         "type": "scatter",
         "x": [
          0,
          0.0000658018616377376
         ],
         "xaxis": "x",
         "y": [
          0,
          0.00006491809472208843
         ],
         "yaxis": "y"
        },
        {
         "line": {
          "color": "rgb(230, 172, 255.0)"
         },
         "marker": {
          "color": "rgb(230, 172, 255.0)",
          "size": 10
         },
         "mode": "lines+markers",
         "type": "scatter",
         "x": [
          0,
          0.0000658018616377376
         ],
         "xaxis": "x",
         "y": [
          0,
          0.00006491809472208843
         ],
         "yaxis": "y"
        },
        {
         "line": {
          "color": "rgb(230, 172, 255.0)"
         },
         "marker": {
          "color": "rgb(230, 172, 255.0)",
          "size": 10
         },
         "mode": "lines+markers",
         "type": "scatter",
         "x": [
          0,
          0.0000658018616377376
         ],
         "xaxis": "x",
         "y": [
          0,
          0.00006491809472208843
         ],
         "yaxis": "y"
        },
        {
         "line": {
          "color": "rgb(230, 172, 255.0)"
         },
         "marker": {
          "color": "rgb(230, 172, 255.0)",
          "size": 10
         },
         "mode": "lines+markers",
         "type": "scatter",
         "x": [
          0,
          0.0000658018616377376
         ],
         "xaxis": "x",
         "y": [
          0,
          0.00006491809472208843
         ],
         "yaxis": "y"
        },
        {
         "line": {
          "color": "rgb(230, 172, 255.0)"
         },
         "marker": {
          "color": "rgb(230, 172, 255.0)",
          "size": 10
         },
         "mode": "lines+markers",
         "type": "scatter",
         "x": [
          0,
          0.0000658018616377376
         ],
         "xaxis": "x",
         "y": [
          0,
          0.00006491809472208843
         ],
         "yaxis": "y"
        },
        {
         "line": {
          "color": "rgb(230, 172, 255.0)"
         },
         "marker": {
          "color": "rgb(230, 172, 255.0)",
          "size": 10
         },
         "mode": "lines+markers",
         "type": "scatter",
         "x": [
          0,
          0.0000658018616377376
         ],
         "xaxis": "x",
         "y": [
          0,
          0.00006491809472208843
         ],
         "yaxis": "y"
        },
        {
         "line": {
          "color": "rgb(230, 172, 255.0)"
         },
         "marker": {
          "color": "rgb(230, 172, 255.0)",
          "size": 10
         },
         "mode": "lines+markers",
         "type": "scatter",
         "x": [
          0,
          0.0000658018616377376
         ],
         "xaxis": "x",
         "y": [
          0,
          0.00006491809472208843
         ],
         "yaxis": "y"
        },
        {
         "line": {
          "color": "rgb(230, 172, 255.0)"
         },
         "marker": {
          "color": "rgb(230, 172, 255.0)",
          "size": 10
         },
         "mode": "lines+markers",
         "type": "scatter",
         "x": [
          0,
          0.0000658018616377376
         ],
         "xaxis": "x",
         "y": [
          0,
          0.00006491809472208843
         ],
         "yaxis": "y"
        },
        {
         "line": {
          "color": "rgb(230, 172, 255.0)"
         },
         "marker": {
          "color": "rgb(230, 172, 255.0)",
          "size": 10
         },
         "mode": "lines+markers",
         "type": "scatter",
         "x": [
          0,
          0.0000658018616377376
         ],
         "xaxis": "x",
         "y": [
          0,
          0.00006491809472208843
         ],
         "yaxis": "y"
        },
        {
         "line": {
          "color": "rgb(230, 172, 255.0)"
         },
         "marker": {
          "color": "rgb(230, 172, 255.0)",
          "size": 10
         },
         "mode": "lines+markers",
         "type": "scatter",
         "x": [
          0,
          0.0000658018616377376
         ],
         "xaxis": "x",
         "y": [
          0,
          0.00006491809472208843
         ],
         "yaxis": "y"
        },
        {
         "line": {
          "color": "rgb(230, 172, 255.0)"
         },
         "marker": {
          "color": "rgb(230, 172, 255.0)",
          "size": 10
         },
         "mode": "lines+markers",
         "type": "scatter",
         "x": [
          0,
          0.0000658018616377376
         ],
         "xaxis": "x",
         "y": [
          0,
          0.00006491809472208843
         ],
         "yaxis": "y"
        },
        {
         "line": {
          "color": "rgb(230, 172, 255.0)"
         },
         "marker": {
          "color": "rgb(230, 172, 255.0)",
          "size": 10
         },
         "mode": "lines+markers",
         "type": "scatter",
         "x": [
          0,
          0.0000658018616377376
         ],
         "xaxis": "x",
         "y": [
          0,
          0.00006491809472208843
         ],
         "yaxis": "y"
        },
        {
         "line": {
          "color": "rgb(230, 172, 255.0)"
         },
         "marker": {
          "color": "rgb(230, 172, 255.0)",
          "size": 10
         },
         "mode": "lines+markers",
         "type": "scatter",
         "x": [
          0,
          0.0000658018616377376
         ],
         "xaxis": "x",
         "y": [
          0,
          0.00006491809472208843
         ],
         "yaxis": "y"
        },
        {
         "line": {
          "color": "rgb(230, 172, 255.0)"
         },
         "marker": {
          "color": "rgb(230, 172, 255.0)",
          "size": 10
         },
         "mode": "lines+markers",
         "type": "scatter",
         "x": [
          0,
          0.0000658018616377376
         ],
         "xaxis": "x",
         "y": [
          0,
          0.00006491809472208843
         ],
         "yaxis": "y"
        },
        {
         "line": {
          "color": "rgb(230, 172, 255.0)"
         },
         "marker": {
          "color": "rgb(230, 172, 255.0)",
          "size": 10
         },
         "mode": "lines+markers",
         "type": "scatter",
         "x": [
          0,
          0.0000658018616377376
         ],
         "xaxis": "x",
         "y": [
          0,
          0.00006491809472208843
         ],
         "yaxis": "y"
        },
        {
         "line": {
          "color": "rgb(230, 172, 255.0)"
         },
         "marker": {
          "color": "rgb(230, 172, 255.0)",
          "size": 10
         },
         "mode": "lines+markers",
         "type": "scatter",
         "x": [
          0,
          0.0000658018616377376
         ],
         "xaxis": "x",
         "y": [
          0,
          0.00006491809472208843
         ],
         "yaxis": "y"
        },
        {
         "line": {
          "color": "rgb(230, 172, 255.0)"
         },
         "marker": {
          "color": "rgb(230, 172, 255.0)",
          "size": 10
         },
         "mode": "lines+markers",
         "type": "scatter",
         "x": [
          0,
          0.0000658018616377376
         ],
         "xaxis": "x",
         "y": [
          0,
          0.00006491809472208843
         ],
         "yaxis": "y"
        },
        {
         "line": {
          "color": "rgb(230, 172, 255.0)"
         },
         "marker": {
          "color": "rgb(230, 172, 255.0)",
          "size": 10
         },
         "mode": "lines+markers",
         "type": "scatter",
         "x": [
          0,
          0.0000658018616377376
         ],
         "xaxis": "x",
         "y": [
          0,
          0.00006491809472208843
         ],
         "yaxis": "y"
        },
        {
         "line": {
          "color": "rgb(230, 172, 255.0)"
         },
         "marker": {
          "color": "rgb(230, 172, 255.0)",
          "size": 10
         },
         "mode": "lines+markers",
         "type": "scatter",
         "x": [
          0,
          0.0000658018616377376
         ],
         "xaxis": "x",
         "y": [
          0,
          0.00006491809472208843
         ],
         "yaxis": "y"
        },
        {
         "line": {
          "color": "rgb(230, 172, 255.0)"
         },
         "marker": {
          "color": "rgb(230, 172, 255.0)",
          "size": 10
         },
         "mode": "lines+markers",
         "type": "scatter",
         "x": [
          0,
          0.0000658018616377376
         ],
         "xaxis": "x",
         "y": [
          0,
          0.00006491809472208843
         ],
         "yaxis": "y"
        },
        {
         "line": {
          "color": "rgb(230, 172, 255.0)"
         },
         "marker": {
          "color": "rgb(230, 172, 255.0)",
          "size": 10
         },
         "mode": "lines+markers",
         "type": "scatter",
         "x": [
          0,
          0.0000658018616377376
         ],
         "xaxis": "x",
         "y": [
          0,
          0.00006491809472208843
         ],
         "yaxis": "y"
        },
        {
         "line": {
          "color": "rgb(230, 172, 255.0)"
         },
         "marker": {
          "color": "rgb(230, 172, 255.0)",
          "size": 10
         },
         "mode": "lines+markers",
         "type": "scatter",
         "x": [
          0,
          0.0000658018616377376
         ],
         "xaxis": "x",
         "y": [
          0,
          0.00006491809472208843
         ],
         "yaxis": "y"
        },
        {
         "line": {
          "color": "rgb(230, 172, 255.0)"
         },
         "marker": {
          "color": "rgb(230, 172, 255.0)",
          "size": 10
         },
         "mode": "lines+markers",
         "type": "scatter",
         "x": [
          0,
          0.0000658018616377376
         ],
         "xaxis": "x",
         "y": [
          0,
          0.00006491809472208843
         ],
         "yaxis": "y"
        },
        {
         "line": {
          "color": "rgb(230, 172, 255.0)"
         },
         "marker": {
          "color": "rgb(230, 172, 255.0)",
          "size": 10
         },
         "mode": "lines+markers",
         "type": "scatter",
         "x": [
          0,
          0.0000658018616377376
         ],
         "xaxis": "x",
         "y": [
          0,
          0.00006491809472208843
         ],
         "yaxis": "y"
        },
        {
         "line": {
          "color": "rgb(230, 172, 255.0)"
         },
         "marker": {
          "color": "rgb(230, 172, 255.0)",
          "size": 10
         },
         "mode": "lines+markers",
         "type": "scatter",
         "x": [
          0,
          0.0000658018616377376
         ],
         "xaxis": "x",
         "y": [
          0,
          0.00006491809472208843
         ],
         "yaxis": "y"
        },
        {
         "line": {
          "color": "rgb(230, 172, 255.0)"
         },
         "marker": {
          "color": "rgb(230, 172, 255.0)",
          "size": 10
         },
         "mode": "lines+markers",
         "type": "scatter",
         "x": [
          0,
          0.0000658018616377376
         ],
         "xaxis": "x",
         "y": [
          0,
          0.00006491809472208843
         ],
         "yaxis": "y"
        },
        {
         "line": {
          "color": "rgb(230, 172, 255.0)"
         },
         "marker": {
          "color": "rgb(230, 172, 255.0)",
          "size": 10
         },
         "mode": "lines+markers",
         "type": "scatter",
         "x": [
          0,
          0.0000658018616377376
         ],
         "xaxis": "x",
         "y": [
          0,
          0.00006491809472208843
         ],
         "yaxis": "y"
        },
        {
         "line": {
          "color": "rgb(230, 172, 255.0)"
         },
         "marker": {
          "color": "rgb(230, 172, 255.0)",
          "size": 10
         },
         "mode": "lines+markers",
         "type": "scatter",
         "x": [
          0,
          0.0000658018616377376
         ],
         "xaxis": "x",
         "y": [
          0,
          0.00006491809472208843
         ],
         "yaxis": "y"
        },
        {
         "line": {
          "color": "rgb(230, 172, 255.0)"
         },
         "marker": {
          "color": "rgb(230, 172, 255.0)",
          "size": 10
         },
         "mode": "lines+markers",
         "type": "scatter",
         "x": [
          0,
          0.0000658018616377376
         ],
         "xaxis": "x",
         "y": [
          0,
          0.00006491809472208843
         ],
         "yaxis": "y"
        },
        {
         "line": {
          "color": "rgb(230, 172, 255.0)"
         },
         "marker": {
          "color": "rgb(230, 172, 255.0)",
          "size": 10
         },
         "mode": "lines+markers",
         "type": "scatter",
         "x": [
          0,
          0.0000658018616377376
         ],
         "xaxis": "x",
         "y": [
          0,
          0.00006491809472208843
         ],
         "yaxis": "y"
        },
        {
         "line": {
          "color": "rgb(230, 172, 255.0)"
         },
         "marker": {
          "color": "rgb(230, 172, 255.0)",
          "size": 10
         },
         "mode": "lines+markers",
         "type": "scatter",
         "x": [
          0,
          0.0000658018616377376
         ],
         "xaxis": "x",
         "y": [
          0,
          0.00006491809472208843
         ],
         "yaxis": "y"
        },
        {
         "line": {
          "color": "rgb(230, 172, 255.0)"
         },
         "marker": {
          "color": "rgb(230, 172, 255.0)",
          "size": 10
         },
         "mode": "lines+markers",
         "type": "scatter",
         "x": [
          0,
          0.0000658018616377376
         ],
         "xaxis": "x",
         "y": [
          0,
          0.00006491809472208843
         ],
         "yaxis": "y"
        },
        {
         "line": {
          "color": "rgb(230, 172, 255.0)"
         },
         "marker": {
          "color": "rgb(230, 172, 255.0)",
          "size": 10
         },
         "mode": "lines+markers",
         "type": "scatter",
         "x": [
          0,
          0.0000658018616377376
         ],
         "xaxis": "x",
         "y": [
          0,
          0.00006491809472208843
         ],
         "yaxis": "y"
        },
        {
         "line": {
          "color": "rgb(230, 172, 255.0)"
         },
         "marker": {
          "color": "rgb(230, 172, 255.0)",
          "size": 10
         },
         "mode": "lines+markers",
         "type": "scatter",
         "x": [
          0,
          0.0000658018616377376
         ],
         "xaxis": "x",
         "y": [
          0,
          0.00006491809472208843
         ],
         "yaxis": "y"
        },
        {
         "line": {
          "color": "rgb(230, 172, 255.0)"
         },
         "marker": {
          "color": "rgb(230, 172, 255.0)",
          "size": 10
         },
         "mode": "lines+markers",
         "type": "scatter",
         "x": [
          0,
          0.0000658018616377376
         ],
         "xaxis": "x",
         "y": [
          0,
          0.00006491809472208843
         ],
         "yaxis": "y"
        },
        {
         "line": {
          "color": "rgb(230, 172, 255.0)"
         },
         "marker": {
          "color": "rgb(230, 172, 255.0)",
          "size": 10
         },
         "mode": "lines+markers",
         "type": "scatter",
         "x": [
          0,
          0.0000658018616377376
         ],
         "xaxis": "x",
         "y": [
          0,
          0.00006491809472208843
         ],
         "yaxis": "y"
        },
        {
         "line": {
          "color": "rgb(230, 172, 255.0)"
         },
         "marker": {
          "color": "rgb(230, 172, 255.0)",
          "size": 10
         },
         "mode": "lines+markers",
         "type": "scatter",
         "x": [
          0,
          0.0000658018616377376
         ],
         "xaxis": "x",
         "y": [
          0,
          0.00006491809472208843
         ],
         "yaxis": "y"
        },
        {
         "line": {
          "color": "rgb(230, 172, 255.0)"
         },
         "marker": {
          "color": "rgb(230, 172, 255.0)",
          "size": 10
         },
         "mode": "lines+markers",
         "type": "scatter",
         "x": [
          0,
          0.0000658018616377376
         ],
         "xaxis": "x",
         "y": [
          0,
          0.00006491809472208843
         ],
         "yaxis": "y"
        },
        {
         "line": {
          "color": "rgb(230, 172, 255.0)"
         },
         "marker": {
          "color": "rgb(230, 172, 255.0)",
          "size": 10
         },
         "mode": "lines+markers",
         "type": "scatter",
         "x": [
          0,
          0.0000658018616377376
         ],
         "xaxis": "x",
         "y": [
          0,
          0.00006491809472208843
         ],
         "yaxis": "y"
        },
        {
         "line": {
          "color": "rgb(230, 172, 255.0)"
         },
         "marker": {
          "color": "rgb(230, 172, 255.0)",
          "size": 10
         },
         "mode": "lines+markers",
         "type": "scatter",
         "x": [
          0,
          0.0000658018616377376
         ],
         "xaxis": "x",
         "y": [
          0,
          0.00006491809472208843
         ],
         "yaxis": "y"
        },
        {
         "line": {
          "color": "rgb(230, 172, 255.0)"
         },
         "marker": {
          "color": "rgb(230, 172, 255.0)",
          "size": 10
         },
         "mode": "lines+markers",
         "type": "scatter",
         "x": [
          0,
          0.0000658018616377376
         ],
         "xaxis": "x",
         "y": [
          0,
          0.00006491809472208843
         ],
         "yaxis": "y"
        },
        {
         "line": {
          "color": "rgb(230, 172, 255.0)"
         },
         "marker": {
          "color": "rgb(230, 172, 255.0)",
          "size": 10
         },
         "mode": "lines+markers",
         "type": "scatter",
         "x": [
          0,
          0.0000658018616377376
         ],
         "xaxis": "x",
         "y": [
          0,
          0.00006491809472208843
         ],
         "yaxis": "y"
        },
        {
         "line": {
          "color": "rgb(230, 172, 255.0)"
         },
         "marker": {
          "color": "rgb(230, 172, 255.0)",
          "size": 10
         },
         "mode": "lines+markers",
         "type": "scatter",
         "x": [
          0,
          0.0000658018616377376
         ],
         "xaxis": "x",
         "y": [
          0,
          0.00006491809472208843
         ],
         "yaxis": "y"
        },
        {
         "line": {
          "color": "rgb(230, 172, 255.0)"
         },
         "marker": {
          "color": "rgb(230, 172, 255.0)",
          "size": 10
         },
         "mode": "lines+markers",
         "type": "scatter",
         "x": [
          0,
          0.0000658018616377376
         ],
         "xaxis": "x",
         "y": [
          0,
          0.00006491809472208843
         ],
         "yaxis": "y"
        },
        {
         "line": {
          "color": "rgb(230, 172, 255.0)"
         },
         "marker": {
          "color": "rgb(230, 172, 255.0)",
          "size": 10
         },
         "mode": "lines+markers",
         "type": "scatter",
         "x": [
          0,
          0.0000658018616377376
         ],
         "xaxis": "x",
         "y": [
          0,
          0.00006491809472208843
         ],
         "yaxis": "y"
        },
        {
         "line": {
          "color": "rgb(230, 172, 255.0)"
         },
         "marker": {
          "color": "rgb(230, 172, 255.0)",
          "size": 10
         },
         "mode": "lines+markers",
         "type": "scatter",
         "x": [
          0,
          0.0000658018616377376
         ],
         "xaxis": "x",
         "y": [
          0,
          0.00006491809472208843
         ],
         "yaxis": "y"
        },
        {
         "line": {
          "color": "rgb(230, 172, 255.0)"
         },
         "marker": {
          "color": "rgb(230, 172, 255.0)",
          "size": 10
         },
         "mode": "lines+markers",
         "type": "scatter",
         "x": [
          0,
          0.0000658018616377376
         ],
         "xaxis": "x",
         "y": [
          0,
          0.00006491809472208843
         ],
         "yaxis": "y"
        },
        {
         "line": {
          "color": "rgb(230, 172, 255.0)"
         },
         "marker": {
          "color": "rgb(230, 172, 255.0)",
          "size": 10
         },
         "mode": "lines+markers",
         "type": "scatter",
         "x": [
          0,
          0.0000658018616377376
         ],
         "xaxis": "x",
         "y": [
          0,
          0.00006491809472208843
         ],
         "yaxis": "y"
        },
        {
         "line": {
          "color": "rgb(230, 172, 255.0)"
         },
         "marker": {
          "color": "rgb(230, 172, 255.0)",
          "size": 10
         },
         "mode": "lines+markers",
         "type": "scatter",
         "x": [
          0,
          0.0000658018616377376
         ],
         "xaxis": "x",
         "y": [
          0,
          0.00006491809472208843
         ],
         "yaxis": "y"
        },
        {
         "line": {
          "color": "rgb(230, 172, 255.0)"
         },
         "marker": {
          "color": "rgb(230, 172, 255.0)",
          "size": 10
         },
         "mode": "lines+markers",
         "type": "scatter",
         "x": [
          0,
          0.0000658018616377376
         ],
         "xaxis": "x",
         "y": [
          0,
          0.00006491809472208843
         ],
         "yaxis": "y"
        },
        {
         "line": {
          "color": "rgb(230, 172, 255.0)"
         },
         "marker": {
          "color": "rgb(230, 172, 255.0)",
          "size": 10
         },
         "mode": "lines+markers",
         "type": "scatter",
         "x": [
          0,
          0.0000658018616377376
         ],
         "xaxis": "x",
         "y": [
          0,
          0.00006491809472208843
         ],
         "yaxis": "y"
        },
        {
         "line": {
          "color": "rgb(230, 172, 255.0)"
         },
         "marker": {
          "color": "rgb(230, 172, 255.0)",
          "size": 10
         },
         "mode": "lines+markers",
         "type": "scatter",
         "x": [
          0,
          0.0000658018616377376
         ],
         "xaxis": "x",
         "y": [
          0,
          0.00006491809472208843
         ],
         "yaxis": "y"
        },
        {
         "line": {
          "color": "rgb(230, 172, 255.0)"
         },
         "marker": {
          "color": "rgb(230, 172, 255.0)",
          "size": 10
         },
         "mode": "lines+markers",
         "type": "scatter",
         "x": [
          0,
          0.0000658018616377376
         ],
         "xaxis": "x",
         "y": [
          0,
          0.00006491809472208843
         ],
         "yaxis": "y"
        },
        {
         "line": {
          "color": "rgb(230, 172, 255.0)"
         },
         "marker": {
          "color": "rgb(230, 172, 255.0)",
          "size": 10
         },
         "mode": "lines+markers",
         "type": "scatter",
         "x": [
          0,
          0.0000658018616377376
         ],
         "xaxis": "x",
         "y": [
          0,
          0.00006491809472208843
         ],
         "yaxis": "y"
        },
        {
         "line": {
          "color": "rgb(230, 172, 255.0)"
         },
         "marker": {
          "color": "rgb(230, 172, 255.0)",
          "size": 10
         },
         "mode": "lines+markers",
         "type": "scatter",
         "x": [
          0,
          0.0000658018616377376
         ],
         "xaxis": "x",
         "y": [
          0,
          0.00006491809472208843
         ],
         "yaxis": "y"
        },
        {
         "line": {
          "color": "rgb(230, 172, 255.0)"
         },
         "marker": {
          "color": "rgb(230, 172, 255.0)",
          "size": 10
         },
         "mode": "lines+markers",
         "type": "scatter",
         "x": [
          0,
          0.0000658018616377376
         ],
         "xaxis": "x",
         "y": [
          0,
          0.00006491809472208843
         ],
         "yaxis": "y"
        },
        {
         "line": {
          "color": "rgb(230, 172, 255.0)"
         },
         "marker": {
          "color": "rgb(230, 172, 255.0)",
          "size": 10
         },
         "mode": "lines+markers",
         "type": "scatter",
         "x": [
          0,
          0.0000658018616377376
         ],
         "xaxis": "x",
         "y": [
          0,
          0.00006491809472208843
         ],
         "yaxis": "y"
        },
        {
         "line": {
          "color": "rgb(230, 172, 255.0)"
         },
         "marker": {
          "color": "rgb(230, 172, 255.0)",
          "size": 10
         },
         "mode": "lines+markers",
         "type": "scatter",
         "x": [
          0,
          0.0000658018616377376
         ],
         "xaxis": "x",
         "y": [
          0,
          0.00006491809472208843
         ],
         "yaxis": "y"
        },
        {
         "line": {
          "color": "rgb(230, 172, 255.0)"
         },
         "marker": {
          "color": "rgb(230, 172, 255.0)",
          "size": 10
         },
         "mode": "lines+markers",
         "type": "scatter",
         "x": [
          0,
          0.0000658018616377376
         ],
         "xaxis": "x",
         "y": [
          0,
          0.00006491809472208843
         ],
         "yaxis": "y"
        },
        {
         "line": {
          "color": "rgb(230, 172, 255.0)"
         },
         "marker": {
          "color": "rgb(230, 172, 255.0)",
          "size": 10
         },
         "mode": "lines+markers",
         "type": "scatter",
         "x": [
          0,
          0.0000658018616377376
         ],
         "xaxis": "x",
         "y": [
          0,
          0.00006491809472208843
         ],
         "yaxis": "y"
        },
        {
         "line": {
          "color": "rgb(230, 172, 255.0)"
         },
         "marker": {
          "color": "rgb(230, 172, 255.0)",
          "size": 10
         },
         "mode": "lines+markers",
         "type": "scatter",
         "x": [
          0,
          0.0000658018616377376
         ],
         "xaxis": "x",
         "y": [
          0,
          0.00006491809472208843
         ],
         "yaxis": "y"
        },
        {
         "line": {
          "color": "rgb(230, 172, 255.0)"
         },
         "marker": {
          "color": "rgb(230, 172, 255.0)",
          "size": 10
         },
         "mode": "lines+markers",
         "type": "scatter",
         "x": [
          0,
          0.0000658018616377376
         ],
         "xaxis": "x",
         "y": [
          0,
          0.00006491809472208843
         ],
         "yaxis": "y"
        },
        {
         "line": {
          "color": "rgb(230, 172, 255.0)"
         },
         "marker": {
          "color": "rgb(230, 172, 255.0)",
          "size": 10
         },
         "mode": "lines+markers",
         "type": "scatter",
         "x": [
          0,
          0.0000658018616377376
         ],
         "xaxis": "x",
         "y": [
          0,
          0.00006491809472208843
         ],
         "yaxis": "y"
        },
        {
         "line": {
          "color": "rgb(230, 172, 255.0)"
         },
         "marker": {
          "color": "rgb(230, 172, 255.0)",
          "size": 10
         },
         "mode": "lines+markers",
         "type": "scatter",
         "x": [
          0,
          0.0000658018616377376
         ],
         "xaxis": "x",
         "y": [
          0,
          0.00006491809472208843
         ],
         "yaxis": "y"
        },
        {
         "line": {
          "color": "rgb(230, 172, 255.0)"
         },
         "marker": {
          "color": "rgb(230, 172, 255.0)",
          "size": 10
         },
         "mode": "lines+markers",
         "type": "scatter",
         "x": [
          0,
          0.0000658018616377376
         ],
         "xaxis": "x",
         "y": [
          0,
          0.00006491809472208843
         ],
         "yaxis": "y"
        },
        {
         "line": {
          "color": "rgb(230, 172, 255.0)"
         },
         "marker": {
          "color": "rgb(230, 172, 255.0)",
          "size": 10
         },
         "mode": "lines+markers",
         "type": "scatter",
         "x": [
          0,
          0.0000658018616377376
         ],
         "xaxis": "x",
         "y": [
          0,
          0.00006491809472208843
         ],
         "yaxis": "y"
        },
        {
         "line": {
          "color": "rgb(230, 172, 255.0)"
         },
         "marker": {
          "color": "rgb(230, 172, 255.0)",
          "size": 10
         },
         "mode": "lines+markers",
         "type": "scatter",
         "x": [
          0,
          0.0000658018616377376
         ],
         "xaxis": "x",
         "y": [
          0,
          0.00006491809472208843
         ],
         "yaxis": "y"
        },
        {
         "line": {
          "color": "rgb(230, 172, 255.0)"
         },
         "marker": {
          "color": "rgb(230, 172, 255.0)",
          "size": 10
         },
         "mode": "lines+markers",
         "type": "scatter",
         "x": [
          0,
          0.0000658018616377376
         ],
         "xaxis": "x",
         "y": [
          0,
          0.00006491809472208843
         ],
         "yaxis": "y"
        },
        {
         "line": {
          "color": "rgb(230, 172, 255.0)"
         },
         "marker": {
          "color": "rgb(230, 172, 255.0)",
          "size": 10
         },
         "mode": "lines+markers",
         "type": "scatter",
         "x": [
          0,
          0.0000658018616377376
         ],
         "xaxis": "x",
         "y": [
          0,
          0.00006491809472208843
         ],
         "yaxis": "y"
        },
        {
         "line": {
          "color": "rgb(230, 172, 255.0)"
         },
         "marker": {
          "color": "rgb(230, 172, 255.0)",
          "size": 10
         },
         "mode": "lines+markers",
         "type": "scatter",
         "x": [
          0,
          0.0000658018616377376
         ],
         "xaxis": "x",
         "y": [
          0,
          0.00006491809472208843
         ],
         "yaxis": "y"
        },
        {
         "line": {
          "color": "rgb(230, 172, 255.0)"
         },
         "marker": {
          "color": "rgb(230, 172, 255.0)",
          "size": 10
         },
         "mode": "lines+markers",
         "type": "scatter",
         "x": [
          0,
          0.0000658018616377376
         ],
         "xaxis": "x",
         "y": [
          0,
          0.00006491809472208843
         ],
         "yaxis": "y"
        },
        {
         "line": {
          "color": "rgb(230, 172, 255.0)"
         },
         "marker": {
          "color": "rgb(230, 172, 255.0)",
          "size": 10
         },
         "mode": "lines+markers",
         "type": "scatter",
         "x": [
          0,
          0.0000658018616377376
         ],
         "xaxis": "x",
         "y": [
          0,
          0.00006491809472208843
         ],
         "yaxis": "y"
        },
        {
         "line": {
          "color": "rgb(230, 172, 255.0)"
         },
         "marker": {
          "color": "rgb(230, 172, 255.0)",
          "size": 10
         },
         "mode": "lines+markers",
         "type": "scatter",
         "x": [
          0,
          0.0000658018616377376
         ],
         "xaxis": "x",
         "y": [
          0,
          0.00006491809472208843
         ],
         "yaxis": "y"
        },
        {
         "line": {
          "color": "rgb(230, 172, 255.0)"
         },
         "marker": {
          "color": "rgb(230, 172, 255.0)",
          "size": 10
         },
         "mode": "lines+markers",
         "type": "scatter",
         "x": [
          0,
          0.0000658018616377376
         ],
         "xaxis": "x",
         "y": [
          0,
          0.00006491809472208843
         ],
         "yaxis": "y"
        },
        {
         "line": {
          "color": "rgb(230, 172, 255.0)"
         },
         "marker": {
          "color": "rgb(230, 172, 255.0)",
          "size": 10
         },
         "mode": "lines+markers",
         "type": "scatter",
         "x": [
          0,
          0.0000658018616377376
         ],
         "xaxis": "x",
         "y": [
          0,
          0.00006491809472208843
         ],
         "yaxis": "y"
        },
        {
         "line": {
          "color": "rgb(230, 172, 255.0)"
         },
         "marker": {
          "color": "rgb(230, 172, 255.0)",
          "size": 10
         },
         "mode": "lines+markers",
         "type": "scatter",
         "x": [
          0,
          0.0000658018616377376
         ],
         "xaxis": "x",
         "y": [
          0,
          0.00006491809472208843
         ],
         "yaxis": "y"
        },
        {
         "line": {
          "color": "rgb(230, 172, 255.0)"
         },
         "marker": {
          "color": "rgb(230, 172, 255.0)",
          "size": 10
         },
         "mode": "lines+markers",
         "type": "scatter",
         "x": [
          0,
          0.0000658018616377376
         ],
         "xaxis": "x",
         "y": [
          0,
          0.00006491809472208843
         ],
         "yaxis": "y"
        },
        {
         "line": {
          "color": "rgb(230, 172, 255.0)"
         },
         "marker": {
          "color": "rgb(230, 172, 255.0)",
          "size": 10
         },
         "mode": "lines+markers",
         "type": "scatter",
         "x": [
          0,
          0.0000658018616377376
         ],
         "xaxis": "x",
         "y": [
          0,
          0.00006491809472208843
         ],
         "yaxis": "y"
        },
        {
         "line": {
          "color": "rgb(230, 172, 255.0)"
         },
         "marker": {
          "color": "rgb(230, 172, 255.0)",
          "size": 10
         },
         "mode": "lines+markers",
         "type": "scatter",
         "x": [
          0,
          0.0000658018616377376
         ],
         "xaxis": "x",
         "y": [
          0,
          0.00006491809472208843
         ],
         "yaxis": "y"
        },
        {
         "line": {
          "color": "rgb(230, 172, 255.0)"
         },
         "marker": {
          "color": "rgb(230, 172, 255.0)",
          "size": 10
         },
         "mode": "lines+markers",
         "type": "scatter",
         "x": [
          0,
          0.0000658018616377376
         ],
         "xaxis": "x",
         "y": [
          0,
          0.00006491809472208843
         ],
         "yaxis": "y"
        },
        {
         "line": {
          "color": "rgb(230, 172, 255.0)"
         },
         "marker": {
          "color": "rgb(230, 172, 255.0)",
          "size": 10
         },
         "mode": "lines+markers",
         "type": "scatter",
         "x": [
          0,
          0.0000658018616377376
         ],
         "xaxis": "x",
         "y": [
          0,
          0.00006491809472208843
         ],
         "yaxis": "y"
        },
        {
         "line": {
          "color": "rgb(230, 172, 255.0)"
         },
         "marker": {
          "color": "rgb(230, 172, 255.0)",
          "size": 10
         },
         "mode": "lines+markers",
         "type": "scatter",
         "x": [
          0,
          0.0000658018616377376
         ],
         "xaxis": "x",
         "y": [
          0,
          0.00006491809472208843
         ],
         "yaxis": "y"
        },
        {
         "line": {
          "color": "rgb(230, 172, 255.0)"
         },
         "marker": {
          "color": "rgb(230, 172, 255.0)",
          "size": 10
         },
         "mode": "lines+markers",
         "type": "scatter",
         "x": [
          0,
          0.0000658018616377376
         ],
         "xaxis": "x",
         "y": [
          0,
          0.00006491809472208843
         ],
         "yaxis": "y"
        },
        {
         "line": {
          "color": "rgb(230, 172, 255.0)"
         },
         "marker": {
          "color": "rgb(230, 172, 255.0)",
          "size": 10
         },
         "mode": "lines+markers",
         "type": "scatter",
         "x": [
          0,
          0.0000658018616377376
         ],
         "xaxis": "x",
         "y": [
          0,
          0.00006491809472208843
         ],
         "yaxis": "y"
        },
        {
         "line": {
          "color": "rgb(230, 172, 255.0)"
         },
         "marker": {
          "color": "rgb(230, 172, 255.0)",
          "size": 10
         },
         "mode": "lines+markers",
         "type": "scatter",
         "x": [
          0,
          0.0000658018616377376
         ],
         "xaxis": "x",
         "y": [
          0,
          0.00006491809472208843
         ],
         "yaxis": "y"
        },
        {
         "line": {
          "color": "rgb(230, 172, 255.0)"
         },
         "marker": {
          "color": "rgb(230, 172, 255.0)",
          "size": 10
         },
         "mode": "lines+markers",
         "type": "scatter",
         "x": [
          0,
          0.0000658018616377376
         ],
         "xaxis": "x",
         "y": [
          0,
          0.00006491809472208843
         ],
         "yaxis": "y"
        },
        {
         "line": {
          "color": "rgb(230, 172, 255.0)"
         },
         "marker": {
          "color": "rgb(230, 172, 255.0)",
          "size": 10
         },
         "mode": "lines+markers",
         "type": "scatter",
         "x": [
          0,
          0.0000658018616377376
         ],
         "xaxis": "x",
         "y": [
          0,
          0.00006491809472208843
         ],
         "yaxis": "y"
        },
        {
         "line": {
          "color": "rgb(230, 172, 255.0)"
         },
         "marker": {
          "color": "rgb(230, 172, 255.0)",
          "size": 10
         },
         "mode": "lines+markers",
         "type": "scatter",
         "x": [
          0,
          0.0000658018616377376
         ],
         "xaxis": "x",
         "y": [
          0,
          0.00006491809472208843
         ],
         "yaxis": "y"
        },
        {
         "line": {
          "color": "rgb(230, 172, 255.0)"
         },
         "marker": {
          "color": "rgb(230, 172, 255.0)",
          "size": 10
         },
         "mode": "lines+markers",
         "type": "scatter",
         "x": [
          0,
          0.0000658018616377376
         ],
         "xaxis": "x",
         "y": [
          0,
          0.00006491809472208843
         ],
         "yaxis": "y"
        },
        {
         "line": {
          "color": "rgb(230, 172, 255.0)"
         },
         "marker": {
          "color": "rgb(230, 172, 255.0)",
          "size": 10
         },
         "mode": "lines+markers",
         "type": "scatter",
         "x": [
          0,
          0.0000658018616377376
         ],
         "xaxis": "x",
         "y": [
          0,
          0.00006491809472208843
         ],
         "yaxis": "y"
        },
        {
         "line": {
          "color": "rgb(230, 172, 255.0)"
         },
         "marker": {
          "color": "rgb(230, 172, 255.0)",
          "size": 10
         },
         "mode": "lines+markers",
         "type": "scatter",
         "x": [
          0,
          0.0000658018616377376
         ],
         "xaxis": "x",
         "y": [
          0,
          0.00006491809472208843
         ],
         "yaxis": "y"
        },
        {
         "line": {
          "color": "rgb(230, 172, 255.0)"
         },
         "marker": {
          "color": "rgb(230, 172, 255.0)",
          "size": 10
         },
         "mode": "lines+markers",
         "type": "scatter",
         "x": [
          0,
          0.0000658018616377376
         ],
         "xaxis": "x",
         "y": [
          0,
          0.00006491809472208843
         ],
         "yaxis": "y"
        },
        {
         "line": {
          "color": "rgb(230, 172, 255.0)"
         },
         "marker": {
          "color": "rgb(230, 172, 255.0)",
          "size": 10
         },
         "mode": "lines+markers",
         "type": "scatter",
         "x": [
          0,
          0.0000658018616377376
         ],
         "xaxis": "x",
         "y": [
          0,
          0.00006491809472208843
         ],
         "yaxis": "y"
        },
        {
         "line": {
          "color": "rgb(230, 172, 255.0)"
         },
         "marker": {
          "color": "rgb(230, 172, 255.0)",
          "size": 10
         },
         "mode": "lines+markers",
         "type": "scatter",
         "x": [
          0,
          0.0000658018616377376
         ],
         "xaxis": "x",
         "y": [
          0,
          0.00006491809472208843
         ],
         "yaxis": "y"
        },
        {
         "line": {
          "color": "rgb(230, 172, 255.0)"
         },
         "marker": {
          "color": "rgb(230, 172, 255.0)",
          "size": 10
         },
         "mode": "lines+markers",
         "type": "scatter",
         "x": [
          0,
          0.0000658018616377376
         ],
         "xaxis": "x",
         "y": [
          0,
          0.00006491809472208843
         ],
         "yaxis": "y"
        },
        {
         "line": {
          "color": "rgb(230, 172, 255.0)"
         },
         "marker": {
          "color": "rgb(230, 172, 255.0)",
          "size": 10
         },
         "mode": "lines+markers",
         "type": "scatter",
         "x": [
          0,
          0.0000658018616377376
         ],
         "xaxis": "x",
         "y": [
          0,
          0.00006491809472208843
         ],
         "yaxis": "y"
        },
        {
         "line": {
          "color": "rgb(230, 172, 255.0)"
         },
         "marker": {
          "color": "rgb(230, 172, 255.0)",
          "size": 10
         },
         "mode": "lines+markers",
         "type": "scatter",
         "x": [
          0,
          0.0000658018616377376
         ],
         "xaxis": "x",
         "y": [
          0,
          0.00006491809472208843
         ],
         "yaxis": "y"
        },
        {
         "line": {
          "color": "rgb(230, 172, 255.0)"
         },
         "marker": {
          "color": "rgb(230, 172, 255.0)",
          "size": 10
         },
         "mode": "lines+markers",
         "type": "scatter",
         "x": [
          0,
          0.0000658018616377376
         ],
         "xaxis": "x",
         "y": [
          0,
          0.00006491809472208843
         ],
         "yaxis": "y"
        },
        {
         "line": {
          "color": "rgb(230, 172, 255.0)"
         },
         "marker": {
          "color": "rgb(230, 172, 255.0)",
          "size": 10
         },
         "mode": "lines+markers",
         "type": "scatter",
         "x": [
          0,
          0.0000658018616377376
         ],
         "xaxis": "x",
         "y": [
          0,
          0.00006491809472208843
         ],
         "yaxis": "y"
        },
        {
         "line": {
          "color": "rgb(230, 172, 255.0)"
         },
         "marker": {
          "color": "rgb(230, 172, 255.0)",
          "size": 10
         },
         "mode": "lines+markers",
         "type": "scatter",
         "x": [
          0,
          0.0000658018616377376
         ],
         "xaxis": "x",
         "y": [
          0,
          0.00006491809472208843
         ],
         "yaxis": "y"
        },
        {
         "line": {
          "color": "rgb(230, 172, 255.0)"
         },
         "marker": {
          "color": "rgb(230, 172, 255.0)",
          "size": 10
         },
         "mode": "lines+markers",
         "type": "scatter",
         "x": [
          0,
          0.0000658018616377376
         ],
         "xaxis": "x",
         "y": [
          0,
          0.00006491809472208843
         ],
         "yaxis": "y"
        },
        {
         "line": {
          "color": "rgb(230, 172, 255.0)"
         },
         "marker": {
          "color": "rgb(230, 172, 255.0)",
          "size": 10
         },
         "mode": "lines+markers",
         "type": "scatter",
         "x": [
          0,
          0.0000658018616377376
         ],
         "xaxis": "x",
         "y": [
          0,
          0.00006491809472208843
         ],
         "yaxis": "y"
        },
        {
         "line": {
          "color": "rgb(230, 172, 255.0)"
         },
         "marker": {
          "color": "rgb(230, 172, 255.0)",
          "size": 10
         },
         "mode": "lines+markers",
         "type": "scatter",
         "x": [
          0,
          0.0000658018616377376
         ],
         "xaxis": "x",
         "y": [
          0,
          0.00006491809472208843
         ],
         "yaxis": "y"
        },
        {
         "line": {
          "color": "rgb(230, 172, 255.0)"
         },
         "marker": {
          "color": "rgb(230, 172, 255.0)",
          "size": 10
         },
         "mode": "lines+markers",
         "type": "scatter",
         "x": [
          0,
          0.0000658018616377376
         ],
         "xaxis": "x",
         "y": [
          0,
          0.00006491809472208843
         ],
         "yaxis": "y"
        },
        {
         "line": {
          "color": "rgb(230, 172, 255.0)"
         },
         "marker": {
          "color": "rgb(230, 172, 255.0)",
          "size": 10
         },
         "mode": "lines+markers",
         "type": "scatter",
         "x": [
          0,
          0.0000658018616377376
         ],
         "xaxis": "x",
         "y": [
          0,
          0.00006491809472208843
         ],
         "yaxis": "y"
        },
        {
         "line": {
          "color": "rgb(230, 172, 255.0)"
         },
         "marker": {
          "color": "rgb(230, 172, 255.0)",
          "size": 10
         },
         "mode": "lines+markers",
         "type": "scatter",
         "x": [
          0,
          0.0000658018616377376
         ],
         "xaxis": "x",
         "y": [
          0,
          0.00006491809472208843
         ],
         "yaxis": "y"
        },
        {
         "line": {
          "color": "rgb(230, 172, 255.0)"
         },
         "marker": {
          "color": "rgb(230, 172, 255.0)",
          "size": 10
         },
         "mode": "lines+markers",
         "type": "scatter",
         "x": [
          0,
          0.0000658018616377376
         ],
         "xaxis": "x",
         "y": [
          0,
          0.00006491809472208843
         ],
         "yaxis": "y"
        },
        {
         "line": {
          "color": "rgb(230, 172, 255.0)"
         },
         "marker": {
          "color": "rgb(230, 172, 255.0)",
          "size": 10
         },
         "mode": "lines+markers",
         "type": "scatter",
         "x": [
          0,
          0.0000658018616377376
         ],
         "xaxis": "x",
         "y": [
          0,
          0.00006491809472208843
         ],
         "yaxis": "y"
        },
        {
         "line": {
          "color": "rgb(230, 172, 255.0)"
         },
         "marker": {
          "color": "rgb(230, 172, 255.0)",
          "size": 10
         },
         "mode": "lines+markers",
         "type": "scatter",
         "x": [
          0,
          0.0000658018616377376
         ],
         "xaxis": "x",
         "y": [
          0,
          0.00006491809472208843
         ],
         "yaxis": "y"
        },
        {
         "line": {
          "color": "rgb(230, 172, 255.0)"
         },
         "marker": {
          "color": "rgb(230, 172, 255.0)",
          "size": 10
         },
         "mode": "lines+markers",
         "type": "scatter",
         "x": [
          0,
          0.0000658018616377376
         ],
         "xaxis": "x",
         "y": [
          0,
          0.00006491809472208843
         ],
         "yaxis": "y"
        },
        {
         "line": {
          "color": "rgb(230, 172, 255.0)"
         },
         "marker": {
          "color": "rgb(230, 172, 255.0)",
          "size": 10
         },
         "mode": "lines+markers",
         "type": "scatter",
         "x": [
          0,
          0.0000658018616377376
         ],
         "xaxis": "x",
         "y": [
          0,
          0.00006491809472208843
         ],
         "yaxis": "y"
        },
        {
         "line": {
          "color": "rgb(230, 172, 255.0)"
         },
         "marker": {
          "color": "rgb(230, 172, 255.0)",
          "size": 10
         },
         "mode": "lines+markers",
         "type": "scatter",
         "x": [
          0,
          0.0000658018616377376
         ],
         "xaxis": "x",
         "y": [
          0,
          0.00006491809472208843
         ],
         "yaxis": "y"
        },
        {
         "line": {
          "color": "rgb(230, 172, 255.0)"
         },
         "marker": {
          "color": "rgb(230, 172, 255.0)",
          "size": 10
         },
         "mode": "lines+markers",
         "type": "scatter",
         "x": [
          0,
          0.0000658018616377376
         ],
         "xaxis": "x",
         "y": [
          0,
          0.00006491809472208843
         ],
         "yaxis": "y"
        },
        {
         "line": {
          "color": "rgb(230, 172, 255.0)"
         },
         "marker": {
          "color": "rgb(230, 172, 255.0)",
          "size": 10
         },
         "mode": "lines+markers",
         "type": "scatter",
         "x": [
          0,
          0.0000658018616377376
         ],
         "xaxis": "x",
         "y": [
          0,
          0.00006491809472208843
         ],
         "yaxis": "y"
        },
        {
         "line": {
          "color": "rgb(230, 172, 255.0)"
         },
         "marker": {
          "color": "rgb(230, 172, 255.0)",
          "size": 10
         },
         "mode": "lines+markers",
         "type": "scatter",
         "x": [
          0,
          0.0000658018616377376
         ],
         "xaxis": "x",
         "y": [
          0,
          0.00006491809472208843
         ],
         "yaxis": "y"
        },
        {
         "line": {
          "color": "rgb(230, 172, 255.0)"
         },
         "marker": {
          "color": "rgb(230, 172, 255.0)",
          "size": 10
         },
         "mode": "lines+markers",
         "type": "scatter",
         "x": [
          0,
          0.0000658018616377376
         ],
         "xaxis": "x",
         "y": [
          0,
          0.00006491809472208843
         ],
         "yaxis": "y"
        },
        {
         "line": {
          "color": "rgb(230, 172, 255.0)"
         },
         "marker": {
          "color": "rgb(230, 172, 255.0)",
          "size": 10
         },
         "mode": "lines+markers",
         "type": "scatter",
         "x": [
          0,
          0.0000658018616377376
         ],
         "xaxis": "x",
         "y": [
          0,
          0.00006491809472208843
         ],
         "yaxis": "y"
        },
        {
         "line": {
          "color": "rgb(230, 172, 255.0)"
         },
         "marker": {
          "color": "rgb(230, 172, 255.0)",
          "size": 10
         },
         "mode": "lines+markers",
         "type": "scatter",
         "x": [
          0,
          0.0000658018616377376
         ],
         "xaxis": "x",
         "y": [
          0,
          0.00006491809472208843
         ],
         "yaxis": "y"
        },
        {
         "line": {
          "color": "rgb(230, 172, 255.0)"
         },
         "marker": {
          "color": "rgb(230, 172, 255.0)",
          "size": 10
         },
         "mode": "lines+markers",
         "type": "scatter",
         "x": [
          0,
          0.0000658018616377376
         ],
         "xaxis": "x",
         "y": [
          0,
          0.00006491809472208843
         ],
         "yaxis": "y"
        },
        {
         "line": {
          "color": "rgb(230, 172, 255.0)"
         },
         "marker": {
          "color": "rgb(230, 172, 255.0)",
          "size": 10
         },
         "mode": "lines+markers",
         "type": "scatter",
         "x": [
          0,
          0.0000658018616377376
         ],
         "xaxis": "x",
         "y": [
          0,
          0.00006491809472208843
         ],
         "yaxis": "y"
        },
        {
         "line": {
          "color": "rgb(230, 172, 255.0)"
         },
         "marker": {
          "color": "rgb(230, 172, 255.0)",
          "size": 10
         },
         "mode": "lines+markers",
         "type": "scatter",
         "x": [
          0,
          0.0000658018616377376
         ],
         "xaxis": "x",
         "y": [
          0,
          0.00006491809472208843
         ],
         "yaxis": "y"
        },
        {
         "line": {
          "color": "rgb(230, 172, 255.0)"
         },
         "marker": {
          "color": "rgb(230, 172, 255.0)",
          "size": 10
         },
         "mode": "lines+markers",
         "type": "scatter",
         "x": [
          0,
          0.0000658018616377376
         ],
         "xaxis": "x",
         "y": [
          0,
          0.00006491809472208843
         ],
         "yaxis": "y"
        },
        {
         "line": {
          "color": "rgb(230, 172, 255.0)"
         },
         "marker": {
          "color": "rgb(230, 172, 255.0)",
          "size": 10
         },
         "mode": "lines+markers",
         "type": "scatter",
         "x": [
          0,
          0.0000658018616377376
         ],
         "xaxis": "x",
         "y": [
          0,
          0.00006491809472208843
         ],
         "yaxis": "y"
        },
        {
         "line": {
          "color": "rgb(230, 172, 255.0)"
         },
         "marker": {
          "color": "rgb(230, 172, 255.0)",
          "size": 10
         },
         "mode": "lines+markers",
         "type": "scatter",
         "x": [
          0,
          0.0000658018616377376
         ],
         "xaxis": "x",
         "y": [
          0,
          0.00006491809472208843
         ],
         "yaxis": "y"
        },
        {
         "line": {
          "color": "rgb(230, 172, 255.0)"
         },
         "marker": {
          "color": "rgb(230, 172, 255.0)",
          "size": 10
         },
         "mode": "lines+markers",
         "type": "scatter",
         "x": [
          0,
          0.0000658018616377376
         ],
         "xaxis": "x",
         "y": [
          0,
          0.00006491809472208843
         ],
         "yaxis": "y"
        },
        {
         "line": {
          "color": "rgb(230, 172, 255.0)"
         },
         "marker": {
          "color": "rgb(230, 172, 255.0)",
          "size": 10
         },
         "mode": "lines+markers",
         "type": "scatter",
         "x": [
          0,
          0.0000658018616377376
         ],
         "xaxis": "x",
         "y": [
          0,
          0.00006491809472208843
         ],
         "yaxis": "y"
        },
        {
         "line": {
          "color": "rgb(230, 172, 255.0)"
         },
         "marker": {
          "color": "rgb(230, 172, 255.0)",
          "size": 10
         },
         "mode": "lines+markers",
         "type": "scatter",
         "x": [
          0,
          0.0000658018616377376
         ],
         "xaxis": "x",
         "y": [
          0,
          0.00006491809472208843
         ],
         "yaxis": "y"
        },
        {
         "line": {
          "color": "rgb(230, 172, 255.0)"
         },
         "marker": {
          "color": "rgb(230, 172, 255.0)",
          "size": 10
         },
         "mode": "lines+markers",
         "type": "scatter",
         "x": [
          0,
          0.0000658018616377376
         ],
         "xaxis": "x",
         "y": [
          0,
          0.00006491809472208843
         ],
         "yaxis": "y"
        },
        {
         "line": {
          "color": "rgb(230, 172, 255.0)"
         },
         "marker": {
          "color": "rgb(230, 172, 255.0)",
          "size": 10
         },
         "mode": "lines+markers",
         "type": "scatter",
         "x": [
          0,
          0.0000658018616377376
         ],
         "xaxis": "x",
         "y": [
          0,
          0.00006491809472208843
         ],
         "yaxis": "y"
        },
        {
         "line": {
          "color": "rgb(230, 172, 255.0)"
         },
         "marker": {
          "color": "rgb(230, 172, 255.0)",
          "size": 10
         },
         "mode": "lines+markers",
         "type": "scatter",
         "x": [
          0,
          0.0000658018616377376
         ],
         "xaxis": "x",
         "y": [
          0,
          0.00006491809472208843
         ],
         "yaxis": "y"
        },
        {
         "line": {
          "color": "rgb(230, 172, 255.0)"
         },
         "marker": {
          "color": "rgb(230, 172, 255.0)",
          "size": 10
         },
         "mode": "lines+markers",
         "type": "scatter",
         "x": [
          0,
          0.0000658018616377376
         ],
         "xaxis": "x",
         "y": [
          0,
          0.00006491809472208843
         ],
         "yaxis": "y"
        },
        {
         "line": {
          "color": "rgb(230, 172, 255.0)"
         },
         "marker": {
          "color": "rgb(230, 172, 255.0)",
          "size": 10
         },
         "mode": "lines+markers",
         "type": "scatter",
         "x": [
          0,
          0.0000658018616377376
         ],
         "xaxis": "x",
         "y": [
          0,
          0.00006491809472208843
         ],
         "yaxis": "y"
        },
        {
         "line": {
          "color": "rgb(230, 172, 255.0)"
         },
         "marker": {
          "color": "rgb(230, 172, 255.0)",
          "size": 10
         },
         "mode": "lines+markers",
         "type": "scatter",
         "x": [
          0,
          0.0000658018616377376
         ],
         "xaxis": "x",
         "y": [
          0,
          0.00006491809472208843
         ],
         "yaxis": "y"
        },
        {
         "line": {
          "color": "rgb(230, 172, 255.0)"
         },
         "marker": {
          "color": "rgb(230, 172, 255.0)",
          "size": 10
         },
         "mode": "lines+markers",
         "type": "scatter",
         "x": [
          0,
          0.0000658018616377376
         ],
         "xaxis": "x",
         "y": [
          0,
          0.00006491809472208843
         ],
         "yaxis": "y"
        },
        {
         "line": {
          "color": "rgb(230, 172, 255.0)"
         },
         "marker": {
          "color": "rgb(230, 172, 255.0)",
          "size": 10
         },
         "mode": "lines+markers",
         "type": "scatter",
         "x": [
          0,
          0.0000658018616377376
         ],
         "xaxis": "x",
         "y": [
          0,
          0.00006491809472208843
         ],
         "yaxis": "y"
        },
        {
         "line": {
          "color": "rgb(230, 172, 255.0)"
         },
         "marker": {
          "color": "rgb(230, 172, 255.0)",
          "size": 10
         },
         "mode": "lines+markers",
         "type": "scatter",
         "x": [
          0,
          0.0000658018616377376
         ],
         "xaxis": "x",
         "y": [
          0,
          0.00006491809472208843
         ],
         "yaxis": "y"
        },
        {
         "line": {
          "color": "rgb(230, 172, 255.0)"
         },
         "marker": {
          "color": "rgb(230, 172, 255.0)",
          "size": 10
         },
         "mode": "lines+markers",
         "type": "scatter",
         "x": [
          0,
          0.0000658018616377376
         ],
         "xaxis": "x",
         "y": [
          0,
          0.00006491809472208843
         ],
         "yaxis": "y"
        },
        {
         "line": {
          "color": "rgb(230, 172, 255.0)"
         },
         "marker": {
          "color": "rgb(230, 172, 255.0)",
          "size": 10
         },
         "mode": "lines+markers",
         "type": "scatter",
         "x": [
          0,
          0.0000658018616377376
         ],
         "xaxis": "x",
         "y": [
          0,
          0.00006491809472208843
         ],
         "yaxis": "y"
        },
        {
         "line": {
          "color": "rgb(230, 172, 255.0)"
         },
         "marker": {
          "color": "rgb(230, 172, 255.0)",
          "size": 10
         },
         "mode": "lines+markers",
         "type": "scatter",
         "x": [
          0,
          0.0000658018616377376
         ],
         "xaxis": "x",
         "y": [
          0,
          0.00006491809472208843
         ],
         "yaxis": "y"
        },
        {
         "line": {
          "color": "rgb(230, 172, 255.0)"
         },
         "marker": {
          "color": "rgb(230, 172, 255.0)",
          "size": 10
         },
         "mode": "lines+markers",
         "type": "scatter",
         "x": [
          0,
          0.0000658018616377376
         ],
         "xaxis": "x",
         "y": [
          0,
          0.00006491809472208843
         ],
         "yaxis": "y"
        },
        {
         "line": {
          "color": "rgb(230, 172, 255.0)"
         },
         "marker": {
          "color": "rgb(230, 172, 255.0)",
          "size": 10
         },
         "mode": "lines+markers",
         "type": "scatter",
         "x": [
          0,
          0.0000658018616377376
         ],
         "xaxis": "x",
         "y": [
          0,
          0.00006491809472208843
         ],
         "yaxis": "y"
        },
        {
         "line": {
          "color": "rgb(230, 172, 255.0)"
         },
         "marker": {
          "color": "rgb(230, 172, 255.0)",
          "size": 10
         },
         "mode": "lines+markers",
         "type": "scatter",
         "x": [
          0,
          0.0000658018616377376
         ],
         "xaxis": "x",
         "y": [
          0,
          0.00006491809472208843
         ],
         "yaxis": "y"
        },
        {
         "line": {
          "color": "rgb(230, 172, 255.0)"
         },
         "marker": {
          "color": "rgb(230, 172, 255.0)",
          "size": 10
         },
         "mode": "lines+markers",
         "type": "scatter",
         "x": [
          0,
          0.0000658018616377376
         ],
         "xaxis": "x",
         "y": [
          0,
          0.00006491809472208843
         ],
         "yaxis": "y"
        },
        {
         "line": {
          "color": "rgb(230, 172, 255.0)"
         },
         "marker": {
          "color": "rgb(230, 172, 255.0)",
          "size": 10
         },
         "mode": "lines+markers",
         "type": "scatter",
         "x": [
          0,
          0.0000658018616377376
         ],
         "xaxis": "x",
         "y": [
          0,
          0.00006491809472208843
         ],
         "yaxis": "y"
        },
        {
         "line": {
          "color": "rgb(230, 172, 255.0)"
         },
         "marker": {
          "color": "rgb(230, 172, 255.0)",
          "size": 10
         },
         "mode": "lines+markers",
         "type": "scatter",
         "x": [
          0,
          0.0000658018616377376
         ],
         "xaxis": "x",
         "y": [
          0,
          0.00006491809472208843
         ],
         "yaxis": "y"
        },
        {
         "line": {
          "color": "rgb(230, 172, 255.0)"
         },
         "marker": {
          "color": "rgb(230, 172, 255.0)",
          "size": 10
         },
         "mode": "lines+markers",
         "type": "scatter",
         "x": [
          0,
          0.0000658018616377376
         ],
         "xaxis": "x",
         "y": [
          0,
          0.00006491809472208843
         ],
         "yaxis": "y"
        },
        {
         "line": {
          "color": "rgb(230, 172, 255.0)"
         },
         "marker": {
          "color": "rgb(230, 172, 255.0)",
          "size": 10
         },
         "mode": "lines+markers",
         "type": "scatter",
         "x": [
          0,
          0.0000658018616377376
         ],
         "xaxis": "x",
         "y": [
          0,
          0.00006491809472208843
         ],
         "yaxis": "y"
        },
        {
         "line": {
          "color": "rgb(230, 172, 255.0)"
         },
         "marker": {
          "color": "rgb(230, 172, 255.0)",
          "size": 10
         },
         "mode": "lines+markers",
         "type": "scatter",
         "x": [
          0,
          0.0000658018616377376
         ],
         "xaxis": "x",
         "y": [
          0,
          0.00006491809472208843
         ],
         "yaxis": "y"
        },
        {
         "line": {
          "color": "rgb(230, 172, 255.0)"
         },
         "marker": {
          "color": "rgb(230, 172, 255.0)",
          "size": 10
         },
         "mode": "lines+markers",
         "type": "scatter",
         "x": [
          0,
          0.0000658018616377376
         ],
         "xaxis": "x",
         "y": [
          0,
          0.00006491809472208843
         ],
         "yaxis": "y"
        },
        {
         "line": {
          "color": "rgb(230, 172, 255.0)"
         },
         "marker": {
          "color": "rgb(230, 172, 255.0)",
          "size": 10
         },
         "mode": "lines+markers",
         "type": "scatter",
         "x": [
          0,
          0.0000658018616377376
         ],
         "xaxis": "x",
         "y": [
          0,
          0.00006491809472208843
         ],
         "yaxis": "y"
        },
        {
         "line": {
          "color": "rgb(230, 172, 255.0)"
         },
         "marker": {
          "color": "rgb(230, 172, 255.0)",
          "size": 10
         },
         "mode": "lines+markers",
         "type": "scatter",
         "x": [
          0,
          0.0000658018616377376
         ],
         "xaxis": "x",
         "y": [
          0,
          0.00006491809472208843
         ],
         "yaxis": "y"
        },
        {
         "line": {
          "color": "rgb(230, 172, 255.0)"
         },
         "marker": {
          "color": "rgb(230, 172, 255.0)",
          "size": 10
         },
         "mode": "lines+markers",
         "type": "scatter",
         "x": [
          0,
          0.0000658018616377376
         ],
         "xaxis": "x",
         "y": [
          0,
          0.00006491809472208843
         ],
         "yaxis": "y"
        },
        {
         "line": {
          "color": "rgb(230, 172, 255.0)"
         },
         "marker": {
          "color": "rgb(230, 172, 255.0)",
          "size": 10
         },
         "mode": "lines+markers",
         "type": "scatter",
         "x": [
          0,
          0.0000658018616377376
         ],
         "xaxis": "x",
         "y": [
          0,
          0.00006491809472208843
         ],
         "yaxis": "y"
        },
        {
         "line": {
          "color": "rgb(230, 172, 255.0)"
         },
         "marker": {
          "color": "rgb(230, 172, 255.0)",
          "size": 10
         },
         "mode": "lines+markers",
         "type": "scatter",
         "x": [
          0,
          0.0000658018616377376
         ],
         "xaxis": "x",
         "y": [
          0,
          0.00006491809472208843
         ],
         "yaxis": "y"
        },
        {
         "line": {
          "color": "rgb(230, 172, 255.0)"
         },
         "marker": {
          "color": "rgb(230, 172, 255.0)",
          "size": 10
         },
         "mode": "lines+markers",
         "type": "scatter",
         "x": [
          0,
          0.0000658018616377376
         ],
         "xaxis": "x",
         "y": [
          0,
          0.00006491809472208843
         ],
         "yaxis": "y"
        },
        {
         "line": {
          "color": "rgb(230, 172, 255.0)"
         },
         "marker": {
          "color": "rgb(230, 172, 255.0)",
          "size": 10
         },
         "mode": "lines+markers",
         "type": "scatter",
         "x": [
          0,
          0.0000658018616377376
         ],
         "xaxis": "x",
         "y": [
          0,
          0.00006491809472208843
         ],
         "yaxis": "y"
        },
        {
         "line": {
          "color": "rgb(230, 172, 255.0)"
         },
         "marker": {
          "color": "rgb(230, 172, 255.0)",
          "size": 10
         },
         "mode": "lines+markers",
         "type": "scatter",
         "x": [
          0,
          0.0000658018616377376
         ],
         "xaxis": "x",
         "y": [
          0,
          0.00006491809472208843
         ],
         "yaxis": "y"
        },
        {
         "line": {
          "color": "rgb(230, 172, 255.0)"
         },
         "marker": {
          "color": "rgb(230, 172, 255.0)",
          "size": 10
         },
         "mode": "lines+markers",
         "type": "scatter",
         "x": [
          0,
          0.0000658018616377376
         ],
         "xaxis": "x",
         "y": [
          0,
          0.00006491809472208843
         ],
         "yaxis": "y"
        },
        {
         "line": {
          "color": "rgb(230, 172, 255.0)"
         },
         "marker": {
          "color": "rgb(230, 172, 255.0)",
          "size": 10
         },
         "mode": "lines+markers",
         "type": "scatter",
         "x": [
          0,
          0.0000658018616377376
         ],
         "xaxis": "x",
         "y": [
          0,
          0.00006491809472208843
         ],
         "yaxis": "y"
        },
        {
         "line": {
          "color": "rgb(230, 172, 255.0)"
         },
         "marker": {
          "color": "rgb(230, 172, 255.0)",
          "size": 10
         },
         "mode": "lines+markers",
         "type": "scatter",
         "x": [
          0,
          0.0000658018616377376
         ],
         "xaxis": "x",
         "y": [
          0,
          0.00006491809472208843
         ],
         "yaxis": "y"
        },
        {
         "line": {
          "color": "rgb(230, 172, 255.0)"
         },
         "marker": {
          "color": "rgb(230, 172, 255.0)",
          "size": 10
         },
         "mode": "lines+markers",
         "type": "scatter",
         "x": [
          0,
          0.0000658018616377376
         ],
         "xaxis": "x",
         "y": [
          0,
          0.00006491809472208843
         ],
         "yaxis": "y"
        },
        {
         "line": {
          "color": "rgb(230, 172, 255.0)"
         },
         "marker": {
          "color": "rgb(230, 172, 255.0)",
          "size": 10
         },
         "mode": "lines+markers",
         "type": "scatter",
         "x": [
          0,
          0.0000658018616377376
         ],
         "xaxis": "x",
         "y": [
          0,
          0.00006491809472208843
         ],
         "yaxis": "y"
        },
        {
         "line": {
          "color": "rgb(230, 172, 255.0)"
         },
         "marker": {
          "color": "rgb(230, 172, 255.0)",
          "size": 10
         },
         "mode": "lines+markers",
         "type": "scatter",
         "x": [
          0,
          0.0000658018616377376
         ],
         "xaxis": "x",
         "y": [
          0,
          0.00006491809472208843
         ],
         "yaxis": "y"
        },
        {
         "line": {
          "color": "rgb(230, 172, 255.0)"
         },
         "marker": {
          "color": "rgb(230, 172, 255.0)",
          "size": 10
         },
         "mode": "lines+markers",
         "type": "scatter",
         "x": [
          0,
          0.0000658018616377376
         ],
         "xaxis": "x",
         "y": [
          0,
          0.00006491809472208843
         ],
         "yaxis": "y"
        },
        {
         "line": {
          "color": "rgb(230, 172, 255.0)"
         },
         "marker": {
          "color": "rgb(230, 172, 255.0)",
          "size": 10
         },
         "mode": "lines+markers",
         "type": "scatter",
         "x": [
          0,
          0.0000658018616377376
         ],
         "xaxis": "x",
         "y": [
          0,
          0.00006491809472208843
         ],
         "yaxis": "y"
        },
        {
         "line": {
          "color": "rgb(230, 172, 255.0)"
         },
         "marker": {
          "color": "rgb(230, 172, 255.0)",
          "size": 10
         },
         "mode": "lines+markers",
         "type": "scatter",
         "x": [
          0,
          0.0000658018616377376
         ],
         "xaxis": "x",
         "y": [
          0,
          0.00006491809472208843
         ],
         "yaxis": "y"
        },
        {
         "line": {
          "color": "rgb(230, 172, 255.0)"
         },
         "marker": {
          "color": "rgb(230, 172, 255.0)",
          "size": 10
         },
         "mode": "lines+markers",
         "type": "scatter",
         "x": [
          0,
          0.0000658018616377376
         ],
         "xaxis": "x",
         "y": [
          0,
          0.00006491809472208843
         ],
         "yaxis": "y"
        },
        {
         "line": {
          "color": "rgb(230, 172, 255.0)"
         },
         "marker": {
          "color": "rgb(230, 172, 255.0)",
          "size": 10
         },
         "mode": "lines+markers",
         "type": "scatter",
         "x": [
          0,
          0.0000658018616377376
         ],
         "xaxis": "x",
         "y": [
          0,
          0.00006491809472208843
         ],
         "yaxis": "y"
        },
        {
         "line": {
          "color": "rgb(230, 172, 255.0)"
         },
         "marker": {
          "color": "rgb(230, 172, 255.0)",
          "size": 10
         },
         "mode": "lines+markers",
         "type": "scatter",
         "x": [
          0,
          0.0000658018616377376
         ],
         "xaxis": "x",
         "y": [
          0,
          0.00006491809472208843
         ],
         "yaxis": "y"
        },
        {
         "line": {
          "color": "rgb(230, 172, 255.0)"
         },
         "marker": {
          "color": "rgb(230, 172, 255.0)",
          "size": 10
         },
         "mode": "lines+markers",
         "type": "scatter",
         "x": [
          0,
          0.0000658018616377376
         ],
         "xaxis": "x",
         "y": [
          0,
          0.00006491809472208843
         ],
         "yaxis": "y"
        },
        {
         "line": {
          "color": "rgb(230, 172, 255.0)"
         },
         "marker": {
          "color": "rgb(230, 172, 255.0)",
          "size": 10
         },
         "mode": "lines+markers",
         "type": "scatter",
         "x": [
          0,
          0.0000658018616377376
         ],
         "xaxis": "x",
         "y": [
          0,
          0.00006491809472208843
         ],
         "yaxis": "y"
        },
        {
         "line": {
          "color": "rgb(230, 172, 255.0)"
         },
         "marker": {
          "color": "rgb(230, 172, 255.0)",
          "size": 10
         },
         "mode": "lines+markers",
         "type": "scatter",
         "x": [
          0,
          0.0000658018616377376
         ],
         "xaxis": "x",
         "y": [
          0,
          0.00006491809472208843
         ],
         "yaxis": "y"
        },
        {
         "line": {
          "color": "rgb(230, 172, 255.0)"
         },
         "marker": {
          "color": "rgb(230, 172, 255.0)",
          "size": 10
         },
         "mode": "lines+markers",
         "type": "scatter",
         "x": [
          0,
          0.0000658018616377376
         ],
         "xaxis": "x",
         "y": [
          0,
          0.00006491809472208843
         ],
         "yaxis": "y"
        },
        {
         "line": {
          "color": "rgb(230, 172, 255.0)"
         },
         "marker": {
          "color": "rgb(230, 172, 255.0)",
          "size": 10
         },
         "mode": "lines+markers",
         "type": "scatter",
         "x": [
          0,
          0.0000658018616377376
         ],
         "xaxis": "x",
         "y": [
          0,
          0.00006491809472208843
         ],
         "yaxis": "y"
        },
        {
         "line": {
          "color": "rgb(230, 172, 255.0)"
         },
         "marker": {
          "color": "rgb(230, 172, 255.0)",
          "size": 10
         },
         "mode": "lines+markers",
         "type": "scatter",
         "x": [
          0,
          0.0000658018616377376
         ],
         "xaxis": "x",
         "y": [
          0,
          0.00006491809472208843
         ],
         "yaxis": "y"
        },
        {
         "line": {
          "color": "rgb(230, 172, 255.0)"
         },
         "marker": {
          "color": "rgb(230, 172, 255.0)",
          "size": 10
         },
         "mode": "lines+markers",
         "type": "scatter",
         "x": [
          0,
          0.0000658018616377376
         ],
         "xaxis": "x",
         "y": [
          0,
          0.00006491809472208843
         ],
         "yaxis": "y"
        },
        {
         "line": {
          "color": "rgb(230, 172, 255.0)"
         },
         "marker": {
          "color": "rgb(230, 172, 255.0)",
          "size": 10
         },
         "mode": "lines+markers",
         "type": "scatter",
         "x": [
          0,
          0.0000658018616377376
         ],
         "xaxis": "x",
         "y": [
          0,
          0.00006491809472208843
         ],
         "yaxis": "y"
        },
        {
         "line": {
          "color": "rgb(230, 172, 255.0)"
         },
         "marker": {
          "color": "rgb(230, 172, 255.0)",
          "size": 10
         },
         "mode": "lines+markers",
         "type": "scatter",
         "x": [
          0,
          0.0000658018616377376
         ],
         "xaxis": "x",
         "y": [
          0,
          0.00006491809472208843
         ],
         "yaxis": "y"
        },
        {
         "line": {
          "color": "rgb(230, 172, 255.0)"
         },
         "marker": {
          "color": "rgb(230, 172, 255.0)",
          "size": 10
         },
         "mode": "lines+markers",
         "type": "scatter",
         "x": [
          0,
          0.0000658018616377376
         ],
         "xaxis": "x",
         "y": [
          0,
          0.00006491809472208843
         ],
         "yaxis": "y"
        },
        {
         "line": {
          "color": "rgb(230, 172, 255.0)"
         },
         "marker": {
          "color": "rgb(230, 172, 255.0)",
          "size": 10
         },
         "mode": "lines+markers",
         "type": "scatter",
         "x": [
          0,
          0.0000658018616377376
         ],
         "xaxis": "x",
         "y": [
          0,
          0.00006491809472208843
         ],
         "yaxis": "y"
        },
        {
         "line": {
          "color": "rgb(230, 172, 255.0)"
         },
         "marker": {
          "color": "rgb(230, 172, 255.0)",
          "size": 10
         },
         "mode": "lines+markers",
         "type": "scatter",
         "x": [
          0,
          0.0000658018616377376
         ],
         "xaxis": "x",
         "y": [
          0,
          0.00006491809472208843
         ],
         "yaxis": "y"
        },
        {
         "line": {
          "color": "rgb(230, 172, 255.0)"
         },
         "marker": {
          "color": "rgb(230, 172, 255.0)",
          "size": 10
         },
         "mode": "lines+markers",
         "type": "scatter",
         "x": [
          0,
          0.0000658018616377376
         ],
         "xaxis": "x",
         "y": [
          0,
          0.00006491809472208843
         ],
         "yaxis": "y"
        },
        {
         "line": {
          "color": "rgb(230, 172, 255.0)"
         },
         "marker": {
          "color": "rgb(230, 172, 255.0)",
          "size": 10
         },
         "mode": "lines+markers",
         "type": "scatter",
         "x": [
          0,
          0.0000658018616377376
         ],
         "xaxis": "x",
         "y": [
          0,
          0.00006491809472208843
         ],
         "yaxis": "y"
        },
        {
         "line": {
          "color": "rgb(230, 172, 255.0)"
         },
         "marker": {
          "color": "rgb(230, 172, 255.0)",
          "size": 10
         },
         "mode": "lines+markers",
         "type": "scatter",
         "x": [
          0,
          0.0000658018616377376
         ],
         "xaxis": "x",
         "y": [
          0,
          0.00006491809472208843
         ],
         "yaxis": "y"
        },
        {
         "line": {
          "color": "rgb(230, 172, 255.0)"
         },
         "marker": {
          "color": "rgb(230, 172, 255.0)",
          "size": 10
         },
         "mode": "lines+markers",
         "type": "scatter",
         "x": [
          0,
          0.0000658018616377376
         ],
         "xaxis": "x",
         "y": [
          0,
          0.00006491809472208843
         ],
         "yaxis": "y"
        },
        {
         "line": {
          "color": "rgb(230, 172, 255.0)"
         },
         "marker": {
          "color": "rgb(230, 172, 255.0)",
          "size": 10
         },
         "mode": "lines+markers",
         "type": "scatter",
         "x": [
          0,
          0.0000658018616377376
         ],
         "xaxis": "x",
         "y": [
          0,
          0.00006491809472208843
         ],
         "yaxis": "y"
        },
        {
         "line": {
          "color": "rgb(230, 172, 255.0)"
         },
         "marker": {
          "color": "rgb(230, 172, 255.0)",
          "size": 10
         },
         "mode": "lines+markers",
         "type": "scatter",
         "x": [
          0,
          0.0000658018616377376
         ],
         "xaxis": "x",
         "y": [
          0,
          0.00006491809472208843
         ],
         "yaxis": "y"
        },
        {
         "line": {
          "color": "rgb(230, 172, 255.0)"
         },
         "marker": {
          "color": "rgb(230, 172, 255.0)",
          "size": 10
         },
         "mode": "lines+markers",
         "type": "scatter",
         "x": [
          0,
          0.0000658018616377376
         ],
         "xaxis": "x",
         "y": [
          0,
          0.00006491809472208843
         ],
         "yaxis": "y"
        },
        {
         "line": {
          "color": "rgb(230, 172, 255.0)"
         },
         "marker": {
          "color": "rgb(230, 172, 255.0)",
          "size": 10
         },
         "mode": "lines+markers",
         "type": "scatter",
         "x": [
          0,
          0.0000658018616377376
         ],
         "xaxis": "x",
         "y": [
          0,
          0.00006491809472208843
         ],
         "yaxis": "y"
        },
        {
         "line": {
          "color": "rgb(230, 172, 255.0)"
         },
         "marker": {
          "color": "rgb(230, 172, 255.0)",
          "size": 10
         },
         "mode": "lines+markers",
         "type": "scatter",
         "x": [
          0,
          0.0000658018616377376
         ],
         "xaxis": "x",
         "y": [
          0,
          0.00006491809472208843
         ],
         "yaxis": "y"
        },
        {
         "line": {
          "color": "rgb(230, 172, 255.0)"
         },
         "marker": {
          "color": "rgb(230, 172, 255.0)",
          "size": 10
         },
         "mode": "lines+markers",
         "type": "scatter",
         "x": [
          0,
          0.0000658018616377376
         ],
         "xaxis": "x",
         "y": [
          0,
          0.00006491809472208843
         ],
         "yaxis": "y"
        },
        {
         "line": {
          "color": "rgb(230, 172, 255.0)"
         },
         "marker": {
          "color": "rgb(230, 172, 255.0)",
          "size": 10
         },
         "mode": "lines+markers",
         "type": "scatter",
         "x": [
          0,
          0.0000658018616377376
         ],
         "xaxis": "x",
         "y": [
          0,
          0.00006491809472208843
         ],
         "yaxis": "y"
        },
        {
         "line": {
          "color": "rgb(230, 172, 255.0)"
         },
         "marker": {
          "color": "rgb(230, 172, 255.0)",
          "size": 10
         },
         "mode": "lines+markers",
         "type": "scatter",
         "x": [
          0,
          0.0000658018616377376
         ],
         "xaxis": "x",
         "y": [
          0,
          0.00006491809472208843
         ],
         "yaxis": "y"
        },
        {
         "line": {
          "color": "rgb(230, 172, 255.0)"
         },
         "marker": {
          "color": "rgb(230, 172, 255.0)",
          "size": 10
         },
         "mode": "lines+markers",
         "type": "scatter",
         "x": [
          0,
          0.0000658018616377376
         ],
         "xaxis": "x",
         "y": [
          0,
          0.00006491809472208843
         ],
         "yaxis": "y"
        },
        {
         "line": {
          "color": "rgb(230, 172, 255.0)"
         },
         "marker": {
          "color": "rgb(230, 172, 255.0)",
          "size": 10
         },
         "mode": "lines+markers",
         "type": "scatter",
         "x": [
          0,
          0.0000658018616377376
         ],
         "xaxis": "x",
         "y": [
          0,
          0.00006491809472208843
         ],
         "yaxis": "y"
        },
        {
         "line": {
          "color": "rgb(230, 172, 255.0)"
         },
         "marker": {
          "color": "rgb(230, 172, 255.0)",
          "size": 10
         },
         "mode": "lines+markers",
         "type": "scatter",
         "x": [
          0,
          0.0000658018616377376
         ],
         "xaxis": "x",
         "y": [
          0,
          0.00006491809472208843
         ],
         "yaxis": "y"
        },
        {
         "line": {
          "color": "rgb(230, 172, 255.0)"
         },
         "marker": {
          "color": "rgb(230, 172, 255.0)",
          "size": 10
         },
         "mode": "lines+markers",
         "type": "scatter",
         "x": [
          0,
          0.0000658018616377376
         ],
         "xaxis": "x",
         "y": [
          0,
          0.00006491809472208843
         ],
         "yaxis": "y"
        },
        {
         "line": {
          "color": "rgb(230, 172, 255.0)"
         },
         "marker": {
          "color": "rgb(230, 172, 255.0)",
          "size": 10
         },
         "mode": "lines+markers",
         "type": "scatter",
         "x": [
          0,
          0.0000658018616377376
         ],
         "xaxis": "x",
         "y": [
          0,
          0.00006491809472208843
         ],
         "yaxis": "y"
        },
        {
         "line": {
          "color": "rgb(230, 172, 255.0)"
         },
         "marker": {
          "color": "rgb(230, 172, 255.0)",
          "size": 10
         },
         "mode": "lines+markers",
         "type": "scatter",
         "x": [
          0,
          0.0000658018616377376
         ],
         "xaxis": "x",
         "y": [
          0,
          0.00006491809472208843
         ],
         "yaxis": "y"
        },
        {
         "line": {
          "color": "rgb(230, 172, 255.0)"
         },
         "marker": {
          "color": "rgb(230, 172, 255.0)",
          "size": 10
         },
         "mode": "lines+markers",
         "type": "scatter",
         "x": [
          0,
          0.0000658018616377376
         ],
         "xaxis": "x",
         "y": [
          0,
          0.00006491809472208843
         ],
         "yaxis": "y"
        },
        {
         "line": {
          "color": "rgb(230, 172, 255.0)"
         },
         "marker": {
          "color": "rgb(230, 172, 255.0)",
          "size": 10
         },
         "mode": "lines+markers",
         "type": "scatter",
         "x": [
          0,
          0.0000658018616377376
         ],
         "xaxis": "x",
         "y": [
          0,
          0.00006491809472208843
         ],
         "yaxis": "y"
        },
        {
         "line": {
          "color": "rgb(230, 172, 255.0)"
         },
         "marker": {
          "color": "rgb(230, 172, 255.0)",
          "size": 10
         },
         "mode": "lines+markers",
         "type": "scatter",
         "x": [
          0,
          0.0000658018616377376
         ],
         "xaxis": "x",
         "y": [
          0,
          0.00006491809472208843
         ],
         "yaxis": "y"
        },
        {
         "line": {
          "color": "rgb(230, 172, 255.0)"
         },
         "marker": {
          "color": "rgb(230, 172, 255.0)",
          "size": 10
         },
         "mode": "lines+markers",
         "type": "scatter",
         "x": [
          0,
          0.0000658018616377376
         ],
         "xaxis": "x",
         "y": [
          0,
          0.00006491809472208843
         ],
         "yaxis": "y"
        },
        {
         "line": {
          "color": "rgb(230, 172, 255.0)"
         },
         "marker": {
          "color": "rgb(230, 172, 255.0)",
          "size": 10
         },
         "mode": "lines+markers",
         "type": "scatter",
         "x": [
          0,
          0.0000658018616377376
         ],
         "xaxis": "x",
         "y": [
          0,
          0.00006491809472208843
         ],
         "yaxis": "y"
        },
        {
         "line": {
          "color": "rgb(230, 172, 255.0)"
         },
         "marker": {
          "color": "rgb(230, 172, 255.0)",
          "size": 10
         },
         "mode": "lines+markers",
         "type": "scatter",
         "x": [
          0,
          0.0000658018616377376
         ],
         "xaxis": "x",
         "y": [
          0,
          0.00006491809472208843
         ],
         "yaxis": "y"
        },
        {
         "line": {
          "color": "rgb(230, 172, 255.0)"
         },
         "marker": {
          "color": "rgb(230, 172, 255.0)",
          "size": 10
         },
         "mode": "lines+markers",
         "type": "scatter",
         "x": [
          0,
          0.0000658018616377376
         ],
         "xaxis": "x",
         "y": [
          0,
          0.00006491809472208843
         ],
         "yaxis": "y"
        },
        {
         "line": {
          "color": "rgb(230, 172, 255.0)"
         },
         "marker": {
          "color": "rgb(230, 172, 255.0)",
          "size": 10
         },
         "mode": "lines+markers",
         "type": "scatter",
         "x": [
          0,
          0.0000658018616377376
         ],
         "xaxis": "x",
         "y": [
          0,
          0.00006491809472208843
         ],
         "yaxis": "y"
        },
        {
         "line": {
          "color": "rgb(230, 172, 255.0)"
         },
         "marker": {
          "color": "rgb(230, 172, 255.0)",
          "size": 10
         },
         "mode": "lines+markers",
         "type": "scatter",
         "x": [
          0,
          0.0000658018616377376
         ],
         "xaxis": "x",
         "y": [
          0,
          0.00006491809472208843
         ],
         "yaxis": "y"
        },
        {
         "line": {
          "color": "rgb(230, 172, 255.0)"
         },
         "marker": {
          "color": "rgb(230, 172, 255.0)",
          "size": 10
         },
         "mode": "lines+markers",
         "type": "scatter",
         "x": [
          0,
          0.0000658018616377376
         ],
         "xaxis": "x",
         "y": [
          0,
          0.00006491809472208843
         ],
         "yaxis": "y"
        },
        {
         "line": {
          "color": "rgb(230, 172, 255.0)"
         },
         "marker": {
          "color": "rgb(230, 172, 255.0)",
          "size": 10
         },
         "mode": "lines+markers",
         "type": "scatter",
         "x": [
          0,
          0.0000658018616377376
         ],
         "xaxis": "x",
         "y": [
          0,
          0.00006491809472208843
         ],
         "yaxis": "y"
        },
        {
         "line": {
          "color": "rgb(230, 172, 255.0)"
         },
         "marker": {
          "color": "rgb(230, 172, 255.0)",
          "size": 10
         },
         "mode": "lines+markers",
         "type": "scatter",
         "x": [
          0,
          0.0000658018616377376
         ],
         "xaxis": "x",
         "y": [
          0,
          0.00006491809472208843
         ],
         "yaxis": "y"
        },
        {
         "line": {
          "color": "rgb(230, 172, 255.0)"
         },
         "marker": {
          "color": "rgb(230, 172, 255.0)",
          "size": 10
         },
         "mode": "lines+markers",
         "type": "scatter",
         "x": [
          0,
          0.0000658018616377376
         ],
         "xaxis": "x",
         "y": [
          0,
          0.00006491809472208843
         ],
         "yaxis": "y"
        },
        {
         "line": {
          "color": "rgb(230, 172, 255.0)"
         },
         "marker": {
          "color": "rgb(230, 172, 255.0)",
          "size": 10
         },
         "mode": "lines+markers",
         "type": "scatter",
         "x": [
          0,
          0.0000658018616377376
         ],
         "xaxis": "x",
         "y": [
          0,
          0.00006491809472208843
         ],
         "yaxis": "y"
        },
        {
         "line": {
          "color": "rgb(230, 172, 255.0)"
         },
         "marker": {
          "color": "rgb(230, 172, 255.0)",
          "size": 10
         },
         "mode": "lines+markers",
         "type": "scatter",
         "x": [
          0,
          0.0000658018616377376
         ],
         "xaxis": "x",
         "y": [
          0,
          0.00006491809472208843
         ],
         "yaxis": "y"
        },
        {
         "line": {
          "color": "rgb(230, 172, 255.0)"
         },
         "marker": {
          "color": "rgb(230, 172, 255.0)",
          "size": 10
         },
         "mode": "lines+markers",
         "type": "scatter",
         "x": [
          0,
          0.0000658018616377376
         ],
         "xaxis": "x",
         "y": [
          0,
          0.00006491809472208843
         ],
         "yaxis": "y"
        },
        {
         "line": {
          "color": "rgb(230, 172, 255.0)"
         },
         "marker": {
          "color": "rgb(230, 172, 255.0)",
          "size": 10
         },
         "mode": "lines+markers",
         "type": "scatter",
         "x": [
          0,
          0.0000658018616377376
         ],
         "xaxis": "x",
         "y": [
          0,
          0.00006491809472208843
         ],
         "yaxis": "y"
        },
        {
         "line": {
          "color": "rgb(230, 172, 255.0)"
         },
         "marker": {
          "color": "rgb(230, 172, 255.0)",
          "size": 10
         },
         "mode": "lines+markers",
         "type": "scatter",
         "x": [
          0,
          0.0000658018616377376
         ],
         "xaxis": "x",
         "y": [
          0,
          0.00006491809472208843
         ],
         "yaxis": "y"
        },
        {
         "line": {
          "color": "rgb(230, 172, 255.0)"
         },
         "marker": {
          "color": "rgb(230, 172, 255.0)",
          "size": 10
         },
         "mode": "lines+markers",
         "type": "scatter",
         "x": [
          0,
          0.0000658018616377376
         ],
         "xaxis": "x",
         "y": [
          0,
          0.00006491809472208843
         ],
         "yaxis": "y"
        },
        {
         "line": {
          "color": "rgb(230, 172, 255.0)"
         },
         "marker": {
          "color": "rgb(230, 172, 255.0)",
          "size": 10
         },
         "mode": "lines+markers",
         "type": "scatter",
         "x": [
          0,
          0.0000658018616377376
         ],
         "xaxis": "x",
         "y": [
          0,
          0.00006491809472208843
         ],
         "yaxis": "y"
        },
        {
         "line": {
          "color": "rgb(230, 172, 255.0)"
         },
         "marker": {
          "color": "rgb(230, 172, 255.0)",
          "size": 10
         },
         "mode": "lines+markers",
         "type": "scatter",
         "x": [
          0,
          0.0000658018616377376
         ],
         "xaxis": "x",
         "y": [
          0,
          0.00006491809472208843
         ],
         "yaxis": "y"
        },
        {
         "line": {
          "color": "rgb(230, 172, 255.0)"
         },
         "marker": {
          "color": "rgb(230, 172, 255.0)",
          "size": 10
         },
         "mode": "lines+markers",
         "type": "scatter",
         "x": [
          0,
          0.0000658018616377376
         ],
         "xaxis": "x",
         "y": [
          0,
          0.00006491809472208843
         ],
         "yaxis": "y"
        },
        {
         "line": {
          "color": "rgb(230, 172, 255.0)"
         },
         "marker": {
          "color": "rgb(230, 172, 255.0)",
          "size": 10
         },
         "mode": "lines+markers",
         "type": "scatter",
         "x": [
          0,
          0.0000658018616377376
         ],
         "xaxis": "x",
         "y": [
          0,
          0.00006491809472208843
         ],
         "yaxis": "y"
        },
        {
         "line": {
          "color": "rgb(230, 172, 255.0)"
         },
         "marker": {
          "color": "rgb(230, 172, 255.0)",
          "size": 10
         },
         "mode": "lines+markers",
         "type": "scatter",
         "x": [
          0,
          0.0000658018616377376
         ],
         "xaxis": "x",
         "y": [
          0,
          0.00006491809472208843
         ],
         "yaxis": "y"
        },
        {
         "line": {
          "color": "rgb(230, 172, 255.0)"
         },
         "marker": {
          "color": "rgb(230, 172, 255.0)",
          "size": 10
         },
         "mode": "lines+markers",
         "type": "scatter",
         "x": [
          0,
          0.0000658018616377376
         ],
         "xaxis": "x",
         "y": [
          0,
          0.00006491809472208843
         ],
         "yaxis": "y"
        },
        {
         "line": {
          "color": "rgb(230, 172, 255.0)"
         },
         "marker": {
          "color": "rgb(230, 172, 255.0)",
          "size": 10
         },
         "mode": "lines+markers",
         "type": "scatter",
         "x": [
          0,
          0.0000658018616377376
         ],
         "xaxis": "x",
         "y": [
          0,
          0.00006491809472208843
         ],
         "yaxis": "y"
        },
        {
         "line": {
          "color": "rgb(230, 172, 255.0)"
         },
         "marker": {
          "color": "rgb(230, 172, 255.0)",
          "size": 10
         },
         "mode": "lines+markers",
         "type": "scatter",
         "x": [
          0,
          0.0000658018616377376
         ],
         "xaxis": "x",
         "y": [
          0,
          0.00006491809472208843
         ],
         "yaxis": "y"
        },
        {
         "line": {
          "color": "rgb(230, 172, 255.0)"
         },
         "marker": {
          "color": "rgb(230, 172, 255.0)",
          "size": 10
         },
         "mode": "lines+markers",
         "type": "scatter",
         "x": [
          0,
          0.0000658018616377376
         ],
         "xaxis": "x",
         "y": [
          0,
          0.00006491809472208843
         ],
         "yaxis": "y"
        },
        {
         "line": {
          "color": "rgb(230, 172, 255.0)"
         },
         "marker": {
          "color": "rgb(230, 172, 255.0)",
          "size": 10
         },
         "mode": "lines+markers",
         "type": "scatter",
         "x": [
          0,
          0.0000658018616377376
         ],
         "xaxis": "x",
         "y": [
          0,
          0.00006491809472208843
         ],
         "yaxis": "y"
        },
        {
         "line": {
          "color": "rgb(230, 172, 255.0)"
         },
         "marker": {
          "color": "rgb(230, 172, 255.0)",
          "size": 10
         },
         "mode": "lines+markers",
         "type": "scatter",
         "x": [
          0,
          0.0000658018616377376
         ],
         "xaxis": "x",
         "y": [
          0,
          0.00006491809472208843
         ],
         "yaxis": "y"
        },
        {
         "line": {
          "color": "rgb(230, 172, 255.0)"
         },
         "marker": {
          "color": "rgb(230, 172, 255.0)",
          "size": 10
         },
         "mode": "lines+markers",
         "type": "scatter",
         "x": [
          0,
          0.0000658018616377376
         ],
         "xaxis": "x",
         "y": [
          0,
          0.00006491809472208843
         ],
         "yaxis": "y"
        },
        {
         "line": {
          "color": "rgb(230, 172, 255.0)"
         },
         "marker": {
          "color": "rgb(230, 172, 255.0)",
          "size": 10
         },
         "mode": "lines+markers",
         "type": "scatter",
         "x": [
          0,
          0.0000658018616377376
         ],
         "xaxis": "x",
         "y": [
          0,
          0.00006491809472208843
         ],
         "yaxis": "y"
        },
        {
         "line": {
          "color": "rgb(230, 172, 255.0)"
         },
         "marker": {
          "color": "rgb(230, 172, 255.0)",
          "size": 10
         },
         "mode": "lines+markers",
         "type": "scatter",
         "x": [
          0,
          0.0000658018616377376
         ],
         "xaxis": "x",
         "y": [
          0,
          0.00006491809472208843
         ],
         "yaxis": "y"
        },
        {
         "line": {
          "color": "rgb(230, 172, 255.0)"
         },
         "marker": {
          "color": "rgb(230, 172, 255.0)",
          "size": 10
         },
         "mode": "lines+markers",
         "type": "scatter",
         "x": [
          0,
          0.0000658018616377376
         ],
         "xaxis": "x",
         "y": [
          0,
          0.00006491809472208843
         ],
         "yaxis": "y"
        },
        {
         "line": {
          "color": "rgb(230, 172, 255.0)"
         },
         "marker": {
          "color": "rgb(230, 172, 255.0)",
          "size": 10
         },
         "mode": "lines+markers",
         "type": "scatter",
         "x": [
          0,
          0.0000658018616377376
         ],
         "xaxis": "x",
         "y": [
          0,
          0.00006491809472208843
         ],
         "yaxis": "y"
        },
        {
         "line": {
          "color": "rgb(230, 172, 255.0)"
         },
         "marker": {
          "color": "rgb(230, 172, 255.0)",
          "size": 10
         },
         "mode": "lines+markers",
         "type": "scatter",
         "x": [
          0,
          0.0000658018616377376
         ],
         "xaxis": "x",
         "y": [
          0,
          0.00006491809472208843
         ],
         "yaxis": "y"
        },
        {
         "line": {
          "color": "rgb(230, 172, 255.0)"
         },
         "marker": {
          "color": "rgb(230, 172, 255.0)",
          "size": 10
         },
         "mode": "lines+markers",
         "type": "scatter",
         "x": [
          0,
          0.0000658018616377376
         ],
         "xaxis": "x",
         "y": [
          0,
          0.00006491809472208843
         ],
         "yaxis": "y"
        },
        {
         "line": {
          "color": "rgb(230, 172, 255.0)"
         },
         "marker": {
          "color": "rgb(230, 172, 255.0)",
          "size": 10
         },
         "mode": "lines+markers",
         "type": "scatter",
         "x": [
          0,
          0.0000658018616377376
         ],
         "xaxis": "x",
         "y": [
          0,
          0.00006491809472208843
         ],
         "yaxis": "y"
        },
        {
         "line": {
          "color": "rgb(230, 172, 255.0)"
         },
         "marker": {
          "color": "rgb(230, 172, 255.0)",
          "size": 10
         },
         "mode": "lines+markers",
         "type": "scatter",
         "x": [
          0,
          0.0000658018616377376
         ],
         "xaxis": "x",
         "y": [
          0,
          0.00006491809472208843
         ],
         "yaxis": "y"
        },
        {
         "line": {
          "color": "rgb(230, 172, 255.0)"
         },
         "marker": {
          "color": "rgb(230, 172, 255.0)",
          "size": 10
         },
         "mode": "lines+markers",
         "type": "scatter",
         "x": [
          0,
          0.0000658018616377376
         ],
         "xaxis": "x",
         "y": [
          0,
          0.00006491809472208843
         ],
         "yaxis": "y"
        },
        {
         "line": {
          "color": "rgb(230, 172, 255.0)"
         },
         "marker": {
          "color": "rgb(230, 172, 255.0)",
          "size": 10
         },
         "mode": "lines+markers",
         "type": "scatter",
         "x": [
          0,
          0.0000658018616377376
         ],
         "xaxis": "x",
         "y": [
          0,
          0.00006491809472208843
         ],
         "yaxis": "y"
        },
        {
         "line": {
          "color": "rgb(230, 172, 255.0)"
         },
         "marker": {
          "color": "rgb(230, 172, 255.0)",
          "size": 10
         },
         "mode": "lines+markers",
         "type": "scatter",
         "x": [
          0,
          0.0000658018616377376
         ],
         "xaxis": "x",
         "y": [
          0,
          0.00006491809472208843
         ],
         "yaxis": "y"
        },
        {
         "line": {
          "color": "rgb(230, 172, 255.0)"
         },
         "marker": {
          "color": "rgb(230, 172, 255.0)",
          "size": 10
         },
         "mode": "lines+markers",
         "type": "scatter",
         "x": [
          0,
          0.0000658018616377376
         ],
         "xaxis": "x",
         "y": [
          0,
          0.00006491809472208843
         ],
         "yaxis": "y"
        },
        {
         "line": {
          "color": "rgb(230, 172, 255.0)"
         },
         "marker": {
          "color": "rgb(230, 172, 255.0)",
          "size": 10
         },
         "mode": "lines+markers",
         "type": "scatter",
         "x": [
          0,
          0.0000658018616377376
         ],
         "xaxis": "x",
         "y": [
          0,
          0.00006491809472208843
         ],
         "yaxis": "y"
        },
        {
         "line": {
          "color": "rgb(230, 172, 255.0)"
         },
         "marker": {
          "color": "rgb(230, 172, 255.0)",
          "size": 10
         },
         "mode": "lines+markers",
         "type": "scatter",
         "x": [
          0,
          0.0000658018616377376
         ],
         "xaxis": "x",
         "y": [
          0,
          0.00006491809472208843
         ],
         "yaxis": "y"
        },
        {
         "line": {
          "color": "rgb(230, 172, 255.0)"
         },
         "marker": {
          "color": "rgb(230, 172, 255.0)",
          "size": 10
         },
         "mode": "lines+markers",
         "type": "scatter",
         "x": [
          0,
          0.0000658018616377376
         ],
         "xaxis": "x",
         "y": [
          0,
          0.00006491809472208843
         ],
         "yaxis": "y"
        },
        {
         "line": {
          "color": "rgb(230, 172, 255.0)"
         },
         "marker": {
          "color": "rgb(230, 172, 255.0)",
          "size": 10
         },
         "mode": "lines+markers",
         "type": "scatter",
         "x": [
          0,
          0.0000658018616377376
         ],
         "xaxis": "x",
         "y": [
          0,
          0.00006491809472208843
         ],
         "yaxis": "y"
        },
        {
         "line": {
          "color": "rgb(230, 172, 255.0)"
         },
         "marker": {
          "color": "rgb(230, 172, 255.0)",
          "size": 10
         },
         "mode": "lines+markers",
         "type": "scatter",
         "x": [
          0,
          0.0000658018616377376
         ],
         "xaxis": "x",
         "y": [
          0,
          0.00006491809472208843
         ],
         "yaxis": "y"
        },
        {
         "line": {
          "color": "rgb(230, 172, 255.0)"
         },
         "marker": {
          "color": "rgb(230, 172, 255.0)",
          "size": 10
         },
         "mode": "lines+markers",
         "type": "scatter",
         "x": [
          0,
          0.0000658018616377376
         ],
         "xaxis": "x",
         "y": [
          0,
          0.00006491809472208843
         ],
         "yaxis": "y"
        },
        {
         "line": {
          "color": "rgb(230, 172, 255.0)"
         },
         "marker": {
          "color": "rgb(230, 172, 255.0)",
          "size": 10
         },
         "mode": "lines+markers",
         "type": "scatter",
         "x": [
          0,
          0.0000658018616377376
         ],
         "xaxis": "x",
         "y": [
          0,
          0.00006491809472208843
         ],
         "yaxis": "y"
        },
        {
         "line": {
          "color": "rgb(230, 172, 255.0)"
         },
         "marker": {
          "color": "rgb(230, 172, 255.0)",
          "size": 10
         },
         "mode": "lines+markers",
         "type": "scatter",
         "x": [
          0,
          0.0000658018616377376
         ],
         "xaxis": "x",
         "y": [
          0,
          0.00006491809472208843
         ],
         "yaxis": "y"
        },
        {
         "line": {
          "color": "rgb(230, 172, 255.0)"
         },
         "marker": {
          "color": "rgb(230, 172, 255.0)",
          "size": 10
         },
         "mode": "lines+markers",
         "type": "scatter",
         "x": [
          0,
          0.0000658018616377376
         ],
         "xaxis": "x",
         "y": [
          0,
          0.00006491809472208843
         ],
         "yaxis": "y"
        },
        {
         "line": {
          "color": "rgb(230, 172, 255.0)"
         },
         "marker": {
          "color": "rgb(230, 172, 255.0)",
          "size": 10
         },
         "mode": "lines+markers",
         "type": "scatter",
         "x": [
          0,
          0.0000658018616377376
         ],
         "xaxis": "x",
         "y": [
          0,
          0.00006491809472208843
         ],
         "yaxis": "y"
        },
        {
         "line": {
          "color": "rgb(230, 172, 255.0)"
         },
         "marker": {
          "color": "rgb(230, 172, 255.0)",
          "size": 10
         },
         "mode": "lines+markers",
         "type": "scatter",
         "x": [
          0,
          0.0000658018616377376
         ],
         "xaxis": "x",
         "y": [
          0,
          0.00006491809472208843
         ],
         "yaxis": "y"
        },
        {
         "line": {
          "color": "rgb(230, 172, 255.0)"
         },
         "marker": {
          "color": "rgb(230, 172, 255.0)",
          "size": 10
         },
         "mode": "lines+markers",
         "type": "scatter",
         "x": [
          0,
          0.0000658018616377376
         ],
         "xaxis": "x",
         "y": [
          0,
          0.00006491809472208843
         ],
         "yaxis": "y"
        },
        {
         "line": {
          "color": "rgb(230, 172, 255.0)"
         },
         "marker": {
          "color": "rgb(230, 172, 255.0)",
          "size": 10
         },
         "mode": "lines+markers",
         "type": "scatter",
         "x": [
          0,
          0.0000658018616377376
         ],
         "xaxis": "x",
         "y": [
          0,
          0.00006491809472208843
         ],
         "yaxis": "y"
        },
        {
         "line": {
          "color": "rgb(230, 172, 255.0)"
         },
         "marker": {
          "color": "rgb(230, 172, 255.0)",
          "size": 10
         },
         "mode": "lines+markers",
         "type": "scatter",
         "x": [
          0,
          0.0000658018616377376
         ],
         "xaxis": "x",
         "y": [
          0,
          0.00006491809472208843
         ],
         "yaxis": "y"
        },
        {
         "line": {
          "color": "rgb(230, 172, 255.0)"
         },
         "marker": {
          "color": "rgb(230, 172, 255.0)",
          "size": 10
         },
         "mode": "lines+markers",
         "type": "scatter",
         "x": [
          0,
          0.0000658018616377376
         ],
         "xaxis": "x",
         "y": [
          0,
          0.00006491809472208843
         ],
         "yaxis": "y"
        },
        {
         "line": {
          "color": "rgb(230, 172, 255.0)"
         },
         "marker": {
          "color": "rgb(230, 172, 255.0)",
          "size": 10
         },
         "mode": "lines+markers",
         "type": "scatter",
         "x": [
          0,
          0.0000658018616377376
         ],
         "xaxis": "x",
         "y": [
          0,
          0.00006491809472208843
         ],
         "yaxis": "y"
        },
        {
         "line": {
          "color": "rgb(230, 172, 255.0)"
         },
         "marker": {
          "color": "rgb(230, 172, 255.0)",
          "size": 10
         },
         "mode": "lines+markers",
         "type": "scatter",
         "x": [
          0,
          0.0000658018616377376
         ],
         "xaxis": "x",
         "y": [
          0,
          0.00006491809472208843
         ],
         "yaxis": "y"
        },
        {
         "line": {
          "color": "rgb(230, 172, 255.0)"
         },
         "marker": {
          "color": "rgb(230, 172, 255.0)",
          "size": 10
         },
         "mode": "lines+markers",
         "type": "scatter",
         "x": [
          0,
          0.0000658018616377376
         ],
         "xaxis": "x",
         "y": [
          0,
          0.00006491809472208843
         ],
         "yaxis": "y"
        },
        {
         "line": {
          "color": "rgb(230, 172, 255.0)"
         },
         "marker": {
          "color": "rgb(230, 172, 255.0)",
          "size": 10
         },
         "mode": "lines+markers",
         "type": "scatter",
         "x": [
          0,
          0.0000658018616377376
         ],
         "xaxis": "x",
         "y": [
          0,
          0.00006491809472208843
         ],
         "yaxis": "y"
        },
        {
         "line": {
          "color": "rgb(230, 172, 255.0)"
         },
         "marker": {
          "color": "rgb(230, 172, 255.0)",
          "size": 10
         },
         "mode": "lines+markers",
         "type": "scatter",
         "x": [
          0,
          0.0000658018616377376
         ],
         "xaxis": "x",
         "y": [
          0,
          0.00006491809472208843
         ],
         "yaxis": "y"
        },
        {
         "line": {
          "color": "rgb(230, 172, 255.0)"
         },
         "marker": {
          "color": "rgb(230, 172, 255.0)",
          "size": 10
         },
         "mode": "lines+markers",
         "type": "scatter",
         "x": [
          0,
          0.0000658018616377376
         ],
         "xaxis": "x",
         "y": [
          0,
          0.00006491809472208843
         ],
         "yaxis": "y"
        },
        {
         "line": {
          "color": "rgb(230, 172, 255.0)"
         },
         "marker": {
          "color": "rgb(230, 172, 255.0)",
          "size": 10
         },
         "mode": "lines+markers",
         "type": "scatter",
         "x": [
          0,
          0.0000658018616377376
         ],
         "xaxis": "x",
         "y": [
          0,
          0.00006491809472208843
         ],
         "yaxis": "y"
        },
        {
         "line": {
          "color": "rgb(230, 172, 255.0)"
         },
         "marker": {
          "color": "rgb(230, 172, 255.0)",
          "size": 10
         },
         "mode": "lines+markers",
         "type": "scatter",
         "x": [
          0,
          0.0000658018616377376
         ],
         "xaxis": "x",
         "y": [
          0,
          0.00006491809472208843
         ],
         "yaxis": "y"
        },
        {
         "line": {
          "color": "rgb(230, 172, 255.0)"
         },
         "marker": {
          "color": "rgb(230, 172, 255.0)",
          "size": 10
         },
         "mode": "lines+markers",
         "type": "scatter",
         "x": [
          0,
          0.0000658018616377376
         ],
         "xaxis": "x",
         "y": [
          0,
          0.00006491809472208843
         ],
         "yaxis": "y"
        },
        {
         "line": {
          "color": "rgb(230, 172, 255.0)"
         },
         "marker": {
          "color": "rgb(230, 172, 255.0)",
          "size": 10
         },
         "mode": "lines+markers",
         "type": "scatter",
         "x": [
          0,
          0.0000658018616377376
         ],
         "xaxis": "x",
         "y": [
          0,
          0.00006491809472208843
         ],
         "yaxis": "y"
        },
        {
         "line": {
          "color": "rgb(230, 172, 255.0)"
         },
         "marker": {
          "color": "rgb(230, 172, 255.0)",
          "size": 10
         },
         "mode": "lines+markers",
         "type": "scatter",
         "x": [
          0,
          0.0000658018616377376
         ],
         "xaxis": "x",
         "y": [
          0,
          0.00006491809472208843
         ],
         "yaxis": "y"
        },
        {
         "line": {
          "color": "rgb(230, 172, 255.0)"
         },
         "marker": {
          "color": "rgb(230, 172, 255.0)",
          "size": 10
         },
         "mode": "lines+markers",
         "type": "scatter",
         "x": [
          0,
          0.0000658018616377376
         ],
         "xaxis": "x",
         "y": [
          0,
          0.00006491809472208843
         ],
         "yaxis": "y"
        },
        {
         "line": {
          "color": "rgb(230, 172, 255.0)"
         },
         "marker": {
          "color": "rgb(230, 172, 255.0)",
          "size": 10
         },
         "mode": "lines+markers",
         "type": "scatter",
         "x": [
          0,
          0.0000658018616377376
         ],
         "xaxis": "x",
         "y": [
          0,
          0.00006491809472208843
         ],
         "yaxis": "y"
        },
        {
         "line": {
          "color": "rgb(230, 172, 255.0)"
         },
         "marker": {
          "color": "rgb(230, 172, 255.0)",
          "size": 10
         },
         "mode": "lines+markers",
         "type": "scatter",
         "x": [
          0,
          0.0000658018616377376
         ],
         "xaxis": "x",
         "y": [
          0,
          0.00006491809472208843
         ],
         "yaxis": "y"
        },
        {
         "line": {
          "color": "rgb(230, 172, 255.0)"
         },
         "marker": {
          "color": "rgb(230, 172, 255.0)",
          "size": 10
         },
         "mode": "lines+markers",
         "type": "scatter",
         "x": [
          0,
          0.0000658018616377376
         ],
         "xaxis": "x",
         "y": [
          0,
          0.00006491809472208843
         ],
         "yaxis": "y"
        },
        {
         "line": {
          "color": "rgb(230, 172, 255.0)"
         },
         "marker": {
          "color": "rgb(230, 172, 255.0)",
          "size": 10
         },
         "mode": "lines+markers",
         "type": "scatter",
         "x": [
          0,
          0.0000658018616377376
         ],
         "xaxis": "x",
         "y": [
          0,
          0.00006491809472208843
         ],
         "yaxis": "y"
        },
        {
         "line": {
          "color": "rgb(230, 172, 255.0)"
         },
         "marker": {
          "color": "rgb(230, 172, 255.0)",
          "size": 10
         },
         "mode": "lines+markers",
         "type": "scatter",
         "x": [
          0,
          0.0000658018616377376
         ],
         "xaxis": "x",
         "y": [
          0,
          0.00006491809472208843
         ],
         "yaxis": "y"
        },
        {
         "line": {
          "color": "rgb(230, 172, 255.0)"
         },
         "marker": {
          "color": "rgb(230, 172, 255.0)",
          "size": 10
         },
         "mode": "lines+markers",
         "type": "scatter",
         "x": [
          0,
          0.0000658018616377376
         ],
         "xaxis": "x",
         "y": [
          0,
          0.00006491809472208843
         ],
         "yaxis": "y"
        },
        {
         "line": {
          "color": "rgb(230, 172, 255.0)"
         },
         "marker": {
          "color": "rgb(230, 172, 255.0)",
          "size": 10
         },
         "mode": "lines+markers",
         "type": "scatter",
         "x": [
          0,
          0.0000658018616377376
         ],
         "xaxis": "x",
         "y": [
          0,
          0.00006491809472208843
         ],
         "yaxis": "y"
        },
        {
         "line": {
          "color": "rgb(230, 172, 255.0)"
         },
         "marker": {
          "color": "rgb(230, 172, 255.0)",
          "size": 10
         },
         "mode": "lines+markers",
         "type": "scatter",
         "x": [
          0,
          0.0000658018616377376
         ],
         "xaxis": "x",
         "y": [
          0,
          0.00006491809472208843
         ],
         "yaxis": "y"
        },
        {
         "line": {
          "color": "rgb(230, 172, 255.0)"
         },
         "marker": {
          "color": "rgb(230, 172, 255.0)",
          "size": 10
         },
         "mode": "lines+markers",
         "type": "scatter",
         "x": [
          0,
          0.0000658018616377376
         ],
         "xaxis": "x",
         "y": [
          0,
          0.00006491809472208843
         ],
         "yaxis": "y"
        },
        {
         "line": {
          "color": "rgb(230, 172, 255.0)"
         },
         "marker": {
          "color": "rgb(230, 172, 255.0)",
          "size": 10
         },
         "mode": "lines+markers",
         "type": "scatter",
         "x": [
          0,
          0.0000658018616377376
         ],
         "xaxis": "x",
         "y": [
          0,
          0.00006491809472208843
         ],
         "yaxis": "y"
        },
        {
         "line": {
          "color": "rgb(230, 172, 255.0)"
         },
         "marker": {
          "color": "rgb(230, 172, 255.0)",
          "size": 10
         },
         "mode": "lines+markers",
         "type": "scatter",
         "x": [
          0,
          0.0000658018616377376
         ],
         "xaxis": "x",
         "y": [
          0,
          0.00006491809472208843
         ],
         "yaxis": "y"
        },
        {
         "line": {
          "color": "rgb(230, 172, 255.0)"
         },
         "marker": {
          "color": "rgb(230, 172, 255.0)",
          "size": 10
         },
         "mode": "lines+markers",
         "type": "scatter",
         "x": [
          0,
          0.0000658018616377376
         ],
         "xaxis": "x",
         "y": [
          0,
          0.00006491809472208843
         ],
         "yaxis": "y"
        },
        {
         "line": {
          "color": "rgb(230, 172, 255.0)"
         },
         "marker": {
          "color": "rgb(230, 172, 255.0)",
          "size": 10
         },
         "mode": "lines+markers",
         "type": "scatter",
         "x": [
          0,
          0.0000658018616377376
         ],
         "xaxis": "x",
         "y": [
          0,
          0.00006491809472208843
         ],
         "yaxis": "y"
        },
        {
         "line": {
          "color": "rgb(230, 172, 255.0)"
         },
         "marker": {
          "color": "rgb(230, 172, 255.0)",
          "size": 10
         },
         "mode": "lines+markers",
         "type": "scatter",
         "x": [
          0,
          0.0000658018616377376
         ],
         "xaxis": "x",
         "y": [
          0,
          0.00006491809472208843
         ],
         "yaxis": "y"
        },
        {
         "line": {
          "color": "rgb(230, 172, 255.0)"
         },
         "marker": {
          "color": "rgb(230, 172, 255.0)",
          "size": 10
         },
         "mode": "lines+markers",
         "type": "scatter",
         "x": [
          0,
          0.0000658018616377376
         ],
         "xaxis": "x",
         "y": [
          0,
          0.00006491809472208843
         ],
         "yaxis": "y"
        },
        {
         "line": {
          "color": "rgb(230, 172, 255.0)"
         },
         "marker": {
          "color": "rgb(230, 172, 255.0)",
          "size": 10
         },
         "mode": "lines+markers",
         "type": "scatter",
         "x": [
          0,
          0.0000658018616377376
         ],
         "xaxis": "x",
         "y": [
          0,
          0.00006491809472208843
         ],
         "yaxis": "y"
        },
        {
         "line": {
          "color": "rgb(230, 172, 255.0)"
         },
         "marker": {
          "color": "rgb(230, 172, 255.0)",
          "size": 10
         },
         "mode": "lines+markers",
         "type": "scatter",
         "x": [
          0,
          0.0000658018616377376
         ],
         "xaxis": "x",
         "y": [
          0,
          0.00006491809472208843
         ],
         "yaxis": "y"
        },
        {
         "line": {
          "color": "rgb(230, 172, 255.0)"
         },
         "marker": {
          "color": "rgb(230, 172, 255.0)",
          "size": 10
         },
         "mode": "lines+markers",
         "type": "scatter",
         "x": [
          0,
          0.0000658018616377376
         ],
         "xaxis": "x",
         "y": [
          0,
          0.00006491809472208843
         ],
         "yaxis": "y"
        },
        {
         "line": {
          "color": "rgb(230, 172, 255.0)"
         },
         "marker": {
          "color": "rgb(230, 172, 255.0)",
          "size": 10
         },
         "mode": "lines+markers",
         "type": "scatter",
         "x": [
          0,
          0.0000658018616377376
         ],
         "xaxis": "x",
         "y": [
          0,
          0.00006491809472208843
         ],
         "yaxis": "y"
        },
        {
         "line": {
          "color": "rgb(230, 172, 255.0)"
         },
         "marker": {
          "color": "rgb(230, 172, 255.0)",
          "size": 10
         },
         "mode": "lines+markers",
         "type": "scatter",
         "x": [
          0,
          0.0000658018616377376
         ],
         "xaxis": "x",
         "y": [
          0,
          0.00006491809472208843
         ],
         "yaxis": "y"
        },
        {
         "line": {
          "color": "rgb(230, 172, 255.0)"
         },
         "marker": {
          "color": "rgb(230, 172, 255.0)",
          "size": 10
         },
         "mode": "lines+markers",
         "type": "scatter",
         "x": [
          0,
          0.0000658018616377376
         ],
         "xaxis": "x",
         "y": [
          0,
          0.00006491809472208843
         ],
         "yaxis": "y"
        },
        {
         "line": {
          "color": "rgb(230, 172, 255.0)"
         },
         "marker": {
          "color": "rgb(230, 172, 255.0)",
          "size": 10
         },
         "mode": "lines+markers",
         "type": "scatter",
         "x": [
          0,
          0.0000658018616377376
         ],
         "xaxis": "x",
         "y": [
          0,
          0.00006491809472208843
         ],
         "yaxis": "y"
        },
        {
         "line": {
          "color": "rgb(230, 172, 255.0)"
         },
         "marker": {
          "color": "rgb(230, 172, 255.0)",
          "size": 10
         },
         "mode": "lines+markers",
         "type": "scatter",
         "x": [
          0,
          0.0000658018616377376
         ],
         "xaxis": "x",
         "y": [
          0,
          0.00006491809472208843
         ],
         "yaxis": "y"
        },
        {
         "line": {
          "color": "rgb(230, 172, 255.0)"
         },
         "marker": {
          "color": "rgb(230, 172, 255.0)",
          "size": 10
         },
         "mode": "lines+markers",
         "type": "scatter",
         "x": [
          0,
          0.0000658018616377376
         ],
         "xaxis": "x",
         "y": [
          0,
          0.00006491809472208843
         ],
         "yaxis": "y"
        },
        {
         "line": {
          "color": "rgb(230, 172, 255.0)"
         },
         "marker": {
          "color": "rgb(230, 172, 255.0)",
          "size": 10
         },
         "mode": "lines+markers",
         "type": "scatter",
         "x": [
          0,
          0.0000658018616377376
         ],
         "xaxis": "x",
         "y": [
          0,
          0.00006491809472208843
         ],
         "yaxis": "y"
        },
        {
         "line": {
          "color": "rgb(230, 172, 255.0)"
         },
         "marker": {
          "color": "rgb(230, 172, 255.0)",
          "size": 10
         },
         "mode": "lines+markers",
         "type": "scatter",
         "x": [
          0,
          0.0000658018616377376
         ],
         "xaxis": "x",
         "y": [
          0,
          0.00006491809472208843
         ],
         "yaxis": "y"
        },
        {
         "line": {
          "color": "rgb(230, 172, 255.0)"
         },
         "marker": {
          "color": "rgb(230, 172, 255.0)",
          "size": 10
         },
         "mode": "lines+markers",
         "type": "scatter",
         "x": [
          0,
          0.0000658018616377376
         ],
         "xaxis": "x",
         "y": [
          0,
          0.00006491809472208843
         ],
         "yaxis": "y"
        },
        {
         "line": {
          "color": "rgb(230, 172, 255.0)"
         },
         "marker": {
          "color": "rgb(230, 172, 255.0)",
          "size": 10
         },
         "mode": "lines+markers",
         "type": "scatter",
         "x": [
          0,
          0.0000658018616377376
         ],
         "xaxis": "x",
         "y": [
          0,
          0.00006491809472208843
         ],
         "yaxis": "y"
        },
        {
         "line": {
          "color": "rgb(230, 172, 255.0)"
         },
         "marker": {
          "color": "rgb(230, 172, 255.0)",
          "size": 10
         },
         "mode": "lines+markers",
         "type": "scatter",
         "x": [
          0,
          0.0000658018616377376
         ],
         "xaxis": "x",
         "y": [
          0,
          0.00006491809472208843
         ],
         "yaxis": "y"
        },
        {
         "line": {
          "color": "rgb(230, 172, 255.0)"
         },
         "marker": {
          "color": "rgb(230, 172, 255.0)",
          "size": 10
         },
         "mode": "lines+markers",
         "type": "scatter",
         "x": [
          0,
          0.0000658018616377376
         ],
         "xaxis": "x",
         "y": [
          0,
          0.00006491809472208843
         ],
         "yaxis": "y"
        },
        {
         "line": {
          "color": "rgb(230, 172, 255.0)"
         },
         "marker": {
          "color": "rgb(230, 172, 255.0)",
          "size": 10
         },
         "mode": "lines+markers",
         "type": "scatter",
         "x": [
          0,
          0.0000658018616377376
         ],
         "xaxis": "x",
         "y": [
          0,
          0.00006491809472208843
         ],
         "yaxis": "y"
        },
        {
         "line": {
          "color": "rgb(230, 172, 255.0)"
         },
         "marker": {
          "color": "rgb(230, 172, 255.0)",
          "size": 10
         },
         "mode": "lines+markers",
         "type": "scatter",
         "x": [
          0,
          0.0000658018616377376
         ],
         "xaxis": "x",
         "y": [
          0,
          0.00006491809472208843
         ],
         "yaxis": "y"
        },
        {
         "line": {
          "color": "rgb(230, 172, 255.0)"
         },
         "marker": {
          "color": "rgb(230, 172, 255.0)",
          "size": 10
         },
         "mode": "lines+markers",
         "type": "scatter",
         "x": [
          0,
          0.0000658018616377376
         ],
         "xaxis": "x",
         "y": [
          0,
          0.00006491809472208843
         ],
         "yaxis": "y"
        },
        {
         "line": {
          "color": "rgb(230, 172, 255.0)"
         },
         "marker": {
          "color": "rgb(230, 172, 255.0)",
          "size": 10
         },
         "mode": "lines+markers",
         "type": "scatter",
         "x": [
          0,
          0.0000658018616377376
         ],
         "xaxis": "x",
         "y": [
          0,
          0.00006491809472208843
         ],
         "yaxis": "y"
        },
        {
         "line": {
          "color": "rgb(230, 172, 255.0)"
         },
         "marker": {
          "color": "rgb(230, 172, 255.0)",
          "size": 10
         },
         "mode": "lines+markers",
         "type": "scatter",
         "x": [
          0,
          0.0000658018616377376
         ],
         "xaxis": "x",
         "y": [
          0,
          0.00006491809472208843
         ],
         "yaxis": "y"
        },
        {
         "line": {
          "color": "rgb(230, 172, 255.0)"
         },
         "marker": {
          "color": "rgb(230, 172, 255.0)",
          "size": 10
         },
         "mode": "lines+markers",
         "type": "scatter",
         "x": [
          0,
          0.0000658018616377376
         ],
         "xaxis": "x",
         "y": [
          0,
          0.00006491809472208843
         ],
         "yaxis": "y"
        },
        {
         "line": {
          "color": "rgb(230, 172, 255.0)"
         },
         "marker": {
          "color": "rgb(230, 172, 255.0)",
          "size": 10
         },
         "mode": "lines+markers",
         "type": "scatter",
         "x": [
          0,
          0.0000658018616377376
         ],
         "xaxis": "x",
         "y": [
          0,
          0.00006491809472208843
         ],
         "yaxis": "y"
        },
        {
         "line": {
          "color": "rgb(230, 172, 255.0)"
         },
         "marker": {
          "color": "rgb(230, 172, 255.0)",
          "size": 10
         },
         "mode": "lines+markers",
         "type": "scatter",
         "x": [
          0,
          0.0000658018616377376
         ],
         "xaxis": "x",
         "y": [
          0,
          0.00006491809472208843
         ],
         "yaxis": "y"
        },
        {
         "line": {
          "color": "rgb(230, 172, 255.0)"
         },
         "marker": {
          "color": "rgb(230, 172, 255.0)",
          "size": 10
         },
         "mode": "lines+markers",
         "type": "scatter",
         "x": [
          0,
          0.0000658018616377376
         ],
         "xaxis": "x",
         "y": [
          0,
          0.00006491809472208843
         ],
         "yaxis": "y"
        },
        {
         "line": {
          "color": "rgb(230, 172, 255.0)"
         },
         "marker": {
          "color": "rgb(230, 172, 255.0)",
          "size": 10
         },
         "mode": "lines+markers",
         "type": "scatter",
         "x": [
          0,
          0.0000658018616377376
         ],
         "xaxis": "x",
         "y": [
          0,
          0.00006491809472208843
         ],
         "yaxis": "y"
        },
        {
         "line": {
          "color": "rgb(230, 172, 255.0)"
         },
         "marker": {
          "color": "rgb(230, 172, 255.0)",
          "size": 10
         },
         "mode": "lines+markers",
         "type": "scatter",
         "x": [
          0,
          0.0000658018616377376
         ],
         "xaxis": "x",
         "y": [
          0,
          0.00006491809472208843
         ],
         "yaxis": "y"
        },
        {
         "line": {
          "color": "rgb(230, 172, 255.0)"
         },
         "marker": {
          "color": "rgb(230, 172, 255.0)",
          "size": 10
         },
         "mode": "lines+markers",
         "type": "scatter",
         "x": [
          0,
          0.0000658018616377376
         ],
         "xaxis": "x",
         "y": [
          0,
          0.00006491809472208843
         ],
         "yaxis": "y"
        },
        {
         "line": {
          "color": "rgb(230, 172, 255.0)"
         },
         "marker": {
          "color": "rgb(230, 172, 255.0)",
          "size": 10
         },
         "mode": "lines+markers",
         "type": "scatter",
         "x": [
          0,
          0.0000658018616377376
         ],
         "xaxis": "x",
         "y": [
          0,
          0.00006491809472208843
         ],
         "yaxis": "y"
        },
        {
         "line": {
          "color": "rgb(230, 172, 255.0)"
         },
         "marker": {
          "color": "rgb(230, 172, 255.0)",
          "size": 10
         },
         "mode": "lines+markers",
         "type": "scatter",
         "x": [
          0,
          0.0000658018616377376
         ],
         "xaxis": "x",
         "y": [
          0,
          0.00006491809472208843
         ],
         "yaxis": "y"
        },
        {
         "line": {
          "color": "rgb(230, 172, 255.0)"
         },
         "marker": {
          "color": "rgb(230, 172, 255.0)",
          "size": 10
         },
         "mode": "lines+markers",
         "type": "scatter",
         "x": [
          0,
          0.0000658018616377376
         ],
         "xaxis": "x",
         "y": [
          0,
          0.00006491809472208843
         ],
         "yaxis": "y"
        },
        {
         "line": {
          "color": "rgb(230, 172, 255.0)"
         },
         "marker": {
          "color": "rgb(230, 172, 255.0)",
          "size": 10
         },
         "mode": "lines+markers",
         "type": "scatter",
         "x": [
          0,
          0.0000658018616377376
         ],
         "xaxis": "x",
         "y": [
          0,
          0.00006491809472208843
         ],
         "yaxis": "y"
        },
        {
         "line": {
          "color": "rgb(230, 172, 255.0)"
         },
         "marker": {
          "color": "rgb(230, 172, 255.0)",
          "size": 10
         },
         "mode": "lines+markers",
         "type": "scatter",
         "x": [
          0,
          0.0000658018616377376
         ],
         "xaxis": "x",
         "y": [
          0,
          0.00006491809472208843
         ],
         "yaxis": "y"
        },
        {
         "line": {
          "color": "rgb(230, 172, 255.0)"
         },
         "marker": {
          "color": "rgb(230, 172, 255.0)",
          "size": 10
         },
         "mode": "lines+markers",
         "type": "scatter",
         "x": [
          0,
          0.0000658018616377376
         ],
         "xaxis": "x",
         "y": [
          0,
          0.00006491809472208843
         ],
         "yaxis": "y"
        },
        {
         "line": {
          "color": "rgb(230, 172, 255.0)"
         },
         "marker": {
          "color": "rgb(230, 172, 255.0)",
          "size": 10
         },
         "mode": "lines+markers",
         "type": "scatter",
         "x": [
          0,
          0.0000658018616377376
         ],
         "xaxis": "x",
         "y": [
          0,
          0.00006491809472208843
         ],
         "yaxis": "y"
        },
        {
         "line": {
          "color": "rgb(230, 172, 255.0)"
         },
         "marker": {
          "color": "rgb(230, 172, 255.0)",
          "size": 10
         },
         "mode": "lines+markers",
         "type": "scatter",
         "x": [
          0,
          0.0000658018616377376
         ],
         "xaxis": "x",
         "y": [
          0,
          0.00006491809472208843
         ],
         "yaxis": "y"
        },
        {
         "line": {
          "color": "rgb(230, 172, 255.0)"
         },
         "marker": {
          "color": "rgb(230, 172, 255.0)",
          "size": 10
         },
         "mode": "lines+markers",
         "type": "scatter",
         "x": [
          0,
          0.0000658018616377376
         ],
         "xaxis": "x",
         "y": [
          0,
          0.00006491809472208843
         ],
         "yaxis": "y"
        },
        {
         "line": {
          "color": "rgb(230, 172, 255.0)"
         },
         "marker": {
          "color": "rgb(230, 172, 255.0)",
          "size": 10
         },
         "mode": "lines+markers",
         "type": "scatter",
         "x": [
          0,
          0.0000658018616377376
         ],
         "xaxis": "x",
         "y": [
          0,
          0.00006491809472208843
         ],
         "yaxis": "y"
        },
        {
         "line": {
          "color": "rgb(230, 172, 255.0)"
         },
         "marker": {
          "color": "rgb(230, 172, 255.0)",
          "size": 10
         },
         "mode": "lines+markers",
         "type": "scatter",
         "x": [
          0,
          0.0000658018616377376
         ],
         "xaxis": "x",
         "y": [
          0,
          0.00006491809472208843
         ],
         "yaxis": "y"
        },
        {
         "line": {
          "color": "rgb(230, 172, 255.0)"
         },
         "marker": {
          "color": "rgb(230, 172, 255.0)",
          "size": 10
         },
         "mode": "lines+markers",
         "type": "scatter",
         "x": [
          0,
          0.0000658018616377376
         ],
         "xaxis": "x",
         "y": [
          0,
          0.00006491809472208843
         ],
         "yaxis": "y"
        },
        {
         "line": {
          "color": "rgb(230, 172, 255.0)"
         },
         "marker": {
          "color": "rgb(230, 172, 255.0)",
          "size": 10
         },
         "mode": "lines+markers",
         "type": "scatter",
         "x": [
          0,
          0.0000658018616377376
         ],
         "xaxis": "x",
         "y": [
          0,
          0.00006491809472208843
         ],
         "yaxis": "y"
        },
        {
         "line": {
          "color": "rgb(230, 172, 255.0)"
         },
         "marker": {
          "color": "rgb(230, 172, 255.0)",
          "size": 10
         },
         "mode": "lines+markers",
         "type": "scatter",
         "x": [
          0,
          0.0000658018616377376
         ],
         "xaxis": "x",
         "y": [
          0,
          0.00006491809472208843
         ],
         "yaxis": "y"
        },
        {
         "line": {
          "color": "rgb(230, 172, 255.0)"
         },
         "marker": {
          "color": "rgb(230, 172, 255.0)",
          "size": 10
         },
         "mode": "lines+markers",
         "type": "scatter",
         "x": [
          0,
          0.0000658018616377376
         ],
         "xaxis": "x",
         "y": [
          0,
          0.00006491809472208843
         ],
         "yaxis": "y"
        },
        {
         "line": {
          "color": "rgb(230, 172, 255.0)"
         },
         "marker": {
          "color": "rgb(230, 172, 255.0)",
          "size": 10
         },
         "mode": "lines+markers",
         "type": "scatter",
         "x": [
          0,
          0.0000658018616377376
         ],
         "xaxis": "x",
         "y": [
          0,
          0.00006491809472208843
         ],
         "yaxis": "y"
        },
        {
         "line": {
          "color": "rgb(230, 172, 255.0)"
         },
         "marker": {
          "color": "rgb(230, 172, 255.0)",
          "size": 10
         },
         "mode": "lines+markers",
         "type": "scatter",
         "x": [
          0,
          0.0000658018616377376
         ],
         "xaxis": "x",
         "y": [
          0,
          0.00006491809472208843
         ],
         "yaxis": "y"
        },
        {
         "line": {
          "color": "rgb(230, 172, 255.0)"
         },
         "marker": {
          "color": "rgb(230, 172, 255.0)",
          "size": 10
         },
         "mode": "lines+markers",
         "type": "scatter",
         "x": [
          0,
          0.0000658018616377376
         ],
         "xaxis": "x",
         "y": [
          0,
          0.00006491809472208843
         ],
         "yaxis": "y"
        },
        {
         "line": {
          "color": "rgb(230, 172, 255.0)"
         },
         "marker": {
          "color": "rgb(230, 172, 255.0)",
          "size": 10
         },
         "mode": "lines+markers",
         "type": "scatter",
         "x": [
          0,
          0.0000658018616377376
         ],
         "xaxis": "x",
         "y": [
          0,
          0.00006491809472208843
         ],
         "yaxis": "y"
        },
        {
         "line": {
          "color": "rgb(230, 172, 255.0)"
         },
         "marker": {
          "color": "rgb(230, 172, 255.0)",
          "size": 10
         },
         "mode": "lines+markers",
         "type": "scatter",
         "x": [
          0,
          0.0000658018616377376
         ],
         "xaxis": "x",
         "y": [
          0,
          0.00006491809472208843
         ],
         "yaxis": "y"
        },
        {
         "line": {
          "color": "rgb(230, 172, 255.0)"
         },
         "marker": {
          "color": "rgb(230, 172, 255.0)",
          "size": 10
         },
         "mode": "lines+markers",
         "type": "scatter",
         "x": [
          0,
          0.0000658018616377376
         ],
         "xaxis": "x",
         "y": [
          0,
          0.00006491809472208843
         ],
         "yaxis": "y"
        },
        {
         "line": {
          "color": "rgb(230, 172, 255.0)"
         },
         "marker": {
          "color": "rgb(230, 172, 255.0)",
          "size": 10
         },
         "mode": "lines+markers",
         "type": "scatter",
         "x": [
          0,
          0.0000658018616377376
         ],
         "xaxis": "x",
         "y": [
          0,
          0.00006491809472208843
         ],
         "yaxis": "y"
        },
        {
         "line": {
          "color": "rgb(230, 172, 255.0)"
         },
         "marker": {
          "color": "rgb(230, 172, 255.0)",
          "size": 10
         },
         "mode": "lines+markers",
         "type": "scatter",
         "x": [
          0,
          0.0000658018616377376
         ],
         "xaxis": "x",
         "y": [
          0,
          0.00006491809472208843
         ],
         "yaxis": "y"
        },
        {
         "line": {
          "color": "rgb(230, 172, 255.0)"
         },
         "marker": {
          "color": "rgb(230, 172, 255.0)",
          "size": 10
         },
         "mode": "lines+markers",
         "type": "scatter",
         "x": [
          0,
          0.0000658018616377376
         ],
         "xaxis": "x",
         "y": [
          0,
          0.00006491809472208843
         ],
         "yaxis": "y"
        },
        {
         "line": {
          "color": "rgb(230, 172, 255.0)"
         },
         "marker": {
          "color": "rgb(230, 172, 255.0)",
          "size": 10
         },
         "mode": "lines+markers",
         "type": "scatter",
         "x": [
          0,
          0.0000658018616377376
         ],
         "xaxis": "x",
         "y": [
          0,
          0.00006491809472208843
         ],
         "yaxis": "y"
        },
        {
         "line": {
          "color": "rgb(230, 172, 255.0)"
         },
         "marker": {
          "color": "rgb(230, 172, 255.0)",
          "size": 10
         },
         "mode": "lines+markers",
         "type": "scatter",
         "x": [
          0,
          0.0000658018616377376
         ],
         "xaxis": "x",
         "y": [
          0,
          0.00006491809472208843
         ],
         "yaxis": "y"
        },
        {
         "line": {
          "color": "rgb(230, 172, 255.0)"
         },
         "marker": {
          "color": "rgb(230, 172, 255.0)",
          "size": 10
         },
         "mode": "lines+markers",
         "type": "scatter",
         "x": [
          0,
          0.0000658018616377376
         ],
         "xaxis": "x",
         "y": [
          0,
          0.00006491809472208843
         ],
         "yaxis": "y"
        },
        {
         "line": {
          "color": "rgb(230, 172, 255.0)"
         },
         "marker": {
          "color": "rgb(230, 172, 255.0)",
          "size": 10
         },
         "mode": "lines+markers",
         "type": "scatter",
         "x": [
          0,
          0.0000658018616377376
         ],
         "xaxis": "x",
         "y": [
          0,
          0.00006491809472208843
         ],
         "yaxis": "y"
        },
        {
         "line": {
          "color": "rgb(230, 172, 255.0)"
         },
         "marker": {
          "color": "rgb(230, 172, 255.0)",
          "size": 10
         },
         "mode": "lines+markers",
         "type": "scatter",
         "x": [
          0,
          0.0000658018616377376
         ],
         "xaxis": "x",
         "y": [
          0,
          0.00006491809472208843
         ],
         "yaxis": "y"
        },
        {
         "line": {
          "color": "rgb(230, 172, 255.0)"
         },
         "marker": {
          "color": "rgb(230, 172, 255.0)",
          "size": 10
         },
         "mode": "lines+markers",
         "type": "scatter",
         "x": [
          0,
          0.0000658018616377376
         ],
         "xaxis": "x",
         "y": [
          0,
          0.00006491809472208843
         ],
         "yaxis": "y"
        },
        {
         "line": {
          "color": "rgb(230, 172, 255.0)"
         },
         "marker": {
          "color": "rgb(230, 172, 255.0)",
          "size": 10
         },
         "mode": "lines+markers",
         "type": "scatter",
         "x": [
          0,
          0.0000658018616377376
         ],
         "xaxis": "x",
         "y": [
          0,
          0.00006491809472208843
         ],
         "yaxis": "y"
        },
        {
         "line": {
          "color": "rgb(230, 172, 255.0)"
         },
         "marker": {
          "color": "rgb(230, 172, 255.0)",
          "size": 10
         },
         "mode": "lines+markers",
         "type": "scatter",
         "x": [
          0,
          0.0000658018616377376
         ],
         "xaxis": "x",
         "y": [
          0,
          0.00006491809472208843
         ],
         "yaxis": "y"
        },
        {
         "line": {
          "color": "rgb(230, 172, 255.0)"
         },
         "marker": {
          "color": "rgb(230, 172, 255.0)",
          "size": 10
         },
         "mode": "lines+markers",
         "type": "scatter",
         "x": [
          0,
          0.0000658018616377376
         ],
         "xaxis": "x",
         "y": [
          0,
          0.00006491809472208843
         ],
         "yaxis": "y"
        },
        {
         "line": {
          "color": "rgb(230, 172, 255.0)"
         },
         "marker": {
          "color": "rgb(230, 172, 255.0)",
          "size": 10
         },
         "mode": "lines+markers",
         "type": "scatter",
         "x": [
          0,
          0.0000658018616377376
         ],
         "xaxis": "x",
         "y": [
          0,
          0.00006491809472208843
         ],
         "yaxis": "y"
        },
        {
         "line": {
          "color": "rgb(230, 172, 255.0)"
         },
         "marker": {
          "color": "rgb(230, 172, 255.0)",
          "size": 10
         },
         "mode": "lines+markers",
         "type": "scatter",
         "x": [
          0,
          0.0000658018616377376
         ],
         "xaxis": "x",
         "y": [
          0,
          0.00006491809472208843
         ],
         "yaxis": "y"
        },
        {
         "line": {
          "color": "rgb(230, 172, 255.0)"
         },
         "marker": {
          "color": "rgb(230, 172, 255.0)",
          "size": 10
         },
         "mode": "lines+markers",
         "type": "scatter",
         "x": [
          0,
          0.0000658018616377376
         ],
         "xaxis": "x",
         "y": [
          0,
          0.00006491809472208843
         ],
         "yaxis": "y"
        },
        {
         "line": {
          "color": "rgb(230, 172, 255.0)"
         },
         "marker": {
          "color": "rgb(230, 172, 255.0)",
          "size": 10
         },
         "mode": "lines+markers",
         "type": "scatter",
         "x": [
          0,
          0.0000658018616377376
         ],
         "xaxis": "x",
         "y": [
          0,
          0.00006491809472208843
         ],
         "yaxis": "y"
        },
        {
         "line": {
          "color": "rgb(230, 172, 255.0)"
         },
         "marker": {
          "color": "rgb(230, 172, 255.0)",
          "size": 10
         },
         "mode": "lines+markers",
         "type": "scatter",
         "x": [
          0,
          0.0000658018616377376
         ],
         "xaxis": "x",
         "y": [
          0,
          0.00006491809472208843
         ],
         "yaxis": "y"
        },
        {
         "line": {
          "color": "rgb(230, 172, 255.0)"
         },
         "marker": {
          "color": "rgb(230, 172, 255.0)",
          "size": 10
         },
         "mode": "lines+markers",
         "type": "scatter",
         "x": [
          0,
          0.0000658018616377376
         ],
         "xaxis": "x",
         "y": [
          0,
          0.00006491809472208843
         ],
         "yaxis": "y"
        },
        {
         "line": {
          "color": "rgb(230, 172, 255.0)"
         },
         "marker": {
          "color": "rgb(230, 172, 255.0)",
          "size": 10
         },
         "mode": "lines+markers",
         "type": "scatter",
         "x": [
          0,
          0.0000658018616377376
         ],
         "xaxis": "x",
         "y": [
          0,
          0.00006491809472208843
         ],
         "yaxis": "y"
        },
        {
         "line": {
          "color": "rgb(230, 172, 255.0)"
         },
         "marker": {
          "color": "rgb(230, 172, 255.0)",
          "size": 10
         },
         "mode": "lines+markers",
         "type": "scatter",
         "x": [
          0,
          0.0000658018616377376
         ],
         "xaxis": "x",
         "y": [
          0,
          0.00006491809472208843
         ],
         "yaxis": "y"
        },
        {
         "line": {
          "color": "rgb(230, 172, 255.0)"
         },
         "marker": {
          "color": "rgb(230, 172, 255.0)",
          "size": 10
         },
         "mode": "lines+markers",
         "type": "scatter",
         "x": [
          0,
          0.0000658018616377376
         ],
         "xaxis": "x",
         "y": [
          0,
          0.00006491809472208843
         ],
         "yaxis": "y"
        },
        {
         "line": {
          "color": "rgb(230, 172, 255.0)"
         },
         "marker": {
          "color": "rgb(230, 172, 255.0)",
          "size": 10
         },
         "mode": "lines+markers",
         "type": "scatter",
         "x": [
          0,
          0.0000658018616377376
         ],
         "xaxis": "x",
         "y": [
          0,
          0.00006491809472208843
         ],
         "yaxis": "y"
        },
        {
         "line": {
          "color": "rgb(230, 172, 255.0)"
         },
         "marker": {
          "color": "rgb(230, 172, 255.0)",
          "size": 10
         },
         "mode": "lines+markers",
         "type": "scatter",
         "x": [
          0,
          0.0000658018616377376
         ],
         "xaxis": "x",
         "y": [
          0,
          0.00006491809472208843
         ],
         "yaxis": "y"
        },
        {
         "line": {
          "color": "rgb(230, 172, 255.0)"
         },
         "marker": {
          "color": "rgb(230, 172, 255.0)",
          "size": 10
         },
         "mode": "lines+markers",
         "type": "scatter",
         "x": [
          0,
          0.0000658018616377376
         ],
         "xaxis": "x",
         "y": [
          0,
          0.00006491809472208843
         ],
         "yaxis": "y"
        },
        {
         "line": {
          "color": "rgb(230, 172, 255.0)"
         },
         "marker": {
          "color": "rgb(230, 172, 255.0)",
          "size": 10
         },
         "mode": "lines+markers",
         "type": "scatter",
         "x": [
          0,
          0.0000658018616377376
         ],
         "xaxis": "x",
         "y": [
          0,
          0.00006491809472208843
         ],
         "yaxis": "y"
        },
        {
         "line": {
          "color": "rgb(230, 172, 255.0)"
         },
         "marker": {
          "color": "rgb(230, 172, 255.0)",
          "size": 10
         },
         "mode": "lines+markers",
         "type": "scatter",
         "x": [
          0,
          0.0000658018616377376
         ],
         "xaxis": "x",
         "y": [
          0,
          0.00006491809472208843
         ],
         "yaxis": "y"
        },
        {
         "line": {
          "color": "rgb(230, 172, 255.0)"
         },
         "marker": {
          "color": "rgb(230, 172, 255.0)",
          "size": 10
         },
         "mode": "lines+markers",
         "type": "scatter",
         "x": [
          0,
          0.0000658018616377376
         ],
         "xaxis": "x",
         "y": [
          0,
          0.00006491809472208843
         ],
         "yaxis": "y"
        },
        {
         "line": {
          "color": "rgb(230, 172, 255.0)"
         },
         "marker": {
          "color": "rgb(230, 172, 255.0)",
          "size": 10
         },
         "mode": "lines+markers",
         "type": "scatter",
         "x": [
          0,
          0.0000658018616377376
         ],
         "xaxis": "x",
         "y": [
          0,
          0.00006491809472208843
         ],
         "yaxis": "y"
        },
        {
         "line": {
          "color": "rgb(230, 172, 255.0)"
         },
         "marker": {
          "color": "rgb(230, 172, 255.0)",
          "size": 10
         },
         "mode": "lines+markers",
         "type": "scatter",
         "x": [
          0,
          0.0000658018616377376
         ],
         "xaxis": "x",
         "y": [
          0,
          0.00006491809472208843
         ],
         "yaxis": "y"
        },
        {
         "line": {
          "color": "rgb(230, 172, 255.0)"
         },
         "marker": {
          "color": "rgb(230, 172, 255.0)",
          "size": 10
         },
         "mode": "lines+markers",
         "type": "scatter",
         "x": [
          0,
          0.0000658018616377376
         ],
         "xaxis": "x",
         "y": [
          0,
          0.00006491809472208843
         ],
         "yaxis": "y"
        },
        {
         "line": {
          "color": "rgb(230, 172, 255.0)"
         },
         "marker": {
          "color": "rgb(230, 172, 255.0)",
          "size": 10
         },
         "mode": "lines+markers",
         "type": "scatter",
         "x": [
          0,
          0.0000658018616377376
         ],
         "xaxis": "x",
         "y": [
          0,
          0.00006491809472208843
         ],
         "yaxis": "y"
        },
        {
         "line": {
          "color": "rgb(230, 172, 255.0)"
         },
         "marker": {
          "color": "rgb(230, 172, 255.0)",
          "size": 10
         },
         "mode": "lines+markers",
         "type": "scatter",
         "x": [
          0,
          0.0000658018616377376
         ],
         "xaxis": "x",
         "y": [
          0,
          0.00006491809472208843
         ],
         "yaxis": "y"
        },
        {
         "line": {
          "color": "rgb(230, 172, 255.0)"
         },
         "marker": {
          "color": "rgb(230, 172, 255.0)",
          "size": 10
         },
         "mode": "lines+markers",
         "type": "scatter",
         "x": [
          0,
          0.0000658018616377376
         ],
         "xaxis": "x",
         "y": [
          0,
          0.00006491809472208843
         ],
         "yaxis": "y"
        },
        {
         "line": {
          "color": "rgb(230, 172, 255.0)"
         },
         "marker": {
          "color": "rgb(230, 172, 255.0)",
          "size": 10
         },
         "mode": "lines+markers",
         "type": "scatter",
         "x": [
          0,
          0.0000658018616377376
         ],
         "xaxis": "x",
         "y": [
          0,
          0.00006491809472208843
         ],
         "yaxis": "y"
        },
        {
         "line": {
          "color": "rgb(230, 172, 255.0)"
         },
         "marker": {
          "color": "rgb(230, 172, 255.0)",
          "size": 10
         },
         "mode": "lines+markers",
         "type": "scatter",
         "x": [
          0,
          0.0000658018616377376
         ],
         "xaxis": "x",
         "y": [
          0,
          0.00006491809472208843
         ],
         "yaxis": "y"
        },
        {
         "line": {
          "color": "rgb(230, 172, 255.0)"
         },
         "marker": {
          "color": "rgb(230, 172, 255.0)",
          "size": 10
         },
         "mode": "lines+markers",
         "type": "scatter",
         "x": [
          0,
          0.0000658018616377376
         ],
         "xaxis": "x",
         "y": [
          0,
          0.00006491809472208843
         ],
         "yaxis": "y"
        },
        {
         "line": {
          "color": "rgb(230, 172, 255.0)"
         },
         "marker": {
          "color": "rgb(230, 172, 255.0)",
          "size": 10
         },
         "mode": "lines+markers",
         "type": "scatter",
         "x": [
          0,
          0.0000658018616377376
         ],
         "xaxis": "x",
         "y": [
          0,
          0.00006491809472208843
         ],
         "yaxis": "y"
        },
        {
         "line": {
          "color": "rgb(230, 172, 255.0)"
         },
         "marker": {
          "color": "rgb(230, 172, 255.0)",
          "size": 10
         },
         "mode": "lines+markers",
         "type": "scatter",
         "x": [
          0,
          0.0000658018616377376
         ],
         "xaxis": "x",
         "y": [
          0,
          0.00006491809472208843
         ],
         "yaxis": "y"
        },
        {
         "line": {
          "color": "rgb(230, 172, 255.0)"
         },
         "marker": {
          "color": "rgb(230, 172, 255.0)",
          "size": 10
         },
         "mode": "lines+markers",
         "type": "scatter",
         "x": [
          0,
          0.0000658018616377376
         ],
         "xaxis": "x",
         "y": [
          0,
          0.00006491809472208843
         ],
         "yaxis": "y"
        },
        {
         "line": {
          "color": "rgb(230, 172, 255.0)"
         },
         "marker": {
          "color": "rgb(230, 172, 255.0)",
          "size": 10
         },
         "mode": "lines+markers",
         "type": "scatter",
         "x": [
          0,
          0.0000658018616377376
         ],
         "xaxis": "x",
         "y": [
          0,
          0.00006491809472208843
         ],
         "yaxis": "y"
        },
        {
         "line": {
          "color": "rgb(230, 172, 255.0)"
         },
         "marker": {
          "color": "rgb(230, 172, 255.0)",
          "size": 10
         },
         "mode": "lines+markers",
         "type": "scatter",
         "x": [
          0,
          0.0000658018616377376
         ],
         "xaxis": "x",
         "y": [
          0,
          0.00006491809472208843
         ],
         "yaxis": "y"
        },
        {
         "line": {
          "color": "rgb(230, 172, 255.0)"
         },
         "marker": {
          "color": "rgb(230, 172, 255.0)",
          "size": 10
         },
         "mode": "lines+markers",
         "type": "scatter",
         "x": [
          0,
          0.0000658018616377376
         ],
         "xaxis": "x",
         "y": [
          0,
          0.00006491809472208843
         ],
         "yaxis": "y"
        },
        {
         "line": {
          "color": "rgb(230, 172, 255.0)"
         },
         "marker": {
          "color": "rgb(230, 172, 255.0)",
          "size": 10
         },
         "mode": "lines+markers",
         "type": "scatter",
         "x": [
          0,
          0.0000658018616377376
         ],
         "xaxis": "x",
         "y": [
          0,
          0.00006491809472208843
         ],
         "yaxis": "y"
        },
        {
         "line": {
          "color": "rgb(230, 172, 255.0)"
         },
         "marker": {
          "color": "rgb(230, 172, 255.0)",
          "size": 10
         },
         "mode": "lines+markers",
         "type": "scatter",
         "x": [
          0,
          0.0000658018616377376
         ],
         "xaxis": "x",
         "y": [
          0,
          0.00006491809472208843
         ],
         "yaxis": "y"
        },
        {
         "line": {
          "color": "rgb(230, 172, 255.0)"
         },
         "marker": {
          "color": "rgb(230, 172, 255.0)",
          "size": 10
         },
         "mode": "lines+markers",
         "type": "scatter",
         "x": [
          0,
          0.0000658018616377376
         ],
         "xaxis": "x",
         "y": [
          0,
          0.00006491809472208843
         ],
         "yaxis": "y"
        },
        {
         "line": {
          "color": "rgb(230, 172, 255.0)"
         },
         "marker": {
          "color": "rgb(230, 172, 255.0)",
          "size": 10
         },
         "mode": "lines+markers",
         "type": "scatter",
         "x": [
          0,
          0.0000658018616377376
         ],
         "xaxis": "x",
         "y": [
          0,
          0.00006491809472208843
         ],
         "yaxis": "y"
        },
        {
         "line": {
          "color": "rgb(230, 172, 255.0)"
         },
         "marker": {
          "color": "rgb(230, 172, 255.0)",
          "size": 10
         },
         "mode": "lines+markers",
         "type": "scatter",
         "x": [
          0,
          0.0000658018616377376
         ],
         "xaxis": "x",
         "y": [
          0,
          0.00006491809472208843
         ],
         "yaxis": "y"
        },
        {
         "line": {
          "color": "rgb(230, 172, 255.0)"
         },
         "marker": {
          "color": "rgb(230, 172, 255.0)",
          "size": 10
         },
         "mode": "lines+markers",
         "type": "scatter",
         "x": [
          0,
          0.0000658018616377376
         ],
         "xaxis": "x",
         "y": [
          0,
          0.00006491809472208843
         ],
         "yaxis": "y"
        },
        {
         "line": {
          "color": "rgb(230, 172, 255.0)"
         },
         "marker": {
          "color": "rgb(230, 172, 255.0)",
          "size": 10
         },
         "mode": "lines+markers",
         "type": "scatter",
         "x": [
          0,
          0.0000658018616377376
         ],
         "xaxis": "x",
         "y": [
          0,
          0.00006491809472208843
         ],
         "yaxis": "y"
        },
        {
         "line": {
          "color": "rgb(230, 172, 255.0)"
         },
         "marker": {
          "color": "rgb(230, 172, 255.0)",
          "size": 10
         },
         "mode": "lines+markers",
         "type": "scatter",
         "x": [
          0,
          0.0000658018616377376
         ],
         "xaxis": "x",
         "y": [
          0,
          0.00006491809472208843
         ],
         "yaxis": "y"
        },
        {
         "line": {
          "color": "rgb(230, 172, 255.0)"
         },
         "marker": {
          "color": "rgb(230, 172, 255.0)",
          "size": 10
         },
         "mode": "lines+markers",
         "type": "scatter",
         "x": [
          0,
          0.0000658018616377376
         ],
         "xaxis": "x",
         "y": [
          0,
          0.00006491809472208843
         ],
         "yaxis": "y"
        },
        {
         "line": {
          "color": "rgb(230, 172, 255.0)"
         },
         "marker": {
          "color": "rgb(230, 172, 255.0)",
          "size": 10
         },
         "mode": "lines+markers",
         "type": "scatter",
         "x": [
          0,
          0.0000658018616377376
         ],
         "xaxis": "x",
         "y": [
          0,
          0.00006491809472208843
         ],
         "yaxis": "y"
        },
        {
         "line": {
          "color": "rgb(230, 172, 255.0)"
         },
         "marker": {
          "color": "rgb(230, 172, 255.0)",
          "size": 10
         },
         "mode": "lines+markers",
         "type": "scatter",
         "x": [
          0,
          0.0000658018616377376
         ],
         "xaxis": "x",
         "y": [
          0,
          0.00006491809472208843
         ],
         "yaxis": "y"
        },
        {
         "line": {
          "color": "rgb(230, 172, 255.0)"
         },
         "marker": {
          "color": "rgb(230, 172, 255.0)",
          "size": 10
         },
         "mode": "lines+markers",
         "type": "scatter",
         "x": [
          0,
          0.0000658018616377376
         ],
         "xaxis": "x",
         "y": [
          0,
          0.00006491809472208843
         ],
         "yaxis": "y"
        },
        {
         "line": {
          "color": "rgb(230, 172, 255.0)"
         },
         "marker": {
          "color": "rgb(230, 172, 255.0)",
          "size": 10
         },
         "mode": "lines+markers",
         "type": "scatter",
         "x": [
          0,
          0.0000658018616377376
         ],
         "xaxis": "x",
         "y": [
          0,
          0.00006491809472208843
         ],
         "yaxis": "y"
        },
        {
         "line": {
          "color": "rgb(230, 172, 255.0)"
         },
         "marker": {
          "color": "rgb(230, 172, 255.0)",
          "size": 10
         },
         "mode": "lines+markers",
         "type": "scatter",
         "x": [
          0,
          0.0000658018616377376
         ],
         "xaxis": "x",
         "y": [
          0,
          0.00006491809472208843
         ],
         "yaxis": "y"
        },
        {
         "line": {
          "color": "rgb(230, 172, 255.0)"
         },
         "marker": {
          "color": "rgb(230, 172, 255.0)",
          "size": 10
         },
         "mode": "lines+markers",
         "type": "scatter",
         "x": [
          0,
          0.0000658018616377376
         ],
         "xaxis": "x",
         "y": [
          0,
          0.00006491809472208843
         ],
         "yaxis": "y"
        },
        {
         "line": {
          "color": "rgb(230, 172, 255.0)"
         },
         "marker": {
          "color": "rgb(230, 172, 255.0)",
          "size": 10
         },
         "mode": "lines+markers",
         "type": "scatter",
         "x": [
          0,
          0.0000658018616377376
         ],
         "xaxis": "x",
         "y": [
          0,
          0.00006491809472208843
         ],
         "yaxis": "y"
        },
        {
         "line": {
          "color": "rgb(230, 172, 255.0)"
         },
         "marker": {
          "color": "rgb(230, 172, 255.0)",
          "size": 10
         },
         "mode": "lines+markers",
         "type": "scatter",
         "x": [
          0,
          0.0000658018616377376
         ],
         "xaxis": "x",
         "y": [
          0,
          0.00006491809472208843
         ],
         "yaxis": "y"
        },
        {
         "line": {
          "color": "rgb(230, 172, 255.0)"
         },
         "marker": {
          "color": "rgb(230, 172, 255.0)",
          "size": 10
         },
         "mode": "lines+markers",
         "type": "scatter",
         "x": [
          0,
          0.0000658018616377376
         ],
         "xaxis": "x",
         "y": [
          0,
          0.00006491809472208843
         ],
         "yaxis": "y"
        },
        {
         "line": {
          "color": "rgb(230, 172, 255.0)"
         },
         "marker": {
          "color": "rgb(230, 172, 255.0)",
          "size": 10
         },
         "mode": "lines+markers",
         "type": "scatter",
         "x": [
          0,
          0.0000658018616377376
         ],
         "xaxis": "x",
         "y": [
          0,
          0.00006491809472208843
         ],
         "yaxis": "y"
        },
        {
         "line": {
          "color": "rgb(230, 172, 255.0)"
         },
         "marker": {
          "color": "rgb(230, 172, 255.0)",
          "size": 10
         },
         "mode": "lines+markers",
         "type": "scatter",
         "x": [
          0,
          0.0000658018616377376
         ],
         "xaxis": "x",
         "y": [
          0,
          0.00006491809472208843
         ],
         "yaxis": "y"
        },
        {
         "line": {
          "color": "rgb(230, 172, 255.0)"
         },
         "marker": {
          "color": "rgb(230, 172, 255.0)",
          "size": 10
         },
         "mode": "lines+markers",
         "type": "scatter",
         "x": [
          0,
          0.0000658018616377376
         ],
         "xaxis": "x",
         "y": [
          0,
          0.00006491809472208843
         ],
         "yaxis": "y"
        },
        {
         "line": {
          "color": "rgb(230, 172, 255.0)"
         },
         "marker": {
          "color": "rgb(230, 172, 255.0)",
          "size": 10
         },
         "mode": "lines+markers",
         "type": "scatter",
         "x": [
          0,
          0.0000658018616377376
         ],
         "xaxis": "x",
         "y": [
          0,
          0.00006491809472208843
         ],
         "yaxis": "y"
        },
        {
         "line": {
          "color": "rgb(230, 172, 255.0)"
         },
         "marker": {
          "color": "rgb(230, 172, 255.0)",
          "size": 10
         },
         "mode": "lines+markers",
         "type": "scatter",
         "x": [
          0,
          0.0000658018616377376
         ],
         "xaxis": "x",
         "y": [
          0,
          0.00006491809472208843
         ],
         "yaxis": "y"
        },
        {
         "line": {
          "color": "rgb(230, 172, 255.0)"
         },
         "marker": {
          "color": "rgb(230, 172, 255.0)",
          "size": 10
         },
         "mode": "lines+markers",
         "type": "scatter",
         "x": [
          0,
          0.0000658018616377376
         ],
         "xaxis": "x",
         "y": [
          0,
          0.00006491809472208843
         ],
         "yaxis": "y"
        },
        {
         "line": {
          "color": "rgb(230, 172, 255.0)"
         },
         "marker": {
          "color": "rgb(230, 172, 255.0)",
          "size": 10
         },
         "mode": "lines+markers",
         "type": "scatter",
         "x": [
          0,
          0.0000658018616377376
         ],
         "xaxis": "x",
         "y": [
          0,
          0.00006491809472208843
         ],
         "yaxis": "y"
        },
        {
         "line": {
          "color": "rgb(230, 172, 255.0)"
         },
         "marker": {
          "color": "rgb(230, 172, 255.0)",
          "size": 10
         },
         "mode": "lines+markers",
         "type": "scatter",
         "x": [
          0,
          0.0000658018616377376
         ],
         "xaxis": "x",
         "y": [
          0,
          0.00006491809472208843
         ],
         "yaxis": "y"
        },
        {
         "line": {
          "color": "rgb(230, 172, 255.0)"
         },
         "marker": {
          "color": "rgb(230, 172, 255.0)",
          "size": 10
         },
         "mode": "lines+markers",
         "type": "scatter",
         "x": [
          0,
          0.0000658018616377376
         ],
         "xaxis": "x",
         "y": [
          0,
          0.00006491809472208843
         ],
         "yaxis": "y"
        },
        {
         "line": {
          "color": "rgb(230, 172, 255.0)"
         },
         "marker": {
          "color": "rgb(230, 172, 255.0)",
          "size": 10
         },
         "mode": "lines+markers",
         "type": "scatter",
         "x": [
          0,
          0.0000658018616377376
         ],
         "xaxis": "x",
         "y": [
          0,
          0.00006491809472208843
         ],
         "yaxis": "y"
        },
        {
         "line": {
          "color": "rgb(230, 172, 255.0)"
         },
         "marker": {
          "color": "rgb(230, 172, 255.0)",
          "size": 10
         },
         "mode": "lines+markers",
         "type": "scatter",
         "x": [
          0,
          0.0000658018616377376
         ],
         "xaxis": "x",
         "y": [
          0,
          0.00006491809472208843
         ],
         "yaxis": "y"
        },
        {
         "line": {
          "color": "rgb(230, 172, 255.0)"
         },
         "marker": {
          "color": "rgb(230, 172, 255.0)",
          "size": 10
         },
         "mode": "lines+markers",
         "type": "scatter",
         "x": [
          0,
          0.0000658018616377376
         ],
         "xaxis": "x",
         "y": [
          0,
          0.00006491809472208843
         ],
         "yaxis": "y"
        },
        {
         "line": {
          "color": "rgb(230, 172, 255.0)"
         },
         "marker": {
          "color": "rgb(230, 172, 255.0)",
          "size": 10
         },
         "mode": "lines+markers",
         "type": "scatter",
         "x": [
          0,
          0.0000658018616377376
         ],
         "xaxis": "x",
         "y": [
          0,
          0.00006491809472208843
         ],
         "yaxis": "y"
        },
        {
         "line": {
          "color": "rgb(230, 172, 255.0)"
         },
         "marker": {
          "color": "rgb(230, 172, 255.0)",
          "size": 10
         },
         "mode": "lines+markers",
         "type": "scatter",
         "x": [
          0,
          0.0000658018616377376
         ],
         "xaxis": "x",
         "y": [
          0,
          0.00006491809472208843
         ],
         "yaxis": "y"
        },
        {
         "line": {
          "color": "rgb(230, 172, 255.0)"
         },
         "marker": {
          "color": "rgb(230, 172, 255.0)",
          "size": 10
         },
         "mode": "lines+markers",
         "type": "scatter",
         "x": [
          0,
          0.0000658018616377376
         ],
         "xaxis": "x",
         "y": [
          0,
          0.00006491809472208843
         ],
         "yaxis": "y"
        },
        {
         "line": {
          "color": "rgb(230, 172, 255.0)"
         },
         "marker": {
          "color": "rgb(230, 172, 255.0)",
          "size": 10
         },
         "mode": "lines+markers",
         "type": "scatter",
         "x": [
          0,
          0.0000658018616377376
         ],
         "xaxis": "x",
         "y": [
          0,
          0.00006491809472208843
         ],
         "yaxis": "y"
        },
        {
         "line": {
          "color": "rgb(230, 172, 255.0)"
         },
         "marker": {
          "color": "rgb(230, 172, 255.0)",
          "size": 10
         },
         "mode": "lines+markers",
         "type": "scatter",
         "x": [
          0,
          0.0000658018616377376
         ],
         "xaxis": "x",
         "y": [
          0,
          0.00006491809472208843
         ],
         "yaxis": "y"
        },
        {
         "line": {
          "color": "rgb(230, 172, 255.0)"
         },
         "marker": {
          "color": "rgb(230, 172, 255.0)",
          "size": 10
         },
         "mode": "lines+markers",
         "type": "scatter",
         "x": [
          0,
          0.0000658018616377376
         ],
         "xaxis": "x",
         "y": [
          0,
          0.00006491809472208843
         ],
         "yaxis": "y"
        },
        {
         "line": {
          "color": "rgb(230, 172, 255.0)"
         },
         "marker": {
          "color": "rgb(230, 172, 255.0)",
          "size": 10
         },
         "mode": "lines+markers",
         "type": "scatter",
         "x": [
          0,
          0.0000658018616377376
         ],
         "xaxis": "x",
         "y": [
          0,
          0.00006491809472208843
         ],
         "yaxis": "y"
        },
        {
         "line": {
          "color": "rgb(230, 172, 255.0)"
         },
         "marker": {
          "color": "rgb(230, 172, 255.0)",
          "size": 10
         },
         "mode": "lines+markers",
         "type": "scatter",
         "x": [
          0,
          0.0000658018616377376
         ],
         "xaxis": "x",
         "y": [
          0,
          0.00006491809472208843
         ],
         "yaxis": "y"
        },
        {
         "line": {
          "color": "rgb(230, 172, 255.0)"
         },
         "marker": {
          "color": "rgb(230, 172, 255.0)",
          "size": 10
         },
         "mode": "lines+markers",
         "type": "scatter",
         "x": [
          0,
          0.0000658018616377376
         ],
         "xaxis": "x",
         "y": [
          0,
          0.00006491809472208843
         ],
         "yaxis": "y"
        },
        {
         "line": {
          "color": "rgb(230, 172, 255.0)"
         },
         "marker": {
          "color": "rgb(230, 172, 255.0)",
          "size": 10
         },
         "mode": "lines+markers",
         "type": "scatter",
         "x": [
          0,
          0.0000658018616377376
         ],
         "xaxis": "x",
         "y": [
          0,
          0.00006491809472208843
         ],
         "yaxis": "y"
        },
        {
         "line": {
          "color": "rgb(230, 172, 255.0)"
         },
         "marker": {
          "color": "rgb(230, 172, 255.0)",
          "size": 10
         },
         "mode": "lines+markers",
         "type": "scatter",
         "x": [
          0,
          0.0000658018616377376
         ],
         "xaxis": "x",
         "y": [
          0,
          0.00006491809472208843
         ],
         "yaxis": "y"
        },
        {
         "line": {
          "color": "rgb(230, 172, 255.0)"
         },
         "marker": {
          "color": "rgb(230, 172, 255.0)",
          "size": 10
         },
         "mode": "lines+markers",
         "type": "scatter",
         "x": [
          0,
          0.0000658018616377376
         ],
         "xaxis": "x",
         "y": [
          0,
          0.00006491809472208843
         ],
         "yaxis": "y"
        },
        {
         "line": {
          "color": "rgb(230, 172, 255.0)"
         },
         "marker": {
          "color": "rgb(230, 172, 255.0)",
          "size": 10
         },
         "mode": "lines+markers",
         "type": "scatter",
         "x": [
          0,
          0.0000658018616377376
         ],
         "xaxis": "x",
         "y": [
          0,
          0.00006491809472208843
         ],
         "yaxis": "y"
        },
        {
         "line": {
          "color": "rgb(230, 172, 255.0)"
         },
         "marker": {
          "color": "rgb(230, 172, 255.0)",
          "size": 10
         },
         "mode": "lines+markers",
         "type": "scatter",
         "x": [
          0,
          0.0000658018616377376
         ],
         "xaxis": "x",
         "y": [
          0,
          0.00006491809472208843
         ],
         "yaxis": "y"
        },
        {
         "line": {
          "color": "rgb(230, 172, 255.0)"
         },
         "marker": {
          "color": "rgb(230, 172, 255.0)",
          "size": 10
         },
         "mode": "lines+markers",
         "type": "scatter",
         "x": [
          0,
          0.0000658018616377376
         ],
         "xaxis": "x",
         "y": [
          0,
          0.00006491809472208843
         ],
         "yaxis": "y"
        },
        {
         "line": {
          "color": "rgb(230, 172, 255.0)"
         },
         "marker": {
          "color": "rgb(230, 172, 255.0)",
          "size": 10
         },
         "mode": "lines+markers",
         "type": "scatter",
         "x": [
          0,
          0.0000658018616377376
         ],
         "xaxis": "x",
         "y": [
          0,
          0.00006491809472208843
         ],
         "yaxis": "y"
        },
        {
         "line": {
          "color": "rgb(230, 172, 255.0)"
         },
         "marker": {
          "color": "rgb(230, 172, 255.0)",
          "size": 10
         },
         "mode": "lines+markers",
         "type": "scatter",
         "x": [
          0,
          0.0000658018616377376
         ],
         "xaxis": "x",
         "y": [
          0,
          0.00006491809472208843
         ],
         "yaxis": "y"
        }
       ],
       "layout": {
        "height": 400,
        "template": {
         "data": {
          "bar": [
           {
            "error_x": {
             "color": "#2a3f5f"
            },
            "error_y": {
             "color": "#2a3f5f"
            },
            "marker": {
             "line": {
              "color": "#E5ECF6",
              "width": 0.5
             },
             "pattern": {
              "fillmode": "overlay",
              "size": 10,
              "solidity": 0.2
             }
            },
            "type": "bar"
           }
          ],
          "barpolar": [
           {
            "marker": {
             "line": {
              "color": "#E5ECF6",
              "width": 0.5
             },
             "pattern": {
              "fillmode": "overlay",
              "size": 10,
              "solidity": 0.2
             }
            },
            "type": "barpolar"
           }
          ],
          "carpet": [
           {
            "aaxis": {
             "endlinecolor": "#2a3f5f",
             "gridcolor": "white",
             "linecolor": "white",
             "minorgridcolor": "white",
             "startlinecolor": "#2a3f5f"
            },
            "baxis": {
             "endlinecolor": "#2a3f5f",
             "gridcolor": "white",
             "linecolor": "white",
             "minorgridcolor": "white",
             "startlinecolor": "#2a3f5f"
            },
            "type": "carpet"
           }
          ],
          "choropleth": [
           {
            "colorbar": {
             "outlinewidth": 0,
             "ticks": ""
            },
            "type": "choropleth"
           }
          ],
          "contour": [
           {
            "colorbar": {
             "outlinewidth": 0,
             "ticks": ""
            },
            "colorscale": [
             [
              0,
              "#0d0887"
             ],
             [
              0.1111111111111111,
              "#46039f"
             ],
             [
              0.2222222222222222,
              "#7201a8"
             ],
             [
              0.3333333333333333,
              "#9c179e"
             ],
             [
              0.4444444444444444,
              "#bd3786"
             ],
             [
              0.5555555555555556,
              "#d8576b"
             ],
             [
              0.6666666666666666,
              "#ed7953"
             ],
             [
              0.7777777777777778,
              "#fb9f3a"
             ],
             [
              0.8888888888888888,
              "#fdca26"
             ],
             [
              1,
              "#f0f921"
             ]
            ],
            "type": "contour"
           }
          ],
          "contourcarpet": [
           {
            "colorbar": {
             "outlinewidth": 0,
             "ticks": ""
            },
            "type": "contourcarpet"
           }
          ],
          "heatmap": [
           {
            "colorbar": {
             "outlinewidth": 0,
             "ticks": ""
            },
            "colorscale": [
             [
              0,
              "#0d0887"
             ],
             [
              0.1111111111111111,
              "#46039f"
             ],
             [
              0.2222222222222222,
              "#7201a8"
             ],
             [
              0.3333333333333333,
              "#9c179e"
             ],
             [
              0.4444444444444444,
              "#bd3786"
             ],
             [
              0.5555555555555556,
              "#d8576b"
             ],
             [
              0.6666666666666666,
              "#ed7953"
             ],
             [
              0.7777777777777778,
              "#fb9f3a"
             ],
             [
              0.8888888888888888,
              "#fdca26"
             ],
             [
              1,
              "#f0f921"
             ]
            ],
            "type": "heatmap"
           }
          ],
          "heatmapgl": [
           {
            "colorbar": {
             "outlinewidth": 0,
             "ticks": ""
            },
            "colorscale": [
             [
              0,
              "#0d0887"
             ],
             [
              0.1111111111111111,
              "#46039f"
             ],
             [
              0.2222222222222222,
              "#7201a8"
             ],
             [
              0.3333333333333333,
              "#9c179e"
             ],
             [
              0.4444444444444444,
              "#bd3786"
             ],
             [
              0.5555555555555556,
              "#d8576b"
             ],
             [
              0.6666666666666666,
              "#ed7953"
             ],
             [
              0.7777777777777778,
              "#fb9f3a"
             ],
             [
              0.8888888888888888,
              "#fdca26"
             ],
             [
              1,
              "#f0f921"
             ]
            ],
            "type": "heatmapgl"
           }
          ],
          "histogram": [
           {
            "marker": {
             "pattern": {
              "fillmode": "overlay",
              "size": 10,
              "solidity": 0.2
             }
            },
            "type": "histogram"
           }
          ],
          "histogram2d": [
           {
            "colorbar": {
             "outlinewidth": 0,
             "ticks": ""
            },
            "colorscale": [
             [
              0,
              "#0d0887"
             ],
             [
              0.1111111111111111,
              "#46039f"
             ],
             [
              0.2222222222222222,
              "#7201a8"
             ],
             [
              0.3333333333333333,
              "#9c179e"
             ],
             [
              0.4444444444444444,
              "#bd3786"
             ],
             [
              0.5555555555555556,
              "#d8576b"
             ],
             [
              0.6666666666666666,
              "#ed7953"
             ],
             [
              0.7777777777777778,
              "#fb9f3a"
             ],
             [
              0.8888888888888888,
              "#fdca26"
             ],
             [
              1,
              "#f0f921"
             ]
            ],
            "type": "histogram2d"
           }
          ],
          "histogram2dcontour": [
           {
            "colorbar": {
             "outlinewidth": 0,
             "ticks": ""
            },
            "colorscale": [
             [
              0,
              "#0d0887"
             ],
             [
              0.1111111111111111,
              "#46039f"
             ],
             [
              0.2222222222222222,
              "#7201a8"
             ],
             [
              0.3333333333333333,
              "#9c179e"
             ],
             [
              0.4444444444444444,
              "#bd3786"
             ],
             [
              0.5555555555555556,
              "#d8576b"
             ],
             [
              0.6666666666666666,
              "#ed7953"
             ],
             [
              0.7777777777777778,
              "#fb9f3a"
             ],
             [
              0.8888888888888888,
              "#fdca26"
             ],
             [
              1,
              "#f0f921"
             ]
            ],
            "type": "histogram2dcontour"
           }
          ],
          "mesh3d": [
           {
            "colorbar": {
             "outlinewidth": 0,
             "ticks": ""
            },
            "type": "mesh3d"
           }
          ],
          "parcoords": [
           {
            "line": {
             "colorbar": {
              "outlinewidth": 0,
              "ticks": ""
             }
            },
            "type": "parcoords"
           }
          ],
          "pie": [
           {
            "automargin": true,
            "type": "pie"
           }
          ],
          "scatter": [
           {
            "fillpattern": {
             "fillmode": "overlay",
             "size": 10,
             "solidity": 0.2
            },
            "type": "scatter"
           }
          ],
          "scatter3d": [
           {
            "line": {
             "colorbar": {
              "outlinewidth": 0,
              "ticks": ""
             }
            },
            "marker": {
             "colorbar": {
              "outlinewidth": 0,
              "ticks": ""
             }
            },
            "type": "scatter3d"
           }
          ],
          "scattercarpet": [
           {
            "marker": {
             "colorbar": {
              "outlinewidth": 0,
              "ticks": ""
             }
            },
            "type": "scattercarpet"
           }
          ],
          "scattergeo": [
           {
            "marker": {
             "colorbar": {
              "outlinewidth": 0,
              "ticks": ""
             }
            },
            "type": "scattergeo"
           }
          ],
          "scattergl": [
           {
            "marker": {
             "colorbar": {
              "outlinewidth": 0,
              "ticks": ""
             }
            },
            "type": "scattergl"
           }
          ],
          "scattermapbox": [
           {
            "marker": {
             "colorbar": {
              "outlinewidth": 0,
              "ticks": ""
             }
            },
            "type": "scattermapbox"
           }
          ],
          "scatterpolar": [
           {
            "marker": {
             "colorbar": {
              "outlinewidth": 0,
              "ticks": ""
             }
            },
            "type": "scatterpolar"
           }
          ],
          "scatterpolargl": [
           {
            "marker": {
             "colorbar": {
              "outlinewidth": 0,
              "ticks": ""
             }
            },
            "type": "scatterpolargl"
           }
          ],
          "scatterternary": [
           {
            "marker": {
             "colorbar": {
              "outlinewidth": 0,
              "ticks": ""
             }
            },
            "type": "scatterternary"
           }
          ],
          "surface": [
           {
            "colorbar": {
             "outlinewidth": 0,
             "ticks": ""
            },
            "colorscale": [
             [
              0,
              "#0d0887"
             ],
             [
              0.1111111111111111,
              "#46039f"
             ],
             [
              0.2222222222222222,
              "#7201a8"
             ],
             [
              0.3333333333333333,
              "#9c179e"
             ],
             [
              0.4444444444444444,
              "#bd3786"
             ],
             [
              0.5555555555555556,
              "#d8576b"
             ],
             [
              0.6666666666666666,
              "#ed7953"
             ],
             [
              0.7777777777777778,
              "#fb9f3a"
             ],
             [
              0.8888888888888888,
              "#fdca26"
             ],
             [
              1,
              "#f0f921"
             ]
            ],
            "type": "surface"
           }
          ],
          "table": [
           {
            "cells": {
             "fill": {
              "color": "#EBF0F8"
             },
             "line": {
              "color": "white"
             }
            },
            "header": {
             "fill": {
              "color": "#C8D4E3"
             },
             "line": {
              "color": "white"
             }
            },
            "type": "table"
           }
          ]
         },
         "layout": {
          "annotationdefaults": {
           "arrowcolor": "#2a3f5f",
           "arrowhead": 0,
           "arrowwidth": 1
          },
          "autotypenumbers": "strict",
          "coloraxis": {
           "colorbar": {
            "outlinewidth": 0,
            "ticks": ""
           }
          },
          "colorscale": {
           "diverging": [
            [
             0,
             "#8e0152"
            ],
            [
             0.1,
             "#c51b7d"
            ],
            [
             0.2,
             "#de77ae"
            ],
            [
             0.3,
             "#f1b6da"
            ],
            [
             0.4,
             "#fde0ef"
            ],
            [
             0.5,
             "#f7f7f7"
            ],
            [
             0.6,
             "#e6f5d0"
            ],
            [
             0.7,
             "#b8e186"
            ],
            [
             0.8,
             "#7fbc41"
            ],
            [
             0.9,
             "#4d9221"
            ],
            [
             1,
             "#276419"
            ]
           ],
           "sequential": [
            [
             0,
             "#0d0887"
            ],
            [
             0.1111111111111111,
             "#46039f"
            ],
            [
             0.2222222222222222,
             "#7201a8"
            ],
            [
             0.3333333333333333,
             "#9c179e"
            ],
            [
             0.4444444444444444,
             "#bd3786"
            ],
            [
             0.5555555555555556,
             "#d8576b"
            ],
            [
             0.6666666666666666,
             "#ed7953"
            ],
            [
             0.7777777777777778,
             "#fb9f3a"
            ],
            [
             0.8888888888888888,
             "#fdca26"
            ],
            [
             1,
             "#f0f921"
            ]
           ],
           "sequentialminus": [
            [
             0,
             "#0d0887"
            ],
            [
             0.1111111111111111,
             "#46039f"
            ],
            [
             0.2222222222222222,
             "#7201a8"
            ],
            [
             0.3333333333333333,
             "#9c179e"
            ],
            [
             0.4444444444444444,
             "#bd3786"
            ],
            [
             0.5555555555555556,
             "#d8576b"
            ],
            [
             0.6666666666666666,
             "#ed7953"
            ],
            [
             0.7777777777777778,
             "#fb9f3a"
            ],
            [
             0.8888888888888888,
             "#fdca26"
            ],
            [
             1,
             "#f0f921"
            ]
           ]
          },
          "colorway": [
           "#636efa",
           "#EF553B",
           "#00cc96",
           "#ab63fa",
           "#FFA15A",
           "#19d3f3",
           "#FF6692",
           "#B6E880",
           "#FF97FF",
           "#FECB52"
          ],
          "font": {
           "color": "#2a3f5f"
          },
          "geo": {
           "bgcolor": "white",
           "lakecolor": "white",
           "landcolor": "#E5ECF6",
           "showlakes": true,
           "showland": true,
           "subunitcolor": "white"
          },
          "hoverlabel": {
           "align": "left"
          },
          "hovermode": "closest",
          "mapbox": {
           "style": "light"
          },
          "paper_bgcolor": "white",
          "plot_bgcolor": "#E5ECF6",
          "polar": {
           "angularaxis": {
            "gridcolor": "white",
            "linecolor": "white",
            "ticks": ""
           },
           "bgcolor": "#E5ECF6",
           "radialaxis": {
            "gridcolor": "white",
            "linecolor": "white",
            "ticks": ""
           }
          },
          "scene": {
           "xaxis": {
            "backgroundcolor": "#E5ECF6",
            "gridcolor": "white",
            "gridwidth": 2,
            "linecolor": "white",
            "showbackground": true,
            "ticks": "",
            "zerolinecolor": "white"
           },
           "yaxis": {
            "backgroundcolor": "#E5ECF6",
            "gridcolor": "white",
            "gridwidth": 2,
            "linecolor": "white",
            "showbackground": true,
            "ticks": "",
            "zerolinecolor": "white"
           },
           "zaxis": {
            "backgroundcolor": "#E5ECF6",
            "gridcolor": "white",
            "gridwidth": 2,
            "linecolor": "white",
            "showbackground": true,
            "ticks": "",
            "zerolinecolor": "white"
           }
          },
          "shapedefaults": {
           "line": {
            "color": "#2a3f5f"
           }
          },
          "ternary": {
           "aaxis": {
            "gridcolor": "white",
            "linecolor": "white",
            "ticks": ""
           },
           "baxis": {
            "gridcolor": "white",
            "linecolor": "white",
            "ticks": ""
           },
           "bgcolor": "#E5ECF6",
           "caxis": {
            "gridcolor": "white",
            "linecolor": "white",
            "ticks": ""
           }
          },
          "title": {
           "x": 0.05
          },
          "xaxis": {
           "automargin": true,
           "gridcolor": "white",
           "linecolor": "white",
           "ticks": "",
           "title": {
            "standoff": 15
           },
           "zerolinecolor": "white",
           "zerolinewidth": 2
          },
          "yaxis": {
           "automargin": true,
           "gridcolor": "white",
           "linecolor": "white",
           "ticks": "",
           "title": {
            "standoff": 15
           },
           "zerolinecolor": "white",
           "zerolinewidth": 2
          }
         }
        },
        "title": {
         "text": "SAE reconstruction of the same hidden data"
        },
        "width": 400,
        "xaxis": {
         "anchor": "y",
         "domain": [
          0,
          1
         ],
         "range": [
          -1.5,
          1.5
         ]
        },
        "yaxis": {
         "anchor": "x",
         "domain": [
          0,
          1
         ],
         "range": [
          -1.5,
          1.5
         ]
        }
       }
      }
     },
     "metadata": {},
     "output_type": "display_data"
    }
   ],
   "source": [
    "# reconstruct model outputs with SAE\n",
    "# looks like we see dead neurons? or there is a bug in training.\n",
    "reconstruction, _ = sae(model_embeddings)\n",
    "\n",
    "plot_learned_features(\n",
    "    cfg,\n",
    "    [reconstruction],\n",
    "    'SAE reconstruction of the same hidden data'\n",
    ")"
   ]
  },
  {
   "cell_type": "code",
   "execution_count": null,
   "metadata": {},
   "outputs": [],
   "source": []
  }
 ],
 "metadata": {
  "kernelspec": {
   "display_name": "deep_learning",
   "language": "python",
   "name": "python3"
  },
  "language_info": {
   "codemirror_mode": {
    "name": "ipython",
    "version": 3
   },
   "file_extension": ".py",
   "mimetype": "text/x-python",
   "name": "python",
   "nbconvert_exporter": "python",
   "pygments_lexer": "ipython3",
   "version": "3.10.9"
  }
 },
 "nbformat": 4,
 "nbformat_minor": 2
}
